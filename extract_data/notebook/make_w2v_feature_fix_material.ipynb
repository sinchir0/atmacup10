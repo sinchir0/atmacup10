{
 "cells": [
  {
   "cell_type": "code",
   "execution_count": 1,
   "metadata": {},
   "outputs": [
    {
     "name": "stderr",
     "output_type": "stream",
     "text": [
      "/Users/shinichiro.saito/opt/anaconda3/lib/python3.8/site-packages/tqdm/std.py:668: FutureWarning: The Panel class is removed from pandas. Accessing it from the top-level namespace will also be removed in the next version\n",
      "  from pandas import Panel\n"
     ]
    }
   ],
   "source": [
    "import pandas as pd\n",
    "import numpy as np\n",
    "\n",
    "from pathlib import Path\n",
    "\n",
    "from gensim.models import word2vec, KeyedVectors\n",
    "from tqdm import tqdm\n",
    "tqdm.pandas()"
   ]
  },
  {
   "cell_type": "code",
   "execution_count": 2,
   "metadata": {},
   "outputs": [],
   "source": [
    "sub = pd.read_csv('../../data/atmacup10__sample_submission.csv')\n",
    "color = pd.read_csv('../../data/color.csv')\n",
    "historical_person = pd.read_csv('../../data/historical_person.csv')\n",
    "maker = pd.read_csv('../../data/maker.csv')\n",
    "material = pd.read_csv('../../data/material.csv')\n",
    "collection = pd.read_csv('../../data/object_collection.csv')\n",
    "palette = pd.read_csv('../../data/palette.csv')\n",
    "principal_maker_occupation = pd.read_csv('../../data/principal_maker_occupation.csv')\n",
    "principal_maker = pd.read_csv('../../data/principal_maker.csv')\n",
    "\n",
    "#production_place = pd.read_csv('../../data/production_place.csv')\n",
    "production = pd.read_csv('../../extract_data/production_place_rename.csv').iloc[:,1:][['object_id','name']]\n",
    "production_country = pd.read_csv('../../extract_data/production_place_rename.csv').iloc[:,1:][['object_id','country_name']].rename(columns={'country_name':'name'})\n",
    "\n",
    "technique = pd.read_csv('../../data/technique.csv')\n",
    "test = pd.read_csv('../../data/test.csv')\n",
    "train = pd.read_csv('../../data/train.csv')"
   ]
  },
  {
   "cell_type": "code",
   "execution_count": 8,
   "metadata": {},
   "outputs": [],
   "source": [
    "import yaml\n",
    "with open(f'material.yml') as file:\n",
    "    material_dict = yaml.safe_load(file)"
   ]
  },
  {
   "cell_type": "code",
   "execution_count": 30,
   "metadata": {},
   "outputs": [
    {
     "data": {
      "text/html": [
       "<div>\n",
       "<style scoped>\n",
       "    .dataframe tbody tr th:only-of-type {\n",
       "        vertical-align: middle;\n",
       "    }\n",
       "\n",
       "    .dataframe tbody tr th {\n",
       "        vertical-align: top;\n",
       "    }\n",
       "\n",
       "    .dataframe thead th {\n",
       "        text-align: right;\n",
       "    }\n",
       "</style>\n",
       "<table border=\"1\" class=\"dataframe\">\n",
       "  <thead>\n",
       "    <tr style=\"text-align: right;\">\n",
       "      <th></th>\n",
       "      <th>object_id</th>\n",
       "      <th>name</th>\n",
       "    </tr>\n",
       "  </thead>\n",
       "  <tbody>\n",
       "    <tr>\n",
       "      <th>0</th>\n",
       "      <td>000405d9a5e3f49fc49d</td>\n",
       "      <td>paper</td>\n",
       "    </tr>\n",
       "    <tr>\n",
       "      <th>1</th>\n",
       "      <td>000405d9a5e3f49fc49d</td>\n",
       "      <td>board</td>\n",
       "    </tr>\n",
       "  </tbody>\n",
       "</table>\n",
       "</div>"
      ],
      "text/plain": [
       "              object_id   name\n",
       "0  000405d9a5e3f49fc49d  paper\n",
       "1  000405d9a5e3f49fc49d  board"
      ]
     },
     "execution_count": 30,
     "metadata": {},
     "output_type": "execute_result"
    }
   ],
   "source": [
    "material.head(2)"
   ]
  },
  {
   "cell_type": "code",
   "execution_count": 29,
   "metadata": {},
   "outputs": [],
   "source": [
    "def change_material(value):\n",
    "    for material in material_dict.keys():        \n",
    "        if value in material_dict[material]:\n",
    "            return material\n",
    "\n",
    "material['name'] = material['name'].apply(lambda x : change_material(x))"
   ]
  },
  {
   "cell_type": "code",
   "execution_count": 31,
   "metadata": {},
   "outputs": [
    {
     "data": {
      "text/html": [
       "<div>\n",
       "<style scoped>\n",
       "    .dataframe tbody tr th:only-of-type {\n",
       "        vertical-align: middle;\n",
       "    }\n",
       "\n",
       "    .dataframe tbody tr th {\n",
       "        vertical-align: top;\n",
       "    }\n",
       "\n",
       "    .dataframe thead th {\n",
       "        text-align: right;\n",
       "    }\n",
       "</style>\n",
       "<table border=\"1\" class=\"dataframe\">\n",
       "  <thead>\n",
       "    <tr style=\"text-align: right;\">\n",
       "      <th></th>\n",
       "      <th>object_id</th>\n",
       "      <th>name</th>\n",
       "    </tr>\n",
       "  </thead>\n",
       "  <tbody>\n",
       "    <tr>\n",
       "      <th>0</th>\n",
       "      <td>000405d9a5e3f49fc49d</td>\n",
       "      <td>paper</td>\n",
       "    </tr>\n",
       "    <tr>\n",
       "      <th>1</th>\n",
       "      <td>000405d9a5e3f49fc49d</td>\n",
       "      <td>board</td>\n",
       "    </tr>\n",
       "    <tr>\n",
       "      <th>2</th>\n",
       "      <td>001020bd00b149970f78</td>\n",
       "      <td>oil</td>\n",
       "    </tr>\n",
       "    <tr>\n",
       "      <th>3</th>\n",
       "      <td>001020bd00b149970f78</td>\n",
       "      <td>panel</td>\n",
       "    </tr>\n",
       "    <tr>\n",
       "      <th>4</th>\n",
       "      <td>0011d6be41612ec9eae3</td>\n",
       "      <td>oil</td>\n",
       "    </tr>\n",
       "  </tbody>\n",
       "</table>\n",
       "</div>"
      ],
      "text/plain": [
       "              object_id   name\n",
       "0  000405d9a5e3f49fc49d  paper\n",
       "1  000405d9a5e3f49fc49d  board\n",
       "2  001020bd00b149970f78    oil\n",
       "3  001020bd00b149970f78  panel\n",
       "4  0011d6be41612ec9eae3    oil"
      ]
     },
     "execution_count": 31,
     "metadata": {},
     "output_type": "execute_result"
    }
   ],
   "source": [
    "material.head()"
   ]
  },
  {
   "cell_type": "code",
   "execution_count": 5,
   "metadata": {},
   "outputs": [
    {
     "data": {
      "text/html": [
       "<div>\n",
       "<style scoped>\n",
       "    .dataframe tbody tr th:only-of-type {\n",
       "        vertical-align: middle;\n",
       "    }\n",
       "\n",
       "    .dataframe tbody tr th {\n",
       "        vertical-align: top;\n",
       "    }\n",
       "\n",
       "    .dataframe thead th {\n",
       "        text-align: right;\n",
       "    }\n",
       "</style>\n",
       "<table border=\"1\" class=\"dataframe\">\n",
       "  <thead>\n",
       "    <tr style=\"text-align: right;\">\n",
       "      <th></th>\n",
       "      <th>object_id</th>\n",
       "      <th>name</th>\n",
       "    </tr>\n",
       "  </thead>\n",
       "  <tbody>\n",
       "    <tr>\n",
       "      <th>0</th>\n",
       "      <td>0012765f7a97ccc3e9e9</td>\n",
       "      <td>Netherlands</td>\n",
       "    </tr>\n",
       "    <tr>\n",
       "      <th>1</th>\n",
       "      <td>00133be3ff222c9b74b0</td>\n",
       "      <td>Netherlands</td>\n",
       "    </tr>\n",
       "    <tr>\n",
       "      <th>2</th>\n",
       "      <td>00133be3ff222c9b74b0</td>\n",
       "      <td>Netherlands</td>\n",
       "    </tr>\n",
       "    <tr>\n",
       "      <th>3</th>\n",
       "      <td>0017be8caa87206532cb</td>\n",
       "      <td>Netherlands</td>\n",
       "    </tr>\n",
       "    <tr>\n",
       "      <th>4</th>\n",
       "      <td>001b2b8c9d3aa1534dfe</td>\n",
       "      <td>Suriname</td>\n",
       "    </tr>\n",
       "  </tbody>\n",
       "</table>\n",
       "</div>"
      ],
      "text/plain": [
       "              object_id         name\n",
       "0  0012765f7a97ccc3e9e9  Netherlands\n",
       "1  00133be3ff222c9b74b0  Netherlands\n",
       "2  00133be3ff222c9b74b0  Netherlands\n",
       "3  0017be8caa87206532cb  Netherlands\n",
       "4  001b2b8c9d3aa1534dfe     Suriname"
      ]
     },
     "execution_count": 5,
     "metadata": {},
     "output_type": "execute_result"
    }
   ],
   "source": [
    "production_country.head()"
   ]
  },
  {
   "cell_type": "code",
   "execution_count": 32,
   "metadata": {},
   "outputs": [],
   "source": [
    "production_country['name'] = production_country['name'].fillna('missing')"
   ]
  },
  {
   "cell_type": "code",
   "execution_count": 33,
   "metadata": {},
   "outputs": [
    {
     "data": {
      "text/plain": [
       "object_id\n",
       "000405d9a5e3f49fc49d    [paper, board]\n",
       "001020bd00b149970f78      [oil, panel]\n",
       "0011d6be41612ec9eae3     [oil, canvas]\n",
       "0012765f7a97ccc3e9e9           [paper]\n",
       "00133be3ff222c9b74b0           [paper]\n",
       "                             ...      \n",
       "fff1d87d79953ddab2c6      [oil, panel]\n",
       "fff4bbb55fd7702d294e           [paper]\n",
       "fffbe07b997bec00e203    [paper, board]\n",
       "fffd43b134ba7197d890           [paper]\n",
       "ffff22ea12d7f99cff31    [paper, paper]\n",
       "Name: name, Length: 23586, dtype: object"
      ]
     },
     "execution_count": 33,
     "metadata": {},
     "output_type": "execute_result"
    }
   ],
   "source": [
    "material.groupby(\"object_id\")[\"name\"].apply(list)"
   ]
  },
  {
   "cell_type": "code",
   "execution_count": 34,
   "metadata": {},
   "outputs": [],
   "source": [
    "mat_col = pd.concat([material, collection], axis=0).reset_index(drop=True)\n",
    "mat_tec = pd.concat([material, technique], axis=0).reset_index(drop=True)\n",
    "col_tec = pd.concat([collection, technique], axis=0).reset_index(drop=True)\n",
    "mat_col_tec = pd.concat([material, collection, technique], axis=0).reset_index(drop=True)\n",
    "\n",
    "mat_col_tec_prod = pd.concat([material, collection, technique, production], axis=0).reset_index(drop=True)\n",
    "mat_col_tec_prod_country = pd.concat([material, collection, technique, production_country], axis=0).reset_index(drop=True)"
   ]
  },
  {
   "cell_type": "code",
   "execution_count": 35,
   "metadata": {},
   "outputs": [
    {
     "data": {
      "text/plain": [
       "object_id\n",
       "000405d9a5e3f49fc49d                        [paper, board, albumen print]\n",
       "001020bd00b149970f78                              [oil, panel, paintings]\n",
       "0011d6be41612ec9eae3                             [oil, canvas, paintings]\n",
       "0012765f7a97ccc3e9e9    [paper, salted paper print, albumen print, Net...\n",
       "00133be3ff222c9b74b0    [paper, prints, etching, Netherlands, Netherla...\n",
       "                                              ...                        \n",
       "fff4bbb55fd7702d294e                               [paper, albumen print]\n",
       "fffbe07b997bec00e203        [paper, board, albumen print, United Kingdom]\n",
       "fffd1675758205748d7f                                      [albumen print]\n",
       "fffd43b134ba7197d890               [paper, albumen print, United Kingdom]\n",
       "ffff22ea12d7f99cff31        [paper, paper, albumen print, United Kingdom]\n",
       "Name: name, Length: 23972, dtype: object"
      ]
     },
     "execution_count": 35,
     "metadata": {},
     "output_type": "execute_result"
    }
   ],
   "source": [
    "mat_col_tec_prod_country.groupby(\"object_id\")[\"name\"].apply(list)"
   ]
  },
  {
   "cell_type": "code",
   "execution_count": 36,
   "metadata": {},
   "outputs": [],
   "source": [
    "# 単語ベクトル表現の次元数\n",
    "# 元の語彙数をベースに適当に決めました\n",
    "model_size = {\n",
    "    \"material\": 5,\n",
    "    \"collection\": 3,\n",
    "    \"technique\": 8,\n",
    "    \"production\" : 20,\n",
    "    \"production_country\" : 20,\n",
    "    \"material_collection\": 10,\n",
    "    \"material_technique\": 20,\n",
    "    \"collection_technique\": 10,\n",
    "    \"material_collection_technique\": 20,\n",
    "    \"material_collection_technique_production\" : 25,\n",
    "    \"material_collection_technique_production_country\" : 25,\n",
    "}\n",
    "\n",
    "n_iter = 100"
   ]
  },
  {
   "cell_type": "code",
   "execution_count": 37,
   "metadata": {},
   "outputs": [
    {
     "name": "stderr",
     "output_type": "stream",
     "text": [
      "100%|██████████| 23586/23586 [00:00<00:00, 53900.11it/s]\n",
      "100%|██████████| 14160/14160 [00:00<00:00, 58270.91it/s]\n",
      "100%|██████████| 17329/17329 [00:00<00:00, 55175.77it/s]\n",
      "100%|██████████| 15547/15547 [00:00<00:00, 57156.42it/s]\n",
      "100%|██████████| 15547/15547 [00:00<00:00, 54446.97it/s]\n",
      "100%|██████████| 23597/23597 [00:00<00:00, 46030.07it/s]\n",
      "100%|██████████| 23950/23950 [00:00<00:00, 49676.52it/s]\n",
      "100%|██████████| 21646/21646 [00:00<00:00, 51693.41it/s]\n",
      "100%|██████████| 23953/23953 [00:00<00:00, 48315.81it/s]\n",
      "100%|██████████| 23972/23972 [00:00<00:00, 51507.30it/s]\n",
      "100%|██████████| 23972/23972 [00:00<00:00, 50266.62it/s]\n"
     ]
    }
   ],
   "source": [
    "w2v_dfs = []\n",
    "for df, df_name in zip(\n",
    "        [\n",
    "            material, collection, technique, production, production_country,\n",
    "            mat_col, mat_tec, col_tec, mat_col_tec, mat_col_tec_prod, mat_col_tec_prod_country\n",
    "        ], [\n",
    "            \"material\", \"collection\", \"technique\", \"production\", \"production_country\",\n",
    "            \"material_collection\",\n",
    "            \"material_technique\",\n",
    "            \"collection_technique\",\n",
    "            \"material_collection_technique\",\n",
    "            \"material_collection_technique_production\",\n",
    "            \"material_collection_technique_production_country\"\n",
    "        ]):\n",
    "    df_group = df.groupby(\"object_id\")[\"name\"].apply(list).reset_index()\n",
    "    # Word2Vecの学習\n",
    "    w2v_model = word2vec.Word2Vec(df_group[\"name\"].values.tolist(),\n",
    "                                  size=model_size[df_name],\n",
    "                                  min_count=1,\n",
    "                                  window=1,\n",
    "                                  iter=n_iter)\n",
    "\n",
    "    # 各文章ごとにそれぞれの単語をベクトル表現に直し、平均をとって文章ベクトルにする\n",
    "    sentence_vectors = df_group[\"name\"].progress_apply(\n",
    "        lambda x: np.mean([w2v_model.wv[e] for e in x], axis=0))\n",
    "    sentence_vectors = np.vstack([x for x in sentence_vectors])\n",
    "    sentence_vector_df = pd.DataFrame(sentence_vectors,\n",
    "                                      columns=[f\"{df_name}_w2v_{i}\"\n",
    "                                               for i in range(model_size[df_name])])\n",
    "    sentence_vector_df.index = df_group[\"object_id\"]\n",
    "    w2v_dfs.append(sentence_vector_df)"
   ]
  },
  {
   "cell_type": "code",
   "execution_count": 38,
   "metadata": {},
   "outputs": [
    {
     "data": {
      "text/plain": [
       "11"
      ]
     },
     "execution_count": 38,
     "metadata": {},
     "output_type": "execute_result"
    }
   ],
   "source": [
    "len(w2v_dfs)"
   ]
  },
  {
   "cell_type": "code",
   "execution_count": 40,
   "metadata": {},
   "outputs": [],
   "source": [
    "w2v_dfs[0].to_csv('../material_w2v_fix_material.csv')"
   ]
  },
  {
   "cell_type": "code",
   "execution_count": 42,
   "metadata": {},
   "outputs": [],
   "source": [
    "#w2v_dfs[1].to_csv('../collection_w2v.csv')"
   ]
  },
  {
   "cell_type": "code",
   "execution_count": 44,
   "metadata": {},
   "outputs": [],
   "source": [
    "#w2v_dfs[2].to_csv('../technique_w2v.csv')"
   ]
  },
  {
   "cell_type": "code",
   "execution_count": 46,
   "metadata": {},
   "outputs": [],
   "source": [
    "#w2v_dfs[3].to_csv('../prodcution_w2v.csv')"
   ]
  },
  {
   "cell_type": "code",
   "execution_count": 48,
   "metadata": {},
   "outputs": [],
   "source": [
    "#w2v_dfs[4].to_csv('../production_country_w2v.csv')"
   ]
  },
  {
   "cell_type": "code",
   "execution_count": 50,
   "metadata": {},
   "outputs": [],
   "source": [
    "w2v_dfs[5].to_csv('../material_collection_w2v_fix_material.csv')"
   ]
  },
  {
   "cell_type": "code",
   "execution_count": 52,
   "metadata": {},
   "outputs": [],
   "source": [
    "w2v_dfs[6].to_csv('../material_technique_w2v_fix_material.csv')"
   ]
  },
  {
   "cell_type": "code",
   "execution_count": 54,
   "metadata": {},
   "outputs": [],
   "source": [
    "#w2v_dfs[7].to_csv('../collection_technique_w2v.csv')"
   ]
  },
  {
   "cell_type": "code",
   "execution_count": 56,
   "metadata": {},
   "outputs": [],
   "source": [
    "w2v_dfs[8].to_csv('../material_collection_technique_w2v_fix_material.csv')"
   ]
  },
  {
   "cell_type": "code",
   "execution_count": 58,
   "metadata": {},
   "outputs": [],
   "source": [
    "w2v_dfs[9].to_csv('../material_collection_technique_production_w2v_fix_material.csv')"
   ]
  },
  {
   "cell_type": "code",
   "execution_count": 60,
   "metadata": {},
   "outputs": [],
   "source": [
    "w2v_dfs[10].to_csv('../material_collection_technique_production_country_w2v_fix_material.csv')"
   ]
  },
  {
   "cell_type": "code",
   "execution_count": null,
   "metadata": {},
   "outputs": [],
   "source": []
  }
 ],
 "metadata": {
  "kernelspec": {
   "display_name": "Python 3",
   "language": "python",
   "name": "python3"
  },
  "language_info": {
   "codemirror_mode": {
    "name": "ipython",
    "version": 3
   },
   "file_extension": ".py",
   "mimetype": "text/x-python",
   "name": "python",
   "nbconvert_exporter": "python",
   "pygments_lexer": "ipython3",
   "version": "3.8.3"
  }
 },
 "nbformat": 4,
 "nbformat_minor": 4
}
