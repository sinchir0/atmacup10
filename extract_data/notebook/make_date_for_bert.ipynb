{
 "cells": [
  {
   "cell_type": "code",
   "execution_count": 1,
   "metadata": {},
   "outputs": [
    {
     "name": "stderr",
     "output_type": "stream",
     "text": [
      "/Users/shinichiro.saito/opt/anaconda3/lib/python3.8/site-packages/tqdm/std.py:668: FutureWarning: The Panel class is removed from pandas. Accessing it from the top-level namespace will also be removed in the next version\n",
      "  from pandas import Panel\n"
     ]
    }
   ],
   "source": [
    "import pandas as pd\n",
    "import numpy as np\n",
    "\n",
    "from pathlib import Path\n",
    "\n",
    "from gensim.models import word2vec, KeyedVectors\n",
    "from tqdm import tqdm\n",
    "tqdm.pandas()"
   ]
  },
  {
   "cell_type": "code",
   "execution_count": 2,
   "metadata": {},
   "outputs": [],
   "source": [
    "sub = pd.read_csv('../../data/atmacup10__sample_submission.csv')\n",
    "color = pd.read_csv('../../data/color.csv')\n",
    "historical_person = pd.read_csv('../../data/historical_person.csv')\n",
    "maker = pd.read_csv('../../data/maker.csv')\n",
    "material = pd.read_csv('../../data/material.csv')\n",
    "collection = pd.read_csv('../../data/object_collection.csv')\n",
    "palette = pd.read_csv('../../data/palette.csv')\n",
    "principal_maker_occupation = pd.read_csv('../../data/principal_maker_occupation.csv')\n",
    "principal_maker = pd.read_csv('../../data/principal_maker.csv')\n",
    "\n",
    "#production_place = pd.read_csv('../../data/production_place.csv')\n",
    "production = pd.read_csv('../../extract_data/production_place_rename.csv').iloc[:,1:][['object_id','name']]\n",
    "production_country = pd.read_csv('../../extract_data/production_place_rename.csv').iloc[:,1:][['object_id','country_name']].rename(columns={'country_name':'name'})\n",
    "\n",
    "technique = pd.read_csv('../../data/technique.csv')\n",
    "test = pd.read_csv('../../data/test.csv')\n",
    "train = pd.read_csv('../../data/train.csv')"
   ]
  },
  {
   "cell_type": "code",
   "execution_count": 4,
   "metadata": {},
   "outputs": [
    {
     "data": {
      "text/html": [
       "<div>\n",
       "<style scoped>\n",
       "    .dataframe tbody tr th:only-of-type {\n",
       "        vertical-align: middle;\n",
       "    }\n",
       "\n",
       "    .dataframe tbody tr th {\n",
       "        vertical-align: top;\n",
       "    }\n",
       "\n",
       "    .dataframe thead th {\n",
       "        text-align: right;\n",
       "    }\n",
       "</style>\n",
       "<table border=\"1\" class=\"dataframe\">\n",
       "  <thead>\n",
       "    <tr style=\"text-align: right;\">\n",
       "      <th></th>\n",
       "      <th>object_id</th>\n",
       "      <th>name</th>\n",
       "    </tr>\n",
       "  </thead>\n",
       "  <tbody>\n",
       "    <tr>\n",
       "      <th>0</th>\n",
       "      <td>000405d9a5e3f49fc49d</td>\n",
       "      <td>photographic paper</td>\n",
       "    </tr>\n",
       "    <tr>\n",
       "      <th>1</th>\n",
       "      <td>000405d9a5e3f49fc49d</td>\n",
       "      <td>cardboard</td>\n",
       "    </tr>\n",
       "  </tbody>\n",
       "</table>\n",
       "</div>"
      ],
      "text/plain": [
       "              object_id                name\n",
       "0  000405d9a5e3f49fc49d  photographic paper\n",
       "1  000405d9a5e3f49fc49d           cardboard"
      ]
     },
     "execution_count": 4,
     "metadata": {},
     "output_type": "execute_result"
    }
   ],
   "source": [
    "material.head(2)"
   ]
  },
  {
   "cell_type": "code",
   "execution_count": 5,
   "metadata": {},
   "outputs": [
    {
     "data": {
      "text/html": [
       "<div>\n",
       "<style scoped>\n",
       "    .dataframe tbody tr th:only-of-type {\n",
       "        vertical-align: middle;\n",
       "    }\n",
       "\n",
       "    .dataframe tbody tr th {\n",
       "        vertical-align: top;\n",
       "    }\n",
       "\n",
       "    .dataframe thead th {\n",
       "        text-align: right;\n",
       "    }\n",
       "</style>\n",
       "<table border=\"1\" class=\"dataframe\">\n",
       "  <thead>\n",
       "    <tr style=\"text-align: right;\">\n",
       "      <th></th>\n",
       "      <th>object_id</th>\n",
       "      <th>name</th>\n",
       "    </tr>\n",
       "  </thead>\n",
       "  <tbody>\n",
       "    <tr>\n",
       "      <th>0</th>\n",
       "      <td>0012765f7a97ccc3e9e9</td>\n",
       "      <td>Netherlands</td>\n",
       "    </tr>\n",
       "    <tr>\n",
       "      <th>1</th>\n",
       "      <td>00133be3ff222c9b74b0</td>\n",
       "      <td>Amsterdam</td>\n",
       "    </tr>\n",
       "  </tbody>\n",
       "</table>\n",
       "</div>"
      ],
      "text/plain": [
       "              object_id         name\n",
       "0  0012765f7a97ccc3e9e9  Netherlands\n",
       "1  00133be3ff222c9b74b0    Amsterdam"
      ]
     },
     "execution_count": 5,
     "metadata": {},
     "output_type": "execute_result"
    }
   ],
   "source": [
    "production.head(2)"
   ]
  },
  {
   "cell_type": "code",
   "execution_count": 6,
   "metadata": {},
   "outputs": [
    {
     "data": {
      "text/html": [
       "<div>\n",
       "<style scoped>\n",
       "    .dataframe tbody tr th:only-of-type {\n",
       "        vertical-align: middle;\n",
       "    }\n",
       "\n",
       "    .dataframe tbody tr th {\n",
       "        vertical-align: top;\n",
       "    }\n",
       "\n",
       "    .dataframe thead th {\n",
       "        text-align: right;\n",
       "    }\n",
       "</style>\n",
       "<table border=\"1\" class=\"dataframe\">\n",
       "  <thead>\n",
       "    <tr style=\"text-align: right;\">\n",
       "      <th></th>\n",
       "      <th>object_id</th>\n",
       "      <th>name</th>\n",
       "    </tr>\n",
       "  </thead>\n",
       "  <tbody>\n",
       "    <tr>\n",
       "      <th>0</th>\n",
       "      <td>0012765f7a97ccc3e9e9</td>\n",
       "      <td>Netherlands</td>\n",
       "    </tr>\n",
       "    <tr>\n",
       "      <th>1</th>\n",
       "      <td>00133be3ff222c9b74b0</td>\n",
       "      <td>Netherlands</td>\n",
       "    </tr>\n",
       "  </tbody>\n",
       "</table>\n",
       "</div>"
      ],
      "text/plain": [
       "              object_id         name\n",
       "0  0012765f7a97ccc3e9e9  Netherlands\n",
       "1  00133be3ff222c9b74b0  Netherlands"
      ]
     },
     "execution_count": 6,
     "metadata": {},
     "output_type": "execute_result"
    }
   ],
   "source": [
    "production_country.head(2)"
   ]
  },
  {
   "cell_type": "code",
   "execution_count": 8,
   "metadata": {},
   "outputs": [],
   "source": [
    "production_country['name'] = production_country['name'].fillna('missing')"
   ]
  },
  {
   "cell_type": "code",
   "execution_count": 9,
   "metadata": {},
   "outputs": [
    {
     "data": {
      "text/plain": [
       "object_id\n",
       "000405d9a5e3f49fc49d    [photographic paper, cardboard]\n",
       "001020bd00b149970f78         [oil paint (paint), panel]\n",
       "0011d6be41612ec9eae3        [oil paint (paint), canvas]\n",
       "0012765f7a97ccc3e9e9               [photographic paper]\n",
       "00133be3ff222c9b74b0                            [paper]\n",
       "                                     ...               \n",
       "fff1d87d79953ddab2c6         [oil paint (paint), panel]\n",
       "fff4bbb55fd7702d294e               [photographic paper]\n",
       "fffbe07b997bec00e203    [photographic paper, cardboard]\n",
       "fffd43b134ba7197d890               [photographic paper]\n",
       "ffff22ea12d7f99cff31        [paper, photographic paper]\n",
       "Name: name, Length: 23586, dtype: object"
      ]
     },
     "execution_count": 9,
     "metadata": {},
     "output_type": "execute_result"
    }
   ],
   "source": [
    "material.groupby(\"object_id\")[\"name\"].apply(list)"
   ]
  },
  {
   "cell_type": "code",
   "execution_count": 10,
   "metadata": {},
   "outputs": [],
   "source": [
    "mat_col = pd.concat([material, collection], axis=0).reset_index(drop=True)\n",
    "mat_tec = pd.concat([material, technique], axis=0).reset_index(drop=True)\n",
    "col_tec = pd.concat([collection, technique], axis=0).reset_index(drop=True)\n",
    "mat_col_tec = pd.concat([material, collection, technique], axis=0).reset_index(drop=True)\n",
    "\n",
    "mat_col_tec_prod = pd.concat([material, collection, technique, production], axis=0).reset_index(drop=True)\n",
    "mat_col_tec_prod_country = pd.concat([material, collection, technique, production_country], axis=0).reset_index(drop=True)"
   ]
  },
  {
   "cell_type": "code",
   "execution_count": 11,
   "metadata": {},
   "outputs": [
    {
     "data": {
      "text/plain": [
       "object_id\n",
       "000405d9a5e3f49fc49d       [photographic paper, cardboard, albumen print]\n",
       "001020bd00b149970f78                [oil paint (paint), panel, paintings]\n",
       "0011d6be41612ec9eae3               [oil paint (paint), canvas, paintings]\n",
       "0012765f7a97ccc3e9e9    [photographic paper, salted paper print, album...\n",
       "00133be3ff222c9b74b0    [paper, prints, etching, Netherlands, Netherla...\n",
       "                                              ...                        \n",
       "fff4bbb55fd7702d294e                  [photographic paper, albumen print]\n",
       "fffbe07b997bec00e203    [photographic paper, cardboard, albumen print,...\n",
       "fffd1675758205748d7f                                      [albumen print]\n",
       "fffd43b134ba7197d890    [photographic paper, albumen print, United Kin...\n",
       "ffff22ea12d7f99cff31    [paper, photographic paper, albumen print, Uni...\n",
       "Name: name, Length: 23972, dtype: object"
      ]
     },
     "execution_count": 11,
     "metadata": {},
     "output_type": "execute_result"
    }
   ],
   "source": [
    "mat_col_tec_prod_country.groupby(\"object_id\")[\"name\"].apply(list)"
   ]
  },
  {
   "cell_type": "code",
   "execution_count": 15,
   "metadata": {},
   "outputs": [],
   "source": [
    "mat_col_tec_prod_country.groupby(\"object_id\")[\"name\"].apply(list).to_csv('../mat_col_tec_prod.csv')"
   ]
  },
  {
   "cell_type": "code",
   "execution_count": 10,
   "metadata": {},
   "outputs": [],
   "source": [
    "# 単語ベクトル表現の次元数\n",
    "# 元の語彙数をベースに適当に決めました\n",
    "model_size = {\n",
    "    \"material\": 20,\n",
    "    \"collection\": 3,\n",
    "    \"technique\": 8,\n",
    "    \"production\" : 20,\n",
    "    \"production_country\" : 20,\n",
    "    \"material_collection\": 20,\n",
    "    \"material_technique\": 20,\n",
    "    \"collection_technique\": 10,\n",
    "    \"material_collection_technique\": 25,\n",
    "    \"material_collection_technique_production\" : 30,\n",
    "    \"material_collection_technique_production_country\" : 30,\n",
    "}\n",
    "\n",
    "n_iter = 100"
   ]
  },
  {
   "cell_type": "code",
   "execution_count": 11,
   "metadata": {},
   "outputs": [
    {
     "name": "stderr",
     "output_type": "stream",
     "text": [
      "100%|██████████| 23586/23586 [00:00<00:00, 58952.20it/s]\n",
      "100%|██████████| 14160/14160 [00:00<00:00, 62236.03it/s]\n",
      "100%|██████████| 17329/17329 [00:00<00:00, 58242.88it/s]\n",
      "100%|██████████| 15547/15547 [00:00<00:00, 58577.31it/s]\n",
      "100%|██████████| 15547/15547 [00:00<00:00, 59241.51it/s]\n",
      "100%|██████████| 23597/23597 [00:00<00:00, 53421.84it/s]\n",
      "100%|██████████| 23950/23950 [00:00<00:00, 53817.78it/s]\n",
      "100%|██████████| 21646/21646 [00:00<00:00, 56397.41it/s]\n",
      "100%|██████████| 23953/23953 [00:00<00:00, 52097.79it/s]\n",
      "100%|██████████| 23972/23972 [00:00<00:00, 57556.40it/s]\n",
      "100%|██████████| 23972/23972 [00:00<00:00, 54076.59it/s]\n"
     ]
    }
   ],
   "source": [
    "w2v_dfs = []\n",
    "for df, df_name in zip(\n",
    "        [\n",
    "            material, collection, technique, production, production_country,\n",
    "            mat_col, mat_tec, col_tec, mat_col_tec, mat_col_tec_prod, mat_col_tec_prod_country\n",
    "        ], [\n",
    "            \"material\", \"collection\", \"technique\", \"production\", \"production_country\",\n",
    "            \"material_collection\",\n",
    "            \"material_technique\",\n",
    "            \"collection_technique\",\n",
    "            \"material_collection_technique\",\n",
    "            \"material_collection_technique_production\",\n",
    "            \"material_collection_technique_production_country\"\n",
    "        ]):\n",
    "    df_group = df.groupby(\"object_id\")[\"name\"].apply(list).reset_index()\n",
    "    # Word2Vecの学習\n",
    "    w2v_model = word2vec.Word2Vec(df_group[\"name\"].values.tolist(),\n",
    "                                  size=model_size[df_name],\n",
    "                                  min_count=1,\n",
    "                                  window=1,\n",
    "                                  iter=n_iter)\n",
    "\n",
    "    # 各文章ごとにそれぞれの単語をベクトル表現に直し、平均をとって文章ベクトルにする\n",
    "    sentence_vectors = df_group[\"name\"].progress_apply(\n",
    "        lambda x: np.mean([w2v_model.wv[e] for e in x], axis=0))\n",
    "    sentence_vectors = np.vstack([x for x in sentence_vectors])\n",
    "    sentence_vector_df = pd.DataFrame(sentence_vectors,\n",
    "                                      columns=[f\"{df_name}_w2v_{i}\"\n",
    "                                               for i in range(model_size[df_name])])\n",
    "    sentence_vector_df.index = df_group[\"object_id\"]\n",
    "    w2v_dfs.append(sentence_vector_df)"
   ]
  },
  {
   "cell_type": "code",
   "execution_count": 12,
   "metadata": {},
   "outputs": [
    {
     "data": {
      "text/plain": [
       "11"
      ]
     },
     "execution_count": 12,
     "metadata": {},
     "output_type": "execute_result"
    }
   ],
   "source": [
    "len(w2v_dfs)"
   ]
  },
  {
   "cell_type": "code",
   "execution_count": 14,
   "metadata": {},
   "outputs": [],
   "source": [
    "w2v_dfs[0].to_csv('../material_w2v.csv')"
   ]
  },
  {
   "cell_type": "code",
   "execution_count": 16,
   "metadata": {},
   "outputs": [],
   "source": [
    "w2v_dfs[1].to_csv('../collection_w2v.csv')"
   ]
  },
  {
   "cell_type": "code",
   "execution_count": 18,
   "metadata": {},
   "outputs": [],
   "source": [
    "w2v_dfs[2].to_csv('../technique_w2v.csv')"
   ]
  },
  {
   "cell_type": "code",
   "execution_count": 20,
   "metadata": {},
   "outputs": [],
   "source": [
    "w2v_dfs[3].to_csv('../prodcution_w2v.csv')"
   ]
  },
  {
   "cell_type": "code",
   "execution_count": 22,
   "metadata": {},
   "outputs": [],
   "source": [
    "w2v_dfs[4].to_csv('../production_country_w2v.csv')"
   ]
  },
  {
   "cell_type": "code",
   "execution_count": 24,
   "metadata": {},
   "outputs": [],
   "source": [
    "w2v_dfs[5].to_csv('../material_collection_w2v.csv')"
   ]
  },
  {
   "cell_type": "code",
   "execution_count": 26,
   "metadata": {},
   "outputs": [],
   "source": [
    "w2v_dfs[6].to_csv('../material_technique_w2v.csv')"
   ]
  },
  {
   "cell_type": "code",
   "execution_count": 28,
   "metadata": {},
   "outputs": [],
   "source": [
    "w2v_dfs[7].to_csv('../collection_technique_w2v.csv')"
   ]
  },
  {
   "cell_type": "code",
   "execution_count": 30,
   "metadata": {},
   "outputs": [],
   "source": [
    "w2v_dfs[8].to_csv('../material_collection_technique_w2v.csv')"
   ]
  },
  {
   "cell_type": "code",
   "execution_count": 33,
   "metadata": {},
   "outputs": [],
   "source": [
    "w2v_dfs[9].to_csv('../material_collection_technique_production_w2v.csv')"
   ]
  },
  {
   "cell_type": "code",
   "execution_count": 35,
   "metadata": {},
   "outputs": [],
   "source": [
    "w2v_dfs[10].to_csv('../material_collection_technique_production_country_w2v.csv')"
   ]
  }
 ],
 "metadata": {
  "kernelspec": {
   "display_name": "Python 3",
   "language": "python",
   "name": "python3"
  },
  "language_info": {
   "codemirror_mode": {
    "name": "ipython",
    "version": 3
   },
   "file_extension": ".py",
   "mimetype": "text/x-python",
   "name": "python",
   "nbconvert_exporter": "python",
   "pygments_lexer": "ipython3",
   "version": "3.8.3"
  }
 },
 "nbformat": 4,
 "nbformat_minor": 4
}
