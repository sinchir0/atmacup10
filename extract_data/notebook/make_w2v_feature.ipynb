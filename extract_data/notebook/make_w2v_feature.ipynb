{
 "cells": [
  {
   "cell_type": "code",
   "execution_count": 1,
   "metadata": {},
   "outputs": [
    {
     "name": "stderr",
     "output_type": "stream",
     "text": [
      "/Users/shinichiro.saito/opt/anaconda3/lib/python3.8/site-packages/tqdm/std.py:668: FutureWarning: The Panel class is removed from pandas. Accessing it from the top-level namespace will also be removed in the next version\n",
      "  from pandas import Panel\n"
     ]
    }
   ],
   "source": [
    "import pandas as pd\n",
    "import numpy as np\n",
    "\n",
    "from pathlib import Path\n",
    "\n",
    "from gensim.models import word2vec, KeyedVectors\n",
    "from tqdm import tqdm\n",
    "tqdm.pandas()"
   ]
  },
  {
   "cell_type": "code",
   "execution_count": 2,
   "metadata": {},
   "outputs": [],
   "source": [
    "sub = pd.read_csv('../../data/atmacup10__sample_submission.csv')\n",
    "color = pd.read_csv('../../data/color.csv')\n",
    "historical_person = pd.read_csv('../../data/historical_person.csv')\n",
    "maker = pd.read_csv('../../data/maker.csv')\n",
    "material = pd.read_csv('../../data/material.csv')\n",
    "collection = pd.read_csv('../../data/object_collection.csv')\n",
    "palette = pd.read_csv('../../data/palette.csv')\n",
    "principal_maker_occupation = pd.read_csv('../../data/principal_maker_occupation.csv')\n",
    "principal_maker = pd.read_csv('../../data/principal_maker.csv')\n",
    "\n",
    "#production_place = pd.read_csv('../../data/production_place.csv')\n",
    "production = pd.read_csv('../../extract_data/production_place_rename.csv').iloc[:,1:][['object_id','name']]\n",
    "production_country = pd.read_csv('../../extract_data/production_place_rename.csv').iloc[:,1:][['object_id','country_name']].rename(columns={'country_name':'name'})\n",
    "\n",
    "technique = pd.read_csv('../../data/technique.csv')\n",
    "test = pd.read_csv('../../data/test.csv')\n",
    "train = pd.read_csv('../../data/train.csv')"
   ]
  },
  {
   "cell_type": "code",
   "execution_count": 39,
   "metadata": {},
   "outputs": [
    {
     "data": {
      "text/html": [
       "<div>\n",
       "<style scoped>\n",
       "    .dataframe tbody tr th:only-of-type {\n",
       "        vertical-align: middle;\n",
       "    }\n",
       "\n",
       "    .dataframe tbody tr th {\n",
       "        vertical-align: top;\n",
       "    }\n",
       "\n",
       "    .dataframe thead th {\n",
       "        text-align: right;\n",
       "    }\n",
       "</style>\n",
       "<table border=\"1\" class=\"dataframe\">\n",
       "  <thead>\n",
       "    <tr style=\"text-align: right;\">\n",
       "      <th></th>\n",
       "      <th>object_id</th>\n",
       "      <th>percentage</th>\n",
       "      <th>hex</th>\n",
       "    </tr>\n",
       "  </thead>\n",
       "  <tbody>\n",
       "    <tr>\n",
       "      <th>0</th>\n",
       "      <td>001020bd00b149970f78</td>\n",
       "      <td>0</td>\n",
       "      <td>#C7C7B6</td>\n",
       "    </tr>\n",
       "    <tr>\n",
       "      <th>1</th>\n",
       "      <td>001020bd00b149970f78</td>\n",
       "      <td>9</td>\n",
       "      <td>#5E5333</td>\n",
       "    </tr>\n",
       "    <tr>\n",
       "      <th>2</th>\n",
       "      <td>001020bd00b149970f78</td>\n",
       "      <td>14</td>\n",
       "      <td>#3E321B</td>\n",
       "    </tr>\n",
       "    <tr>\n",
       "      <th>3</th>\n",
       "      <td>001020bd00b149970f78</td>\n",
       "      <td>3</td>\n",
       "      <td>#B8AF84</td>\n",
       "    </tr>\n",
       "    <tr>\n",
       "      <th>4</th>\n",
       "      <td>001020bd00b149970f78</td>\n",
       "      <td>62</td>\n",
       "      <td>#15120C</td>\n",
       "    </tr>\n",
       "    <tr>\n",
       "      <th>...</th>\n",
       "      <td>...</td>\n",
       "      <td>...</td>\n",
       "      <td>...</td>\n",
       "    </tr>\n",
       "    <tr>\n",
       "      <th>73631</th>\n",
       "      <td>fff1d87d79953ddab2c6</td>\n",
       "      <td>11</td>\n",
       "      <td>#9D9F91</td>\n",
       "    </tr>\n",
       "    <tr>\n",
       "      <th>73632</th>\n",
       "      <td>fff1d87d79953ddab2c6</td>\n",
       "      <td>3</td>\n",
       "      <td>#595338</td>\n",
       "    </tr>\n",
       "    <tr>\n",
       "      <th>73633</th>\n",
       "      <td>fff1d87d79953ddab2c6</td>\n",
       "      <td>16</td>\n",
       "      <td>#6E7669</td>\n",
       "    </tr>\n",
       "    <tr>\n",
       "      <th>73634</th>\n",
       "      <td>fff1d87d79953ddab2c6</td>\n",
       "      <td>60</td>\n",
       "      <td>#3A1F11</td>\n",
       "    </tr>\n",
       "    <tr>\n",
       "      <th>73635</th>\n",
       "      <td>fff1d87d79953ddab2c6</td>\n",
       "      <td>4</td>\n",
       "      <td>#A7875C</td>\n",
       "    </tr>\n",
       "  </tbody>\n",
       "</table>\n",
       "<p>73636 rows × 3 columns</p>\n",
       "</div>"
      ],
      "text/plain": [
       "                  object_id  percentage       hex\n",
       "0      001020bd00b149970f78           0   #C7C7B6\n",
       "1      001020bd00b149970f78           9   #5E5333\n",
       "2      001020bd00b149970f78          14   #3E321B\n",
       "3      001020bd00b149970f78           3   #B8AF84\n",
       "4      001020bd00b149970f78          62   #15120C\n",
       "...                     ...         ...       ...\n",
       "73631  fff1d87d79953ddab2c6          11   #9D9F91\n",
       "73632  fff1d87d79953ddab2c6           3   #595338\n",
       "73633  fff1d87d79953ddab2c6          16   #6E7669\n",
       "73634  fff1d87d79953ddab2c6          60   #3A1F11\n",
       "73635  fff1d87d79953ddab2c6           4   #A7875C\n",
       "\n",
       "[73636 rows x 3 columns]"
      ]
     },
     "execution_count": 39,
     "metadata": {},
     "output_type": "execute_result"
    }
   ],
   "source": [
    "color"
   ]
  },
  {
   "cell_type": "code",
   "execution_count": 38,
   "metadata": {},
   "outputs": [
    {
     "data": {
      "text/html": [
       "<div>\n",
       "<style scoped>\n",
       "    .dataframe tbody tr th:only-of-type {\n",
       "        vertical-align: middle;\n",
       "    }\n",
       "\n",
       "    .dataframe tbody tr th {\n",
       "        vertical-align: top;\n",
       "    }\n",
       "\n",
       "    .dataframe thead th {\n",
       "        text-align: right;\n",
       "    }\n",
       "</style>\n",
       "<table border=\"1\" class=\"dataframe\">\n",
       "  <thead>\n",
       "    <tr style=\"text-align: right;\">\n",
       "      <th></th>\n",
       "      <th>id</th>\n",
       "      <th>object_id</th>\n",
       "      <th>qualification</th>\n",
       "      <th>roles</th>\n",
       "      <th>productionPlaces</th>\n",
       "      <th>maker_name</th>\n",
       "    </tr>\n",
       "  </thead>\n",
       "  <tbody>\n",
       "    <tr>\n",
       "      <th>0</th>\n",
       "      <td>1</td>\n",
       "      <td>000405d9a5e3f49fc49d</td>\n",
       "      <td>mentioned on object</td>\n",
       "      <td>NaN</td>\n",
       "      <td>NaN</td>\n",
       "      <td>Bernardus Bruining</td>\n",
       "    </tr>\n",
       "    <tr>\n",
       "      <th>1</th>\n",
       "      <td>2</td>\n",
       "      <td>001020bd00b149970f78</td>\n",
       "      <td>workshop of</td>\n",
       "      <td>painter</td>\n",
       "      <td>NaN</td>\n",
       "      <td>Jan Antonisz van Ravesteyn</td>\n",
       "    </tr>\n",
       "    <tr>\n",
       "      <th>2</th>\n",
       "      <td>3</td>\n",
       "      <td>0011d6be41612ec9eae3</td>\n",
       "      <td>NaN</td>\n",
       "      <td>painter</td>\n",
       "      <td>NaN</td>\n",
       "      <td>Jan Hackaert</td>\n",
       "    </tr>\n",
       "    <tr>\n",
       "      <th>3</th>\n",
       "      <td>4</td>\n",
       "      <td>0012765f7a97ccc3e9e9</td>\n",
       "      <td>attributed to</td>\n",
       "      <td>NaN</td>\n",
       "      <td>Netherlands</td>\n",
       "      <td>Richard Tepe</td>\n",
       "    </tr>\n",
       "    <tr>\n",
       "      <th>4</th>\n",
       "      <td>5</td>\n",
       "      <td>00133be3ff222c9b74b0</td>\n",
       "      <td>NaN</td>\n",
       "      <td>print maker</td>\n",
       "      <td>Northern Netherlands</td>\n",
       "      <td>Theodoor Koning</td>\n",
       "    </tr>\n",
       "    <tr>\n",
       "      <th>...</th>\n",
       "      <td>...</td>\n",
       "      <td>...</td>\n",
       "      <td>...</td>\n",
       "      <td>...</td>\n",
       "      <td>...</td>\n",
       "      <td>...</td>\n",
       "    </tr>\n",
       "    <tr>\n",
       "      <th>24533</th>\n",
       "      <td>24534</td>\n",
       "      <td>fff4bbb55fd7702d294e</td>\n",
       "      <td>NaN</td>\n",
       "      <td>NaN</td>\n",
       "      <td>NaN</td>\n",
       "      <td>Henry W. Taunt</td>\n",
       "    </tr>\n",
       "    <tr>\n",
       "      <th>24534</th>\n",
       "      <td>24535</td>\n",
       "      <td>fffbe07b997bec00e203</td>\n",
       "      <td>attributed to</td>\n",
       "      <td>NaN</td>\n",
       "      <td>Great Britain</td>\n",
       "      <td>John Jabez Edwin Mayall</td>\n",
       "    </tr>\n",
       "    <tr>\n",
       "      <th>24535</th>\n",
       "      <td>24536</td>\n",
       "      <td>fffd1675758205748d7f</td>\n",
       "      <td>NaN</td>\n",
       "      <td>NaN</td>\n",
       "      <td>NaN</td>\n",
       "      <td>Francis Frith</td>\n",
       "    </tr>\n",
       "    <tr>\n",
       "      <th>24536</th>\n",
       "      <td>24537</td>\n",
       "      <td>fffd43b134ba7197d890</td>\n",
       "      <td>NaN</td>\n",
       "      <td>NaN</td>\n",
       "      <td>NaN</td>\n",
       "      <td>Henry W. Taunt</td>\n",
       "    </tr>\n",
       "    <tr>\n",
       "      <th>24537</th>\n",
       "      <td>24538</td>\n",
       "      <td>ffff22ea12d7f99cff31</td>\n",
       "      <td>NaN</td>\n",
       "      <td>NaN</td>\n",
       "      <td>England</td>\n",
       "      <td>anonymous</td>\n",
       "    </tr>\n",
       "  </tbody>\n",
       "</table>\n",
       "<p>24538 rows × 6 columns</p>\n",
       "</div>"
      ],
      "text/plain": [
       "          id             object_id        qualification        roles  \\\n",
       "0          1  000405d9a5e3f49fc49d  mentioned on object          NaN   \n",
       "1          2  001020bd00b149970f78          workshop of      painter   \n",
       "2          3  0011d6be41612ec9eae3                  NaN      painter   \n",
       "3          4  0012765f7a97ccc3e9e9        attributed to          NaN   \n",
       "4          5  00133be3ff222c9b74b0                  NaN  print maker   \n",
       "...      ...                   ...                  ...          ...   \n",
       "24533  24534  fff4bbb55fd7702d294e                  NaN          NaN   \n",
       "24534  24535  fffbe07b997bec00e203        attributed to          NaN   \n",
       "24535  24536  fffd1675758205748d7f                  NaN          NaN   \n",
       "24536  24537  fffd43b134ba7197d890                  NaN          NaN   \n",
       "24537  24538  ffff22ea12d7f99cff31                  NaN          NaN   \n",
       "\n",
       "           productionPlaces                  maker_name  \n",
       "0                       NaN          Bernardus Bruining  \n",
       "1                       NaN  Jan Antonisz van Ravesteyn  \n",
       "2                       NaN                Jan Hackaert  \n",
       "3               Netherlands                Richard Tepe  \n",
       "4      Northern Netherlands             Theodoor Koning  \n",
       "...                     ...                         ...  \n",
       "24533                   NaN              Henry W. Taunt  \n",
       "24534         Great Britain     John Jabez Edwin Mayall  \n",
       "24535                   NaN               Francis Frith  \n",
       "24536                   NaN              Henry W. Taunt  \n",
       "24537               England                   anonymous  \n",
       "\n",
       "[24538 rows x 6 columns]"
      ]
     },
     "execution_count": 38,
     "metadata": {},
     "output_type": "execute_result"
    }
   ],
   "source": [
    "principal_maker"
   ]
  },
  {
   "cell_type": "code",
   "execution_count": 3,
   "metadata": {},
   "outputs": [
    {
     "data": {
      "text/html": [
       "<div>\n",
       "<style scoped>\n",
       "    .dataframe tbody tr th:only-of-type {\n",
       "        vertical-align: middle;\n",
       "    }\n",
       "\n",
       "    .dataframe tbody tr th {\n",
       "        vertical-align: top;\n",
       "    }\n",
       "\n",
       "    .dataframe thead th {\n",
       "        text-align: right;\n",
       "    }\n",
       "</style>\n",
       "<table border=\"1\" class=\"dataframe\">\n",
       "  <thead>\n",
       "    <tr style=\"text-align: right;\">\n",
       "      <th></th>\n",
       "      <th>object_id</th>\n",
       "      <th>name</th>\n",
       "    </tr>\n",
       "  </thead>\n",
       "  <tbody>\n",
       "    <tr>\n",
       "      <th>0</th>\n",
       "      <td>000405d9a5e3f49fc49d</td>\n",
       "      <td>photographic paper</td>\n",
       "    </tr>\n",
       "    <tr>\n",
       "      <th>1</th>\n",
       "      <td>000405d9a5e3f49fc49d</td>\n",
       "      <td>cardboard</td>\n",
       "    </tr>\n",
       "    <tr>\n",
       "      <th>2</th>\n",
       "      <td>001020bd00b149970f78</td>\n",
       "      <td>oil paint (paint)</td>\n",
       "    </tr>\n",
       "    <tr>\n",
       "      <th>3</th>\n",
       "      <td>001020bd00b149970f78</td>\n",
       "      <td>panel</td>\n",
       "    </tr>\n",
       "    <tr>\n",
       "      <th>4</th>\n",
       "      <td>0011d6be41612ec9eae3</td>\n",
       "      <td>oil paint (paint)</td>\n",
       "    </tr>\n",
       "  </tbody>\n",
       "</table>\n",
       "</div>"
      ],
      "text/plain": [
       "              object_id                name\n",
       "0  000405d9a5e3f49fc49d  photographic paper\n",
       "1  000405d9a5e3f49fc49d           cardboard\n",
       "2  001020bd00b149970f78   oil paint (paint)\n",
       "3  001020bd00b149970f78               panel\n",
       "4  0011d6be41612ec9eae3   oil paint (paint)"
      ]
     },
     "execution_count": 3,
     "metadata": {},
     "output_type": "execute_result"
    }
   ],
   "source": [
    "material.head()"
   ]
  },
  {
   "cell_type": "code",
   "execution_count": 4,
   "metadata": {},
   "outputs": [
    {
     "data": {
      "text/html": [
       "<div>\n",
       "<style scoped>\n",
       "    .dataframe tbody tr th:only-of-type {\n",
       "        vertical-align: middle;\n",
       "    }\n",
       "\n",
       "    .dataframe tbody tr th {\n",
       "        vertical-align: top;\n",
       "    }\n",
       "\n",
       "    .dataframe thead th {\n",
       "        text-align: right;\n",
       "    }\n",
       "</style>\n",
       "<table border=\"1\" class=\"dataframe\">\n",
       "  <thead>\n",
       "    <tr style=\"text-align: right;\">\n",
       "      <th></th>\n",
       "      <th>object_id</th>\n",
       "      <th>name</th>\n",
       "    </tr>\n",
       "  </thead>\n",
       "  <tbody>\n",
       "    <tr>\n",
       "      <th>0</th>\n",
       "      <td>0012765f7a97ccc3e9e9</td>\n",
       "      <td>Netherlands</td>\n",
       "    </tr>\n",
       "    <tr>\n",
       "      <th>1</th>\n",
       "      <td>00133be3ff222c9b74b0</td>\n",
       "      <td>Amsterdam</td>\n",
       "    </tr>\n",
       "    <tr>\n",
       "      <th>2</th>\n",
       "      <td>00133be3ff222c9b74b0</td>\n",
       "      <td>Northern Netherlands</td>\n",
       "    </tr>\n",
       "    <tr>\n",
       "      <th>3</th>\n",
       "      <td>0017be8caa87206532cb</td>\n",
       "      <td>Amsterdam</td>\n",
       "    </tr>\n",
       "    <tr>\n",
       "      <th>4</th>\n",
       "      <td>001b2b8c9d3aa1534dfe</td>\n",
       "      <td>Suriname</td>\n",
       "    </tr>\n",
       "  </tbody>\n",
       "</table>\n",
       "</div>"
      ],
      "text/plain": [
       "              object_id                  name\n",
       "0  0012765f7a97ccc3e9e9           Netherlands\n",
       "1  00133be3ff222c9b74b0             Amsterdam\n",
       "2  00133be3ff222c9b74b0  Northern Netherlands\n",
       "3  0017be8caa87206532cb             Amsterdam\n",
       "4  001b2b8c9d3aa1534dfe              Suriname"
      ]
     },
     "execution_count": 4,
     "metadata": {},
     "output_type": "execute_result"
    }
   ],
   "source": [
    "production.head()"
   ]
  },
  {
   "cell_type": "code",
   "execution_count": 5,
   "metadata": {},
   "outputs": [
    {
     "data": {
      "text/html": [
       "<div>\n",
       "<style scoped>\n",
       "    .dataframe tbody tr th:only-of-type {\n",
       "        vertical-align: middle;\n",
       "    }\n",
       "\n",
       "    .dataframe tbody tr th {\n",
       "        vertical-align: top;\n",
       "    }\n",
       "\n",
       "    .dataframe thead th {\n",
       "        text-align: right;\n",
       "    }\n",
       "</style>\n",
       "<table border=\"1\" class=\"dataframe\">\n",
       "  <thead>\n",
       "    <tr style=\"text-align: right;\">\n",
       "      <th></th>\n",
       "      <th>object_id</th>\n",
       "      <th>name</th>\n",
       "    </tr>\n",
       "  </thead>\n",
       "  <tbody>\n",
       "    <tr>\n",
       "      <th>0</th>\n",
       "      <td>0012765f7a97ccc3e9e9</td>\n",
       "      <td>Netherlands</td>\n",
       "    </tr>\n",
       "    <tr>\n",
       "      <th>1</th>\n",
       "      <td>00133be3ff222c9b74b0</td>\n",
       "      <td>Netherlands</td>\n",
       "    </tr>\n",
       "    <tr>\n",
       "      <th>2</th>\n",
       "      <td>00133be3ff222c9b74b0</td>\n",
       "      <td>Netherlands</td>\n",
       "    </tr>\n",
       "    <tr>\n",
       "      <th>3</th>\n",
       "      <td>0017be8caa87206532cb</td>\n",
       "      <td>Netherlands</td>\n",
       "    </tr>\n",
       "    <tr>\n",
       "      <th>4</th>\n",
       "      <td>001b2b8c9d3aa1534dfe</td>\n",
       "      <td>Suriname</td>\n",
       "    </tr>\n",
       "  </tbody>\n",
       "</table>\n",
       "</div>"
      ],
      "text/plain": [
       "              object_id         name\n",
       "0  0012765f7a97ccc3e9e9  Netherlands\n",
       "1  00133be3ff222c9b74b0  Netherlands\n",
       "2  00133be3ff222c9b74b0  Netherlands\n",
       "3  0017be8caa87206532cb  Netherlands\n",
       "4  001b2b8c9d3aa1534dfe     Suriname"
      ]
     },
     "execution_count": 5,
     "metadata": {},
     "output_type": "execute_result"
    }
   ],
   "source": [
    "production_country.head()"
   ]
  },
  {
   "cell_type": "code",
   "execution_count": 6,
   "metadata": {},
   "outputs": [],
   "source": [
    "production_country['name'] = production_country['name'].fillna('missing')"
   ]
  },
  {
   "cell_type": "code",
   "execution_count": 7,
   "metadata": {},
   "outputs": [
    {
     "data": {
      "text/plain": [
       "object_id\n",
       "000405d9a5e3f49fc49d    [photographic paper, cardboard]\n",
       "001020bd00b149970f78         [oil paint (paint), panel]\n",
       "0011d6be41612ec9eae3        [oil paint (paint), canvas]\n",
       "0012765f7a97ccc3e9e9               [photographic paper]\n",
       "00133be3ff222c9b74b0                            [paper]\n",
       "                                     ...               \n",
       "fff1d87d79953ddab2c6         [oil paint (paint), panel]\n",
       "fff4bbb55fd7702d294e               [photographic paper]\n",
       "fffbe07b997bec00e203    [photographic paper, cardboard]\n",
       "fffd43b134ba7197d890               [photographic paper]\n",
       "ffff22ea12d7f99cff31        [paper, photographic paper]\n",
       "Name: name, Length: 23586, dtype: object"
      ]
     },
     "execution_count": 7,
     "metadata": {},
     "output_type": "execute_result"
    }
   ],
   "source": [
    "material.groupby(\"object_id\")[\"name\"].apply(list)"
   ]
  },
  {
   "cell_type": "code",
   "execution_count": 8,
   "metadata": {},
   "outputs": [],
   "source": [
    "mat_col = pd.concat([material, collection], axis=0).reset_index(drop=True)\n",
    "mat_tec = pd.concat([material, technique], axis=0).reset_index(drop=True)\n",
    "col_tec = pd.concat([collection, technique], axis=0).reset_index(drop=True)\n",
    "mat_col_tec = pd.concat([material, collection, technique], axis=0).reset_index(drop=True)\n",
    "\n",
    "mat_col_tec_prod = pd.concat([material, collection, technique, production], axis=0).reset_index(drop=True)\n",
    "mat_col_tec_prod_country = pd.concat([material, collection, technique, production_country], axis=0).reset_index(drop=True)"
   ]
  },
  {
   "cell_type": "code",
   "execution_count": 9,
   "metadata": {},
   "outputs": [
    {
     "data": {
      "text/plain": [
       "object_id\n",
       "000405d9a5e3f49fc49d       [photographic paper, cardboard, albumen print]\n",
       "001020bd00b149970f78                [oil paint (paint), panel, paintings]\n",
       "0011d6be41612ec9eae3               [oil paint (paint), canvas, paintings]\n",
       "0012765f7a97ccc3e9e9    [photographic paper, salted paper print, album...\n",
       "00133be3ff222c9b74b0    [paper, prints, etching, Netherlands, Netherla...\n",
       "                                              ...                        \n",
       "fff4bbb55fd7702d294e                  [photographic paper, albumen print]\n",
       "fffbe07b997bec00e203    [photographic paper, cardboard, albumen print,...\n",
       "fffd1675758205748d7f                                      [albumen print]\n",
       "fffd43b134ba7197d890    [photographic paper, albumen print, United Kin...\n",
       "ffff22ea12d7f99cff31    [paper, photographic paper, albumen print, Uni...\n",
       "Name: name, Length: 23972, dtype: object"
      ]
     },
     "execution_count": 9,
     "metadata": {},
     "output_type": "execute_result"
    }
   ],
   "source": [
    "mat_col_tec_prod_country.groupby(\"object_id\")[\"name\"].apply(list)"
   ]
  },
  {
   "cell_type": "code",
   "execution_count": 10,
   "metadata": {},
   "outputs": [],
   "source": [
    "# 単語ベクトル表現の次元数\n",
    "# 元の語彙数をベースに適当に決めました\n",
    "model_size = {\n",
    "    \"material\": 20,\n",
    "    \"collection\": 3,\n",
    "    \"technique\": 8,\n",
    "    \"production\" : 20,\n",
    "    \"production_country\" : 20,\n",
    "    \"material_collection\": 20,\n",
    "    \"material_technique\": 20,\n",
    "    \"collection_technique\": 10,\n",
    "    \"material_collection_technique\": 25,\n",
    "    \"material_collection_technique_production\" : 30,\n",
    "    \"material_collection_technique_production_country\" : 30,\n",
    "}\n",
    "\n",
    "n_iter = 100"
   ]
  },
  {
   "cell_type": "code",
   "execution_count": 11,
   "metadata": {},
   "outputs": [
    {
     "name": "stderr",
     "output_type": "stream",
     "text": [
      "100%|██████████| 23586/23586 [00:00<00:00, 58952.20it/s]\n",
      "100%|██████████| 14160/14160 [00:00<00:00, 62236.03it/s]\n",
      "100%|██████████| 17329/17329 [00:00<00:00, 58242.88it/s]\n",
      "100%|██████████| 15547/15547 [00:00<00:00, 58577.31it/s]\n",
      "100%|██████████| 15547/15547 [00:00<00:00, 59241.51it/s]\n",
      "100%|██████████| 23597/23597 [00:00<00:00, 53421.84it/s]\n",
      "100%|██████████| 23950/23950 [00:00<00:00, 53817.78it/s]\n",
      "100%|██████████| 21646/21646 [00:00<00:00, 56397.41it/s]\n",
      "100%|██████████| 23953/23953 [00:00<00:00, 52097.79it/s]\n",
      "100%|██████████| 23972/23972 [00:00<00:00, 57556.40it/s]\n",
      "100%|██████████| 23972/23972 [00:00<00:00, 54076.59it/s]\n"
     ]
    }
   ],
   "source": [
    "w2v_dfs = []\n",
    "for df, df_name in zip(\n",
    "        [\n",
    "            material, collection, technique, production, production_country,\n",
    "            mat_col, mat_tec, col_tec, mat_col_tec, mat_col_tec_prod, mat_col_tec_prod_country\n",
    "        ], [\n",
    "            \"material\", \"collection\", \"technique\", \"production\", \"production_country\",\n",
    "            \"material_collection\",\n",
    "            \"material_technique\",\n",
    "            \"collection_technique\",\n",
    "            \"material_collection_technique\",\n",
    "            \"material_collection_technique_production\",\n",
    "            \"material_collection_technique_production_country\"\n",
    "        ]):\n",
    "    df_group = df.groupby(\"object_id\")[\"name\"].apply(list).reset_index()\n",
    "    # Word2Vecの学習\n",
    "    w2v_model = word2vec.Word2Vec(df_group[\"name\"].values.tolist(),\n",
    "                                  size=model_size[df_name],\n",
    "                                  min_count=1,\n",
    "                                  window=1,\n",
    "                                  iter=n_iter)\n",
    "\n",
    "    # 各文章ごとにそれぞれの単語をベクトル表現に直し、平均をとって文章ベクトルにする\n",
    "    sentence_vectors = df_group[\"name\"].progress_apply(\n",
    "        lambda x: np.mean([w2v_model.wv[e] for e in x], axis=0))\n",
    "    sentence_vectors = np.vstack([x for x in sentence_vectors])\n",
    "    sentence_vector_df = pd.DataFrame(sentence_vectors,\n",
    "                                      columns=[f\"{df_name}_w2v_{i}\"\n",
    "                                               for i in range(model_size[df_name])])\n",
    "    sentence_vector_df.index = df_group[\"object_id\"]\n",
    "    w2v_dfs.append(sentence_vector_df)"
   ]
  },
  {
   "cell_type": "code",
   "execution_count": 12,
   "metadata": {},
   "outputs": [
    {
     "data": {
      "text/plain": [
       "11"
      ]
     },
     "execution_count": 12,
     "metadata": {},
     "output_type": "execute_result"
    }
   ],
   "source": [
    "len(w2v_dfs)"
   ]
  },
  {
   "cell_type": "code",
   "execution_count": 14,
   "metadata": {},
   "outputs": [],
   "source": [
    "w2v_dfs[0].to_csv('../material_w2v.csv')"
   ]
  },
  {
   "cell_type": "code",
   "execution_count": 16,
   "metadata": {},
   "outputs": [],
   "source": [
    "w2v_dfs[1].to_csv('../collection_w2v.csv')"
   ]
  },
  {
   "cell_type": "code",
   "execution_count": 18,
   "metadata": {},
   "outputs": [],
   "source": [
    "w2v_dfs[2].to_csv('../technique_w2v.csv')"
   ]
  },
  {
   "cell_type": "code",
   "execution_count": 20,
   "metadata": {},
   "outputs": [],
   "source": [
    "w2v_dfs[3].to_csv('../prodcution_w2v.csv')"
   ]
  },
  {
   "cell_type": "code",
   "execution_count": 22,
   "metadata": {},
   "outputs": [],
   "source": [
    "w2v_dfs[4].to_csv('../production_country_w2v.csv')"
   ]
  },
  {
   "cell_type": "code",
   "execution_count": 24,
   "metadata": {},
   "outputs": [],
   "source": [
    "w2v_dfs[5].to_csv('../material_collection_w2v.csv')"
   ]
  },
  {
   "cell_type": "code",
   "execution_count": 26,
   "metadata": {},
   "outputs": [],
   "source": [
    "w2v_dfs[6].to_csv('../material_technique_w2v.csv')"
   ]
  },
  {
   "cell_type": "code",
   "execution_count": 28,
   "metadata": {},
   "outputs": [],
   "source": [
    "w2v_dfs[7].to_csv('../collection_technique_w2v.csv')"
   ]
  },
  {
   "cell_type": "code",
   "execution_count": 30,
   "metadata": {},
   "outputs": [],
   "source": [
    "w2v_dfs[8].to_csv('../material_collection_technique_w2v.csv')"
   ]
  },
  {
   "cell_type": "code",
   "execution_count": 33,
   "metadata": {},
   "outputs": [],
   "source": [
    "w2v_dfs[9].to_csv('../material_collection_technique_production_w2v.csv')"
   ]
  },
  {
   "cell_type": "code",
   "execution_count": 35,
   "metadata": {},
   "outputs": [],
   "source": [
    "w2v_dfs[10].to_csv('../material_collection_technique_production_country_w2v.csv')"
   ]
  }
 ],
 "metadata": {
  "kernelspec": {
   "display_name": "Python 3",
   "language": "python",
   "name": "python3"
  },
  "language_info": {
   "codemirror_mode": {
    "name": "ipython",
    "version": 3
   },
   "file_extension": ".py",
   "mimetype": "text/x-python",
   "name": "python",
   "nbconvert_exporter": "python",
   "pygments_lexer": "ipython3",
   "version": "3.8.3"
  }
 },
 "nbformat": 4,
 "nbformat_minor": 4
}
