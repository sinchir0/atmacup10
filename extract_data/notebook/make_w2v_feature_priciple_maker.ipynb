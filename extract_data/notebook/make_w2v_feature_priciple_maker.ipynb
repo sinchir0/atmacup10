{
 "cells": [
  {
   "cell_type": "code",
   "execution_count": 3,
   "metadata": {},
   "outputs": [
    {
     "name": "stderr",
     "output_type": "stream",
     "text": [
      "/Users/shinichiro.saito/opt/anaconda3/lib/python3.8/site-packages/tqdm/std.py:668: FutureWarning: The Panel class is removed from pandas. Accessing it from the top-level namespace will also be removed in the next version\n",
      "  from pandas import Panel\n"
     ]
    }
   ],
   "source": [
    "import pandas as pd\n",
    "import numpy as np\n",
    "\n",
    "from pathlib import Path\n",
    "\n",
    "from gensim.models import word2vec, KeyedVectors\n",
    "from tqdm import tqdm\n",
    "tqdm.pandas()"
   ]
  },
  {
   "cell_type": "code",
   "execution_count": 2,
   "metadata": {},
   "outputs": [],
   "source": [
    "sub = pd.read_csv('../../data/atmacup10__sample_submission.csv')\n",
    "color = pd.read_csv('../../data/color.csv')\n",
    "historical_person = pd.read_csv('../../data/historical_person.csv')\n",
    "maker = pd.read_csv('../../data/maker.csv')\n",
    "material = pd.read_csv('../../data/material.csv')\n",
    "collection = pd.read_csv('../../data/object_collection.csv')\n",
    "palette = pd.read_csv('../../data/palette.csv')\n",
    "principal_maker_occupation = pd.read_csv('../../data/principal_maker_occupation.csv')\n",
    "principal_maker = pd.read_csv('../../data/principal_maker.csv')\n",
    "\n",
    "principal_maker_role = pd.merge(principal_maker,principal_maker_occupation,on='id',how='left') \n",
    "\n",
    "#production_place = pd.read_csv('../../data/production_place.csv')\n",
    "production = pd.read_csv('../../extract_data/production_place_rename.csv').iloc[:,1:][['object_id','name']]\n",
    "production_country = pd.read_csv('../../extract_data/production_place_rename.csv').iloc[:,1:][['object_id','country_name']].rename(columns={'country_name':'name'})\n",
    "\n",
    "technique = pd.read_csv('../../data/technique.csv')\n",
    "test = pd.read_csv('../../data/test.csv')\n",
    "train = pd.read_csv('../../data/train.csv')"
   ]
  },
  {
   "cell_type": "code",
   "execution_count": 3,
   "metadata": {},
   "outputs": [
    {
     "data": {
      "text/html": [
       "<div>\n",
       "<style scoped>\n",
       "    .dataframe tbody tr th:only-of-type {\n",
       "        vertical-align: middle;\n",
       "    }\n",
       "\n",
       "    .dataframe tbody tr th {\n",
       "        vertical-align: top;\n",
       "    }\n",
       "\n",
       "    .dataframe thead th {\n",
       "        text-align: right;\n",
       "    }\n",
       "</style>\n",
       "<table border=\"1\" class=\"dataframe\">\n",
       "  <thead>\n",
       "    <tr style=\"text-align: right;\">\n",
       "      <th></th>\n",
       "      <th>id</th>\n",
       "      <th>object_id</th>\n",
       "      <th>qualification</th>\n",
       "      <th>roles</th>\n",
       "      <th>productionPlaces</th>\n",
       "      <th>maker_name</th>\n",
       "      <th>name</th>\n",
       "    </tr>\n",
       "  </thead>\n",
       "  <tbody>\n",
       "    <tr>\n",
       "      <th>0</th>\n",
       "      <td>1</td>\n",
       "      <td>000405d9a5e3f49fc49d</td>\n",
       "      <td>mentioned on object</td>\n",
       "      <td>NaN</td>\n",
       "      <td>NaN</td>\n",
       "      <td>Bernardus Bruining</td>\n",
       "      <td>NaN</td>\n",
       "    </tr>\n",
       "    <tr>\n",
       "      <th>1</th>\n",
       "      <td>2</td>\n",
       "      <td>001020bd00b149970f78</td>\n",
       "      <td>workshop of</td>\n",
       "      <td>painter</td>\n",
       "      <td>NaN</td>\n",
       "      <td>Jan Antonisz van Ravesteyn</td>\n",
       "      <td>draughtsman</td>\n",
       "    </tr>\n",
       "    <tr>\n",
       "      <th>2</th>\n",
       "      <td>2</td>\n",
       "      <td>001020bd00b149970f78</td>\n",
       "      <td>workshop of</td>\n",
       "      <td>painter</td>\n",
       "      <td>NaN</td>\n",
       "      <td>Jan Antonisz van Ravesteyn</td>\n",
       "      <td>painter</td>\n",
       "    </tr>\n",
       "    <tr>\n",
       "      <th>3</th>\n",
       "      <td>3</td>\n",
       "      <td>0011d6be41612ec9eae3</td>\n",
       "      <td>NaN</td>\n",
       "      <td>painter</td>\n",
       "      <td>NaN</td>\n",
       "      <td>Jan Hackaert</td>\n",
       "      <td>print maker</td>\n",
       "    </tr>\n",
       "    <tr>\n",
       "      <th>4</th>\n",
       "      <td>3</td>\n",
       "      <td>0011d6be41612ec9eae3</td>\n",
       "      <td>NaN</td>\n",
       "      <td>painter</td>\n",
       "      <td>NaN</td>\n",
       "      <td>Jan Hackaert</td>\n",
       "      <td>draughtsman</td>\n",
       "    </tr>\n",
       "    <tr>\n",
       "      <th>...</th>\n",
       "      <td>...</td>\n",
       "      <td>...</td>\n",
       "      <td>...</td>\n",
       "      <td>...</td>\n",
       "      <td>...</td>\n",
       "      <td>...</td>\n",
       "      <td>...</td>\n",
       "    </tr>\n",
       "    <tr>\n",
       "      <th>36183</th>\n",
       "      <td>24534</td>\n",
       "      <td>fff4bbb55fd7702d294e</td>\n",
       "      <td>NaN</td>\n",
       "      <td>NaN</td>\n",
       "      <td>NaN</td>\n",
       "      <td>Henry W. Taunt</td>\n",
       "      <td>NaN</td>\n",
       "    </tr>\n",
       "    <tr>\n",
       "      <th>36184</th>\n",
       "      <td>24535</td>\n",
       "      <td>fffbe07b997bec00e203</td>\n",
       "      <td>attributed to</td>\n",
       "      <td>NaN</td>\n",
       "      <td>Great Britain</td>\n",
       "      <td>John Jabez Edwin Mayall</td>\n",
       "      <td>NaN</td>\n",
       "    </tr>\n",
       "    <tr>\n",
       "      <th>36185</th>\n",
       "      <td>24536</td>\n",
       "      <td>fffd1675758205748d7f</td>\n",
       "      <td>NaN</td>\n",
       "      <td>NaN</td>\n",
       "      <td>NaN</td>\n",
       "      <td>Francis Frith</td>\n",
       "      <td>publisher</td>\n",
       "    </tr>\n",
       "    <tr>\n",
       "      <th>36186</th>\n",
       "      <td>24537</td>\n",
       "      <td>fffd43b134ba7197d890</td>\n",
       "      <td>NaN</td>\n",
       "      <td>NaN</td>\n",
       "      <td>NaN</td>\n",
       "      <td>Henry W. Taunt</td>\n",
       "      <td>NaN</td>\n",
       "    </tr>\n",
       "    <tr>\n",
       "      <th>36187</th>\n",
       "      <td>24538</td>\n",
       "      <td>ffff22ea12d7f99cff31</td>\n",
       "      <td>NaN</td>\n",
       "      <td>NaN</td>\n",
       "      <td>England</td>\n",
       "      <td>anonymous</td>\n",
       "      <td>NaN</td>\n",
       "    </tr>\n",
       "  </tbody>\n",
       "</table>\n",
       "<p>36188 rows × 7 columns</p>\n",
       "</div>"
      ],
      "text/plain": [
       "          id             object_id        qualification    roles  \\\n",
       "0          1  000405d9a5e3f49fc49d  mentioned on object      NaN   \n",
       "1          2  001020bd00b149970f78          workshop of  painter   \n",
       "2          2  001020bd00b149970f78          workshop of  painter   \n",
       "3          3  0011d6be41612ec9eae3                  NaN  painter   \n",
       "4          3  0011d6be41612ec9eae3                  NaN  painter   \n",
       "...      ...                   ...                  ...      ...   \n",
       "36183  24534  fff4bbb55fd7702d294e                  NaN      NaN   \n",
       "36184  24535  fffbe07b997bec00e203        attributed to      NaN   \n",
       "36185  24536  fffd1675758205748d7f                  NaN      NaN   \n",
       "36186  24537  fffd43b134ba7197d890                  NaN      NaN   \n",
       "36187  24538  ffff22ea12d7f99cff31                  NaN      NaN   \n",
       "\n",
       "      productionPlaces                  maker_name         name  \n",
       "0                  NaN          Bernardus Bruining          NaN  \n",
       "1                  NaN  Jan Antonisz van Ravesteyn  draughtsman  \n",
       "2                  NaN  Jan Antonisz van Ravesteyn      painter  \n",
       "3                  NaN                Jan Hackaert  print maker  \n",
       "4                  NaN                Jan Hackaert  draughtsman  \n",
       "...                ...                         ...          ...  \n",
       "36183              NaN              Henry W. Taunt          NaN  \n",
       "36184    Great Britain     John Jabez Edwin Mayall          NaN  \n",
       "36185              NaN               Francis Frith    publisher  \n",
       "36186              NaN              Henry W. Taunt          NaN  \n",
       "36187          England                   anonymous          NaN  \n",
       "\n",
       "[36188 rows x 7 columns]"
      ]
     },
     "execution_count": 3,
     "metadata": {},
     "output_type": "execute_result"
    }
   ],
   "source": [
    "principal_maker_role"
   ]
  },
  {
   "cell_type": "code",
   "execution_count": 31,
   "metadata": {},
   "outputs": [],
   "source": [
    "qual = principal_maker_role[['object_id','qualification']]\n",
    "role = principal_maker_role[['object_id','roles']]\n",
    "name = principal_maker_role[['object_id','name']]"
   ]
  },
  {
   "cell_type": "code",
   "execution_count": 42,
   "metadata": {},
   "outputs": [],
   "source": [
    "qual = qual.rename(columns={'qualification':'name'})\n",
    "role = role.rename(columns={'roles':'name'})"
   ]
  },
  {
   "cell_type": "code",
   "execution_count": 49,
   "metadata": {},
   "outputs": [],
   "source": [
    "qual = qual.fillna('missing')\n",
    "role = role.fillna('missing')\n",
    "name = name.fillna('missing')"
   ]
  },
  {
   "cell_type": "code",
   "execution_count": 50,
   "metadata": {},
   "outputs": [
    {
     "data": {
      "text/plain": [
       "17"
      ]
     },
     "execution_count": 50,
     "metadata": {},
     "output_type": "execute_result"
    }
   ],
   "source": [
    "qual['name'].nunique()"
   ]
  },
  {
   "cell_type": "code",
   "execution_count": 51,
   "metadata": {},
   "outputs": [
    {
     "data": {
      "text/plain": [
       "12"
      ]
     },
     "execution_count": 51,
     "metadata": {},
     "output_type": "execute_result"
    }
   ],
   "source": [
    "role['name'].nunique()"
   ]
  },
  {
   "cell_type": "code",
   "execution_count": 52,
   "metadata": {},
   "outputs": [
    {
     "data": {
      "text/plain": [
       "13"
      ]
     },
     "execution_count": 52,
     "metadata": {},
     "output_type": "execute_result"
    }
   ],
   "source": [
    "name['name'].nunique()"
   ]
  },
  {
   "cell_type": "code",
   "execution_count": 53,
   "metadata": {},
   "outputs": [],
   "source": [
    "qual_role = pd.concat([qual, role], axis=0).reset_index(drop=True)\n",
    "qual_name = pd.concat([qual, name], axis=0).reset_index(drop=True)\n",
    "role_name = pd.concat([role, name], axis=0).reset_index(drop=True)\n",
    "qual_role_name = pd.concat([qual, role, name], axis=0).reset_index(drop=True)"
   ]
  },
  {
   "cell_type": "code",
   "execution_count": 54,
   "metadata": {},
   "outputs": [],
   "source": [
    "# 単語ベクトル表現の次元数\n",
    "# 元の語彙数をベースに適当に決めました\n",
    "# 大体1/3ぐらい？\n",
    "model_size = {\n",
    "    \"qualification\": 5,\n",
    "    \"roles\": 4,\n",
    "    \"name\": 4,\n",
    "    \"qualification_roles\" : 20,\n",
    "    \"qualification_name\": 20,\n",
    "    \"roles_name\": 20,\n",
    "    \"qualification_roles_name\" : 30,\n",
    "}\n",
    "\n",
    "n_iter = 100"
   ]
  },
  {
   "cell_type": "code",
   "execution_count": 55,
   "metadata": {},
   "outputs": [
    {
     "name": "stderr",
     "output_type": "stream",
     "text": [
      "100%|██████████| 24034/24034 [00:00<00:00, 55835.49it/s]\n",
      "100%|██████████| 24034/24034 [00:00<00:00, 51201.10it/s]\n",
      "100%|██████████| 24034/24034 [00:00<00:00, 57086.53it/s]\n",
      "100%|██████████| 24034/24034 [00:00<00:00, 52423.21it/s]\n",
      "100%|██████████| 24034/24034 [00:00<00:00, 56773.54it/s]\n",
      "100%|██████████| 24034/24034 [00:00<00:00, 55437.39it/s]\n",
      "100%|██████████| 24034/24034 [00:00<00:00, 47669.87it/s]\n"
     ]
    }
   ],
   "source": [
    "w2v_dfs = []\n",
    "for df, df_name in zip(\n",
    "        [\n",
    "            qual, role, name, \n",
    "            qual_role, qual_name, role_name,\n",
    "            qual_role_name\n",
    "        ], [\n",
    "            \"qualification\", \"roles\", \"name\",\n",
    "            \"qualification_roles\", \"qualification_name\", \"roles_name\",\n",
    "            \"qualification_roles_name\"\n",
    "        ]):\n",
    "    df_group = df.groupby(\"object_id\")[\"name\"].apply(list).reset_index()\n",
    "    # Word2Vecの学習\n",
    "    w2v_model = word2vec.Word2Vec(df_group[\"name\"].values.tolist(),\n",
    "                                  size=model_size[df_name],\n",
    "                                  min_count=1,\n",
    "                                  window=1,\n",
    "                                  iter=n_iter)\n",
    "\n",
    "    # 各文章ごとにそれぞれの単語をベクトル表現に直し、平均をとって文章ベクトルにする\n",
    "    sentence_vectors = df_group[\"name\"].progress_apply(\n",
    "        lambda x: np.mean([w2v_model.wv[e] for e in x], axis=0))\n",
    "    sentence_vectors = np.vstack([x for x in sentence_vectors])\n",
    "    sentence_vector_df = pd.DataFrame(sentence_vectors,\n",
    "                                      columns=[f\"{df_name}_w2v_{i}\"\n",
    "                                               for i in range(model_size[df_name])])\n",
    "    sentence_vector_df.index = df_group[\"object_id\"]\n",
    "    w2v_dfs.append(sentence_vector_df)"
   ]
  },
  {
   "cell_type": "code",
   "execution_count": 56,
   "metadata": {},
   "outputs": [
    {
     "data": {
      "text/plain": [
       "7"
      ]
     },
     "execution_count": 56,
     "metadata": {},
     "output_type": "execute_result"
    }
   ],
   "source": [
    "len(w2v_dfs)"
   ]
  },
  {
   "cell_type": "code",
   "execution_count": 72,
   "metadata": {},
   "outputs": [
    {
     "data": {
      "text/html": [
       "<div>\n",
       "<style scoped>\n",
       "    .dataframe tbody tr th:only-of-type {\n",
       "        vertical-align: middle;\n",
       "    }\n",
       "\n",
       "    .dataframe tbody tr th {\n",
       "        vertical-align: top;\n",
       "    }\n",
       "\n",
       "    .dataframe thead th {\n",
       "        text-align: right;\n",
       "    }\n",
       "</style>\n",
       "<table border=\"1\" class=\"dataframe\">\n",
       "  <thead>\n",
       "    <tr style=\"text-align: right;\">\n",
       "      <th></th>\n",
       "      <th>qualification_w2v_0</th>\n",
       "      <th>qualification_w2v_1</th>\n",
       "      <th>qualification_w2v_2</th>\n",
       "      <th>qualification_w2v_3</th>\n",
       "      <th>qualification_w2v_4</th>\n",
       "    </tr>\n",
       "    <tr>\n",
       "      <th>object_id</th>\n",
       "      <th></th>\n",
       "      <th></th>\n",
       "      <th></th>\n",
       "      <th></th>\n",
       "      <th></th>\n",
       "    </tr>\n",
       "  </thead>\n",
       "  <tbody>\n",
       "    <tr>\n",
       "      <th>000405d9a5e3f49fc49d</th>\n",
       "      <td>-1.407384</td>\n",
       "      <td>-0.298591</td>\n",
       "      <td>-0.139830</td>\n",
       "      <td>-2.478325</td>\n",
       "      <td>-2.549996</td>\n",
       "    </tr>\n",
       "    <tr>\n",
       "      <th>001020bd00b149970f78</th>\n",
       "      <td>-2.742899</td>\n",
       "      <td>0.964579</td>\n",
       "      <td>-3.054511</td>\n",
       "      <td>-0.525887</td>\n",
       "      <td>-0.858646</td>\n",
       "    </tr>\n",
       "    <tr>\n",
       "      <th>0011d6be41612ec9eae3</th>\n",
       "      <td>-1.417162</td>\n",
       "      <td>2.441867</td>\n",
       "      <td>-0.156843</td>\n",
       "      <td>-0.055526</td>\n",
       "      <td>1.289634</td>\n",
       "    </tr>\n",
       "    <tr>\n",
       "      <th>0012765f7a97ccc3e9e9</th>\n",
       "      <td>-1.025733</td>\n",
       "      <td>1.105202</td>\n",
       "      <td>1.408582</td>\n",
       "      <td>1.419923</td>\n",
       "      <td>-0.180969</td>\n",
       "    </tr>\n",
       "    <tr>\n",
       "      <th>00133be3ff222c9b74b0</th>\n",
       "      <td>-1.417162</td>\n",
       "      <td>2.441867</td>\n",
       "      <td>-0.156843</td>\n",
       "      <td>-0.055526</td>\n",
       "      <td>1.289634</td>\n",
       "    </tr>\n",
       "    <tr>\n",
       "      <th>...</th>\n",
       "      <td>...</td>\n",
       "      <td>...</td>\n",
       "      <td>...</td>\n",
       "      <td>...</td>\n",
       "      <td>...</td>\n",
       "    </tr>\n",
       "    <tr>\n",
       "      <th>fff4bbb55fd7702d294e</th>\n",
       "      <td>-1.417162</td>\n",
       "      <td>2.441867</td>\n",
       "      <td>-0.156843</td>\n",
       "      <td>-0.055526</td>\n",
       "      <td>1.289634</td>\n",
       "    </tr>\n",
       "    <tr>\n",
       "      <th>fffbe07b997bec00e203</th>\n",
       "      <td>-1.025733</td>\n",
       "      <td>1.105202</td>\n",
       "      <td>1.408582</td>\n",
       "      <td>1.419923</td>\n",
       "      <td>-0.180969</td>\n",
       "    </tr>\n",
       "    <tr>\n",
       "      <th>fffd1675758205748d7f</th>\n",
       "      <td>-1.417162</td>\n",
       "      <td>2.441867</td>\n",
       "      <td>-0.156843</td>\n",
       "      <td>-0.055526</td>\n",
       "      <td>1.289634</td>\n",
       "    </tr>\n",
       "    <tr>\n",
       "      <th>fffd43b134ba7197d890</th>\n",
       "      <td>-1.417162</td>\n",
       "      <td>2.441867</td>\n",
       "      <td>-0.156843</td>\n",
       "      <td>-0.055526</td>\n",
       "      <td>1.289634</td>\n",
       "    </tr>\n",
       "    <tr>\n",
       "      <th>ffff22ea12d7f99cff31</th>\n",
       "      <td>-1.417162</td>\n",
       "      <td>2.441867</td>\n",
       "      <td>-0.156843</td>\n",
       "      <td>-0.055526</td>\n",
       "      <td>1.289634</td>\n",
       "    </tr>\n",
       "  </tbody>\n",
       "</table>\n",
       "<p>24034 rows × 5 columns</p>\n",
       "</div>"
      ],
      "text/plain": [
       "                      qualification_w2v_0  qualification_w2v_1  \\\n",
       "object_id                                                        \n",
       "000405d9a5e3f49fc49d            -1.407384            -0.298591   \n",
       "001020bd00b149970f78            -2.742899             0.964579   \n",
       "0011d6be41612ec9eae3            -1.417162             2.441867   \n",
       "0012765f7a97ccc3e9e9            -1.025733             1.105202   \n",
       "00133be3ff222c9b74b0            -1.417162             2.441867   \n",
       "...                                   ...                  ...   \n",
       "fff4bbb55fd7702d294e            -1.417162             2.441867   \n",
       "fffbe07b997bec00e203            -1.025733             1.105202   \n",
       "fffd1675758205748d7f            -1.417162             2.441867   \n",
       "fffd43b134ba7197d890            -1.417162             2.441867   \n",
       "ffff22ea12d7f99cff31            -1.417162             2.441867   \n",
       "\n",
       "                      qualification_w2v_2  qualification_w2v_3  \\\n",
       "object_id                                                        \n",
       "000405d9a5e3f49fc49d            -0.139830            -2.478325   \n",
       "001020bd00b149970f78            -3.054511            -0.525887   \n",
       "0011d6be41612ec9eae3            -0.156843            -0.055526   \n",
       "0012765f7a97ccc3e9e9             1.408582             1.419923   \n",
       "00133be3ff222c9b74b0            -0.156843            -0.055526   \n",
       "...                                   ...                  ...   \n",
       "fff4bbb55fd7702d294e            -0.156843            -0.055526   \n",
       "fffbe07b997bec00e203             1.408582             1.419923   \n",
       "fffd1675758205748d7f            -0.156843            -0.055526   \n",
       "fffd43b134ba7197d890            -0.156843            -0.055526   \n",
       "ffff22ea12d7f99cff31            -0.156843            -0.055526   \n",
       "\n",
       "                      qualification_w2v_4  \n",
       "object_id                                  \n",
       "000405d9a5e3f49fc49d            -2.549996  \n",
       "001020bd00b149970f78            -0.858646  \n",
       "0011d6be41612ec9eae3             1.289634  \n",
       "0012765f7a97ccc3e9e9            -0.180969  \n",
       "00133be3ff222c9b74b0             1.289634  \n",
       "...                                   ...  \n",
       "fff4bbb55fd7702d294e             1.289634  \n",
       "fffbe07b997bec00e203            -0.180969  \n",
       "fffd1675758205748d7f             1.289634  \n",
       "fffd43b134ba7197d890             1.289634  \n",
       "ffff22ea12d7f99cff31             1.289634  \n",
       "\n",
       "[24034 rows x 5 columns]"
      ]
     },
     "execution_count": 72,
     "metadata": {},
     "output_type": "execute_result"
    }
   ],
   "source": [
    "w2v_dfs[0]"
   ]
  },
  {
   "cell_type": "code",
   "execution_count": 58,
   "metadata": {},
   "outputs": [],
   "source": [
    "w2v_dfs[0].to_csv('../qualification_w2v.csv')"
   ]
  },
  {
   "cell_type": "code",
   "execution_count": 60,
   "metadata": {},
   "outputs": [],
   "source": [
    "w2v_dfs[1].to_csv('../roles_w2v.csv')"
   ]
  },
  {
   "cell_type": "code",
   "execution_count": 62,
   "metadata": {},
   "outputs": [],
   "source": [
    "w2v_dfs[2].to_csv('../name_w2v_0.csv')"
   ]
  },
  {
   "cell_type": "code",
   "execution_count": 64,
   "metadata": {},
   "outputs": [],
   "source": [
    "w2v_dfs[3].to_csv('../qualification_roles_w2v.csv')"
   ]
  },
  {
   "cell_type": "code",
   "execution_count": 66,
   "metadata": {},
   "outputs": [],
   "source": [
    "w2v_dfs[4].to_csv('../qualification_name_w2v.csv')"
   ]
  },
  {
   "cell_type": "code",
   "execution_count": 68,
   "metadata": {},
   "outputs": [],
   "source": [
    "w2v_dfs[5].to_csv('../roles_name_w2v.csv')"
   ]
  },
  {
   "cell_type": "code",
   "execution_count": 70,
   "metadata": {},
   "outputs": [],
   "source": [
    "w2v_dfs[6].to_csv('../qualification_roles_name_w2v.csv')"
   ]
  }
 ],
 "metadata": {
  "kernelspec": {
   "display_name": "Python 3",
   "language": "python",
   "name": "python3"
  },
  "language_info": {
   "codemirror_mode": {
    "name": "ipython",
    "version": 3
   },
   "file_extension": ".py",
   "mimetype": "text/x-python",
   "name": "python",
   "nbconvert_exporter": "python",
   "pygments_lexer": "ipython3",
   "version": "3.8.3"
  }
 },
 "nbformat": 4,
 "nbformat_minor": 4
}
