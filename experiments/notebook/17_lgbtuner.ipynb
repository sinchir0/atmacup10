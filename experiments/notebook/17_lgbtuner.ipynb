{
 "cells": [
  {
   "cell_type": "code",
   "execution_count": 1,
   "metadata": {},
   "outputs": [],
   "source": [
    "# %load_ext autoreload\n",
    "# %autoreload 2"
   ]
  },
  {
   "cell_type": "markdown",
   "metadata": {},
   "source": [
    "# Set Trial Name"
   ]
  },
  {
   "cell_type": "code",
   "execution_count": 2,
   "metadata": {},
   "outputs": [],
   "source": [
    "TRIAL_NAME = \"17_lgbtuner\"\n",
    "\n",
    "import datetime\n",
    "import pytz\n",
    "NOW = datetime.datetime.now(pytz.timezone('Asia/Tokyo')).strftime('%Y%m%d%H%M%S')"
   ]
  },
  {
   "cell_type": "markdown",
   "metadata": {},
   "source": [
    "# Load yaml"
   ]
  },
  {
   "cell_type": "code",
   "execution_count": 3,
   "metadata": {},
   "outputs": [],
   "source": [
    "import yaml\n",
    "CONFIG_DIR = '../config'\n",
    "with open(f'{CONFIG_DIR}/run000.yml') as file:\n",
    "    cfg = yaml.safe_load(file)\n",
    "\n",
    "import sys\n",
    "sys.path.append(cfg['SRC_DIR'])\n",
    "cfg['run_name'] = TRIAL_NAME"
   ]
  },
  {
   "cell_type": "markdown",
   "metadata": {},
   "source": [
    "# fix seed"
   ]
  },
  {
   "cell_type": "code",
   "execution_count": 4,
   "metadata": {},
   "outputs": [],
   "source": [
    "from util import seed_everything\n",
    "seed_everything(seed=33, use_torch=False)"
   ]
  },
  {
   "cell_type": "markdown",
   "metadata": {},
   "source": [
    "# Make Output Folder"
   ]
  },
  {
   "cell_type": "code",
   "execution_count": 5,
   "metadata": {},
   "outputs": [],
   "source": [
    "import os\n",
    "OUTPUT_DIR = f'../../output/{NOW}_{TRIAL_NAME}'\n",
    "os.makedirs(OUTPUT_DIR, exist_ok=True)"
   ]
  },
  {
   "cell_type": "markdown",
   "metadata": {},
   "source": [
    "# Load Model"
   ]
  },
  {
   "cell_type": "code",
   "execution_count": 6,
   "metadata": {},
   "outputs": [],
   "source": [
    "import pandas as pd\n",
    "import numpy as np\n",
    "\n",
    "sub = pd.read_csv('../../data/atmacup10__sample_submission.csv')\n",
    "color = pd.read_csv('../../data/color.csv')\n",
    "historical_person = pd.read_csv('../../data/historical_person.csv')\n",
    "maker = pd.read_csv('../../data/maker.csv')\n",
    "material = pd.read_csv('../../data/material.csv')\n",
    "object_collection = pd.read_csv('../../data/object_collection.csv')\n",
    "palette = pd.read_csv('../../data/palette.csv')\n",
    "principal_maker_occupation = pd.read_csv('../../data/principal_maker_occupation.csv')\n",
    "principal_maker = pd.read_csv('../../data/principal_maker.csv')\n",
    "production_place = pd.read_csv('../../data/production_place.csv')\n",
    "technique = pd.read_csv('../../data/technique.csv')\n",
    "test = pd.read_csv('../../data/test.csv')\n",
    "test[cfg['target']] = np.nan\n",
    "train = pd.read_csv('../../data/train.csv')"
   ]
  },
  {
   "cell_type": "code",
   "execution_count": 7,
   "metadata": {},
   "outputs": [
    {
     "data": {
      "text/html": [
       "<div>\n",
       "<style scoped>\n",
       "    .dataframe tbody tr th:only-of-type {\n",
       "        vertical-align: middle;\n",
       "    }\n",
       "\n",
       "    .dataframe tbody tr th {\n",
       "        vertical-align: top;\n",
       "    }\n",
       "\n",
       "    .dataframe thead th {\n",
       "        text-align: right;\n",
       "    }\n",
       "</style>\n",
       "<table border=\"1\" class=\"dataframe\">\n",
       "  <thead>\n",
       "    <tr style=\"text-align: right;\">\n",
       "      <th></th>\n",
       "      <th>object_id</th>\n",
       "      <th>art_series_id</th>\n",
       "      <th>title</th>\n",
       "      <th>description</th>\n",
       "      <th>long_title</th>\n",
       "      <th>principal_maker</th>\n",
       "      <th>principal_or_first_maker</th>\n",
       "      <th>sub_title</th>\n",
       "      <th>copyright_holder</th>\n",
       "      <th>more_title</th>\n",
       "      <th>acquisition_method</th>\n",
       "      <th>acquisition_date</th>\n",
       "      <th>acquisition_credit_line</th>\n",
       "      <th>dating_presenting_date</th>\n",
       "      <th>dating_sorting_date</th>\n",
       "      <th>dating_period</th>\n",
       "      <th>dating_year_early</th>\n",
       "      <th>dating_year_late</th>\n",
       "      <th>likes</th>\n",
       "    </tr>\n",
       "  </thead>\n",
       "  <tbody>\n",
       "    <tr>\n",
       "      <th>0</th>\n",
       "      <td>0011d6be41612ec9eae3</td>\n",
       "      <td>93c092ba70beab248f31</td>\n",
       "      <td>The Avenue of Birches</td>\n",
       "      <td>NaN</td>\n",
       "      <td>The Avenue of Birches, Jan Hackaert, 1660 - 1685</td>\n",
       "      <td>Jan Hackaert</td>\n",
       "      <td>Jan Hackaert</td>\n",
       "      <td>h 66.5cm × w 53.7cm × t 2.5cm × d 4.7cm</td>\n",
       "      <td>NaN</td>\n",
       "      <td>The Avenue of Birches</td>\n",
       "      <td>purchase</td>\n",
       "      <td>1808-01-01T00:00:00</td>\n",
       "      <td>NaN</td>\n",
       "      <td>1660 - 1685</td>\n",
       "      <td>1660.0</td>\n",
       "      <td>17</td>\n",
       "      <td>1660.0</td>\n",
       "      <td>1685.0</td>\n",
       "      <td>48</td>\n",
       "    </tr>\n",
       "    <tr>\n",
       "      <th>1</th>\n",
       "      <td>0012765f7a97ccc3e9e9</td>\n",
       "      <td>95c14fb11c54281ad7e0</td>\n",
       "      <td>Struik in bloei</td>\n",
       "      <td>NaN</td>\n",
       "      <td>Struik in bloei, Richard Tepe (attributed to),...</td>\n",
       "      <td>Richard Tepe</td>\n",
       "      <td>Richard Tepe</td>\n",
       "      <td>h 165mm × w 223mm</td>\n",
       "      <td>erven Richard Tepe</td>\n",
       "      <td>Struik in bloei</td>\n",
       "      <td>purchase</td>\n",
       "      <td>2000-01-01T00:00:00</td>\n",
       "      <td>NaN</td>\n",
       "      <td>c. 1900 - c. 1930</td>\n",
       "      <td>1900.0</td>\n",
       "      <td>19</td>\n",
       "      <td>1900.0</td>\n",
       "      <td>1930.0</td>\n",
       "      <td>2</td>\n",
       "    </tr>\n",
       "  </tbody>\n",
       "</table>\n",
       "</div>"
      ],
      "text/plain": [
       "              object_id         art_series_id                  title  \\\n",
       "0  0011d6be41612ec9eae3  93c092ba70beab248f31  The Avenue of Birches   \n",
       "1  0012765f7a97ccc3e9e9  95c14fb11c54281ad7e0        Struik in bloei   \n",
       "\n",
       "  description                                         long_title  \\\n",
       "0         NaN   The Avenue of Birches, Jan Hackaert, 1660 - 1685   \n",
       "1         NaN  Struik in bloei, Richard Tepe (attributed to),...   \n",
       "\n",
       "  principal_maker principal_or_first_maker  \\\n",
       "0    Jan Hackaert             Jan Hackaert   \n",
       "1    Richard Tepe             Richard Tepe   \n",
       "\n",
       "                                 sub_title    copyright_holder  \\\n",
       "0  h 66.5cm × w 53.7cm × t 2.5cm × d 4.7cm                 NaN   \n",
       "1                        h 165mm × w 223mm  erven Richard Tepe   \n",
       "\n",
       "              more_title acquisition_method     acquisition_date  \\\n",
       "0  The Avenue of Birches           purchase  1808-01-01T00:00:00   \n",
       "1        Struik in bloei           purchase  2000-01-01T00:00:00   \n",
       "\n",
       "  acquisition_credit_line dating_presenting_date  dating_sorting_date  \\\n",
       "0                     NaN            1660 - 1685               1660.0   \n",
       "1                     NaN      c. 1900 - c. 1930               1900.0   \n",
       "\n",
       "   dating_period  dating_year_early  dating_year_late  likes  \n",
       "0             17             1660.0            1685.0     48  \n",
       "1             19             1900.0            1930.0      2  "
      ]
     },
     "execution_count": 7,
     "metadata": {},
     "output_type": "execute_result"
    }
   ],
   "source": [
    "train.head(2)"
   ]
  },
  {
   "cell_type": "code",
   "execution_count": 8,
   "metadata": {},
   "outputs": [
    {
     "data": {
      "text/html": [
       "<div>\n",
       "<style scoped>\n",
       "    .dataframe tbody tr th:only-of-type {\n",
       "        vertical-align: middle;\n",
       "    }\n",
       "\n",
       "    .dataframe tbody tr th {\n",
       "        vertical-align: top;\n",
       "    }\n",
       "\n",
       "    .dataframe thead th {\n",
       "        text-align: right;\n",
       "    }\n",
       "</style>\n",
       "<table border=\"1\" class=\"dataframe\">\n",
       "  <thead>\n",
       "    <tr style=\"text-align: right;\">\n",
       "      <th></th>\n",
       "      <th>object_id</th>\n",
       "      <th>art_series_id</th>\n",
       "      <th>title</th>\n",
       "      <th>description</th>\n",
       "      <th>long_title</th>\n",
       "      <th>principal_maker</th>\n",
       "      <th>principal_or_first_maker</th>\n",
       "      <th>sub_title</th>\n",
       "      <th>copyright_holder</th>\n",
       "      <th>more_title</th>\n",
       "      <th>acquisition_method</th>\n",
       "      <th>acquisition_date</th>\n",
       "      <th>acquisition_credit_line</th>\n",
       "      <th>dating_presenting_date</th>\n",
       "      <th>dating_sorting_date</th>\n",
       "      <th>dating_period</th>\n",
       "      <th>dating_year_early</th>\n",
       "      <th>dating_year_late</th>\n",
       "      <th>likes</th>\n",
       "    </tr>\n",
       "  </thead>\n",
       "  <tbody>\n",
       "    <tr>\n",
       "      <th>0</th>\n",
       "      <td>000405d9a5e3f49fc49d</td>\n",
       "      <td>a2aabd3cc8859f4260ad</td>\n",
       "      <td>Twee personen voor de Duizendjarige den te Wol...</td>\n",
       "      <td>NaN</td>\n",
       "      <td>Twee personen voor de Duizendjarige den te Wol...</td>\n",
       "      <td>Bernardus Bruining</td>\n",
       "      <td>Bernardus Bruining</td>\n",
       "      <td>h 167mm × w 108mm</td>\n",
       "      <td>NaN</td>\n",
       "      <td>Twee personen voor de Duizendjarige den te Wol...</td>\n",
       "      <td>transfer</td>\n",
       "      <td>1994-01-01T00:00:00</td>\n",
       "      <td>NaN</td>\n",
       "      <td>1850 - 1900</td>\n",
       "      <td>1850.0</td>\n",
       "      <td>19</td>\n",
       "      <td>1850.0</td>\n",
       "      <td>1900.0</td>\n",
       "      <td>NaN</td>\n",
       "    </tr>\n",
       "    <tr>\n",
       "      <th>1</th>\n",
       "      <td>001020bd00b149970f78</td>\n",
       "      <td>5d6a286cc3ab64c2c043</td>\n",
       "      <td>Portrait of Philipp Ernst, Count of Hohenlohe ...</td>\n",
       "      <td>Portret van Philip Ernst (1585-1629), graaf va...</td>\n",
       "      <td>Portrait of Philipp Ernst, Count of Hohenlohe ...</td>\n",
       "      <td>Jan Antonisz van Ravesteyn</td>\n",
       "      <td>Jan Antonisz van Ravesteyn</td>\n",
       "      <td>h 29.7cm × w 24.1cm</td>\n",
       "      <td>NaN</td>\n",
       "      <td>Portrait of Philipp Ernst, Count of Hohenlohe ...</td>\n",
       "      <td>nationalization 1795</td>\n",
       "      <td>1798-09-01T00:00:00</td>\n",
       "      <td>NaN</td>\n",
       "      <td>c. 1609 - c. 1633</td>\n",
       "      <td>1609.0</td>\n",
       "      <td>17</td>\n",
       "      <td>1609.0</td>\n",
       "      <td>1633.0</td>\n",
       "      <td>NaN</td>\n",
       "    </tr>\n",
       "  </tbody>\n",
       "</table>\n",
       "</div>"
      ],
      "text/plain": [
       "              object_id         art_series_id  \\\n",
       "0  000405d9a5e3f49fc49d  a2aabd3cc8859f4260ad   \n",
       "1  001020bd00b149970f78  5d6a286cc3ab64c2c043   \n",
       "\n",
       "                                               title  \\\n",
       "0  Twee personen voor de Duizendjarige den te Wol...   \n",
       "1  Portrait of Philipp Ernst, Count of Hohenlohe ...   \n",
       "\n",
       "                                         description  \\\n",
       "0                                                NaN   \n",
       "1  Portret van Philip Ernst (1585-1629), graaf va...   \n",
       "\n",
       "                                          long_title  \\\n",
       "0  Twee personen voor de Duizendjarige den te Wol...   \n",
       "1  Portrait of Philipp Ernst, Count of Hohenlohe ...   \n",
       "\n",
       "              principal_maker    principal_or_first_maker  \\\n",
       "0          Bernardus Bruining          Bernardus Bruining   \n",
       "1  Jan Antonisz van Ravesteyn  Jan Antonisz van Ravesteyn   \n",
       "\n",
       "             sub_title copyright_holder  \\\n",
       "0    h 167mm × w 108mm              NaN   \n",
       "1  h 29.7cm × w 24.1cm              NaN   \n",
       "\n",
       "                                          more_title    acquisition_method  \\\n",
       "0  Twee personen voor de Duizendjarige den te Wol...              transfer   \n",
       "1  Portrait of Philipp Ernst, Count of Hohenlohe ...  nationalization 1795   \n",
       "\n",
       "      acquisition_date acquisition_credit_line dating_presenting_date  \\\n",
       "0  1994-01-01T00:00:00                     NaN            1850 - 1900   \n",
       "1  1798-09-01T00:00:00                     NaN      c. 1609 - c. 1633   \n",
       "\n",
       "   dating_sorting_date  dating_period  dating_year_early  dating_year_late  \\\n",
       "0               1850.0             19             1850.0            1900.0   \n",
       "1               1609.0             17             1609.0            1633.0   \n",
       "\n",
       "   likes  \n",
       "0    NaN  \n",
       "1    NaN  "
      ]
     },
     "execution_count": 8,
     "metadata": {},
     "output_type": "execute_result"
    }
   ],
   "source": [
    "test.head(2)"
   ]
  },
  {
   "cell_type": "code",
   "execution_count": 9,
   "metadata": {},
   "outputs": [],
   "source": [
    "del_non_overlapping_list = [\n",
    "    # 'object_id',\n",
    "    'art_series_id',\n",
    "    #'title',\n",
    "    #'description',\n",
    "    #'long_title',\n",
    "    'principal_maker',\n",
    "    'principal_or_first_maker',\n",
    "    #'sub_title',\n",
    "    'copyright_holder',\n",
    "    #'more_title',\n",
    "    'acquisition_method',\n",
    "    # 'acquisition_date',\n",
    "    # 'acquisition_credit_line',\n",
    "    # 'dating_presenting_date',\n",
    "    # 'dating_sorting_date',\n",
    "    'dating_period',\n",
    "    # 'dating_year_early',\n",
    "    # 'dating_year_late'\n",
    "]\n",
    "\n",
    "from util import replace_non_overlap_val_to_missing\n",
    "train, test = replace_non_overlap_val_to_missing(train,test,columns=del_non_overlapping_list)"
   ]
  },
  {
   "cell_type": "code",
   "execution_count": 10,
   "metadata": {},
   "outputs": [
    {
     "data": {
      "text/html": [
       "<div>\n",
       "<style scoped>\n",
       "    .dataframe tbody tr th:only-of-type {\n",
       "        vertical-align: middle;\n",
       "    }\n",
       "\n",
       "    .dataframe tbody tr th {\n",
       "        vertical-align: top;\n",
       "    }\n",
       "\n",
       "    .dataframe thead th {\n",
       "        text-align: right;\n",
       "    }\n",
       "</style>\n",
       "<table border=\"1\" class=\"dataframe\">\n",
       "  <thead>\n",
       "    <tr style=\"text-align: right;\">\n",
       "      <th></th>\n",
       "      <th>object_id</th>\n",
       "      <th>art_series_id</th>\n",
       "      <th>title</th>\n",
       "      <th>description</th>\n",
       "      <th>long_title</th>\n",
       "      <th>principal_maker</th>\n",
       "      <th>principal_or_first_maker</th>\n",
       "      <th>sub_title</th>\n",
       "      <th>copyright_holder</th>\n",
       "      <th>more_title</th>\n",
       "      <th>acquisition_method</th>\n",
       "      <th>acquisition_date</th>\n",
       "      <th>acquisition_credit_line</th>\n",
       "      <th>dating_presenting_date</th>\n",
       "      <th>dating_sorting_date</th>\n",
       "      <th>dating_period</th>\n",
       "      <th>dating_year_early</th>\n",
       "      <th>dating_year_late</th>\n",
       "      <th>likes</th>\n",
       "    </tr>\n",
       "  </thead>\n",
       "  <tbody>\n",
       "    <tr>\n",
       "      <th>0</th>\n",
       "      <td>0011d6be41612ec9eae3</td>\n",
       "      <td>other</td>\n",
       "      <td>The Avenue of Birches</td>\n",
       "      <td>NaN</td>\n",
       "      <td>The Avenue of Birches, Jan Hackaert, 1660 - 1685</td>\n",
       "      <td>Jan Hackaert</td>\n",
       "      <td>Jan Hackaert</td>\n",
       "      <td>h 66.5cm × w 53.7cm × t 2.5cm × d 4.7cm</td>\n",
       "      <td>missing</td>\n",
       "      <td>The Avenue of Birches</td>\n",
       "      <td>purchase</td>\n",
       "      <td>1808-01-01T00:00:00</td>\n",
       "      <td>NaN</td>\n",
       "      <td>1660 - 1685</td>\n",
       "      <td>1660.0</td>\n",
       "      <td>17</td>\n",
       "      <td>1660.0</td>\n",
       "      <td>1685.0</td>\n",
       "      <td>48</td>\n",
       "    </tr>\n",
       "    <tr>\n",
       "      <th>1</th>\n",
       "      <td>0012765f7a97ccc3e9e9</td>\n",
       "      <td>other</td>\n",
       "      <td>Struik in bloei</td>\n",
       "      <td>NaN</td>\n",
       "      <td>Struik in bloei, Richard Tepe (attributed to),...</td>\n",
       "      <td>Richard Tepe</td>\n",
       "      <td>Richard Tepe</td>\n",
       "      <td>h 165mm × w 223mm</td>\n",
       "      <td>erven Richard Tepe</td>\n",
       "      <td>Struik in bloei</td>\n",
       "      <td>purchase</td>\n",
       "      <td>2000-01-01T00:00:00</td>\n",
       "      <td>NaN</td>\n",
       "      <td>c. 1900 - c. 1930</td>\n",
       "      <td>1900.0</td>\n",
       "      <td>19</td>\n",
       "      <td>1900.0</td>\n",
       "      <td>1930.0</td>\n",
       "      <td>2</td>\n",
       "    </tr>\n",
       "  </tbody>\n",
       "</table>\n",
       "</div>"
      ],
      "text/plain": [
       "              object_id art_series_id                  title description  \\\n",
       "0  0011d6be41612ec9eae3         other  The Avenue of Birches         NaN   \n",
       "1  0012765f7a97ccc3e9e9         other        Struik in bloei         NaN   \n",
       "\n",
       "                                          long_title principal_maker  \\\n",
       "0   The Avenue of Birches, Jan Hackaert, 1660 - 1685    Jan Hackaert   \n",
       "1  Struik in bloei, Richard Tepe (attributed to),...    Richard Tepe   \n",
       "\n",
       "  principal_or_first_maker                                sub_title  \\\n",
       "0             Jan Hackaert  h 66.5cm × w 53.7cm × t 2.5cm × d 4.7cm   \n",
       "1             Richard Tepe                        h 165mm × w 223mm   \n",
       "\n",
       "     copyright_holder             more_title acquisition_method  \\\n",
       "0             missing  The Avenue of Birches           purchase   \n",
       "1  erven Richard Tepe        Struik in bloei           purchase   \n",
       "\n",
       "      acquisition_date acquisition_credit_line dating_presenting_date  \\\n",
       "0  1808-01-01T00:00:00                     NaN            1660 - 1685   \n",
       "1  2000-01-01T00:00:00                     NaN      c. 1900 - c. 1930   \n",
       "\n",
       "   dating_sorting_date  dating_period  dating_year_early  dating_year_late  \\\n",
       "0               1660.0             17             1660.0            1685.0   \n",
       "1               1900.0             19             1900.0            1930.0   \n",
       "\n",
       "   likes  \n",
       "0     48  \n",
       "1      2  "
      ]
     },
     "execution_count": 10,
     "metadata": {},
     "output_type": "execute_result"
    }
   ],
   "source": [
    "train.head(2)"
   ]
  },
  {
   "cell_type": "code",
   "execution_count": 11,
   "metadata": {},
   "outputs": [
    {
     "data": {
      "text/html": [
       "<div>\n",
       "<style scoped>\n",
       "    .dataframe tbody tr th:only-of-type {\n",
       "        vertical-align: middle;\n",
       "    }\n",
       "\n",
       "    .dataframe tbody tr th {\n",
       "        vertical-align: top;\n",
       "    }\n",
       "\n",
       "    .dataframe thead th {\n",
       "        text-align: right;\n",
       "    }\n",
       "</style>\n",
       "<table border=\"1\" class=\"dataframe\">\n",
       "  <thead>\n",
       "    <tr style=\"text-align: right;\">\n",
       "      <th></th>\n",
       "      <th>object_id</th>\n",
       "      <th>art_series_id</th>\n",
       "      <th>title</th>\n",
       "      <th>description</th>\n",
       "      <th>long_title</th>\n",
       "      <th>principal_maker</th>\n",
       "      <th>principal_or_first_maker</th>\n",
       "      <th>sub_title</th>\n",
       "      <th>copyright_holder</th>\n",
       "      <th>more_title</th>\n",
       "      <th>acquisition_method</th>\n",
       "      <th>acquisition_date</th>\n",
       "      <th>acquisition_credit_line</th>\n",
       "      <th>dating_presenting_date</th>\n",
       "      <th>dating_sorting_date</th>\n",
       "      <th>dating_period</th>\n",
       "      <th>dating_year_early</th>\n",
       "      <th>dating_year_late</th>\n",
       "      <th>likes</th>\n",
       "    </tr>\n",
       "  </thead>\n",
       "  <tbody>\n",
       "    <tr>\n",
       "      <th>0</th>\n",
       "      <td>000405d9a5e3f49fc49d</td>\n",
       "      <td>other</td>\n",
       "      <td>Twee personen voor de Duizendjarige den te Wol...</td>\n",
       "      <td>NaN</td>\n",
       "      <td>Twee personen voor de Duizendjarige den te Wol...</td>\n",
       "      <td>Bernardus Bruining</td>\n",
       "      <td>Bernardus Bruining</td>\n",
       "      <td>h 167mm × w 108mm</td>\n",
       "      <td>missing</td>\n",
       "      <td>Twee personen voor de Duizendjarige den te Wol...</td>\n",
       "      <td>transfer</td>\n",
       "      <td>1994-01-01T00:00:00</td>\n",
       "      <td>NaN</td>\n",
       "      <td>1850 - 1900</td>\n",
       "      <td>1850.0</td>\n",
       "      <td>19</td>\n",
       "      <td>1850.0</td>\n",
       "      <td>1900.0</td>\n",
       "      <td>NaN</td>\n",
       "    </tr>\n",
       "    <tr>\n",
       "      <th>1</th>\n",
       "      <td>001020bd00b149970f78</td>\n",
       "      <td>other</td>\n",
       "      <td>Portrait of Philipp Ernst, Count of Hohenlohe ...</td>\n",
       "      <td>Portret van Philip Ernst (1585-1629), graaf va...</td>\n",
       "      <td>Portrait of Philipp Ernst, Count of Hohenlohe ...</td>\n",
       "      <td>Jan Antonisz van Ravesteyn</td>\n",
       "      <td>Jan Antonisz van Ravesteyn</td>\n",
       "      <td>h 29.7cm × w 24.1cm</td>\n",
       "      <td>missing</td>\n",
       "      <td>Portrait of Philipp Ernst, Count of Hohenlohe ...</td>\n",
       "      <td>nationalization 1795</td>\n",
       "      <td>1798-09-01T00:00:00</td>\n",
       "      <td>NaN</td>\n",
       "      <td>c. 1609 - c. 1633</td>\n",
       "      <td>1609.0</td>\n",
       "      <td>17</td>\n",
       "      <td>1609.0</td>\n",
       "      <td>1633.0</td>\n",
       "      <td>NaN</td>\n",
       "    </tr>\n",
       "  </tbody>\n",
       "</table>\n",
       "</div>"
      ],
      "text/plain": [
       "              object_id art_series_id  \\\n",
       "0  000405d9a5e3f49fc49d         other   \n",
       "1  001020bd00b149970f78         other   \n",
       "\n",
       "                                               title  \\\n",
       "0  Twee personen voor de Duizendjarige den te Wol...   \n",
       "1  Portrait of Philipp Ernst, Count of Hohenlohe ...   \n",
       "\n",
       "                                         description  \\\n",
       "0                                                NaN   \n",
       "1  Portret van Philip Ernst (1585-1629), graaf va...   \n",
       "\n",
       "                                          long_title  \\\n",
       "0  Twee personen voor de Duizendjarige den te Wol...   \n",
       "1  Portrait of Philipp Ernst, Count of Hohenlohe ...   \n",
       "\n",
       "              principal_maker    principal_or_first_maker  \\\n",
       "0          Bernardus Bruining          Bernardus Bruining   \n",
       "1  Jan Antonisz van Ravesteyn  Jan Antonisz van Ravesteyn   \n",
       "\n",
       "             sub_title copyright_holder  \\\n",
       "0    h 167mm × w 108mm          missing   \n",
       "1  h 29.7cm × w 24.1cm          missing   \n",
       "\n",
       "                                          more_title    acquisition_method  \\\n",
       "0  Twee personen voor de Duizendjarige den te Wol...              transfer   \n",
       "1  Portrait of Philipp Ernst, Count of Hohenlohe ...  nationalization 1795   \n",
       "\n",
       "      acquisition_date acquisition_credit_line dating_presenting_date  \\\n",
       "0  1994-01-01T00:00:00                     NaN            1850 - 1900   \n",
       "1  1798-09-01T00:00:00                     NaN      c. 1609 - c. 1633   \n",
       "\n",
       "   dating_sorting_date  dating_period  dating_year_early  dating_year_late  \\\n",
       "0               1850.0             19             1850.0            1900.0   \n",
       "1               1609.0             17             1609.0            1633.0   \n",
       "\n",
       "   likes  \n",
       "0    NaN  \n",
       "1    NaN  "
      ]
     },
     "execution_count": 11,
     "metadata": {},
     "output_type": "execute_result"
    }
   ],
   "source": [
    "test.head(2)"
   ]
  },
  {
   "cell_type": "markdown",
   "metadata": {},
   "source": [
    "# Merge Data"
   ]
  },
  {
   "cell_type": "code",
   "execution_count": 12,
   "metadata": {},
   "outputs": [
    {
     "data": {
      "text/html": [
       "<div>\n",
       "<style scoped>\n",
       "    .dataframe tbody tr th:only-of-type {\n",
       "        vertical-align: middle;\n",
       "    }\n",
       "\n",
       "    .dataframe tbody tr th {\n",
       "        vertical-align: top;\n",
       "    }\n",
       "\n",
       "    .dataframe thead th {\n",
       "        text-align: right;\n",
       "    }\n",
       "</style>\n",
       "<table border=\"1\" class=\"dataframe\">\n",
       "  <thead>\n",
       "    <tr style=\"text-align: right;\">\n",
       "      <th></th>\n",
       "      <th>size</th>\n",
       "      <th>sub_title_num</th>\n",
       "      <th>min</th>\n",
       "      <th>max</th>\n",
       "      <th>mean</th>\n",
       "    </tr>\n",
       "    <tr>\n",
       "      <th>principal_maker</th>\n",
       "      <th></th>\n",
       "      <th></th>\n",
       "      <th></th>\n",
       "      <th></th>\n",
       "      <th></th>\n",
       "    </tr>\n",
       "  </thead>\n",
       "  <tbody>\n",
       "    <tr>\n",
       "      <th>A. Böeseken</th>\n",
       "      <td>5</td>\n",
       "      <td>5</td>\n",
       "      <td>1858.0</td>\n",
       "      <td>1873.0</td>\n",
       "      <td>1865.8</td>\n",
       "    </tr>\n",
       "    <tr>\n",
       "      <th>A. Lutz</th>\n",
       "      <td>1</td>\n",
       "      <td>1</td>\n",
       "      <td>1825.0</td>\n",
       "      <td>1825.0</td>\n",
       "      <td>1825.0</td>\n",
       "    </tr>\n",
       "    <tr>\n",
       "      <th>A. Mansuy</th>\n",
       "      <td>2</td>\n",
       "      <td>2</td>\n",
       "      <td>1860.0</td>\n",
       "      <td>1860.0</td>\n",
       "      <td>1860.0</td>\n",
       "    </tr>\n",
       "    <tr>\n",
       "      <th>A. Nissen</th>\n",
       "      <td>3</td>\n",
       "      <td>1</td>\n",
       "      <td>1860.0</td>\n",
       "      <td>1860.0</td>\n",
       "      <td>1860.0</td>\n",
       "    </tr>\n",
       "    <tr>\n",
       "      <th>A. Roussel</th>\n",
       "      <td>1</td>\n",
       "      <td>1</td>\n",
       "      <td>1905.0</td>\n",
       "      <td>1905.0</td>\n",
       "      <td>1905.0</td>\n",
       "    </tr>\n",
       "  </tbody>\n",
       "</table>\n",
       "</div>"
      ],
      "text/plain": [
       "                 size  sub_title_num     min     max    mean\n",
       "principal_maker                                             \n",
       "A. Böeseken         5              5  1858.0  1873.0  1865.8\n",
       "A. Lutz             1              1  1825.0  1825.0  1825.0\n",
       "A. Mansuy           2              2  1860.0  1860.0  1860.0\n",
       "A. Nissen           3              1  1860.0  1860.0  1860.0\n",
       "A. Roussel          1              1  1905.0  1905.0  1905.0"
      ]
     },
     "execution_count": 12,
     "metadata": {},
     "output_type": "execute_result"
    }
   ],
   "source": [
    "group = train.groupby('principal_maker')\n",
    "\n",
    "agg_df = pd.concat([\n",
    "    group.size().rename('size'), # 著者が何回出てくるか. (value_counts と同じです)\n",
    "    group['sub_title'].nunique().rename('sub_title_num'), # 著者ごとに何種類の sub_title を持っているか\n",
    "    group['dating_sorting_date'].agg(['min', 'max', 'mean']), # 著者ごとに描いた年度の最小・最大・平均 (agg に配列を渡すと同時に複数やってくれます)\n",
    "], axis=1)\n",
    "\n",
    "agg_df.head()"
   ]
  },
  {
   "cell_type": "code",
   "execution_count": 13,
   "metadata": {},
   "outputs": [],
   "source": [
    "train = pd.merge(train, \n",
    "         agg_df,\n",
    "         on='principal_maker', \n",
    "         how='left')\n",
    "\n",
    "test = pd.merge(test, \n",
    "         agg_df,\n",
    "         on='principal_maker', \n",
    "         how='left')"
   ]
  },
  {
   "cell_type": "code",
   "execution_count": 14,
   "metadata": {},
   "outputs": [
    {
     "data": {
      "text/plain": [
       "Index(['object_id', 'art_series_id', 'title', 'description', 'long_title',\n",
       "       'principal_maker', 'principal_or_first_maker', 'sub_title',\n",
       "       'copyright_holder', 'more_title', 'acquisition_method',\n",
       "       'acquisition_date', 'acquisition_credit_line', 'dating_presenting_date',\n",
       "       'dating_sorting_date', 'dating_period', 'dating_year_early',\n",
       "       'dating_year_late', 'likes', 'size', 'sub_title_num', 'min', 'max',\n",
       "       'mean'],\n",
       "      dtype='object')"
      ]
     },
     "execution_count": 14,
     "metadata": {},
     "output_type": "execute_result"
    }
   ],
   "source": [
    "train.columns"
   ]
  },
  {
   "cell_type": "markdown",
   "metadata": {},
   "source": [
    "# Feature Enginnering"
   ]
  },
  {
   "cell_type": "code",
   "execution_count": 15,
   "metadata": {},
   "outputs": [
    {
     "data": {
      "text/plain": [
       "0   NaN\n",
       "1   NaN\n",
       "2   NaN\n",
       "3   NaN\n",
       "4   NaN\n",
       "Name: likes, dtype: float64"
      ]
     },
     "execution_count": 15,
     "metadata": {},
     "output_type": "execute_result"
    }
   ],
   "source": [
    "def create_object_feature(input_df):        \n",
    "    return input_df['likes'].copy()\n",
    "\n",
    "create_object_feature(test).head()"
   ]
  },
  {
   "cell_type": "code",
   "execution_count": 16,
   "metadata": {},
   "outputs": [
    {
     "data": {
      "text/html": [
       "<div>\n",
       "<style scoped>\n",
       "    .dataframe tbody tr th:only-of-type {\n",
       "        vertical-align: middle;\n",
       "    }\n",
       "\n",
       "    .dataframe tbody tr th {\n",
       "        vertical-align: top;\n",
       "    }\n",
       "\n",
       "    .dataframe thead th {\n",
       "        text-align: right;\n",
       "    }\n",
       "</style>\n",
       "<table border=\"1\" class=\"dataframe\">\n",
       "  <thead>\n",
       "    <tr style=\"text-align: right;\">\n",
       "      <th></th>\n",
       "      <th>dating_period</th>\n",
       "      <th>dating_year_early</th>\n",
       "      <th>dating_year_late</th>\n",
       "    </tr>\n",
       "  </thead>\n",
       "  <tbody>\n",
       "    <tr>\n",
       "      <th>0</th>\n",
       "      <td>17</td>\n",
       "      <td>1660.0</td>\n",
       "      <td>1685.0</td>\n",
       "    </tr>\n",
       "    <tr>\n",
       "      <th>1</th>\n",
       "      <td>19</td>\n",
       "      <td>1900.0</td>\n",
       "      <td>1930.0</td>\n",
       "    </tr>\n",
       "  </tbody>\n",
       "</table>\n",
       "</div>"
      ],
      "text/plain": [
       "   dating_period  dating_year_early  dating_year_late\n",
       "0             17             1660.0            1685.0\n",
       "1             19             1900.0            1930.0"
      ]
     },
     "execution_count": 16,
     "metadata": {},
     "output_type": "execute_result"
    }
   ],
   "source": [
    "def create_numeric_feature(input_df):\n",
    "    use_columns = [\n",
    "        'dating_period',\n",
    "        'dating_year_early',\n",
    "        'dating_year_late'\n",
    "    ]\n",
    "\n",
    "    return input_df[use_columns].copy()\n",
    "\n",
    "create_numeric_feature(train).head(2)"
   ]
  },
  {
   "cell_type": "code",
   "execution_count": 17,
   "metadata": {},
   "outputs": [
    {
     "data": {
      "text/html": [
       "<div>\n",
       "<style scoped>\n",
       "    .dataframe tbody tr th:only-of-type {\n",
       "        vertical-align: middle;\n",
       "    }\n",
       "\n",
       "    .dataframe tbody tr th {\n",
       "        vertical-align: top;\n",
       "    }\n",
       "\n",
       "    .dataframe thead th {\n",
       "        text-align: right;\n",
       "    }\n",
       "</style>\n",
       "<table border=\"1\" class=\"dataframe\">\n",
       "  <thead>\n",
       "    <tr style=\"text-align: right;\">\n",
       "      <th></th>\n",
       "      <th>art_series_id</th>\n",
       "      <th>principal_maker</th>\n",
       "      <th>principal_or_first_maker</th>\n",
       "      <th>copyright_holder</th>\n",
       "      <th>acquisition_method</th>\n",
       "    </tr>\n",
       "  </thead>\n",
       "  <tbody>\n",
       "    <tr>\n",
       "      <th>0</th>\n",
       "      <td>other</td>\n",
       "      <td>Jan Hackaert</td>\n",
       "      <td>Jan Hackaert</td>\n",
       "      <td>missing</td>\n",
       "      <td>purchase</td>\n",
       "    </tr>\n",
       "    <tr>\n",
       "      <th>1</th>\n",
       "      <td>other</td>\n",
       "      <td>Richard Tepe</td>\n",
       "      <td>Richard Tepe</td>\n",
       "      <td>erven Richard Tepe</td>\n",
       "      <td>purchase</td>\n",
       "    </tr>\n",
       "  </tbody>\n",
       "</table>\n",
       "</div>"
      ],
      "text/plain": [
       "  art_series_id principal_maker principal_or_first_maker    copyright_holder  \\\n",
       "0         other    Jan Hackaert             Jan Hackaert             missing   \n",
       "1         other    Richard Tepe             Richard Tepe  erven Richard Tepe   \n",
       "\n",
       "  acquisition_method  \n",
       "0           purchase  \n",
       "1           purchase  "
      ]
     },
     "execution_count": 17,
     "metadata": {},
     "output_type": "execute_result"
    }
   ],
   "source": [
    "def create_categorical_feature(input_df):\n",
    "    use_columns = [\n",
    "    'art_series_id',\n",
    "    'principal_maker',\n",
    "    'principal_or_first_maker',\n",
    "    'copyright_holder',\n",
    "    'acquisition_method',\n",
    "    ]\n",
    "\n",
    "    return input_df[use_columns].copy()\n",
    "\n",
    "create_categorical_feature(train).head(2)"
   ]
  },
  {
   "cell_type": "code",
   "execution_count": 18,
   "metadata": {},
   "outputs": [
    {
     "data": {
      "text/html": [
       "<div>\n",
       "<style scoped>\n",
       "    .dataframe tbody tr th:only-of-type {\n",
       "        vertical-align: middle;\n",
       "    }\n",
       "\n",
       "    .dataframe tbody tr th {\n",
       "        vertical-align: top;\n",
       "    }\n",
       "\n",
       "    .dataframe thead th {\n",
       "        text-align: right;\n",
       "    }\n",
       "</style>\n",
       "<table border=\"1\" class=\"dataframe\">\n",
       "  <thead>\n",
       "    <tr style=\"text-align: right;\">\n",
       "      <th></th>\n",
       "      <th>AcquisitionDate_year</th>\n",
       "      <th>AcquisitionDate_month</th>\n",
       "      <th>AcquisitionDate_dayofweek</th>\n",
       "      <th>AcquisitionDate_sum_time</th>\n",
       "    </tr>\n",
       "  </thead>\n",
       "  <tbody>\n",
       "    <tr>\n",
       "      <th>0</th>\n",
       "      <td>1808.0</td>\n",
       "      <td>1.0</td>\n",
       "      <td>4.0</td>\n",
       "      <td>15112288000</td>\n",
       "    </tr>\n",
       "    <tr>\n",
       "      <th>1</th>\n",
       "      <td>2000.0</td>\n",
       "      <td>1.0</td>\n",
       "      <td>5.0</td>\n",
       "      <td>9053315200</td>\n",
       "    </tr>\n",
       "  </tbody>\n",
       "</table>\n",
       "</div>"
      ],
      "text/plain": [
       "   AcquisitionDate_year  AcquisitionDate_month  AcquisitionDate_dayofweek  \\\n",
       "0                1808.0                    1.0                        4.0   \n",
       "1                2000.0                    1.0                        5.0   \n",
       "\n",
       "   AcquisitionDate_sum_time  \n",
       "0               15112288000  \n",
       "1                9053315200  "
      ]
     },
     "execution_count": 18,
     "metadata": {},
     "output_type": "execute_result"
    }
   ],
   "source": [
    "import datetime\n",
    "\n",
    "def create_acquisition_feature(input_df):\n",
    "    out_df = pd.DataFrame()\n",
    "    \n",
    "    use_columns = [\n",
    "        'acquisition_date'\n",
    "    ]\n",
    "    \n",
    "    out_df['year'] = pd.to_datetime(input_df['acquisition_date']).dt.year\n",
    "    out_df['month'] = pd.to_datetime(input_df['acquisition_date']).dt.month\n",
    "    out_df['dayofweek'] = pd.to_datetime(input_df['acquisition_date']).dt.dayofweek\n",
    "    out_df['sum_time'] =  10**10 - pd.to_datetime(input_df['acquisition_date']).view('int') // 10**9\n",
    "    \n",
    "    return out_df.add_prefix('AcquisitionDate_')\n",
    "\n",
    "create_acquisition_feature(train).head(2)"
   ]
  },
  {
   "cell_type": "code",
   "execution_count": 19,
   "metadata": {},
   "outputs": [],
   "source": [
    "# from util import inf2nan\n",
    "\n",
    "# def create_principal_maker_info_feature(input_df):\n",
    "#     '''作者の情報を追加'''\n",
    "#     out_df = pd.DataFrame()\n",
    "\n",
    "#     input_df_object_id = input_df['object_id']\n",
    "    \n",
    "#     # 作成期間の平均の年を作成\n",
    "#     train['dating_year_mean'] = (train['dating_year_early'] + train['dating_year_late']) / 2\n",
    "#     test['dating_year_mean'] = (test['dating_year_early'] + test['dating_year_late']) / 2\n",
    "\n",
    "#     merge_df = pd.concat([train, test],axis=0).reset_index(drop=True)\n",
    "\n",
    "#     # 作成期間の平均までに稼いだ良いねの総数、作者の人気度指数\n",
    "#     out_df['object_id'] = merge_df['object_id']\n",
    "#     out_df['principal_maker'] = merge_df['principal_maker']\n",
    "#     out_df['dating_year_mean'] = merge_df['dating_year_mean']\n",
    "#     out_df['cumsum'] = merge_df.sort_values('dating_year_mean').groupby('principal_maker')['likes'].cumsum()\n",
    "#     out_df['cumsum_fillnan'] = out_df.sort_values('dating_year_mean').groupby('principal_maker')['cumsum'].ffill()\n",
    "\n",
    "#     # 作成期間の平均までに出した作品の数\n",
    "#     tmp_df = pd.DataFrame()\n",
    "#     tmp_df['object_id'] = train['object_id']\n",
    "#     tmp_df['cumcount'] = train.sort_values('dating_year_mean').groupby('principal_maker').cumcount()\n",
    "#     out_df = pd.merge(out_df, tmp_df, on='object_id', how='left')\n",
    "#     out_df['cumcount_fillnan'] = out_df.sort_values('dating_year_mean').groupby('principal_maker')['cumcount'].ffill()\n",
    "\n",
    "#     # 作成期間の平均における良いねの作品平均、作者の人気度指数\n",
    "#     out_df['cumsum_per_cumcount'] = out_df['cumsum_fillnan'] / out_df['cumcount_fillnan']\n",
    "#     out_df['cumsum_per_cumcount'] = inf2nan(out_df['cumsum_per_cumcount'])\n",
    "    \n",
    "#     # anonymousはnanにする\n",
    "#     anonymous_idx = out_df[out_df['principal_maker'] == 'anonymous'].index\n",
    "#     out_df.loc[anonymous_idx,['cumsum_fillnan','cumcount_fillnan','cumsum_per_cumcount']] = np.nan\n",
    "    \n",
    "#     # filter by id\n",
    "#     out_df = out_df[out_df['object_id'].isin(input_df_object_id)].reset_index(drop=True)\n",
    "\n",
    "#     return out_df[['cumsum_fillnan','cumcount_fillnan','cumsum_per_cumcount']].add_prefix('PrincipalMakerInfo_')\n",
    "\n",
    "# create_principal_maker_info_feature(train).head(2)"
   ]
  },
  {
   "cell_type": "code",
   "execution_count": null,
   "metadata": {},
   "outputs": [],
   "source": []
  },
  {
   "cell_type": "code",
   "execution_count": 20,
   "metadata": {},
   "outputs": [
    {
     "data": {
      "text/html": [
       "<div>\n",
       "<style scoped>\n",
       "    .dataframe tbody tr th:only-of-type {\n",
       "        vertical-align: middle;\n",
       "    }\n",
       "\n",
       "    .dataframe tbody tr th {\n",
       "        vertical-align: top;\n",
       "    }\n",
       "\n",
       "    .dataframe thead th {\n",
       "        text-align: right;\n",
       "    }\n",
       "</style>\n",
       "<table border=\"1\" class=\"dataframe\">\n",
       "  <thead>\n",
       "    <tr style=\"text-align: right;\">\n",
       "      <th></th>\n",
       "      <th>StringLength__title</th>\n",
       "      <th>StringLength__long_title</th>\n",
       "      <th>StringLength__sub_title</th>\n",
       "      <th>StringLength__more_title</th>\n",
       "    </tr>\n",
       "  </thead>\n",
       "  <tbody>\n",
       "    <tr>\n",
       "      <th>0</th>\n",
       "      <td>21</td>\n",
       "      <td>48</td>\n",
       "      <td>39.0</td>\n",
       "      <td>21.0</td>\n",
       "    </tr>\n",
       "    <tr>\n",
       "      <th>1</th>\n",
       "      <td>15</td>\n",
       "      <td>64</td>\n",
       "      <td>17.0</td>\n",
       "      <td>15.0</td>\n",
       "    </tr>\n",
       "  </tbody>\n",
       "</table>\n",
       "</div>"
      ],
      "text/plain": [
       "   StringLength__title  StringLength__long_title  StringLength__sub_title  \\\n",
       "0                   21                        48                     39.0   \n",
       "1                   15                        64                     17.0   \n",
       "\n",
       "   StringLength__more_title  \n",
       "0                      21.0  \n",
       "1                      15.0  "
      ]
     },
     "execution_count": 20,
     "metadata": {},
     "output_type": "execute_result"
    }
   ],
   "source": [
    "def create_string_length_feature(input_df):\n",
    "    out_df = pd.DataFrame()\n",
    "\n",
    "    str_columns = [\n",
    "        'title', \n",
    "        'long_title',\n",
    "        'sub_title',\n",
    "        'more_title'\n",
    "        # and more\n",
    "    ]\n",
    "\n",
    "    for c in str_columns:\n",
    "        out_df[c] = input_df[c].str.len()\n",
    "\n",
    "    return out_df.add_prefix('StringLength__')\n",
    "\n",
    "create_string_length_feature(train).head(2)"
   ]
  },
  {
   "cell_type": "code",
   "execution_count": 21,
   "metadata": {},
   "outputs": [
    {
     "data": {
      "text/html": [
       "<div>\n",
       "<style scoped>\n",
       "    .dataframe tbody tr th:only-of-type {\n",
       "        vertical-align: middle;\n",
       "    }\n",
       "\n",
       "    .dataframe tbody tr th {\n",
       "        vertical-align: top;\n",
       "    }\n",
       "\n",
       "    .dataframe thead th {\n",
       "        text-align: right;\n",
       "    }\n",
       "</style>\n",
       "<table border=\"1\" class=\"dataframe\">\n",
       "  <thead>\n",
       "    <tr style=\"text-align: right;\">\n",
       "      <th></th>\n",
       "      <th>CE_acquisition_method</th>\n",
       "      <th>CE_title</th>\n",
       "      <th>CE_principal_maker</th>\n",
       "    </tr>\n",
       "  </thead>\n",
       "  <tbody>\n",
       "    <tr>\n",
       "      <th>0</th>\n",
       "      <td>4253</td>\n",
       "      <td>1</td>\n",
       "      <td>3</td>\n",
       "    </tr>\n",
       "    <tr>\n",
       "      <th>1</th>\n",
       "      <td>4253</td>\n",
       "      <td>1</td>\n",
       "      <td>180</td>\n",
       "    </tr>\n",
       "  </tbody>\n",
       "</table>\n",
       "</div>"
      ],
      "text/plain": [
       "   CE_acquisition_method  CE_title  CE_principal_maker\n",
       "0                   4253         1                   3\n",
       "1                   4253         1                 180"
      ]
     },
     "execution_count": 21,
     "metadata": {},
     "output_type": "execute_result"
    }
   ],
   "source": [
    "def create_count_encoding_feature(input_df):\n",
    "    use_columns = [\n",
    "        'acquisition_method',\n",
    "        'title',\n",
    "        'principal_maker',\n",
    "        # and more\n",
    "    ]\n",
    "\n",
    "    out_df = pd.DataFrame()\n",
    "    for column in use_columns:\n",
    "        vc = train[column].value_counts()\n",
    "        out_df[column] = input_df[column].map(vc)\n",
    "\n",
    "    return out_df.add_prefix('CE_')\n",
    "\n",
    "create_count_encoding_feature(train).head(2)"
   ]
  },
  {
   "cell_type": "code",
   "execution_count": 22,
   "metadata": {},
   "outputs": [
    {
     "data": {
      "text/html": [
       "<div>\n",
       "<style scoped>\n",
       "    .dataframe tbody tr th:only-of-type {\n",
       "        vertical-align: middle;\n",
       "    }\n",
       "\n",
       "    .dataframe tbody tr th {\n",
       "        vertical-align: top;\n",
       "    }\n",
       "\n",
       "    .dataframe thead th {\n",
       "        text-align: right;\n",
       "    }\n",
       "</style>\n",
       "<table border=\"1\" class=\"dataframe\">\n",
       "  <thead>\n",
       "    <tr style=\"text-align: right;\">\n",
       "      <th></th>\n",
       "      <th>acquisition_method=purchase</th>\n",
       "      <th>acquisition_method=transfer</th>\n",
       "      <th>acquisition_method=gift</th>\n",
       "      <th>acquisition_method=unknown</th>\n",
       "      <th>acquisition_method=bequest</th>\n",
       "      <th>acquisition_method=loan</th>\n",
       "      <th>acquisition_method=missing</th>\n",
       "      <th>acquisition_method=nationalization 1795</th>\n",
       "      <th>principal_maker=anonymous</th>\n",
       "      <th>principal_maker=other</th>\n",
       "      <th>...</th>\n",
       "      <th>principal_maker=C.M. Ferrier &amp; F. von Martens</th>\n",
       "      <th>principal_maker=James Valentine</th>\n",
       "      <th>principal_maker=Adolphe Zimmermans</th>\n",
       "      <th>principal_maker=Jan Banning</th>\n",
       "      <th>principal_maker=Wouter Johannes van Troostwijk</th>\n",
       "      <th>principal_maker=Jan Maurits Quinkhard</th>\n",
       "      <th>principal_maker=Cor Jaring</th>\n",
       "      <th>principal_maker=Jean Baptiste August Kessler</th>\n",
       "      <th>principal_maker=Gerard Edelinck</th>\n",
       "      <th>principal_maker=Augusta Curiel</th>\n",
       "    </tr>\n",
       "  </thead>\n",
       "  <tbody>\n",
       "    <tr>\n",
       "      <th>0</th>\n",
       "      <td>1</td>\n",
       "      <td>0</td>\n",
       "      <td>0</td>\n",
       "      <td>0</td>\n",
       "      <td>0</td>\n",
       "      <td>0</td>\n",
       "      <td>0</td>\n",
       "      <td>0</td>\n",
       "      <td>0</td>\n",
       "      <td>0</td>\n",
       "      <td>...</td>\n",
       "      <td>0</td>\n",
       "      <td>0</td>\n",
       "      <td>0</td>\n",
       "      <td>0</td>\n",
       "      <td>0</td>\n",
       "      <td>0</td>\n",
       "      <td>0</td>\n",
       "      <td>0</td>\n",
       "      <td>0</td>\n",
       "      <td>0</td>\n",
       "    </tr>\n",
       "    <tr>\n",
       "      <th>1</th>\n",
       "      <td>1</td>\n",
       "      <td>0</td>\n",
       "      <td>0</td>\n",
       "      <td>0</td>\n",
       "      <td>0</td>\n",
       "      <td>0</td>\n",
       "      <td>0</td>\n",
       "      <td>0</td>\n",
       "      <td>0</td>\n",
       "      <td>0</td>\n",
       "      <td>...</td>\n",
       "      <td>0</td>\n",
       "      <td>0</td>\n",
       "      <td>0</td>\n",
       "      <td>0</td>\n",
       "      <td>0</td>\n",
       "      <td>0</td>\n",
       "      <td>0</td>\n",
       "      <td>0</td>\n",
       "      <td>0</td>\n",
       "      <td>0</td>\n",
       "    </tr>\n",
       "  </tbody>\n",
       "</table>\n",
       "<p>2 rows × 98 columns</p>\n",
       "</div>"
      ],
      "text/plain": [
       "   acquisition_method=purchase  acquisition_method=transfer  \\\n",
       "0                            1                            0   \n",
       "1                            1                            0   \n",
       "\n",
       "   acquisition_method=gift  acquisition_method=unknown  \\\n",
       "0                        0                           0   \n",
       "1                        0                           0   \n",
       "\n",
       "   acquisition_method=bequest  acquisition_method=loan  \\\n",
       "0                           0                        0   \n",
       "1                           0                        0   \n",
       "\n",
       "   acquisition_method=missing  acquisition_method=nationalization 1795  \\\n",
       "0                           0                                        0   \n",
       "1                           0                                        0   \n",
       "\n",
       "   principal_maker=anonymous  principal_maker=other  ...  \\\n",
       "0                          0                      0  ...   \n",
       "1                          0                      0  ...   \n",
       "\n",
       "   principal_maker=C.M. Ferrier & F. von Martens  \\\n",
       "0                                              0   \n",
       "1                                              0   \n",
       "\n",
       "   principal_maker=James Valentine  principal_maker=Adolphe Zimmermans  \\\n",
       "0                                0                                   0   \n",
       "1                                0                                   0   \n",
       "\n",
       "   principal_maker=Jan Banning  \\\n",
       "0                            0   \n",
       "1                            0   \n",
       "\n",
       "   principal_maker=Wouter Johannes van Troostwijk  \\\n",
       "0                                               0   \n",
       "1                                               0   \n",
       "\n",
       "   principal_maker=Jan Maurits Quinkhard  principal_maker=Cor Jaring  \\\n",
       "0                                      0                           0   \n",
       "1                                      0                           0   \n",
       "\n",
       "   principal_maker=Jean Baptiste August Kessler  \\\n",
       "0                                             0   \n",
       "1                                             0   \n",
       "\n",
       "   principal_maker=Gerard Edelinck  principal_maker=Augusta Curiel  \n",
       "0                                0                               0  \n",
       "1                                0                               0  \n",
       "\n",
       "[2 rows x 98 columns]"
      ]
     },
     "execution_count": 22,
     "metadata": {},
     "output_type": "execute_result"
    }
   ],
   "source": [
    "def create_one_hot_encoding(input_df):\n",
    "    use_columns = [\n",
    "        'acquisition_method',\n",
    "        'principal_maker'\n",
    "    ]\n",
    "    out_df = pd.DataFrame()\n",
    "    for column in use_columns:\n",
    "\n",
    "        # あまり巨大な行列にならないよう, 出現回数が 20 回を下回るカテゴリは考慮しない\n",
    "        vc = train[column].value_counts()\n",
    "        vc = vc[vc > 20]\n",
    "\n",
    "        # 明示的に catgories を指定して, input_df によらず列の大きさが等しくなるようにする\n",
    "        cat = pd.Categorical(input_df[column], categories=vc.index)\n",
    "\n",
    "        # このタイミングで one-hot 化\n",
    "        out_i = pd.get_dummies(cat)\n",
    "        # column が Catgory 型として認識されているので list にして解除する (こうしないと concat でエラーになる)\n",
    "        out_i.columns = out_i.columns.tolist()\n",
    "        out_i = out_i.add_prefix(f'{column}=')\n",
    "        out_df = pd.concat([out_df, out_i], axis=1)\n",
    "    return out_df\n",
    "\n",
    "create_one_hot_encoding(train).head(2)"
   ]
  },
  {
   "cell_type": "code",
   "execution_count": 23,
   "metadata": {},
   "outputs": [
    {
     "data": {
      "text/html": [
       "<div>\n",
       "<style scoped>\n",
       "    .dataframe tbody tr th:only-of-type {\n",
       "        vertical-align: middle;\n",
       "    }\n",
       "\n",
       "    .dataframe tbody tr th {\n",
       "        vertical-align: top;\n",
       "    }\n",
       "\n",
       "    .dataframe thead th {\n",
       "        text-align: right;\n",
       "    }\n",
       "</style>\n",
       "<table border=\"1\" class=\"dataframe\">\n",
       "  <thead>\n",
       "    <tr style=\"text-align: right;\">\n",
       "      <th></th>\n",
       "      <th>subtitle_h</th>\n",
       "      <th>subtitle_w</th>\n",
       "      <th>subtitle_t</th>\n",
       "      <th>subtitle_d</th>\n",
       "      <th>area</th>\n",
       "      <th>volume</th>\n",
       "    </tr>\n",
       "  </thead>\n",
       "  <tbody>\n",
       "    <tr>\n",
       "      <th>0</th>\n",
       "      <td>1.67</td>\n",
       "      <td>1.08</td>\n",
       "      <td>NaN</td>\n",
       "      <td>NaN</td>\n",
       "      <td>1.8036</td>\n",
       "      <td>NaN</td>\n",
       "    </tr>\n",
       "    <tr>\n",
       "      <th>1</th>\n",
       "      <td>29.70</td>\n",
       "      <td>24.10</td>\n",
       "      <td>NaN</td>\n",
       "      <td>NaN</td>\n",
       "      <td>715.7700</td>\n",
       "      <td>NaN</td>\n",
       "    </tr>\n",
       "  </tbody>\n",
       "</table>\n",
       "</div>"
      ],
      "text/plain": [
       "   subtitle_h  subtitle_w  subtitle_t  subtitle_d      area  volume\n",
       "0        1.67        1.08         NaN         NaN    1.8036     NaN\n",
       "1       29.70       24.10         NaN         NaN  715.7700     NaN"
      ]
     },
     "execution_count": 23,
     "metadata": {},
     "output_type": "execute_result"
    }
   ],
   "source": [
    "import re\n",
    "\n",
    "#  h 166mm × w 78/54mm\n",
    "\n",
    "def get_h_from_subtitle(text:str):\n",
    "    match_cm = re.search(r'h \\S+cm', text)\n",
    "    if match_cm:\n",
    "        if match_cm.group()[2:-2] == '':\n",
    "            return np.nan\n",
    "        else:\n",
    "            return float(match_cm.group()[2:-2])\n",
    "\n",
    "    match_mm = re.search(r'h \\S+mm', text)\n",
    "    if match_mm:\n",
    "        if match_mm.group()[2:-2] == '':\n",
    "            return np.nan\n",
    "        else:\n",
    "            return float(match_mm.group()[2:-2])/100\n",
    "\n",
    "def get_w_from_subtitle(text:str):\n",
    "    match_cm = re.search(r'w \\S+cm', text)\n",
    "    if match_cm:\n",
    "        if match_cm.group()[2:-2] == '':\n",
    "            return np.nan\n",
    "        else:\n",
    "            return float(match_cm.group()[2:-2])\n",
    "\n",
    "    match_mm = re.search(r'w \\S+mm', text)\n",
    "    if match_mm:\n",
    "        if match_mm.group()[2:-2] == '':\n",
    "            return np.nan\n",
    "        elif match_mm.group()[2:-2] == '78/54':\n",
    "            return float(78)\n",
    "        else:\n",
    "            return float(match_mm.group()[2:-2])/100    \n",
    "\n",
    "def get_t_from_subtitle(text:str):\n",
    "    match_cm = re.search(r't \\S+cm', text)\n",
    "    if match_cm:\n",
    "        if match_cm.group()[2:-2] == '':\n",
    "            return np.nan\n",
    "        else:\n",
    "            return float(match_cm.group()[2:-2])\n",
    "\n",
    "    match_mm = re.search(r't \\S+mm', text)\n",
    "    if match_mm:\n",
    "        if match_mm.group()[2:-2] == '':\n",
    "            return np.nan\n",
    "        else:\n",
    "            return float(match_mm.group()[2:-2])/100   \n",
    "\n",
    "def get_d_from_subtitle(text:str):\n",
    "    match_cm = re.search(r'd \\S+cm', text)\n",
    "    if match_cm:\n",
    "        if match_cm.group()[2:-2] == '':\n",
    "            return np.nan\n",
    "        else:\n",
    "            return float(match_cm.group()[2:-2])\n",
    "\n",
    "    match_mm = re.search(r'd \\S+mm', text)\n",
    "    if match_mm:\n",
    "        if match_mm.group()[2:-2] == '':\n",
    "            return np.nan\n",
    "        else:\n",
    "            return float(match_mm.group()[2:-2])/100   \n",
    "        \n",
    "def create_subtitle_info(input_df):\n",
    "    out_df = pd.DataFrame()\n",
    "     \n",
    "    out_df['subtitle_h'] = input_df['sub_title'].fillna('missing').apply(lambda x : get_h_from_subtitle(x))\n",
    "    out_df['subtitle_w'] = input_df['sub_title'].fillna('missing').apply(lambda x : get_w_from_subtitle(x))\n",
    "    out_df['subtitle_t'] = input_df['sub_title'].fillna('missing').apply(lambda x : get_t_from_subtitle(x))\n",
    "    out_df['subtitle_d'] = input_df['sub_title'].fillna('missing').apply(lambda x : get_d_from_subtitle(x))\n",
    "    \n",
    "    out_df['area'] = out_df['subtitle_h'] * out_df['subtitle_w']\n",
    "    out_df['volume'] = out_df['subtitle_h'] * out_df['subtitle_w'] * out_df['subtitle_t']\n",
    "\n",
    "    return out_df\n",
    "\n",
    "create_subtitle_info(test).head(2)"
   ]
  },
  {
   "cell_type": "code",
   "execution_count": 24,
   "metadata": {},
   "outputs": [],
   "source": [
    "# # train_emb_npy = np.load('../../extract_data/train_word_emb.npy')\n",
    "# # test_emb_npy = np.load('../../extract_data/test_word_emb.npy')\n",
    "\n",
    "# train_emb_npy = np.load('../../extract_data/train_description_emb_multilingual.npy')\n",
    "# test_emb_npy = np.load('../../extract_data/test_description_emb_multilingual.npy')\n",
    "\n",
    "# train_emb_df = pd.concat([train['object_id'], pd.DataFrame(train_emb_npy)],axis=1)\n",
    "# test_emb_df = pd.concat([test['object_id'], pd.DataFrame(test_emb_npy)],axis=1)\n",
    "\n",
    "# all_df = pd.concat([train_emb_df,test_emb_df],axis=0).reset_index(drop=True)\n",
    "\n",
    "# all_df.to_pickle('../../extract_data/all_description_emb_multilingual.pkl')"
   ]
  },
  {
   "cell_type": "code",
   "execution_count": 25,
   "metadata": {},
   "outputs": [
    {
     "data": {
      "text/html": [
       "<div>\n",
       "<style scoped>\n",
       "    .dataframe tbody tr th:only-of-type {\n",
       "        vertical-align: middle;\n",
       "    }\n",
       "\n",
       "    .dataframe tbody tr th {\n",
       "        vertical-align: top;\n",
       "    }\n",
       "\n",
       "    .dataframe thead th {\n",
       "        text-align: right;\n",
       "    }\n",
       "</style>\n",
       "<table border=\"1\" class=\"dataframe\">\n",
       "  <thead>\n",
       "    <tr style=\"text-align: right;\">\n",
       "      <th></th>\n",
       "      <th>DescriptionEmb_pca_0</th>\n",
       "      <th>DescriptionEmb_pca_1</th>\n",
       "      <th>DescriptionEmb_pca_2</th>\n",
       "      <th>DescriptionEmb_pca_3</th>\n",
       "      <th>DescriptionEmb_pca_4</th>\n",
       "      <th>DescriptionEmb_pca_5</th>\n",
       "      <th>DescriptionEmb_pca_6</th>\n",
       "      <th>DescriptionEmb_pca_7</th>\n",
       "      <th>DescriptionEmb_pca_8</th>\n",
       "      <th>DescriptionEmb_pca_9</th>\n",
       "      <th>...</th>\n",
       "      <th>DescriptionEmb_pca_246</th>\n",
       "      <th>DescriptionEmb_pca_247</th>\n",
       "      <th>DescriptionEmb_pca_248</th>\n",
       "      <th>DescriptionEmb_pca_249</th>\n",
       "      <th>DescriptionEmb_pca_250</th>\n",
       "      <th>DescriptionEmb_pca_251</th>\n",
       "      <th>DescriptionEmb_pca_252</th>\n",
       "      <th>DescriptionEmb_pca_253</th>\n",
       "      <th>DescriptionEmb_pca_254</th>\n",
       "      <th>DescriptionEmb_pca_255</th>\n",
       "    </tr>\n",
       "  </thead>\n",
       "  <tbody>\n",
       "    <tr>\n",
       "      <th>12006</th>\n",
       "      <td>4.868668</td>\n",
       "      <td>-2.158478</td>\n",
       "      <td>0.022857</td>\n",
       "      <td>0.005380</td>\n",
       "      <td>-0.005051</td>\n",
       "      <td>-0.033197</td>\n",
       "      <td>-0.030381</td>\n",
       "      <td>0.001403</td>\n",
       "      <td>-0.000757</td>\n",
       "      <td>-0.003157</td>\n",
       "      <td>...</td>\n",
       "      <td>-0.000065</td>\n",
       "      <td>-0.000070</td>\n",
       "      <td>-0.000092</td>\n",
       "      <td>0.000011</td>\n",
       "      <td>0.000046</td>\n",
       "      <td>-0.000033</td>\n",
       "      <td>0.000201</td>\n",
       "      <td>0.000043</td>\n",
       "      <td>-0.000019</td>\n",
       "      <td>-0.000100</td>\n",
       "    </tr>\n",
       "    <tr>\n",
       "      <th>12007</th>\n",
       "      <td>-2.857192</td>\n",
       "      <td>-0.279424</td>\n",
       "      <td>-1.757070</td>\n",
       "      <td>-0.255253</td>\n",
       "      <td>-0.783499</td>\n",
       "      <td>-0.267255</td>\n",
       "      <td>-0.262804</td>\n",
       "      <td>-0.261662</td>\n",
       "      <td>0.870814</td>\n",
       "      <td>-0.289136</td>\n",
       "      <td>...</td>\n",
       "      <td>-0.002021</td>\n",
       "      <td>-0.026324</td>\n",
       "      <td>0.001770</td>\n",
       "      <td>-0.004371</td>\n",
       "      <td>0.023271</td>\n",
       "      <td>0.019867</td>\n",
       "      <td>0.020989</td>\n",
       "      <td>0.001674</td>\n",
       "      <td>0.005685</td>\n",
       "      <td>0.004983</td>\n",
       "    </tr>\n",
       "  </tbody>\n",
       "</table>\n",
       "<p>2 rows × 256 columns</p>\n",
       "</div>"
      ],
      "text/plain": [
       "       DescriptionEmb_pca_0  DescriptionEmb_pca_1  DescriptionEmb_pca_2  \\\n",
       "12006              4.868668             -2.158478              0.022857   \n",
       "12007             -2.857192             -0.279424             -1.757070   \n",
       "\n",
       "       DescriptionEmb_pca_3  DescriptionEmb_pca_4  DescriptionEmb_pca_5  \\\n",
       "12006              0.005380             -0.005051             -0.033197   \n",
       "12007             -0.255253             -0.783499             -0.267255   \n",
       "\n",
       "       DescriptionEmb_pca_6  DescriptionEmb_pca_7  DescriptionEmb_pca_8  \\\n",
       "12006             -0.030381              0.001403             -0.000757   \n",
       "12007             -0.262804             -0.261662              0.870814   \n",
       "\n",
       "       DescriptionEmb_pca_9  ...  DescriptionEmb_pca_246  \\\n",
       "12006             -0.003157  ...               -0.000065   \n",
       "12007             -0.289136  ...               -0.002021   \n",
       "\n",
       "       DescriptionEmb_pca_247  DescriptionEmb_pca_248  DescriptionEmb_pca_249  \\\n",
       "12006               -0.000070               -0.000092                0.000011   \n",
       "12007               -0.026324                0.001770               -0.004371   \n",
       "\n",
       "       DescriptionEmb_pca_250  DescriptionEmb_pca_251  DescriptionEmb_pca_252  \\\n",
       "12006                0.000046               -0.000033                0.000201   \n",
       "12007                0.023271                0.019867                0.020989   \n",
       "\n",
       "       DescriptionEmb_pca_253  DescriptionEmb_pca_254  DescriptionEmb_pca_255  \n",
       "12006                0.000043               -0.000019               -0.000100  \n",
       "12007                0.001674                0.005685                0.004983  \n",
       "\n",
       "[2 rows x 256 columns]"
      ]
     },
     "execution_count": 25,
     "metadata": {},
     "output_type": "execute_result"
    }
   ],
   "source": [
    "from util import use_pca\n",
    "\n",
    "def create_description_emb(input_df):\n",
    "    out_df = pd.DataFrame()\n",
    "    \n",
    "    all_emb_df = pd.read_pickle('../../extract_data/all_description_emb_multilingual.pkl')\n",
    "    \n",
    "#     # 756 to 256\n",
    "#     comp_num = 256\n",
    "\n",
    "#     pca = PCA(n_components = comp_num)\n",
    "#     pca_res = pca.fit_transform(all_emb_df.iloc[:,1:].values)\n",
    "#     emb_df_256 = pd.DataFrame(pca_res, columns=[f'pca_{i}' for i in range(comp_num)])\n",
    "#     all_emb_df_256 = pd.concat((all_emb_df['object_id'], emb_df_256), axis=1\n",
    "\n",
    "    emb_df_256 = use_pca(all_emb_df.iloc[:,1:], 256)\n",
    "    all_emb_df_256 = pd.concat((all_emb_df['object_id'], emb_df_256), axis=1)\n",
    "    \n",
    "    input_word_emb = pd.merge(input_df['object_id'], all_emb_df_256, on='object_id', how='left')\n",
    "    \n",
    "    # return input_word_emb[[num for num in range(768)]].add_prefix('DescriptionEmb_')\n",
    "    return input_word_emb[[f'pca_{num}' for num in range(256)]].add_prefix('DescriptionEmb_')\n",
    "\n",
    "create_description_emb(test).tail(2)"
   ]
  },
  {
   "cell_type": "code",
   "execution_count": 26,
   "metadata": {},
   "outputs": [],
   "source": [
    "# train_emb_npy = np.load('../../extract_data/train_word_emb.npy')\n",
    "# test_emb_npy = np.load('../../extract_data/test_word_emb.npy')\n",
    "\n",
    "# train_emb_npy = np.load('../../extract_data/train_description_emb_multilingual.npy')\n",
    "# test_emb_npy = np.load('../../extract_data/test_description_emb_multilingual.npy')\n",
    "\n",
    "train_emb_npy = np.load('../../extract_data/train_long_title_emb_multilingual.npy')\n",
    "test_emb_npy = np.load('../../extract_data/test_long_title_emb_multilingual.npy')\n",
    "\n",
    "train_emb_df = pd.concat([train['object_id'], pd.DataFrame(train_emb_npy)],axis=1)\n",
    "test_emb_df = pd.concat([test['object_id'], pd.DataFrame(test_emb_npy)],axis=1)\n",
    "\n",
    "all_df = pd.concat([train_emb_df,test_emb_df],axis=0).reset_index(drop=True)\n",
    "\n",
    "all_df.to_pickle('../../extract_data/all_longtitle_emb_multilingual.pkl')"
   ]
  },
  {
   "cell_type": "code",
   "execution_count": 27,
   "metadata": {},
   "outputs": [
    {
     "data": {
      "text/html": [
       "<div>\n",
       "<style scoped>\n",
       "    .dataframe tbody tr th:only-of-type {\n",
       "        vertical-align: middle;\n",
       "    }\n",
       "\n",
       "    .dataframe tbody tr th {\n",
       "        vertical-align: top;\n",
       "    }\n",
       "\n",
       "    .dataframe thead th {\n",
       "        text-align: right;\n",
       "    }\n",
       "</style>\n",
       "<table border=\"1\" class=\"dataframe\">\n",
       "  <thead>\n",
       "    <tr style=\"text-align: right;\">\n",
       "      <th></th>\n",
       "      <th>LongTitleEmb_pca_0</th>\n",
       "      <th>LongTitleEmb_pca_1</th>\n",
       "      <th>LongTitleEmb_pca_2</th>\n",
       "      <th>LongTitleEmb_pca_3</th>\n",
       "      <th>LongTitleEmb_pca_4</th>\n",
       "      <th>LongTitleEmb_pca_5</th>\n",
       "      <th>LongTitleEmb_pca_6</th>\n",
       "      <th>LongTitleEmb_pca_7</th>\n",
       "      <th>LongTitleEmb_pca_8</th>\n",
       "      <th>LongTitleEmb_pca_9</th>\n",
       "      <th>...</th>\n",
       "      <th>LongTitleEmb_pca_246</th>\n",
       "      <th>LongTitleEmb_pca_247</th>\n",
       "      <th>LongTitleEmb_pca_248</th>\n",
       "      <th>LongTitleEmb_pca_249</th>\n",
       "      <th>LongTitleEmb_pca_250</th>\n",
       "      <th>LongTitleEmb_pca_251</th>\n",
       "      <th>LongTitleEmb_pca_252</th>\n",
       "      <th>LongTitleEmb_pca_253</th>\n",
       "      <th>LongTitleEmb_pca_254</th>\n",
       "      <th>LongTitleEmb_pca_255</th>\n",
       "    </tr>\n",
       "  </thead>\n",
       "  <tbody>\n",
       "    <tr>\n",
       "      <th>12024</th>\n",
       "      <td>0.134985</td>\n",
       "      <td>0.274561</td>\n",
       "      <td>-0.355268</td>\n",
       "      <td>-0.568043</td>\n",
       "      <td>0.490873</td>\n",
       "      <td>-0.759762</td>\n",
       "      <td>0.800045</td>\n",
       "      <td>0.492067</td>\n",
       "      <td>-0.684613</td>\n",
       "      <td>-0.055676</td>\n",
       "      <td>...</td>\n",
       "      <td>-0.124085</td>\n",
       "      <td>-0.109650</td>\n",
       "      <td>0.011198</td>\n",
       "      <td>0.033917</td>\n",
       "      <td>-0.071648</td>\n",
       "      <td>0.004953</td>\n",
       "      <td>0.036293</td>\n",
       "      <td>-0.151615</td>\n",
       "      <td>0.046661</td>\n",
       "      <td>0.075901</td>\n",
       "    </tr>\n",
       "    <tr>\n",
       "      <th>12025</th>\n",
       "      <td>3.315138</td>\n",
       "      <td>0.391916</td>\n",
       "      <td>-0.387957</td>\n",
       "      <td>-0.729398</td>\n",
       "      <td>-0.963973</td>\n",
       "      <td>-1.700651</td>\n",
       "      <td>-0.560261</td>\n",
       "      <td>0.077447</td>\n",
       "      <td>0.027761</td>\n",
       "      <td>-0.265688</td>\n",
       "      <td>...</td>\n",
       "      <td>0.011082</td>\n",
       "      <td>-0.019668</td>\n",
       "      <td>0.018901</td>\n",
       "      <td>-0.077008</td>\n",
       "      <td>-0.060058</td>\n",
       "      <td>-0.031605</td>\n",
       "      <td>0.043291</td>\n",
       "      <td>0.041119</td>\n",
       "      <td>0.057007</td>\n",
       "      <td>0.006189</td>\n",
       "    </tr>\n",
       "  </tbody>\n",
       "</table>\n",
       "<p>2 rows × 256 columns</p>\n",
       "</div>"
      ],
      "text/plain": [
       "       LongTitleEmb_pca_0  LongTitleEmb_pca_1  LongTitleEmb_pca_2  \\\n",
       "12024            0.134985            0.274561           -0.355268   \n",
       "12025            3.315138            0.391916           -0.387957   \n",
       "\n",
       "       LongTitleEmb_pca_3  LongTitleEmb_pca_4  LongTitleEmb_pca_5  \\\n",
       "12024           -0.568043            0.490873           -0.759762   \n",
       "12025           -0.729398           -0.963973           -1.700651   \n",
       "\n",
       "       LongTitleEmb_pca_6  LongTitleEmb_pca_7  LongTitleEmb_pca_8  \\\n",
       "12024            0.800045            0.492067           -0.684613   \n",
       "12025           -0.560261            0.077447            0.027761   \n",
       "\n",
       "       LongTitleEmb_pca_9  ...  LongTitleEmb_pca_246  LongTitleEmb_pca_247  \\\n",
       "12024           -0.055676  ...             -0.124085             -0.109650   \n",
       "12025           -0.265688  ...              0.011082             -0.019668   \n",
       "\n",
       "       LongTitleEmb_pca_248  LongTitleEmb_pca_249  LongTitleEmb_pca_250  \\\n",
       "12024              0.011198              0.033917             -0.071648   \n",
       "12025              0.018901             -0.077008             -0.060058   \n",
       "\n",
       "       LongTitleEmb_pca_251  LongTitleEmb_pca_252  LongTitleEmb_pca_253  \\\n",
       "12024              0.004953              0.036293             -0.151615   \n",
       "12025             -0.031605              0.043291              0.041119   \n",
       "\n",
       "       LongTitleEmb_pca_254  LongTitleEmb_pca_255  \n",
       "12024              0.046661              0.075901  \n",
       "12025              0.057007              0.006189  \n",
       "\n",
       "[2 rows x 256 columns]"
      ]
     },
     "execution_count": 27,
     "metadata": {},
     "output_type": "execute_result"
    }
   ],
   "source": [
    "from util import use_pca\n",
    "\n",
    "def create_longtitle_emb(input_df):\n",
    "    out_df = pd.DataFrame()\n",
    "    \n",
    "    all_emb_df = pd.read_pickle('../../extract_data/all_longtitle_emb_multilingual.pkl')\n",
    "    \n",
    "#     # 756 to 256\n",
    "#     comp_num = 256\n",
    "\n",
    "#     pca = PCA(n_components = comp_num)\n",
    "#     pca_res = pca.fit_transform(all_emb_df.iloc[:,1:].values)\n",
    "#     emb_df_256 = pd.DataFrame(pca_res, columns=[f'pca_{i}' for i in range(comp_num)])\n",
    "#     all_emb_df_256 = pd.concat((all_emb_df['object_id'], emb_df_256), axis=1\n",
    "\n",
    "    emb_df_256 = use_pca(all_emb_df.iloc[:,1:], 256)\n",
    "    all_emb_df_256 = pd.concat((all_emb_df['object_id'], emb_df_256), axis=1)\n",
    "    \n",
    "    input_word_emb = pd.merge(input_df['object_id'], all_emb_df_256, on='object_id', how='left')\n",
    "    \n",
    "    # return input_word_emb[[num for num in range(768)]].add_prefix('DescriptionEmb_')\n",
    "    return input_word_emb[[f'pca_{num}' for num in range(256)]].add_prefix('LongTitleEmb_')\n",
    "\n",
    "create_longtitle_emb(train).tail(2)"
   ]
  },
  {
   "cell_type": "code",
   "execution_count": 28,
   "metadata": {},
   "outputs": [],
   "source": [
    "# https://github.com/nyk510/vivid/blob/master/vivid/utils.py\n",
    "from contextlib import contextmanager\n",
    "from time import time\n",
    "\n",
    "class Timer:\n",
    "    def __init__(self, logger=None, format_str='{:.3f}[s]', prefix=None, suffix=None, sep=' '):\n",
    "\n",
    "        if prefix: format_str = str(prefix) + sep + format_str\n",
    "        if suffix: format_str = format_str + sep + str(suffix)\n",
    "        self.format_str = format_str\n",
    "        self.logger = logger\n",
    "        self.start = None\n",
    "        self.end = None\n",
    "\n",
    "    @property\n",
    "    def duration(self):\n",
    "        if self.end is None:\n",
    "            return 0\n",
    "        return self.end - self.start\n",
    "\n",
    "    def __enter__(self):\n",
    "        self.start = time()\n",
    "\n",
    "    def __exit__(self, exc_type, exc_val, exc_tb):\n",
    "        self.end = time()\n",
    "        out_str = self.format_str.format(self.duration)\n",
    "        if self.logger:\n",
    "            self.logger.info(out_str)\n",
    "        else:\n",
    "            print(out_str)"
   ]
  },
  {
   "cell_type": "code",
   "execution_count": 29,
   "metadata": {},
   "outputs": [
    {
     "name": "stderr",
     "output_type": "stream",
     "text": [
      " 70%|███████   | 7/10 [00:00<00:00, 69.47it/s]"
     ]
    },
    {
     "name": "stdout",
     "output_type": "stream",
     "text": [
      "createcreate_object_feature  0.002[s]\n",
      "createcreate_numeric_feature  0.002[s]\n",
      "createcreate_categorical_feature  0.002[s]\n",
      "createcreate_acquisition_feature  0.029[s]\n",
      "createcreate_string_length_feature  0.016[s]\n",
      "createcreate_count_encoding_feature  0.012[s]\n",
      "createcreate_one_hot_encoding  0.010[s]\n",
      "createcreate_subtitle_info  0.086[s]\n",
      "createcreate_description_emb  1.040[s]\n"
     ]
    },
    {
     "name": "stderr",
     "output_type": "stream",
     "text": [
      "100%|██████████| 10/10 [00:02<00:00,  4.37it/s]\n",
      " 80%|████████  | 8/10 [00:00<00:00, 45.58it/s]"
     ]
    },
    {
     "name": "stdout",
     "output_type": "stream",
     "text": [
      "createcreate_longtitle_emb  1.021[s]\n",
      "createcreate_object_feature  0.000[s]\n",
      "createcreate_numeric_feature  0.002[s]\n",
      "createcreate_categorical_feature  0.002[s]\n",
      "createcreate_acquisition_feature  0.013[s]\n",
      "createcreate_string_length_feature  0.019[s]\n",
      "createcreate_count_encoding_feature  0.013[s]\n",
      "createcreate_one_hot_encoding  0.010[s]\n",
      "createcreate_subtitle_info  0.083[s]\n",
      "createcreate_description_emb  0.995[s]\n"
     ]
    },
    {
     "name": "stderr",
     "output_type": "stream",
     "text": [
      "100%|██████████| 10/10 [00:02<00:00,  4.58it/s]"
     ]
    },
    {
     "name": "stdout",
     "output_type": "stream",
     "text": [
      "createcreate_longtitle_emb  0.978[s]\n"
     ]
    },
    {
     "name": "stderr",
     "output_type": "stream",
     "text": [
      "\n"
     ]
    }
   ],
   "source": [
    "from tqdm import tqdm\n",
    "\n",
    "def to_feature(input_df):\n",
    "    \"\"\"input_df を特徴量行列に変換した新しいデータフレームを返す.\n",
    "    \"\"\"\n",
    "\n",
    "    processors = [\n",
    "        create_object_feature,\n",
    "        create_numeric_feature,\n",
    "        create_categorical_feature,\n",
    "        create_acquisition_feature,\n",
    "        # create_principal_maker_info_feature,\n",
    "        create_string_length_feature,\n",
    "        create_count_encoding_feature,\n",
    "        create_one_hot_encoding,\n",
    "        create_subtitle_info,\n",
    "        create_description_emb,\n",
    "        create_longtitle_emb\n",
    "    ]\n",
    "\n",
    "    out_df = pd.DataFrame()\n",
    "\n",
    "    for func in tqdm(processors, total=len(processors)):\n",
    "        with Timer(prefix='create' + func.__name__ + ' '):\n",
    "            _df = func(input_df)\n",
    "        # 長さが等しいことをチェック (ずれている場合, func の実装がおかしい)\n",
    "        assert len(_df) == len(input_df), func.__name__\n",
    "        out_df = pd.concat([out_df, _df], axis=1)\n",
    "\n",
    "    return out_df\n",
    "\n",
    "train_feat= to_feature(train)\n",
    "test_feat = to_feature(test)\n",
    "\n",
    "train = train_feat.copy()\n",
    "test = test_feat.copy()"
   ]
  },
  {
   "cell_type": "code",
   "execution_count": 30,
   "metadata": {},
   "outputs": [],
   "source": [
    "train = train.reset_index(drop=True)\n",
    "test = test.reset_index(drop=True)"
   ]
  },
  {
   "cell_type": "markdown",
   "metadata": {},
   "source": [
    "# train"
   ]
  },
  {
   "cell_type": "code",
   "execution_count": 31,
   "metadata": {},
   "outputs": [
    {
     "data": {
      "text/plain": [
       "likes                    0\n",
       "dating_period            0\n",
       "dating_year_early       10\n",
       "dating_year_late        38\n",
       "art_series_id            0\n",
       "                        ..\n",
       "LongTitleEmb_pca_251     0\n",
       "LongTitleEmb_pca_252     0\n",
       "LongTitleEmb_pca_253     0\n",
       "LongTitleEmb_pca_254     0\n",
       "LongTitleEmb_pca_255     0\n",
       "Length: 636, dtype: int64"
      ]
     },
     "execution_count": 31,
     "metadata": {},
     "output_type": "execute_result"
    }
   ],
   "source": [
    "train.isnull().sum()"
   ]
  },
  {
   "cell_type": "code",
   "execution_count": 32,
   "metadata": {},
   "outputs": [
    {
     "data": {
      "text/html": [
       "<div>\n",
       "<style scoped>\n",
       "    .dataframe tbody tr th:only-of-type {\n",
       "        vertical-align: middle;\n",
       "    }\n",
       "\n",
       "    .dataframe tbody tr th {\n",
       "        vertical-align: top;\n",
       "    }\n",
       "\n",
       "    .dataframe thead th {\n",
       "        text-align: right;\n",
       "    }\n",
       "</style>\n",
       "<table border=\"1\" class=\"dataframe\">\n",
       "  <thead>\n",
       "    <tr style=\"text-align: right;\">\n",
       "      <th></th>\n",
       "      <th>likes</th>\n",
       "      <th>dating_period</th>\n",
       "      <th>dating_year_early</th>\n",
       "      <th>dating_year_late</th>\n",
       "      <th>art_series_id</th>\n",
       "      <th>principal_maker</th>\n",
       "      <th>principal_or_first_maker</th>\n",
       "      <th>copyright_holder</th>\n",
       "      <th>acquisition_method</th>\n",
       "      <th>AcquisitionDate_year</th>\n",
       "      <th>...</th>\n",
       "      <th>LongTitleEmb_pca_246</th>\n",
       "      <th>LongTitleEmb_pca_247</th>\n",
       "      <th>LongTitleEmb_pca_248</th>\n",
       "      <th>LongTitleEmb_pca_249</th>\n",
       "      <th>LongTitleEmb_pca_250</th>\n",
       "      <th>LongTitleEmb_pca_251</th>\n",
       "      <th>LongTitleEmb_pca_252</th>\n",
       "      <th>LongTitleEmb_pca_253</th>\n",
       "      <th>LongTitleEmb_pca_254</th>\n",
       "      <th>LongTitleEmb_pca_255</th>\n",
       "    </tr>\n",
       "  </thead>\n",
       "  <tbody>\n",
       "    <tr>\n",
       "      <th>0</th>\n",
       "      <td>NaN</td>\n",
       "      <td>19</td>\n",
       "      <td>1850.0</td>\n",
       "      <td>1900.0</td>\n",
       "      <td>other</td>\n",
       "      <td>Bernardus Bruining</td>\n",
       "      <td>Bernardus Bruining</td>\n",
       "      <td>missing</td>\n",
       "      <td>transfer</td>\n",
       "      <td>1994.0</td>\n",
       "      <td>...</td>\n",
       "      <td>0.037331</td>\n",
       "      <td>-0.039051</td>\n",
       "      <td>-0.107597</td>\n",
       "      <td>0.009122</td>\n",
       "      <td>-0.036311</td>\n",
       "      <td>0.045924</td>\n",
       "      <td>0.085534</td>\n",
       "      <td>-0.062058</td>\n",
       "      <td>0.054639</td>\n",
       "      <td>-0.039133</td>\n",
       "    </tr>\n",
       "    <tr>\n",
       "      <th>1</th>\n",
       "      <td>NaN</td>\n",
       "      <td>17</td>\n",
       "      <td>1609.0</td>\n",
       "      <td>1633.0</td>\n",
       "      <td>other</td>\n",
       "      <td>Jan Antonisz van Ravesteyn</td>\n",
       "      <td>Jan Antonisz van Ravesteyn</td>\n",
       "      <td>missing</td>\n",
       "      <td>nationalization 1795</td>\n",
       "      <td>1798.0</td>\n",
       "      <td>...</td>\n",
       "      <td>-0.076787</td>\n",
       "      <td>-0.089816</td>\n",
       "      <td>0.003000</td>\n",
       "      <td>-0.111474</td>\n",
       "      <td>-0.083266</td>\n",
       "      <td>0.067740</td>\n",
       "      <td>-0.035723</td>\n",
       "      <td>0.063153</td>\n",
       "      <td>0.034150</td>\n",
       "      <td>-0.079667</td>\n",
       "    </tr>\n",
       "  </tbody>\n",
       "</table>\n",
       "<p>2 rows × 636 columns</p>\n",
       "</div>"
      ],
      "text/plain": [
       "   likes  dating_period  dating_year_early  dating_year_late art_series_id  \\\n",
       "0    NaN             19             1850.0            1900.0         other   \n",
       "1    NaN             17             1609.0            1633.0         other   \n",
       "\n",
       "              principal_maker    principal_or_first_maker copyright_holder  \\\n",
       "0          Bernardus Bruining          Bernardus Bruining          missing   \n",
       "1  Jan Antonisz van Ravesteyn  Jan Antonisz van Ravesteyn          missing   \n",
       "\n",
       "     acquisition_method  AcquisitionDate_year  ...  LongTitleEmb_pca_246  \\\n",
       "0              transfer                1994.0  ...              0.037331   \n",
       "1  nationalization 1795                1798.0  ...             -0.076787   \n",
       "\n",
       "   LongTitleEmb_pca_247  LongTitleEmb_pca_248  LongTitleEmb_pca_249  \\\n",
       "0             -0.039051             -0.107597              0.009122   \n",
       "1             -0.089816              0.003000             -0.111474   \n",
       "\n",
       "   LongTitleEmb_pca_250  LongTitleEmb_pca_251  LongTitleEmb_pca_252  \\\n",
       "0             -0.036311              0.045924              0.085534   \n",
       "1             -0.083266              0.067740             -0.035723   \n",
       "\n",
       "   LongTitleEmb_pca_253  LongTitleEmb_pca_254  LongTitleEmb_pca_255  \n",
       "0             -0.062058              0.054639             -0.039133  \n",
       "1              0.063153              0.034150             -0.079667  \n",
       "\n",
       "[2 rows x 636 columns]"
      ]
     },
     "execution_count": 32,
     "metadata": {},
     "output_type": "execute_result"
    }
   ],
   "source": [
    "test.head(2)"
   ]
  },
  {
   "cell_type": "markdown",
   "metadata": {},
   "source": [
    "# reduce mem usage"
   ]
  },
  {
   "cell_type": "code",
   "execution_count": 33,
   "metadata": {},
   "outputs": [],
   "source": [
    "# from util import reduce_mem_usage\n",
    "# train_feat_df = reduce_mem_usage(train_feat_df)\n",
    "# test_feat_df = reduce_mem_usage(test_feat_df)"
   ]
  },
  {
   "cell_type": "markdown",
   "metadata": {},
   "source": [
    "# Lable Encoding"
   ]
  },
  {
   "cell_type": "code",
   "execution_count": 34,
   "metadata": {},
   "outputs": [],
   "source": [
    "cat_col = train.select_dtypes('O').columns.tolist()"
   ]
  },
  {
   "cell_type": "code",
   "execution_count": 35,
   "metadata": {},
   "outputs": [],
   "source": [
    "from fe import label_encode\n",
    "train, test = label_encode(train, test, cat_col)"
   ]
  },
  {
   "cell_type": "code",
   "execution_count": 36,
   "metadata": {},
   "outputs": [
    {
     "data": {
      "text/plain": [
       "likes                     int64\n",
       "dating_period             int64\n",
       "dating_year_early       float64\n",
       "dating_year_late        float64\n",
       "art_series_id             int64\n",
       "                         ...   \n",
       "LongTitleEmb_pca_251    float32\n",
       "LongTitleEmb_pca_252    float32\n",
       "LongTitleEmb_pca_253    float32\n",
       "LongTitleEmb_pca_254    float32\n",
       "LongTitleEmb_pca_255    float32\n",
       "Length: 636, dtype: object"
      ]
     },
     "execution_count": 36,
     "metadata": {},
     "output_type": "execute_result"
    }
   ],
   "source": [
    "train.dtypes"
   ]
  },
  {
   "cell_type": "markdown",
   "metadata": {},
   "source": [
    "# add fold"
   ]
  },
  {
   "cell_type": "code",
   "execution_count": 37,
   "metadata": {},
   "outputs": [],
   "source": [
    "from fold import add_fold_bin_skf\n",
    "train = add_fold_bin_skf(train, train[cfg['target']], fold_num=5, bins=[0,1,10,100,1000, 27392])"
   ]
  },
  {
   "cell_type": "markdown",
   "metadata": {},
   "source": [
    "# Target Encoding"
   ]
  },
  {
   "cell_type": "code",
   "execution_count": 38,
   "metadata": {},
   "outputs": [
    {
     "data": {
      "text/plain": [
       "0        17\n",
       "1        19\n",
       "2        19\n",
       "3        19\n",
       "4        19\n",
       "         ..\n",
       "12021    19\n",
       "12022    18\n",
       "12023    18\n",
       "12024    17\n",
       "12025    15\n",
       "Name: dating_period, Length: 12026, dtype: int64"
      ]
     },
     "execution_count": 38,
     "metadata": {},
     "output_type": "execute_result"
    }
   ],
   "source": [
    "train['dating_period']"
   ]
  },
  {
   "cell_type": "code",
   "execution_count": 39,
   "metadata": {},
   "outputs": [
    {
     "name": "stdout",
     "output_type": "stream",
     "text": [
      "principal_maker\n",
      "principal_or_first_maker\n",
      "copyright_holder\n",
      "acquisition_method\n",
      "dating_period\n"
     ]
    }
   ],
   "source": [
    "target_enc_list = [\n",
    "    # 'art_series_id',\n",
    "    'principal_maker',\n",
    "    'principal_or_first_maker',\n",
    "    'copyright_holder',\n",
    "    'acquisition_method',\n",
    "    'dating_period'\n",
    "]\n",
    "\n",
    "from fe import target_encoding\n",
    "train, test = target_encoding(train, \n",
    "                              test, \n",
    "                              target = cfg['target'], \n",
    "                              target_enc_list = target_enc_list, \n",
    "                              fold_num = cfg['fold_num']\n",
    "                             )"
   ]
  },
  {
   "cell_type": "markdown",
   "metadata": {},
   "source": [
    "# Make Model"
   ]
  },
  {
   "cell_type": "code",
   "execution_count": 40,
   "metadata": {},
   "outputs": [],
   "source": [
    "use_col = train.columns.tolist()\n",
    "use_col.remove('fold')\n",
    "use_col.remove(cfg['target'])"
   ]
  },
  {
   "cell_type": "code",
   "execution_count": 41,
   "metadata": {},
   "outputs": [
    {
     "data": {
      "text/plain": [
       "['dating_period',\n",
       " 'dating_year_early',\n",
       " 'dating_year_late',\n",
       " 'art_series_id',\n",
       " 'principal_maker',\n",
       " 'principal_or_first_maker',\n",
       " 'copyright_holder',\n",
       " 'acquisition_method',\n",
       " 'AcquisitionDate_year',\n",
       " 'AcquisitionDate_month',\n",
       " 'AcquisitionDate_dayofweek',\n",
       " 'AcquisitionDate_sum_time',\n",
       " 'StringLength__title',\n",
       " 'StringLength__long_title',\n",
       " 'StringLength__sub_title',\n",
       " 'StringLength__more_title',\n",
       " 'CE_acquisition_method',\n",
       " 'CE_title',\n",
       " 'CE_principal_maker',\n",
       " 'acquisition_method=purchase',\n",
       " 'acquisition_method=transfer',\n",
       " 'acquisition_method=gift',\n",
       " 'acquisition_method=unknown',\n",
       " 'acquisition_method=bequest',\n",
       " 'acquisition_method=loan',\n",
       " 'acquisition_method=missing',\n",
       " 'acquisition_method=nationalization 1795',\n",
       " 'principal_maker=anonymous',\n",
       " 'principal_maker=other',\n",
       " 'principal_maker=Johann Sadeler (I)',\n",
       " 'principal_maker=Bernard Picart',\n",
       " 'principal_maker=Richard Tepe',\n",
       " 'principal_maker=anoniem (Monumentenzorg)',\n",
       " 'principal_maker=Jan Luyken',\n",
       " 'principal_maker=Raphaël Sadeler (I)',\n",
       " 'principal_maker=Woodbury & Page',\n",
       " 'principal_maker=Romeyn de Hooghe',\n",
       " 'principal_maker=Aegidius Sadeler',\n",
       " 'principal_maker=Giorgio Sommer',\n",
       " 'principal_maker=Willem Diepraam',\n",
       " 'principal_maker=Jacob Olie jr.',\n",
       " 'principal_maker=Geldolph Adriaan Kessler',\n",
       " 'principal_maker=Abraham Rademaker',\n",
       " 'principal_maker=L. Heldring',\n",
       " 'principal_maker=Hermanus Jan Hendrik van Rijkelijkhuysen',\n",
       " 'principal_maker=Jan Harmensz. Muller',\n",
       " 'principal_maker=Johanna Margaretha Piek',\n",
       " 'principal_maker=Crispijn van de Passe (I)',\n",
       " 'principal_maker=Cornelis Galle (I)',\n",
       " 'principal_maker=Jacob de Gheyn (II)',\n",
       " 'principal_maker=Cornelis Ploos van Amstel',\n",
       " 'principal_maker=Théodore van Lelyveld',\n",
       " 'principal_maker=Jacob van der Schley',\n",
       " 'principal_maker=Daniël Veelwaard (I)',\n",
       " 'principal_maker=Jan Frederik Christiaan Reckleben',\n",
       " 'principal_maker=Paulus Pontius',\n",
       " 'principal_maker=Albert Greiner',\n",
       " 'principal_maker=Hendrick Goltzius',\n",
       " 'principal_maker=Henry Pauw van Wieldrecht',\n",
       " 'principal_maker=Francis Frith',\n",
       " 'principal_maker=Heinrich Aldegrever',\n",
       " 'principal_maker=Theodoor Koning',\n",
       " 'principal_maker=Roelant Roghman',\n",
       " 'principal_maker=Adolphe Burdet',\n",
       " 'principal_maker=Jacques Lalaing',\n",
       " 'principal_maker=G. Dangereux',\n",
       " 'principal_maker=Philip Henry Delamotte',\n",
       " 'principal_maker=Juan Laurent',\n",
       " 'principal_maker=Bonfils',\n",
       " 'principal_maker=Fratelli Alinari',\n",
       " 'principal_maker=Henry W. Taunt',\n",
       " 'principal_maker=Isidore Kinsbergen',\n",
       " 'principal_maker=Atelier Kurkdjian',\n",
       " 'principal_maker=Charles Rochussen',\n",
       " 'principal_maker=Paul Güssfeldt',\n",
       " 'principal_maker=Johann Heinrich Maria Hubert Rennefeld',\n",
       " 'principal_maker=Carl Cristiaan Fuchs',\n",
       " 'principal_maker=Caspar Luyken',\n",
       " 'principal_maker=Jan van de Velde (II)',\n",
       " 'principal_maker=Samuel Bourne',\n",
       " 'principal_maker=Eberhard Cornelis Rahms',\n",
       " 'principal_maker=Jozef Van Ruyssevelt',\n",
       " 'principal_maker=Gabriel Huquier',\n",
       " 'principal_maker=Waldemar Titzenthaler',\n",
       " 'principal_maker=Theodoor van Thulden',\n",
       " 'principal_maker=Joost van Geel',\n",
       " 'principal_maker=George Hendrik Breitner',\n",
       " 'principal_maker=Jean Baptiste Vanmour',\n",
       " 'principal_maker=Dirck Volckertsz. Coornhert',\n",
       " 'principal_maker=Hendrik Roosing',\n",
       " 'principal_maker=Schelte Adamsz. Bolswert',\n",
       " 'principal_maker=Giacomo Brogi',\n",
       " 'principal_maker=James Higson',\n",
       " 'principal_maker=Gustave Eugène Chauffourier',\n",
       " 'principal_maker=Herman Salzwedel',\n",
       " 'principal_maker=Christiaan Benjamin Nieuwenhuis',\n",
       " 'principal_maker=O. Hisgen & Co.',\n",
       " 'principal_maker=Charles Thurston Thompson',\n",
       " 'principal_maker=Maurits Verveer',\n",
       " 'principal_maker=Heinrich Ernst & Co',\n",
       " 'principal_maker=Boëtius Adamsz. Bolswert',\n",
       " 'principal_maker=Arnoud van Halen',\n",
       " 'principal_maker=Jan Goedeljee',\n",
       " 'principal_maker=Ohannes Kurkdjian',\n",
       " 'principal_maker=Kornelis Willem Schorteldoek',\n",
       " 'principal_maker=Simon Fokke',\n",
       " 'principal_maker=Rembrandt van Rijn',\n",
       " 'principal_maker=C.M. Ferrier & F. von Martens',\n",
       " 'principal_maker=James Valentine',\n",
       " 'principal_maker=Adolphe Zimmermans',\n",
       " 'principal_maker=Jan Banning',\n",
       " 'principal_maker=Wouter Johannes van Troostwijk',\n",
       " 'principal_maker=Jan Maurits Quinkhard',\n",
       " 'principal_maker=Cor Jaring',\n",
       " 'principal_maker=Jean Baptiste August Kessler',\n",
       " 'principal_maker=Gerard Edelinck',\n",
       " 'principal_maker=Augusta Curiel',\n",
       " 'subtitle_h',\n",
       " 'subtitle_w',\n",
       " 'subtitle_t',\n",
       " 'subtitle_d',\n",
       " 'area',\n",
       " 'volume',\n",
       " 'DescriptionEmb_pca_0',\n",
       " 'DescriptionEmb_pca_1',\n",
       " 'DescriptionEmb_pca_2',\n",
       " 'DescriptionEmb_pca_3',\n",
       " 'DescriptionEmb_pca_4',\n",
       " 'DescriptionEmb_pca_5',\n",
       " 'DescriptionEmb_pca_6',\n",
       " 'DescriptionEmb_pca_7',\n",
       " 'DescriptionEmb_pca_8',\n",
       " 'DescriptionEmb_pca_9',\n",
       " 'DescriptionEmb_pca_10',\n",
       " 'DescriptionEmb_pca_11',\n",
       " 'DescriptionEmb_pca_12',\n",
       " 'DescriptionEmb_pca_13',\n",
       " 'DescriptionEmb_pca_14',\n",
       " 'DescriptionEmb_pca_15',\n",
       " 'DescriptionEmb_pca_16',\n",
       " 'DescriptionEmb_pca_17',\n",
       " 'DescriptionEmb_pca_18',\n",
       " 'DescriptionEmb_pca_19',\n",
       " 'DescriptionEmb_pca_20',\n",
       " 'DescriptionEmb_pca_21',\n",
       " 'DescriptionEmb_pca_22',\n",
       " 'DescriptionEmb_pca_23',\n",
       " 'DescriptionEmb_pca_24',\n",
       " 'DescriptionEmb_pca_25',\n",
       " 'DescriptionEmb_pca_26',\n",
       " 'DescriptionEmb_pca_27',\n",
       " 'DescriptionEmb_pca_28',\n",
       " 'DescriptionEmb_pca_29',\n",
       " 'DescriptionEmb_pca_30',\n",
       " 'DescriptionEmb_pca_31',\n",
       " 'DescriptionEmb_pca_32',\n",
       " 'DescriptionEmb_pca_33',\n",
       " 'DescriptionEmb_pca_34',\n",
       " 'DescriptionEmb_pca_35',\n",
       " 'DescriptionEmb_pca_36',\n",
       " 'DescriptionEmb_pca_37',\n",
       " 'DescriptionEmb_pca_38',\n",
       " 'DescriptionEmb_pca_39',\n",
       " 'DescriptionEmb_pca_40',\n",
       " 'DescriptionEmb_pca_41',\n",
       " 'DescriptionEmb_pca_42',\n",
       " 'DescriptionEmb_pca_43',\n",
       " 'DescriptionEmb_pca_44',\n",
       " 'DescriptionEmb_pca_45',\n",
       " 'DescriptionEmb_pca_46',\n",
       " 'DescriptionEmb_pca_47',\n",
       " 'DescriptionEmb_pca_48',\n",
       " 'DescriptionEmb_pca_49',\n",
       " 'DescriptionEmb_pca_50',\n",
       " 'DescriptionEmb_pca_51',\n",
       " 'DescriptionEmb_pca_52',\n",
       " 'DescriptionEmb_pca_53',\n",
       " 'DescriptionEmb_pca_54',\n",
       " 'DescriptionEmb_pca_55',\n",
       " 'DescriptionEmb_pca_56',\n",
       " 'DescriptionEmb_pca_57',\n",
       " 'DescriptionEmb_pca_58',\n",
       " 'DescriptionEmb_pca_59',\n",
       " 'DescriptionEmb_pca_60',\n",
       " 'DescriptionEmb_pca_61',\n",
       " 'DescriptionEmb_pca_62',\n",
       " 'DescriptionEmb_pca_63',\n",
       " 'DescriptionEmb_pca_64',\n",
       " 'DescriptionEmb_pca_65',\n",
       " 'DescriptionEmb_pca_66',\n",
       " 'DescriptionEmb_pca_67',\n",
       " 'DescriptionEmb_pca_68',\n",
       " 'DescriptionEmb_pca_69',\n",
       " 'DescriptionEmb_pca_70',\n",
       " 'DescriptionEmb_pca_71',\n",
       " 'DescriptionEmb_pca_72',\n",
       " 'DescriptionEmb_pca_73',\n",
       " 'DescriptionEmb_pca_74',\n",
       " 'DescriptionEmb_pca_75',\n",
       " 'DescriptionEmb_pca_76',\n",
       " 'DescriptionEmb_pca_77',\n",
       " 'DescriptionEmb_pca_78',\n",
       " 'DescriptionEmb_pca_79',\n",
       " 'DescriptionEmb_pca_80',\n",
       " 'DescriptionEmb_pca_81',\n",
       " 'DescriptionEmb_pca_82',\n",
       " 'DescriptionEmb_pca_83',\n",
       " 'DescriptionEmb_pca_84',\n",
       " 'DescriptionEmb_pca_85',\n",
       " 'DescriptionEmb_pca_86',\n",
       " 'DescriptionEmb_pca_87',\n",
       " 'DescriptionEmb_pca_88',\n",
       " 'DescriptionEmb_pca_89',\n",
       " 'DescriptionEmb_pca_90',\n",
       " 'DescriptionEmb_pca_91',\n",
       " 'DescriptionEmb_pca_92',\n",
       " 'DescriptionEmb_pca_93',\n",
       " 'DescriptionEmb_pca_94',\n",
       " 'DescriptionEmb_pca_95',\n",
       " 'DescriptionEmb_pca_96',\n",
       " 'DescriptionEmb_pca_97',\n",
       " 'DescriptionEmb_pca_98',\n",
       " 'DescriptionEmb_pca_99',\n",
       " 'DescriptionEmb_pca_100',\n",
       " 'DescriptionEmb_pca_101',\n",
       " 'DescriptionEmb_pca_102',\n",
       " 'DescriptionEmb_pca_103',\n",
       " 'DescriptionEmb_pca_104',\n",
       " 'DescriptionEmb_pca_105',\n",
       " 'DescriptionEmb_pca_106',\n",
       " 'DescriptionEmb_pca_107',\n",
       " 'DescriptionEmb_pca_108',\n",
       " 'DescriptionEmb_pca_109',\n",
       " 'DescriptionEmb_pca_110',\n",
       " 'DescriptionEmb_pca_111',\n",
       " 'DescriptionEmb_pca_112',\n",
       " 'DescriptionEmb_pca_113',\n",
       " 'DescriptionEmb_pca_114',\n",
       " 'DescriptionEmb_pca_115',\n",
       " 'DescriptionEmb_pca_116',\n",
       " 'DescriptionEmb_pca_117',\n",
       " 'DescriptionEmb_pca_118',\n",
       " 'DescriptionEmb_pca_119',\n",
       " 'DescriptionEmb_pca_120',\n",
       " 'DescriptionEmb_pca_121',\n",
       " 'DescriptionEmb_pca_122',\n",
       " 'DescriptionEmb_pca_123',\n",
       " 'DescriptionEmb_pca_124',\n",
       " 'DescriptionEmb_pca_125',\n",
       " 'DescriptionEmb_pca_126',\n",
       " 'DescriptionEmb_pca_127',\n",
       " 'DescriptionEmb_pca_128',\n",
       " 'DescriptionEmb_pca_129',\n",
       " 'DescriptionEmb_pca_130',\n",
       " 'DescriptionEmb_pca_131',\n",
       " 'DescriptionEmb_pca_132',\n",
       " 'DescriptionEmb_pca_133',\n",
       " 'DescriptionEmb_pca_134',\n",
       " 'DescriptionEmb_pca_135',\n",
       " 'DescriptionEmb_pca_136',\n",
       " 'DescriptionEmb_pca_137',\n",
       " 'DescriptionEmb_pca_138',\n",
       " 'DescriptionEmb_pca_139',\n",
       " 'DescriptionEmb_pca_140',\n",
       " 'DescriptionEmb_pca_141',\n",
       " 'DescriptionEmb_pca_142',\n",
       " 'DescriptionEmb_pca_143',\n",
       " 'DescriptionEmb_pca_144',\n",
       " 'DescriptionEmb_pca_145',\n",
       " 'DescriptionEmb_pca_146',\n",
       " 'DescriptionEmb_pca_147',\n",
       " 'DescriptionEmb_pca_148',\n",
       " 'DescriptionEmb_pca_149',\n",
       " 'DescriptionEmb_pca_150',\n",
       " 'DescriptionEmb_pca_151',\n",
       " 'DescriptionEmb_pca_152',\n",
       " 'DescriptionEmb_pca_153',\n",
       " 'DescriptionEmb_pca_154',\n",
       " 'DescriptionEmb_pca_155',\n",
       " 'DescriptionEmb_pca_156',\n",
       " 'DescriptionEmb_pca_157',\n",
       " 'DescriptionEmb_pca_158',\n",
       " 'DescriptionEmb_pca_159',\n",
       " 'DescriptionEmb_pca_160',\n",
       " 'DescriptionEmb_pca_161',\n",
       " 'DescriptionEmb_pca_162',\n",
       " 'DescriptionEmb_pca_163',\n",
       " 'DescriptionEmb_pca_164',\n",
       " 'DescriptionEmb_pca_165',\n",
       " 'DescriptionEmb_pca_166',\n",
       " 'DescriptionEmb_pca_167',\n",
       " 'DescriptionEmb_pca_168',\n",
       " 'DescriptionEmb_pca_169',\n",
       " 'DescriptionEmb_pca_170',\n",
       " 'DescriptionEmb_pca_171',\n",
       " 'DescriptionEmb_pca_172',\n",
       " 'DescriptionEmb_pca_173',\n",
       " 'DescriptionEmb_pca_174',\n",
       " 'DescriptionEmb_pca_175',\n",
       " 'DescriptionEmb_pca_176',\n",
       " 'DescriptionEmb_pca_177',\n",
       " 'DescriptionEmb_pca_178',\n",
       " 'DescriptionEmb_pca_179',\n",
       " 'DescriptionEmb_pca_180',\n",
       " 'DescriptionEmb_pca_181',\n",
       " 'DescriptionEmb_pca_182',\n",
       " 'DescriptionEmb_pca_183',\n",
       " 'DescriptionEmb_pca_184',\n",
       " 'DescriptionEmb_pca_185',\n",
       " 'DescriptionEmb_pca_186',\n",
       " 'DescriptionEmb_pca_187',\n",
       " 'DescriptionEmb_pca_188',\n",
       " 'DescriptionEmb_pca_189',\n",
       " 'DescriptionEmb_pca_190',\n",
       " 'DescriptionEmb_pca_191',\n",
       " 'DescriptionEmb_pca_192',\n",
       " 'DescriptionEmb_pca_193',\n",
       " 'DescriptionEmb_pca_194',\n",
       " 'DescriptionEmb_pca_195',\n",
       " 'DescriptionEmb_pca_196',\n",
       " 'DescriptionEmb_pca_197',\n",
       " 'DescriptionEmb_pca_198',\n",
       " 'DescriptionEmb_pca_199',\n",
       " 'DescriptionEmb_pca_200',\n",
       " 'DescriptionEmb_pca_201',\n",
       " 'DescriptionEmb_pca_202',\n",
       " 'DescriptionEmb_pca_203',\n",
       " 'DescriptionEmb_pca_204',\n",
       " 'DescriptionEmb_pca_205',\n",
       " 'DescriptionEmb_pca_206',\n",
       " 'DescriptionEmb_pca_207',\n",
       " 'DescriptionEmb_pca_208',\n",
       " 'DescriptionEmb_pca_209',\n",
       " 'DescriptionEmb_pca_210',\n",
       " 'DescriptionEmb_pca_211',\n",
       " 'DescriptionEmb_pca_212',\n",
       " 'DescriptionEmb_pca_213',\n",
       " 'DescriptionEmb_pca_214',\n",
       " 'DescriptionEmb_pca_215',\n",
       " 'DescriptionEmb_pca_216',\n",
       " 'DescriptionEmb_pca_217',\n",
       " 'DescriptionEmb_pca_218',\n",
       " 'DescriptionEmb_pca_219',\n",
       " 'DescriptionEmb_pca_220',\n",
       " 'DescriptionEmb_pca_221',\n",
       " 'DescriptionEmb_pca_222',\n",
       " 'DescriptionEmb_pca_223',\n",
       " 'DescriptionEmb_pca_224',\n",
       " 'DescriptionEmb_pca_225',\n",
       " 'DescriptionEmb_pca_226',\n",
       " 'DescriptionEmb_pca_227',\n",
       " 'DescriptionEmb_pca_228',\n",
       " 'DescriptionEmb_pca_229',\n",
       " 'DescriptionEmb_pca_230',\n",
       " 'DescriptionEmb_pca_231',\n",
       " 'DescriptionEmb_pca_232',\n",
       " 'DescriptionEmb_pca_233',\n",
       " 'DescriptionEmb_pca_234',\n",
       " 'DescriptionEmb_pca_235',\n",
       " 'DescriptionEmb_pca_236',\n",
       " 'DescriptionEmb_pca_237',\n",
       " 'DescriptionEmb_pca_238',\n",
       " 'DescriptionEmb_pca_239',\n",
       " 'DescriptionEmb_pca_240',\n",
       " 'DescriptionEmb_pca_241',\n",
       " 'DescriptionEmb_pca_242',\n",
       " 'DescriptionEmb_pca_243',\n",
       " 'DescriptionEmb_pca_244',\n",
       " 'DescriptionEmb_pca_245',\n",
       " 'DescriptionEmb_pca_246',\n",
       " 'DescriptionEmb_pca_247',\n",
       " 'DescriptionEmb_pca_248',\n",
       " 'DescriptionEmb_pca_249',\n",
       " 'DescriptionEmb_pca_250',\n",
       " 'DescriptionEmb_pca_251',\n",
       " 'DescriptionEmb_pca_252',\n",
       " 'DescriptionEmb_pca_253',\n",
       " 'DescriptionEmb_pca_254',\n",
       " 'DescriptionEmb_pca_255',\n",
       " 'LongTitleEmb_pca_0',\n",
       " 'LongTitleEmb_pca_1',\n",
       " 'LongTitleEmb_pca_2',\n",
       " 'LongTitleEmb_pca_3',\n",
       " 'LongTitleEmb_pca_4',\n",
       " 'LongTitleEmb_pca_5',\n",
       " 'LongTitleEmb_pca_6',\n",
       " 'LongTitleEmb_pca_7',\n",
       " 'LongTitleEmb_pca_8',\n",
       " 'LongTitleEmb_pca_9',\n",
       " 'LongTitleEmb_pca_10',\n",
       " 'LongTitleEmb_pca_11',\n",
       " 'LongTitleEmb_pca_12',\n",
       " 'LongTitleEmb_pca_13',\n",
       " 'LongTitleEmb_pca_14',\n",
       " 'LongTitleEmb_pca_15',\n",
       " 'LongTitleEmb_pca_16',\n",
       " 'LongTitleEmb_pca_17',\n",
       " 'LongTitleEmb_pca_18',\n",
       " 'LongTitleEmb_pca_19',\n",
       " 'LongTitleEmb_pca_20',\n",
       " 'LongTitleEmb_pca_21',\n",
       " 'LongTitleEmb_pca_22',\n",
       " 'LongTitleEmb_pca_23',\n",
       " 'LongTitleEmb_pca_24',\n",
       " 'LongTitleEmb_pca_25',\n",
       " 'LongTitleEmb_pca_26',\n",
       " 'LongTitleEmb_pca_27',\n",
       " 'LongTitleEmb_pca_28',\n",
       " 'LongTitleEmb_pca_29',\n",
       " 'LongTitleEmb_pca_30',\n",
       " 'LongTitleEmb_pca_31',\n",
       " 'LongTitleEmb_pca_32',\n",
       " 'LongTitleEmb_pca_33',\n",
       " 'LongTitleEmb_pca_34',\n",
       " 'LongTitleEmb_pca_35',\n",
       " 'LongTitleEmb_pca_36',\n",
       " 'LongTitleEmb_pca_37',\n",
       " 'LongTitleEmb_pca_38',\n",
       " 'LongTitleEmb_pca_39',\n",
       " 'LongTitleEmb_pca_40',\n",
       " 'LongTitleEmb_pca_41',\n",
       " 'LongTitleEmb_pca_42',\n",
       " 'LongTitleEmb_pca_43',\n",
       " 'LongTitleEmb_pca_44',\n",
       " 'LongTitleEmb_pca_45',\n",
       " 'LongTitleEmb_pca_46',\n",
       " 'LongTitleEmb_pca_47',\n",
       " 'LongTitleEmb_pca_48',\n",
       " 'LongTitleEmb_pca_49',\n",
       " 'LongTitleEmb_pca_50',\n",
       " 'LongTitleEmb_pca_51',\n",
       " 'LongTitleEmb_pca_52',\n",
       " 'LongTitleEmb_pca_53',\n",
       " 'LongTitleEmb_pca_54',\n",
       " 'LongTitleEmb_pca_55',\n",
       " 'LongTitleEmb_pca_56',\n",
       " 'LongTitleEmb_pca_57',\n",
       " 'LongTitleEmb_pca_58',\n",
       " 'LongTitleEmb_pca_59',\n",
       " 'LongTitleEmb_pca_60',\n",
       " 'LongTitleEmb_pca_61',\n",
       " 'LongTitleEmb_pca_62',\n",
       " 'LongTitleEmb_pca_63',\n",
       " 'LongTitleEmb_pca_64',\n",
       " 'LongTitleEmb_pca_65',\n",
       " 'LongTitleEmb_pca_66',\n",
       " 'LongTitleEmb_pca_67',\n",
       " 'LongTitleEmb_pca_68',\n",
       " 'LongTitleEmb_pca_69',\n",
       " 'LongTitleEmb_pca_70',\n",
       " 'LongTitleEmb_pca_71',\n",
       " 'LongTitleEmb_pca_72',\n",
       " 'LongTitleEmb_pca_73',\n",
       " 'LongTitleEmb_pca_74',\n",
       " 'LongTitleEmb_pca_75',\n",
       " 'LongTitleEmb_pca_76',\n",
       " 'LongTitleEmb_pca_77',\n",
       " 'LongTitleEmb_pca_78',\n",
       " 'LongTitleEmb_pca_79',\n",
       " 'LongTitleEmb_pca_80',\n",
       " 'LongTitleEmb_pca_81',\n",
       " 'LongTitleEmb_pca_82',\n",
       " 'LongTitleEmb_pca_83',\n",
       " 'LongTitleEmb_pca_84',\n",
       " 'LongTitleEmb_pca_85',\n",
       " 'LongTitleEmb_pca_86',\n",
       " 'LongTitleEmb_pca_87',\n",
       " 'LongTitleEmb_pca_88',\n",
       " 'LongTitleEmb_pca_89',\n",
       " 'LongTitleEmb_pca_90',\n",
       " 'LongTitleEmb_pca_91',\n",
       " 'LongTitleEmb_pca_92',\n",
       " 'LongTitleEmb_pca_93',\n",
       " 'LongTitleEmb_pca_94',\n",
       " 'LongTitleEmb_pca_95',\n",
       " 'LongTitleEmb_pca_96',\n",
       " 'LongTitleEmb_pca_97',\n",
       " 'LongTitleEmb_pca_98',\n",
       " 'LongTitleEmb_pca_99',\n",
       " 'LongTitleEmb_pca_100',\n",
       " 'LongTitleEmb_pca_101',\n",
       " 'LongTitleEmb_pca_102',\n",
       " 'LongTitleEmb_pca_103',\n",
       " 'LongTitleEmb_pca_104',\n",
       " 'LongTitleEmb_pca_105',\n",
       " 'LongTitleEmb_pca_106',\n",
       " 'LongTitleEmb_pca_107',\n",
       " 'LongTitleEmb_pca_108',\n",
       " 'LongTitleEmb_pca_109',\n",
       " 'LongTitleEmb_pca_110',\n",
       " 'LongTitleEmb_pca_111',\n",
       " 'LongTitleEmb_pca_112',\n",
       " 'LongTitleEmb_pca_113',\n",
       " 'LongTitleEmb_pca_114',\n",
       " 'LongTitleEmb_pca_115',\n",
       " 'LongTitleEmb_pca_116',\n",
       " 'LongTitleEmb_pca_117',\n",
       " 'LongTitleEmb_pca_118',\n",
       " 'LongTitleEmb_pca_119',\n",
       " 'LongTitleEmb_pca_120',\n",
       " 'LongTitleEmb_pca_121',\n",
       " 'LongTitleEmb_pca_122',\n",
       " 'LongTitleEmb_pca_123',\n",
       " 'LongTitleEmb_pca_124',\n",
       " 'LongTitleEmb_pca_125',\n",
       " 'LongTitleEmb_pca_126',\n",
       " 'LongTitleEmb_pca_127',\n",
       " 'LongTitleEmb_pca_128',\n",
       " 'LongTitleEmb_pca_129',\n",
       " 'LongTitleEmb_pca_130',\n",
       " 'LongTitleEmb_pca_131',\n",
       " 'LongTitleEmb_pca_132',\n",
       " 'LongTitleEmb_pca_133',\n",
       " 'LongTitleEmb_pca_134',\n",
       " 'LongTitleEmb_pca_135',\n",
       " 'LongTitleEmb_pca_136',\n",
       " 'LongTitleEmb_pca_137',\n",
       " 'LongTitleEmb_pca_138',\n",
       " 'LongTitleEmb_pca_139',\n",
       " 'LongTitleEmb_pca_140',\n",
       " 'LongTitleEmb_pca_141',\n",
       " 'LongTitleEmb_pca_142',\n",
       " 'LongTitleEmb_pca_143',\n",
       " 'LongTitleEmb_pca_144',\n",
       " 'LongTitleEmb_pca_145',\n",
       " 'LongTitleEmb_pca_146',\n",
       " 'LongTitleEmb_pca_147',\n",
       " 'LongTitleEmb_pca_148',\n",
       " 'LongTitleEmb_pca_149',\n",
       " 'LongTitleEmb_pca_150',\n",
       " 'LongTitleEmb_pca_151',\n",
       " 'LongTitleEmb_pca_152',\n",
       " 'LongTitleEmb_pca_153',\n",
       " 'LongTitleEmb_pca_154',\n",
       " 'LongTitleEmb_pca_155',\n",
       " 'LongTitleEmb_pca_156',\n",
       " 'LongTitleEmb_pca_157',\n",
       " 'LongTitleEmb_pca_158',\n",
       " 'LongTitleEmb_pca_159',\n",
       " 'LongTitleEmb_pca_160',\n",
       " 'LongTitleEmb_pca_161',\n",
       " 'LongTitleEmb_pca_162',\n",
       " 'LongTitleEmb_pca_163',\n",
       " 'LongTitleEmb_pca_164',\n",
       " 'LongTitleEmb_pca_165',\n",
       " 'LongTitleEmb_pca_166',\n",
       " 'LongTitleEmb_pca_167',\n",
       " 'LongTitleEmb_pca_168',\n",
       " 'LongTitleEmb_pca_169',\n",
       " 'LongTitleEmb_pca_170',\n",
       " 'LongTitleEmb_pca_171',\n",
       " 'LongTitleEmb_pca_172',\n",
       " 'LongTitleEmb_pca_173',\n",
       " 'LongTitleEmb_pca_174',\n",
       " 'LongTitleEmb_pca_175',\n",
       " 'LongTitleEmb_pca_176',\n",
       " 'LongTitleEmb_pca_177',\n",
       " 'LongTitleEmb_pca_178',\n",
       " 'LongTitleEmb_pca_179',\n",
       " 'LongTitleEmb_pca_180',\n",
       " 'LongTitleEmb_pca_181',\n",
       " 'LongTitleEmb_pca_182',\n",
       " 'LongTitleEmb_pca_183',\n",
       " 'LongTitleEmb_pca_184',\n",
       " 'LongTitleEmb_pca_185',\n",
       " 'LongTitleEmb_pca_186',\n",
       " 'LongTitleEmb_pca_187',\n",
       " 'LongTitleEmb_pca_188',\n",
       " 'LongTitleEmb_pca_189',\n",
       " 'LongTitleEmb_pca_190',\n",
       " 'LongTitleEmb_pca_191',\n",
       " 'LongTitleEmb_pca_192',\n",
       " 'LongTitleEmb_pca_193',\n",
       " 'LongTitleEmb_pca_194',\n",
       " 'LongTitleEmb_pca_195',\n",
       " 'LongTitleEmb_pca_196',\n",
       " 'LongTitleEmb_pca_197',\n",
       " 'LongTitleEmb_pca_198',\n",
       " 'LongTitleEmb_pca_199',\n",
       " 'LongTitleEmb_pca_200',\n",
       " 'LongTitleEmb_pca_201',\n",
       " 'LongTitleEmb_pca_202',\n",
       " 'LongTitleEmb_pca_203',\n",
       " 'LongTitleEmb_pca_204',\n",
       " 'LongTitleEmb_pca_205',\n",
       " 'LongTitleEmb_pca_206',\n",
       " 'LongTitleEmb_pca_207',\n",
       " 'LongTitleEmb_pca_208',\n",
       " 'LongTitleEmb_pca_209',\n",
       " 'LongTitleEmb_pca_210',\n",
       " 'LongTitleEmb_pca_211',\n",
       " 'LongTitleEmb_pca_212',\n",
       " 'LongTitleEmb_pca_213',\n",
       " 'LongTitleEmb_pca_214',\n",
       " 'LongTitleEmb_pca_215',\n",
       " 'LongTitleEmb_pca_216',\n",
       " 'LongTitleEmb_pca_217',\n",
       " 'LongTitleEmb_pca_218',\n",
       " 'LongTitleEmb_pca_219',\n",
       " 'LongTitleEmb_pca_220',\n",
       " 'LongTitleEmb_pca_221',\n",
       " 'LongTitleEmb_pca_222',\n",
       " 'LongTitleEmb_pca_223',\n",
       " 'LongTitleEmb_pca_224',\n",
       " 'LongTitleEmb_pca_225',\n",
       " 'LongTitleEmb_pca_226',\n",
       " 'LongTitleEmb_pca_227',\n",
       " 'LongTitleEmb_pca_228',\n",
       " 'LongTitleEmb_pca_229',\n",
       " 'LongTitleEmb_pca_230',\n",
       " 'LongTitleEmb_pca_231',\n",
       " 'LongTitleEmb_pca_232',\n",
       " 'LongTitleEmb_pca_233',\n",
       " 'LongTitleEmb_pca_234',\n",
       " 'LongTitleEmb_pca_235',\n",
       " 'LongTitleEmb_pca_236',\n",
       " 'LongTitleEmb_pca_237',\n",
       " 'LongTitleEmb_pca_238',\n",
       " 'LongTitleEmb_pca_239',\n",
       " 'LongTitleEmb_pca_240',\n",
       " 'LongTitleEmb_pca_241',\n",
       " 'LongTitleEmb_pca_242',\n",
       " 'LongTitleEmb_pca_243',\n",
       " 'LongTitleEmb_pca_244',\n",
       " 'LongTitleEmb_pca_245',\n",
       " 'LongTitleEmb_pca_246',\n",
       " 'LongTitleEmb_pca_247',\n",
       " 'LongTitleEmb_pca_248',\n",
       " 'LongTitleEmb_pca_249',\n",
       " 'LongTitleEmb_pca_250',\n",
       " 'LongTitleEmb_pca_251',\n",
       " 'LongTitleEmb_pca_252',\n",
       " 'LongTitleEmb_pca_253',\n",
       " 'LongTitleEmb_pca_254',\n",
       " 'LongTitleEmb_pca_255',\n",
       " 'principal_maker_target_enc',\n",
       " 'principal_or_first_maker_target_enc',\n",
       " 'copyright_holder_target_enc',\n",
       " 'acquisition_method_target_enc',\n",
       " 'dating_period_target_enc']"
      ]
     },
     "execution_count": 41,
     "metadata": {},
     "output_type": "execute_result"
    }
   ],
   "source": [
    "use_col"
   ]
  },
  {
   "cell_type": "code",
   "execution_count": 42,
   "metadata": {},
   "outputs": [
    {
     "name": "stderr",
     "output_type": "stream",
     "text": [
      "\u001b[34m\u001b[1mwandb\u001b[0m: Currently logged in as: \u001b[33msinchir0\u001b[0m (use `wandb login --relogin` to force relogin)\n"
     ]
    },
    {
     "data": {
      "text/html": [
       "\n",
       "                Tracking run with wandb version 0.10.21<br/>\n",
       "                Syncing run <strong style=\"color:#cdcd00\">17_lgbtuner</strong> to <a href=\"https://wandb.ai\" target=\"_blank\">Weights & Biases</a> <a href=\"https://docs.wandb.com/integrations/jupyter.html\" target=\"_blank\">(Documentation)</a>.<br/>\n",
       "                Project page: <a href=\"https://wandb.ai/sinchir0/atmacup10\" target=\"_blank\">https://wandb.ai/sinchir0/atmacup10</a><br/>\n",
       "                Run page: <a href=\"https://wandb.ai/sinchir0/atmacup10/runs/1arxc24h\" target=\"_blank\">https://wandb.ai/sinchir0/atmacup10/runs/1arxc24h</a><br/>\n",
       "                Run data is saved locally in <code>/Users/shinichiro.saito/atmacup/my_pipeline/experiments/notebook/wandb/run-20210308_014105-1arxc24h</code><br/><br/>\n",
       "            "
      ],
      "text/plain": [
       "<IPython.core.display.HTML object>"
      ]
     },
     "metadata": {},
     "output_type": "display_data"
    }
   ],
   "source": [
    "# 学習直前でwandbにログイン、こうしないと頻繁にnotebookが落ちる\n",
    "from use_wandb import use_wandb\n",
    "use_wandb(params=cfg['params'], PROJECT_NAME=cfg['competition_name'], TRIAL_NAME=TRIAL_NAME)"
   ]
  },
  {
   "cell_type": "code",
   "execution_count": 45,
   "metadata": {},
   "outputs": [
    {
     "name": "stderr",
     "output_type": "stream",
     "text": [
      "\u001b[32m[I 2021-03-08 01:42:00,909]\u001b[0m A new study created in memory with name: no-name-8687480d-afaa-4b46-b09d-8410a0432000\u001b[0m\n",
      "feature_fraction, val_score: inf:   0%|          | 0/7 [00:00<?, ?it/s]"
     ]
    },
    {
     "name": "stdout",
     "output_type": "stream",
     "text": [
      "--------------FOLDS : 0 --------------\n",
      "[LightGBM] [Warning] min_data_in_leaf is set=10, min_child_samples=20 will be ignored. Current value: min_data_in_leaf=10\n"
     ]
    },
    {
     "name": "stderr",
     "output_type": "stream",
     "text": [
      "/Users/shinichiro.saito/opt/anaconda3/lib/python3.8/site-packages/lightgbm/engine.py:151: UserWarning: Found `num_boost_round` in params. Will use it instead of argument\n",
      "  warnings.warn(\"Found `{}` in params. Will use it instead of argument\".format(alias))\n",
      "/Users/shinichiro.saito/opt/anaconda3/lib/python3.8/site-packages/lightgbm/engine.py:156: UserWarning: Found `early_stopping_rounds` in params. Will use it instead of argument\n",
      "  warnings.warn(\"Found `{}` in params. Will use it instead of argument\".format(alias))\n",
      "/Users/shinichiro.saito/opt/anaconda3/lib/python3.8/site-packages/lightgbm/basic.py:1554: UserWarning: categorical_feature in Dataset is overridden.\n",
      "New categorical_feature is ['acquisition_method', 'art_series_id', 'copyright_holder', 'principal_maker', 'principal_or_first_maker']\n",
      "  warnings.warn('categorical_feature in Dataset is overridden.\\n'\n",
      "/Users/shinichiro.saito/opt/anaconda3/lib/python3.8/site-packages/lightgbm/basic.py:1286: UserWarning: Overriding the parameters from Reference Dataset.\n",
      "  warnings.warn('Overriding the parameters from Reference Dataset.')\n",
      "/Users/shinichiro.saito/opt/anaconda3/lib/python3.8/site-packages/lightgbm/basic.py:1098: UserWarning: categorical_column in param dict is overridden.\n",
      "  warnings.warn('{} in param dict is overridden.'.format(cat_alias))\n"
     ]
    },
    {
     "name": "stdout",
     "output_type": "stream",
     "text": [
      "Training until validation scores don't improve for 100 rounds\n",
      "[100]\tvalid_0's rmse: 1.18984\tvalid_1's rmse: 1.22762\n",
      "[200]\tvalid_0's rmse: 1.02875\tvalid_1's rmse: 1.10893\n",
      "[300]\tvalid_0's rmse: 0.958835\tvalid_1's rmse: 1.07844\n",
      "[400]\tvalid_0's rmse: 0.908053\tvalid_1's rmse: 1.06525\n",
      "[500]\tvalid_0's rmse: 0.865625\tvalid_1's rmse: 1.0564\n",
      "[600]\tvalid_0's rmse: 0.827866\tvalid_1's rmse: 1.05067\n",
      "[700]\tvalid_0's rmse: 0.794112\tvalid_1's rmse: 1.04621\n",
      "[800]\tvalid_0's rmse: 0.76341\tvalid_1's rmse: 1.04216\n",
      "[900]\tvalid_0's rmse: 0.735002\tvalid_1's rmse: 1.03932\n",
      "[1000]\tvalid_0's rmse: 0.708675\tvalid_1's rmse: 1.03714\n",
      "[1100]\tvalid_0's rmse: 0.684396\tvalid_1's rmse: 1.03523\n",
      "[1200]\tvalid_0's rmse: 0.661392\tvalid_1's rmse: 1.03339\n",
      "[1300]\tvalid_0's rmse: 0.639933\tvalid_1's rmse: 1.03214\n",
      "[1400]\tvalid_0's rmse: 0.619939\tvalid_1's rmse: 1.03106\n",
      "[1500]\tvalid_0's rmse: 0.600763\tvalid_1's rmse: 1.02938\n",
      "[1600]\tvalid_0's rmse: 0.582715\tvalid_1's rmse: 1.02795\n",
      "[1700]\tvalid_0's rmse: 0.565574\tvalid_1's rmse: 1.02693\n",
      "[1800]\tvalid_0's rmse: 0.549163\tvalid_1's rmse: 1.02631\n",
      "[1900]\tvalid_0's rmse: 0.533498\tvalid_1's rmse: 1.02543\n",
      "[2000]\tvalid_0's rmse: 0.518483\tvalid_1's rmse: 1.02458\n",
      "[2100]\tvalid_0's rmse: 0.504306\tvalid_1's rmse: 1.02369\n",
      "[2200]\tvalid_0's rmse: 0.490853\tvalid_1's rmse: 1.02315\n",
      "[2300]\tvalid_0's rmse: 0.477901\tvalid_1's rmse: 1.02264\n",
      "[2400]\tvalid_0's rmse: 0.465669\tvalid_1's rmse: 1.02225\n",
      "[2500]\tvalid_0's rmse: 0.453825\tvalid_1's rmse: 1.02164\n",
      "[2600]\tvalid_0's rmse: 0.442359\tvalid_1's rmse: 1.0209\n",
      "[2700]\tvalid_0's rmse: 0.431381\tvalid_1's rmse: 1.0204\n",
      "[2800]\tvalid_0's rmse: 0.4207\tvalid_1's rmse: 1.02035\n",
      "[2900]\tvalid_0's rmse: 0.410454\tvalid_1's rmse: 1.01999\n",
      "[3000]\tvalid_0's rmse: 0.400633\tvalid_1's rmse: 1.01983\n",
      "[3100]\tvalid_0's rmse: 0.391168\tvalid_1's rmse: 1.01942\n",
      "[3200]\tvalid_0's rmse: 0.382125\tvalid_1's rmse: 1.01921\n",
      "Early stopping, best iteration is:\n",
      "[3135]\tvalid_0's rmse: 0.387846\tvalid_1's rmse: 1.01916\n"
     ]
    },
    {
     "name": "stderr",
     "output_type": "stream",
     "text": [
      "feature_fraction, val_score: 1.019160:  14%|#4        | 1/7 [01:09<06:59, 69.98s/it]\u001b[32m[I 2021-03-08 01:43:10,895]\u001b[0m Trial 0 finished with value: 1.0191598081186368 and parameters: {'feature_fraction': 0.8}. Best is trial 0 with value: 1.0191598081186368.\u001b[0m\n",
      "feature_fraction, val_score: 1.019160:  14%|#4        | 1/7 [01:09<06:59, 69.98s/it]"
     ]
    },
    {
     "name": "stdout",
     "output_type": "stream",
     "text": [
      "Training until validation scores don't improve for 100 rounds\n",
      "[100]\tvalid_0's rmse: 1.19629\tvalid_1's rmse: 1.23134\n",
      "[200]\tvalid_0's rmse: 1.03616\tvalid_1's rmse: 1.11242\n",
      "[300]\tvalid_0's rmse: 0.966455\tvalid_1's rmse: 1.08069\n",
      "[400]\tvalid_0's rmse: 0.917228\tvalid_1's rmse: 1.06673\n",
      "[500]\tvalid_0's rmse: 0.876314\tvalid_1's rmse: 1.05859\n",
      "[600]\tvalid_0's rmse: 0.839601\tvalid_1's rmse: 1.05172\n",
      "[700]\tvalid_0's rmse: 0.806579\tvalid_1's rmse: 1.0469\n",
      "[800]\tvalid_0's rmse: 0.776701\tvalid_1's rmse: 1.04262\n",
      "[900]\tvalid_0's rmse: 0.748651\tvalid_1's rmse: 1.03818\n",
      "[1000]\tvalid_0's rmse: 0.722595\tvalid_1's rmse: 1.03547\n",
      "[1100]\tvalid_0's rmse: 0.698329\tvalid_1's rmse: 1.03346\n",
      "[1200]\tvalid_0's rmse: 0.675619\tvalid_1's rmse: 1.03141\n",
      "[1300]\tvalid_0's rmse: 0.654482\tvalid_1's rmse: 1.02933\n",
      "[1400]\tvalid_0's rmse: 0.634457\tvalid_1's rmse: 1.02787\n",
      "[1500]\tvalid_0's rmse: 0.615366\tvalid_1's rmse: 1.02671\n",
      "[1600]\tvalid_0's rmse: 0.597134\tvalid_1's rmse: 1.02539\n",
      "[1700]\tvalid_0's rmse: 0.579718\tvalid_1's rmse: 1.02494\n",
      "[1800]\tvalid_0's rmse: 0.563302\tvalid_1's rmse: 1.02442\n",
      "[1900]\tvalid_0's rmse: 0.54796\tvalid_1's rmse: 1.02347\n",
      "[2000]\tvalid_0's rmse: 0.533075\tvalid_1's rmse: 1.02277\n",
      "[2100]\tvalid_0's rmse: 0.519014\tvalid_1's rmse: 1.02151\n",
      "[2200]\tvalid_0's rmse: 0.505496\tvalid_1's rmse: 1.02098\n",
      "[2300]\tvalid_0's rmse: 0.492459\tvalid_1's rmse: 1.02063\n",
      "[2400]\tvalid_0's rmse: 0.479962\tvalid_1's rmse: 1.02007\n",
      "[2500]\tvalid_0's rmse: 0.467816\tvalid_1's rmse: 1.01917\n",
      "[2600]\tvalid_0's rmse: 0.456138\tvalid_1's rmse: 1.01911\n",
      "[2700]\tvalid_0's rmse: 0.444822\tvalid_1's rmse: 1.0188\n",
      "[2800]\tvalid_0's rmse: 0.434392\tvalid_1's rmse: 1.01817\n",
      "[2900]\tvalid_0's rmse: 0.424195\tvalid_1's rmse: 1.01757\n",
      "[3000]\tvalid_0's rmse: 0.414547\tvalid_1's rmse: 1.01733\n",
      "[3100]\tvalid_0's rmse: 0.405181\tvalid_1's rmse: 1.01702\n",
      "[3200]\tvalid_0's rmse: 0.396125\tvalid_1's rmse: 1.01684\n",
      "[3300]\tvalid_0's rmse: 0.387197\tvalid_1's rmse: 1.01636\n",
      "[3400]\tvalid_0's rmse: 0.378731\tvalid_1's rmse: 1.01634\n",
      "Early stopping, best iteration is:\n",
      "[3314]\tvalid_0's rmse: 0.386032\tvalid_1's rmse: 1.01621\n"
     ]
    },
    {
     "name": "stderr",
     "output_type": "stream",
     "text": [
      "feature_fraction, val_score: 1.016208:  29%|##8       | 2/7 [01:54<05:11, 62.34s/it]\u001b[32m[I 2021-03-08 01:43:55,401]\u001b[0m Trial 1 finished with value: 1.0162084333981602 and parameters: {'feature_fraction': 0.5}. Best is trial 1 with value: 1.0162084333981602.\u001b[0m\n",
      "feature_fraction, val_score: 1.016208:  29%|##8       | 2/7 [01:54<05:11, 62.34s/it]"
     ]
    },
    {
     "name": "stdout",
     "output_type": "stream",
     "text": [
      "Training until validation scores don't improve for 100 rounds\n",
      "[100]\tvalid_0's rmse: 1.19324\tvalid_1's rmse: 1.22788\n",
      "[200]\tvalid_0's rmse: 1.03302\tvalid_1's rmse: 1.10899\n",
      "[300]\tvalid_0's rmse: 0.963276\tvalid_1's rmse: 1.07931\n",
      "[400]\tvalid_0's rmse: 0.913661\tvalid_1's rmse: 1.06594\n",
      "[500]\tvalid_0's rmse: 0.872165\tvalid_1's rmse: 1.05803\n",
      "[600]\tvalid_0's rmse: 0.834877\tvalid_1's rmse: 1.05194\n",
      "[700]\tvalid_0's rmse: 0.801676\tvalid_1's rmse: 1.04714\n",
      "[800]\tvalid_0's rmse: 0.771665\tvalid_1's rmse: 1.043\n",
      "[900]\tvalid_0's rmse: 0.743663\tvalid_1's rmse: 1.03978\n",
      "[1000]\tvalid_0's rmse: 0.717347\tvalid_1's rmse: 1.03748\n",
      "[1100]\tvalid_0's rmse: 0.692875\tvalid_1's rmse: 1.03515\n",
      "[1200]\tvalid_0's rmse: 0.670262\tvalid_1's rmse: 1.03333\n",
      "[1300]\tvalid_0's rmse: 0.648941\tvalid_1's rmse: 1.03173\n",
      "[1400]\tvalid_0's rmse: 0.628783\tvalid_1's rmse: 1.03063\n",
      "[1500]\tvalid_0's rmse: 0.60974\tvalid_1's rmse: 1.02925\n",
      "[1600]\tvalid_0's rmse: 0.591442\tvalid_1's rmse: 1.02838\n",
      "[1700]\tvalid_0's rmse: 0.574249\tvalid_1's rmse: 1.02698\n",
      "[1800]\tvalid_0's rmse: 0.557909\tvalid_1's rmse: 1.02618\n",
      "[1900]\tvalid_0's rmse: 0.54232\tvalid_1's rmse: 1.02473\n",
      "[2000]\tvalid_0's rmse: 0.527513\tvalid_1's rmse: 1.0236\n",
      "[2100]\tvalid_0's rmse: 0.513371\tvalid_1's rmse: 1.02312\n",
      "[2200]\tvalid_0's rmse: 0.499666\tvalid_1's rmse: 1.02253\n",
      "[2300]\tvalid_0's rmse: 0.486735\tvalid_1's rmse: 1.02195\n",
      "[2400]\tvalid_0's rmse: 0.474481\tvalid_1's rmse: 1.02176\n",
      "[2500]\tvalid_0's rmse: 0.462502\tvalid_1's rmse: 1.02135\n",
      "[2600]\tvalid_0's rmse: 0.451029\tvalid_1's rmse: 1.02071\n",
      "[2700]\tvalid_0's rmse: 0.439943\tvalid_1's rmse: 1.02004\n",
      "[2800]\tvalid_0's rmse: 0.42934\tvalid_1's rmse: 1.02006\n",
      "Early stopping, best iteration is:\n",
      "[2753]\tvalid_0's rmse: 0.434239\tvalid_1's rmse: 1.01983\n"
     ]
    },
    {
     "name": "stderr",
     "output_type": "stream",
     "text": [
      "feature_fraction, val_score: 1.016208:  43%|####2     | 3/7 [02:38<03:47, 56.90s/it]\u001b[32m[I 2021-03-08 01:44:39,609]\u001b[0m Trial 2 finished with value: 1.0198261893887164 and parameters: {'feature_fraction': 0.6}. Best is trial 1 with value: 1.0162084333981602.\u001b[0m\n",
      "feature_fraction, val_score: 1.016208:  43%|####2     | 3/7 [02:38<03:47, 56.90s/it]"
     ]
    },
    {
     "name": "stdout",
     "output_type": "stream",
     "text": [
      "Training until validation scores don't improve for 100 rounds\n",
      "[100]\tvalid_0's rmse: 1.18872\tvalid_1's rmse: 1.22683\n",
      "[200]\tvalid_0's rmse: 1.02732\tvalid_1's rmse: 1.10831\n",
      "[300]\tvalid_0's rmse: 0.956848\tvalid_1's rmse: 1.07944\n",
      "[400]\tvalid_0's rmse: 0.90612\tvalid_1's rmse: 1.06513\n",
      "[500]\tvalid_0's rmse: 0.863362\tvalid_1's rmse: 1.05674\n",
      "[600]\tvalid_0's rmse: 0.825468\tvalid_1's rmse: 1.05057\n",
      "[700]\tvalid_0's rmse: 0.791812\tvalid_1's rmse: 1.04598\n",
      "[800]\tvalid_0's rmse: 0.760758\tvalid_1's rmse: 1.04161\n",
      "[900]\tvalid_0's rmse: 0.732188\tvalid_1's rmse: 1.03868\n",
      "[1000]\tvalid_0's rmse: 0.705944\tvalid_1's rmse: 1.03634\n",
      "[1100]\tvalid_0's rmse: 0.681343\tvalid_1's rmse: 1.03445\n",
      "[1200]\tvalid_0's rmse: 0.658266\tvalid_1's rmse: 1.03274\n",
      "[1300]\tvalid_0's rmse: 0.636361\tvalid_1's rmse: 1.03103\n",
      "[1400]\tvalid_0's rmse: 0.616188\tvalid_1's rmse: 1.02946\n",
      "[1500]\tvalid_0's rmse: 0.597083\tvalid_1's rmse: 1.02811\n",
      "[1600]\tvalid_0's rmse: 0.578849\tvalid_1's rmse: 1.02669\n",
      "[1700]\tvalid_0's rmse: 0.561637\tvalid_1's rmse: 1.02583\n",
      "[1800]\tvalid_0's rmse: 0.545308\tvalid_1's rmse: 1.0248\n",
      "[1900]\tvalid_0's rmse: 0.529565\tvalid_1's rmse: 1.02373\n",
      "[2000]\tvalid_0's rmse: 0.514724\tvalid_1's rmse: 1.02318\n",
      "[2100]\tvalid_0's rmse: 0.500679\tvalid_1's rmse: 1.02275\n",
      "[2200]\tvalid_0's rmse: 0.487037\tvalid_1's rmse: 1.02231\n",
      "[2300]\tvalid_0's rmse: 0.474077\tvalid_1's rmse: 1.02186\n",
      "[2400]\tvalid_0's rmse: 0.461711\tvalid_1's rmse: 1.02095\n",
      "[2500]\tvalid_0's rmse: 0.449677\tvalid_1's rmse: 1.0205\n",
      "[2600]\tvalid_0's rmse: 0.438232\tvalid_1's rmse: 1.02037\n",
      "[2700]\tvalid_0's rmse: 0.427434\tvalid_1's rmse: 1.0198\n",
      "[2800]\tvalid_0's rmse: 0.416903\tvalid_1's rmse: 1.01939\n",
      "[2900]\tvalid_0's rmse: 0.40693\tvalid_1's rmse: 1.01902\n",
      "[3000]\tvalid_0's rmse: 0.397119\tvalid_1's rmse: 1.01873\n",
      "[3100]\tvalid_0's rmse: 0.387785\tvalid_1's rmse: 1.01859\n",
      "[3200]\tvalid_0's rmse: 0.378711\tvalid_1's rmse: 1.01829\n",
      "Early stopping, best iteration is:\n",
      "[3160]\tvalid_0's rmse: 0.38222\tvalid_1's rmse: 1.01824\n"
     ]
    },
    {
     "name": "stderr",
     "output_type": "stream",
     "text": [
      "feature_fraction, val_score: 1.016208:  57%|#####7    | 4/7 [03:47<03:01, 60.60s/it]\u001b[32m[I 2021-03-08 01:45:48,858]\u001b[0m Trial 3 finished with value: 1.0182409567707358 and parameters: {'feature_fraction': 0.8999999999999999}. Best is trial 1 with value: 1.0162084333981602.\u001b[0m\n",
      "feature_fraction, val_score: 1.016208:  57%|#####7    | 4/7 [03:47<03:01, 60.60s/it]"
     ]
    },
    {
     "name": "stdout",
     "output_type": "stream",
     "text": [
      "Training until validation scores don't improve for 100 rounds\n",
      "[100]\tvalid_0's rmse: 1.19134\tvalid_1's rmse: 1.2271\n",
      "[200]\tvalid_0's rmse: 1.03088\tvalid_1's rmse: 1.10857\n",
      "[300]\tvalid_0's rmse: 0.960923\tvalid_1's rmse: 1.0793\n",
      "[400]\tvalid_0's rmse: 0.910929\tvalid_1's rmse: 1.06576\n",
      "[500]\tvalid_0's rmse: 0.868776\tvalid_1's rmse: 1.05782\n",
      "[600]\tvalid_0's rmse: 0.831571\tvalid_1's rmse: 1.05178\n",
      "[700]\tvalid_0's rmse: 0.798071\tvalid_1's rmse: 1.04623\n",
      "[800]\tvalid_0's rmse: 0.767438\tvalid_1's rmse: 1.04192\n",
      "[900]\tvalid_0's rmse: 0.739366\tvalid_1's rmse: 1.03853\n",
      "[1000]\tvalid_0's rmse: 0.713217\tvalid_1's rmse: 1.03606\n",
      "[1100]\tvalid_0's rmse: 0.688749\tvalid_1's rmse: 1.03379\n",
      "[1200]\tvalid_0's rmse: 0.666215\tvalid_1's rmse: 1.03165\n",
      "[1300]\tvalid_0's rmse: 0.644627\tvalid_1's rmse: 1.03005\n",
      "[1400]\tvalid_0's rmse: 0.624286\tvalid_1's rmse: 1.02866\n",
      "[1500]\tvalid_0's rmse: 0.605127\tvalid_1's rmse: 1.02726\n",
      "[1600]\tvalid_0's rmse: 0.586997\tvalid_1's rmse: 1.02658\n",
      "[1700]\tvalid_0's rmse: 0.569766\tvalid_1's rmse: 1.02543\n",
      "[1800]\tvalid_0's rmse: 0.553521\tvalid_1's rmse: 1.02432\n",
      "[1900]\tvalid_0's rmse: 0.537839\tvalid_1's rmse: 1.02345\n",
      "[2000]\tvalid_0's rmse: 0.522621\tvalid_1's rmse: 1.02246\n",
      "[2100]\tvalid_0's rmse: 0.508497\tvalid_1's rmse: 1.02176\n",
      "[2200]\tvalid_0's rmse: 0.494943\tvalid_1's rmse: 1.02078\n",
      "[2300]\tvalid_0's rmse: 0.482184\tvalid_1's rmse: 1.02041\n",
      "[2400]\tvalid_0's rmse: 0.469836\tvalid_1's rmse: 1.01952\n",
      "[2500]\tvalid_0's rmse: 0.458072\tvalid_1's rmse: 1.01912\n",
      "[2600]\tvalid_0's rmse: 0.446523\tvalid_1's rmse: 1.01892\n",
      "[2700]\tvalid_0's rmse: 0.435669\tvalid_1's rmse: 1.01842\n",
      "[2800]\tvalid_0's rmse: 0.425083\tvalid_1's rmse: 1.01817\n",
      "[2900]\tvalid_0's rmse: 0.414899\tvalid_1's rmse: 1.01785\n",
      "[3000]\tvalid_0's rmse: 0.405095\tvalid_1's rmse: 1.01761\n",
      "[3100]\tvalid_0's rmse: 0.395713\tvalid_1's rmse: 1.01754\n",
      "[3200]\tvalid_0's rmse: 0.386859\tvalid_1's rmse: 1.01736\n",
      "[3300]\tvalid_0's rmse: 0.378237\tvalid_1's rmse: 1.01715\n",
      "[3400]\tvalid_0's rmse: 0.369778\tvalid_1's rmse: 1.01697\n",
      "[3500]\tvalid_0's rmse: 0.361598\tvalid_1's rmse: 1.01681\n",
      "[3600]\tvalid_0's rmse: 0.353586\tvalid_1's rmse: 1.01656\n",
      "[3700]\tvalid_0's rmse: 0.346259\tvalid_1's rmse: 1.01651\n",
      "Early stopping, best iteration is:\n",
      "[3639]\tvalid_0's rmse: 0.350638\tvalid_1's rmse: 1.0164\n"
     ]
    },
    {
     "name": "stderr",
     "output_type": "stream",
     "text": [
      "feature_fraction, val_score: 1.016208:  71%|#######1  | 5/7 [04:53<02:04, 62.24s/it]\u001b[32m[I 2021-03-08 01:46:54,917]\u001b[0m Trial 4 finished with value: 1.0163998873368003 and parameters: {'feature_fraction': 0.7}. Best is trial 1 with value: 1.0162084333981602.\u001b[0m\n",
      "feature_fraction, val_score: 1.016208:  71%|#######1  | 5/7 [04:54<02:04, 62.24s/it]"
     ]
    },
    {
     "name": "stdout",
     "output_type": "stream",
     "text": [
      "Training until validation scores don't improve for 100 rounds\n",
      "[100]\tvalid_0's rmse: 1.20291\tvalid_1's rmse: 1.23576\n",
      "[200]\tvalid_0's rmse: 1.04145\tvalid_1's rmse: 1.11416\n",
      "[300]\tvalid_0's rmse: 0.9712\tvalid_1's rmse: 1.08242\n",
      "[400]\tvalid_0's rmse: 0.922448\tvalid_1's rmse: 1.06839\n",
      "[500]\tvalid_0's rmse: 0.88155\tvalid_1's rmse: 1.06006\n",
      "[600]\tvalid_0's rmse: 0.845611\tvalid_1's rmse: 1.05401\n",
      "[700]\tvalid_0's rmse: 0.812825\tvalid_1's rmse: 1.04814\n",
      "[800]\tvalid_0's rmse: 0.782846\tvalid_1's rmse: 1.0437\n",
      "[900]\tvalid_0's rmse: 0.755229\tvalid_1's rmse: 1.03998\n",
      "[1000]\tvalid_0's rmse: 0.729405\tvalid_1's rmse: 1.03685\n",
      "[1100]\tvalid_0's rmse: 0.704894\tvalid_1's rmse: 1.03453\n",
      "[1200]\tvalid_0's rmse: 0.682578\tvalid_1's rmse: 1.0335\n",
      "[1300]\tvalid_0's rmse: 0.661526\tvalid_1's rmse: 1.03173\n",
      "[1400]\tvalid_0's rmse: 0.641384\tvalid_1's rmse: 1.03077\n",
      "[1500]\tvalid_0's rmse: 0.622503\tvalid_1's rmse: 1.02971\n",
      "[1600]\tvalid_0's rmse: 0.604222\tvalid_1's rmse: 1.02854\n",
      "[1700]\tvalid_0's rmse: 0.586974\tvalid_1's rmse: 1.02757\n",
      "[1800]\tvalid_0's rmse: 0.570897\tvalid_1's rmse: 1.02636\n",
      "[1900]\tvalid_0's rmse: 0.555356\tvalid_1's rmse: 1.02547\n",
      "[2000]\tvalid_0's rmse: 0.540565\tvalid_1's rmse: 1.02456\n",
      "[2100]\tvalid_0's rmse: 0.52666\tvalid_1's rmse: 1.02377\n",
      "[2200]\tvalid_0's rmse: 0.513176\tvalid_1's rmse: 1.02339\n",
      "[2300]\tvalid_0's rmse: 0.500124\tvalid_1's rmse: 1.02299\n",
      "[2400]\tvalid_0's rmse: 0.487906\tvalid_1's rmse: 1.02231\n",
      "[2500]\tvalid_0's rmse: 0.475814\tvalid_1's rmse: 1.0219\n",
      "[2600]\tvalid_0's rmse: 0.464303\tvalid_1's rmse: 1.02178\n",
      "[2700]\tvalid_0's rmse: 0.453102\tvalid_1's rmse: 1.02121\n",
      "[2800]\tvalid_0's rmse: 0.442303\tvalid_1's rmse: 1.02044\n",
      "[2900]\tvalid_0's rmse: 0.432051\tvalid_1's rmse: 1.01983\n",
      "[3000]\tvalid_0's rmse: 0.422353\tvalid_1's rmse: 1.01921\n",
      "[3100]\tvalid_0's rmse: 0.412853\tvalid_1's rmse: 1.01908\n",
      "[3200]\tvalid_0's rmse: 0.403878\tvalid_1's rmse: 1.01887\n",
      "[3300]\tvalid_0's rmse: 0.394991\tvalid_1's rmse: 1.01849\n",
      "[3400]\tvalid_0's rmse: 0.386476\tvalid_1's rmse: 1.01827\n",
      "[3500]\tvalid_0's rmse: 0.378049\tvalid_1's rmse: 1.01798\n",
      "[3600]\tvalid_0's rmse: 0.37003\tvalid_1's rmse: 1.01793\n",
      "[3700]\tvalid_0's rmse: 0.362329\tvalid_1's rmse: 1.01777\n",
      "[3800]\tvalid_0's rmse: 0.354817\tvalid_1's rmse: 1.0174\n",
      "[3900]\tvalid_0's rmse: 0.347515\tvalid_1's rmse: 1.01728\n",
      "[4000]\tvalid_0's rmse: 0.340603\tvalid_1's rmse: 1.01708\n",
      "[4100]\tvalid_0's rmse: 0.334071\tvalid_1's rmse: 1.01678\n",
      "[4200]\tvalid_0's rmse: 0.327595\tvalid_1's rmse: 1.01648\n",
      "[4300]\tvalid_0's rmse: 0.321428\tvalid_1's rmse: 1.01623\n",
      "[4400]\tvalid_0's rmse: 0.315342\tvalid_1's rmse: 1.01618\n",
      "[4500]\tvalid_0's rmse: 0.309351\tvalid_1's rmse: 1.01604\n",
      "Early stopping, best iteration is:\n",
      "[4491]\tvalid_0's rmse: 0.309887\tvalid_1's rmse: 1.016\n"
     ]
    },
    {
     "name": "stderr",
     "output_type": "stream",
     "text": [
      "feature_fraction, val_score: 1.015997:  86%|########5 | 6/7 [05:47<00:59, 59.63s/it]\u001b[32m[I 2021-03-08 01:47:48,466]\u001b[0m Trial 5 finished with value: 1.0159971792288491 and parameters: {'feature_fraction': 0.4}. Best is trial 5 with value: 1.0159971792288491.\u001b[0m\n",
      "feature_fraction, val_score: 1.015997:  86%|########5 | 6/7 [05:47<00:59, 59.63s/it]"
     ]
    },
    {
     "name": "stdout",
     "output_type": "stream",
     "text": [
      "Training until validation scores don't improve for 100 rounds\n",
      "[100]\tvalid_0's rmse: 1.18805\tvalid_1's rmse: 1.22587\n",
      "[200]\tvalid_0's rmse: 1.02622\tvalid_1's rmse: 1.1082\n",
      "[300]\tvalid_0's rmse: 0.955469\tvalid_1's rmse: 1.07812\n",
      "[400]\tvalid_0's rmse: 0.904241\tvalid_1's rmse: 1.06506\n",
      "[500]\tvalid_0's rmse: 0.861222\tvalid_1's rmse: 1.0567\n",
      "[600]\tvalid_0's rmse: 0.823299\tvalid_1's rmse: 1.05083\n",
      "[700]\tvalid_0's rmse: 0.789218\tvalid_1's rmse: 1.04511\n",
      "[800]\tvalid_0's rmse: 0.758533\tvalid_1's rmse: 1.04131\n",
      "[900]\tvalid_0's rmse: 0.72966\tvalid_1's rmse: 1.0382\n",
      "[1000]\tvalid_0's rmse: 0.702986\tvalid_1's rmse: 1.03566\n",
      "[1100]\tvalid_0's rmse: 0.678297\tvalid_1's rmse: 1.03352\n",
      "[1200]\tvalid_0's rmse: 0.655335\tvalid_1's rmse: 1.03191\n",
      "[1300]\tvalid_0's rmse: 0.633722\tvalid_1's rmse: 1.03067\n",
      "[1400]\tvalid_0's rmse: 0.613307\tvalid_1's rmse: 1.02911\n",
      "[1500]\tvalid_0's rmse: 0.594003\tvalid_1's rmse: 1.02788\n",
      "[1600]\tvalid_0's rmse: 0.575786\tvalid_1's rmse: 1.02609\n",
      "[1700]\tvalid_0's rmse: 0.55847\tvalid_1's rmse: 1.02524\n",
      "[1800]\tvalid_0's rmse: 0.542258\tvalid_1's rmse: 1.02443\n",
      "[1900]\tvalid_0's rmse: 0.526751\tvalid_1's rmse: 1.02334\n",
      "[2000]\tvalid_0's rmse: 0.511897\tvalid_1's rmse: 1.02255\n",
      "[2100]\tvalid_0's rmse: 0.497681\tvalid_1's rmse: 1.02206\n",
      "[2200]\tvalid_0's rmse: 0.483995\tvalid_1's rmse: 1.02159\n",
      "[2300]\tvalid_0's rmse: 0.470976\tvalid_1's rmse: 1.02102\n",
      "[2400]\tvalid_0's rmse: 0.45867\tvalid_1's rmse: 1.02082\n",
      "[2500]\tvalid_0's rmse: 0.44672\tvalid_1's rmse: 1.0201\n",
      "[2600]\tvalid_0's rmse: 0.435401\tvalid_1's rmse: 1.01981\n",
      "[2700]\tvalid_0's rmse: 0.424488\tvalid_1's rmse: 1.01911\n",
      "[2800]\tvalid_0's rmse: 0.413824\tvalid_1's rmse: 1.0187\n",
      "[2900]\tvalid_0's rmse: 0.403879\tvalid_1's rmse: 1.01831\n",
      "[3000]\tvalid_0's rmse: 0.394279\tvalid_1's rmse: 1.01797\n",
      "[3100]\tvalid_0's rmse: 0.384947\tvalid_1's rmse: 1.01796\n",
      "[3200]\tvalid_0's rmse: 0.375837\tvalid_1's rmse: 1.01786\n",
      "[3300]\tvalid_0's rmse: 0.367105\tvalid_1's rmse: 1.01786\n",
      "Early stopping, best iteration is:\n",
      "[3247]\tvalid_0's rmse: 0.371547\tvalid_1's rmse: 1.01775\n"
     ]
    },
    {
     "name": "stderr",
     "output_type": "stream",
     "text": [
      "feature_fraction, val_score: 1.015997: 100%|##########| 7/7 [07:10<00:00, 66.50s/it]\u001b[32m[I 2021-03-08 01:49:10,998]\u001b[0m Trial 6 finished with value: 1.0177503468896398 and parameters: {'feature_fraction': 1.0}. Best is trial 5 with value: 1.0159971792288491.\u001b[0m\n",
      "feature_fraction, val_score: 1.015997: 100%|##########| 7/7 [07:10<00:00, 61.44s/it]\n",
      "num_leaves, val_score: 1.015997:   0%|          | 0/20 [00:00<?, ?it/s]"
     ]
    },
    {
     "name": "stdout",
     "output_type": "stream",
     "text": [
      "Training until validation scores don't improve for 100 rounds\n",
      "[100]\tvalid_0's rmse: 0.985481\tvalid_1's rmse: 1.20654\n",
      "[200]\tvalid_0's rmse: 0.663983\tvalid_1's rmse: 1.07652\n",
      "[300]\tvalid_0's rmse: 0.498946\tvalid_1's rmse: 1.04429\n",
      "[400]\tvalid_0's rmse: 0.394732\tvalid_1's rmse: 1.03331\n",
      "[500]\tvalid_0's rmse: 0.322298\tvalid_1's rmse: 1.02809\n",
      "[600]\tvalid_0's rmse: 0.269812\tvalid_1's rmse: 1.02531\n",
      "[700]\tvalid_0's rmse: 0.231553\tvalid_1's rmse: 1.0244\n",
      "[800]\tvalid_0's rmse: 0.202966\tvalid_1's rmse: 1.02389\n",
      "[900]\tvalid_0's rmse: 0.181342\tvalid_1's rmse: 1.02365\n",
      "[1000]\tvalid_0's rmse: 0.164055\tvalid_1's rmse: 1.02304\n",
      "[1100]\tvalid_0's rmse: 0.150232\tvalid_1's rmse: 1.02285\n",
      "[1200]\tvalid_0's rmse: 0.139029\tvalid_1's rmse: 1.02279\n",
      "Early stopping, best iteration is:\n",
      "[1135]\tvalid_0's rmse: 0.14614\tvalid_1's rmse: 1.02279\n"
     ]
    },
    {
     "name": "stderr",
     "output_type": "stream",
     "text": [
      "num_leaves, val_score: 1.015997:   5%|5         | 1/20 [01:12<23:05, 72.90s/it]\u001b[32m[I 2021-03-08 01:50:23,916]\u001b[0m Trial 7 finished with value: 1.0227853677153116 and parameters: {'num_leaves': 237}. Best is trial 7 with value: 1.0227853677153116.\u001b[0m\n",
      "num_leaves, val_score: 1.015997:   5%|5         | 1/20 [01:12<23:05, 72.90s/it]"
     ]
    },
    {
     "name": "stdout",
     "output_type": "stream",
     "text": [
      "Training until validation scores don't improve for 100 rounds\n",
      "[100]\tvalid_0's rmse: 1.17903\tvalid_1's rmse: 1.22943\n",
      "[200]\tvalid_0's rmse: 1.00044\tvalid_1's rmse: 1.10635\n",
      "[300]\tvalid_0's rmse: 0.917823\tvalid_1's rmse: 1.07293\n",
      "[400]\tvalid_0's rmse: 0.859341\tvalid_1's rmse: 1.05852\n",
      "[500]\tvalid_0's rmse: 0.810533\tvalid_1's rmse: 1.05036\n",
      "[600]\tvalid_0's rmse: 0.767454\tvalid_1's rmse: 1.04322\n",
      "[700]\tvalid_0's rmse: 0.728808\tvalid_1's rmse: 1.03772\n",
      "[800]\tvalid_0's rmse: 0.693606\tvalid_1's rmse: 1.03389\n",
      "[900]\tvalid_0's rmse: 0.661626\tvalid_1's rmse: 1.03014\n",
      "[1000]\tvalid_0's rmse: 0.632202\tvalid_1's rmse: 1.02721\n",
      "[1100]\tvalid_0's rmse: 0.604757\tvalid_1's rmse: 1.02505\n",
      "[1200]\tvalid_0's rmse: 0.579415\tvalid_1's rmse: 1.02394\n",
      "[1300]\tvalid_0's rmse: 0.555707\tvalid_1's rmse: 1.02261\n",
      "[1400]\tvalid_0's rmse: 0.533756\tvalid_1's rmse: 1.02141\n",
      "[1500]\tvalid_0's rmse: 0.513207\tvalid_1's rmse: 1.02021\n",
      "[1600]\tvalid_0's rmse: 0.493888\tvalid_1's rmse: 1.01911\n",
      "[1700]\tvalid_0's rmse: 0.475592\tvalid_1's rmse: 1.01848\n",
      "[1800]\tvalid_0's rmse: 0.458626\tvalid_1's rmse: 1.01727\n",
      "[1900]\tvalid_0's rmse: 0.442688\tvalid_1's rmse: 1.01679\n",
      "[2000]\tvalid_0's rmse: 0.427547\tvalid_1's rmse: 1.01593\n",
      "[2100]\tvalid_0's rmse: 0.413291\tvalid_1's rmse: 1.0156\n",
      "[2200]\tvalid_0's rmse: 0.39964\tvalid_1's rmse: 1.01541\n",
      "[2300]\tvalid_0's rmse: 0.386674\tvalid_1's rmse: 1.01522\n",
      "[2400]\tvalid_0's rmse: 0.37454\tvalid_1's rmse: 1.01489\n",
      "[2500]\tvalid_0's rmse: 0.362716\tvalid_1's rmse: 1.01469\n",
      "[2600]\tvalid_0's rmse: 0.351804\tvalid_1's rmse: 1.0147\n",
      "[2700]\tvalid_0's rmse: 0.341302\tvalid_1's rmse: 1.01431\n",
      "[2800]\tvalid_0's rmse: 0.331284\tvalid_1's rmse: 1.01414\n",
      "[2900]\tvalid_0's rmse: 0.321881\tvalid_1's rmse: 1.01399\n",
      "[3000]\tvalid_0's rmse: 0.312901\tvalid_1's rmse: 1.01378\n",
      "[3100]\tvalid_0's rmse: 0.3044\tvalid_1's rmse: 1.01367\n",
      "[3200]\tvalid_0's rmse: 0.296287\tvalid_1's rmse: 1.0134\n",
      "[3300]\tvalid_0's rmse: 0.288465\tvalid_1's rmse: 1.01345\n",
      "Early stopping, best iteration is:\n",
      "[3267]\tvalid_0's rmse: 0.291062\tvalid_1's rmse: 1.01329\n"
     ]
    },
    {
     "name": "stderr",
     "output_type": "stream",
     "text": [
      "num_leaves, val_score: 1.013287:  10%|#         | 2/20 [01:57<19:19, 64.42s/it]\u001b[32m[I 2021-03-08 01:51:08,534]\u001b[0m Trial 8 finished with value: 1.0132867804439716 and parameters: {'num_leaves': 34}. Best is trial 8 with value: 1.0132867804439716.\u001b[0m\n",
      "num_leaves, val_score: 1.013287:  10%|#         | 2/20 [01:57<19:19, 64.42s/it]"
     ]
    },
    {
     "name": "stdout",
     "output_type": "stream",
     "text": [
      "Training until validation scores don't improve for 100 rounds\n",
      "[100]\tvalid_0's rmse: 0.983139\tvalid_1's rmse: 1.20502\n",
      "[200]\tvalid_0's rmse: 0.660688\tvalid_1's rmse: 1.07271\n",
      "[300]\tvalid_0's rmse: 0.494742\tvalid_1's rmse: 1.04111\n",
      "[400]\tvalid_0's rmse: 0.391074\tvalid_1's rmse: 1.03161\n",
      "[500]\tvalid_0's rmse: 0.319051\tvalid_1's rmse: 1.0277\n",
      "[600]\tvalid_0's rmse: 0.266987\tvalid_1's rmse: 1.02604\n",
      "[700]\tvalid_0's rmse: 0.229186\tvalid_1's rmse: 1.02492\n",
      "[800]\tvalid_0's rmse: 0.200783\tvalid_1's rmse: 1.02455\n",
      "[900]\tvalid_0's rmse: 0.179571\tvalid_1's rmse: 1.02426\n",
      "[1000]\tvalid_0's rmse: 0.162766\tvalid_1's rmse: 1.02423\n",
      "Early stopping, best iteration is:\n",
      "[968]\tvalid_0's rmse: 0.167772\tvalid_1's rmse: 1.0242\n"
     ]
    },
    {
     "name": "stderr",
     "output_type": "stream",
     "text": [
      "num_leaves, val_score: 1.013287:  15%|#5        | 3/20 [03:02<18:18, 64.62s/it]\u001b[32m[I 2021-03-08 01:52:13,638]\u001b[0m Trial 9 finished with value: 1.0242000735879517 and parameters: {'num_leaves': 242}. Best is trial 8 with value: 1.0132867804439716.\u001b[0m\n",
      "num_leaves, val_score: 1.013287:  15%|#5        | 3/20 [03:02<18:18, 64.62s/it]"
     ]
    },
    {
     "name": "stdout",
     "output_type": "stream",
     "text": [
      "Training until validation scores don't improve for 100 rounds\n",
      "[100]\tvalid_0's rmse: 1.24639\tvalid_1's rmse: 1.25449\n",
      "[200]\tvalid_0's rmse: 1.11392\tvalid_1's rmse: 1.13754\n",
      "[300]\tvalid_0's rmse: 1.06329\tvalid_1's rmse: 1.10563\n",
      "[400]\tvalid_0's rmse: 1.03115\tvalid_1's rmse: 1.09261\n",
      "[500]\tvalid_0's rmse: 1.00472\tvalid_1's rmse: 1.08455\n",
      "[600]\tvalid_0's rmse: 0.982027\tvalid_1's rmse: 1.07885\n",
      "[700]\tvalid_0's rmse: 0.961369\tvalid_1's rmse: 1.07389\n",
      "[800]\tvalid_0's rmse: 0.942318\tvalid_1's rmse: 1.07033\n",
      "[900]\tvalid_0's rmse: 0.924548\tvalid_1's rmse: 1.06613\n",
      "[1000]\tvalid_0's rmse: 0.90771\tvalid_1's rmse: 1.06364\n",
      "[1100]\tvalid_0's rmse: 0.891714\tvalid_1's rmse: 1.06111\n",
      "[1200]\tvalid_0's rmse: 0.87653\tvalid_1's rmse: 1.05867\n",
      "[1300]\tvalid_0's rmse: 0.862054\tvalid_1's rmse: 1.0568\n",
      "[1400]\tvalid_0's rmse: 0.848247\tvalid_1's rmse: 1.05513\n",
      "[1500]\tvalid_0's rmse: 0.835138\tvalid_1's rmse: 1.05383\n",
      "[1600]\tvalid_0's rmse: 0.822421\tvalid_1's rmse: 1.0523\n",
      "[1700]\tvalid_0's rmse: 0.810191\tvalid_1's rmse: 1.05118\n",
      "[1800]\tvalid_0's rmse: 0.798536\tvalid_1's rmse: 1.04968\n",
      "[1900]\tvalid_0's rmse: 0.787147\tvalid_1's rmse: 1.04857\n",
      "[2000]\tvalid_0's rmse: 0.776128\tvalid_1's rmse: 1.04723\n",
      "[2100]\tvalid_0's rmse: 0.765469\tvalid_1's rmse: 1.04595\n",
      "[2200]\tvalid_0's rmse: 0.754973\tvalid_1's rmse: 1.04486\n",
      "[2300]\tvalid_0's rmse: 0.744856\tvalid_1's rmse: 1.04393\n",
      "[2400]\tvalid_0's rmse: 0.734998\tvalid_1's rmse: 1.04346\n",
      "[2500]\tvalid_0's rmse: 0.725355\tvalid_1's rmse: 1.04307\n",
      "[2600]\tvalid_0's rmse: 0.716199\tvalid_1's rmse: 1.04275\n",
      "[2700]\tvalid_0's rmse: 0.707016\tvalid_1's rmse: 1.04161\n",
      "[2800]\tvalid_0's rmse: 0.697985\tvalid_1's rmse: 1.04094\n",
      "[2900]\tvalid_0's rmse: 0.689243\tvalid_1's rmse: 1.04052\n",
      "[3000]\tvalid_0's rmse: 0.680786\tvalid_1's rmse: 1.03967\n",
      "[3100]\tvalid_0's rmse: 0.672542\tvalid_1's rmse: 1.03903\n",
      "[3200]\tvalid_0's rmse: 0.664552\tvalid_1's rmse: 1.0385\n",
      "[3300]\tvalid_0's rmse: 0.65656\tvalid_1's rmse: 1.03776\n",
      "[3400]\tvalid_0's rmse: 0.648868\tvalid_1's rmse: 1.0372\n",
      "[3500]\tvalid_0's rmse: 0.641162\tvalid_1's rmse: 1.03666\n",
      "[3600]\tvalid_0's rmse: 0.633706\tvalid_1's rmse: 1.03613\n",
      "[3700]\tvalid_0's rmse: 0.626592\tvalid_1's rmse: 1.03565\n",
      "[3800]\tvalid_0's rmse: 0.619677\tvalid_1's rmse: 1.03518\n",
      "[3900]\tvalid_0's rmse: 0.612841\tvalid_1's rmse: 1.03469\n",
      "[4000]\tvalid_0's rmse: 0.606184\tvalid_1's rmse: 1.03424\n",
      "[4100]\tvalid_0's rmse: 0.599515\tvalid_1's rmse: 1.03375\n",
      "[4200]\tvalid_0's rmse: 0.592669\tvalid_1's rmse: 1.03334\n",
      "[4300]\tvalid_0's rmse: 0.586345\tvalid_1's rmse: 1.03274\n",
      "[4400]\tvalid_0's rmse: 0.580075\tvalid_1's rmse: 1.03243\n",
      "[4500]\tvalid_0's rmse: 0.573789\tvalid_1's rmse: 1.03217\n",
      "[4600]\tvalid_0's rmse: 0.567741\tvalid_1's rmse: 1.03186\n",
      "[4700]\tvalid_0's rmse: 0.561822\tvalid_1's rmse: 1.03139\n",
      "[4800]\tvalid_0's rmse: 0.555924\tvalid_1's rmse: 1.03115\n",
      "[4900]\tvalid_0's rmse: 0.55032\tvalid_1's rmse: 1.03072\n",
      "[5000]\tvalid_0's rmse: 0.544718\tvalid_1's rmse: 1.03042\n",
      "[5100]\tvalid_0's rmse: 0.53916\tvalid_1's rmse: 1.03025\n",
      "[5200]\tvalid_0's rmse: 0.533561\tvalid_1's rmse: 1.02983\n",
      "[5300]\tvalid_0's rmse: 0.528053\tvalid_1's rmse: 1.02963\n",
      "[5400]\tvalid_0's rmse: 0.522681\tvalid_1's rmse: 1.02944\n",
      "[5500]\tvalid_0's rmse: 0.517483\tvalid_1's rmse: 1.02922\n",
      "[5600]\tvalid_0's rmse: 0.512307\tvalid_1's rmse: 1.02911\n",
      "[5700]\tvalid_0's rmse: 0.507376\tvalid_1's rmse: 1.02889\n",
      "[5800]\tvalid_0's rmse: 0.502336\tvalid_1's rmse: 1.02863\n",
      "[5900]\tvalid_0's rmse: 0.497472\tvalid_1's rmse: 1.02856\n",
      "[6000]\tvalid_0's rmse: 0.492807\tvalid_1's rmse: 1.02823\n",
      "[6100]\tvalid_0's rmse: 0.488128\tvalid_1's rmse: 1.0279\n",
      "[6200]\tvalid_0's rmse: 0.483242\tvalid_1's rmse: 1.02785\n",
      "Early stopping, best iteration is:\n",
      "[6126]\tvalid_0's rmse: 0.486849\tvalid_1's rmse: 1.02779\n"
     ]
    },
    {
     "name": "stderr",
     "output_type": "stream",
     "text": [
      "num_leaves, val_score: 1.013287:  20%|##        | 4/20 [03:39<15:02, 56.40s/it]\u001b[32m[I 2021-03-08 01:52:50,853]\u001b[0m Trial 10 finished with value: 1.0277899979940528 and parameters: {'num_leaves': 11}. Best is trial 8 with value: 1.0132867804439716.\u001b[0m\n",
      "num_leaves, val_score: 1.013287:  20%|##        | 4/20 [03:39<15:02, 56.40s/it]"
     ]
    },
    {
     "name": "stdout",
     "output_type": "stream",
     "text": [
      "Training until validation scores don't improve for 100 rounds\n",
      "[100]\tvalid_0's rmse: 1.11535\tvalid_1's rmse: 1.21883\n",
      "[200]\tvalid_0's rmse: 0.889065\tvalid_1's rmse: 1.09002\n",
      "[300]\tvalid_0's rmse: 0.773954\tvalid_1's rmse: 1.05628\n",
      "[400]\tvalid_0's rmse: 0.692724\tvalid_1's rmse: 1.04409\n",
      "[500]\tvalid_0's rmse: 0.625883\tvalid_1's rmse: 1.03624\n",
      "[600]\tvalid_0's rmse: 0.569029\tvalid_1's rmse: 1.03139\n",
      "[700]\tvalid_0's rmse: 0.519881\tvalid_1's rmse: 1.02793\n",
      "[800]\tvalid_0's rmse: 0.477254\tvalid_1's rmse: 1.02549\n",
      "[900]\tvalid_0's rmse: 0.439614\tvalid_1's rmse: 1.02335\n",
      "[1000]\tvalid_0's rmse: 0.406409\tvalid_1's rmse: 1.02194\n",
      "[1100]\tvalid_0's rmse: 0.376741\tvalid_1's rmse: 1.02053\n",
      "[1200]\tvalid_0's rmse: 0.350369\tvalid_1's rmse: 1.01998\n",
      "[1300]\tvalid_0's rmse: 0.327184\tvalid_1's rmse: 1.01908\n",
      "[1400]\tvalid_0's rmse: 0.306577\tvalid_1's rmse: 1.0185\n",
      "[1500]\tvalid_0's rmse: 0.287927\tvalid_1's rmse: 1.01843\n",
      "[1600]\tvalid_0's rmse: 0.271161\tvalid_1's rmse: 1.01803\n",
      "[1700]\tvalid_0's rmse: 0.2562\tvalid_1's rmse: 1.01802\n",
      "Early stopping, best iteration is:\n",
      "[1679]\tvalid_0's rmse: 0.25913\tvalid_1's rmse: 1.01796\n"
     ]
    },
    {
     "name": "stderr",
     "output_type": "stream",
     "text": [
      "num_leaves, val_score: 1.013287:  25%|##5       | 5/20 [04:24<13:13, 52.89s/it]\u001b[32m[I 2021-03-08 01:53:35,547]\u001b[0m Trial 11 finished with value: 1.0179616382758057 and parameters: {'num_leaves': 72}. Best is trial 8 with value: 1.0132867804439716.\u001b[0m\n",
      "num_leaves, val_score: 1.013287:  25%|##5       | 5/20 [04:24<13:13, 52.89s/it]"
     ]
    },
    {
     "name": "stdout",
     "output_type": "stream",
     "text": [
      "Training until validation scores don't improve for 100 rounds\n",
      "[100]\tvalid_0's rmse: 1.09869\tvalid_1's rmse: 1.21594\n",
      "[200]\tvalid_0's rmse: 0.860095\tvalid_1's rmse: 1.08749\n",
      "[300]\tvalid_0's rmse: 0.737412\tvalid_1's rmse: 1.05319\n",
      "[400]\tvalid_0's rmse: 0.650175\tvalid_1's rmse: 1.03933\n",
      "[500]\tvalid_0's rmse: 0.579628\tvalid_1's rmse: 1.03145\n",
      "[600]\tvalid_0's rmse: 0.520323\tvalid_1's rmse: 1.02583\n",
      "[700]\tvalid_0's rmse: 0.470133\tvalid_1's rmse: 1.02272\n",
      "[800]\tvalid_0's rmse: 0.426945\tvalid_1's rmse: 1.02065\n",
      "[900]\tvalid_0's rmse: 0.389606\tvalid_1's rmse: 1.01902\n",
      "[1000]\tvalid_0's rmse: 0.35704\tvalid_1's rmse: 1.01803\n",
      "[1100]\tvalid_0's rmse: 0.328728\tvalid_1's rmse: 1.01713\n",
      "[1200]\tvalid_0's rmse: 0.303984\tvalid_1's rmse: 1.01644\n",
      "[1300]\tvalid_0's rmse: 0.282359\tvalid_1's rmse: 1.01628\n",
      "Early stopping, best iteration is:\n",
      "[1261]\tvalid_0's rmse: 0.290539\tvalid_1's rmse: 1.01616\n"
     ]
    },
    {
     "name": "stderr",
     "output_type": "stream",
     "text": [
      "num_leaves, val_score: 1.013287:  30%|###       | 6/20 [05:08<11:42, 50.18s/it]\u001b[32m[I 2021-03-08 01:54:19,404]\u001b[0m Trial 12 finished with value: 1.0161606692841103 and parameters: {'num_leaves': 85}. Best is trial 8 with value: 1.0132867804439716.\u001b[0m\n",
      "num_leaves, val_score: 1.013287:  30%|###       | 6/20 [05:08<11:42, 50.18s/it]"
     ]
    },
    {
     "name": "stdout",
     "output_type": "stream",
     "text": [
      "Training until validation scores don't improve for 100 rounds\n",
      "[100]\tvalid_0's rmse: 1.03321\tvalid_1's rmse: 1.20761\n",
      "[200]\tvalid_0's rmse: 0.745826\tvalid_1's rmse: 1.07827\n",
      "[300]\tvalid_0's rmse: 0.595831\tvalid_1's rmse: 1.0451\n",
      "[400]\tvalid_0's rmse: 0.494429\tvalid_1's rmse: 1.0338\n",
      "[500]\tvalid_0's rmse: 0.418018\tvalid_1's rmse: 1.0277\n",
      "[600]\tvalid_0's rmse: 0.357912\tvalid_1's rmse: 1.02479\n",
      "[700]\tvalid_0's rmse: 0.310577\tvalid_1's rmse: 1.02344\n",
      "[800]\tvalid_0's rmse: 0.272981\tvalid_1's rmse: 1.02297\n",
      "[900]\tvalid_0's rmse: 0.242902\tvalid_1's rmse: 1.02241\n",
      "[1000]\tvalid_0's rmse: 0.218636\tvalid_1's rmse: 1.02219\n",
      "[1100]\tvalid_0's rmse: 0.198821\tvalid_1's rmse: 1.02188\n",
      "[1200]\tvalid_0's rmse: 0.182578\tvalid_1's rmse: 1.02168\n",
      "[1300]\tvalid_0's rmse: 0.169199\tvalid_1's rmse: 1.02149\n",
      "[1400]\tvalid_0's rmse: 0.157799\tvalid_1's rmse: 1.02156\n",
      "Early stopping, best iteration is:\n",
      "[1318]\tvalid_0's rmse: 0.167085\tvalid_1's rmse: 1.02144\n"
     ]
    },
    {
     "name": "stderr",
     "output_type": "stream",
     "text": [
      "num_leaves, val_score: 1.013287:  35%|###5      | 7/20 [06:16<12:02, 55.59s/it]\u001b[32m[I 2021-03-08 01:55:27,634]\u001b[0m Trial 13 finished with value: 1.0214357102592015 and parameters: {'num_leaves': 154}. Best is trial 8 with value: 1.0132867804439716.\u001b[0m\n",
      "num_leaves, val_score: 1.013287:  35%|###5      | 7/20 [06:16<12:02, 55.59s/it]"
     ]
    },
    {
     "name": "stdout",
     "output_type": "stream",
     "text": [
      "Training until validation scores don't improve for 100 rounds\n",
      "[100]\tvalid_0's rmse: 1.00703\tvalid_1's rmse: 1.20569\n",
      "[200]\tvalid_0's rmse: 0.700903\tvalid_1's rmse: 1.07497\n",
      "[300]\tvalid_0's rmse: 0.541618\tvalid_1's rmse: 1.042\n",
      "[400]\tvalid_0's rmse: 0.437857\tvalid_1's rmse: 1.03131\n",
      "[500]\tvalid_0's rmse: 0.362253\tvalid_1's rmse: 1.02614\n",
      "[600]\tvalid_0's rmse: 0.305806\tvalid_1's rmse: 1.02322\n",
      "[700]\tvalid_0's rmse: 0.263\tvalid_1's rmse: 1.02172\n",
      "[800]\tvalid_0's rmse: 0.230123\tvalid_1's rmse: 1.02091\n",
      "[900]\tvalid_0's rmse: 0.204839\tvalid_1's rmse: 1.02072\n",
      "[1000]\tvalid_0's rmse: 0.184597\tvalid_1's rmse: 1.02058\n",
      "[1100]\tvalid_0's rmse: 0.168437\tvalid_1's rmse: 1.02051\n",
      "[1200]\tvalid_0's rmse: 0.155204\tvalid_1's rmse: 1.0203\n",
      "[1300]\tvalid_0's rmse: 0.14405\tvalid_1's rmse: 1.02032\n",
      "Early stopping, best iteration is:\n",
      "[1257]\tvalid_0's rmse: 0.148627\tvalid_1's rmse: 1.0202\n"
     ]
    },
    {
     "name": "stderr",
     "output_type": "stream",
     "text": [
      "num_leaves, val_score: 1.013287:  40%|####      | 8/20 [07:27<12:01, 60.14s/it]\u001b[32m[I 2021-03-08 01:56:38,386]\u001b[0m Trial 14 finished with value: 1.020202014654198 and parameters: {'num_leaves': 194}. Best is trial 8 with value: 1.0132867804439716.\u001b[0m\n",
      "num_leaves, val_score: 1.013287:  40%|####      | 8/20 [07:27<12:01, 60.14s/it]"
     ]
    },
    {
     "name": "stdout",
     "output_type": "stream",
     "text": [
      "Training until validation scores don't improve for 100 rounds\n",
      "[100]\tvalid_0's rmse: 1.00974\tvalid_1's rmse: 1.20761\n",
      "[200]\tvalid_0's rmse: 0.704931\tvalid_1's rmse: 1.07509\n",
      "[300]\tvalid_0's rmse: 0.546599\tvalid_1's rmse: 1.04329\n",
      "[400]\tvalid_0's rmse: 0.442996\tvalid_1's rmse: 1.03192\n",
      "[500]\tvalid_0's rmse: 0.367419\tvalid_1's rmse: 1.02743\n",
      "[600]\tvalid_0's rmse: 0.310319\tvalid_1's rmse: 1.02508\n",
      "[700]\tvalid_0's rmse: 0.26717\tvalid_1's rmse: 1.0239\n",
      "[800]\tvalid_0's rmse: 0.233986\tvalid_1's rmse: 1.02321\n",
      "[900]\tvalid_0's rmse: 0.208268\tvalid_1's rmse: 1.0229\n",
      "[1000]\tvalid_0's rmse: 0.187804\tvalid_1's rmse: 1.02264\n",
      "[1100]\tvalid_0's rmse: 0.171216\tvalid_1's rmse: 1.02257\n",
      "[1200]\tvalid_0's rmse: 0.157791\tvalid_1's rmse: 1.02269\n",
      "Early stopping, best iteration is:\n",
      "[1110]\tvalid_0's rmse: 0.169759\tvalid_1's rmse: 1.02252\n"
     ]
    },
    {
     "name": "stderr",
     "output_type": "stream",
     "text": [
      "num_leaves, val_score: 1.013287:  45%|####5     | 9/20 [08:29<11:08, 60.75s/it]\u001b[32m[I 2021-03-08 01:57:40,545]\u001b[0m Trial 15 finished with value: 1.0225151732031275 and parameters: {'num_leaves': 190}. Best is trial 8 with value: 1.0132867804439716.\u001b[0m\n",
      "num_leaves, val_score: 1.013287:  45%|####5     | 9/20 [08:29<11:08, 60.75s/it]"
     ]
    },
    {
     "name": "stdout",
     "output_type": "stream",
     "text": [
      "Training until validation scores don't improve for 100 rounds\n",
      "[100]\tvalid_0's rmse: 1.19788\tvalid_1's rmse: 1.23431\n",
      "[200]\tvalid_0's rmse: 1.03305\tvalid_1's rmse: 1.11227\n",
      "[300]\tvalid_0's rmse: 0.960083\tvalid_1's rmse: 1.07983\n",
      "[400]\tvalid_0's rmse: 0.909154\tvalid_1's rmse: 1.06643\n",
      "[500]\tvalid_0's rmse: 0.866497\tvalid_1's rmse: 1.05825\n",
      "[600]\tvalid_0's rmse: 0.82882\tvalid_1's rmse: 1.05122\n",
      "[700]\tvalid_0's rmse: 0.794544\tvalid_1's rmse: 1.04563\n",
      "[800]\tvalid_0's rmse: 0.763476\tvalid_1's rmse: 1.04223\n",
      "[900]\tvalid_0's rmse: 0.734677\tvalid_1's rmse: 1.03883\n",
      "[1000]\tvalid_0's rmse: 0.708057\tvalid_1's rmse: 1.03508\n",
      "[1100]\tvalid_0's rmse: 0.682883\tvalid_1's rmse: 1.0325\n",
      "[1200]\tvalid_0's rmse: 0.659682\tvalid_1's rmse: 1.03079\n",
      "[1300]\tvalid_0's rmse: 0.638172\tvalid_1's rmse: 1.02908\n",
      "[1400]\tvalid_0's rmse: 0.617563\tvalid_1's rmse: 1.02759\n",
      "[1500]\tvalid_0's rmse: 0.598197\tvalid_1's rmse: 1.02621\n",
      "[1600]\tvalid_0's rmse: 0.579703\tvalid_1's rmse: 1.02477\n",
      "[1700]\tvalid_0's rmse: 0.562026\tvalid_1's rmse: 1.02377\n",
      "[1800]\tvalid_0's rmse: 0.545504\tvalid_1's rmse: 1.02296\n",
      "[1900]\tvalid_0's rmse: 0.52979\tvalid_1's rmse: 1.02175\n",
      "[2000]\tvalid_0's rmse: 0.514763\tvalid_1's rmse: 1.02091\n",
      "[2100]\tvalid_0's rmse: 0.500499\tvalid_1's rmse: 1.02038\n",
      "[2200]\tvalid_0's rmse: 0.486777\tvalid_1's rmse: 1.01966\n",
      "[2300]\tvalid_0's rmse: 0.473723\tvalid_1's rmse: 1.01906\n",
      "[2400]\tvalid_0's rmse: 0.461295\tvalid_1's rmse: 1.01869\n",
      "[2500]\tvalid_0's rmse: 0.449081\tvalid_1's rmse: 1.0181\n",
      "[2600]\tvalid_0's rmse: 0.437657\tvalid_1's rmse: 1.0182\n",
      "Early stopping, best iteration is:\n",
      "[2505]\tvalid_0's rmse: 0.44854\tvalid_1's rmse: 1.01809\n"
     ]
    },
    {
     "name": "stderr",
     "output_type": "stream",
     "text": [
      "num_leaves, val_score: 1.013287:  50%|#####     | 10/20 [08:57<08:29, 50.99s/it]\u001b[32m[I 2021-03-08 01:58:08,770]\u001b[0m Trial 16 finished with value: 1.0180924142729655 and parameters: {'num_leaves': 26}. Best is trial 8 with value: 1.0132867804439716.\u001b[0m\n",
      "num_leaves, val_score: 1.013287:  50%|#####     | 10/20 [08:57<08:29, 50.99s/it]"
     ]
    },
    {
     "name": "stdout",
     "output_type": "stream",
     "text": [
      "Training until validation scores don't improve for 100 rounds\n",
      "[100]\tvalid_0's rmse: 1.1218\tvalid_1's rmse: 1.22013\n",
      "[200]\tvalid_0's rmse: 0.900743\tvalid_1's rmse: 1.09249\n",
      "[300]\tvalid_0's rmse: 0.788981\tvalid_1's rmse: 1.05871\n",
      "[400]\tvalid_0's rmse: 0.709607\tvalid_1's rmse: 1.04606\n",
      "[500]\tvalid_0's rmse: 0.64484\tvalid_1's rmse: 1.03861\n",
      "[600]\tvalid_0's rmse: 0.588858\tvalid_1's rmse: 1.03361\n",
      "[700]\tvalid_0's rmse: 0.540413\tvalid_1's rmse: 1.03015\n",
      "[800]\tvalid_0's rmse: 0.497937\tvalid_1's rmse: 1.02759\n",
      "[900]\tvalid_0's rmse: 0.460478\tvalid_1's rmse: 1.02544\n",
      "[1000]\tvalid_0's rmse: 0.427283\tvalid_1's rmse: 1.02377\n",
      "[1100]\tvalid_0's rmse: 0.39732\tvalid_1's rmse: 1.02275\n",
      "[1200]\tvalid_0's rmse: 0.370445\tvalid_1's rmse: 1.02192\n",
      "[1300]\tvalid_0's rmse: 0.346771\tvalid_1's rmse: 1.0215\n",
      "[1400]\tvalid_0's rmse: 0.325391\tvalid_1's rmse: 1.02158\n",
      "Early stopping, best iteration is:\n",
      "[1323]\tvalid_0's rmse: 0.341685\tvalid_1's rmse: 1.02146\n"
     ]
    },
    {
     "name": "stderr",
     "output_type": "stream",
     "text": [
      "num_leaves, val_score: 1.013287:  55%|#####5    | 11/20 [09:35<07:02, 46.95s/it]\u001b[32m[I 2021-03-08 01:58:46,296]\u001b[0m Trial 17 finished with value: 1.0214557979410406 and parameters: {'num_leaves': 67}. Best is trial 8 with value: 1.0132867804439716.\u001b[0m\n",
      "num_leaves, val_score: 1.013287:  55%|#####5    | 11/20 [09:35<07:02, 46.95s/it]"
     ]
    },
    {
     "name": "stdout",
     "output_type": "stream",
     "text": [
      "Training until validation scores don't improve for 100 rounds\n",
      "[100]\tvalid_0's rmse: 1.0869\tvalid_1's rmse: 1.2151\n",
      "[200]\tvalid_0's rmse: 0.839037\tvalid_1's rmse: 1.08569\n",
      "[300]\tvalid_0's rmse: 0.710643\tvalid_1's rmse: 1.0526\n",
      "[400]\tvalid_0's rmse: 0.620375\tvalid_1's rmse: 1.03989\n",
      "[500]\tvalid_0's rmse: 0.548136\tvalid_1's rmse: 1.03277\n",
      "[600]\tvalid_0's rmse: 0.488031\tvalid_1's rmse: 1.02817\n",
      "[700]\tvalid_0's rmse: 0.4375\tvalid_1's rmse: 1.02565\n",
      "[800]\tvalid_0's rmse: 0.394797\tvalid_1's rmse: 1.02349\n",
      "[900]\tvalid_0's rmse: 0.35815\tvalid_1's rmse: 1.02188\n",
      "[1000]\tvalid_0's rmse: 0.326518\tvalid_1's rmse: 1.02067\n",
      "[1100]\tvalid_0's rmse: 0.299324\tvalid_1's rmse: 1.02044\n",
      "[1200]\tvalid_0's rmse: 0.275803\tvalid_1's rmse: 1.02021\n",
      "[1300]\tvalid_0's rmse: 0.255475\tvalid_1's rmse: 1.01991\n",
      "[1400]\tvalid_0's rmse: 0.237973\tvalid_1's rmse: 1.01988\n",
      "Early stopping, best iteration is:\n",
      "[1318]\tvalid_0's rmse: 0.25217\tvalid_1's rmse: 1.01985\n"
     ]
    },
    {
     "name": "stderr",
     "output_type": "stream",
     "text": [
      "num_leaves, val_score: 1.013287:  60%|######    | 12/20 [10:20<06:11, 46.50s/it]\u001b[32m[I 2021-03-08 01:59:31,735]\u001b[0m Trial 18 finished with value: 1.0198507617824564 and parameters: {'num_leaves': 95}. Best is trial 8 with value: 1.0132867804439716.\u001b[0m\n",
      "num_leaves, val_score: 1.013287:  60%|######    | 12/20 [10:20<06:11, 46.50s/it]"
     ]
    },
    {
     "name": "stdout",
     "output_type": "stream",
     "text": [
      "Training until validation scores don't improve for 100 rounds\n",
      "[100]\tvalid_0's rmse: 1.16455\tvalid_1's rmse: 1.22734\n",
      "[200]\tvalid_0's rmse: 0.975381\tvalid_1's rmse: 1.10282\n",
      "[300]\tvalid_0's rmse: 0.885846\tvalid_1's rmse: 1.06854\n",
      "[400]\tvalid_0's rmse: 0.821238\tvalid_1's rmse: 1.05542\n",
      "[500]\tvalid_0's rmse: 0.767881\tvalid_1's rmse: 1.0471\n",
      "[600]\tvalid_0's rmse: 0.720859\tvalid_1's rmse: 1.04073\n",
      "[700]\tvalid_0's rmse: 0.679601\tvalid_1's rmse: 1.0364\n",
      "[800]\tvalid_0's rmse: 0.642122\tvalid_1's rmse: 1.03297\n",
      "[900]\tvalid_0's rmse: 0.607835\tvalid_1's rmse: 1.03005\n",
      "[1000]\tvalid_0's rmse: 0.576837\tvalid_1's rmse: 1.02707\n",
      "[1100]\tvalid_0's rmse: 0.547929\tvalid_1's rmse: 1.02466\n",
      "[1200]\tvalid_0's rmse: 0.521456\tvalid_1's rmse: 1.02315\n",
      "[1300]\tvalid_0's rmse: 0.497346\tvalid_1's rmse: 1.02147\n",
      "[1400]\tvalid_0's rmse: 0.474709\tvalid_1's rmse: 1.02044\n",
      "[1500]\tvalid_0's rmse: 0.454039\tvalid_1's rmse: 1.01968\n",
      "[1600]\tvalid_0's rmse: 0.434269\tvalid_1's rmse: 1.01882\n",
      "[1700]\tvalid_0's rmse: 0.41591\tvalid_1's rmse: 1.01814\n",
      "[1800]\tvalid_0's rmse: 0.399098\tvalid_1's rmse: 1.01758\n",
      "[1900]\tvalid_0's rmse: 0.383156\tvalid_1's rmse: 1.01678\n",
      "[2000]\tvalid_0's rmse: 0.36829\tvalid_1's rmse: 1.01636\n",
      "[2100]\tvalid_0's rmse: 0.354638\tvalid_1's rmse: 1.0159\n",
      "[2200]\tvalid_0's rmse: 0.341669\tvalid_1's rmse: 1.01551\n",
      "[2300]\tvalid_0's rmse: 0.329357\tvalid_1's rmse: 1.01538\n",
      "[2400]\tvalid_0's rmse: 0.317897\tvalid_1's rmse: 1.01487\n",
      "[2500]\tvalid_0's rmse: 0.307193\tvalid_1's rmse: 1.01475\n",
      "[2600]\tvalid_0's rmse: 0.297078\tvalid_1's rmse: 1.01449\n",
      "[2700]\tvalid_0's rmse: 0.287603\tvalid_1's rmse: 1.01444\n",
      "[2800]\tvalid_0's rmse: 0.278443\tvalid_1's rmse: 1.01424\n",
      "Early stopping, best iteration is:\n",
      "[2789]\tvalid_0's rmse: 0.279401\tvalid_1's rmse: 1.01414\n"
     ]
    },
    {
     "name": "stderr",
     "output_type": "stream",
     "text": [
      "num_leaves, val_score: 1.013287:  65%|######5   | 13/20 [11:04<05:20, 45.76s/it]\u001b[32m[I 2021-03-08 02:00:15,780]\u001b[0m Trial 19 finished with value: 1.0141421948138574 and parameters: {'num_leaves': 41}. Best is trial 8 with value: 1.0132867804439716.\u001b[0m\n",
      "num_leaves, val_score: 1.013287:  65%|######5   | 13/20 [11:04<05:20, 45.76s/it]"
     ]
    },
    {
     "name": "stdout",
     "output_type": "stream",
     "text": [
      "Training until validation scores don't improve for 100 rounds\n",
      "[100]\tvalid_0's rmse: 1.18112\tvalid_1's rmse: 1.23027\n",
      "[200]\tvalid_0's rmse: 1.00394\tvalid_1's rmse: 1.10761\n",
      "[300]\tvalid_0's rmse: 0.922778\tvalid_1's rmse: 1.07458\n",
      "[400]\tvalid_0's rmse: 0.864766\tvalid_1's rmse: 1.06061\n",
      "[500]\tvalid_0's rmse: 0.816595\tvalid_1's rmse: 1.05196\n",
      "[600]\tvalid_0's rmse: 0.773801\tvalid_1's rmse: 1.04546\n",
      "[700]\tvalid_0's rmse: 0.735537\tvalid_1's rmse: 1.04033\n",
      "[800]\tvalid_0's rmse: 0.701319\tvalid_1's rmse: 1.03624\n",
      "[900]\tvalid_0's rmse: 0.66971\tvalid_1's rmse: 1.03256\n",
      "[1000]\tvalid_0's rmse: 0.640561\tvalid_1's rmse: 1.02945\n",
      "[1100]\tvalid_0's rmse: 0.613371\tvalid_1's rmse: 1.0276\n",
      "[1200]\tvalid_0's rmse: 0.58832\tvalid_1's rmse: 1.02575\n",
      "[1300]\tvalid_0's rmse: 0.565089\tvalid_1's rmse: 1.02429\n",
      "[1400]\tvalid_0's rmse: 0.543249\tvalid_1's rmse: 1.02323\n",
      "[1500]\tvalid_0's rmse: 0.522996\tvalid_1's rmse: 1.02196\n",
      "[1600]\tvalid_0's rmse: 0.503802\tvalid_1's rmse: 1.02104\n",
      "[1700]\tvalid_0's rmse: 0.485847\tvalid_1's rmse: 1.0203\n",
      "[1800]\tvalid_0's rmse: 0.468853\tvalid_1's rmse: 1.01996\n",
      "[1900]\tvalid_0's rmse: 0.452607\tvalid_1's rmse: 1.01921\n",
      "[2000]\tvalid_0's rmse: 0.437337\tvalid_1's rmse: 1.01896\n",
      "[2100]\tvalid_0's rmse: 0.423064\tvalid_1's rmse: 1.01831\n",
      "[2200]\tvalid_0's rmse: 0.409533\tvalid_1's rmse: 1.0179\n",
      "[2300]\tvalid_0's rmse: 0.396464\tvalid_1's rmse: 1.01767\n",
      "[2400]\tvalid_0's rmse: 0.384153\tvalid_1's rmse: 1.01694\n",
      "[2500]\tvalid_0's rmse: 0.3726\tvalid_1's rmse: 1.01666\n",
      "Early stopping, best iteration is:\n",
      "[2487]\tvalid_0's rmse: 0.374093\tvalid_1's rmse: 1.01661\n"
     ]
    },
    {
     "name": "stderr",
     "output_type": "stream",
     "text": [
      "num_leaves, val_score: 1.013287:  70%|#######   | 14/20 [11:38<04:12, 42.12s/it]\u001b[32m[I 2021-03-08 02:00:49,417]\u001b[0m Trial 20 finished with value: 1.0166102936363137 and parameters: {'num_leaves': 33}. Best is trial 8 with value: 1.0132867804439716.\u001b[0m\n",
      "num_leaves, val_score: 1.013287:  70%|#######   | 14/20 [11:38<04:12, 42.12s/it]"
     ]
    },
    {
     "name": "stdout",
     "output_type": "stream",
     "text": [
      "Training until validation scores don't improve for 100 rounds\n",
      "[100]\tvalid_0's rmse: 1.32712\tvalid_1's rmse: 1.32577\n",
      "[200]\tvalid_0's rmse: 1.2166\tvalid_1's rmse: 1.21664\n",
      "[300]\tvalid_0's rmse: 1.17347\tvalid_1's rmse: 1.17623\n",
      "[400]\tvalid_0's rmse: 1.14981\tvalid_1's rmse: 1.15388\n",
      "[500]\tvalid_0's rmse: 1.13471\tvalid_1's rmse: 1.14129\n",
      "[600]\tvalid_0's rmse: 1.12369\tvalid_1's rmse: 1.13274\n",
      "[700]\tvalid_0's rmse: 1.11461\tvalid_1's rmse: 1.12697\n",
      "[800]\tvalid_0's rmse: 1.10681\tvalid_1's rmse: 1.12265\n",
      "[900]\tvalid_0's rmse: 1.1\tvalid_1's rmse: 1.11927\n",
      "[1000]\tvalid_0's rmse: 1.09352\tvalid_1's rmse: 1.1162\n",
      "[1100]\tvalid_0's rmse: 1.08732\tvalid_1's rmse: 1.11369\n",
      "[1200]\tvalid_0's rmse: 1.0816\tvalid_1's rmse: 1.11097\n",
      "[1300]\tvalid_0's rmse: 1.07612\tvalid_1's rmse: 1.10871\n",
      "[1400]\tvalid_0's rmse: 1.07089\tvalid_1's rmse: 1.10692\n",
      "[1500]\tvalid_0's rmse: 1.06592\tvalid_1's rmse: 1.10514\n",
      "[1600]\tvalid_0's rmse: 1.06127\tvalid_1's rmse: 1.1033\n",
      "[1700]\tvalid_0's rmse: 1.05669\tvalid_1's rmse: 1.10174\n",
      "[1800]\tvalid_0's rmse: 1.05224\tvalid_1's rmse: 1.10012\n",
      "[1900]\tvalid_0's rmse: 1.04796\tvalid_1's rmse: 1.09889\n",
      "[2000]\tvalid_0's rmse: 1.04397\tvalid_1's rmse: 1.09774\n",
      "[2100]\tvalid_0's rmse: 1.0398\tvalid_1's rmse: 1.09613\n",
      "[2200]\tvalid_0's rmse: 1.03578\tvalid_1's rmse: 1.09461\n",
      "[2300]\tvalid_0's rmse: 1.03178\tvalid_1's rmse: 1.09322\n",
      "[2400]\tvalid_0's rmse: 1.02805\tvalid_1's rmse: 1.09207\n",
      "[2500]\tvalid_0's rmse: 1.02438\tvalid_1's rmse: 1.09085\n",
      "[2600]\tvalid_0's rmse: 1.02083\tvalid_1's rmse: 1.09017\n",
      "[2700]\tvalid_0's rmse: 1.01735\tvalid_1's rmse: 1.08962\n",
      "[2800]\tvalid_0's rmse: 1.01373\tvalid_1's rmse: 1.08856\n",
      "[2900]\tvalid_0's rmse: 1.01031\tvalid_1's rmse: 1.08747\n",
      "[3000]\tvalid_0's rmse: 1.00687\tvalid_1's rmse: 1.08646\n",
      "[3100]\tvalid_0's rmse: 1.00342\tvalid_1's rmse: 1.08551\n",
      "[3200]\tvalid_0's rmse: 1.00006\tvalid_1's rmse: 1.08448\n",
      "[3300]\tvalid_0's rmse: 0.996779\tvalid_1's rmse: 1.08343\n",
      "[3400]\tvalid_0's rmse: 0.993776\tvalid_1's rmse: 1.08303\n",
      "[3500]\tvalid_0's rmse: 0.990643\tvalid_1's rmse: 1.08215\n",
      "[3600]\tvalid_0's rmse: 0.987716\tvalid_1's rmse: 1.08155\n",
      "[3700]\tvalid_0's rmse: 0.984722\tvalid_1's rmse: 1.0808\n",
      "[3800]\tvalid_0's rmse: 0.981663\tvalid_1's rmse: 1.08\n",
      "[3900]\tvalid_0's rmse: 0.978614\tvalid_1's rmse: 1.07943\n",
      "[4000]\tvalid_0's rmse: 0.975776\tvalid_1's rmse: 1.07899\n",
      "[4100]\tvalid_0's rmse: 0.972982\tvalid_1's rmse: 1.07854\n",
      "[4200]\tvalid_0's rmse: 0.970124\tvalid_1's rmse: 1.07796\n",
      "[4300]\tvalid_0's rmse: 0.967463\tvalid_1's rmse: 1.07739\n",
      "[4400]\tvalid_0's rmse: 0.964763\tvalid_1's rmse: 1.07696\n",
      "[4500]\tvalid_0's rmse: 0.962082\tvalid_1's rmse: 1.07633\n",
      "[4600]\tvalid_0's rmse: 0.959448\tvalid_1's rmse: 1.07598\n",
      "[4700]\tvalid_0's rmse: 0.956821\tvalid_1's rmse: 1.07564\n",
      "[4800]\tvalid_0's rmse: 0.954266\tvalid_1's rmse: 1.07509\n",
      "[4900]\tvalid_0's rmse: 0.951705\tvalid_1's rmse: 1.07465\n",
      "[5000]\tvalid_0's rmse: 0.949272\tvalid_1's rmse: 1.07412\n",
      "[5100]\tvalid_0's rmse: 0.946755\tvalid_1's rmse: 1.07378\n",
      "[5200]\tvalid_0's rmse: 0.944201\tvalid_1's rmse: 1.0733\n",
      "[5300]\tvalid_0's rmse: 0.941773\tvalid_1's rmse: 1.07289\n",
      "[5400]\tvalid_0's rmse: 0.939326\tvalid_1's rmse: 1.07243\n",
      "[5500]\tvalid_0's rmse: 0.936917\tvalid_1's rmse: 1.07209\n",
      "[5600]\tvalid_0's rmse: 0.93444\tvalid_1's rmse: 1.07153\n",
      "[5700]\tvalid_0's rmse: 0.932173\tvalid_1's rmse: 1.07101\n",
      "[5800]\tvalid_0's rmse: 0.929852\tvalid_1's rmse: 1.07056\n",
      "[5900]\tvalid_0's rmse: 0.927616\tvalid_1's rmse: 1.07026\n",
      "[6000]\tvalid_0's rmse: 0.925367\tvalid_1's rmse: 1.06983\n",
      "[6100]\tvalid_0's rmse: 0.923208\tvalid_1's rmse: 1.06954\n",
      "[6200]\tvalid_0's rmse: 0.920966\tvalid_1's rmse: 1.06941\n",
      "[6300]\tvalid_0's rmse: 0.918751\tvalid_1's rmse: 1.06893\n",
      "[6400]\tvalid_0's rmse: 0.916701\tvalid_1's rmse: 1.06894\n",
      "[6500]\tvalid_0's rmse: 0.914569\tvalid_1's rmse: 1.06855\n",
      "[6600]\tvalid_0's rmse: 0.912553\tvalid_1's rmse: 1.06821\n",
      "[6700]\tvalid_0's rmse: 0.910399\tvalid_1's rmse: 1.06808\n",
      "[6800]\tvalid_0's rmse: 0.908354\tvalid_1's rmse: 1.06785\n",
      "[6900]\tvalid_0's rmse: 0.906228\tvalid_1's rmse: 1.06768\n",
      "[7000]\tvalid_0's rmse: 0.904267\tvalid_1's rmse: 1.06743\n",
      "[7100]\tvalid_0's rmse: 0.902252\tvalid_1's rmse: 1.06728\n",
      "[7200]\tvalid_0's rmse: 0.900334\tvalid_1's rmse: 1.06725\n",
      "[7300]\tvalid_0's rmse: 0.898436\tvalid_1's rmse: 1.06698\n",
      "[7400]\tvalid_0's rmse: 0.896482\tvalid_1's rmse: 1.06663\n",
      "[7500]\tvalid_0's rmse: 0.894655\tvalid_1's rmse: 1.06649\n",
      "[7600]\tvalid_0's rmse: 0.892789\tvalid_1's rmse: 1.06632\n",
      "[7700]\tvalid_0's rmse: 0.890884\tvalid_1's rmse: 1.06621\n",
      "[7800]\tvalid_0's rmse: 0.888967\tvalid_1's rmse: 1.06599\n",
      "[7900]\tvalid_0's rmse: 0.887111\tvalid_1's rmse: 1.0656\n",
      "[8000]\tvalid_0's rmse: 0.885256\tvalid_1's rmse: 1.06531\n",
      "[8100]\tvalid_0's rmse: 0.883511\tvalid_1's rmse: 1.06498\n",
      "[8200]\tvalid_0's rmse: 0.881789\tvalid_1's rmse: 1.06465\n",
      "[8300]\tvalid_0's rmse: 0.880127\tvalid_1's rmse: 1.06463\n",
      "[8400]\tvalid_0's rmse: 0.878398\tvalid_1's rmse: 1.06424\n",
      "[8500]\tvalid_0's rmse: 0.876576\tvalid_1's rmse: 1.06395\n",
      "[8600]\tvalid_0's rmse: 0.874882\tvalid_1's rmse: 1.06384\n",
      "[8700]\tvalid_0's rmse: 0.87313\tvalid_1's rmse: 1.0636\n",
      "[8800]\tvalid_0's rmse: 0.871452\tvalid_1's rmse: 1.06331\n",
      "[8900]\tvalid_0's rmse: 0.869759\tvalid_1's rmse: 1.06308\n",
      "[9000]\tvalid_0's rmse: 0.868139\tvalid_1's rmse: 1.06289\n",
      "Early stopping, best iteration is:\n",
      "[8948]\tvalid_0's rmse: 0.868964\tvalid_1's rmse: 1.06284\n"
     ]
    },
    {
     "name": "stderr",
     "output_type": "stream",
     "text": [
      "num_leaves, val_score: 1.013287:  75%|#######5  | 15/20 [11:54<02:50, 34.18s/it]\u001b[32m[I 2021-03-08 02:01:05,070]\u001b[0m Trial 21 finished with value: 1.062839114607807 and parameters: {'num_leaves': 3}. Best is trial 8 with value: 1.0132867804439716.\u001b[0m\n",
      "num_leaves, val_score: 1.013287:  75%|#######5  | 15/20 [11:54<02:50, 34.18s/it]"
     ]
    },
    {
     "name": "stdout",
     "output_type": "stream",
     "text": [
      "Training until validation scores don't improve for 100 rounds\n",
      "[100]\tvalid_0's rmse: 1.06529\tvalid_1's rmse: 1.21117\n",
      "[200]\tvalid_0's rmse: 0.801345\tvalid_1's rmse: 1.08208\n",
      "[300]\tvalid_0's rmse: 0.663642\tvalid_1's rmse: 1.04895\n",
      "[400]\tvalid_0's rmse: 0.568282\tvalid_1's rmse: 1.0362\n",
      "[500]\tvalid_0's rmse: 0.492994\tvalid_1's rmse: 1.02895\n",
      "[600]\tvalid_0's rmse: 0.431799\tvalid_1's rmse: 1.02531\n",
      "[700]\tvalid_0's rmse: 0.381945\tvalid_1's rmse: 1.02285\n",
      "[800]\tvalid_0's rmse: 0.34026\tvalid_1's rmse: 1.02184\n",
      "[900]\tvalid_0's rmse: 0.305566\tvalid_1's rmse: 1.02093\n",
      "[1000]\tvalid_0's rmse: 0.276614\tvalid_1's rmse: 1.02032\n",
      "[1100]\tvalid_0's rmse: 0.252129\tvalid_1's rmse: 1.01992\n",
      "[1200]\tvalid_0's rmse: 0.231658\tvalid_1's rmse: 1.01997\n",
      "[1300]\tvalid_0's rmse: 0.214148\tvalid_1's rmse: 1.01972\n",
      "[1400]\tvalid_0's rmse: 0.199357\tvalid_1's rmse: 1.01979\n",
      "Early stopping, best iteration is:\n",
      "[1306]\tvalid_0's rmse: 0.213224\tvalid_1's rmse: 1.01967\n"
     ]
    },
    {
     "name": "stderr",
     "output_type": "stream",
     "text": [
      "num_leaves, val_score: 1.013287:  80%|########  | 16/20 [12:45<02:37, 39.37s/it]\u001b[32m[I 2021-03-08 02:01:56,537]\u001b[0m Trial 22 finished with value: 1.019668902993568 and parameters: {'num_leaves': 116}. Best is trial 8 with value: 1.0132867804439716.\u001b[0m\n",
      "num_leaves, val_score: 1.013287:  80%|########  | 16/20 [12:45<02:37, 39.37s/it]"
     ]
    },
    {
     "name": "stdout",
     "output_type": "stream",
     "text": [
      "Training until validation scores don't improve for 100 rounds\n",
      "[100]\tvalid_0's rmse: 1.1767\tvalid_1's rmse: 1.22897\n",
      "[200]\tvalid_0's rmse: 0.996428\tvalid_1's rmse: 1.10564\n",
      "[300]\tvalid_0's rmse: 0.913034\tvalid_1's rmse: 1.07169\n",
      "[400]\tvalid_0's rmse: 0.853694\tvalid_1's rmse: 1.05754\n",
      "[500]\tvalid_0's rmse: 0.804275\tvalid_1's rmse: 1.04893\n",
      "[600]\tvalid_0's rmse: 0.760525\tvalid_1's rmse: 1.0433\n",
      "[700]\tvalid_0's rmse: 0.721391\tvalid_1's rmse: 1.03875\n",
      "[800]\tvalid_0's rmse: 0.685817\tvalid_1's rmse: 1.03502\n",
      "[900]\tvalid_0's rmse: 0.653524\tvalid_1's rmse: 1.03163\n",
      "[1000]\tvalid_0's rmse: 0.623854\tvalid_1's rmse: 1.0289\n",
      "[1100]\tvalid_0's rmse: 0.595984\tvalid_1's rmse: 1.02694\n",
      "[1200]\tvalid_0's rmse: 0.570511\tvalid_1's rmse: 1.02559\n",
      "[1300]\tvalid_0's rmse: 0.547005\tvalid_1's rmse: 1.02398\n",
      "[1400]\tvalid_0's rmse: 0.524683\tvalid_1's rmse: 1.02288\n",
      "[1500]\tvalid_0's rmse: 0.504215\tvalid_1's rmse: 1.02162\n",
      "[1600]\tvalid_0's rmse: 0.484753\tvalid_1's rmse: 1.0205\n",
      "[1700]\tvalid_0's rmse: 0.466494\tvalid_1's rmse: 1.01969\n",
      "[1800]\tvalid_0's rmse: 0.449216\tvalid_1's rmse: 1.01897\n",
      "[1900]\tvalid_0's rmse: 0.433068\tvalid_1's rmse: 1.01861\n",
      "[2000]\tvalid_0's rmse: 0.417824\tvalid_1's rmse: 1.01815\n",
      "[2100]\tvalid_0's rmse: 0.403473\tvalid_1's rmse: 1.0177\n",
      "[2200]\tvalid_0's rmse: 0.389813\tvalid_1's rmse: 1.01722\n",
      "[2300]\tvalid_0's rmse: 0.377122\tvalid_1's rmse: 1.01709\n",
      "[2400]\tvalid_0's rmse: 0.364941\tvalid_1's rmse: 1.01685\n",
      "[2500]\tvalid_0's rmse: 0.353333\tvalid_1's rmse: 1.01649\n",
      "Early stopping, best iteration is:\n",
      "[2467]\tvalid_0's rmse: 0.357027\tvalid_1's rmse: 1.01642\n"
     ]
    },
    {
     "name": "stderr",
     "output_type": "stream",
     "text": [
      "num_leaves, val_score: 1.013287:  85%|########5 | 17/20 [13:20<01:53, 37.99s/it]\u001b[32m[I 2021-03-08 02:02:31,307]\u001b[0m Trial 23 finished with value: 1.0164208650159887 and parameters: {'num_leaves': 35}. Best is trial 8 with value: 1.0132867804439716.\u001b[0m\n",
      "num_leaves, val_score: 1.013287:  85%|########5 | 17/20 [13:20<01:53, 37.99s/it]"
     ]
    },
    {
     "name": "stdout",
     "output_type": "stream",
     "text": [
      "Training until validation scores don't improve for 100 rounds\n",
      "[100]\tvalid_0's rmse: 1.13847\tvalid_1's rmse: 1.22227\n",
      "[200]\tvalid_0's rmse: 0.929921\tvalid_1's rmse: 1.09493\n",
      "[300]\tvalid_0's rmse: 0.826929\tvalid_1's rmse: 1.06056\n",
      "[400]\tvalid_0's rmse: 0.753466\tvalid_1's rmse: 1.04683\n",
      "[500]\tvalid_0's rmse: 0.692197\tvalid_1's rmse: 1.03928\n",
      "[600]\tvalid_0's rmse: 0.639433\tvalid_1's rmse: 1.03341\n",
      "[700]\tvalid_0's rmse: 0.593275\tvalid_1's rmse: 1.02966\n",
      "[800]\tvalid_0's rmse: 0.552318\tvalid_1's rmse: 1.02663\n",
      "[900]\tvalid_0's rmse: 0.515388\tvalid_1's rmse: 1.02444\n",
      "[1000]\tvalid_0's rmse: 0.48205\tvalid_1's rmse: 1.02249\n",
      "[1100]\tvalid_0's rmse: 0.452111\tvalid_1's rmse: 1.02121\n",
      "[1200]\tvalid_0's rmse: 0.42486\tvalid_1's rmse: 1.02038\n",
      "[1300]\tvalid_0's rmse: 0.400296\tvalid_1's rmse: 1.01988\n",
      "[1400]\tvalid_0's rmse: 0.377681\tvalid_1's rmse: 1.01927\n",
      "[1500]\tvalid_0's rmse: 0.357336\tvalid_1's rmse: 1.01934\n",
      "Early stopping, best iteration is:\n",
      "[1427]\tvalid_0's rmse: 0.372012\tvalid_1's rmse: 1.0192\n"
     ]
    },
    {
     "name": "stderr",
     "output_type": "stream",
     "text": [
      "num_leaves, val_score: 1.013287:  90%|######### | 18/20 [13:50<01:11, 35.70s/it]\u001b[32m[I 2021-03-08 02:03:01,661]\u001b[0m Trial 24 finished with value: 1.0191987926287058 and parameters: {'num_leaves': 56}. Best is trial 8 with value: 1.0132867804439716.\u001b[0m\n",
      "num_leaves, val_score: 1.013287:  90%|######### | 18/20 [13:50<01:11, 35.70s/it]"
     ]
    },
    {
     "name": "stdout",
     "output_type": "stream",
     "text": [
      "Training until validation scores don't improve for 100 rounds\n",
      "[100]\tvalid_0's rmse: 1.0587\tvalid_1's rmse: 1.21064\n",
      "[200]\tvalid_0's rmse: 0.790214\tvalid_1's rmse: 1.08166\n",
      "[300]\tvalid_0's rmse: 0.650024\tvalid_1's rmse: 1.04799\n",
      "[400]\tvalid_0's rmse: 0.553284\tvalid_1's rmse: 1.03648\n",
      "[500]\tvalid_0's rmse: 0.477647\tvalid_1's rmse: 1.03058\n",
      "[600]\tvalid_0's rmse: 0.416599\tvalid_1's rmse: 1.02664\n",
      "[700]\tvalid_0's rmse: 0.366769\tvalid_1's rmse: 1.02404\n",
      "[800]\tvalid_0's rmse: 0.325931\tvalid_1's rmse: 1.02249\n",
      "[900]\tvalid_0's rmse: 0.291995\tvalid_1's rmse: 1.02153\n",
      "[1000]\tvalid_0's rmse: 0.263813\tvalid_1's rmse: 1.02068\n",
      "[1100]\tvalid_0's rmse: 0.240351\tvalid_1's rmse: 1.02056\n",
      "[1200]\tvalid_0's rmse: 0.220676\tvalid_1's rmse: 1.02042\n",
      "[1300]\tvalid_0's rmse: 0.204133\tvalid_1's rmse: 1.02037\n",
      "[1400]\tvalid_0's rmse: 0.190099\tvalid_1's rmse: 1.02016\n",
      "[1500]\tvalid_0's rmse: 0.178182\tvalid_1's rmse: 1.02002\n",
      "[1600]\tvalid_0's rmse: 0.167855\tvalid_1's rmse: 1.01994\n",
      "[1700]\tvalid_0's rmse: 0.158627\tvalid_1's rmse: 1.02001\n",
      "Early stopping, best iteration is:\n",
      "[1639]\tvalid_0's rmse: 0.164149\tvalid_1's rmse: 1.01983\n"
     ]
    },
    {
     "name": "stderr",
     "output_type": "stream",
     "text": [
      "num_leaves, val_score: 1.013287:  95%|#########5| 19/20 [14:54<00:44, 44.16s/it]\u001b[32m[I 2021-03-08 02:04:05,552]\u001b[0m Trial 25 finished with value: 1.0198298105010555 and parameters: {'num_leaves': 123}. Best is trial 8 with value: 1.0132867804439716.\u001b[0m\n",
      "num_leaves, val_score: 1.013287:  95%|#########5| 19/20 [14:54<00:44, 44.16s/it]"
     ]
    },
    {
     "name": "stdout",
     "output_type": "stream",
     "text": [
      "Training until validation scores don't improve for 100 rounds\n",
      "[100]\tvalid_0's rmse: 1.15167\tvalid_1's rmse: 1.22495\n",
      "[200]\tvalid_0's rmse: 0.953248\tvalid_1's rmse: 1.09932\n",
      "[300]\tvalid_0's rmse: 0.857051\tvalid_1's rmse: 1.06392\n",
      "[400]\tvalid_0's rmse: 0.788209\tvalid_1's rmse: 1.05052\n",
      "[500]\tvalid_0's rmse: 0.730843\tvalid_1's rmse: 1.04216\n",
      "[600]\tvalid_0's rmse: 0.681151\tvalid_1's rmse: 1.03655\n",
      "[700]\tvalid_0's rmse: 0.637074\tvalid_1's rmse: 1.03248\n",
      "[800]\tvalid_0's rmse: 0.597841\tvalid_1's rmse: 1.02929\n",
      "[900]\tvalid_0's rmse: 0.562118\tvalid_1's rmse: 1.02662\n",
      "[1000]\tvalid_0's rmse: 0.529512\tvalid_1's rmse: 1.0241\n",
      "[1100]\tvalid_0's rmse: 0.499766\tvalid_1's rmse: 1.0229\n",
      "[1200]\tvalid_0's rmse: 0.472721\tvalid_1's rmse: 1.02161\n",
      "[1300]\tvalid_0's rmse: 0.448095\tvalid_1's rmse: 1.02072\n",
      "[1400]\tvalid_0's rmse: 0.425432\tvalid_1's rmse: 1.01952\n",
      "[1500]\tvalid_0's rmse: 0.404722\tvalid_1's rmse: 1.01885\n",
      "[1600]\tvalid_0's rmse: 0.385229\tvalid_1's rmse: 1.01815\n",
      "[1700]\tvalid_0's rmse: 0.367444\tvalid_1's rmse: 1.01763\n",
      "[1800]\tvalid_0's rmse: 0.350935\tvalid_1's rmse: 1.01713\n",
      "[1900]\tvalid_0's rmse: 0.335693\tvalid_1's rmse: 1.01693\n",
      "[2000]\tvalid_0's rmse: 0.321526\tvalid_1's rmse: 1.01665\n",
      "[2100]\tvalid_0's rmse: 0.308414\tvalid_1's rmse: 1.01637\n",
      "[2200]\tvalid_0's rmse: 0.296056\tvalid_1's rmse: 1.01626\n",
      "[2300]\tvalid_0's rmse: 0.284752\tvalid_1's rmse: 1.01602\n",
      "[2400]\tvalid_0's rmse: 0.274126\tvalid_1's rmse: 1.01596\n",
      "Early stopping, best iteration is:\n",
      "[2355]\tvalid_0's rmse: 0.278781\tvalid_1's rmse: 1.01591\n"
     ]
    },
    {
     "name": "stderr",
     "output_type": "stream",
     "text": [
      "num_leaves, val_score: 1.013287: 100%|##########| 20/20 [15:36<00:00, 43.58s/it]\u001b[32m[I 2021-03-08 02:04:47,793]\u001b[0m Trial 26 finished with value: 1.0159084218338696 and parameters: {'num_leaves': 48}. Best is trial 8 with value: 1.0132867804439716.\u001b[0m\n",
      "num_leaves, val_score: 1.013287: 100%|##########| 20/20 [15:36<00:00, 46.84s/it]\n",
      "bagging, val_score: 1.013287:   0%|          | 0/10 [00:00<?, ?it/s]"
     ]
    },
    {
     "name": "stdout",
     "output_type": "stream",
     "text": [
      "Training until validation scores don't improve for 100 rounds\n",
      "[100]\tvalid_0's rmse: 1.18094\tvalid_1's rmse: 1.23325\n",
      "[200]\tvalid_0's rmse: 1.00439\tvalid_1's rmse: 1.11292\n",
      "[300]\tvalid_0's rmse: 0.922442\tvalid_1's rmse: 1.08013\n",
      "[400]\tvalid_0's rmse: 0.864703\tvalid_1's rmse: 1.06514\n",
      "[500]\tvalid_0's rmse: 0.81649\tvalid_1's rmse: 1.05506\n",
      "[600]\tvalid_0's rmse: 0.774238\tvalid_1's rmse: 1.04817\n",
      "[700]\tvalid_0's rmse: 0.736182\tvalid_1's rmse: 1.04299\n",
      "[800]\tvalid_0's rmse: 0.701403\tvalid_1's rmse: 1.03955\n",
      "[900]\tvalid_0's rmse: 0.669774\tvalid_1's rmse: 1.03599\n",
      "[1000]\tvalid_0's rmse: 0.640342\tvalid_1's rmse: 1.03268\n",
      "[1100]\tvalid_0's rmse: 0.612736\tvalid_1's rmse: 1.03066\n",
      "[1200]\tvalid_0's rmse: 0.587267\tvalid_1's rmse: 1.02883\n",
      "[1300]\tvalid_0's rmse: 0.563726\tvalid_1's rmse: 1.02735\n",
      "[1400]\tvalid_0's rmse: 0.541644\tvalid_1's rmse: 1.02564\n",
      "[1500]\tvalid_0's rmse: 0.520912\tvalid_1's rmse: 1.02434\n",
      "[1600]\tvalid_0's rmse: 0.50099\tvalid_1's rmse: 1.02411\n",
      "[1700]\tvalid_0's rmse: 0.482597\tvalid_1's rmse: 1.02324\n",
      "[1800]\tvalid_0's rmse: 0.465716\tvalid_1's rmse: 1.02224\n",
      "[1900]\tvalid_0's rmse: 0.449185\tvalid_1's rmse: 1.02137\n",
      "[2000]\tvalid_0's rmse: 0.433909\tvalid_1's rmse: 1.02106\n",
      "[2100]\tvalid_0's rmse: 0.419507\tvalid_1's rmse: 1.02054\n",
      "[2200]\tvalid_0's rmse: 0.405597\tvalid_1's rmse: 1.02064\n",
      "Early stopping, best iteration is:\n",
      "[2113]\tvalid_0's rmse: 0.417687\tvalid_1's rmse: 1.0204\n"
     ]
    },
    {
     "name": "stderr",
     "output_type": "stream",
     "text": [
      "bagging, val_score: 1.013287:  10%|#         | 1/10 [00:27<04:11, 27.98s/it]\u001b[32m[I 2021-03-08 02:05:15,801]\u001b[0m Trial 27 finished with value: 1.0204019270532465 and parameters: {'bagging_fraction': 0.54180469660988, 'bagging_freq': 5}. Best is trial 27 with value: 1.0204019270532465.\u001b[0m\n",
      "bagging, val_score: 1.013287:  10%|#         | 1/10 [00:27<04:11, 27.98s/it]"
     ]
    },
    {
     "name": "stdout",
     "output_type": "stream",
     "text": [
      "Training until validation scores don't improve for 100 rounds\n",
      "[100]\tvalid_0's rmse: 1.18248\tvalid_1's rmse: 1.23414\n",
      "[200]\tvalid_0's rmse: 1.00541\tvalid_1's rmse: 1.11147\n",
      "[300]\tvalid_0's rmse: 0.923358\tvalid_1's rmse: 1.07849\n",
      "[400]\tvalid_0's rmse: 0.865925\tvalid_1's rmse: 1.06583\n",
      "[500]\tvalid_0's rmse: 0.818419\tvalid_1's rmse: 1.05676\n",
      "[600]\tvalid_0's rmse: 0.775423\tvalid_1's rmse: 1.0487\n",
      "[700]\tvalid_0's rmse: 0.736484\tvalid_1's rmse: 1.04404\n",
      "[800]\tvalid_0's rmse: 0.701618\tvalid_1's rmse: 1.03956\n",
      "[900]\tvalid_0's rmse: 0.66957\tvalid_1's rmse: 1.03562\n",
      "[1000]\tvalid_0's rmse: 0.640017\tvalid_1's rmse: 1.0329\n",
      "[1100]\tvalid_0's rmse: 0.613004\tvalid_1's rmse: 1.03051\n",
      "[1200]\tvalid_0's rmse: 0.587819\tvalid_1's rmse: 1.02835\n",
      "[1300]\tvalid_0's rmse: 0.564225\tvalid_1's rmse: 1.02633\n",
      "[1400]\tvalid_0's rmse: 0.542191\tvalid_1's rmse: 1.02508\n",
      "[1500]\tvalid_0's rmse: 0.521511\tvalid_1's rmse: 1.0238\n",
      "[1600]\tvalid_0's rmse: 0.501937\tvalid_1's rmse: 1.02278\n",
      "[1700]\tvalid_0's rmse: 0.483578\tvalid_1's rmse: 1.02179\n",
      "[1800]\tvalid_0's rmse: 0.466261\tvalid_1's rmse: 1.02162\n",
      "[1900]\tvalid_0's rmse: 0.449906\tvalid_1's rmse: 1.02138\n",
      "[2000]\tvalid_0's rmse: 0.434549\tvalid_1's rmse: 1.0209\n",
      "[2100]\tvalid_0's rmse: 0.42015\tvalid_1's rmse: 1.02071\n",
      "[2200]\tvalid_0's rmse: 0.406417\tvalid_1's rmse: 1.02044\n",
      "[2300]\tvalid_0's rmse: 0.393424\tvalid_1's rmse: 1.01997\n",
      "[2400]\tvalid_0's rmse: 0.381046\tvalid_1's rmse: 1.01944\n",
      "[2500]\tvalid_0's rmse: 0.36905\tvalid_1's rmse: 1.01915\n",
      "Early stopping, best iteration is:\n",
      "[2461]\tvalid_0's rmse: 0.373634\tvalid_1's rmse: 1.01908\n"
     ]
    },
    {
     "name": "stderr",
     "output_type": "stream",
     "text": [
      "bagging, val_score: 1.013287:  20%|##        | 2/10 [01:00<03:55, 29.42s/it]\u001b[32m[I 2021-03-08 02:05:48,592]\u001b[0m Trial 28 finished with value: 1.0190793737126718 and parameters: {'bagging_fraction': 0.5195249869803895, 'bagging_freq': 6}. Best is trial 28 with value: 1.0190793737126718.\u001b[0m\n",
      "bagging, val_score: 1.013287:  20%|##        | 2/10 [01:00<03:55, 29.42s/it]"
     ]
    },
    {
     "name": "stdout",
     "output_type": "stream",
     "text": [
      "Training until validation scores don't improve for 100 rounds\n",
      "[100]\tvalid_0's rmse: 1.18213\tvalid_1's rmse: 1.23306\n",
      "[200]\tvalid_0's rmse: 1.00395\tvalid_1's rmse: 1.10776\n",
      "[300]\tvalid_0's rmse: 0.9217\tvalid_1's rmse: 1.07296\n",
      "[400]\tvalid_0's rmse: 0.864235\tvalid_1's rmse: 1.0584\n",
      "[500]\tvalid_0's rmse: 0.815362\tvalid_1's rmse: 1.0485\n",
      "[600]\tvalid_0's rmse: 0.77273\tvalid_1's rmse: 1.04143\n",
      "[700]\tvalid_0's rmse: 0.734429\tvalid_1's rmse: 1.0366\n",
      "[800]\tvalid_0's rmse: 0.700206\tvalid_1's rmse: 1.03331\n",
      "[900]\tvalid_0's rmse: 0.668594\tvalid_1's rmse: 1.02993\n",
      "[1000]\tvalid_0's rmse: 0.639309\tvalid_1's rmse: 1.02778\n",
      "[1100]\tvalid_0's rmse: 0.611658\tvalid_1's rmse: 1.02485\n",
      "[1200]\tvalid_0's rmse: 0.586441\tvalid_1's rmse: 1.02291\n",
      "[1300]\tvalid_0's rmse: 0.562892\tvalid_1's rmse: 1.02186\n",
      "[1400]\tvalid_0's rmse: 0.54086\tvalid_1's rmse: 1.02081\n",
      "[1500]\tvalid_0's rmse: 0.52041\tvalid_1's rmse: 1.01931\n",
      "[1600]\tvalid_0's rmse: 0.500963\tvalid_1's rmse: 1.01816\n",
      "[1700]\tvalid_0's rmse: 0.482776\tvalid_1's rmse: 1.01734\n",
      "[1800]\tvalid_0's rmse: 0.465468\tvalid_1's rmse: 1.01676\n",
      "[1900]\tvalid_0's rmse: 0.449118\tvalid_1's rmse: 1.01624\n",
      "[2000]\tvalid_0's rmse: 0.433633\tvalid_1's rmse: 1.01552\n",
      "[2100]\tvalid_0's rmse: 0.419026\tvalid_1's rmse: 1.01518\n",
      "[2200]\tvalid_0's rmse: 0.405006\tvalid_1's rmse: 1.01448\n",
      "[2300]\tvalid_0's rmse: 0.391935\tvalid_1's rmse: 1.01409\n",
      "[2400]\tvalid_0's rmse: 0.379469\tvalid_1's rmse: 1.01364\n",
      "[2500]\tvalid_0's rmse: 0.367542\tvalid_1's rmse: 1.01327\n",
      "[2600]\tvalid_0's rmse: 0.356309\tvalid_1's rmse: 1.01327\n",
      "[2700]\tvalid_0's rmse: 0.345869\tvalid_1's rmse: 1.01325\n",
      "[2800]\tvalid_0's rmse: 0.33568\tvalid_1's rmse: 1.01287\n",
      "[2900]\tvalid_0's rmse: 0.326179\tvalid_1's rmse: 1.01212\n",
      "[3000]\tvalid_0's rmse: 0.317112\tvalid_1's rmse: 1.01181\n",
      "[3100]\tvalid_0's rmse: 0.308413\tvalid_1's rmse: 1.01192\n",
      "Early stopping, best iteration is:\n",
      "[3031]\tvalid_0's rmse: 0.314404\tvalid_1's rmse: 1.01176\n"
     ]
    },
    {
     "name": "stderr",
     "output_type": "stream",
     "text": [
      "bagging, val_score: 1.011763:  30%|###       | 3/10 [01:39<03:45, 32.19s/it]\u001b[32m[I 2021-03-08 02:06:27,240]\u001b[0m Trial 29 finished with value: 1.011763230305981 and parameters: {'bagging_fraction': 0.5228707329277262, 'bagging_freq': 1}. Best is trial 29 with value: 1.011763230305981.\u001b[0m\n",
      "bagging, val_score: 1.011763:  30%|###       | 3/10 [01:39<03:45, 32.19s/it]"
     ]
    },
    {
     "name": "stdout",
     "output_type": "stream",
     "text": [
      "Training until validation scores don't improve for 100 rounds\n",
      "[100]\tvalid_0's rmse: 1.17555\tvalid_1's rmse: 1.22742\n",
      "[200]\tvalid_0's rmse: 0.997081\tvalid_1's rmse: 1.10367\n",
      "[300]\tvalid_0's rmse: 0.915044\tvalid_1's rmse: 1.06991\n",
      "[400]\tvalid_0's rmse: 0.856344\tvalid_1's rmse: 1.05732\n",
      "[500]\tvalid_0's rmse: 0.807214\tvalid_1's rmse: 1.04993\n",
      "[600]\tvalid_0's rmse: 0.763842\tvalid_1's rmse: 1.04376\n",
      "[700]\tvalid_0's rmse: 0.725254\tvalid_1's rmse: 1.03909\n",
      "[800]\tvalid_0's rmse: 0.690036\tvalid_1's rmse: 1.03534\n",
      "[900]\tvalid_0's rmse: 0.658417\tvalid_1's rmse: 1.03258\n",
      "[1000]\tvalid_0's rmse: 0.628913\tvalid_1's rmse: 1.03046\n",
      "[1100]\tvalid_0's rmse: 0.601688\tvalid_1's rmse: 1.02795\n",
      "[1200]\tvalid_0's rmse: 0.576765\tvalid_1's rmse: 1.02625\n",
      "[1300]\tvalid_0's rmse: 0.553506\tvalid_1's rmse: 1.02438\n",
      "[1400]\tvalid_0's rmse: 0.531776\tvalid_1's rmse: 1.02291\n",
      "[1500]\tvalid_0's rmse: 0.511384\tvalid_1's rmse: 1.02164\n",
      "[1600]\tvalid_0's rmse: 0.492373\tvalid_1's rmse: 1.02041\n",
      "[1700]\tvalid_0's rmse: 0.474781\tvalid_1's rmse: 1.02009\n",
      "[1800]\tvalid_0's rmse: 0.458021\tvalid_1's rmse: 1.01947\n",
      "[1900]\tvalid_0's rmse: 0.441876\tvalid_1's rmse: 1.01844\n",
      "[2000]\tvalid_0's rmse: 0.427006\tvalid_1's rmse: 1.0183\n",
      "[2100]\tvalid_0's rmse: 0.412595\tvalid_1's rmse: 1.01784\n",
      "[2200]\tvalid_0's rmse: 0.399247\tvalid_1's rmse: 1.01778\n",
      "[2300]\tvalid_0's rmse: 0.386624\tvalid_1's rmse: 1.01709\n",
      "[2400]\tvalid_0's rmse: 0.374322\tvalid_1's rmse: 1.01688\n",
      "[2500]\tvalid_0's rmse: 0.362859\tvalid_1's rmse: 1.0168\n",
      "[2600]\tvalid_0's rmse: 0.352148\tvalid_1's rmse: 1.01648\n",
      "[2700]\tvalid_0's rmse: 0.34234\tvalid_1's rmse: 1.01615\n",
      "[2800]\tvalid_0's rmse: 0.332233\tvalid_1's rmse: 1.01621\n",
      "Early stopping, best iteration is:\n",
      "[2742]\tvalid_0's rmse: 0.33812\tvalid_1's rmse: 1.01606\n"
     ]
    },
    {
     "name": "stderr",
     "output_type": "stream",
     "text": [
      "bagging, val_score: 1.011763:  40%|####      | 4/10 [02:21<03:31, 35.17s/it]\u001b[32m[I 2021-03-08 02:07:09,361]\u001b[0m Trial 30 finished with value: 1.016059118876122 and parameters: {'bagging_fraction': 0.86520569264213, 'bagging_freq': 2}. Best is trial 29 with value: 1.011763230305981.\u001b[0m\n",
      "bagging, val_score: 1.011763:  40%|####      | 4/10 [02:21<03:31, 35.17s/it]"
     ]
    },
    {
     "name": "stdout",
     "output_type": "stream",
     "text": [
      "Training until validation scores don't improve for 100 rounds\n",
      "[100]\tvalid_0's rmse: 1.17851\tvalid_1's rmse: 1.22998\n",
      "[200]\tvalid_0's rmse: 1.00114\tvalid_1's rmse: 1.10761\n",
      "[300]\tvalid_0's rmse: 0.919263\tvalid_1's rmse: 1.07475\n",
      "[400]\tvalid_0's rmse: 0.861193\tvalid_1's rmse: 1.06268\n",
      "[500]\tvalid_0's rmse: 0.813206\tvalid_1's rmse: 1.05397\n",
      "[600]\tvalid_0's rmse: 0.769721\tvalid_1's rmse: 1.04782\n",
      "[700]\tvalid_0's rmse: 0.731\tvalid_1's rmse: 1.04327\n",
      "[800]\tvalid_0's rmse: 0.695813\tvalid_1's rmse: 1.03863\n",
      "[900]\tvalid_0's rmse: 0.663721\tvalid_1's rmse: 1.03595\n",
      "[1000]\tvalid_0's rmse: 0.634028\tvalid_1's rmse: 1.03337\n",
      "[1100]\tvalid_0's rmse: 0.606456\tvalid_1's rmse: 1.03099\n",
      "[1200]\tvalid_0's rmse: 0.581371\tvalid_1's rmse: 1.0293\n",
      "[1300]\tvalid_0's rmse: 0.557534\tvalid_1's rmse: 1.02787\n",
      "[1400]\tvalid_0's rmse: 0.535779\tvalid_1's rmse: 1.02695\n",
      "[1500]\tvalid_0's rmse: 0.515276\tvalid_1's rmse: 1.02596\n",
      "[1600]\tvalid_0's rmse: 0.495824\tvalid_1's rmse: 1.02531\n",
      "[1700]\tvalid_0's rmse: 0.477901\tvalid_1's rmse: 1.02486\n",
      "[1800]\tvalid_0's rmse: 0.460703\tvalid_1's rmse: 1.02415\n",
      "[1900]\tvalid_0's rmse: 0.444546\tvalid_1's rmse: 1.02346\n",
      "[2000]\tvalid_0's rmse: 0.429202\tvalid_1's rmse: 1.02275\n",
      "[2100]\tvalid_0's rmse: 0.414563\tvalid_1's rmse: 1.02252\n",
      "[2200]\tvalid_0's rmse: 0.400854\tvalid_1's rmse: 1.02175\n",
      "[2300]\tvalid_0's rmse: 0.387621\tvalid_1's rmse: 1.0213\n",
      "[2400]\tvalid_0's rmse: 0.375279\tvalid_1's rmse: 1.02099\n",
      "Early stopping, best iteration is:\n",
      "[2376]\tvalid_0's rmse: 0.378196\tvalid_1's rmse: 1.02091\n"
     ]
    },
    {
     "name": "stderr",
     "output_type": "stream",
     "text": [
      "bagging, val_score: 1.011763:  50%|#####     | 5/10 [02:53<02:51, 34.27s/it]\u001b[32m[I 2021-03-08 02:07:41,525]\u001b[0m Trial 31 finished with value: 1.0209115828105684 and parameters: {'bagging_fraction': 0.6473047880431451, 'bagging_freq': 6}. Best is trial 29 with value: 1.011763230305981.\u001b[0m\n",
      "bagging, val_score: 1.011763:  50%|#####     | 5/10 [02:53<02:51, 34.27s/it]"
     ]
    },
    {
     "name": "stdout",
     "output_type": "stream",
     "text": [
      "Training until validation scores don't improve for 100 rounds\n",
      "[100]\tvalid_0's rmse: 1.18329\tvalid_1's rmse: 1.2342\n",
      "[200]\tvalid_0's rmse: 1.00649\tvalid_1's rmse: 1.11092\n",
      "[300]\tvalid_0's rmse: 0.924237\tvalid_1's rmse: 1.07598\n",
      "[400]\tvalid_0's rmse: 0.866252\tvalid_1's rmse: 1.06057\n",
      "[500]\tvalid_0's rmse: 0.818069\tvalid_1's rmse: 1.04958\n",
      "[600]\tvalid_0's rmse: 0.776438\tvalid_1's rmse: 1.0435\n",
      "[700]\tvalid_0's rmse: 0.738072\tvalid_1's rmse: 1.03895\n",
      "[800]\tvalid_0's rmse: 0.703378\tvalid_1's rmse: 1.03528\n",
      "[900]\tvalid_0's rmse: 0.671307\tvalid_1's rmse: 1.0309\n",
      "[1000]\tvalid_0's rmse: 0.642017\tvalid_1's rmse: 1.02815\n",
      "[1100]\tvalid_0's rmse: 0.614786\tvalid_1's rmse: 1.02665\n",
      "[1200]\tvalid_0's rmse: 0.589378\tvalid_1's rmse: 1.02524\n",
      "[1300]\tvalid_0's rmse: 0.565804\tvalid_1's rmse: 1.02436\n",
      "[1400]\tvalid_0's rmse: 0.54354\tvalid_1's rmse: 1.0229\n",
      "[1500]\tvalid_0's rmse: 0.522868\tvalid_1's rmse: 1.02116\n",
      "[1600]\tvalid_0's rmse: 0.503292\tvalid_1's rmse: 1.02027\n",
      "[1700]\tvalid_0's rmse: 0.484853\tvalid_1's rmse: 1.0192\n",
      "[1800]\tvalid_0's rmse: 0.467518\tvalid_1's rmse: 1.01832\n",
      "[1900]\tvalid_0's rmse: 0.450909\tvalid_1's rmse: 1.01787\n",
      "Early stopping, best iteration is:\n",
      "[1859]\tvalid_0's rmse: 0.457512\tvalid_1's rmse: 1.01781\n"
     ]
    },
    {
     "name": "stderr",
     "output_type": "stream",
     "text": [
      "bagging, val_score: 1.011763:  60%|######    | 6/10 [03:18<02:05, 31.31s/it]\u001b[32m[I 2021-03-08 02:08:05,941]\u001b[0m Trial 32 finished with value: 1.0178065427659593 and parameters: {'bagging_fraction': 0.49712625821075207, 'bagging_freq': 4}. Best is trial 29 with value: 1.011763230305981.\u001b[0m\n",
      "bagging, val_score: 1.011763:  60%|######    | 6/10 [03:18<02:05, 31.31s/it]"
     ]
    },
    {
     "name": "stdout",
     "output_type": "stream",
     "text": [
      "Training until validation scores don't improve for 100 rounds\n",
      "[100]\tvalid_0's rmse: 1.17835\tvalid_1's rmse: 1.22969\n",
      "[200]\tvalid_0's rmse: 1.00029\tvalid_1's rmse: 1.10661\n",
      "[300]\tvalid_0's rmse: 0.918625\tvalid_1's rmse: 1.0727\n",
      "[400]\tvalid_0's rmse: 0.860915\tvalid_1's rmse: 1.05919\n",
      "[500]\tvalid_0's rmse: 0.812053\tvalid_1's rmse: 1.05061\n",
      "[600]\tvalid_0's rmse: 0.768362\tvalid_1's rmse: 1.0438\n",
      "[700]\tvalid_0's rmse: 0.729662\tvalid_1's rmse: 1.04008\n",
      "[800]\tvalid_0's rmse: 0.694724\tvalid_1's rmse: 1.036\n",
      "[900]\tvalid_0's rmse: 0.662632\tvalid_1's rmse: 1.03292\n",
      "[1000]\tvalid_0's rmse: 0.633275\tvalid_1's rmse: 1.03029\n",
      "[1100]\tvalid_0's rmse: 0.606008\tvalid_1's rmse: 1.02839\n",
      "[1200]\tvalid_0's rmse: 0.580698\tvalid_1's rmse: 1.0263\n",
      "[1300]\tvalid_0's rmse: 0.557148\tvalid_1's rmse: 1.02538\n",
      "[1400]\tvalid_0's rmse: 0.535011\tvalid_1's rmse: 1.02404\n",
      "[1500]\tvalid_0's rmse: 0.514437\tvalid_1's rmse: 1.02313\n",
      "[1600]\tvalid_0's rmse: 0.495221\tvalid_1's rmse: 1.02208\n",
      "[1700]\tvalid_0's rmse: 0.477082\tvalid_1's rmse: 1.02151\n",
      "[1800]\tvalid_0's rmse: 0.459886\tvalid_1's rmse: 1.0211\n",
      "[1900]\tvalid_0's rmse: 0.443487\tvalid_1's rmse: 1.02041\n",
      "[2000]\tvalid_0's rmse: 0.428242\tvalid_1's rmse: 1.01955\n",
      "[2100]\tvalid_0's rmse: 0.413758\tvalid_1's rmse: 1.0193\n",
      "[2200]\tvalid_0's rmse: 0.400062\tvalid_1's rmse: 1.01871\n",
      "[2300]\tvalid_0's rmse: 0.387021\tvalid_1's rmse: 1.01831\n",
      "[2400]\tvalid_0's rmse: 0.374861\tvalid_1's rmse: 1.01818\n",
      "[2500]\tvalid_0's rmse: 0.363042\tvalid_1's rmse: 1.01798\n",
      "[2600]\tvalid_0's rmse: 0.351779\tvalid_1's rmse: 1.01783\n",
      "[2700]\tvalid_0's rmse: 0.341218\tvalid_1's rmse: 1.01747\n",
      "[2800]\tvalid_0's rmse: 0.331092\tvalid_1's rmse: 1.01749\n",
      "Early stopping, best iteration is:\n",
      "[2716]\tvalid_0's rmse: 0.339581\tvalid_1's rmse: 1.01732\n"
     ]
    },
    {
     "name": "stderr",
     "output_type": "stream",
     "text": [
      "bagging, val_score: 1.011763:  70%|#######   | 7/10 [03:54<01:38, 32.88s/it]\u001b[32m[I 2021-03-08 02:08:42,483]\u001b[0m Trial 33 finished with value: 1.017321979908198 and parameters: {'bagging_fraction': 0.6852088322909128, 'bagging_freq': 6}. Best is trial 29 with value: 1.011763230305981.\u001b[0m\n",
      "bagging, val_score: 1.011763:  70%|#######   | 7/10 [03:54<01:38, 32.88s/it]"
     ]
    },
    {
     "name": "stdout",
     "output_type": "stream",
     "text": [
      "Training until validation scores don't improve for 100 rounds\n",
      "[100]\tvalid_0's rmse: 1.17859\tvalid_1's rmse: 1.23064\n",
      "[200]\tvalid_0's rmse: 1.00075\tvalid_1's rmse: 1.10809\n",
      "[300]\tvalid_0's rmse: 0.918964\tvalid_1's rmse: 1.07523\n",
      "[400]\tvalid_0's rmse: 0.860907\tvalid_1's rmse: 1.06146\n",
      "[500]\tvalid_0's rmse: 0.812671\tvalid_1's rmse: 1.05307\n",
      "[600]\tvalid_0's rmse: 0.769552\tvalid_1's rmse: 1.04584\n",
      "[700]\tvalid_0's rmse: 0.730511\tvalid_1's rmse: 1.04107\n",
      "[800]\tvalid_0's rmse: 0.695646\tvalid_1's rmse: 1.03776\n",
      "[900]\tvalid_0's rmse: 0.663981\tvalid_1's rmse: 1.035\n",
      "[1000]\tvalid_0's rmse: 0.634131\tvalid_1's rmse: 1.03249\n",
      "[1100]\tvalid_0's rmse: 0.606891\tvalid_1's rmse: 1.03079\n",
      "[1200]\tvalid_0's rmse: 0.581724\tvalid_1's rmse: 1.02923\n",
      "[1300]\tvalid_0's rmse: 0.558195\tvalid_1's rmse: 1.0278\n",
      "[1400]\tvalid_0's rmse: 0.536096\tvalid_1's rmse: 1.02632\n",
      "[1500]\tvalid_0's rmse: 0.515748\tvalid_1's rmse: 1.02576\n",
      "[1600]\tvalid_0's rmse: 0.496215\tvalid_1's rmse: 1.02433\n",
      "[1700]\tvalid_0's rmse: 0.478199\tvalid_1's rmse: 1.02364\n",
      "[1800]\tvalid_0's rmse: 0.461133\tvalid_1's rmse: 1.02307\n",
      "[1900]\tvalid_0's rmse: 0.4449\tvalid_1's rmse: 1.02267\n",
      "[2000]\tvalid_0's rmse: 0.429718\tvalid_1's rmse: 1.02168\n",
      "[2100]\tvalid_0's rmse: 0.415259\tvalid_1's rmse: 1.0208\n",
      "[2200]\tvalid_0's rmse: 0.401526\tvalid_1's rmse: 1.02079\n",
      "Early stopping, best iteration is:\n",
      "[2143]\tvalid_0's rmse: 0.409248\tvalid_1's rmse: 1.0206\n"
     ]
    },
    {
     "name": "stderr",
     "output_type": "stream",
     "text": [
      "bagging, val_score: 1.011763:  80%|########  | 8/10 [04:23<01:03, 31.59s/it]\u001b[32m[I 2021-03-08 02:09:11,052]\u001b[0m Trial 34 finished with value: 1.0205974359324896 and parameters: {'bagging_fraction': 0.6601190088700417, 'bagging_freq': 7}. Best is trial 29 with value: 1.011763230305981.\u001b[0m\n",
      "bagging, val_score: 1.011763:  80%|########  | 8/10 [04:23<01:03, 31.59s/it]"
     ]
    },
    {
     "name": "stdout",
     "output_type": "stream",
     "text": [
      "Training until validation scores don't improve for 100 rounds\n",
      "[100]\tvalid_0's rmse: 1.1815\tvalid_1's rmse: 1.2343\n",
      "[200]\tvalid_0's rmse: 1.00447\tvalid_1's rmse: 1.11208\n",
      "[300]\tvalid_0's rmse: 0.922026\tvalid_1's rmse: 1.07937\n",
      "[400]\tvalid_0's rmse: 0.863902\tvalid_1's rmse: 1.06493\n",
      "[500]\tvalid_0's rmse: 0.815646\tvalid_1's rmse: 1.05522\n",
      "[600]\tvalid_0's rmse: 0.772487\tvalid_1's rmse: 1.04725\n",
      "[700]\tvalid_0's rmse: 0.734061\tvalid_1's rmse: 1.04177\n",
      "[800]\tvalid_0's rmse: 0.699704\tvalid_1's rmse: 1.03702\n",
      "[900]\tvalid_0's rmse: 0.667876\tvalid_1's rmse: 1.03445\n",
      "[1000]\tvalid_0's rmse: 0.638264\tvalid_1's rmse: 1.03186\n",
      "[1100]\tvalid_0's rmse: 0.611324\tvalid_1's rmse: 1.02919\n",
      "[1200]\tvalid_0's rmse: 0.586332\tvalid_1's rmse: 1.02729\n",
      "[1300]\tvalid_0's rmse: 0.562738\tvalid_1's rmse: 1.02562\n",
      "[1400]\tvalid_0's rmse: 0.541074\tvalid_1's rmse: 1.02375\n",
      "[1500]\tvalid_0's rmse: 0.520462\tvalid_1's rmse: 1.02224\n",
      "[1600]\tvalid_0's rmse: 0.501147\tvalid_1's rmse: 1.02145\n",
      "[1700]\tvalid_0's rmse: 0.482642\tvalid_1's rmse: 1.02038\n",
      "[1800]\tvalid_0's rmse: 0.465259\tvalid_1's rmse: 1.01943\n",
      "[1900]\tvalid_0's rmse: 0.44898\tvalid_1's rmse: 1.01877\n",
      "[2000]\tvalid_0's rmse: 0.433657\tvalid_1's rmse: 1.01764\n",
      "[2100]\tvalid_0's rmse: 0.419351\tvalid_1's rmse: 1.01731\n",
      "[2200]\tvalid_0's rmse: 0.405597\tvalid_1's rmse: 1.01678\n",
      "[2300]\tvalid_0's rmse: 0.392788\tvalid_1's rmse: 1.01659\n",
      "[2400]\tvalid_0's rmse: 0.380308\tvalid_1's rmse: 1.01622\n",
      "[2500]\tvalid_0's rmse: 0.36844\tvalid_1's rmse: 1.01606\n",
      "[2600]\tvalid_0's rmse: 0.357168\tvalid_1's rmse: 1.01594\n",
      "[2700]\tvalid_0's rmse: 0.346497\tvalid_1's rmse: 1.01558\n",
      "[2800]\tvalid_0's rmse: 0.336205\tvalid_1's rmse: 1.01571\n",
      "Early stopping, best iteration is:\n",
      "[2712]\tvalid_0's rmse: 0.34534\tvalid_1's rmse: 1.01549\n"
     ]
    },
    {
     "name": "stderr",
     "output_type": "stream",
     "text": [
      "bagging, val_score: 1.011763:  90%|######### | 9/10 [04:58<00:32, 32.56s/it]\u001b[32m[I 2021-03-08 02:09:45,868]\u001b[0m Trial 35 finished with value: 1.0154858652572054 and parameters: {'bagging_fraction': 0.5432319178476784, 'bagging_freq': 6}. Best is trial 29 with value: 1.011763230305981.\u001b[0m\n",
      "bagging, val_score: 1.011763:  90%|######### | 9/10 [04:58<00:32, 32.56s/it]"
     ]
    },
    {
     "name": "stdout",
     "output_type": "stream",
     "text": [
      "Training until validation scores don't improve for 100 rounds\n",
      "[100]\tvalid_0's rmse: 1.18697\tvalid_1's rmse: 1.238\n",
      "[200]\tvalid_0's rmse: 1.00978\tvalid_1's rmse: 1.11325\n",
      "[300]\tvalid_0's rmse: 0.927911\tvalid_1's rmse: 1.07736\n",
      "[400]\tvalid_0's rmse: 0.870737\tvalid_1's rmse: 1.06278\n",
      "[500]\tvalid_0's rmse: 0.821859\tvalid_1's rmse: 1.05197\n",
      "[600]\tvalid_0's rmse: 0.779169\tvalid_1's rmse: 1.04601\n",
      "[700]\tvalid_0's rmse: 0.741222\tvalid_1's rmse: 1.04105\n",
      "[800]\tvalid_0's rmse: 0.706825\tvalid_1's rmse: 1.03698\n",
      "[900]\tvalid_0's rmse: 0.675425\tvalid_1's rmse: 1.03411\n",
      "[1000]\tvalid_0's rmse: 0.64563\tvalid_1's rmse: 1.03153\n",
      "[1100]\tvalid_0's rmse: 0.618706\tvalid_1's rmse: 1.02927\n",
      "[1200]\tvalid_0's rmse: 0.593449\tvalid_1's rmse: 1.02675\n",
      "[1300]\tvalid_0's rmse: 0.570089\tvalid_1's rmse: 1.02548\n",
      "[1400]\tvalid_0's rmse: 0.547968\tvalid_1's rmse: 1.02399\n",
      "[1500]\tvalid_0's rmse: 0.527319\tvalid_1's rmse: 1.02305\n",
      "[1600]\tvalid_0's rmse: 0.507869\tvalid_1's rmse: 1.02188\n",
      "[1700]\tvalid_0's rmse: 0.4896\tvalid_1's rmse: 1.02134\n",
      "[1800]\tvalid_0's rmse: 0.472121\tvalid_1's rmse: 1.02026\n",
      "[1900]\tvalid_0's rmse: 0.455752\tvalid_1's rmse: 1.01995\n",
      "[2000]\tvalid_0's rmse: 0.440067\tvalid_1's rmse: 1.01962\n",
      "[2100]\tvalid_0's rmse: 0.425472\tvalid_1's rmse: 1.01916\n",
      "[2200]\tvalid_0's rmse: 0.411474\tvalid_1's rmse: 1.01874\n",
      "[2300]\tvalid_0's rmse: 0.39814\tvalid_1's rmse: 1.01845\n",
      "[2400]\tvalid_0's rmse: 0.385664\tvalid_1's rmse: 1.01862\n",
      "Early stopping, best iteration is:\n",
      "[2323]\tvalid_0's rmse: 0.39526\tvalid_1's rmse: 1.01836\n"
     ]
    },
    {
     "name": "stderr",
     "output_type": "stream",
     "text": [
      "bagging, val_score: 1.011763: 100%|##########| 10/10 [05:27<00:00, 31.72s/it]\u001b[32m[I 2021-03-08 02:10:15,640]\u001b[0m Trial 36 finished with value: 1.018356263496293 and parameters: {'bagging_fraction': 0.4192647036063818, 'bagging_freq': 2}. Best is trial 29 with value: 1.011763230305981.\u001b[0m\n",
      "bagging, val_score: 1.011763: 100%|##########| 10/10 [05:27<00:00, 32.78s/it]\n",
      "feature_fraction_stage2, val_score: 1.011763:   0%|          | 0/3 [00:00<?, ?it/s]"
     ]
    },
    {
     "name": "stdout",
     "output_type": "stream",
     "text": [
      "Training until validation scores don't improve for 100 rounds\n",
      "[100]\tvalid_0's rmse: 1.17684\tvalid_1's rmse: 1.22853\n",
      "[200]\tvalid_0's rmse: 0.999152\tvalid_1's rmse: 1.10503\n",
      "[300]\tvalid_0's rmse: 0.917714\tvalid_1's rmse: 1.07188\n",
      "[400]\tvalid_0's rmse: 0.859639\tvalid_1's rmse: 1.05738\n",
      "[500]\tvalid_0's rmse: 0.810704\tvalid_1's rmse: 1.04756\n",
      "[600]\tvalid_0's rmse: 0.767262\tvalid_1's rmse: 1.04008\n",
      "[700]\tvalid_0's rmse: 0.728784\tvalid_1's rmse: 1.0348\n",
      "[800]\tvalid_0's rmse: 0.694235\tvalid_1's rmse: 1.0314\n",
      "[900]\tvalid_0's rmse: 0.662345\tvalid_1's rmse: 1.02728\n",
      "[1000]\tvalid_0's rmse: 0.632751\tvalid_1's rmse: 1.02403\n",
      "[1100]\tvalid_0's rmse: 0.60542\tvalid_1's rmse: 1.02144\n",
      "[1200]\tvalid_0's rmse: 0.580069\tvalid_1's rmse: 1.01962\n",
      "[1300]\tvalid_0's rmse: 0.556438\tvalid_1's rmse: 1.01835\n",
      "[1400]\tvalid_0's rmse: 0.534512\tvalid_1's rmse: 1.01755\n",
      "[1500]\tvalid_0's rmse: 0.514056\tvalid_1's rmse: 1.01666\n",
      "[1600]\tvalid_0's rmse: 0.494481\tvalid_1's rmse: 1.01502\n",
      "[1700]\tvalid_0's rmse: 0.476199\tvalid_1's rmse: 1.01396\n",
      "[1800]\tvalid_0's rmse: 0.459035\tvalid_1's rmse: 1.01333\n",
      "[1900]\tvalid_0's rmse: 0.44289\tvalid_1's rmse: 1.01267\n",
      "[2000]\tvalid_0's rmse: 0.427366\tvalid_1's rmse: 1.0124\n",
      "[2100]\tvalid_0's rmse: 0.412826\tvalid_1's rmse: 1.01244\n",
      "Early stopping, best iteration is:\n",
      "[2014]\tvalid_0's rmse: 0.425358\tvalid_1's rmse: 1.0122\n"
     ]
    },
    {
     "name": "stderr",
     "output_type": "stream",
     "text": [
      "feature_fraction_stage2, val_score: 1.011763:  33%|###3      | 1/3 [00:31<01:03, 31.93s/it]\u001b[32m[I 2021-03-08 02:10:47,596]\u001b[0m Trial 37 finished with value: 1.0121990597399528 and parameters: {'feature_fraction': 0.48000000000000004}. Best is trial 37 with value: 1.0121990597399528.\u001b[0m\n",
      "feature_fraction_stage2, val_score: 1.011763:  33%|###3      | 1/3 [00:31<01:03, 31.93s/it]"
     ]
    },
    {
     "name": "stdout",
     "output_type": "stream",
     "text": [
      "Training until validation scores don't improve for 100 rounds\n",
      "[100]\tvalid_0's rmse: 1.17943\tvalid_1's rmse: 1.22987\n",
      "[200]\tvalid_0's rmse: 1.0012\tvalid_1's rmse: 1.10653\n",
      "[300]\tvalid_0's rmse: 0.91925\tvalid_1's rmse: 1.07279\n",
      "[400]\tvalid_0's rmse: 0.861853\tvalid_1's rmse: 1.05885\n",
      "[500]\tvalid_0's rmse: 0.813166\tvalid_1's rmse: 1.04906\n",
      "[600]\tvalid_0's rmse: 0.770518\tvalid_1's rmse: 1.04204\n",
      "[700]\tvalid_0's rmse: 0.732247\tvalid_1's rmse: 1.03644\n",
      "[800]\tvalid_0's rmse: 0.69739\tvalid_1's rmse: 1.03205\n",
      "[900]\tvalid_0's rmse: 0.66495\tvalid_1's rmse: 1.02851\n",
      "[1000]\tvalid_0's rmse: 0.635527\tvalid_1's rmse: 1.02594\n",
      "[1100]\tvalid_0's rmse: 0.608053\tvalid_1's rmse: 1.02447\n",
      "[1200]\tvalid_0's rmse: 0.58271\tvalid_1's rmse: 1.02257\n",
      "[1300]\tvalid_0's rmse: 0.559108\tvalid_1's rmse: 1.02112\n",
      "[1400]\tvalid_0's rmse: 0.537131\tvalid_1's rmse: 1.01903\n",
      "[1500]\tvalid_0's rmse: 0.516326\tvalid_1's rmse: 1.01795\n",
      "[1600]\tvalid_0's rmse: 0.496912\tvalid_1's rmse: 1.01679\n",
      "[1700]\tvalid_0's rmse: 0.478439\tvalid_1's rmse: 1.01597\n",
      "[1800]\tvalid_0's rmse: 0.461274\tvalid_1's rmse: 1.01533\n",
      "[1900]\tvalid_0's rmse: 0.444905\tvalid_1's rmse: 1.01464\n",
      "[2000]\tvalid_0's rmse: 0.429507\tvalid_1's rmse: 1.0145\n",
      "[2100]\tvalid_0's rmse: 0.41491\tvalid_1's rmse: 1.01404\n",
      "[2200]\tvalid_0's rmse: 0.401108\tvalid_1's rmse: 1.01344\n",
      "Early stopping, best iteration is:\n",
      "[2179]\tvalid_0's rmse: 0.403906\tvalid_1's rmse: 1.01333\n"
     ]
    },
    {
     "name": "stderr",
     "output_type": "stream",
     "text": [
      "feature_fraction_stage2, val_score: 1.011763:  67%|######6   | 2/3 [01:02<00:31, 31.65s/it]\u001b[32m[I 2021-03-08 02:11:18,594]\u001b[0m Trial 38 finished with value: 1.0133268213103281 and parameters: {'feature_fraction': 0.44800000000000006}. Best is trial 37 with value: 1.0121990597399528.\u001b[0m\n",
      "feature_fraction_stage2, val_score: 1.011763:  67%|######6   | 2/3 [01:02<00:31, 31.65s/it]"
     ]
    },
    {
     "name": "stdout",
     "output_type": "stream",
     "text": [
      "Training until validation scores don't improve for 100 rounds\n",
      "[100]\tvalid_0's rmse: 1.18111\tvalid_1's rmse: 1.23272\n",
      "[200]\tvalid_0's rmse: 1.00311\tvalid_1's rmse: 1.10807\n",
      "[300]\tvalid_0's rmse: 0.921168\tvalid_1's rmse: 1.07333\n",
      "[400]\tvalid_0's rmse: 0.863761\tvalid_1's rmse: 1.05942\n",
      "[500]\tvalid_0's rmse: 0.815273\tvalid_1's rmse: 1.04974\n",
      "[600]\tvalid_0's rmse: 0.772536\tvalid_1's rmse: 1.04325\n",
      "[700]\tvalid_0's rmse: 0.734015\tvalid_1's rmse: 1.03767\n",
      "[800]\tvalid_0's rmse: 0.69964\tvalid_1's rmse: 1.03383\n",
      "[900]\tvalid_0's rmse: 0.667617\tvalid_1's rmse: 1.03039\n",
      "[1000]\tvalid_0's rmse: 0.638124\tvalid_1's rmse: 1.02782\n",
      "[1100]\tvalid_0's rmse: 0.610778\tvalid_1's rmse: 1.02526\n",
      "[1200]\tvalid_0's rmse: 0.585295\tvalid_1's rmse: 1.02337\n",
      "[1300]\tvalid_0's rmse: 0.561883\tvalid_1's rmse: 1.02182\n",
      "[1400]\tvalid_0's rmse: 0.539831\tvalid_1's rmse: 1.02044\n",
      "[1500]\tvalid_0's rmse: 0.519089\tvalid_1's rmse: 1.01942\n",
      "[1600]\tvalid_0's rmse: 0.499633\tvalid_1's rmse: 1.01827\n",
      "[1700]\tvalid_0's rmse: 0.481319\tvalid_1's rmse: 1.01732\n",
      "[1800]\tvalid_0's rmse: 0.464074\tvalid_1's rmse: 1.01615\n",
      "[1900]\tvalid_0's rmse: 0.447895\tvalid_1's rmse: 1.0155\n",
      "[2000]\tvalid_0's rmse: 0.432562\tvalid_1's rmse: 1.01475\n",
      "[2100]\tvalid_0's rmse: 0.418061\tvalid_1's rmse: 1.01441\n",
      "[2200]\tvalid_0's rmse: 0.404153\tvalid_1's rmse: 1.01398\n",
      "[2300]\tvalid_0's rmse: 0.391023\tvalid_1's rmse: 1.0134\n",
      "[2400]\tvalid_0's rmse: 0.378595\tvalid_1's rmse: 1.01302\n",
      "[2500]\tvalid_0's rmse: 0.366944\tvalid_1's rmse: 1.01291\n",
      "Early stopping, best iteration is:\n",
      "[2434]\tvalid_0's rmse: 0.374532\tvalid_1's rmse: 1.0128\n"
     ]
    },
    {
     "name": "stderr",
     "output_type": "stream",
     "text": [
      "feature_fraction_stage2, val_score: 1.011763: 100%|##########| 3/3 [01:36<00:00, 32.16s/it]\u001b[32m[I 2021-03-08 02:11:51,962]\u001b[0m Trial 39 finished with value: 1.0128006086066197 and parameters: {'feature_fraction': 0.41600000000000004}. Best is trial 37 with value: 1.0121990597399528.\u001b[0m\n",
      "feature_fraction_stage2, val_score: 1.011763: 100%|##########| 3/3 [01:36<00:00, 32.10s/it]\n",
      "regularization_factors, val_score: 1.011763:   0%|          | 0/20 [00:00<?, ?it/s]"
     ]
    },
    {
     "name": "stdout",
     "output_type": "stream",
     "text": [
      "Training until validation scores don't improve for 100 rounds\n",
      "[100]\tvalid_0's rmse: 1.17915\tvalid_1's rmse: 1.23191\n",
      "[200]\tvalid_0's rmse: 1.00074\tvalid_1's rmse: 1.10773\n",
      "[300]\tvalid_0's rmse: 0.918576\tvalid_1's rmse: 1.07292\n",
      "[400]\tvalid_0's rmse: 0.860984\tvalid_1's rmse: 1.05966\n",
      "[500]\tvalid_0's rmse: 0.811994\tvalid_1's rmse: 1.05036\n",
      "[600]\tvalid_0's rmse: 0.769083\tvalid_1's rmse: 1.0437\n",
      "[700]\tvalid_0's rmse: 0.7303\tvalid_1's rmse: 1.03934\n",
      "[800]\tvalid_0's rmse: 0.695439\tvalid_1's rmse: 1.03535\n",
      "[900]\tvalid_0's rmse: 0.663832\tvalid_1's rmse: 1.03266\n",
      "[1000]\tvalid_0's rmse: 0.634857\tvalid_1's rmse: 1.02989\n",
      "[1100]\tvalid_0's rmse: 0.607417\tvalid_1's rmse: 1.02829\n",
      "[1200]\tvalid_0's rmse: 0.581911\tvalid_1's rmse: 1.02588\n",
      "[1300]\tvalid_0's rmse: 0.558053\tvalid_1's rmse: 1.02503\n",
      "[1400]\tvalid_0's rmse: 0.535607\tvalid_1's rmse: 1.0239\n",
      "[1500]\tvalid_0's rmse: 0.515236\tvalid_1's rmse: 1.02304\n",
      "[1600]\tvalid_0's rmse: 0.495783\tvalid_1's rmse: 1.02155\n",
      "[1700]\tvalid_0's rmse: 0.477363\tvalid_1's rmse: 1.02073\n",
      "[1800]\tvalid_0's rmse: 0.459962\tvalid_1's rmse: 1.01995\n",
      "[1900]\tvalid_0's rmse: 0.443435\tvalid_1's rmse: 1.01943\n",
      "[2000]\tvalid_0's rmse: 0.428054\tvalid_1's rmse: 1.01913\n",
      "[2100]\tvalid_0's rmse: 0.413384\tvalid_1's rmse: 1.01897\n",
      "Early stopping, best iteration is:\n",
      "[2037]\tvalid_0's rmse: 0.422604\tvalid_1's rmse: 1.01877\n"
     ]
    },
    {
     "name": "stderr",
     "output_type": "stream",
     "text": [
      "regularization_factors, val_score: 1.011763:   5%|5         | 1/20 [00:25<08:11, 25.89s/it]\u001b[32m[I 2021-03-08 02:12:17,870]\u001b[0m Trial 40 finished with value: 1.0187700728011087 and parameters: {'lambda_l1': 2.381792745135889e-08, 'lambda_l2': 0.0011925850558338995}. Best is trial 40 with value: 1.0187700728011087.\u001b[0m\n",
      "regularization_factors, val_score: 1.011763:   5%|5         | 1/20 [00:25<08:11, 25.89s/it]"
     ]
    },
    {
     "name": "stdout",
     "output_type": "stream",
     "text": [
      "Training until validation scores don't improve for 100 rounds\n",
      "[100]\tvalid_0's rmse: 1.18036\tvalid_1's rmse: 1.23185\n",
      "[200]\tvalid_0's rmse: 1.00197\tvalid_1's rmse: 1.10706\n",
      "[300]\tvalid_0's rmse: 0.919987\tvalid_1's rmse: 1.07313\n",
      "[400]\tvalid_0's rmse: 0.861973\tvalid_1's rmse: 1.06032\n",
      "[500]\tvalid_0's rmse: 0.813149\tvalid_1's rmse: 1.05108\n",
      "[600]\tvalid_0's rmse: 0.770543\tvalid_1's rmse: 1.04406\n",
      "[700]\tvalid_0's rmse: 0.732396\tvalid_1's rmse: 1.03922\n",
      "[800]\tvalid_0's rmse: 0.697404\tvalid_1's rmse: 1.03541\n",
      "[900]\tvalid_0's rmse: 0.665474\tvalid_1's rmse: 1.03196\n",
      "[1000]\tvalid_0's rmse: 0.636061\tvalid_1's rmse: 1.03025\n",
      "[1100]\tvalid_0's rmse: 0.608963\tvalid_1's rmse: 1.02781\n",
      "[1200]\tvalid_0's rmse: 0.583564\tvalid_1's rmse: 1.02583\n",
      "[1300]\tvalid_0's rmse: 0.55989\tvalid_1's rmse: 1.02539\n",
      "[1400]\tvalid_0's rmse: 0.537719\tvalid_1's rmse: 1.02416\n",
      "[1500]\tvalid_0's rmse: 0.517147\tvalid_1's rmse: 1.02311\n",
      "[1600]\tvalid_0's rmse: 0.497575\tvalid_1's rmse: 1.02223\n",
      "[1700]\tvalid_0's rmse: 0.479282\tvalid_1's rmse: 1.02087\n",
      "[1800]\tvalid_0's rmse: 0.462079\tvalid_1's rmse: 1.02003\n",
      "[1900]\tvalid_0's rmse: 0.445614\tvalid_1's rmse: 1.01951\n",
      "[2000]\tvalid_0's rmse: 0.430263\tvalid_1's rmse: 1.01899\n",
      "[2100]\tvalid_0's rmse: 0.415898\tvalid_1's rmse: 1.01891\n",
      "[2200]\tvalid_0's rmse: 0.401926\tvalid_1's rmse: 1.01866\n",
      "[2300]\tvalid_0's rmse: 0.388934\tvalid_1's rmse: 1.01825\n",
      "[2400]\tvalid_0's rmse: 0.376424\tvalid_1's rmse: 1.01797\n",
      "[2500]\tvalid_0's rmse: 0.36468\tvalid_1's rmse: 1.01777\n",
      "[2600]\tvalid_0's rmse: 0.353505\tvalid_1's rmse: 1.01763\n",
      "[2700]\tvalid_0's rmse: 0.342855\tvalid_1's rmse: 1.01792\n",
      "Early stopping, best iteration is:\n",
      "[2641]\tvalid_0's rmse: 0.349125\tvalid_1's rmse: 1.01747\n"
     ]
    },
    {
     "name": "stderr",
     "output_type": "stream",
     "text": [
      "regularization_factors, val_score: 1.011763:  10%|#         | 2/20 [01:04<08:53, 29.63s/it]\u001b[32m[I 2021-03-08 02:12:56,233]\u001b[0m Trial 41 finished with value: 1.0174660295252027 and parameters: {'lambda_l1': 0.327198770941191, 'lambda_l2': 1.0905311885525698e-05}. Best is trial 41 with value: 1.0174660295252027.\u001b[0m\n",
      "regularization_factors, val_score: 1.011763:  10%|#         | 2/20 [01:04<08:53, 29.63s/it]"
     ]
    },
    {
     "name": "stdout",
     "output_type": "stream",
     "text": [
      "Training until validation scores don't improve for 100 rounds\n",
      "[100]\tvalid_0's rmse: 1.17921\tvalid_1's rmse: 1.23195\n",
      "[200]\tvalid_0's rmse: 1.00093\tvalid_1's rmse: 1.10794\n",
      "[300]\tvalid_0's rmse: 0.919202\tvalid_1's rmse: 1.07338\n",
      "[400]\tvalid_0's rmse: 0.861571\tvalid_1's rmse: 1.05932\n",
      "[500]\tvalid_0's rmse: 0.812196\tvalid_1's rmse: 1.05009\n",
      "[600]\tvalid_0's rmse: 0.769187\tvalid_1's rmse: 1.04383\n",
      "[700]\tvalid_0's rmse: 0.731079\tvalid_1's rmse: 1.03776\n",
      "[800]\tvalid_0's rmse: 0.696089\tvalid_1's rmse: 1.03418\n",
      "[900]\tvalid_0's rmse: 0.664257\tvalid_1's rmse: 1.03101\n",
      "[1000]\tvalid_0's rmse: 0.634922\tvalid_1's rmse: 1.02895\n",
      "[1100]\tvalid_0's rmse: 0.607437\tvalid_1's rmse: 1.02672\n",
      "[1200]\tvalid_0's rmse: 0.58184\tvalid_1's rmse: 1.02476\n",
      "[1300]\tvalid_0's rmse: 0.55823\tvalid_1's rmse: 1.02328\n",
      "[1400]\tvalid_0's rmse: 0.536109\tvalid_1's rmse: 1.02292\n",
      "[1500]\tvalid_0's rmse: 0.515686\tvalid_1's rmse: 1.02192\n",
      "[1600]\tvalid_0's rmse: 0.496117\tvalid_1's rmse: 1.02034\n",
      "[1700]\tvalid_0's rmse: 0.47784\tvalid_1's rmse: 1.01901\n",
      "[1800]\tvalid_0's rmse: 0.460269\tvalid_1's rmse: 1.01805\n",
      "[1900]\tvalid_0's rmse: 0.444108\tvalid_1's rmse: 1.01764\n",
      "[2000]\tvalid_0's rmse: 0.428564\tvalid_1's rmse: 1.01707\n",
      "[2100]\tvalid_0's rmse: 0.413872\tvalid_1's rmse: 1.0168\n",
      "[2200]\tvalid_0's rmse: 0.40008\tvalid_1's rmse: 1.01651\n",
      "[2300]\tvalid_0's rmse: 0.387097\tvalid_1's rmse: 1.01596\n",
      "[2400]\tvalid_0's rmse: 0.37467\tvalid_1's rmse: 1.01555\n",
      "[2500]\tvalid_0's rmse: 0.362734\tvalid_1's rmse: 1.01517\n",
      "[2600]\tvalid_0's rmse: 0.351561\tvalid_1's rmse: 1.01531\n",
      "Early stopping, best iteration is:\n",
      "[2502]\tvalid_0's rmse: 0.36251\tvalid_1's rmse: 1.01516\n"
     ]
    },
    {
     "name": "stderr",
     "output_type": "stream",
     "text": [
      "regularization_factors, val_score: 1.011763:  15%|#5        | 3/20 [01:34<08:27, 29.87s/it]\u001b[32m[I 2021-03-08 02:13:26,664]\u001b[0m Trial 42 finished with value: 1.0151596582821851 and parameters: {'lambda_l1': 3.290220791274599e-06, 'lambda_l2': 0.00019096851194670697}. Best is trial 42 with value: 1.0151596582821851.\u001b[0m\n",
      "regularization_factors, val_score: 1.011763:  15%|#5        | 3/20 [01:34<08:27, 29.87s/it]"
     ]
    },
    {
     "name": "stdout",
     "output_type": "stream",
     "text": [
      "Training until validation scores don't improve for 100 rounds\n",
      "[100]\tvalid_0's rmse: 1.17915\tvalid_1's rmse: 1.23118\n",
      "[200]\tvalid_0's rmse: 1.00086\tvalid_1's rmse: 1.10726\n",
      "[300]\tvalid_0's rmse: 0.918818\tvalid_1's rmse: 1.07352\n",
      "[400]\tvalid_0's rmse: 0.861288\tvalid_1's rmse: 1.05918\n",
      "[500]\tvalid_0's rmse: 0.812381\tvalid_1's rmse: 1.05059\n",
      "[600]\tvalid_0's rmse: 0.769355\tvalid_1's rmse: 1.0437\n",
      "[700]\tvalid_0's rmse: 0.731004\tvalid_1's rmse: 1.03919\n",
      "[800]\tvalid_0's rmse: 0.69584\tvalid_1's rmse: 1.03494\n",
      "[900]\tvalid_0's rmse: 0.664\tvalid_1's rmse: 1.03123\n",
      "[1000]\tvalid_0's rmse: 0.634459\tvalid_1's rmse: 1.02826\n",
      "[1100]\tvalid_0's rmse: 0.606701\tvalid_1's rmse: 1.02623\n",
      "[1200]\tvalid_0's rmse: 0.581351\tvalid_1's rmse: 1.02412\n",
      "[1300]\tvalid_0's rmse: 0.557829\tvalid_1's rmse: 1.0224\n",
      "[1400]\tvalid_0's rmse: 0.535672\tvalid_1's rmse: 1.02092\n",
      "[1500]\tvalid_0's rmse: 0.515157\tvalid_1's rmse: 1.01979\n",
      "[1600]\tvalid_0's rmse: 0.495502\tvalid_1's rmse: 1.01881\n",
      "[1700]\tvalid_0's rmse: 0.477299\tvalid_1's rmse: 1.01768\n",
      "[1800]\tvalid_0's rmse: 0.460087\tvalid_1's rmse: 1.01698\n",
      "[1900]\tvalid_0's rmse: 0.443771\tvalid_1's rmse: 1.01652\n",
      "[2000]\tvalid_0's rmse: 0.428503\tvalid_1's rmse: 1.01623\n",
      "[2100]\tvalid_0's rmse: 0.414118\tvalid_1's rmse: 1.0154\n",
      "[2200]\tvalid_0's rmse: 0.40034\tvalid_1's rmse: 1.01543\n",
      "[2300]\tvalid_0's rmse: 0.387091\tvalid_1's rmse: 1.01515\n",
      "[2400]\tvalid_0's rmse: 0.374542\tvalid_1's rmse: 1.01514\n",
      "Early stopping, best iteration is:\n",
      "[2366]\tvalid_0's rmse: 0.378741\tvalid_1's rmse: 1.01504\n"
     ]
    },
    {
     "name": "stderr",
     "output_type": "stream",
     "text": [
      "regularization_factors, val_score: 1.011763:  20%|##        | 4/20 [02:04<07:57, 29.81s/it]\u001b[32m[I 2021-03-08 02:13:56,343]\u001b[0m Trial 43 finished with value: 1.0150380747762222 and parameters: {'lambda_l1': 0.0005955435460723706, 'lambda_l2': 0.009322093127799391}. Best is trial 43 with value: 1.0150380747762222.\u001b[0m\n",
      "regularization_factors, val_score: 1.011763:  20%|##        | 4/20 [02:04<07:57, 29.81s/it]"
     ]
    },
    {
     "name": "stdout",
     "output_type": "stream",
     "text": [
      "Training until validation scores don't improve for 100 rounds\n",
      "[100]\tvalid_0's rmse: 1.1793\tvalid_1's rmse: 1.23194\n",
      "[200]\tvalid_0's rmse: 1.00099\tvalid_1's rmse: 1.10773\n",
      "[300]\tvalid_0's rmse: 0.918511\tvalid_1's rmse: 1.07304\n",
      "[400]\tvalid_0's rmse: 0.860923\tvalid_1's rmse: 1.05948\n",
      "[500]\tvalid_0's rmse: 0.811876\tvalid_1's rmse: 1.05008\n",
      "[600]\tvalid_0's rmse: 0.769173\tvalid_1's rmse: 1.04382\n",
      "[700]\tvalid_0's rmse: 0.731199\tvalid_1's rmse: 1.03899\n",
      "[800]\tvalid_0's rmse: 0.696474\tvalid_1's rmse: 1.03469\n",
      "[900]\tvalid_0's rmse: 0.664737\tvalid_1's rmse: 1.0326\n",
      "[1000]\tvalid_0's rmse: 0.635401\tvalid_1's rmse: 1.03019\n",
      "[1100]\tvalid_0's rmse: 0.607905\tvalid_1's rmse: 1.02795\n",
      "[1200]\tvalid_0's rmse: 0.582504\tvalid_1's rmse: 1.02569\n",
      "[1300]\tvalid_0's rmse: 0.558763\tvalid_1's rmse: 1.02406\n",
      "[1400]\tvalid_0's rmse: 0.536724\tvalid_1's rmse: 1.02259\n",
      "[1500]\tvalid_0's rmse: 0.516237\tvalid_1's rmse: 1.02197\n",
      "[1600]\tvalid_0's rmse: 0.496843\tvalid_1's rmse: 1.0213\n",
      "[1700]\tvalid_0's rmse: 0.478533\tvalid_1's rmse: 1.02078\n",
      "[1800]\tvalid_0's rmse: 0.461096\tvalid_1's rmse: 1.02008\n",
      "[1900]\tvalid_0's rmse: 0.444701\tvalid_1's rmse: 1.01964\n",
      "[2000]\tvalid_0's rmse: 0.429264\tvalid_1's rmse: 1.01951\n",
      "[2100]\tvalid_0's rmse: 0.414789\tvalid_1's rmse: 1.01933\n",
      "Early stopping, best iteration is:\n",
      "[2033]\tvalid_0's rmse: 0.424407\tvalid_1's rmse: 1.01921\n"
     ]
    },
    {
     "name": "stderr",
     "output_type": "stream",
     "text": [
      "regularization_factors, val_score: 1.011763:  25%|##5       | 5/20 [02:30<07:12, 28.82s/it]\u001b[32m[I 2021-03-08 02:14:22,854]\u001b[0m Trial 44 finished with value: 1.0192071745698896 and parameters: {'lambda_l1': 0.07609912988022983, 'lambda_l2': 1.0086319710416181e-05}. Best is trial 43 with value: 1.0150380747762222.\u001b[0m\n",
      "regularization_factors, val_score: 1.011763:  25%|##5       | 5/20 [02:30<07:12, 28.82s/it]"
     ]
    },
    {
     "name": "stdout",
     "output_type": "stream",
     "text": [
      "Training until validation scores don't improve for 100 rounds\n",
      "[100]\tvalid_0's rmse: 1.17979\tvalid_1's rmse: 1.23237\n",
      "[200]\tvalid_0's rmse: 1.00094\tvalid_1's rmse: 1.10846\n",
      "[300]\tvalid_0's rmse: 0.91883\tvalid_1's rmse: 1.07443\n",
      "[400]\tvalid_0's rmse: 0.861015\tvalid_1's rmse: 1.06002\n",
      "[500]\tvalid_0's rmse: 0.811838\tvalid_1's rmse: 1.05128\n",
      "[600]\tvalid_0's rmse: 0.768703\tvalid_1's rmse: 1.04386\n",
      "[700]\tvalid_0's rmse: 0.730491\tvalid_1's rmse: 1.0396\n",
      "[800]\tvalid_0's rmse: 0.695832\tvalid_1's rmse: 1.03628\n",
      "[900]\tvalid_0's rmse: 0.664172\tvalid_1's rmse: 1.03303\n",
      "[1000]\tvalid_0's rmse: 0.6347\tvalid_1's rmse: 1.03094\n",
      "[1100]\tvalid_0's rmse: 0.607031\tvalid_1's rmse: 1.02944\n",
      "[1200]\tvalid_0's rmse: 0.581646\tvalid_1's rmse: 1.02679\n",
      "[1300]\tvalid_0's rmse: 0.557976\tvalid_1's rmse: 1.02587\n",
      "[1400]\tvalid_0's rmse: 0.535654\tvalid_1's rmse: 1.0246\n",
      "[1500]\tvalid_0's rmse: 0.515102\tvalid_1's rmse: 1.02382\n",
      "[1600]\tvalid_0's rmse: 0.495616\tvalid_1's rmse: 1.02292\n",
      "[1700]\tvalid_0's rmse: 0.477012\tvalid_1's rmse: 1.02142\n",
      "[1800]\tvalid_0's rmse: 0.459819\tvalid_1's rmse: 1.02052\n",
      "[1900]\tvalid_0's rmse: 0.443422\tvalid_1's rmse: 1.01988\n",
      "[2000]\tvalid_0's rmse: 0.42809\tvalid_1's rmse: 1.0192\n",
      "[2100]\tvalid_0's rmse: 0.413618\tvalid_1's rmse: 1.01865\n",
      "[2200]\tvalid_0's rmse: 0.399886\tvalid_1's rmse: 1.01828\n",
      "[2300]\tvalid_0's rmse: 0.386893\tvalid_1's rmse: 1.0179\n",
      "[2400]\tvalid_0's rmse: 0.374401\tvalid_1's rmse: 1.01758\n",
      "[2500]\tvalid_0's rmse: 0.362795\tvalid_1's rmse: 1.01735\n",
      "[2600]\tvalid_0's rmse: 0.351814\tvalid_1's rmse: 1.01719\n",
      "[2700]\tvalid_0's rmse: 0.341279\tvalid_1's rmse: 1.01716\n",
      "Early stopping, best iteration is:\n",
      "[2669]\tvalid_0's rmse: 0.34456\tvalid_1's rmse: 1.01689\n"
     ]
    },
    {
     "name": "stderr",
     "output_type": "stream",
     "text": [
      "regularization_factors, val_score: 1.011763:  30%|###       | 6/20 [03:05<07:06, 30.45s/it]\u001b[32m[I 2021-03-08 02:14:57,100]\u001b[0m Trial 45 finished with value: 1.0168938382806383 and parameters: {'lambda_l1': 0.11566526345109322, 'lambda_l2': 0.0003727939879763865}. Best is trial 43 with value: 1.0150380747762222.\u001b[0m\n",
      "regularization_factors, val_score: 1.011763:  30%|###       | 6/20 [03:05<07:06, 30.45s/it]"
     ]
    },
    {
     "name": "stdout",
     "output_type": "stream",
     "text": [
      "Training until validation scores don't improve for 100 rounds\n",
      "[100]\tvalid_0's rmse: 1.1927\tvalid_1's rmse: 1.23582\n",
      "[200]\tvalid_0's rmse: 1.01735\tvalid_1's rmse: 1.10952\n",
      "[300]\tvalid_0's rmse: 0.936313\tvalid_1's rmse: 1.07529\n",
      "[400]\tvalid_0's rmse: 0.881167\tvalid_1's rmse: 1.06035\n",
      "[500]\tvalid_0's rmse: 0.834902\tvalid_1's rmse: 1.0509\n",
      "[600]\tvalid_0's rmse: 0.794276\tvalid_1's rmse: 1.044\n",
      "[700]\tvalid_0's rmse: 0.758113\tvalid_1's rmse: 1.03942\n",
      "[800]\tvalid_0's rmse: 0.725611\tvalid_1's rmse: 1.03536\n",
      "[900]\tvalid_0's rmse: 0.695739\tvalid_1's rmse: 1.03179\n",
      "[1000]\tvalid_0's rmse: 0.668436\tvalid_1's rmse: 1.02888\n",
      "[1100]\tvalid_0's rmse: 0.642705\tvalid_1's rmse: 1.02678\n",
      "[1200]\tvalid_0's rmse: 0.619046\tvalid_1's rmse: 1.02452\n",
      "[1300]\tvalid_0's rmse: 0.596932\tvalid_1's rmse: 1.02274\n",
      "[1400]\tvalid_0's rmse: 0.576206\tvalid_1's rmse: 1.02119\n",
      "[1500]\tvalid_0's rmse: 0.556867\tvalid_1's rmse: 1.01943\n",
      "[1600]\tvalid_0's rmse: 0.538765\tvalid_1's rmse: 1.01834\n",
      "[1700]\tvalid_0's rmse: 0.521549\tvalid_1's rmse: 1.0176\n",
      "[1800]\tvalid_0's rmse: 0.505321\tvalid_1's rmse: 1.01657\n",
      "[1900]\tvalid_0's rmse: 0.49004\tvalid_1's rmse: 1.01559\n",
      "[2000]\tvalid_0's rmse: 0.475541\tvalid_1's rmse: 1.01507\n",
      "[2100]\tvalid_0's rmse: 0.461978\tvalid_1's rmse: 1.01462\n",
      "[2200]\tvalid_0's rmse: 0.449066\tvalid_1's rmse: 1.01375\n",
      "[2300]\tvalid_0's rmse: 0.43667\tvalid_1's rmse: 1.0133\n",
      "[2400]\tvalid_0's rmse: 0.424869\tvalid_1's rmse: 1.01282\n",
      "[2500]\tvalid_0's rmse: 0.413813\tvalid_1's rmse: 1.01295\n",
      "Early stopping, best iteration is:\n",
      "[2419]\tvalid_0's rmse: 0.422724\tvalid_1's rmse: 1.01266\n"
     ]
    },
    {
     "name": "stderr",
     "output_type": "stream",
     "text": [
      "regularization_factors, val_score: 1.011763:  35%|###5      | 7/20 [03:34<06:31, 30.09s/it]\u001b[32m[I 2021-03-08 02:15:26,334]\u001b[0m Trial 46 finished with value: 1.0126563204205306 and parameters: {'lambda_l1': 3.8412745802703028, 'lambda_l2': 2.1466828209460007e-07}. Best is trial 46 with value: 1.0126563204205306.\u001b[0m\n",
      "regularization_factors, val_score: 1.011763:  35%|###5      | 7/20 [03:34<06:31, 30.09s/it]"
     ]
    },
    {
     "name": "stdout",
     "output_type": "stream",
     "text": [
      "Training until validation scores don't improve for 100 rounds\n",
      "[100]\tvalid_0's rmse: 1.18422\tvalid_1's rmse: 1.2332\n",
      "[200]\tvalid_0's rmse: 1.00572\tvalid_1's rmse: 1.10851\n",
      "[300]\tvalid_0's rmse: 0.923158\tvalid_1's rmse: 1.07329\n",
      "[400]\tvalid_0's rmse: 0.865823\tvalid_1's rmse: 1.05847\n",
      "[500]\tvalid_0's rmse: 0.81716\tvalid_1's rmse: 1.04924\n",
      "[600]\tvalid_0's rmse: 0.774282\tvalid_1's rmse: 1.04261\n",
      "[700]\tvalid_0's rmse: 0.736416\tvalid_1's rmse: 1.03775\n",
      "[800]\tvalid_0's rmse: 0.701921\tvalid_1's rmse: 1.03371\n",
      "[900]\tvalid_0's rmse: 0.669919\tvalid_1's rmse: 1.02996\n",
      "[1000]\tvalid_0's rmse: 0.640737\tvalid_1's rmse: 1.02792\n",
      "[1100]\tvalid_0's rmse: 0.613375\tvalid_1's rmse: 1.0258\n",
      "[1200]\tvalid_0's rmse: 0.58809\tvalid_1's rmse: 1.02451\n",
      "[1300]\tvalid_0's rmse: 0.564619\tvalid_1's rmse: 1.02269\n",
      "[1400]\tvalid_0's rmse: 0.542403\tvalid_1's rmse: 1.02115\n",
      "[1500]\tvalid_0's rmse: 0.521486\tvalid_1's rmse: 1.02019\n",
      "[1600]\tvalid_0's rmse: 0.50187\tvalid_1's rmse: 1.01898\n",
      "[1700]\tvalid_0's rmse: 0.483735\tvalid_1's rmse: 1.01812\n",
      "[1800]\tvalid_0's rmse: 0.466356\tvalid_1's rmse: 1.01724\n",
      "[1900]\tvalid_0's rmse: 0.449889\tvalid_1's rmse: 1.01697\n",
      "[2000]\tvalid_0's rmse: 0.434481\tvalid_1's rmse: 1.01645\n",
      "[2100]\tvalid_0's rmse: 0.41982\tvalid_1's rmse: 1.01588\n",
      "Early stopping, best iteration is:\n",
      "[2090]\tvalid_0's rmse: 0.421196\tvalid_1's rmse: 1.01579\n"
     ]
    },
    {
     "name": "stderr",
     "output_type": "stream",
     "text": [
      "regularization_factors, val_score: 1.011763:  40%|####      | 8/20 [04:02<05:53, 29.48s/it]\u001b[32m[I 2021-03-08 02:15:54,419]\u001b[0m Trial 47 finished with value: 1.0157892336286156 and parameters: {'lambda_l1': 8.223665944074562e-06, 'lambda_l2': 1.0017007484057374}. Best is trial 46 with value: 1.0126563204205306.\u001b[0m\n",
      "regularization_factors, val_score: 1.011763:  40%|####      | 8/20 [04:02<05:53, 29.48s/it]"
     ]
    },
    {
     "name": "stdout",
     "output_type": "stream",
     "text": [
      "Training until validation scores don't improve for 100 rounds\n",
      "[100]\tvalid_0's rmse: 1.18141\tvalid_1's rmse: 1.23344\n",
      "[200]\tvalid_0's rmse: 1.00284\tvalid_1's rmse: 1.10854\n",
      "[300]\tvalid_0's rmse: 0.92036\tvalid_1's rmse: 1.07363\n",
      "[400]\tvalid_0's rmse: 0.862501\tvalid_1's rmse: 1.05952\n",
      "[500]\tvalid_0's rmse: 0.813308\tvalid_1's rmse: 1.05077\n",
      "[600]\tvalid_0's rmse: 0.770694\tvalid_1's rmse: 1.04461\n",
      "[700]\tvalid_0's rmse: 0.732174\tvalid_1's rmse: 1.03981\n",
      "[800]\tvalid_0's rmse: 0.697478\tvalid_1's rmse: 1.03582\n",
      "[900]\tvalid_0's rmse: 0.66572\tvalid_1's rmse: 1.03213\n",
      "[1000]\tvalid_0's rmse: 0.636385\tvalid_1's rmse: 1.02961\n",
      "[1100]\tvalid_0's rmse: 0.608785\tvalid_1's rmse: 1.02778\n",
      "[1200]\tvalid_0's rmse: 0.583451\tvalid_1's rmse: 1.02575\n",
      "[1300]\tvalid_0's rmse: 0.559872\tvalid_1's rmse: 1.02493\n",
      "[1400]\tvalid_0's rmse: 0.537779\tvalid_1's rmse: 1.02393\n",
      "[1500]\tvalid_0's rmse: 0.517402\tvalid_1's rmse: 1.0232\n",
      "[1600]\tvalid_0's rmse: 0.497829\tvalid_1's rmse: 1.02229\n",
      "[1700]\tvalid_0's rmse: 0.47952\tvalid_1's rmse: 1.02136\n",
      "[1800]\tvalid_0's rmse: 0.462062\tvalid_1's rmse: 1.02003\n",
      "[1900]\tvalid_0's rmse: 0.445669\tvalid_1's rmse: 1.0194\n",
      "[2000]\tvalid_0's rmse: 0.430252\tvalid_1's rmse: 1.01942\n",
      "Early stopping, best iteration is:\n",
      "[1903]\tvalid_0's rmse: 0.445161\tvalid_1's rmse: 1.0193\n"
     ]
    },
    {
     "name": "stderr",
     "output_type": "stream",
     "text": [
      "regularization_factors, val_score: 1.011763:  45%|####5     | 9/20 [04:31<05:22, 29.30s/it]\u001b[32m[I 2021-03-08 02:16:23,268]\u001b[0m Trial 48 finished with value: 1.0193004447102085 and parameters: {'lambda_l1': 9.287956160600629e-07, 'lambda_l2': 0.3947780429034958}. Best is trial 46 with value: 1.0126563204205306.\u001b[0m\n",
      "regularization_factors, val_score: 1.011763:  45%|####5     | 9/20 [04:31<05:22, 29.30s/it]"
     ]
    },
    {
     "name": "stdout",
     "output_type": "stream",
     "text": [
      "Training until validation scores don't improve for 100 rounds\n",
      "[100]\tvalid_0's rmse: 1.17986\tvalid_1's rmse: 1.23217\n",
      "[200]\tvalid_0's rmse: 1.00155\tvalid_1's rmse: 1.10842\n",
      "[300]\tvalid_0's rmse: 0.919169\tvalid_1's rmse: 1.07387\n",
      "[400]\tvalid_0's rmse: 0.861205\tvalid_1's rmse: 1.05979\n",
      "[500]\tvalid_0's rmse: 0.811932\tvalid_1's rmse: 1.05054\n",
      "[600]\tvalid_0's rmse: 0.769124\tvalid_1's rmse: 1.04465\n",
      "[700]\tvalid_0's rmse: 0.731028\tvalid_1's rmse: 1.03931\n",
      "[800]\tvalid_0's rmse: 0.696249\tvalid_1's rmse: 1.0351\n",
      "[900]\tvalid_0's rmse: 0.664214\tvalid_1's rmse: 1.0317\n",
      "[1000]\tvalid_0's rmse: 0.634535\tvalid_1's rmse: 1.02928\n",
      "[1100]\tvalid_0's rmse: 0.606917\tvalid_1's rmse: 1.02746\n",
      "[1200]\tvalid_0's rmse: 0.5817\tvalid_1's rmse: 1.02503\n",
      "[1300]\tvalid_0's rmse: 0.558065\tvalid_1's rmse: 1.02369\n",
      "[1400]\tvalid_0's rmse: 0.535619\tvalid_1's rmse: 1.02264\n",
      "[1500]\tvalid_0's rmse: 0.515028\tvalid_1's rmse: 1.02189\n",
      "[1600]\tvalid_0's rmse: 0.495324\tvalid_1's rmse: 1.02097\n",
      "[1700]\tvalid_0's rmse: 0.477046\tvalid_1's rmse: 1.01949\n",
      "[1800]\tvalid_0's rmse: 0.459521\tvalid_1's rmse: 1.01872\n",
      "[1900]\tvalid_0's rmse: 0.443238\tvalid_1's rmse: 1.01813\n",
      "[2000]\tvalid_0's rmse: 0.427793\tvalid_1's rmse: 1.01779\n",
      "[2100]\tvalid_0's rmse: 0.413165\tvalid_1's rmse: 1.01732\n",
      "[2200]\tvalid_0's rmse: 0.399288\tvalid_1's rmse: 1.01641\n",
      "[2300]\tvalid_0's rmse: 0.386187\tvalid_1's rmse: 1.01593\n",
      "[2400]\tvalid_0's rmse: 0.373748\tvalid_1's rmse: 1.01579\n",
      "[2500]\tvalid_0's rmse: 0.361785\tvalid_1's rmse: 1.01517\n",
      "[2600]\tvalid_0's rmse: 0.350702\tvalid_1's rmse: 1.01528\n",
      "Early stopping, best iteration is:\n",
      "[2502]\tvalid_0's rmse: 0.361571\tvalid_1's rmse: 1.01516\n"
     ]
    },
    {
     "name": "stderr",
     "output_type": "stream",
     "text": [
      "regularization_factors, val_score: 1.011763:  50%|#####     | 10/20 [05:04<05:03, 30.35s/it]\u001b[32m[I 2021-03-08 02:16:56,075]\u001b[0m Trial 49 finished with value: 1.0151620630533544 and parameters: {'lambda_l1': 1.564312573919965e-06, 'lambda_l2': 0.08770687766260359}. Best is trial 46 with value: 1.0126563204205306.\u001b[0m\n",
      "regularization_factors, val_score: 1.011763:  50%|#####     | 10/20 [05:04<05:03, 30.35s/it]"
     ]
    },
    {
     "name": "stdout",
     "output_type": "stream",
     "text": [
      "Training until validation scores don't improve for 100 rounds\n",
      "[100]\tvalid_0's rmse: 1.19258\tvalid_1's rmse: 1.23636\n",
      "[200]\tvalid_0's rmse: 1.01738\tvalid_1's rmse: 1.11032\n",
      "[300]\tvalid_0's rmse: 0.936508\tvalid_1's rmse: 1.07578\n",
      "[400]\tvalid_0's rmse: 0.881078\tvalid_1's rmse: 1.06122\n",
      "[500]\tvalid_0's rmse: 0.835112\tvalid_1's rmse: 1.05194\n",
      "[600]\tvalid_0's rmse: 0.794871\tvalid_1's rmse: 1.04533\n",
      "[700]\tvalid_0's rmse: 0.758587\tvalid_1's rmse: 1.041\n",
      "[800]\tvalid_0's rmse: 0.726372\tvalid_1's rmse: 1.03676\n",
      "[900]\tvalid_0's rmse: 0.696552\tvalid_1's rmse: 1.03353\n",
      "[1000]\tvalid_0's rmse: 0.669342\tvalid_1's rmse: 1.0309\n",
      "[1100]\tvalid_0's rmse: 0.64394\tvalid_1's rmse: 1.02913\n",
      "[1200]\tvalid_0's rmse: 0.620284\tvalid_1's rmse: 1.02676\n",
      "[1300]\tvalid_0's rmse: 0.598231\tvalid_1's rmse: 1.025\n",
      "[1400]\tvalid_0's rmse: 0.577402\tvalid_1's rmse: 1.02399\n",
      "[1500]\tvalid_0's rmse: 0.557992\tvalid_1's rmse: 1.02252\n",
      "[1600]\tvalid_0's rmse: 0.539781\tvalid_1's rmse: 1.02107\n",
      "[1700]\tvalid_0's rmse: 0.522594\tvalid_1's rmse: 1.02039\n",
      "[1800]\tvalid_0's rmse: 0.506441\tvalid_1's rmse: 1.01947\n",
      "[1900]\tvalid_0's rmse: 0.490888\tvalid_1's rmse: 1.01934\n",
      "[2000]\tvalid_0's rmse: 0.476419\tvalid_1's rmse: 1.01869\n",
      "[2100]\tvalid_0's rmse: 0.462834\tvalid_1's rmse: 1.01774\n",
      "[2200]\tvalid_0's rmse: 0.449803\tvalid_1's rmse: 1.01728\n",
      "[2300]\tvalid_0's rmse: 0.437553\tvalid_1's rmse: 1.01656\n",
      "[2400]\tvalid_0's rmse: 0.425868\tvalid_1's rmse: 1.01594\n",
      "[2500]\tvalid_0's rmse: 0.414574\tvalid_1's rmse: 1.0159\n",
      "Early stopping, best iteration is:\n",
      "[2424]\tvalid_0's rmse: 0.423089\tvalid_1's rmse: 1.01585\n"
     ]
    },
    {
     "name": "stderr",
     "output_type": "stream",
     "text": [
      "regularization_factors, val_score: 1.011763:  55%|#####5    | 11/20 [05:33<04:30, 30.03s/it]\u001b[32m[I 2021-03-08 02:17:25,357]\u001b[0m Trial 50 finished with value: 1.0158454288501892 and parameters: {'lambda_l1': 3.916570606959366, 'lambda_l2': 1.8686868314703076e-08}. Best is trial 46 with value: 1.0126563204205306.\u001b[0m\n",
      "regularization_factors, val_score: 1.011763:  55%|#####5    | 11/20 [05:33<04:30, 30.03s/it]"
     ]
    },
    {
     "name": "stdout",
     "output_type": "stream",
     "text": [
      "Training until validation scores don't improve for 100 rounds\n",
      "[100]\tvalid_0's rmse: 1.17921\tvalid_1's rmse: 1.23195\n",
      "[200]\tvalid_0's rmse: 1.00111\tvalid_1's rmse: 1.10798\n",
      "[300]\tvalid_0's rmse: 0.919219\tvalid_1's rmse: 1.07343\n",
      "[400]\tvalid_0's rmse: 0.861746\tvalid_1's rmse: 1.05919\n",
      "[500]\tvalid_0's rmse: 0.812844\tvalid_1's rmse: 1.05075\n",
      "[600]\tvalid_0's rmse: 0.769763\tvalid_1's rmse: 1.04401\n",
      "[700]\tvalid_0's rmse: 0.731374\tvalid_1's rmse: 1.03875\n",
      "[800]\tvalid_0's rmse: 0.696267\tvalid_1's rmse: 1.03449\n",
      "[900]\tvalid_0's rmse: 0.664211\tvalid_1's rmse: 1.03166\n",
      "[1000]\tvalid_0's rmse: 0.634631\tvalid_1's rmse: 1.02945\n",
      "[1100]\tvalid_0's rmse: 0.606834\tvalid_1's rmse: 1.02744\n",
      "[1200]\tvalid_0's rmse: 0.581239\tvalid_1's rmse: 1.02517\n",
      "[1300]\tvalid_0's rmse: 0.557559\tvalid_1's rmse: 1.02434\n",
      "[1400]\tvalid_0's rmse: 0.535633\tvalid_1's rmse: 1.02301\n",
      "[1500]\tvalid_0's rmse: 0.514914\tvalid_1's rmse: 1.02174\n",
      "[1600]\tvalid_0's rmse: 0.495381\tvalid_1's rmse: 1.02086\n",
      "[1700]\tvalid_0's rmse: 0.477268\tvalid_1's rmse: 1.01966\n",
      "[1800]\tvalid_0's rmse: 0.459778\tvalid_1's rmse: 1.01892\n",
      "[1900]\tvalid_0's rmse: 0.443405\tvalid_1's rmse: 1.01861\n",
      "[2000]\tvalid_0's rmse: 0.428046\tvalid_1's rmse: 1.01822\n",
      "[2100]\tvalid_0's rmse: 0.413586\tvalid_1's rmse: 1.01822\n",
      "[2200]\tvalid_0's rmse: 0.399934\tvalid_1's rmse: 1.01779\n",
      "[2300]\tvalid_0's rmse: 0.386931\tvalid_1's rmse: 1.01766\n",
      "[2400]\tvalid_0's rmse: 0.374345\tvalid_1's rmse: 1.01725\n",
      "[2500]\tvalid_0's rmse: 0.362549\tvalid_1's rmse: 1.01703\n",
      "[2600]\tvalid_0's rmse: 0.351597\tvalid_1's rmse: 1.01696\n",
      "[2700]\tvalid_0's rmse: 0.341065\tvalid_1's rmse: 1.01695\n",
      "Early stopping, best iteration is:\n",
      "[2650]\tvalid_0's rmse: 0.346294\tvalid_1's rmse: 1.01678\n"
     ]
    },
    {
     "name": "stderr",
     "output_type": "stream",
     "text": [
      "regularization_factors, val_score: 1.011763:  60%|######    | 12/20 [06:05<04:06, 30.80s/it]\u001b[32m[I 2021-03-08 02:17:57,977]\u001b[0m Trial 51 finished with value: 1.0167811921782053 and parameters: {'lambda_l1': 0.0011849122912686466, 'lambda_l2': 1.2228364283610924e-08}. Best is trial 46 with value: 1.0126563204205306.\u001b[0m\n",
      "regularization_factors, val_score: 1.011763:  60%|######    | 12/20 [06:06<04:06, 30.80s/it]"
     ]
    },
    {
     "name": "stdout",
     "output_type": "stream",
     "text": [
      "Training until validation scores don't improve for 100 rounds\n",
      "[100]\tvalid_0's rmse: 1.17916\tvalid_1's rmse: 1.23118\n",
      "[200]\tvalid_0's rmse: 1.00076\tvalid_1's rmse: 1.10757\n",
      "[300]\tvalid_0's rmse: 0.918777\tvalid_1's rmse: 1.07375\n",
      "[400]\tvalid_0's rmse: 0.861202\tvalid_1's rmse: 1.05966\n",
      "[500]\tvalid_0's rmse: 0.811974\tvalid_1's rmse: 1.05093\n",
      "[600]\tvalid_0's rmse: 0.76926\tvalid_1's rmse: 1.04455\n",
      "[700]\tvalid_0's rmse: 0.730949\tvalid_1's rmse: 1.03958\n",
      "[800]\tvalid_0's rmse: 0.695982\tvalid_1's rmse: 1.03506\n",
      "[900]\tvalid_0's rmse: 0.664231\tvalid_1's rmse: 1.03218\n",
      "[1000]\tvalid_0's rmse: 0.634521\tvalid_1's rmse: 1.03001\n",
      "[1100]\tvalid_0's rmse: 0.606819\tvalid_1's rmse: 1.02792\n",
      "[1200]\tvalid_0's rmse: 0.581332\tvalid_1's rmse: 1.02544\n",
      "[1300]\tvalid_0's rmse: 0.557612\tvalid_1's rmse: 1.0244\n",
      "[1400]\tvalid_0's rmse: 0.535352\tvalid_1's rmse: 1.02314\n",
      "[1500]\tvalid_0's rmse: 0.514855\tvalid_1's rmse: 1.02209\n",
      "[1600]\tvalid_0's rmse: 0.495346\tvalid_1's rmse: 1.02119\n",
      "[1700]\tvalid_0's rmse: 0.476988\tvalid_1's rmse: 1.02049\n",
      "[1800]\tvalid_0's rmse: 0.459664\tvalid_1's rmse: 1.0197\n",
      "[1900]\tvalid_0's rmse: 0.4434\tvalid_1's rmse: 1.01933\n",
      "[2000]\tvalid_0's rmse: 0.42804\tvalid_1's rmse: 1.01883\n",
      "[2100]\tvalid_0's rmse: 0.413757\tvalid_1's rmse: 1.01876\n",
      "Early stopping, best iteration is:\n",
      "[2024]\tvalid_0's rmse: 0.424564\tvalid_1's rmse: 1.01867\n"
     ]
    },
    {
     "name": "stderr",
     "output_type": "stream",
     "text": [
      "regularization_factors, val_score: 1.011763:  65%|######5   | 13/20 [06:31<03:24, 29.23s/it]\u001b[32m[I 2021-03-08 02:18:23,528]\u001b[0m Trial 52 finished with value: 1.0186743306331738 and parameters: {'lambda_l1': 0.002135658353389007, 'lambda_l2': 0.009751084396308118}. Best is trial 46 with value: 1.0126563204205306.\u001b[0m\n",
      "regularization_factors, val_score: 1.011763:  65%|######5   | 13/20 [06:31<03:24, 29.23s/it]"
     ]
    },
    {
     "name": "stdout",
     "output_type": "stream",
     "text": [
      "Training until validation scores don't improve for 100 rounds\n",
      "[100]\tvalid_0's rmse: 1.19749\tvalid_1's rmse: 1.23849\n",
      "[200]\tvalid_0's rmse: 1.02446\tvalid_1's rmse: 1.11208\n",
      "[300]\tvalid_0's rmse: 0.944446\tvalid_1's rmse: 1.0767\n",
      "[400]\tvalid_0's rmse: 0.889628\tvalid_1's rmse: 1.06077\n",
      "[500]\tvalid_0's rmse: 0.844413\tvalid_1's rmse: 1.05142\n",
      "[600]\tvalid_0's rmse: 0.805156\tvalid_1's rmse: 1.04506\n",
      "[700]\tvalid_0's rmse: 0.769944\tvalid_1's rmse: 1.04024\n",
      "[800]\tvalid_0's rmse: 0.738249\tvalid_1's rmse: 1.03729\n",
      "[900]\tvalid_0's rmse: 0.708661\tvalid_1's rmse: 1.03406\n",
      "[1000]\tvalid_0's rmse: 0.68173\tvalid_1's rmse: 1.03135\n",
      "[1100]\tvalid_0's rmse: 0.656688\tvalid_1's rmse: 1.02937\n",
      "[1200]\tvalid_0's rmse: 0.633438\tvalid_1's rmse: 1.02699\n",
      "[1300]\tvalid_0's rmse: 0.611597\tvalid_1's rmse: 1.02622\n",
      "[1400]\tvalid_0's rmse: 0.591104\tvalid_1's rmse: 1.02493\n",
      "[1500]\tvalid_0's rmse: 0.572115\tvalid_1's rmse: 1.02357\n",
      "[1600]\tvalid_0's rmse: 0.55428\tvalid_1's rmse: 1.02218\n",
      "[1700]\tvalid_0's rmse: 0.537313\tvalid_1's rmse: 1.0211\n",
      "[1800]\tvalid_0's rmse: 0.521383\tvalid_1's rmse: 1.01988\n",
      "[1900]\tvalid_0's rmse: 0.506347\tvalid_1's rmse: 1.01997\n"
     ]
    },
    {
     "name": "stderr",
     "output_type": "stream",
     "text": [
      "regularization_factors, val_score: 1.011763:  70%|#######   | 14/20 [06:53<02:42, 27.11s/it]"
     ]
    },
    {
     "name": "stdout",
     "output_type": "stream",
     "text": [
      "Early stopping, best iteration is:\n",
      "[1829]\tvalid_0's rmse: 0.516885\tvalid_1's rmse: 1.0197\n"
     ]
    },
    {
     "name": "stderr",
     "output_type": "stream",
     "text": [
      "\u001b[32m[I 2021-03-08 02:18:45,681]\u001b[0m Trial 53 finished with value: 1.0196959972462996 and parameters: {'lambda_l1': 5.111796895641025, 'lambda_l2': 2.623660182842671e-06}. Best is trial 46 with value: 1.0126563204205306.\u001b[0m\n",
      "regularization_factors, val_score: 1.011763:  70%|#######   | 14/20 [06:53<02:42, 27.11s/it]"
     ]
    },
    {
     "name": "stdout",
     "output_type": "stream",
     "text": [
      "Training until validation scores don't improve for 100 rounds\n",
      "[100]\tvalid_0's rmse: 1.17921\tvalid_1's rmse: 1.23195\n",
      "[200]\tvalid_0's rmse: 1.00123\tvalid_1's rmse: 1.10786\n",
      "[300]\tvalid_0's rmse: 0.91924\tvalid_1's rmse: 1.07339\n",
      "[400]\tvalid_0's rmse: 0.861433\tvalid_1's rmse: 1.059\n",
      "[500]\tvalid_0's rmse: 0.812458\tvalid_1's rmse: 1.05044\n",
      "[600]\tvalid_0's rmse: 0.769569\tvalid_1's rmse: 1.04484\n",
      "[700]\tvalid_0's rmse: 0.731481\tvalid_1's rmse: 1.0408\n",
      "[800]\tvalid_0's rmse: 0.69661\tvalid_1's rmse: 1.03629\n",
      "[900]\tvalid_0's rmse: 0.66456\tvalid_1's rmse: 1.03315\n",
      "[1000]\tvalid_0's rmse: 0.635354\tvalid_1's rmse: 1.03174\n",
      "[1100]\tvalid_0's rmse: 0.608069\tvalid_1's rmse: 1.02967\n",
      "[1200]\tvalid_0's rmse: 0.582759\tvalid_1's rmse: 1.02783\n",
      "[1300]\tvalid_0's rmse: 0.559171\tvalid_1's rmse: 1.02628\n",
      "[1400]\tvalid_0's rmse: 0.536797\tvalid_1's rmse: 1.02489\n",
      "[1500]\tvalid_0's rmse: 0.516345\tvalid_1's rmse: 1.02397\n",
      "[1600]\tvalid_0's rmse: 0.496861\tvalid_1's rmse: 1.02317\n",
      "[1700]\tvalid_0's rmse: 0.478379\tvalid_1's rmse: 1.02201\n",
      "[1800]\tvalid_0's rmse: 0.461049\tvalid_1's rmse: 1.02082\n",
      "[1900]\tvalid_0's rmse: 0.444574\tvalid_1's rmse: 1.02054\n",
      "[2000]\tvalid_0's rmse: 0.429071\tvalid_1's rmse: 1.02045\n",
      "[2100]\tvalid_0's rmse: 0.41444\tvalid_1's rmse: 1.01991\n",
      "[2200]\tvalid_0's rmse: 0.400578\tvalid_1's rmse: 1.01959\n",
      "[2300]\tvalid_0's rmse: 0.387664\tvalid_1's rmse: 1.01899\n",
      "[2400]\tvalid_0's rmse: 0.375035\tvalid_1's rmse: 1.01857\n",
      "[2500]\tvalid_0's rmse: 0.363353\tvalid_1's rmse: 1.01849\n",
      "Early stopping, best iteration is:\n",
      "[2427]\tvalid_0's rmse: 0.371652\tvalid_1's rmse: 1.01836\n"
     ]
    },
    {
     "name": "stderr",
     "output_type": "stream",
     "text": [
      "regularization_factors, val_score: 1.011763:  75%|#######5  | 15/20 [07:23<02:19, 27.90s/it]\u001b[32m[I 2021-03-08 02:19:15,424]\u001b[0m Trial 54 finished with value: 1.0183607130774146 and parameters: {'lambda_l1': 6.959239534828554e-05, 'lambda_l2': 1.2964905322524057e-07}. Best is trial 46 with value: 1.0126563204205306.\u001b[0m\n",
      "regularization_factors, val_score: 1.011763:  75%|#######5  | 15/20 [07:23<02:19, 27.90s/it]"
     ]
    },
    {
     "name": "stdout",
     "output_type": "stream",
     "text": [
      "Training until validation scores don't improve for 100 rounds\n",
      "[100]\tvalid_0's rmse: 1.17938\tvalid_1's rmse: 1.23201\n",
      "[200]\tvalid_0's rmse: 1.00143\tvalid_1's rmse: 1.1088\n",
      "[300]\tvalid_0's rmse: 0.919193\tvalid_1's rmse: 1.0741\n",
      "[400]\tvalid_0's rmse: 0.86152\tvalid_1's rmse: 1.05992\n",
      "[500]\tvalid_0's rmse: 0.812431\tvalid_1's rmse: 1.05086\n",
      "[600]\tvalid_0's rmse: 0.769773\tvalid_1's rmse: 1.04355\n",
      "[700]\tvalid_0's rmse: 0.731163\tvalid_1's rmse: 1.03913\n",
      "[800]\tvalid_0's rmse: 0.696139\tvalid_1's rmse: 1.03495\n",
      "[900]\tvalid_0's rmse: 0.664384\tvalid_1's rmse: 1.03153\n",
      "[1000]\tvalid_0's rmse: 0.635206\tvalid_1's rmse: 1.02876\n",
      "[1100]\tvalid_0's rmse: 0.607612\tvalid_1's rmse: 1.02659\n",
      "[1200]\tvalid_0's rmse: 0.582261\tvalid_1's rmse: 1.02457\n",
      "[1300]\tvalid_0's rmse: 0.558323\tvalid_1's rmse: 1.0235\n",
      "[1400]\tvalid_0's rmse: 0.536189\tvalid_1's rmse: 1.02222\n",
      "[1500]\tvalid_0's rmse: 0.515679\tvalid_1's rmse: 1.02073\n",
      "[1600]\tvalid_0's rmse: 0.495986\tvalid_1's rmse: 1.01993\n",
      "[1700]\tvalid_0's rmse: 0.477616\tvalid_1's rmse: 1.01881\n",
      "[1800]\tvalid_0's rmse: 0.460007\tvalid_1's rmse: 1.01755\n",
      "[1900]\tvalid_0's rmse: 0.443515\tvalid_1's rmse: 1.01673\n",
      "Early stopping, best iteration is:\n",
      "[1889]\tvalid_0's rmse: 0.445284\tvalid_1's rmse: 1.01663\n"
     ]
    },
    {
     "name": "stderr",
     "output_type": "stream",
     "text": [
      "regularization_factors, val_score: 1.011763:  80%|########  | 16/20 [07:47<01:47, 26.80s/it]\u001b[32m[I 2021-03-08 02:19:39,654]\u001b[0m Trial 55 finished with value: 1.0166306702844508 and parameters: {'lambda_l1': 0.011752319039400126, 'lambda_l2': 5.879979257926494e-07}. Best is trial 46 with value: 1.0126563204205306.\u001b[0m\n",
      "regularization_factors, val_score: 1.011763:  80%|########  | 16/20 [07:47<01:47, 26.80s/it]"
     ]
    },
    {
     "name": "stdout",
     "output_type": "stream",
     "text": [
      "Training until validation scores don't improve for 100 rounds\n",
      "[100]\tvalid_0's rmse: 1.20329\tvalid_1's rmse: 1.24265\n",
      "[200]\tvalid_0's rmse: 1.02827\tvalid_1's rmse: 1.11514\n",
      "[300]\tvalid_0's rmse: 0.946221\tvalid_1's rmse: 1.07914\n",
      "[400]\tvalid_0's rmse: 0.889909\tvalid_1's rmse: 1.06352\n",
      "[500]\tvalid_0's rmse: 0.842616\tvalid_1's rmse: 1.05352\n",
      "[600]\tvalid_0's rmse: 0.800822\tvalid_1's rmse: 1.04695\n",
      "[700]\tvalid_0's rmse: 0.763243\tvalid_1's rmse: 1.04188\n",
      "[800]\tvalid_0's rmse: 0.729226\tvalid_1's rmse: 1.03826\n",
      "[900]\tvalid_0's rmse: 0.697645\tvalid_1's rmse: 1.03482\n",
      "[1000]\tvalid_0's rmse: 0.668924\tvalid_1's rmse: 1.032\n",
      "[1100]\tvalid_0's rmse: 0.64172\tvalid_1's rmse: 1.02952\n",
      "[1200]\tvalid_0's rmse: 0.616241\tvalid_1's rmse: 1.02775\n",
      "[1300]\tvalid_0's rmse: 0.592583\tvalid_1's rmse: 1.02584\n",
      "[1400]\tvalid_0's rmse: 0.570415\tvalid_1's rmse: 1.02508\n",
      "[1500]\tvalid_0's rmse: 0.549632\tvalid_1's rmse: 1.02442\n",
      "[1600]\tvalid_0's rmse: 0.529688\tvalid_1's rmse: 1.02344\n",
      "[1700]\tvalid_0's rmse: 0.510825\tvalid_1's rmse: 1.0226\n",
      "[1800]\tvalid_0's rmse: 0.493122\tvalid_1's rmse: 1.02146\n",
      "[1900]\tvalid_0's rmse: 0.47653\tvalid_1's rmse: 1.02099\n",
      "[2000]\tvalid_0's rmse: 0.460411\tvalid_1's rmse: 1.02\n",
      "[2100]\tvalid_0's rmse: 0.445461\tvalid_1's rmse: 1.01964\n",
      "[2200]\tvalid_0's rmse: 0.431212\tvalid_1's rmse: 1.01936\n",
      "[2300]\tvalid_0's rmse: 0.417672\tvalid_1's rmse: 1.01902\n",
      "[2400]\tvalid_0's rmse: 0.404761\tvalid_1's rmse: 1.0188\n",
      "[2500]\tvalid_0's rmse: 0.392484\tvalid_1's rmse: 1.01855\n",
      "Early stopping, best iteration is:\n",
      "[2475]\tvalid_0's rmse: 0.395504\tvalid_1's rmse: 1.01844\n"
     ]
    },
    {
     "name": "stderr",
     "output_type": "stream",
     "text": [
      "regularization_factors, val_score: 1.011763:  85%|########5 | 17/20 [08:20<01:26, 28.72s/it]\u001b[32m[I 2021-03-08 02:20:12,863]\u001b[0m Trial 56 finished with value: 1.0184426864942544 and parameters: {'lambda_l1': 2.5566490364696563e-08, 'lambda_l2': 6.899559463830256}. Best is trial 46 with value: 1.0126563204205306.\u001b[0m\n",
      "regularization_factors, val_score: 1.011763:  85%|########5 | 17/20 [08:20<01:26, 28.72s/it]"
     ]
    },
    {
     "name": "stdout",
     "output_type": "stream",
     "text": [
      "Training until validation scores don't improve for 100 rounds\n",
      "[100]\tvalid_0's rmse: 1.17917\tvalid_1's rmse: 1.23119\n",
      "[200]\tvalid_0's rmse: 1.00076\tvalid_1's rmse: 1.10757\n",
      "[300]\tvalid_0's rmse: 0.918781\tvalid_1's rmse: 1.07375\n",
      "[400]\tvalid_0's rmse: 0.861205\tvalid_1's rmse: 1.05966\n",
      "[500]\tvalid_0's rmse: 0.811975\tvalid_1's rmse: 1.05093\n",
      "[600]\tvalid_0's rmse: 0.769182\tvalid_1's rmse: 1.0443\n",
      "[700]\tvalid_0's rmse: 0.73094\tvalid_1's rmse: 1.03996\n",
      "[800]\tvalid_0's rmse: 0.696137\tvalid_1's rmse: 1.03583\n",
      "[900]\tvalid_0's rmse: 0.664189\tvalid_1's rmse: 1.03317\n",
      "[1000]\tvalid_0's rmse: 0.63475\tvalid_1's rmse: 1.03081\n",
      "[1100]\tvalid_0's rmse: 0.606858\tvalid_1's rmse: 1.02846\n",
      "[1200]\tvalid_0's rmse: 0.581313\tvalid_1's rmse: 1.02657\n",
      "[1300]\tvalid_0's rmse: 0.557542\tvalid_1's rmse: 1.02538\n",
      "[1400]\tvalid_0's rmse: 0.535481\tvalid_1's rmse: 1.02405\n",
      "[1500]\tvalid_0's rmse: 0.515014\tvalid_1's rmse: 1.02239\n",
      "[1600]\tvalid_0's rmse: 0.495509\tvalid_1's rmse: 1.02162\n",
      "[1700]\tvalid_0's rmse: 0.477491\tvalid_1's rmse: 1.02072\n",
      "[1800]\tvalid_0's rmse: 0.459982\tvalid_1's rmse: 1.01985\n",
      "[1900]\tvalid_0's rmse: 0.443506\tvalid_1's rmse: 1.01922\n",
      "[2000]\tvalid_0's rmse: 0.427984\tvalid_1's rmse: 1.0185\n",
      "[2100]\tvalid_0's rmse: 0.413369\tvalid_1's rmse: 1.01815\n",
      "[2200]\tvalid_0's rmse: 0.399454\tvalid_1's rmse: 1.0182\n",
      "Early stopping, best iteration is:\n",
      "[2111]\tvalid_0's rmse: 0.411823\tvalid_1's rmse: 1.018\n"
     ]
    },
    {
     "name": "stderr",
     "output_type": "stream",
     "text": [
      "regularization_factors, val_score: 1.011763:  90%|######### | 18/20 [08:48<00:56, 28.35s/it]\u001b[32m[I 2021-03-08 02:20:40,334]\u001b[0m Trial 57 finished with value: 1.0180049694297941 and parameters: {'lambda_l1': 7.115447752060565e-05, 'lambda_l2': 0.01158339211547944}. Best is trial 46 with value: 1.0126563204205306.\u001b[0m\n",
      "regularization_factors, val_score: 1.011763:  90%|######### | 18/20 [08:48<00:56, 28.35s/it]"
     ]
    },
    {
     "name": "stdout",
     "output_type": "stream",
     "text": [
      "Training until validation scores don't improve for 100 rounds\n",
      "[100]\tvalid_0's rmse: 1.18185\tvalid_1's rmse: 1.23286\n",
      "[200]\tvalid_0's rmse: 1.004\tvalid_1's rmse: 1.10836\n",
      "[300]\tvalid_0's rmse: 0.922266\tvalid_1's rmse: 1.07438\n",
      "[400]\tvalid_0's rmse: 0.865164\tvalid_1's rmse: 1.05939\n",
      "[500]\tvalid_0's rmse: 0.816662\tvalid_1's rmse: 1.05136\n",
      "[600]\tvalid_0's rmse: 0.774266\tvalid_1's rmse: 1.04516\n",
      "[700]\tvalid_0's rmse: 0.736363\tvalid_1's rmse: 1.03968\n",
      "[800]\tvalid_0's rmse: 0.701854\tvalid_1's rmse: 1.03625\n",
      "[900]\tvalid_0's rmse: 0.670544\tvalid_1's rmse: 1.03294\n",
      "[1000]\tvalid_0's rmse: 0.641455\tvalid_1's rmse: 1.03025\n",
      "[1100]\tvalid_0's rmse: 0.614268\tvalid_1's rmse: 1.02792\n",
      "[1200]\tvalid_0's rmse: 0.588952\tvalid_1's rmse: 1.02574\n",
      "[1300]\tvalid_0's rmse: 0.565283\tvalid_1's rmse: 1.02461\n",
      "[1400]\tvalid_0's rmse: 0.543289\tvalid_1's rmse: 1.02371\n",
      "[1500]\tvalid_0's rmse: 0.523048\tvalid_1's rmse: 1.02261\n",
      "[1600]\tvalid_0's rmse: 0.503774\tvalid_1's rmse: 1.0215\n",
      "[1700]\tvalid_0's rmse: 0.485551\tvalid_1's rmse: 1.02093\n",
      "[1800]\tvalid_0's rmse: 0.468456\tvalid_1's rmse: 1.01974\n",
      "[1900]\tvalid_0's rmse: 0.452183\tvalid_1's rmse: 1.01918\n",
      "[2000]\tvalid_0's rmse: 0.436862\tvalid_1's rmse: 1.01842\n",
      "[2100]\tvalid_0's rmse: 0.422574\tvalid_1's rmse: 1.01809\n",
      "[2200]\tvalid_0's rmse: 0.408855\tvalid_1's rmse: 1.01724\n",
      "[2300]\tvalid_0's rmse: 0.395963\tvalid_1's rmse: 1.01708\n",
      "[2400]\tvalid_0's rmse: 0.383755\tvalid_1's rmse: 1.01698\n",
      "[2500]\tvalid_0's rmse: 0.37215\tvalid_1's rmse: 1.01694\n",
      "[2600]\tvalid_0's rmse: 0.361044\tvalid_1's rmse: 1.01669\n",
      "[2700]\tvalid_0's rmse: 0.350666\tvalid_1's rmse: 1.01661\n",
      "Early stopping, best iteration is:\n",
      "[2650]\tvalid_0's rmse: 0.355752\tvalid_1's rmse: 1.01645\n"
     ]
    },
    {
     "name": "stderr",
     "output_type": "stream",
     "text": [
      "regularization_factors, val_score: 1.011763:  95%|#########5| 19/20 [09:21<00:29, 29.91s/it]\u001b[32m[I 2021-03-08 02:21:13,882]\u001b[0m Trial 58 finished with value: 1.0164536474772201 and parameters: {'lambda_l1': 1.0190155003976156, 'lambda_l2': 6.92664004938474e-05}. Best is trial 46 with value: 1.0126563204205306.\u001b[0m\n",
      "regularization_factors, val_score: 1.011763:  95%|#########5| 19/20 [09:21<00:29, 29.91s/it]"
     ]
    },
    {
     "name": "stdout",
     "output_type": "stream",
     "text": [
      "Training until validation scores don't improve for 100 rounds\n",
      "[100]\tvalid_0's rmse: 1.17953\tvalid_1's rmse: 1.23208\n",
      "[200]\tvalid_0's rmse: 1.0009\tvalid_1's rmse: 1.10838\n",
      "[300]\tvalid_0's rmse: 0.918391\tvalid_1's rmse: 1.07404\n",
      "[400]\tvalid_0's rmse: 0.860751\tvalid_1's rmse: 1.0606\n",
      "[500]\tvalid_0's rmse: 0.811644\tvalid_1's rmse: 1.05188\n",
      "[600]\tvalid_0's rmse: 0.768522\tvalid_1's rmse: 1.04511\n",
      "[700]\tvalid_0's rmse: 0.730111\tvalid_1's rmse: 1.04015\n",
      "[800]\tvalid_0's rmse: 0.695473\tvalid_1's rmse: 1.03607\n",
      "[900]\tvalid_0's rmse: 0.663692\tvalid_1's rmse: 1.03295\n",
      "[1000]\tvalid_0's rmse: 0.634479\tvalid_1's rmse: 1.03026\n",
      "[1100]\tvalid_0's rmse: 0.606854\tvalid_1's rmse: 1.02869\n",
      "[1200]\tvalid_0's rmse: 0.581581\tvalid_1's rmse: 1.026\n",
      "[1300]\tvalid_0's rmse: 0.557877\tvalid_1's rmse: 1.02476\n",
      "[1400]\tvalid_0's rmse: 0.535739\tvalid_1's rmse: 1.02349\n",
      "[1500]\tvalid_0's rmse: 0.515305\tvalid_1's rmse: 1.0222\n",
      "[1600]\tvalid_0's rmse: 0.495713\tvalid_1's rmse: 1.02071\n",
      "[1700]\tvalid_0's rmse: 0.477464\tvalid_1's rmse: 1.02005\n",
      "[1800]\tvalid_0's rmse: 0.460096\tvalid_1's rmse: 1.01884\n",
      "[1900]\tvalid_0's rmse: 0.443788\tvalid_1's rmse: 1.0183\n",
      "[2000]\tvalid_0's rmse: 0.428306\tvalid_1's rmse: 1.01777\n",
      "[2100]\tvalid_0's rmse: 0.413805\tvalid_1's rmse: 1.01719\n",
      "[2200]\tvalid_0's rmse: 0.400008\tvalid_1's rmse: 1.01695\n",
      "[2300]\tvalid_0's rmse: 0.387148\tvalid_1's rmse: 1.01718\n",
      "Early stopping, best iteration is:\n",
      "[2235]\tvalid_0's rmse: 0.395415\tvalid_1's rmse: 1.01679\n"
     ]
    },
    {
     "name": "stderr",
     "output_type": "stream",
     "text": [
      "regularization_factors, val_score: 1.011763: 100%|##########| 20/20 [09:51<00:00, 29.79s/it]\u001b[32m[I 2021-03-08 02:21:43,414]\u001b[0m Trial 59 finished with value: 1.0167931873724132 and parameters: {'lambda_l1': 0.02342635012097516, 'lambda_l2': 0.0070245868683714505}. Best is trial 46 with value: 1.0126563204205306.\u001b[0m\n",
      "regularization_factors, val_score: 1.011763: 100%|##########| 20/20 [09:51<00:00, 29.57s/it]\n",
      "min_data_in_leaf, val_score: 1.011763:   0%|          | 0/5 [00:00<?, ?it/s]"
     ]
    },
    {
     "name": "stdout",
     "output_type": "stream",
     "text": [
      "Training until validation scores don't improve for 100 rounds\n",
      "[100]\tvalid_0's rmse: 1.18213\tvalid_1's rmse: 1.23306\n",
      "[200]\tvalid_0's rmse: 1.00395\tvalid_1's rmse: 1.10776\n",
      "[300]\tvalid_0's rmse: 0.9217\tvalid_1's rmse: 1.07296\n",
      "[400]\tvalid_0's rmse: 0.864235\tvalid_1's rmse: 1.0584\n",
      "[500]\tvalid_0's rmse: 0.815362\tvalid_1's rmse: 1.0485\n",
      "[600]\tvalid_0's rmse: 0.77273\tvalid_1's rmse: 1.04143\n",
      "[700]\tvalid_0's rmse: 0.734429\tvalid_1's rmse: 1.0366\n",
      "[800]\tvalid_0's rmse: 0.700206\tvalid_1's rmse: 1.03331\n",
      "[900]\tvalid_0's rmse: 0.668594\tvalid_1's rmse: 1.02993\n",
      "[1000]\tvalid_0's rmse: 0.639309\tvalid_1's rmse: 1.02778\n",
      "[1100]\tvalid_0's rmse: 0.611658\tvalid_1's rmse: 1.02485\n",
      "[1200]\tvalid_0's rmse: 0.586441\tvalid_1's rmse: 1.02291\n",
      "[1300]\tvalid_0's rmse: 0.562892\tvalid_1's rmse: 1.02186\n",
      "[1400]\tvalid_0's rmse: 0.54086\tvalid_1's rmse: 1.02081\n",
      "[1500]\tvalid_0's rmse: 0.52041\tvalid_1's rmse: 1.01931\n",
      "[1600]\tvalid_0's rmse: 0.500963\tvalid_1's rmse: 1.01816\n",
      "[1700]\tvalid_0's rmse: 0.482776\tvalid_1's rmse: 1.01734\n",
      "[1800]\tvalid_0's rmse: 0.465468\tvalid_1's rmse: 1.01676\n",
      "[1900]\tvalid_0's rmse: 0.449118\tvalid_1's rmse: 1.01624\n",
      "[2000]\tvalid_0's rmse: 0.433633\tvalid_1's rmse: 1.01552\n",
      "[2100]\tvalid_0's rmse: 0.419026\tvalid_1's rmse: 1.01518\n",
      "[2200]\tvalid_0's rmse: 0.405006\tvalid_1's rmse: 1.01448\n",
      "[2300]\tvalid_0's rmse: 0.391935\tvalid_1's rmse: 1.01409\n",
      "[2400]\tvalid_0's rmse: 0.379469\tvalid_1's rmse: 1.01364\n",
      "[2500]\tvalid_0's rmse: 0.367542\tvalid_1's rmse: 1.01327\n",
      "[2600]\tvalid_0's rmse: 0.356309\tvalid_1's rmse: 1.01327\n",
      "[2700]\tvalid_0's rmse: 0.345869\tvalid_1's rmse: 1.01325\n",
      "[2800]\tvalid_0's rmse: 0.33568\tvalid_1's rmse: 1.01287\n",
      "[2900]\tvalid_0's rmse: 0.326179\tvalid_1's rmse: 1.01212\n",
      "[3000]\tvalid_0's rmse: 0.317112\tvalid_1's rmse: 1.01181\n",
      "[3100]\tvalid_0's rmse: 0.308413\tvalid_1's rmse: 1.01192\n",
      "Early stopping, best iteration is:\n",
      "[3031]\tvalid_0's rmse: 0.314404\tvalid_1's rmse: 1.01176\n"
     ]
    },
    {
     "name": "stderr",
     "output_type": "stream",
     "text": [
      "min_data_in_leaf, val_score: 1.011763:  20%|##        | 1/5 [00:38<02:35, 38.97s/it]\u001b[32m[I 2021-03-08 02:22:22,402]\u001b[0m Trial 60 finished with value: 1.011763230305981 and parameters: {'min_child_samples': 25}. Best is trial 60 with value: 1.011763230305981.\u001b[0m\n",
      "min_data_in_leaf, val_score: 1.011763:  20%|##        | 1/5 [00:38<02:35, 38.97s/it]"
     ]
    },
    {
     "name": "stdout",
     "output_type": "stream",
     "text": [
      "Training until validation scores don't improve for 100 rounds\n",
      "[100]\tvalid_0's rmse: 1.18213\tvalid_1's rmse: 1.23306\n",
      "[200]\tvalid_0's rmse: 1.00395\tvalid_1's rmse: 1.10776\n",
      "[300]\tvalid_0's rmse: 0.9217\tvalid_1's rmse: 1.07296\n",
      "[400]\tvalid_0's rmse: 0.864235\tvalid_1's rmse: 1.0584\n",
      "[500]\tvalid_0's rmse: 0.815362\tvalid_1's rmse: 1.0485\n",
      "[600]\tvalid_0's rmse: 0.77273\tvalid_1's rmse: 1.04143\n",
      "[700]\tvalid_0's rmse: 0.734429\tvalid_1's rmse: 1.0366\n",
      "[800]\tvalid_0's rmse: 0.700206\tvalid_1's rmse: 1.03331\n",
      "[900]\tvalid_0's rmse: 0.668594\tvalid_1's rmse: 1.02993\n",
      "[1000]\tvalid_0's rmse: 0.639309\tvalid_1's rmse: 1.02778\n",
      "[1100]\tvalid_0's rmse: 0.611658\tvalid_1's rmse: 1.02485\n",
      "[1200]\tvalid_0's rmse: 0.586441\tvalid_1's rmse: 1.02291\n",
      "[1300]\tvalid_0's rmse: 0.562892\tvalid_1's rmse: 1.02186\n",
      "[1400]\tvalid_0's rmse: 0.54086\tvalid_1's rmse: 1.02081\n",
      "[1500]\tvalid_0's rmse: 0.52041\tvalid_1's rmse: 1.01931\n",
      "[1600]\tvalid_0's rmse: 0.500963\tvalid_1's rmse: 1.01816\n",
      "[1700]\tvalid_0's rmse: 0.482776\tvalid_1's rmse: 1.01734\n",
      "[1800]\tvalid_0's rmse: 0.465468\tvalid_1's rmse: 1.01676\n",
      "[1900]\tvalid_0's rmse: 0.449118\tvalid_1's rmse: 1.01624\n",
      "[2000]\tvalid_0's rmse: 0.433633\tvalid_1's rmse: 1.01552\n",
      "[2100]\tvalid_0's rmse: 0.419026\tvalid_1's rmse: 1.01518\n",
      "[2200]\tvalid_0's rmse: 0.405006\tvalid_1's rmse: 1.01448\n",
      "[2300]\tvalid_0's rmse: 0.391935\tvalid_1's rmse: 1.01409\n",
      "[2400]\tvalid_0's rmse: 0.379469\tvalid_1's rmse: 1.01364\n",
      "[2500]\tvalid_0's rmse: 0.367542\tvalid_1's rmse: 1.01327\n",
      "[2600]\tvalid_0's rmse: 0.356309\tvalid_1's rmse: 1.01327\n",
      "[2700]\tvalid_0's rmse: 0.345869\tvalid_1's rmse: 1.01325\n",
      "[2800]\tvalid_0's rmse: 0.33568\tvalid_1's rmse: 1.01287\n",
      "[2900]\tvalid_0's rmse: 0.326179\tvalid_1's rmse: 1.01212\n",
      "[3000]\tvalid_0's rmse: 0.317112\tvalid_1's rmse: 1.01181\n",
      "[3100]\tvalid_0's rmse: 0.308413\tvalid_1's rmse: 1.01192\n",
      "Early stopping, best iteration is:\n",
      "[3031]\tvalid_0's rmse: 0.314404\tvalid_1's rmse: 1.01176\n"
     ]
    },
    {
     "name": "stderr",
     "output_type": "stream",
     "text": [
      "min_data_in_leaf, val_score: 1.011763:  40%|####      | 2/5 [01:17<01:56, 38.88s/it]\u001b[32m[I 2021-03-08 02:23:01,092]\u001b[0m Trial 61 finished with value: 1.011763230305981 and parameters: {'min_child_samples': 5}. Best is trial 60 with value: 1.011763230305981.\u001b[0m\n",
      "min_data_in_leaf, val_score: 1.011763:  40%|####      | 2/5 [01:17<01:56, 38.88s/it]"
     ]
    },
    {
     "name": "stdout",
     "output_type": "stream",
     "text": [
      "Training until validation scores don't improve for 100 rounds\n",
      "[100]\tvalid_0's rmse: 1.18213\tvalid_1's rmse: 1.23306\n",
      "[200]\tvalid_0's rmse: 1.00395\tvalid_1's rmse: 1.10776\n",
      "[300]\tvalid_0's rmse: 0.9217\tvalid_1's rmse: 1.07296\n",
      "[400]\tvalid_0's rmse: 0.864235\tvalid_1's rmse: 1.0584\n",
      "[500]\tvalid_0's rmse: 0.815362\tvalid_1's rmse: 1.0485\n",
      "[600]\tvalid_0's rmse: 0.77273\tvalid_1's rmse: 1.04143\n",
      "[700]\tvalid_0's rmse: 0.734429\tvalid_1's rmse: 1.0366\n",
      "[800]\tvalid_0's rmse: 0.700206\tvalid_1's rmse: 1.03331\n",
      "[900]\tvalid_0's rmse: 0.668594\tvalid_1's rmse: 1.02993\n",
      "[1000]\tvalid_0's rmse: 0.639309\tvalid_1's rmse: 1.02778\n",
      "[1100]\tvalid_0's rmse: 0.611658\tvalid_1's rmse: 1.02485\n",
      "[1200]\tvalid_0's rmse: 0.586441\tvalid_1's rmse: 1.02291\n",
      "[1300]\tvalid_0's rmse: 0.562892\tvalid_1's rmse: 1.02186\n",
      "[1400]\tvalid_0's rmse: 0.54086\tvalid_1's rmse: 1.02081\n",
      "[1500]\tvalid_0's rmse: 0.52041\tvalid_1's rmse: 1.01931\n",
      "[1600]\tvalid_0's rmse: 0.500963\tvalid_1's rmse: 1.01816\n",
      "[1700]\tvalid_0's rmse: 0.482776\tvalid_1's rmse: 1.01734\n",
      "[1800]\tvalid_0's rmse: 0.465468\tvalid_1's rmse: 1.01676\n",
      "[1900]\tvalid_0's rmse: 0.449118\tvalid_1's rmse: 1.01624\n",
      "[2000]\tvalid_0's rmse: 0.433633\tvalid_1's rmse: 1.01552\n",
      "[2100]\tvalid_0's rmse: 0.419026\tvalid_1's rmse: 1.01518\n",
      "[2200]\tvalid_0's rmse: 0.405006\tvalid_1's rmse: 1.01448\n",
      "[2300]\tvalid_0's rmse: 0.391935\tvalid_1's rmse: 1.01409\n",
      "[2400]\tvalid_0's rmse: 0.379469\tvalid_1's rmse: 1.01364\n",
      "[2500]\tvalid_0's rmse: 0.367542\tvalid_1's rmse: 1.01327\n",
      "[2600]\tvalid_0's rmse: 0.356309\tvalid_1's rmse: 1.01327\n",
      "[2700]\tvalid_0's rmse: 0.345869\tvalid_1's rmse: 1.01325\n",
      "[2800]\tvalid_0's rmse: 0.33568\tvalid_1's rmse: 1.01287\n",
      "[2900]\tvalid_0's rmse: 0.326179\tvalid_1's rmse: 1.01212\n",
      "[3000]\tvalid_0's rmse: 0.317112\tvalid_1's rmse: 1.01181\n",
      "[3100]\tvalid_0's rmse: 0.308413\tvalid_1's rmse: 1.01192\n",
      "Early stopping, best iteration is:\n",
      "[3031]\tvalid_0's rmse: 0.314404\tvalid_1's rmse: 1.01176\n"
     ]
    },
    {
     "name": "stderr",
     "output_type": "stream",
     "text": [
      "min_data_in_leaf, val_score: 1.011763:  60%|######    | 3/5 [01:56<01:17, 38.85s/it]\u001b[32m[I 2021-03-08 02:23:39,878]\u001b[0m Trial 62 finished with value: 1.011763230305981 and parameters: {'min_child_samples': 50}. Best is trial 60 with value: 1.011763230305981.\u001b[0m\n",
      "min_data_in_leaf, val_score: 1.011763:  60%|######    | 3/5 [01:56<01:17, 38.85s/it]"
     ]
    },
    {
     "name": "stdout",
     "output_type": "stream",
     "text": [
      "Training until validation scores don't improve for 100 rounds\n",
      "[100]\tvalid_0's rmse: 1.18213\tvalid_1's rmse: 1.23306\n",
      "[200]\tvalid_0's rmse: 1.00395\tvalid_1's rmse: 1.10776\n",
      "[300]\tvalid_0's rmse: 0.9217\tvalid_1's rmse: 1.07296\n",
      "[400]\tvalid_0's rmse: 0.864235\tvalid_1's rmse: 1.0584\n",
      "[500]\tvalid_0's rmse: 0.815362\tvalid_1's rmse: 1.0485\n",
      "[600]\tvalid_0's rmse: 0.77273\tvalid_1's rmse: 1.04143\n",
      "[700]\tvalid_0's rmse: 0.734429\tvalid_1's rmse: 1.0366\n",
      "[800]\tvalid_0's rmse: 0.700206\tvalid_1's rmse: 1.03331\n",
      "[900]\tvalid_0's rmse: 0.668594\tvalid_1's rmse: 1.02993\n",
      "[1000]\tvalid_0's rmse: 0.639309\tvalid_1's rmse: 1.02778\n",
      "[1100]\tvalid_0's rmse: 0.611658\tvalid_1's rmse: 1.02485\n",
      "[1200]\tvalid_0's rmse: 0.586441\tvalid_1's rmse: 1.02291\n",
      "[1300]\tvalid_0's rmse: 0.562892\tvalid_1's rmse: 1.02186\n",
      "[1400]\tvalid_0's rmse: 0.54086\tvalid_1's rmse: 1.02081\n",
      "[1500]\tvalid_0's rmse: 0.52041\tvalid_1's rmse: 1.01931\n",
      "[1600]\tvalid_0's rmse: 0.500963\tvalid_1's rmse: 1.01816\n",
      "[1700]\tvalid_0's rmse: 0.482776\tvalid_1's rmse: 1.01734\n",
      "[1800]\tvalid_0's rmse: 0.465468\tvalid_1's rmse: 1.01676\n",
      "[1900]\tvalid_0's rmse: 0.449118\tvalid_1's rmse: 1.01624\n",
      "[2000]\tvalid_0's rmse: 0.433633\tvalid_1's rmse: 1.01552\n",
      "[2100]\tvalid_0's rmse: 0.419026\tvalid_1's rmse: 1.01518\n",
      "[2200]\tvalid_0's rmse: 0.405006\tvalid_1's rmse: 1.01448\n",
      "[2300]\tvalid_0's rmse: 0.391935\tvalid_1's rmse: 1.01409\n",
      "[2400]\tvalid_0's rmse: 0.379469\tvalid_1's rmse: 1.01364\n",
      "[2500]\tvalid_0's rmse: 0.367542\tvalid_1's rmse: 1.01327\n",
      "[2600]\tvalid_0's rmse: 0.356309\tvalid_1's rmse: 1.01327\n",
      "[2700]\tvalid_0's rmse: 0.345869\tvalid_1's rmse: 1.01325\n",
      "[2800]\tvalid_0's rmse: 0.33568\tvalid_1's rmse: 1.01287\n",
      "[2900]\tvalid_0's rmse: 0.326179\tvalid_1's rmse: 1.01212\n",
      "[3000]\tvalid_0's rmse: 0.317112\tvalid_1's rmse: 1.01181\n",
      "[3100]\tvalid_0's rmse: 0.308413\tvalid_1's rmse: 1.01192\n",
      "Early stopping, best iteration is:\n",
      "[3031]\tvalid_0's rmse: 0.314404\tvalid_1's rmse: 1.01176\n"
     ]
    },
    {
     "name": "stderr",
     "output_type": "stream",
     "text": [
      "min_data_in_leaf, val_score: 1.011763:  80%|########  | 4/5 [02:34<00:38, 38.69s/it]\u001b[32m[I 2021-03-08 02:24:18,186]\u001b[0m Trial 63 finished with value: 1.011763230305981 and parameters: {'min_child_samples': 100}. Best is trial 60 with value: 1.011763230305981.\u001b[0m\n",
      "min_data_in_leaf, val_score: 1.011763:  80%|########  | 4/5 [02:34<00:38, 38.69s/it]"
     ]
    },
    {
     "name": "stdout",
     "output_type": "stream",
     "text": [
      "Training until validation scores don't improve for 100 rounds\n",
      "[100]\tvalid_0's rmse: 1.18213\tvalid_1's rmse: 1.23306\n",
      "[200]\tvalid_0's rmse: 1.00395\tvalid_1's rmse: 1.10776\n",
      "[300]\tvalid_0's rmse: 0.9217\tvalid_1's rmse: 1.07296\n",
      "[400]\tvalid_0's rmse: 0.864235\tvalid_1's rmse: 1.0584\n",
      "[500]\tvalid_0's rmse: 0.815362\tvalid_1's rmse: 1.0485\n",
      "[600]\tvalid_0's rmse: 0.77273\tvalid_1's rmse: 1.04143\n",
      "[700]\tvalid_0's rmse: 0.734429\tvalid_1's rmse: 1.0366\n",
      "[800]\tvalid_0's rmse: 0.700206\tvalid_1's rmse: 1.03331\n",
      "[900]\tvalid_0's rmse: 0.668594\tvalid_1's rmse: 1.02993\n",
      "[1000]\tvalid_0's rmse: 0.639309\tvalid_1's rmse: 1.02778\n",
      "[1100]\tvalid_0's rmse: 0.611658\tvalid_1's rmse: 1.02485\n",
      "[1200]\tvalid_0's rmse: 0.586441\tvalid_1's rmse: 1.02291\n",
      "[1300]\tvalid_0's rmse: 0.562892\tvalid_1's rmse: 1.02186\n",
      "[1400]\tvalid_0's rmse: 0.54086\tvalid_1's rmse: 1.02081\n",
      "[1500]\tvalid_0's rmse: 0.52041\tvalid_1's rmse: 1.01931\n",
      "[1600]\tvalid_0's rmse: 0.500963\tvalid_1's rmse: 1.01816\n",
      "[1700]\tvalid_0's rmse: 0.482776\tvalid_1's rmse: 1.01734\n",
      "[1800]\tvalid_0's rmse: 0.465468\tvalid_1's rmse: 1.01676\n",
      "[1900]\tvalid_0's rmse: 0.449118\tvalid_1's rmse: 1.01624\n",
      "[2000]\tvalid_0's rmse: 0.433633\tvalid_1's rmse: 1.01552\n",
      "[2100]\tvalid_0's rmse: 0.419026\tvalid_1's rmse: 1.01518\n",
      "[2200]\tvalid_0's rmse: 0.405006\tvalid_1's rmse: 1.01448\n",
      "[2300]\tvalid_0's rmse: 0.391935\tvalid_1's rmse: 1.01409\n",
      "[2400]\tvalid_0's rmse: 0.379469\tvalid_1's rmse: 1.01364\n",
      "[2500]\tvalid_0's rmse: 0.367542\tvalid_1's rmse: 1.01327\n",
      "[2600]\tvalid_0's rmse: 0.356309\tvalid_1's rmse: 1.01327\n",
      "[2700]\tvalid_0's rmse: 0.345869\tvalid_1's rmse: 1.01325\n",
      "[2800]\tvalid_0's rmse: 0.33568\tvalid_1's rmse: 1.01287\n",
      "[2900]\tvalid_0's rmse: 0.326179\tvalid_1's rmse: 1.01212\n",
      "[3000]\tvalid_0's rmse: 0.317112\tvalid_1's rmse: 1.01181\n",
      "[3100]\tvalid_0's rmse: 0.308413\tvalid_1's rmse: 1.01192\n",
      "Early stopping, best iteration is:\n",
      "[3031]\tvalid_0's rmse: 0.314404\tvalid_1's rmse: 1.01176\n"
     ]
    },
    {
     "name": "stderr",
     "output_type": "stream",
     "text": [
      "min_data_in_leaf, val_score: 1.011763: 100%|##########| 5/5 [03:13<00:00, 38.71s/it]\u001b[32m[I 2021-03-08 02:24:56,931]\u001b[0m Trial 64 finished with value: 1.011763230305981 and parameters: {'min_child_samples': 10}. Best is trial 60 with value: 1.011763230305981.\u001b[0m\n",
      "min_data_in_leaf, val_score: 1.011763: 100%|##########| 5/5 [03:13<00:00, 38.70s/it]\n"
     ]
    },
    {
     "name": "stdout",
     "output_type": "stream",
     "text": [
      "Fold 0 rmsle: 1.0116\n",
      "--------------FOLDS : 1 --------------\n"
     ]
    },
    {
     "name": "stderr",
     "output_type": "stream",
     "text": [
      "\u001b[32m[I 2021-03-08 02:24:58,267]\u001b[0m A new study created in memory with name: no-name-554a4bf6-928d-4f3c-8ae7-2d1c670ece8c\u001b[0m\n",
      "feature_fraction, val_score: inf:   0%|          | 0/7 [00:00<?, ?it/s]/Users/shinichiro.saito/opt/anaconda3/lib/python3.8/site-packages/lightgbm/engine.py:151: UserWarning: Found `num_boost_round` in params. Will use it instead of argument\n",
      "  warnings.warn(\"Found `{}` in params. Will use it instead of argument\".format(alias))\n",
      "/Users/shinichiro.saito/opt/anaconda3/lib/python3.8/site-packages/lightgbm/engine.py:156: UserWarning: Found `early_stopping_rounds` in params. Will use it instead of argument\n",
      "  warnings.warn(\"Found `{}` in params. Will use it instead of argument\".format(alias))\n",
      "/Users/shinichiro.saito/opt/anaconda3/lib/python3.8/site-packages/lightgbm/basic.py:1554: UserWarning: categorical_feature in Dataset is overridden.\n",
      "New categorical_feature is ['acquisition_method', 'art_series_id', 'copyright_holder', 'principal_maker', 'principal_or_first_maker']\n",
      "  warnings.warn('categorical_feature in Dataset is overridden.\\n'\n"
     ]
    },
    {
     "name": "stdout",
     "output_type": "stream",
     "text": [
      "[LightGBM] [Warning] min_data_in_leaf is set=10, min_child_samples=20 will be ignored. Current value: min_data_in_leaf=10\n"
     ]
    },
    {
     "name": "stderr",
     "output_type": "stream",
     "text": [
      "/Users/shinichiro.saito/opt/anaconda3/lib/python3.8/site-packages/lightgbm/basic.py:1286: UserWarning: Overriding the parameters from Reference Dataset.\n",
      "  warnings.warn('Overriding the parameters from Reference Dataset.')\n",
      "/Users/shinichiro.saito/opt/anaconda3/lib/python3.8/site-packages/lightgbm/basic.py:1098: UserWarning: categorical_column in param dict is overridden.\n",
      "  warnings.warn('{} in param dict is overridden.'.format(cat_alias))\n"
     ]
    },
    {
     "name": "stdout",
     "output_type": "stream",
     "text": [
      "Training until validation scores don't improve for 100 rounds\n",
      "[100]\tvalid_0's rmse: 1.18452\tvalid_1's rmse: 1.22907\n",
      "[200]\tvalid_0's rmse: 1.02323\tvalid_1's rmse: 1.11976\n",
      "[300]\tvalid_0's rmse: 0.953858\tvalid_1's rmse: 1.09498\n",
      "[400]\tvalid_0's rmse: 0.903436\tvalid_1's rmse: 1.08349\n",
      "[500]\tvalid_0's rmse: 0.86106\tvalid_1's rmse: 1.07609\n",
      "[600]\tvalid_0's rmse: 0.823639\tvalid_1's rmse: 1.07096\n",
      "[700]\tvalid_0's rmse: 0.789865\tvalid_1's rmse: 1.06664\n",
      "[800]\tvalid_0's rmse: 0.759221\tvalid_1's rmse: 1.06259\n",
      "[900]\tvalid_0's rmse: 0.730773\tvalid_1's rmse: 1.05989\n",
      "[1000]\tvalid_0's rmse: 0.70463\tvalid_1's rmse: 1.0572\n",
      "[1100]\tvalid_0's rmse: 0.680128\tvalid_1's rmse: 1.05521\n",
      "[1200]\tvalid_0's rmse: 0.65708\tvalid_1's rmse: 1.0534\n",
      "[1300]\tvalid_0's rmse: 0.635665\tvalid_1's rmse: 1.05233\n",
      "[1400]\tvalid_0's rmse: 0.615218\tvalid_1's rmse: 1.05081\n",
      "[1500]\tvalid_0's rmse: 0.595869\tvalid_1's rmse: 1.04975\n",
      "[1600]\tvalid_0's rmse: 0.577767\tvalid_1's rmse: 1.04931\n",
      "[1700]\tvalid_0's rmse: 0.560198\tvalid_1's rmse: 1.04834\n",
      "[1800]\tvalid_0's rmse: 0.543821\tvalid_1's rmse: 1.04768\n",
      "[1900]\tvalid_0's rmse: 0.528175\tvalid_1's rmse: 1.04737\n",
      "[2000]\tvalid_0's rmse: 0.513344\tvalid_1's rmse: 1.04692\n",
      "[2100]\tvalid_0's rmse: 0.499079\tvalid_1's rmse: 1.04659\n",
      "[2200]\tvalid_0's rmse: 0.485391\tvalid_1's rmse: 1.04588\n",
      "[2300]\tvalid_0's rmse: 0.47229\tvalid_1's rmse: 1.04521\n",
      "[2400]\tvalid_0's rmse: 0.459768\tvalid_1's rmse: 1.04477\n",
      "[2500]\tvalid_0's rmse: 0.447839\tvalid_1's rmse: 1.04416\n",
      "[2600]\tvalid_0's rmse: 0.436669\tvalid_1's rmse: 1.04398\n",
      "[2700]\tvalid_0's rmse: 0.425669\tvalid_1's rmse: 1.044\n",
      "[2800]\tvalid_0's rmse: 0.415179\tvalid_1's rmse: 1.04375\n",
      "[2900]\tvalid_0's rmse: 0.405088\tvalid_1's rmse: 1.04326\n",
      "[3000]\tvalid_0's rmse: 0.395265\tvalid_1's rmse: 1.04307\n",
      "[3100]\tvalid_0's rmse: 0.385896\tvalid_1's rmse: 1.04265\n",
      "[3200]\tvalid_0's rmse: 0.376786\tvalid_1's rmse: 1.04264\n",
      "[3300]\tvalid_0's rmse: 0.368214\tvalid_1's rmse: 1.04266\n",
      "Early stopping, best iteration is:\n",
      "[3221]\tvalid_0's rmse: 0.375034\tvalid_1's rmse: 1.04256\n"
     ]
    },
    {
     "name": "stderr",
     "output_type": "stream",
     "text": [
      "feature_fraction, val_score: 1.042558:  14%|#4        | 1/7 [00:58<05:49, 58.30s/it]\u001b[32m[I 2021-03-08 02:25:56,581]\u001b[0m Trial 0 finished with value: 1.0425579398292883 and parameters: {'feature_fraction': 0.8}. Best is trial 0 with value: 1.0425579398292883.\u001b[0m\n",
      "feature_fraction, val_score: 1.042558:  14%|#4        | 1/7 [00:58<05:49, 58.30s/it]"
     ]
    },
    {
     "name": "stdout",
     "output_type": "stream",
     "text": [
      "Training until validation scores don't improve for 100 rounds\n",
      "[100]\tvalid_0's rmse: 1.18594\tvalid_1's rmse: 1.22989\n",
      "[200]\tvalid_0's rmse: 1.02464\tvalid_1's rmse: 1.11944\n",
      "[300]\tvalid_0's rmse: 0.954679\tvalid_1's rmse: 1.09406\n",
      "[400]\tvalid_0's rmse: 0.90485\tvalid_1's rmse: 1.08354\n",
      "[500]\tvalid_0's rmse: 0.862757\tvalid_1's rmse: 1.07559\n",
      "[600]\tvalid_0's rmse: 0.825561\tvalid_1's rmse: 1.06997\n",
      "[700]\tvalid_0's rmse: 0.792031\tvalid_1's rmse: 1.06559\n",
      "[800]\tvalid_0's rmse: 0.761508\tvalid_1's rmse: 1.06192\n",
      "[900]\tvalid_0's rmse: 0.73308\tvalid_1's rmse: 1.05949\n",
      "[1000]\tvalid_0's rmse: 0.707043\tvalid_1's rmse: 1.05645\n",
      "[1100]\tvalid_0's rmse: 0.682577\tvalid_1's rmse: 1.05522\n",
      "[1200]\tvalid_0's rmse: 0.659723\tvalid_1's rmse: 1.05372\n",
      "[1300]\tvalid_0's rmse: 0.638445\tvalid_1's rmse: 1.05161\n",
      "[1400]\tvalid_0's rmse: 0.618169\tvalid_1's rmse: 1.05022\n",
      "[1500]\tvalid_0's rmse: 0.598967\tvalid_1's rmse: 1.04904\n",
      "[1600]\tvalid_0's rmse: 0.580761\tvalid_1's rmse: 1.04791\n",
      "[1700]\tvalid_0's rmse: 0.563286\tvalid_1's rmse: 1.04703\n",
      "[1800]\tvalid_0's rmse: 0.546942\tvalid_1's rmse: 1.04591\n",
      "[1900]\tvalid_0's rmse: 0.531344\tvalid_1's rmse: 1.04515\n",
      "[2000]\tvalid_0's rmse: 0.516522\tvalid_1's rmse: 1.04477\n",
      "[2100]\tvalid_0's rmse: 0.502164\tvalid_1's rmse: 1.04431\n",
      "[2200]\tvalid_0's rmse: 0.488358\tvalid_1's rmse: 1.044\n",
      "[2300]\tvalid_0's rmse: 0.475169\tvalid_1's rmse: 1.04378\n",
      "[2400]\tvalid_0's rmse: 0.462861\tvalid_1's rmse: 1.04333\n",
      "[2500]\tvalid_0's rmse: 0.450892\tvalid_1's rmse: 1.04315\n",
      "[2600]\tvalid_0's rmse: 0.439427\tvalid_1's rmse: 1.04283\n",
      "[2700]\tvalid_0's rmse: 0.428604\tvalid_1's rmse: 1.04265\n",
      "[2800]\tvalid_0's rmse: 0.418121\tvalid_1's rmse: 1.04254\n",
      "[2900]\tvalid_0's rmse: 0.408263\tvalid_1's rmse: 1.04225\n",
      "[3000]\tvalid_0's rmse: 0.398407\tvalid_1's rmse: 1.0421\n",
      "[3100]\tvalid_0's rmse: 0.389124\tvalid_1's rmse: 1.04192\n",
      "Early stopping, best iteration is:\n",
      "[3052]\tvalid_0's rmse: 0.393535\tvalid_1's rmse: 1.04185\n"
     ]
    },
    {
     "name": "stderr",
     "output_type": "stream",
     "text": [
      "feature_fraction, val_score: 1.041847:  29%|##8       | 2/7 [01:46<04:37, 55.40s/it]\u001b[32m[I 2021-03-08 02:26:45,216]\u001b[0m Trial 1 finished with value: 1.0418471960511515 and parameters: {'feature_fraction': 0.7}. Best is trial 1 with value: 1.0418471960511515.\u001b[0m\n",
      "feature_fraction, val_score: 1.041847:  29%|##8       | 2/7 [01:46<04:37, 55.40s/it]"
     ]
    },
    {
     "name": "stdout",
     "output_type": "stream",
     "text": [
      "Training until validation scores don't improve for 100 rounds\n",
      "[100]\tvalid_0's rmse: 1.19653\tvalid_1's rmse: 1.23756\n",
      "[200]\tvalid_0's rmse: 1.03422\tvalid_1's rmse: 1.12453\n",
      "[300]\tvalid_0's rmse: 0.964018\tvalid_1's rmse: 1.09584\n",
      "[400]\tvalid_0's rmse: 0.916239\tvalid_1's rmse: 1.08502\n",
      "[500]\tvalid_0's rmse: 0.875416\tvalid_1's rmse: 1.07695\n",
      "[600]\tvalid_0's rmse: 0.839222\tvalid_1's rmse: 1.07172\n",
      "[700]\tvalid_0's rmse: 0.80641\tvalid_1's rmse: 1.06706\n",
      "[800]\tvalid_0's rmse: 0.776627\tvalid_1's rmse: 1.06283\n",
      "[900]\tvalid_0's rmse: 0.74911\tvalid_1's rmse: 1.05998\n",
      "[1000]\tvalid_0's rmse: 0.723342\tvalid_1's rmse: 1.05741\n",
      "[1100]\tvalid_0's rmse: 0.699337\tvalid_1's rmse: 1.05489\n",
      "[1200]\tvalid_0's rmse: 0.676828\tvalid_1's rmse: 1.05282\n",
      "[1300]\tvalid_0's rmse: 0.655857\tvalid_1's rmse: 1.05035\n",
      "[1400]\tvalid_0's rmse: 0.636005\tvalid_1's rmse: 1.04944\n",
      "[1500]\tvalid_0's rmse: 0.617235\tvalid_1's rmse: 1.04836\n",
      "[1600]\tvalid_0's rmse: 0.59925\tvalid_1's rmse: 1.04693\n",
      "[1700]\tvalid_0's rmse: 0.582256\tvalid_1's rmse: 1.04641\n",
      "[1800]\tvalid_0's rmse: 0.566041\tvalid_1's rmse: 1.04525\n",
      "[1900]\tvalid_0's rmse: 0.550479\tvalid_1's rmse: 1.04469\n",
      "[2000]\tvalid_0's rmse: 0.535595\tvalid_1's rmse: 1.0445\n",
      "[2100]\tvalid_0's rmse: 0.521535\tvalid_1's rmse: 1.04414\n",
      "[2200]\tvalid_0's rmse: 0.507855\tvalid_1's rmse: 1.04378\n",
      "[2300]\tvalid_0's rmse: 0.494933\tvalid_1's rmse: 1.04273\n",
      "[2400]\tvalid_0's rmse: 0.482406\tvalid_1's rmse: 1.04234\n",
      "[2500]\tvalid_0's rmse: 0.470454\tvalid_1's rmse: 1.04202\n",
      "[2600]\tvalid_0's rmse: 0.458997\tvalid_1's rmse: 1.04163\n",
      "[2700]\tvalid_0's rmse: 0.44774\tvalid_1's rmse: 1.04124\n",
      "[2800]\tvalid_0's rmse: 0.43718\tvalid_1's rmse: 1.04098\n",
      "[2900]\tvalid_0's rmse: 0.427044\tvalid_1's rmse: 1.04079\n",
      "[3000]\tvalid_0's rmse: 0.417196\tvalid_1's rmse: 1.04053\n",
      "[3100]\tvalid_0's rmse: 0.407795\tvalid_1's rmse: 1.04036\n",
      "Early stopping, best iteration is:\n",
      "[3088]\tvalid_0's rmse: 0.40895\tvalid_1's rmse: 1.04028\n"
     ]
    },
    {
     "name": "stderr",
     "output_type": "stream",
     "text": [
      "feature_fraction, val_score: 1.040277:  43%|####2     | 3/7 [02:17<03:11, 47.92s/it]\u001b[32m[I 2021-03-08 02:27:15,680]\u001b[0m Trial 2 finished with value: 1.0402769992695438 and parameters: {'feature_fraction': 0.4}. Best is trial 2 with value: 1.0402769992695438.\u001b[0m\n",
      "feature_fraction, val_score: 1.040277:  43%|####2     | 3/7 [02:17<03:11, 47.92s/it]"
     ]
    },
    {
     "name": "stdout",
     "output_type": "stream",
     "text": [
      "Training until validation scores don't improve for 100 rounds\n",
      "[100]\tvalid_0's rmse: 1.18315\tvalid_1's rmse: 1.22919\n",
      "[200]\tvalid_0's rmse: 1.02026\tvalid_1's rmse: 1.12129\n",
      "[300]\tvalid_0's rmse: 0.949658\tvalid_1's rmse: 1.09672\n",
      "[400]\tvalid_0's rmse: 0.898755\tvalid_1's rmse: 1.0859\n",
      "[500]\tvalid_0's rmse: 0.855968\tvalid_1's rmse: 1.07906\n",
      "[600]\tvalid_0's rmse: 0.818363\tvalid_1's rmse: 1.0736\n",
      "[700]\tvalid_0's rmse: 0.784247\tvalid_1's rmse: 1.06952\n",
      "[800]\tvalid_0's rmse: 0.752968\tvalid_1's rmse: 1.06561\n",
      "[900]\tvalid_0's rmse: 0.724179\tvalid_1's rmse: 1.06258\n",
      "[1000]\tvalid_0's rmse: 0.697626\tvalid_1's rmse: 1.05989\n",
      "[1100]\tvalid_0's rmse: 0.672806\tvalid_1's rmse: 1.05781\n",
      "[1200]\tvalid_0's rmse: 0.649702\tvalid_1's rmse: 1.05623\n",
      "[1300]\tvalid_0's rmse: 0.627953\tvalid_1's rmse: 1.05474\n",
      "[1400]\tvalid_0's rmse: 0.607596\tvalid_1's rmse: 1.05337\n",
      "[1500]\tvalid_0's rmse: 0.588283\tvalid_1's rmse: 1.05245\n",
      "[1600]\tvalid_0's rmse: 0.570174\tvalid_1's rmse: 1.05153\n",
      "[1700]\tvalid_0's rmse: 0.55287\tvalid_1's rmse: 1.05073\n",
      "[1800]\tvalid_0's rmse: 0.536192\tvalid_1's rmse: 1.04989\n",
      "[1900]\tvalid_0's rmse: 0.520707\tvalid_1's rmse: 1.04975\n",
      "[2000]\tvalid_0's rmse: 0.505812\tvalid_1's rmse: 1.04922\n",
      "[2100]\tvalid_0's rmse: 0.491485\tvalid_1's rmse: 1.04885\n",
      "[2200]\tvalid_0's rmse: 0.477745\tvalid_1's rmse: 1.04857\n",
      "[2300]\tvalid_0's rmse: 0.464775\tvalid_1's rmse: 1.04801\n",
      "[2400]\tvalid_0's rmse: 0.452173\tvalid_1's rmse: 1.04743\n",
      "[2500]\tvalid_0's rmse: 0.440243\tvalid_1's rmse: 1.04703\n",
      "[2600]\tvalid_0's rmse: 0.428997\tvalid_1's rmse: 1.04694\n",
      "Early stopping, best iteration is:\n",
      "[2595]\tvalid_0's rmse: 0.429563\tvalid_1's rmse: 1.04687\n"
     ]
    },
    {
     "name": "stderr",
     "output_type": "stream",
     "text": [
      "feature_fraction, val_score: 1.040277:  57%|#####7    | 4/7 [03:13<02:31, 50.50s/it]\u001b[32m[I 2021-03-08 02:28:12,204]\u001b[0m Trial 3 finished with value: 1.0468714352329986 and parameters: {'feature_fraction': 1.0}. Best is trial 2 with value: 1.0402769992695438.\u001b[0m\n",
      "feature_fraction, val_score: 1.040277:  57%|#####7    | 4/7 [03:13<02:31, 50.50s/it]"
     ]
    },
    {
     "name": "stdout",
     "output_type": "stream",
     "text": [
      "Training until validation scores don't improve for 100 rounds\n",
      "[100]\tvalid_0's rmse: 1.18792\tvalid_1's rmse: 1.23076\n",
      "[200]\tvalid_0's rmse: 1.02726\tvalid_1's rmse: 1.12091\n",
      "[300]\tvalid_0's rmse: 0.957544\tvalid_1's rmse: 1.09594\n",
      "[400]\tvalid_0's rmse: 0.908179\tvalid_1's rmse: 1.08516\n",
      "[500]\tvalid_0's rmse: 0.86653\tvalid_1's rmse: 1.07835\n",
      "[600]\tvalid_0's rmse: 0.829645\tvalid_1's rmse: 1.07275\n",
      "[700]\tvalid_0's rmse: 0.796261\tvalid_1's rmse: 1.0682\n",
      "[800]\tvalid_0's rmse: 0.766162\tvalid_1's rmse: 1.06429\n",
      "[900]\tvalid_0's rmse: 0.738179\tvalid_1's rmse: 1.06063\n",
      "[1000]\tvalid_0's rmse: 0.712095\tvalid_1's rmse: 1.05777\n",
      "[1100]\tvalid_0's rmse: 0.687884\tvalid_1's rmse: 1.05564\n",
      "[1200]\tvalid_0's rmse: 0.664984\tvalid_1's rmse: 1.05359\n",
      "[1300]\tvalid_0's rmse: 0.643701\tvalid_1's rmse: 1.05215\n",
      "[1400]\tvalid_0's rmse: 0.623714\tvalid_1's rmse: 1.05065\n",
      "[1500]\tvalid_0's rmse: 0.604647\tvalid_1's rmse: 1.04931\n",
      "[1600]\tvalid_0's rmse: 0.586213\tvalid_1's rmse: 1.04833\n",
      "[1700]\tvalid_0's rmse: 0.568917\tvalid_1's rmse: 1.04714\n",
      "[1800]\tvalid_0's rmse: 0.552534\tvalid_1's rmse: 1.04643\n",
      "[1900]\tvalid_0's rmse: 0.53709\tvalid_1's rmse: 1.04603\n",
      "[2000]\tvalid_0's rmse: 0.522171\tvalid_1's rmse: 1.04533\n",
      "[2100]\tvalid_0's rmse: 0.508065\tvalid_1's rmse: 1.04464\n",
      "[2200]\tvalid_0's rmse: 0.49451\tvalid_1's rmse: 1.04439\n",
      "[2300]\tvalid_0's rmse: 0.481323\tvalid_1's rmse: 1.04404\n",
      "[2400]\tvalid_0's rmse: 0.469065\tvalid_1's rmse: 1.04373\n",
      "[2500]\tvalid_0's rmse: 0.457151\tvalid_1's rmse: 1.04338\n",
      "[2600]\tvalid_0's rmse: 0.445812\tvalid_1's rmse: 1.04321\n",
      "[2700]\tvalid_0's rmse: 0.434807\tvalid_1's rmse: 1.04285\n",
      "[2800]\tvalid_0's rmse: 0.424223\tvalid_1's rmse: 1.04252\n",
      "[2900]\tvalid_0's rmse: 0.414142\tvalid_1's rmse: 1.04233\n",
      "[3000]\tvalid_0's rmse: 0.404458\tvalid_1's rmse: 1.04184\n",
      "[3100]\tvalid_0's rmse: 0.394874\tvalid_1's rmse: 1.04205\n",
      "Early stopping, best iteration is:\n",
      "[3012]\tvalid_0's rmse: 0.403236\tvalid_1's rmse: 1.04179\n"
     ]
    },
    {
     "name": "stderr",
     "output_type": "stream",
     "text": [
      "feature_fraction, val_score: 1.040277:  71%|#######1  | 5/7 [03:55<01:35, 47.87s/it]\u001b[32m[I 2021-03-08 02:28:53,946]\u001b[0m Trial 4 finished with value: 1.0417872498439358 and parameters: {'feature_fraction': 0.6}. Best is trial 2 with value: 1.0402769992695438.\u001b[0m\n",
      "feature_fraction, val_score: 1.040277:  71%|#######1  | 5/7 [03:55<01:35, 47.87s/it]"
     ]
    },
    {
     "name": "stdout",
     "output_type": "stream",
     "text": [
      "Training until validation scores don't improve for 100 rounds\n",
      "[100]\tvalid_0's rmse: 1.1841\tvalid_1's rmse: 1.22846\n",
      "[200]\tvalid_0's rmse: 1.0219\tvalid_1's rmse: 1.11955\n",
      "[300]\tvalid_0's rmse: 0.95151\tvalid_1's rmse: 1.09476\n",
      "[400]\tvalid_0's rmse: 0.900976\tvalid_1's rmse: 1.08413\n",
      "[500]\tvalid_0's rmse: 0.858379\tvalid_1's rmse: 1.077\n",
      "[600]\tvalid_0's rmse: 0.820587\tvalid_1's rmse: 1.07259\n",
      "[700]\tvalid_0's rmse: 0.787053\tvalid_1's rmse: 1.06791\n",
      "[800]\tvalid_0's rmse: 0.7563\tvalid_1's rmse: 1.06422\n",
      "[900]\tvalid_0's rmse: 0.727846\tvalid_1's rmse: 1.06196\n",
      "[1000]\tvalid_0's rmse: 0.701485\tvalid_1's rmse: 1.05931\n",
      "[1100]\tvalid_0's rmse: 0.676771\tvalid_1's rmse: 1.0568\n",
      "[1200]\tvalid_0's rmse: 0.654056\tvalid_1's rmse: 1.05449\n",
      "[1300]\tvalid_0's rmse: 0.632595\tvalid_1's rmse: 1.05384\n",
      "[1400]\tvalid_0's rmse: 0.612112\tvalid_1's rmse: 1.0525\n",
      "[1500]\tvalid_0's rmse: 0.592639\tvalid_1's rmse: 1.0518\n",
      "[1600]\tvalid_0's rmse: 0.574707\tvalid_1's rmse: 1.05069\n",
      "[1700]\tvalid_0's rmse: 0.557263\tvalid_1's rmse: 1.04991\n",
      "[1800]\tvalid_0's rmse: 0.540741\tvalid_1's rmse: 1.04908\n",
      "[1900]\tvalid_0's rmse: 0.525242\tvalid_1's rmse: 1.04873\n",
      "[2000]\tvalid_0's rmse: 0.510402\tvalid_1's rmse: 1.04851\n",
      "[2100]\tvalid_0's rmse: 0.49603\tvalid_1's rmse: 1.0479\n",
      "[2200]\tvalid_0's rmse: 0.482178\tvalid_1's rmse: 1.04704\n",
      "[2300]\tvalid_0's rmse: 0.469019\tvalid_1's rmse: 1.0469\n",
      "[2400]\tvalid_0's rmse: 0.45667\tvalid_1's rmse: 1.04665\n",
      "[2500]\tvalid_0's rmse: 0.444636\tvalid_1's rmse: 1.0461\n",
      "[2600]\tvalid_0's rmse: 0.433324\tvalid_1's rmse: 1.0455\n",
      "Early stopping, best iteration is:\n",
      "[2596]\tvalid_0's rmse: 0.433783\tvalid_1's rmse: 1.04547\n"
     ]
    },
    {
     "name": "stderr",
     "output_type": "stream",
     "text": [
      "feature_fraction, val_score: 1.040277:  86%|########5 | 6/7 [04:46<00:48, 48.85s/it]\u001b[32m[I 2021-03-08 02:29:45,066]\u001b[0m Trial 5 finished with value: 1.0454668325261218 and parameters: {'feature_fraction': 0.8999999999999999}. Best is trial 2 with value: 1.0402769992695438.\u001b[0m\n",
      "feature_fraction, val_score: 1.040277:  86%|########5 | 6/7 [04:46<00:48, 48.85s/it]"
     ]
    },
    {
     "name": "stdout",
     "output_type": "stream",
     "text": [
      "Training until validation scores don't improve for 100 rounds\n",
      "[100]\tvalid_0's rmse: 1.19049\tvalid_1's rmse: 1.23323\n",
      "[200]\tvalid_0's rmse: 1.03013\tvalid_1's rmse: 1.12271\n",
      "[300]\tvalid_0's rmse: 0.960448\tvalid_1's rmse: 1.09539\n",
      "[400]\tvalid_0's rmse: 0.911468\tvalid_1's rmse: 1.08355\n",
      "[500]\tvalid_0's rmse: 0.870076\tvalid_1's rmse: 1.07565\n",
      "[600]\tvalid_0's rmse: 0.833398\tvalid_1's rmse: 1.0702\n",
      "[700]\tvalid_0's rmse: 0.800377\tvalid_1's rmse: 1.06603\n",
      "[800]\tvalid_0's rmse: 0.77054\tvalid_1's rmse: 1.06241\n",
      "[900]\tvalid_0's rmse: 0.742283\tvalid_1's rmse: 1.05938\n",
      "[1000]\tvalid_0's rmse: 0.716711\tvalid_1's rmse: 1.05612\n",
      "[1100]\tvalid_0's rmse: 0.692908\tvalid_1's rmse: 1.05401\n",
      "[1200]\tvalid_0's rmse: 0.670095\tvalid_1's rmse: 1.05228\n",
      "[1300]\tvalid_0's rmse: 0.648871\tvalid_1's rmse: 1.05023\n",
      "[1400]\tvalid_0's rmse: 0.628586\tvalid_1's rmse: 1.04923\n",
      "[1500]\tvalid_0's rmse: 0.609594\tvalid_1's rmse: 1.04818\n",
      "[1600]\tvalid_0's rmse: 0.591478\tvalid_1's rmse: 1.0467\n",
      "[1700]\tvalid_0's rmse: 0.574362\tvalid_1's rmse: 1.04551\n",
      "[1800]\tvalid_0's rmse: 0.557884\tvalid_1's rmse: 1.04447\n",
      "[1900]\tvalid_0's rmse: 0.542407\tvalid_1's rmse: 1.04369\n",
      "[2000]\tvalid_0's rmse: 0.527495\tvalid_1's rmse: 1.04278\n",
      "[2100]\tvalid_0's rmse: 0.513364\tvalid_1's rmse: 1.04222\n",
      "[2200]\tvalid_0's rmse: 0.499939\tvalid_1's rmse: 1.04192\n",
      "[2300]\tvalid_0's rmse: 0.486863\tvalid_1's rmse: 1.04111\n",
      "[2400]\tvalid_0's rmse: 0.474412\tvalid_1's rmse: 1.04069\n",
      "[2500]\tvalid_0's rmse: 0.462511\tvalid_1's rmse: 1.04029\n",
      "Early stopping, best iteration is:\n",
      "[2450]\tvalid_0's rmse: 0.468512\tvalid_1's rmse: 1.04021\n"
     ]
    },
    {
     "name": "stderr",
     "output_type": "stream",
     "text": [
      "feature_fraction, val_score: 1.040206: 100%|##########| 7/7 [05:17<00:00, 43.38s/it]\u001b[32m[I 2021-03-08 02:30:15,691]\u001b[0m Trial 6 finished with value: 1.0402062977933453 and parameters: {'feature_fraction': 0.5}. Best is trial 6 with value: 1.0402062977933453.\u001b[0m\n",
      "feature_fraction, val_score: 1.040206: 100%|##########| 7/7 [05:17<00:00, 45.35s/it]\n",
      "num_leaves, val_score: 1.040206:   0%|          | 0/20 [00:00<?, ?it/s]"
     ]
    },
    {
     "name": "stdout",
     "output_type": "stream",
     "text": [
      "Training until validation scores don't improve for 100 rounds\n",
      "[100]\tvalid_0's rmse: 0.997031\tvalid_1's rmse: 1.20177\n",
      "[200]\tvalid_0's rmse: 0.690465\tvalid_1's rmse: 1.08102\n",
      "[300]\tvalid_0's rmse: 0.531761\tvalid_1's rmse: 1.05645\n",
      "[400]\tvalid_0's rmse: 0.428212\tvalid_1's rmse: 1.04973\n",
      "[500]\tvalid_0's rmse: 0.353323\tvalid_1's rmse: 1.04709\n",
      "[600]\tvalid_0's rmse: 0.297476\tvalid_1's rmse: 1.04618\n",
      "[700]\tvalid_0's rmse: 0.25539\tvalid_1's rmse: 1.04561\n",
      "[800]\tvalid_0's rmse: 0.222907\tvalid_1's rmse: 1.04527\n",
      "[900]\tvalid_0's rmse: 0.19783\tvalid_1's rmse: 1.0451\n",
      "[1000]\tvalid_0's rmse: 0.178116\tvalid_1's rmse: 1.04498\n",
      "Early stopping, best iteration is:\n",
      "[936]\tvalid_0's rmse: 0.190184\tvalid_1's rmse: 1.04488\n"
     ]
    },
    {
     "name": "stderr",
     "output_type": "stream",
     "text": [
      "num_leaves, val_score: 1.040206:   5%|5         | 1/20 [01:08<21:34, 68.11s/it]\u001b[32m[I 2021-03-08 02:31:23,811]\u001b[0m Trial 7 finished with value: 1.044875512216887 and parameters: {'num_leaves': 189}. Best is trial 7 with value: 1.044875512216887.\u001b[0m\n",
      "num_leaves, val_score: 1.040206:   5%|5         | 1/20 [01:08<21:34, 68.11s/it]"
     ]
    },
    {
     "name": "stdout",
     "output_type": "stream",
     "text": [
      "Training until validation scores don't improve for 100 rounds\n",
      "[100]\tvalid_0's rmse: 1.10583\tvalid_1's rmse: 1.21449\n",
      "[200]\tvalid_0's rmse: 0.881011\tvalid_1's rmse: 1.09573\n",
      "[300]\tvalid_0's rmse: 0.767657\tvalid_1's rmse: 1.06762\n",
      "[400]\tvalid_0's rmse: 0.686216\tvalid_1's rmse: 1.05846\n",
      "[500]\tvalid_0's rmse: 0.619231\tvalid_1's rmse: 1.05294\n",
      "[600]\tvalid_0's rmse: 0.562535\tvalid_1's rmse: 1.04923\n",
      "[700]\tvalid_0's rmse: 0.513376\tvalid_1's rmse: 1.04614\n",
      "[800]\tvalid_0's rmse: 0.470617\tvalid_1's rmse: 1.044\n",
      "[900]\tvalid_0's rmse: 0.432873\tvalid_1's rmse: 1.04183\n",
      "[1000]\tvalid_0's rmse: 0.39959\tvalid_1's rmse: 1.04081\n",
      "[1100]\tvalid_0's rmse: 0.370359\tvalid_1's rmse: 1.04027\n",
      "[1200]\tvalid_0's rmse: 0.344236\tvalid_1's rmse: 1.03946\n",
      "[1300]\tvalid_0's rmse: 0.321075\tvalid_1's rmse: 1.03923\n",
      "Early stopping, best iteration is:\n",
      "[1295]\tvalid_0's rmse: 0.32223\tvalid_1's rmse: 1.03912\n"
     ]
    },
    {
     "name": "stderr",
     "output_type": "stream",
     "text": [
      "num_leaves, val_score: 1.039120:  10%|#         | 2/20 [01:49<18:01, 60.09s/it]\u001b[32m[I 2021-03-08 02:32:05,198]\u001b[0m Trial 8 finished with value: 1.0391195735884642 and parameters: {'num_leaves': 70}. Best is trial 8 with value: 1.0391195735884642.\u001b[0m\n",
      "num_leaves, val_score: 1.039120:  10%|#         | 2/20 [01:49<18:01, 60.09s/it]"
     ]
    },
    {
     "name": "stdout",
     "output_type": "stream",
     "text": [
      "Training until validation scores don't improve for 100 rounds\n",
      "[100]\tvalid_0's rmse: 1.00788\tvalid_1's rmse: 1.20165\n",
      "[200]\tvalid_0's rmse: 0.708205\tvalid_1's rmse: 1.08248\n",
      "[300]\tvalid_0's rmse: 0.55267\tvalid_1's rmse: 1.05757\n",
      "[400]\tvalid_0's rmse: 0.449906\tvalid_1's rmse: 1.05006\n",
      "[500]\tvalid_0's rmse: 0.374125\tvalid_1's rmse: 1.04717\n",
      "[600]\tvalid_0's rmse: 0.316628\tvalid_1's rmse: 1.04583\n",
      "[700]\tvalid_0's rmse: 0.272557\tvalid_1's rmse: 1.04472\n",
      "[800]\tvalid_0's rmse: 0.238146\tvalid_1's rmse: 1.04445\n",
      "[900]\tvalid_0's rmse: 0.211351\tvalid_1's rmse: 1.04386\n",
      "[1000]\tvalid_0's rmse: 0.189992\tvalid_1's rmse: 1.04373\n",
      "[1100]\tvalid_0's rmse: 0.172856\tvalid_1's rmse: 1.0436\n",
      "[1200]\tvalid_0's rmse: 0.158738\tvalid_1's rmse: 1.04368\n",
      "Early stopping, best iteration is:\n",
      "[1122]\tvalid_0's rmse: 0.169574\tvalid_1's rmse: 1.04355\n"
     ]
    },
    {
     "name": "stderr",
     "output_type": "stream",
     "text": [
      "num_leaves, val_score: 1.039120:  15%|#5        | 3/20 [02:59<17:51, 63.03s/it]\u001b[32m[I 2021-03-08 02:33:15,072]\u001b[0m Trial 9 finished with value: 1.0435496286763368 and parameters: {'num_leaves': 173}. Best is trial 8 with value: 1.0391195735884642.\u001b[0m\n",
      "num_leaves, val_score: 1.039120:  15%|#5        | 3/20 [02:59<17:51, 63.03s/it]"
     ]
    },
    {
     "name": "stdout",
     "output_type": "stream",
     "text": [
      "Training until validation scores don't improve for 100 rounds\n",
      "[100]\tvalid_0's rmse: 0.984102\tvalid_1's rmse: 1.19995\n",
      "[200]\tvalid_0's rmse: 0.667846\tvalid_1's rmse: 1.07995\n",
      "[300]\tvalid_0's rmse: 0.504954\tvalid_1's rmse: 1.05621\n",
      "[400]\tvalid_0's rmse: 0.401161\tvalid_1's rmse: 1.04965\n",
      "[500]\tvalid_0's rmse: 0.327962\tvalid_1's rmse: 1.04694\n",
      "[600]\tvalid_0's rmse: 0.274518\tvalid_1's rmse: 1.04579\n",
      "[700]\tvalid_0's rmse: 0.235046\tvalid_1's rmse: 1.04549\n",
      "[800]\tvalid_0's rmse: 0.205332\tvalid_1's rmse: 1.04516\n",
      "[900]\tvalid_0's rmse: 0.182747\tvalid_1's rmse: 1.0448\n",
      "[1000]\tvalid_0's rmse: 0.165062\tvalid_1's rmse: 1.04481\n",
      "Early stopping, best iteration is:\n",
      "[990]\tvalid_0's rmse: 0.166636\tvalid_1's rmse: 1.04474\n"
     ]
    },
    {
     "name": "stderr",
     "output_type": "stream",
     "text": [
      "num_leaves, val_score: 1.039120:  20%|##        | 4/20 [04:15<17:49, 66.86s/it]\u001b[32m[I 2021-03-08 02:34:30,874]\u001b[0m Trial 10 finished with value: 1.0447441428800115 and parameters: {'num_leaves': 214}. Best is trial 8 with value: 1.0391195735884642.\u001b[0m\n",
      "num_leaves, val_score: 1.039120:  20%|##        | 4/20 [04:15<17:49, 66.86s/it]"
     ]
    },
    {
     "name": "stdout",
     "output_type": "stream",
     "text": [
      "Training until validation scores don't improve for 100 rounds\n",
      "[100]\tvalid_0's rmse: 1.36422\tvalid_1's rmse: 1.36367\n",
      "[200]\tvalid_0's rmse: 1.27004\tvalid_1's rmse: 1.2686\n",
      "[300]\tvalid_0's rmse: 1.22734\tvalid_1's rmse: 1.22598\n",
      "[400]\tvalid_0's rmse: 1.2\tvalid_1's rmse: 1.20026\n",
      "[500]\tvalid_0's rmse: 1.18088\tvalid_1's rmse: 1.18317\n",
      "[600]\tvalid_0's rmse: 1.16666\tvalid_1's rmse: 1.17172\n",
      "[700]\tvalid_0's rmse: 1.1559\tvalid_1's rmse: 1.16332\n",
      "[800]\tvalid_0's rmse: 1.14735\tvalid_1's rmse: 1.15752\n",
      "[900]\tvalid_0's rmse: 1.14048\tvalid_1's rmse: 1.15338\n",
      "[1000]\tvalid_0's rmse: 1.13471\tvalid_1's rmse: 1.15004\n",
      "[1100]\tvalid_0's rmse: 1.12965\tvalid_1's rmse: 1.14743\n",
      "[1200]\tvalid_0's rmse: 1.12531\tvalid_1's rmse: 1.14511\n",
      "[1300]\tvalid_0's rmse: 1.12136\tvalid_1's rmse: 1.14325\n",
      "[1400]\tvalid_0's rmse: 1.1177\tvalid_1's rmse: 1.14136\n",
      "[1500]\tvalid_0's rmse: 1.11414\tvalid_1's rmse: 1.13955\n",
      "[1600]\tvalid_0's rmse: 1.11085\tvalid_1's rmse: 1.13829\n",
      "[1700]\tvalid_0's rmse: 1.10769\tvalid_1's rmse: 1.13667\n",
      "[1800]\tvalid_0's rmse: 1.10464\tvalid_1's rmse: 1.13537\n",
      "[1900]\tvalid_0's rmse: 1.10175\tvalid_1's rmse: 1.1341\n",
      "[2000]\tvalid_0's rmse: 1.09897\tvalid_1's rmse: 1.13306\n",
      "[2100]\tvalid_0's rmse: 1.09632\tvalid_1's rmse: 1.13194\n",
      "[2200]\tvalid_0's rmse: 1.0937\tvalid_1's rmse: 1.13079\n",
      "[2300]\tvalid_0's rmse: 1.09122\tvalid_1's rmse: 1.12984\n",
      "[2400]\tvalid_0's rmse: 1.08887\tvalid_1's rmse: 1.12912\n",
      "[2500]\tvalid_0's rmse: 1.0865\tvalid_1's rmse: 1.12837\n",
      "[2600]\tvalid_0's rmse: 1.08422\tvalid_1's rmse: 1.12733\n",
      "[2700]\tvalid_0's rmse: 1.082\tvalid_1's rmse: 1.12635\n",
      "[2800]\tvalid_0's rmse: 1.07986\tvalid_1's rmse: 1.12564\n",
      "[2900]\tvalid_0's rmse: 1.07773\tvalid_1's rmse: 1.12475\n",
      "[3000]\tvalid_0's rmse: 1.07566\tvalid_1's rmse: 1.12394\n",
      "[3100]\tvalid_0's rmse: 1.07365\tvalid_1's rmse: 1.12304\n",
      "[3200]\tvalid_0's rmse: 1.0717\tvalid_1's rmse: 1.12242\n",
      "[3300]\tvalid_0's rmse: 1.06972\tvalid_1's rmse: 1.12198\n",
      "[3400]\tvalid_0's rmse: 1.06784\tvalid_1's rmse: 1.12128\n",
      "[3500]\tvalid_0's rmse: 1.066\tvalid_1's rmse: 1.12068\n",
      "[3600]\tvalid_0's rmse: 1.06415\tvalid_1's rmse: 1.12014\n",
      "[3700]\tvalid_0's rmse: 1.06231\tvalid_1's rmse: 1.11923\n",
      "[3800]\tvalid_0's rmse: 1.0605\tvalid_1's rmse: 1.11822\n",
      "[3900]\tvalid_0's rmse: 1.0588\tvalid_1's rmse: 1.11752\n",
      "[4000]\tvalid_0's rmse: 1.05709\tvalid_1's rmse: 1.11708\n",
      "[4100]\tvalid_0's rmse: 1.05542\tvalid_1's rmse: 1.11667\n",
      "[4200]\tvalid_0's rmse: 1.05381\tvalid_1's rmse: 1.11603\n",
      "[4300]\tvalid_0's rmse: 1.05217\tvalid_1's rmse: 1.11533\n",
      "[4400]\tvalid_0's rmse: 1.05057\tvalid_1's rmse: 1.1151\n",
      "[4500]\tvalid_0's rmse: 1.04896\tvalid_1's rmse: 1.1148\n",
      "[4600]\tvalid_0's rmse: 1.0474\tvalid_1's rmse: 1.11416\n",
      "[4700]\tvalid_0's rmse: 1.0459\tvalid_1's rmse: 1.11375\n",
      "[4800]\tvalid_0's rmse: 1.0444\tvalid_1's rmse: 1.11336\n",
      "[4900]\tvalid_0's rmse: 1.04287\tvalid_1's rmse: 1.11264\n",
      "[5000]\tvalid_0's rmse: 1.04139\tvalid_1's rmse: 1.11228\n",
      "[5100]\tvalid_0's rmse: 1.03989\tvalid_1's rmse: 1.11202\n",
      "[5200]\tvalid_0's rmse: 1.03851\tvalid_1's rmse: 1.11139\n",
      "[5300]\tvalid_0's rmse: 1.03709\tvalid_1's rmse: 1.11089\n",
      "[5400]\tvalid_0's rmse: 1.03568\tvalid_1's rmse: 1.11027\n",
      "[5500]\tvalid_0's rmse: 1.0343\tvalid_1's rmse: 1.10991\n",
      "[5600]\tvalid_0's rmse: 1.03292\tvalid_1's rmse: 1.10943\n",
      "[5700]\tvalid_0's rmse: 1.03158\tvalid_1's rmse: 1.10908\n",
      "[5800]\tvalid_0's rmse: 1.03023\tvalid_1's rmse: 1.10868\n",
      "[5900]\tvalid_0's rmse: 1.0289\tvalid_1's rmse: 1.10833\n",
      "[6000]\tvalid_0's rmse: 1.02758\tvalid_1's rmse: 1.10785\n",
      "[6100]\tvalid_0's rmse: 1.02631\tvalid_1's rmse: 1.1076\n",
      "[6200]\tvalid_0's rmse: 1.02507\tvalid_1's rmse: 1.10712\n",
      "[6300]\tvalid_0's rmse: 1.02383\tvalid_1's rmse: 1.1068\n",
      "[6400]\tvalid_0's rmse: 1.02259\tvalid_1's rmse: 1.10638\n",
      "[6500]\tvalid_0's rmse: 1.02144\tvalid_1's rmse: 1.10613\n",
      "[6600]\tvalid_0's rmse: 1.02027\tvalid_1's rmse: 1.106\n",
      "[6700]\tvalid_0's rmse: 1.01907\tvalid_1's rmse: 1.10558\n",
      "[6800]\tvalid_0's rmse: 1.01784\tvalid_1's rmse: 1.10535\n",
      "[6900]\tvalid_0's rmse: 1.01665\tvalid_1's rmse: 1.10494\n",
      "[7000]\tvalid_0's rmse: 1.01541\tvalid_1's rmse: 1.10445\n",
      "[7100]\tvalid_0's rmse: 1.0142\tvalid_1's rmse: 1.10404\n",
      "[7200]\tvalid_0's rmse: 1.01307\tvalid_1's rmse: 1.10374\n",
      "[7300]\tvalid_0's rmse: 1.01194\tvalid_1's rmse: 1.10349\n",
      "[7400]\tvalid_0's rmse: 1.01084\tvalid_1's rmse: 1.10316\n",
      "[7500]\tvalid_0's rmse: 1.00979\tvalid_1's rmse: 1.10288\n"
     ]
    },
    {
     "name": "stderr",
     "output_type": "stream",
     "text": [
      "num_leaves, val_score: 1.039120:  25%|##5       | 5/20 [04:25<12:30, 50.00s/it]\u001b[32m[I 2021-03-08 02:34:41,563]\u001b[0m Trial 11 finished with value: 1.1028508147439273 and parameters: {'num_leaves': 2}. Best is trial 8 with value: 1.0391195735884642.\u001b[0m\n",
      "num_leaves, val_score: 1.039120:  25%|##5       | 5/20 [04:25<12:30, 50.00s/it]"
     ]
    },
    {
     "name": "stdout",
     "output_type": "stream",
     "text": [
      "Early stopping, best iteration is:\n",
      "[7489]\tvalid_0's rmse: 1.0099\tvalid_1's rmse: 1.10285\n",
      "Training until validation scores don't improve for 100 rounds\n",
      "[100]\tvalid_0's rmse: 1.03237\tvalid_1's rmse: 1.20365\n",
      "[200]\tvalid_0's rmse: 0.75085\tvalid_1's rmse: 1.08239\n",
      "[300]\tvalid_0's rmse: 0.604481\tvalid_1's rmse: 1.05632\n",
      "[400]\tvalid_0's rmse: 0.504762\tvalid_1's rmse: 1.04834\n",
      "[500]\tvalid_0's rmse: 0.42876\tvalid_1's rmse: 1.04347\n",
      "[600]\tvalid_0's rmse: 0.368786\tvalid_1's rmse: 1.04229\n",
      "[700]\tvalid_0's rmse: 0.321105\tvalid_1's rmse: 1.04104\n",
      "[800]\tvalid_0's rmse: 0.2824\tvalid_1's rmse: 1.03962\n",
      "[900]\tvalid_0's rmse: 0.251383\tvalid_1's rmse: 1.03907\n",
      "[1000]\tvalid_0's rmse: 0.225965\tvalid_1's rmse: 1.03866\n",
      "[1100]\tvalid_0's rmse: 0.205324\tvalid_1's rmse: 1.03847\n",
      "[1200]\tvalid_0's rmse: 0.188104\tvalid_1's rmse: 1.03846\n",
      "[1300]\tvalid_0's rmse: 0.173856\tvalid_1's rmse: 1.03833\n",
      "[1400]\tvalid_0's rmse: 0.161853\tvalid_1's rmse: 1.03823\n",
      "[1500]\tvalid_0's rmse: 0.151713\tvalid_1's rmse: 1.03813\n",
      "Early stopping, best iteration is:\n",
      "[1488]\tvalid_0's rmse: 0.152836\tvalid_1's rmse: 1.03808\n"
     ]
    },
    {
     "name": "stderr",
     "output_type": "stream",
     "text": [
      "num_leaves, val_score: 1.038080:  30%|###       | 6/20 [05:44<13:40, 58.63s/it]\u001b[32m[I 2021-03-08 02:36:00,318]\u001b[0m Trial 12 finished with value: 1.0380799611936546 and parameters: {'num_leaves': 139}. Best is trial 12 with value: 1.0380799611936546.\u001b[0m\n",
      "num_leaves, val_score: 1.038080:  30%|###       | 6/20 [05:44<13:40, 58.63s/it]"
     ]
    },
    {
     "name": "stdout",
     "output_type": "stream",
     "text": [
      "Training until validation scores don't improve for 100 rounds\n",
      "[100]\tvalid_0's rmse: 0.98327\tvalid_1's rmse: 1.1996\n",
      "[200]\tvalid_0's rmse: 0.66605\tvalid_1's rmse: 1.08003\n",
      "[300]\tvalid_0's rmse: 0.503818\tvalid_1's rmse: 1.05552\n",
      "[400]\tvalid_0's rmse: 0.400338\tvalid_1's rmse: 1.0497\n",
      "[500]\tvalid_0's rmse: 0.326971\tvalid_1's rmse: 1.04748\n",
      "[600]\tvalid_0's rmse: 0.273794\tvalid_1's rmse: 1.04617\n",
      "[700]\tvalid_0's rmse: 0.23465\tvalid_1's rmse: 1.04597\n",
      "[800]\tvalid_0's rmse: 0.205133\tvalid_1's rmse: 1.04612\n",
      "Early stopping, best iteration is:\n",
      "[710]\tvalid_0's rmse: 0.231327\tvalid_1's rmse: 1.04584\n"
     ]
    },
    {
     "name": "stderr",
     "output_type": "stream",
     "text": [
      "num_leaves, val_score: 1.038080:  35%|###5      | 7/20 [06:39<12:29, 57.63s/it]\u001b[32m[I 2021-03-08 02:36:55,605]\u001b[0m Trial 13 finished with value: 1.0458411122289446 and parameters: {'num_leaves': 215}. Best is trial 12 with value: 1.0380799611936546.\u001b[0m\n",
      "num_leaves, val_score: 1.038080:  35%|###5      | 7/20 [06:39<12:29, 57.63s/it]"
     ]
    },
    {
     "name": "stdout",
     "output_type": "stream",
     "text": [
      "Training until validation scores don't improve for 100 rounds\n",
      "[100]\tvalid_0's rmse: 1.04448\tvalid_1's rmse: 1.20502\n",
      "[200]\tvalid_0's rmse: 0.772639\tvalid_1's rmse: 1.08589\n",
      "[300]\tvalid_0's rmse: 0.631244\tvalid_1's rmse: 1.06122\n",
      "[400]\tvalid_0's rmse: 0.533848\tvalid_1's rmse: 1.05263\n",
      "[500]\tvalid_0's rmse: 0.458007\tvalid_1's rmse: 1.04877\n",
      "[600]\tvalid_0's rmse: 0.397306\tvalid_1's rmse: 1.04688\n",
      "[700]\tvalid_0's rmse: 0.348063\tvalid_1's rmse: 1.0455\n",
      "[800]\tvalid_0's rmse: 0.307785\tvalid_1's rmse: 1.04466\n",
      "[900]\tvalid_0's rmse: 0.274592\tvalid_1's rmse: 1.04387\n",
      "[1000]\tvalid_0's rmse: 0.247226\tvalid_1's rmse: 1.04334\n",
      "[1100]\tvalid_0's rmse: 0.224491\tvalid_1's rmse: 1.04287\n",
      "[1200]\tvalid_0's rmse: 0.205673\tvalid_1's rmse: 1.04258\n",
      "Early stopping, best iteration is:\n",
      "[1152]\tvalid_0's rmse: 0.214298\tvalid_1's rmse: 1.0425\n"
     ]
    },
    {
     "name": "stderr",
     "output_type": "stream",
     "text": [
      "num_leaves, val_score: 1.038080:  40%|####      | 8/20 [07:38<11:33, 57.79s/it]\u001b[32m[I 2021-03-08 02:37:53,760]\u001b[0m Trial 14 finished with value: 1.0425022579656555 and parameters: {'num_leaves': 125}. Best is trial 12 with value: 1.0380799611936546.\u001b[0m\n",
      "num_leaves, val_score: 1.038080:  40%|####      | 8/20 [07:38<11:33, 57.79s/it]"
     ]
    },
    {
     "name": "stdout",
     "output_type": "stream",
     "text": [
      "Training until validation scores don't improve for 100 rounds\n",
      "[100]\tvalid_0's rmse: 1.06465\tvalid_1's rmse: 1.2083\n",
      "[200]\tvalid_0's rmse: 0.808301\tvalid_1's rmse: 1.08853\n",
      "[300]\tvalid_0's rmse: 0.675827\tvalid_1's rmse: 1.06194\n",
      "[400]\tvalid_0's rmse: 0.582725\tvalid_1's rmse: 1.05212\n",
      "[500]\tvalid_0's rmse: 0.508722\tvalid_1's rmse: 1.04735\n",
      "[600]\tvalid_0's rmse: 0.448346\tvalid_1's rmse: 1.04495\n",
      "[700]\tvalid_0's rmse: 0.397843\tvalid_1's rmse: 1.04388\n",
      "[800]\tvalid_0's rmse: 0.355255\tvalid_1's rmse: 1.04242\n",
      "[900]\tvalid_0's rmse: 0.319622\tvalid_1's rmse: 1.04138\n",
      "[1000]\tvalid_0's rmse: 0.289675\tvalid_1's rmse: 1.04089\n",
      "[1100]\tvalid_0's rmse: 0.264237\tvalid_1's rmse: 1.04092\n",
      "[1200]\tvalid_0's rmse: 0.242601\tvalid_1's rmse: 1.04092\n",
      "Early stopping, best iteration is:\n",
      "[1155]\tvalid_0's rmse: 0.251925\tvalid_1's rmse: 1.04073\n"
     ]
    },
    {
     "name": "stderr",
     "output_type": "stream",
     "text": [
      "num_leaves, val_score: 1.038080:  45%|####5     | 9/20 [08:28<10:10, 55.54s/it]\u001b[32m[I 2021-03-08 02:38:44,046]\u001b[0m Trial 15 finished with value: 1.0407329334279167 and parameters: {'num_leaves': 104}. Best is trial 12 with value: 1.0380799611936546.\u001b[0m\n",
      "num_leaves, val_score: 1.038080:  45%|####5     | 9/20 [08:28<10:10, 55.54s/it]"
     ]
    },
    {
     "name": "stdout",
     "output_type": "stream",
     "text": [
      "Training until validation scores don't improve for 100 rounds\n",
      "[100]\tvalid_0's rmse: 1.07907\tvalid_1's rmse: 1.2087\n",
      "[200]\tvalid_0's rmse: 0.833642\tvalid_1's rmse: 1.08964\n",
      "[300]\tvalid_0's rmse: 0.707566\tvalid_1's rmse: 1.06298\n",
      "[400]\tvalid_0's rmse: 0.618012\tvalid_1's rmse: 1.05345\n",
      "[500]\tvalid_0's rmse: 0.545423\tvalid_1's rmse: 1.04875\n",
      "[600]\tvalid_0's rmse: 0.485892\tvalid_1's rmse: 1.04575\n",
      "[700]\tvalid_0's rmse: 0.435677\tvalid_1's rmse: 1.04325\n",
      "[800]\tvalid_0's rmse: 0.392408\tvalid_1's rmse: 1.04109\n",
      "[900]\tvalid_0's rmse: 0.355462\tvalid_1's rmse: 1.04\n",
      "[1000]\tvalid_0's rmse: 0.323875\tvalid_1's rmse: 1.03931\n",
      "[1100]\tvalid_0's rmse: 0.29673\tvalid_1's rmse: 1.03925\n",
      "[1200]\tvalid_0's rmse: 0.273172\tvalid_1's rmse: 1.03903\n",
      "[1300]\tvalid_0's rmse: 0.252998\tvalid_1's rmse: 1.0389\n",
      "[1400]\tvalid_0's rmse: 0.235453\tvalid_1's rmse: 1.03898\n",
      "Early stopping, best iteration is:\n",
      "[1321]\tvalid_0's rmse: 0.249165\tvalid_1's rmse: 1.0388\n"
     ]
    },
    {
     "name": "stderr",
     "output_type": "stream",
     "text": [
      "num_leaves, val_score: 1.038080:  50%|#####     | 10/20 [09:18<09:00, 54.03s/it]\u001b[32m[I 2021-03-08 02:39:34,569]\u001b[0m Trial 16 finished with value: 1.0387959838433223 and parameters: {'num_leaves': 91}. Best is trial 12 with value: 1.0380799611936546.\u001b[0m\n",
      "num_leaves, val_score: 1.038080:  50%|#####     | 10/20 [09:18<09:00, 54.03s/it]"
     ]
    },
    {
     "name": "stdout",
     "output_type": "stream",
     "text": [
      "Training until validation scores don't improve for 100 rounds\n",
      "[100]\tvalid_0's rmse: 1.16475\tvalid_1's rmse: 1.22677\n",
      "[200]\tvalid_0's rmse: 0.984507\tvalid_1's rmse: 1.11458\n",
      "[300]\tvalid_0's rmse: 0.901244\tvalid_1's rmse: 1.08739\n",
      "[400]\tvalid_0's rmse: 0.842229\tvalid_1's rmse: 1.07655\n",
      "[500]\tvalid_0's rmse: 0.791651\tvalid_1's rmse: 1.06996\n",
      "[600]\tvalid_0's rmse: 0.747414\tvalid_1's rmse: 1.06523\n",
      "[700]\tvalid_0's rmse: 0.708105\tvalid_1's rmse: 1.06085\n",
      "[800]\tvalid_0's rmse: 0.672469\tvalid_1's rmse: 1.0571\n",
      "[900]\tvalid_0's rmse: 0.63938\tvalid_1's rmse: 1.05428\n",
      "[1000]\tvalid_0's rmse: 0.609211\tvalid_1's rmse: 1.05179\n",
      "[1100]\tvalid_0's rmse: 0.581718\tvalid_1's rmse: 1.04963\n",
      "[1200]\tvalid_0's rmse: 0.556064\tvalid_1's rmse: 1.04814\n",
      "[1300]\tvalid_0's rmse: 0.532476\tvalid_1's rmse: 1.04687\n",
      "[1400]\tvalid_0's rmse: 0.510355\tvalid_1's rmse: 1.0454\n",
      "[1500]\tvalid_0's rmse: 0.489732\tvalid_1's rmse: 1.04485\n",
      "[1600]\tvalid_0's rmse: 0.470216\tvalid_1's rmse: 1.04449\n",
      "[1700]\tvalid_0's rmse: 0.45195\tvalid_1's rmse: 1.04385\n",
      "[1800]\tvalid_0's rmse: 0.434755\tvalid_1's rmse: 1.04318\n",
      "[1900]\tvalid_0's rmse: 0.418661\tvalid_1's rmse: 1.0429\n",
      "Early stopping, best iteration is:\n",
      "[1865]\tvalid_0's rmse: 0.424103\tvalid_1's rmse: 1.04267\n"
     ]
    },
    {
     "name": "stderr",
     "output_type": "stream",
     "text": [
      "num_leaves, val_score: 1.038080:  55%|#####5    | 11/20 [09:50<07:06, 47.37s/it]\u001b[32m[I 2021-03-08 02:40:06,394]\u001b[0m Trial 17 finished with value: 1.042667727191408 and parameters: {'num_leaves': 35}. Best is trial 12 with value: 1.0380799611936546.\u001b[0m\n",
      "num_leaves, val_score: 1.038080:  55%|#####5    | 11/20 [09:50<07:06, 47.37s/it]"
     ]
    },
    {
     "name": "stdout",
     "output_type": "stream",
     "text": [
      "Training until validation scores don't improve for 100 rounds\n",
      "[100]\tvalid_0's rmse: 1.02366\tvalid_1's rmse: 1.20346\n",
      "[200]\tvalid_0's rmse: 0.735739\tvalid_1's rmse: 1.08514\n",
      "[300]\tvalid_0's rmse: 0.585921\tvalid_1's rmse: 1.05982\n",
      "[400]\tvalid_0's rmse: 0.484935\tvalid_1's rmse: 1.05146\n",
      "[500]\tvalid_0's rmse: 0.408677\tvalid_1's rmse: 1.04843\n",
      "[600]\tvalid_0's rmse: 0.349508\tvalid_1's rmse: 1.04652\n",
      "[700]\tvalid_0's rmse: 0.302958\tvalid_1's rmse: 1.04506\n",
      "[800]\tvalid_0's rmse: 0.265786\tvalid_1's rmse: 1.04422\n",
      "[900]\tvalid_0's rmse: 0.235983\tvalid_1's rmse: 1.04353\n",
      "[1000]\tvalid_0's rmse: 0.212015\tvalid_1's rmse: 1.04365\n",
      "[1100]\tvalid_0's rmse: 0.192589\tvalid_1's rmse: 1.04316\n",
      "[1200]\tvalid_0's rmse: 0.176567\tvalid_1's rmse: 1.04285\n",
      "Early stopping, best iteration is:\n",
      "[1197]\tvalid_0's rmse: 0.176969\tvalid_1's rmse: 1.04282\n"
     ]
    },
    {
     "name": "stderr",
     "output_type": "stream",
     "text": [
      "num_leaves, val_score: 1.038080:  60%|######    | 12/20 [10:59<07:09, 53.73s/it]\u001b[32m[I 2021-03-08 02:41:14,955]\u001b[0m Trial 18 finished with value: 1.042822539410667 and parameters: {'num_leaves': 150}. Best is trial 12 with value: 1.0380799611936546.\u001b[0m\n",
      "num_leaves, val_score: 1.038080:  60%|######    | 12/20 [10:59<07:09, 53.73s/it]"
     ]
    },
    {
     "name": "stdout",
     "output_type": "stream",
     "text": [
      "Training until validation scores don't improve for 100 rounds\n",
      "[100]\tvalid_0's rmse: 1.0829\tvalid_1's rmse: 1.20997\n",
      "[200]\tvalid_0's rmse: 0.840374\tvalid_1's rmse: 1.09114\n",
      "[300]\tvalid_0's rmse: 0.715594\tvalid_1's rmse: 1.06439\n",
      "[400]\tvalid_0's rmse: 0.627043\tvalid_1's rmse: 1.05432\n",
      "[500]\tvalid_0's rmse: 0.555576\tvalid_1's rmse: 1.04917\n",
      "[600]\tvalid_0's rmse: 0.49623\tvalid_1's rmse: 1.04638\n",
      "[700]\tvalid_0's rmse: 0.445888\tvalid_1's rmse: 1.04409\n",
      "[800]\tvalid_0's rmse: 0.402682\tvalid_1's rmse: 1.04191\n",
      "[900]\tvalid_0's rmse: 0.365616\tvalid_1's rmse: 1.04089\n",
      "[1000]\tvalid_0's rmse: 0.333574\tvalid_1's rmse: 1.04002\n",
      "[1100]\tvalid_0's rmse: 0.305902\tvalid_1's rmse: 1.03954\n",
      "[1200]\tvalid_0's rmse: 0.28189\tvalid_1's rmse: 1.03894\n",
      "[1300]\tvalid_0's rmse: 0.26116\tvalid_1's rmse: 1.03875\n",
      "Early stopping, best iteration is:\n",
      "[1265]\tvalid_0's rmse: 0.268126\tvalid_1's rmse: 1.03859\n"
     ]
    },
    {
     "name": "stderr",
     "output_type": "stream",
     "text": [
      "num_leaves, val_score: 1.038080:  65%|######5   | 13/20 [11:47<06:04, 52.12s/it]\u001b[32m[I 2021-03-08 02:42:03,314]\u001b[0m Trial 19 finished with value: 1.0385898945714729 and parameters: {'num_leaves': 88}. Best is trial 12 with value: 1.0380799611936546.\u001b[0m\n",
      "num_leaves, val_score: 1.038080:  65%|######5   | 13/20 [11:47<06:04, 52.12s/it]"
     ]
    },
    {
     "name": "stdout",
     "output_type": "stream",
     "text": [
      "Training until validation scores don't improve for 100 rounds\n",
      "[100]\tvalid_0's rmse: 1.13137\tvalid_1's rmse: 1.21973\n",
      "[200]\tvalid_0's rmse: 0.925854\tvalid_1's rmse: 1.10324\n",
      "[300]\tvalid_0's rmse: 0.825252\tvalid_1's rmse: 1.07589\n",
      "[400]\tvalid_0's rmse: 0.752968\tvalid_1's rmse: 1.06485\n",
      "[500]\tvalid_0's rmse: 0.692684\tvalid_1's rmse: 1.05828\n",
      "[600]\tvalid_0's rmse: 0.640844\tvalid_1's rmse: 1.05343\n",
      "[700]\tvalid_0's rmse: 0.594914\tvalid_1's rmse: 1.05009\n",
      "[800]\tvalid_0's rmse: 0.553996\tvalid_1's rmse: 1.04698\n",
      "[900]\tvalid_0's rmse: 0.517199\tvalid_1's rmse: 1.04443\n",
      "[1000]\tvalid_0's rmse: 0.484132\tvalid_1's rmse: 1.04268\n",
      "[1100]\tvalid_0's rmse: 0.454243\tvalid_1's rmse: 1.04193\n",
      "[1200]\tvalid_0's rmse: 0.427298\tvalid_1's rmse: 1.04091\n",
      "[1300]\tvalid_0's rmse: 0.402829\tvalid_1's rmse: 1.03992\n",
      "[1400]\tvalid_0's rmse: 0.380449\tvalid_1's rmse: 1.03953\n",
      "[1500]\tvalid_0's rmse: 0.36035\tvalid_1's rmse: 1.03944\n",
      "[1600]\tvalid_0's rmse: 0.341636\tvalid_1's rmse: 1.039\n",
      "[1700]\tvalid_0's rmse: 0.324469\tvalid_1's rmse: 1.0389\n",
      "[1800]\tvalid_0's rmse: 0.308817\tvalid_1's rmse: 1.03882\n",
      "Early stopping, best iteration is:\n",
      "[1738]\tvalid_0's rmse: 0.318352\tvalid_1's rmse: 1.03874\n"
     ]
    },
    {
     "name": "stderr",
     "output_type": "stream",
     "text": [
      "num_leaves, val_score: 1.038080:  70%|#######   | 14/20 [12:29<04:54, 49.04s/it]\u001b[32m[I 2021-03-08 02:42:45,167]\u001b[0m Trial 20 finished with value: 1.0387414536622912 and parameters: {'num_leaves': 53}. Best is trial 12 with value: 1.0380799611936546.\u001b[0m\n",
      "num_leaves, val_score: 1.038080:  70%|#######   | 14/20 [12:29<04:54, 49.04s/it]"
     ]
    },
    {
     "name": "stdout",
     "output_type": "stream",
     "text": [
      "Training until validation scores don't improve for 100 rounds\n",
      "[100]\tvalid_0's rmse: 1.03582\tvalid_1's rmse: 1.20416\n",
      "[200]\tvalid_0's rmse: 0.757067\tvalid_1's rmse: 1.08298\n",
      "[300]\tvalid_0's rmse: 0.612082\tvalid_1's rmse: 1.05796\n",
      "[400]\tvalid_0's rmse: 0.512805\tvalid_1's rmse: 1.04935\n",
      "[500]\tvalid_0's rmse: 0.436562\tvalid_1's rmse: 1.04505\n",
      "[600]\tvalid_0's rmse: 0.376374\tvalid_1's rmse: 1.0434\n",
      "[700]\tvalid_0's rmse: 0.328142\tvalid_1's rmse: 1.04191\n",
      "[800]\tvalid_0's rmse: 0.288882\tvalid_1's rmse: 1.04107\n",
      "[900]\tvalid_0's rmse: 0.257194\tvalid_1's rmse: 1.04007\n",
      "[1000]\tvalid_0's rmse: 0.231292\tvalid_1's rmse: 1.03991\n",
      "[1100]\tvalid_0's rmse: 0.209983\tvalid_1's rmse: 1.03967\n",
      "[1200]\tvalid_0's rmse: 0.192275\tvalid_1's rmse: 1.03984\n",
      "Early stopping, best iteration is:\n",
      "[1142]\tvalid_0's rmse: 0.202192\tvalid_1's rmse: 1.03952\n"
     ]
    },
    {
     "name": "stderr",
     "output_type": "stream",
     "text": [
      "num_leaves, val_score: 1.038080:  75%|#######5  | 15/20 [13:30<04:22, 52.56s/it]\u001b[32m[I 2021-03-08 02:43:45,942]\u001b[0m Trial 21 finished with value: 1.039523570685226 and parameters: {'num_leaves': 135}. Best is trial 12 with value: 1.0380799611936546.\u001b[0m\n",
      "num_leaves, val_score: 1.038080:  75%|#######5  | 15/20 [13:30<04:22, 52.56s/it]"
     ]
    },
    {
     "name": "stdout",
     "output_type": "stream",
     "text": [
      "Training until validation scores don't improve for 100 rounds\n",
      "[100]\tvalid_0's rmse: 1.07591\tvalid_1's rmse: 1.20883\n",
      "[200]\tvalid_0's rmse: 0.827896\tvalid_1's rmse: 1.09004\n",
      "[300]\tvalid_0's rmse: 0.700076\tvalid_1's rmse: 1.06369\n",
      "[400]\tvalid_0's rmse: 0.609436\tvalid_1's rmse: 1.0545\n",
      "[500]\tvalid_0's rmse: 0.536397\tvalid_1's rmse: 1.04992\n",
      "[600]\tvalid_0's rmse: 0.476477\tvalid_1's rmse: 1.04712\n",
      "[700]\tvalid_0's rmse: 0.426419\tvalid_1's rmse: 1.04515\n",
      "[800]\tvalid_0's rmse: 0.383439\tvalid_1's rmse: 1.04383\n",
      "[900]\tvalid_0's rmse: 0.346894\tvalid_1's rmse: 1.04295\n",
      "[1000]\tvalid_0's rmse: 0.315511\tvalid_1's rmse: 1.04207\n",
      "[1100]\tvalid_0's rmse: 0.288614\tvalid_1's rmse: 1.04214\n",
      "[1200]\tvalid_0's rmse: 0.265503\tvalid_1's rmse: 1.04174\n",
      "[1300]\tvalid_0's rmse: 0.24562\tvalid_1's rmse: 1.04171\n",
      "Early stopping, best iteration is:\n",
      "[1230]\tvalid_0's rmse: 0.259192\tvalid_1's rmse: 1.04156\n"
     ]
    },
    {
     "name": "stderr",
     "output_type": "stream",
     "text": [
      "num_leaves, val_score: 1.038080:  80%|########  | 16/20 [14:18<03:25, 51.39s/it]\u001b[32m[I 2021-03-08 02:44:34,612]\u001b[0m Trial 22 finished with value: 1.0415620243991046 and parameters: {'num_leaves': 94}. Best is trial 12 with value: 1.0380799611936546.\u001b[0m\n",
      "num_leaves, val_score: 1.038080:  80%|########  | 16/20 [14:18<03:25, 51.39s/it]"
     ]
    },
    {
     "name": "stdout",
     "output_type": "stream",
     "text": [
      "Training until validation scores don't improve for 100 rounds\n",
      "[100]\tvalid_0's rmse: 0.965258\tvalid_1's rmse: 1.19834\n",
      "[200]\tvalid_0's rmse: 0.637036\tvalid_1's rmse: 1.07996\n",
      "[300]\tvalid_0's rmse: 0.469862\tvalid_1's rmse: 1.05661\n",
      "[400]\tvalid_0's rmse: 0.367177\tvalid_1's rmse: 1.05188\n",
      "[500]\tvalid_0's rmse: 0.297122\tvalid_1's rmse: 1.04935\n",
      "[600]\tvalid_0's rmse: 0.247787\tvalid_1's rmse: 1.04886\n",
      "[700]\tvalid_0's rmse: 0.212403\tvalid_1's rmse: 1.04853\n",
      "[800]\tvalid_0's rmse: 0.186157\tvalid_1's rmse: 1.04861\n",
      "Early stopping, best iteration is:\n",
      "[705]\tvalid_0's rmse: 0.210911\tvalid_1's rmse: 1.0485\n"
     ]
    },
    {
     "name": "stderr",
     "output_type": "stream",
     "text": [
      "num_leaves, val_score: 1.038080:  85%|########5 | 17/20 [15:18<02:41, 53.89s/it]\u001b[32m[I 2021-03-08 02:45:34,335]\u001b[0m Trial 23 finished with value: 1.0485007560266684 and parameters: {'num_leaves': 254}. Best is trial 12 with value: 1.0380799611936546.\u001b[0m\n",
      "num_leaves, val_score: 1.038080:  85%|########5 | 17/20 [15:18<02:41, 53.89s/it]"
     ]
    },
    {
     "name": "stdout",
     "output_type": "stream",
     "text": [
      "Training until validation scores don't improve for 100 rounds\n",
      "[100]\tvalid_0's rmse: 1.2681\tvalid_1's rmse: 1.27563\n",
      "[200]\tvalid_0's rmse: 1.14934\tvalid_1's rmse: 1.16665\n",
      "[300]\tvalid_0's rmse: 1.10732\tvalid_1's rmse: 1.13606\n",
      "[400]\tvalid_0's rmse: 1.08367\tvalid_1's rmse: 1.12419\n",
      "[500]\tvalid_0's rmse: 1.06608\tvalid_1's rmse: 1.11731\n",
      "[600]\tvalid_0's rmse: 1.05083\tvalid_1's rmse: 1.11292\n",
      "[700]\tvalid_0's rmse: 1.03707\tvalid_1's rmse: 1.10895\n",
      "[800]\tvalid_0's rmse: 1.0245\tvalid_1's rmse: 1.10576\n",
      "[900]\tvalid_0's rmse: 1.01262\tvalid_1's rmse: 1.10279\n",
      "[1000]\tvalid_0's rmse: 1.00157\tvalid_1's rmse: 1.10014\n",
      "[1100]\tvalid_0's rmse: 0.990842\tvalid_1's rmse: 1.09765\n",
      "[1200]\tvalid_0's rmse: 0.98067\tvalid_1's rmse: 1.09567\n",
      "[1300]\tvalid_0's rmse: 0.9711\tvalid_1's rmse: 1.0938\n",
      "[1400]\tvalid_0's rmse: 0.961967\tvalid_1's rmse: 1.09204\n",
      "[1500]\tvalid_0's rmse: 0.953024\tvalid_1's rmse: 1.09034\n",
      "[1600]\tvalid_0's rmse: 0.944232\tvalid_1's rmse: 1.08914\n",
      "[1700]\tvalid_0's rmse: 0.935874\tvalid_1's rmse: 1.08771\n",
      "[1800]\tvalid_0's rmse: 0.927606\tvalid_1's rmse: 1.08619\n",
      "[1900]\tvalid_0's rmse: 0.919852\tvalid_1's rmse: 1.08478\n",
      "[2000]\tvalid_0's rmse: 0.912204\tvalid_1's rmse: 1.08364\n",
      "[2100]\tvalid_0's rmse: 0.904697\tvalid_1's rmse: 1.08226\n",
      "[2200]\tvalid_0's rmse: 0.897389\tvalid_1's rmse: 1.08105\n",
      "[2300]\tvalid_0's rmse: 0.890309\tvalid_1's rmse: 1.08004\n",
      "[2400]\tvalid_0's rmse: 0.883438\tvalid_1's rmse: 1.07932\n",
      "[2500]\tvalid_0's rmse: 0.876759\tvalid_1's rmse: 1.07844\n",
      "[2600]\tvalid_0's rmse: 0.870087\tvalid_1's rmse: 1.07748\n",
      "[2700]\tvalid_0's rmse: 0.863488\tvalid_1's rmse: 1.07712\n",
      "[2800]\tvalid_0's rmse: 0.85704\tvalid_1's rmse: 1.07618\n",
      "[2900]\tvalid_0's rmse: 0.850869\tvalid_1's rmse: 1.07509\n",
      "[3000]\tvalid_0's rmse: 0.844775\tvalid_1's rmse: 1.07441\n",
      "[3100]\tvalid_0's rmse: 0.838665\tvalid_1's rmse: 1.07362\n",
      "[3200]\tvalid_0's rmse: 0.832932\tvalid_1's rmse: 1.07293\n",
      "[3300]\tvalid_0's rmse: 0.827296\tvalid_1's rmse: 1.07218\n",
      "[3400]\tvalid_0's rmse: 0.821686\tvalid_1's rmse: 1.07137\n",
      "[3500]\tvalid_0's rmse: 0.816098\tvalid_1's rmse: 1.0708\n",
      "[3600]\tvalid_0's rmse: 0.810582\tvalid_1's rmse: 1.07001\n",
      "[3700]\tvalid_0's rmse: 0.805331\tvalid_1's rmse: 1.0694\n",
      "[3800]\tvalid_0's rmse: 0.800048\tvalid_1's rmse: 1.06868\n",
      "[3900]\tvalid_0's rmse: 0.794818\tvalid_1's rmse: 1.06823\n",
      "[4000]\tvalid_0's rmse: 0.789662\tvalid_1's rmse: 1.06798\n",
      "[4100]\tvalid_0's rmse: 0.784677\tvalid_1's rmse: 1.06764\n",
      "[4200]\tvalid_0's rmse: 0.779713\tvalid_1's rmse: 1.06695\n",
      "[4300]\tvalid_0's rmse: 0.774827\tvalid_1's rmse: 1.06641\n",
      "[4400]\tvalid_0's rmse: 0.770075\tvalid_1's rmse: 1.06591\n",
      "[4500]\tvalid_0's rmse: 0.765197\tvalid_1's rmse: 1.06552\n",
      "[4600]\tvalid_0's rmse: 0.760527\tvalid_1's rmse: 1.06504\n",
      "[4700]\tvalid_0's rmse: 0.755804\tvalid_1's rmse: 1.06468\n",
      "[4800]\tvalid_0's rmse: 0.751246\tvalid_1's rmse: 1.06418\n",
      "[4900]\tvalid_0's rmse: 0.746607\tvalid_1's rmse: 1.06339\n",
      "[5000]\tvalid_0's rmse: 0.742339\tvalid_1's rmse: 1.06268\n",
      "[5100]\tvalid_0's rmse: 0.737976\tvalid_1's rmse: 1.06224\n",
      "[5200]\tvalid_0's rmse: 0.733694\tvalid_1's rmse: 1.06212\n",
      "[5300]\tvalid_0's rmse: 0.729285\tvalid_1's rmse: 1.06184\n",
      "[5400]\tvalid_0's rmse: 0.725028\tvalid_1's rmse: 1.06157\n",
      "[5500]\tvalid_0's rmse: 0.720775\tvalid_1's rmse: 1.06156\n",
      "[5600]\tvalid_0's rmse: 0.716671\tvalid_1's rmse: 1.06133\n",
      "[5700]\tvalid_0's rmse: 0.712624\tvalid_1's rmse: 1.06095\n",
      "[5800]\tvalid_0's rmse: 0.70852\tvalid_1's rmse: 1.06062\n",
      "[5900]\tvalid_0's rmse: 0.704707\tvalid_1's rmse: 1.06044\n"
     ]
    },
    {
     "name": "stderr",
     "output_type": "stream",
     "text": [
      "num_leaves, val_score: 1.038080:  90%|######### | 18/20 [15:41<01:29, 44.56s/it]"
     ]
    },
    {
     "name": "stdout",
     "output_type": "stream",
     "text": [
      "Early stopping, best iteration is:\n",
      "[5898]\tvalid_0's rmse: 0.704787\tvalid_1's rmse: 1.06043\n"
     ]
    },
    {
     "name": "stderr",
     "output_type": "stream",
     "text": [
      "\u001b[32m[I 2021-03-08 02:45:57,121]\u001b[0m Trial 24 finished with value: 1.0604316314418765 and parameters: {'num_leaves': 6}. Best is trial 12 with value: 1.0380799611936546.\u001b[0m\n",
      "num_leaves, val_score: 1.038080:  90%|######### | 18/20 [15:41<01:29, 44.56s/it]"
     ]
    },
    {
     "name": "stdout",
     "output_type": "stream",
     "text": [
      "Training until validation scores don't improve for 100 rounds\n",
      "[100]\tvalid_0's rmse: 1.01918\tvalid_1's rmse: 1.20428\n",
      "[200]\tvalid_0's rmse: 0.728274\tvalid_1's rmse: 1.08316\n",
      "[300]\tvalid_0's rmse: 0.577009\tvalid_1's rmse: 1.05653\n",
      "[400]\tvalid_0's rmse: 0.47551\tvalid_1's rmse: 1.04852\n",
      "[500]\tvalid_0's rmse: 0.399603\tvalid_1's rmse: 1.04546\n",
      "[600]\tvalid_0's rmse: 0.340764\tvalid_1's rmse: 1.04328\n",
      "[700]\tvalid_0's rmse: 0.294676\tvalid_1's rmse: 1.04178\n",
      "[800]\tvalid_0's rmse: 0.25814\tvalid_1's rmse: 1.04158\n",
      "[900]\tvalid_0's rmse: 0.229134\tvalid_1's rmse: 1.04117\n",
      "[1000]\tvalid_0's rmse: 0.205928\tvalid_1's rmse: 1.04085\n",
      "[1100]\tvalid_0's rmse: 0.187203\tvalid_1's rmse: 1.04054\n",
      "[1200]\tvalid_0's rmse: 0.17164\tvalid_1's rmse: 1.04039\n",
      "[1300]\tvalid_0's rmse: 0.158801\tvalid_1's rmse: 1.04027\n",
      "[1400]\tvalid_0's rmse: 0.148049\tvalid_1's rmse: 1.04046\n",
      "Early stopping, best iteration is:\n",
      "[1332]\tvalid_0's rmse: 0.155188\tvalid_1's rmse: 1.04026\n"
     ]
    },
    {
     "name": "stderr",
     "output_type": "stream",
     "text": [
      "num_leaves, val_score: 1.038080:  95%|#########5| 19/20 [16:57<00:54, 54.11s/it]\u001b[32m[I 2021-03-08 02:47:13,511]\u001b[0m Trial 25 finished with value: 1.0402562700266311 and parameters: {'num_leaves': 156}. Best is trial 12 with value: 1.0380799611936546.\u001b[0m\n",
      "num_leaves, val_score: 1.038080:  95%|#########5| 19/20 [16:57<00:54, 54.11s/it]"
     ]
    },
    {
     "name": "stdout",
     "output_type": "stream",
     "text": [
      "Training until validation scores don't improve for 100 rounds\n",
      "[100]\tvalid_0's rmse: 1.05606\tvalid_1's rmse: 1.20664\n",
      "[200]\tvalid_0's rmse: 0.79258\tvalid_1's rmse: 1.08573\n",
      "[300]\tvalid_0's rmse: 0.655665\tvalid_1's rmse: 1.05971\n",
      "[400]\tvalid_0's rmse: 0.560209\tvalid_1's rmse: 1.05114\n",
      "[500]\tvalid_0's rmse: 0.485654\tvalid_1's rmse: 1.04781\n",
      "[600]\tvalid_0's rmse: 0.425001\tvalid_1's rmse: 1.04575\n",
      "[700]\tvalid_0's rmse: 0.375184\tvalid_1's rmse: 1.04422\n",
      "[800]\tvalid_0's rmse: 0.333395\tvalid_1's rmse: 1.04323\n",
      "[900]\tvalid_0's rmse: 0.298956\tvalid_1's rmse: 1.04279\n",
      "[1000]\tvalid_0's rmse: 0.269915\tvalid_1's rmse: 1.04226\n",
      "[1100]\tvalid_0's rmse: 0.245679\tvalid_1's rmse: 1.04203\n",
      "[1200]\tvalid_0's rmse: 0.225252\tvalid_1's rmse: 1.04172\n",
      "[1300]\tvalid_0's rmse: 0.208077\tvalid_1's rmse: 1.04163\n",
      "Early stopping, best iteration is:\n",
      "[1270]\tvalid_0's rmse: 0.21308\tvalid_1's rmse: 1.0415\n"
     ]
    },
    {
     "name": "stderr",
     "output_type": "stream",
     "text": [
      "num_leaves, val_score: 1.038080: 100%|##########| 20/20 [17:55<00:00, 55.26s/it]\u001b[32m[I 2021-03-08 02:48:11,459]\u001b[0m Trial 26 finished with value: 1.0414988114945067 and parameters: {'num_leaves': 113}. Best is trial 12 with value: 1.0380799611936546.\u001b[0m\n",
      "num_leaves, val_score: 1.038080: 100%|##########| 20/20 [17:55<00:00, 53.79s/it]\n",
      "bagging, val_score: 1.038080:   0%|          | 0/10 [00:00<?, ?it/s]"
     ]
    },
    {
     "name": "stdout",
     "output_type": "stream",
     "text": [
      "Training until validation scores don't improve for 100 rounds\n",
      "[100]\tvalid_0's rmse: 1.04305\tvalid_1's rmse: 1.20711\n",
      "[200]\tvalid_0's rmse: 0.766895\tvalid_1's rmse: 1.08652\n",
      "[300]\tvalid_0's rmse: 0.622069\tvalid_1's rmse: 1.0614\n",
      "[400]\tvalid_0's rmse: 0.523102\tvalid_1's rmse: 1.05317\n",
      "[500]\tvalid_0's rmse: 0.44691\tvalid_1's rmse: 1.04803\n",
      "[600]\tvalid_0's rmse: 0.386707\tvalid_1's rmse: 1.04672\n",
      "[700]\tvalid_0's rmse: 0.338053\tvalid_1's rmse: 1.04514\n",
      "[800]\tvalid_0's rmse: 0.298206\tvalid_1's rmse: 1.04442\n",
      "[900]\tvalid_0's rmse: 0.265726\tvalid_1's rmse: 1.0436\n",
      "[1000]\tvalid_0's rmse: 0.239227\tvalid_1's rmse: 1.04355\n",
      "[1100]\tvalid_0's rmse: 0.217719\tvalid_1's rmse: 1.04324\n",
      "Early stopping, best iteration is:\n",
      "[1080]\tvalid_0's rmse: 0.221635\tvalid_1's rmse: 1.04314\n"
     ]
    },
    {
     "name": "stderr",
     "output_type": "stream",
     "text": [
      "bagging, val_score: 1.038080:  10%|#         | 1/10 [00:56<08:24, 56.03s/it]\u001b[32m[I 2021-03-08 02:49:07,506]\u001b[0m Trial 27 finished with value: 1.0431437064231024 and parameters: {'bagging_fraction': 0.5786789008824982, 'bagging_freq': 1}. Best is trial 27 with value: 1.0431437064231024.\u001b[0m\n",
      "bagging, val_score: 1.038080:  10%|#         | 1/10 [00:56<08:24, 56.03s/it]"
     ]
    },
    {
     "name": "stdout",
     "output_type": "stream",
     "text": [
      "Training until validation scores don't improve for 100 rounds\n",
      "[100]\tvalid_0's rmse: 1.04336\tvalid_1's rmse: 1.20581\n",
      "[200]\tvalid_0's rmse: 0.765571\tvalid_1's rmse: 1.08591\n",
      "[300]\tvalid_0's rmse: 0.620605\tvalid_1's rmse: 1.06024\n",
      "[400]\tvalid_0's rmse: 0.521625\tvalid_1's rmse: 1.05239\n",
      "[500]\tvalid_0's rmse: 0.445785\tvalid_1's rmse: 1.04873\n",
      "[600]\tvalid_0's rmse: 0.385522\tvalid_1's rmse: 1.04684\n",
      "[700]\tvalid_0's rmse: 0.336894\tvalid_1's rmse: 1.04544\n",
      "[800]\tvalid_0's rmse: 0.297361\tvalid_1's rmse: 1.04395\n",
      "[900]\tvalid_0's rmse: 0.265072\tvalid_1's rmse: 1.04386\n",
      "Early stopping, best iteration is:\n",
      "[863]\tvalid_0's rmse: 0.276243\tvalid_1's rmse: 1.04369\n"
     ]
    },
    {
     "name": "stderr",
     "output_type": "stream",
     "text": [
      "bagging, val_score: 1.038080:  20%|##        | 2/10 [01:42<07:04, 53.10s/it]\u001b[32m[I 2021-03-08 02:49:53,770]\u001b[0m Trial 28 finished with value: 1.0436876298893665 and parameters: {'bagging_fraction': 0.5829888121329165, 'bagging_freq': 1}. Best is trial 27 with value: 1.0431437064231024.\u001b[0m\n",
      "bagging, val_score: 1.038080:  20%|##        | 2/10 [01:42<07:04, 53.10s/it]"
     ]
    },
    {
     "name": "stdout",
     "output_type": "stream",
     "text": [
      "Training until validation scores don't improve for 100 rounds\n",
      "[100]\tvalid_0's rmse: 1.02874\tvalid_1's rmse: 1.20187\n",
      "[200]\tvalid_0's rmse: 0.746089\tvalid_1's rmse: 1.0831\n",
      "[300]\tvalid_0's rmse: 0.599262\tvalid_1's rmse: 1.05839\n",
      "[400]\tvalid_0's rmse: 0.49969\tvalid_1's rmse: 1.05076\n",
      "[500]\tvalid_0's rmse: 0.423762\tvalid_1's rmse: 1.0479\n",
      "[600]\tvalid_0's rmse: 0.363862\tvalid_1's rmse: 1.04625\n",
      "[700]\tvalid_0's rmse: 0.316164\tvalid_1's rmse: 1.04537\n",
      "[800]\tvalid_0's rmse: 0.277858\tvalid_1's rmse: 1.04486\n",
      "[900]\tvalid_0's rmse: 0.247014\tvalid_1's rmse: 1.04472\n",
      "[1000]\tvalid_0's rmse: 0.221878\tvalid_1's rmse: 1.04426\n",
      "[1100]\tvalid_0's rmse: 0.201461\tvalid_1's rmse: 1.04393\n",
      "[1200]\tvalid_0's rmse: 0.184439\tvalid_1's rmse: 1.04366\n",
      "[1300]\tvalid_0's rmse: 0.170197\tvalid_1's rmse: 1.04362\n",
      "[1400]\tvalid_0's rmse: 0.158371\tvalid_1's rmse: 1.04355\n",
      "[1500]\tvalid_0's rmse: 0.14798\tvalid_1's rmse: 1.0435\n",
      "Early stopping, best iteration is:\n",
      "[1497]\tvalid_0's rmse: 0.148249\tvalid_1's rmse: 1.04348\n"
     ]
    },
    {
     "name": "stderr",
     "output_type": "stream",
     "text": [
      "bagging, val_score: 1.038080:  30%|###       | 3/10 [03:01<07:06, 60.94s/it]\u001b[32m[I 2021-03-08 02:51:13,028]\u001b[0m Trial 29 finished with value: 1.0434819729230047 and parameters: {'bagging_fraction': 0.7521068709685486, 'bagging_freq': 2}. Best is trial 27 with value: 1.0431437064231024.\u001b[0m\n",
      "bagging, val_score: 1.038080:  30%|###       | 3/10 [03:01<07:06, 60.94s/it]"
     ]
    },
    {
     "name": "stdout",
     "output_type": "stream",
     "text": [
      "Training until validation scores don't improve for 100 rounds\n",
      "[100]\tvalid_0's rmse: 1.05377\tvalid_1's rmse: 1.20652\n",
      "[200]\tvalid_0's rmse: 0.780608\tvalid_1's rmse: 1.08671\n",
      "[300]\tvalid_0's rmse: 0.637522\tvalid_1's rmse: 1.06342\n",
      "[400]\tvalid_0's rmse: 0.539007\tvalid_1's rmse: 1.05449\n",
      "[500]\tvalid_0's rmse: 0.463232\tvalid_1's rmse: 1.0503\n",
      "[600]\tvalid_0's rmse: 0.402418\tvalid_1's rmse: 1.04775\n",
      "[700]\tvalid_0's rmse: 0.353227\tvalid_1's rmse: 1.04608\n",
      "[800]\tvalid_0's rmse: 0.312803\tvalid_1's rmse: 1.04537\n",
      "[900]\tvalid_0's rmse: 0.27972\tvalid_1's rmse: 1.04541\n",
      "Early stopping, best iteration is:\n",
      "[859]\tvalid_0's rmse: 0.292519\tvalid_1's rmse: 1.04512\n"
     ]
    },
    {
     "name": "stderr",
     "output_type": "stream",
     "text": [
      "bagging, val_score: 1.038080:  40%|####      | 4/10 [03:46<05:36, 56.14s/it]\u001b[32m[I 2021-03-08 02:51:57,945]\u001b[0m Trial 30 finished with value: 1.0451182629093205 and parameters: {'bagging_fraction': 0.5060447744467981, 'bagging_freq': 3}. Best is trial 27 with value: 1.0431437064231024.\u001b[0m\n",
      "bagging, val_score: 1.038080:  40%|####      | 4/10 [03:46<05:36, 56.14s/it]"
     ]
    },
    {
     "name": "stdout",
     "output_type": "stream",
     "text": [
      "Training until validation scores don't improve for 100 rounds\n",
      "[100]\tvalid_0's rmse: 1.05562\tvalid_1's rmse: 1.20977\n",
      "[200]\tvalid_0's rmse: 0.786946\tvalid_1's rmse: 1.09012\n",
      "[300]\tvalid_0's rmse: 0.643796\tvalid_1's rmse: 1.06332\n",
      "[400]\tvalid_0's rmse: 0.545495\tvalid_1's rmse: 1.05578\n",
      "[500]\tvalid_0's rmse: 0.468773\tvalid_1's rmse: 1.05117\n",
      "[600]\tvalid_0's rmse: 0.407789\tvalid_1's rmse: 1.04786\n",
      "[700]\tvalid_0's rmse: 0.358258\tvalid_1's rmse: 1.04608\n",
      "[800]\tvalid_0's rmse: 0.317863\tvalid_1's rmse: 1.04538\n",
      "[900]\tvalid_0's rmse: 0.284499\tvalid_1's rmse: 1.04547\n",
      "Early stopping, best iteration is:\n",
      "[825]\tvalid_0's rmse: 0.309054\tvalid_1's rmse: 1.04496\n"
     ]
    },
    {
     "name": "stderr",
     "output_type": "stream",
     "text": [
      "bagging, val_score: 1.038080:  50%|#####     | 5/10 [04:31<04:23, 52.72s/it]\u001b[32m[I 2021-03-08 02:52:42,695]\u001b[0m Trial 31 finished with value: 1.0449587541540373 and parameters: {'bagging_fraction': 0.4886103527112502, 'bagging_freq': 5}. Best is trial 27 with value: 1.0431437064231024.\u001b[0m\n",
      "bagging, val_score: 1.038080:  50%|#####     | 5/10 [04:31<04:23, 52.72s/it]"
     ]
    },
    {
     "name": "stdout",
     "output_type": "stream",
     "text": [
      "Training until validation scores don't improve for 100 rounds\n",
      "[100]\tvalid_0's rmse: 1.01781\tvalid_1's rmse: 1.20072\n",
      "[200]\tvalid_0's rmse: 0.732604\tvalid_1's rmse: 1.08226\n",
      "[300]\tvalid_0's rmse: 0.584087\tvalid_1's rmse: 1.05817\n",
      "[400]\tvalid_0's rmse: 0.483402\tvalid_1's rmse: 1.05105\n",
      "[500]\tvalid_0's rmse: 0.407265\tvalid_1's rmse: 1.04803\n",
      "[600]\tvalid_0's rmse: 0.347833\tvalid_1's rmse: 1.04611\n",
      "[700]\tvalid_0's rmse: 0.30083\tvalid_1's rmse: 1.04501\n",
      "[800]\tvalid_0's rmse: 0.263326\tvalid_1's rmse: 1.04433\n",
      "[900]\tvalid_0's rmse: 0.233499\tvalid_1's rmse: 1.04389\n",
      "[1000]\tvalid_0's rmse: 0.209239\tvalid_1's rmse: 1.04362\n",
      "[1100]\tvalid_0's rmse: 0.189336\tvalid_1's rmse: 1.04337\n",
      "[1200]\tvalid_0's rmse: 0.172969\tvalid_1's rmse: 1.04329\n",
      "[1300]\tvalid_0's rmse: 0.159002\tvalid_1's rmse: 1.04335\n",
      "Early stopping, best iteration is:\n",
      "[1209]\tvalid_0's rmse: 0.17165\tvalid_1's rmse: 1.04326\n"
     ]
    },
    {
     "name": "stderr",
     "output_type": "stream",
     "text": [
      "bagging, val_score: 1.038080:  60%|######    | 6/10 [05:40<03:50, 57.58s/it]\u001b[32m[I 2021-03-08 02:53:51,626]\u001b[0m Trial 32 finished with value: 1.0432577984533535 and parameters: {'bagging_fraction': 0.9715348283735198, 'bagging_freq': 3}. Best is trial 27 with value: 1.0431437064231024.\u001b[0m\n",
      "bagging, val_score: 1.038080:  60%|######    | 6/10 [05:40<03:50, 57.58s/it]"
     ]
    },
    {
     "name": "stdout",
     "output_type": "stream",
     "text": [
      "Training until validation scores don't improve for 100 rounds\n",
      "[100]\tvalid_0's rmse: 1.02441\tvalid_1's rmse: 1.20294\n",
      "[200]\tvalid_0's rmse: 0.740139\tvalid_1's rmse: 1.08354\n",
      "[300]\tvalid_0's rmse: 0.591781\tvalid_1's rmse: 1.05915\n",
      "[400]\tvalid_0's rmse: 0.491685\tvalid_1's rmse: 1.05227\n",
      "[500]\tvalid_0's rmse: 0.415431\tvalid_1's rmse: 1.04912\n",
      "[600]\tvalid_0's rmse: 0.355818\tvalid_1's rmse: 1.04689\n",
      "[700]\tvalid_0's rmse: 0.308605\tvalid_1's rmse: 1.04575\n",
      "[800]\tvalid_0's rmse: 0.270644\tvalid_1's rmse: 1.04522\n",
      "[900]\tvalid_0's rmse: 0.240154\tvalid_1's rmse: 1.0449\n",
      "[1000]\tvalid_0's rmse: 0.215596\tvalid_1's rmse: 1.04474\n",
      "[1100]\tvalid_0's rmse: 0.19552\tvalid_1's rmse: 1.04484\n",
      "Early stopping, best iteration is:\n",
      "[1020]\tvalid_0's rmse: 0.211364\tvalid_1's rmse: 1.04465\n"
     ]
    },
    {
     "name": "stderr",
     "output_type": "stream",
     "text": [
      "bagging, val_score: 1.038080:  70%|#######   | 7/10 [06:42<02:57, 59.05s/it]\u001b[32m[I 2021-03-08 02:54:54,092]\u001b[0m Trial 33 finished with value: 1.0446453483397962 and parameters: {'bagging_fraction': 0.8495119190964096, 'bagging_freq': 5}. Best is trial 27 with value: 1.0431437064231024.\u001b[0m\n",
      "bagging, val_score: 1.038080:  70%|#######   | 7/10 [06:42<02:57, 59.05s/it]"
     ]
    },
    {
     "name": "stdout",
     "output_type": "stream",
     "text": [
      "Training until validation scores don't improve for 100 rounds\n",
      "[100]\tvalid_0's rmse: 1.02644\tvalid_1's rmse: 1.20433\n",
      "[200]\tvalid_0's rmse: 0.743188\tvalid_1's rmse: 1.08511\n",
      "[300]\tvalid_0's rmse: 0.595758\tvalid_1's rmse: 1.05889\n",
      "[400]\tvalid_0's rmse: 0.495763\tvalid_1's rmse: 1.05055\n",
      "[500]\tvalid_0's rmse: 0.420062\tvalid_1's rmse: 1.04747\n",
      "[600]\tvalid_0's rmse: 0.360268\tvalid_1's rmse: 1.04515\n",
      "[700]\tvalid_0's rmse: 0.312796\tvalid_1's rmse: 1.04368\n",
      "[800]\tvalid_0's rmse: 0.274815\tvalid_1's rmse: 1.04308\n",
      "Early stopping, best iteration is:\n",
      "[796]\tvalid_0's rmse: 0.276191\tvalid_1's rmse: 1.04297\n"
     ]
    },
    {
     "name": "stderr",
     "output_type": "stream",
     "text": [
      "bagging, val_score: 1.038080:  80%|########  | 8/10 [07:29<01:50, 55.45s/it]\u001b[32m[I 2021-03-08 02:55:41,128]\u001b[0m Trial 34 finished with value: 1.0429725132140513 and parameters: {'bagging_fraction': 0.7854837341523018, 'bagging_freq': 2}. Best is trial 34 with value: 1.0429725132140513.\u001b[0m\n",
      "bagging, val_score: 1.038080:  80%|########  | 8/10 [07:29<01:50, 55.45s/it]"
     ]
    },
    {
     "name": "stdout",
     "output_type": "stream",
     "text": [
      "Training until validation scores don't improve for 100 rounds\n",
      "[100]\tvalid_0's rmse: 1.01724\tvalid_1's rmse: 1.20054\n",
      "[200]\tvalid_0's rmse: 0.731652\tvalid_1's rmse: 1.08064\n",
      "[300]\tvalid_0's rmse: 0.583314\tvalid_1's rmse: 1.05671\n",
      "[400]\tvalid_0's rmse: 0.482568\tvalid_1's rmse: 1.05034\n",
      "[500]\tvalid_0's rmse: 0.406451\tvalid_1's rmse: 1.04743\n",
      "[600]\tvalid_0's rmse: 0.347143\tvalid_1's rmse: 1.04584\n",
      "[700]\tvalid_0's rmse: 0.30008\tvalid_1's rmse: 1.04492\n",
      "[800]\tvalid_0's rmse: 0.262613\tvalid_1's rmse: 1.04421\n",
      "[900]\tvalid_0's rmse: 0.232861\tvalid_1's rmse: 1.04381\n",
      "[1000]\tvalid_0's rmse: 0.208758\tvalid_1's rmse: 1.0436\n",
      "[1100]\tvalid_0's rmse: 0.189068\tvalid_1's rmse: 1.04367\n",
      "Early stopping, best iteration is:\n",
      "[1028]\tvalid_0's rmse: 0.202869\tvalid_1's rmse: 1.04353\n"
     ]
    },
    {
     "name": "stderr",
     "output_type": "stream",
     "text": [
      "bagging, val_score: 1.038080:  90%|######### | 9/10 [08:30<00:57, 57.05s/it]\u001b[32m[I 2021-03-08 02:56:41,918]\u001b[0m Trial 35 finished with value: 1.0435305831861563 and parameters: {'bagging_fraction': 0.9809966886965812, 'bagging_freq': 3}. Best is trial 34 with value: 1.0429725132140513.\u001b[0m\n",
      "bagging, val_score: 1.038080:  90%|######### | 9/10 [08:30<00:57, 57.05s/it]"
     ]
    },
    {
     "name": "stdout",
     "output_type": "stream",
     "text": [
      "Training until validation scores don't improve for 100 rounds\n",
      "[100]\tvalid_0's rmse: 1.02772\tvalid_1's rmse: 1.20288\n",
      "[200]\tvalid_0's rmse: 0.745179\tvalid_1's rmse: 1.08305\n",
      "[300]\tvalid_0's rmse: 0.597537\tvalid_1's rmse: 1.05903\n",
      "[400]\tvalid_0's rmse: 0.497432\tvalid_1's rmse: 1.05218\n",
      "[500]\tvalid_0's rmse: 0.420898\tvalid_1's rmse: 1.049\n",
      "[600]\tvalid_0's rmse: 0.36098\tvalid_1's rmse: 1.04671\n",
      "[700]\tvalid_0's rmse: 0.313486\tvalid_1's rmse: 1.04556\n",
      "[800]\tvalid_0's rmse: 0.275622\tvalid_1's rmse: 1.04471\n",
      "[900]\tvalid_0's rmse: 0.244946\tvalid_1's rmse: 1.04414\n",
      "[1000]\tvalid_0's rmse: 0.220227\tvalid_1's rmse: 1.04404\n",
      "[1100]\tvalid_0's rmse: 0.199876\tvalid_1's rmse: 1.04382\n",
      "[1200]\tvalid_0's rmse: 0.183198\tvalid_1's rmse: 1.04387\n",
      "Early stopping, best iteration is:\n",
      "[1104]\tvalid_0's rmse: 0.199157\tvalid_1's rmse: 1.04376\n"
     ]
    },
    {
     "name": "stderr",
     "output_type": "stream",
     "text": [
      "bagging, val_score: 1.038080: 100%|##########| 10/10 [09:32<00:00, 58.70s/it]\u001b[32m[I 2021-03-08 02:57:44,476]\u001b[0m Trial 36 finished with value: 1.043761907945864 and parameters: {'bagging_fraction': 0.7829854790336492, 'bagging_freq': 5}. Best is trial 34 with value: 1.0429725132140513.\u001b[0m\n",
      "bagging, val_score: 1.038080: 100%|##########| 10/10 [09:33<00:00, 57.30s/it]\n",
      "feature_fraction_stage2, val_score: 1.038080:   0%|          | 0/6 [00:00<?, ?it/s]"
     ]
    },
    {
     "name": "stdout",
     "output_type": "stream",
     "text": [
      "Training until validation scores don't improve for 100 rounds\n",
      "[100]\tvalid_0's rmse: 1.03844\tvalid_1's rmse: 1.2097\n",
      "[200]\tvalid_0's rmse: 0.758438\tvalid_1's rmse: 1.08891\n",
      "[300]\tvalid_0's rmse: 0.612487\tvalid_1's rmse: 1.06226\n",
      "[400]\tvalid_0's rmse: 0.512747\tvalid_1's rmse: 1.05334\n",
      "[500]\tvalid_0's rmse: 0.435991\tvalid_1's rmse: 1.05058\n",
      "[600]\tvalid_0's rmse: 0.375844\tvalid_1's rmse: 1.04868\n",
      "[700]\tvalid_0's rmse: 0.327428\tvalid_1's rmse: 1.0475\n",
      "[800]\tvalid_0's rmse: 0.288266\tvalid_1's rmse: 1.04665\n",
      "[900]\tvalid_0's rmse: 0.256714\tvalid_1's rmse: 1.04603\n",
      "[1000]\tvalid_0's rmse: 0.230967\tvalid_1's rmse: 1.04532\n",
      "[1100]\tvalid_0's rmse: 0.209837\tvalid_1's rmse: 1.04503\n",
      "[1200]\tvalid_0's rmse: 0.192212\tvalid_1's rmse: 1.04514\n",
      "Early stopping, best iteration is:\n",
      "[1142]\tvalid_0's rmse: 0.20203\tvalid_1's rmse: 1.04497\n"
     ]
    },
    {
     "name": "stderr",
     "output_type": "stream",
     "text": [
      "feature_fraction_stage2, val_score: 1.038080:  17%|#6        | 1/6 [00:52<04:22, 52.51s/it]\u001b[32m[I 2021-03-08 02:58:37,007]\u001b[0m Trial 37 finished with value: 1.044973661546443 and parameters: {'feature_fraction': 0.42}. Best is trial 37 with value: 1.044973661546443.\u001b[0m\n",
      "feature_fraction_stage2, val_score: 1.038080:  17%|#6        | 1/6 [00:52<04:22, 52.51s/it]"
     ]
    },
    {
     "name": "stdout",
     "output_type": "stream",
     "text": [
      "Training until validation scores don't improve for 100 rounds\n",
      "[100]\tvalid_0's rmse: 1.03626\tvalid_1's rmse: 1.20691\n",
      "[200]\tvalid_0's rmse: 0.75563\tvalid_1's rmse: 1.0857\n",
      "[300]\tvalid_0's rmse: 0.609299\tvalid_1's rmse: 1.0594\n",
      "[400]\tvalid_0's rmse: 0.509728\tvalid_1's rmse: 1.05128\n",
      "[500]\tvalid_0's rmse: 0.433073\tvalid_1's rmse: 1.04728\n",
      "[600]\tvalid_0's rmse: 0.372927\tvalid_1's rmse: 1.04528\n",
      "[700]\tvalid_0's rmse: 0.324698\tvalid_1's rmse: 1.04393\n",
      "[800]\tvalid_0's rmse: 0.286035\tvalid_1's rmse: 1.04268\n",
      "[900]\tvalid_0's rmse: 0.254688\tvalid_1's rmse: 1.04256\n",
      "[1000]\tvalid_0's rmse: 0.229039\tvalid_1's rmse: 1.04228\n",
      "[1100]\tvalid_0's rmse: 0.208023\tvalid_1's rmse: 1.04202\n",
      "[1200]\tvalid_0's rmse: 0.190607\tvalid_1's rmse: 1.04178\n",
      "[1300]\tvalid_0's rmse: 0.176273\tvalid_1's rmse: 1.04172\n",
      "Early stopping, best iteration is:\n",
      "[1250]\tvalid_0's rmse: 0.183242\tvalid_1's rmse: 1.0416\n"
     ]
    },
    {
     "name": "stderr",
     "output_type": "stream",
     "text": [
      "feature_fraction_stage2, val_score: 1.038080:  33%|###3      | 2/6 [01:53<03:39, 54.96s/it]\u001b[32m[I 2021-03-08 02:59:37,665]\u001b[0m Trial 38 finished with value: 1.0415976432205416 and parameters: {'feature_fraction': 0.45199999999999996}. Best is trial 38 with value: 1.0415976432205416.\u001b[0m\n",
      "feature_fraction_stage2, val_score: 1.038080:  33%|###3      | 2/6 [01:53<03:39, 54.96s/it]"
     ]
    },
    {
     "name": "stdout",
     "output_type": "stream",
     "text": [
      "Training until validation scores don't improve for 100 rounds\n",
      "[100]\tvalid_0's rmse: 1.03032\tvalid_1's rmse: 1.20382\n",
      "[200]\tvalid_0's rmse: 0.748239\tvalid_1's rmse: 1.08595\n",
      "[300]\tvalid_0's rmse: 0.601766\tvalid_1's rmse: 1.0607\n",
      "[400]\tvalid_0's rmse: 0.501763\tvalid_1's rmse: 1.05237\n",
      "[500]\tvalid_0's rmse: 0.425435\tvalid_1's rmse: 1.04907\n",
      "[600]\tvalid_0's rmse: 0.365529\tvalid_1's rmse: 1.04717\n",
      "[700]\tvalid_0's rmse: 0.317853\tvalid_1's rmse: 1.046\n",
      "[800]\tvalid_0's rmse: 0.279444\tvalid_1's rmse: 1.04508\n",
      "[900]\tvalid_0's rmse: 0.248759\tvalid_1's rmse: 1.0447\n",
      "[1000]\tvalid_0's rmse: 0.223583\tvalid_1's rmse: 1.04433\n",
      "[1100]\tvalid_0's rmse: 0.202922\tvalid_1's rmse: 1.04415\n",
      "[1200]\tvalid_0's rmse: 0.185936\tvalid_1's rmse: 1.04415\n",
      "Early stopping, best iteration is:\n",
      "[1157]\tvalid_0's rmse: 0.192857\tvalid_1's rmse: 1.04398\n"
     ]
    },
    {
     "name": "stderr",
     "output_type": "stream",
     "text": [
      "feature_fraction_stage2, val_score: 1.038080:  50%|#####     | 3/6 [03:02<02:57, 59.16s/it]\u001b[32m[I 2021-03-08 03:00:46,627]\u001b[0m Trial 39 finished with value: 1.043980086430628 and parameters: {'feature_fraction': 0.5479999999999999}. Best is trial 38 with value: 1.0415976432205416.\u001b[0m\n",
      "feature_fraction_stage2, val_score: 1.038080:  50%|#####     | 3/6 [03:02<02:57, 59.16s/it]"
     ]
    },
    {
     "name": "stdout",
     "output_type": "stream",
     "text": [
      "Training until validation scores don't improve for 100 rounds\n",
      "[100]\tvalid_0's rmse: 1.03234\tvalid_1's rmse: 1.20544\n",
      "[200]\tvalid_0's rmse: 0.750496\tvalid_1's rmse: 1.08608\n",
      "[300]\tvalid_0's rmse: 0.604558\tvalid_1's rmse: 1.06114\n",
      "[400]\tvalid_0's rmse: 0.504689\tvalid_1's rmse: 1.05382\n",
      "[500]\tvalid_0's rmse: 0.428334\tvalid_1's rmse: 1.04985\n",
      "[600]\tvalid_0's rmse: 0.368185\tvalid_1's rmse: 1.0473\n",
      "[700]\tvalid_0's rmse: 0.320333\tvalid_1's rmse: 1.04641\n",
      "[800]\tvalid_0's rmse: 0.28178\tvalid_1's rmse: 1.04536\n",
      "[900]\tvalid_0's rmse: 0.250798\tvalid_1's rmse: 1.045\n",
      "[1000]\tvalid_0's rmse: 0.225698\tvalid_1's rmse: 1.0446\n",
      "[1100]\tvalid_0's rmse: 0.205013\tvalid_1's rmse: 1.04453\n",
      "Early stopping, best iteration is:\n",
      "[1066]\tvalid_0's rmse: 0.211565\tvalid_1's rmse: 1.0445\n"
     ]
    },
    {
     "name": "stderr",
     "output_type": "stream",
     "text": [
      "feature_fraction_stage2, val_score: 1.038080:  67%|######6   | 4/6 [04:02<01:58, 59.37s/it]\u001b[32m[I 2021-03-08 03:01:46,507]\u001b[0m Trial 40 finished with value: 1.0445024284741309 and parameters: {'feature_fraction': 0.516}. Best is trial 38 with value: 1.0415976432205416.\u001b[0m\n",
      "feature_fraction_stage2, val_score: 1.038080:  67%|######6   | 4/6 [04:02<01:58, 59.37s/it]"
     ]
    },
    {
     "name": "stdout",
     "output_type": "stream",
     "text": [
      "Training until validation scores don't improve for 100 rounds\n",
      "[100]\tvalid_0's rmse: 1.03346\tvalid_1's rmse: 1.20582\n",
      "[200]\tvalid_0's rmse: 0.751976\tvalid_1's rmse: 1.0854\n",
      "[300]\tvalid_0's rmse: 0.60551\tvalid_1's rmse: 1.0595\n",
      "[400]\tvalid_0's rmse: 0.505958\tvalid_1's rmse: 1.05121\n",
      "[500]\tvalid_0's rmse: 0.429836\tvalid_1's rmse: 1.04757\n",
      "[600]\tvalid_0's rmse: 0.370007\tvalid_1's rmse: 1.04507\n",
      "[700]\tvalid_0's rmse: 0.322032\tvalid_1's rmse: 1.04408\n",
      "[800]\tvalid_0's rmse: 0.283495\tvalid_1's rmse: 1.04306\n",
      "[900]\tvalid_0's rmse: 0.252169\tvalid_1's rmse: 1.04272\n",
      "[1000]\tvalid_0's rmse: 0.226615\tvalid_1's rmse: 1.04258\n",
      "Early stopping, best iteration is:\n",
      "[921]\tvalid_0's rmse: 0.246478\tvalid_1's rmse: 1.04244\n"
     ]
    },
    {
     "name": "stderr",
     "output_type": "stream",
     "text": [
      "feature_fraction_stage2, val_score: 1.038080:  83%|########3 | 5/6 [04:51<00:56, 56.53s/it]\u001b[32m[I 2021-03-08 03:02:36,407]\u001b[0m Trial 41 finished with value: 1.0424423808091412 and parameters: {'feature_fraction': 0.484}. Best is trial 38 with value: 1.0415976432205416.\u001b[0m\n",
      "feature_fraction_stage2, val_score: 1.038080:  83%|########3 | 5/6 [04:51<00:56, 56.53s/it]"
     ]
    },
    {
     "name": "stdout",
     "output_type": "stream",
     "text": [
      "Training until validation scores don't improve for 100 rounds\n",
      "[100]\tvalid_0's rmse: 1.02851\tvalid_1's rmse: 1.20266\n",
      "[200]\tvalid_0's rmse: 0.745794\tvalid_1's rmse: 1.08524\n",
      "[300]\tvalid_0's rmse: 0.598984\tvalid_1's rmse: 1.0602\n",
      "[400]\tvalid_0's rmse: 0.499195\tvalid_1's rmse: 1.05217\n",
      "[500]\tvalid_0's rmse: 0.423121\tvalid_1's rmse: 1.04813\n",
      "[600]\tvalid_0's rmse: 0.363333\tvalid_1's rmse: 1.04616\n",
      "[700]\tvalid_0's rmse: 0.315804\tvalid_1's rmse: 1.04505\n",
      "[800]\tvalid_0's rmse: 0.277809\tvalid_1's rmse: 1.04413\n",
      "[900]\tvalid_0's rmse: 0.247044\tvalid_1's rmse: 1.04384\n",
      "[1000]\tvalid_0's rmse: 0.222039\tvalid_1's rmse: 1.04374\n",
      "[1100]\tvalid_0's rmse: 0.201601\tvalid_1's rmse: 1.0437\n",
      "Early stopping, best iteration is:\n",
      "[1094]\tvalid_0's rmse: 0.202709\tvalid_1's rmse: 1.04362\n"
     ]
    },
    {
     "name": "stderr",
     "output_type": "stream",
     "text": [
      "feature_fraction_stage2, val_score: 1.038080: 100%|##########| 6/6 [05:59<00:00, 59.95s/it]\u001b[32m[I 2021-03-08 03:03:44,348]\u001b[0m Trial 42 finished with value: 1.043620715396022 and parameters: {'feature_fraction': 0.58}. Best is trial 38 with value: 1.0415976432205416.\u001b[0m\n",
      "feature_fraction_stage2, val_score: 1.038080: 100%|##########| 6/6 [05:59<00:00, 59.98s/it]\n",
      "regularization_factors, val_score: 1.038080:   0%|          | 0/20 [00:00<?, ?it/s]"
     ]
    },
    {
     "name": "stdout",
     "output_type": "stream",
     "text": [
      "Training until validation scores don't improve for 100 rounds\n",
      "[100]\tvalid_0's rmse: 1.02918\tvalid_1's rmse: 1.20165\n",
      "[200]\tvalid_0's rmse: 0.747054\tvalid_1's rmse: 1.08261\n",
      "[300]\tvalid_0's rmse: 0.600068\tvalid_1's rmse: 1.0568\n",
      "[400]\tvalid_0's rmse: 0.499671\tvalid_1's rmse: 1.0496\n",
      "[500]\tvalid_0's rmse: 0.422771\tvalid_1's rmse: 1.04665\n",
      "[600]\tvalid_0's rmse: 0.362307\tvalid_1's rmse: 1.04516\n",
      "[700]\tvalid_0's rmse: 0.314006\tvalid_1's rmse: 1.04394\n",
      "[800]\tvalid_0's rmse: 0.275068\tvalid_1's rmse: 1.0429\n",
      "[900]\tvalid_0's rmse: 0.243929\tvalid_1's rmse: 1.04222\n",
      "[1000]\tvalid_0's rmse: 0.218489\tvalid_1's rmse: 1.04183\n",
      "[1100]\tvalid_0's rmse: 0.197607\tvalid_1's rmse: 1.04149\n",
      "[1200]\tvalid_0's rmse: 0.180424\tvalid_1's rmse: 1.04137\n",
      "Early stopping, best iteration is:\n",
      "[1147]\tvalid_0's rmse: 0.189147\tvalid_1's rmse: 1.04108\n"
     ]
    },
    {
     "name": "stderr",
     "output_type": "stream",
     "text": [
      "regularization_factors, val_score: 1.038080:   5%|5         | 1/20 [01:03<20:07, 63.53s/it]\u001b[32m[I 2021-03-08 03:04:47,891]\u001b[0m Trial 43 finished with value: 1.0410769986172932 and parameters: {'lambda_l1': 0.0118616922019966, 'lambda_l2': 0.43205274396112947}. Best is trial 43 with value: 1.0410769986172932.\u001b[0m\n",
      "regularization_factors, val_score: 1.038080:   5%|5         | 1/20 [01:03<20:07, 63.53s/it]"
     ]
    },
    {
     "name": "stdout",
     "output_type": "stream",
     "text": [
      "Training until validation scores don't improve for 100 rounds\n",
      "[100]\tvalid_0's rmse: 1.0283\tvalid_1's rmse: 1.20262\n",
      "[200]\tvalid_0's rmse: 0.747267\tvalid_1's rmse: 1.08352\n",
      "[300]\tvalid_0's rmse: 0.600307\tvalid_1's rmse: 1.05986\n",
      "[400]\tvalid_0's rmse: 0.499932\tvalid_1's rmse: 1.05215\n",
      "[500]\tvalid_0's rmse: 0.422936\tvalid_1's rmse: 1.04807\n",
      "[600]\tvalid_0's rmse: 0.362406\tvalid_1's rmse: 1.04693\n",
      "[700]\tvalid_0's rmse: 0.314444\tvalid_1's rmse: 1.04549\n",
      "[800]\tvalid_0's rmse: 0.275854\tvalid_1's rmse: 1.04449\n",
      "[900]\tvalid_0's rmse: 0.244828\tvalid_1's rmse: 1.04386\n",
      "[1000]\tvalid_0's rmse: 0.219644\tvalid_1's rmse: 1.04335\n",
      "[1100]\tvalid_0's rmse: 0.198898\tvalid_1's rmse: 1.04301\n",
      "[1200]\tvalid_0's rmse: 0.181685\tvalid_1's rmse: 1.04291\n",
      "Early stopping, best iteration is:\n",
      "[1166]\tvalid_0's rmse: 0.187186\tvalid_1's rmse: 1.04276\n"
     ]
    },
    {
     "name": "stderr",
     "output_type": "stream",
     "text": [
      "regularization_factors, val_score: 1.038080:  10%|#         | 2/20 [02:09<19:16, 64.24s/it]\u001b[32m[I 2021-03-08 03:05:53,807]\u001b[0m Trial 44 finished with value: 1.042764414545173 and parameters: {'lambda_l1': 0.13272824921259327, 'lambda_l2': 0.3059430972568733}. Best is trial 43 with value: 1.0410769986172932.\u001b[0m\n",
      "regularization_factors, val_score: 1.038080:  10%|#         | 2/20 [02:09<19:16, 64.24s/it]"
     ]
    },
    {
     "name": "stdout",
     "output_type": "stream",
     "text": [
      "Training until validation scores don't improve for 100 rounds\n",
      "[100]\tvalid_0's rmse: 1.02231\tvalid_1's rmse: 1.20122\n",
      "[200]\tvalid_0's rmse: 0.741606\tvalid_1's rmse: 1.08608\n",
      "[300]\tvalid_0's rmse: 0.594847\tvalid_1's rmse: 1.06274\n",
      "[400]\tvalid_0's rmse: 0.4944\tvalid_1's rmse: 1.05466\n",
      "[500]\tvalid_0's rmse: 0.417587\tvalid_1's rmse: 1.05082\n",
      "[600]\tvalid_0's rmse: 0.357154\tvalid_1's rmse: 1.04931\n",
      "[700]\tvalid_0's rmse: 0.309146\tvalid_1's rmse: 1.04848\n",
      "[800]\tvalid_0's rmse: 0.270736\tvalid_1's rmse: 1.0484\n",
      "[900]\tvalid_0's rmse: 0.239843\tvalid_1's rmse: 1.04781\n",
      "[1000]\tvalid_0's rmse: 0.214783\tvalid_1's rmse: 1.04758\n",
      "[1100]\tvalid_0's rmse: 0.194462\tvalid_1's rmse: 1.04746\n",
      "Early stopping, best iteration is:\n",
      "[1053]\tvalid_0's rmse: 0.203509\tvalid_1's rmse: 1.0473\n"
     ]
    },
    {
     "name": "stderr",
     "output_type": "stream",
     "text": [
      "regularization_factors, val_score: 1.038080:  15%|#5        | 3/20 [03:07<17:42, 62.48s/it]\u001b[32m[I 2021-03-08 03:06:52,172]\u001b[0m Trial 45 finished with value: 1.0472970960267183 and parameters: {'lambda_l1': 1.9697889844528274e-07, 'lambda_l2': 0.00844135340477636}. Best is trial 43 with value: 1.0410769986172932.\u001b[0m\n",
      "regularization_factors, val_score: 1.038080:  15%|#5        | 3/20 [03:07<17:42, 62.48s/it]"
     ]
    },
    {
     "name": "stdout",
     "output_type": "stream",
     "text": [
      "Training until validation scores don't improve for 100 rounds\n",
      "[100]\tvalid_0's rmse: 1.05888\tvalid_1's rmse: 1.2127\n",
      "[200]\tvalid_0's rmse: 0.787456\tvalid_1's rmse: 1.09063\n",
      "[300]\tvalid_0's rmse: 0.645302\tvalid_1's rmse: 1.06198\n",
      "[400]\tvalid_0's rmse: 0.549111\tvalid_1's rmse: 1.05363\n",
      "[500]\tvalid_0's rmse: 0.47615\tvalid_1's rmse: 1.04923\n",
      "[600]\tvalid_0's rmse: 0.419208\tvalid_1's rmse: 1.0469\n",
      "[700]\tvalid_0's rmse: 0.373052\tvalid_1's rmse: 1.04536\n",
      "[800]\tvalid_0's rmse: 0.335473\tvalid_1's rmse: 1.04397\n",
      "[900]\tvalid_0's rmse: 0.30452\tvalid_1's rmse: 1.04332\n",
      "[1000]\tvalid_0's rmse: 0.278891\tvalid_1's rmse: 1.04255\n",
      "[1100]\tvalid_0's rmse: 0.257347\tvalid_1's rmse: 1.04246\n",
      "[1200]\tvalid_0's rmse: 0.239064\tvalid_1's rmse: 1.04252\n",
      "Early stopping, best iteration is:\n",
      "[1124]\tvalid_0's rmse: 0.252736\tvalid_1's rmse: 1.04235\n"
     ]
    },
    {
     "name": "stderr",
     "output_type": "stream",
     "text": [
      "regularization_factors, val_score: 1.038080:  20%|##        | 4/20 [03:53<15:19, 57.45s/it]\u001b[32m[I 2021-03-08 03:07:37,898]\u001b[0m Trial 46 finished with value: 1.0423494592896492 and parameters: {'lambda_l1': 2.5098413368392025, 'lambda_l2': 0.4011637975601005}. Best is trial 43 with value: 1.0410769986172932.\u001b[0m\n",
      "regularization_factors, val_score: 1.038080:  20%|##        | 4/20 [03:53<15:19, 57.45s/it]"
     ]
    },
    {
     "name": "stdout",
     "output_type": "stream",
     "text": [
      "Training until validation scores don't improve for 100 rounds\n",
      "[100]\tvalid_0's rmse: 1.02223\tvalid_1's rmse: 1.20131\n",
      "[200]\tvalid_0's rmse: 0.741683\tvalid_1's rmse: 1.08385\n",
      "[300]\tvalid_0's rmse: 0.594717\tvalid_1's rmse: 1.05986\n",
      "[400]\tvalid_0's rmse: 0.494426\tvalid_1's rmse: 1.0519\n",
      "[500]\tvalid_0's rmse: 0.417458\tvalid_1's rmse: 1.04817\n",
      "[600]\tvalid_0's rmse: 0.357189\tvalid_1's rmse: 1.04666\n",
      "[700]\tvalid_0's rmse: 0.309209\tvalid_1's rmse: 1.04586\n",
      "[800]\tvalid_0's rmse: 0.270628\tvalid_1's rmse: 1.04492\n",
      "[900]\tvalid_0's rmse: 0.239828\tvalid_1's rmse: 1.0444\n",
      "[1000]\tvalid_0's rmse: 0.214882\tvalid_1's rmse: 1.04378\n",
      "[1100]\tvalid_0's rmse: 0.194335\tvalid_1's rmse: 1.04349\n",
      "[1200]\tvalid_0's rmse: 0.177372\tvalid_1's rmse: 1.04343\n",
      "[1300]\tvalid_0's rmse: 0.163269\tvalid_1's rmse: 1.04348\n",
      "Early stopping, best iteration is:\n",
      "[1253]\tvalid_0's rmse: 0.169611\tvalid_1's rmse: 1.04332\n"
     ]
    },
    {
     "name": "stderr",
     "output_type": "stream",
     "text": [
      "regularization_factors, val_score: 1.038080:  25%|##5       | 5/20 [05:00<15:04, 60.30s/it]\u001b[32m[I 2021-03-08 03:08:44,849]\u001b[0m Trial 47 finished with value: 1.0433227590460832 and parameters: {'lambda_l1': 6.492695089328377e-07, 'lambda_l2': 0.00013113558040591506}. Best is trial 43 with value: 1.0410769986172932.\u001b[0m\n",
      "regularization_factors, val_score: 1.038080:  25%|##5       | 5/20 [05:00<15:04, 60.30s/it]"
     ]
    },
    {
     "name": "stdout",
     "output_type": "stream",
     "text": [
      "Training until validation scores don't improve for 100 rounds\n",
      "[100]\tvalid_0's rmse: 1.02249\tvalid_1's rmse: 1.20014\n",
      "[200]\tvalid_0's rmse: 0.741527\tvalid_1's rmse: 1.08247\n",
      "[300]\tvalid_0's rmse: 0.594623\tvalid_1's rmse: 1.05854\n",
      "[400]\tvalid_0's rmse: 0.49395\tvalid_1's rmse: 1.05062\n",
      "[500]\tvalid_0's rmse: 0.417252\tvalid_1's rmse: 1.04705\n",
      "[600]\tvalid_0's rmse: 0.356995\tvalid_1's rmse: 1.04593\n",
      "[700]\tvalid_0's rmse: 0.309117\tvalid_1's rmse: 1.04499\n",
      "[800]\tvalid_0's rmse: 0.270848\tvalid_1's rmse: 1.04441\n",
      "[900]\tvalid_0's rmse: 0.240066\tvalid_1's rmse: 1.04407\n",
      "Early stopping, best iteration is:\n",
      "[899]\tvalid_0's rmse: 0.240324\tvalid_1's rmse: 1.04405\n"
     ]
    },
    {
     "name": "stderr",
     "output_type": "stream",
     "text": [
      "regularization_factors, val_score: 1.038080:  30%|###       | 6/20 [05:51<13:26, 57.62s/it]\u001b[32m[I 2021-03-08 03:09:36,207]\u001b[0m Trial 48 finished with value: 1.0440451190222981 and parameters: {'lambda_l1': 0.028218231886774178, 'lambda_l2': 8.045127117217228e-08}. Best is trial 43 with value: 1.0410769986172932.\u001b[0m\n",
      "regularization_factors, val_score: 1.038080:  30%|###       | 6/20 [05:51<13:26, 57.62s/it]"
     ]
    },
    {
     "name": "stdout",
     "output_type": "stream",
     "text": [
      "Training until validation scores don't improve for 100 rounds\n",
      "[100]\tvalid_0's rmse: 1.02223\tvalid_1's rmse: 1.20131\n",
      "[200]\tvalid_0's rmse: 0.741671\tvalid_1's rmse: 1.08359\n",
      "[300]\tvalid_0's rmse: 0.595157\tvalid_1's rmse: 1.06044\n",
      "[400]\tvalid_0's rmse: 0.494709\tvalid_1's rmse: 1.05204\n",
      "[500]\tvalid_0's rmse: 0.417797\tvalid_1's rmse: 1.04851\n",
      "[600]\tvalid_0's rmse: 0.357457\tvalid_1's rmse: 1.04708\n",
      "[700]\tvalid_0's rmse: 0.309473\tvalid_1's rmse: 1.0457\n",
      "[800]\tvalid_0's rmse: 0.271044\tvalid_1's rmse: 1.04471\n",
      "[900]\tvalid_0's rmse: 0.240174\tvalid_1's rmse: 1.04371\n",
      "[1000]\tvalid_0's rmse: 0.215159\tvalid_1's rmse: 1.04358\n",
      "[1100]\tvalid_0's rmse: 0.194767\tvalid_1's rmse: 1.04309\n",
      "[1200]\tvalid_0's rmse: 0.177938\tvalid_1's rmse: 1.04292\n",
      "[1300]\tvalid_0's rmse: 0.163698\tvalid_1's rmse: 1.04287\n",
      "Early stopping, best iteration is:\n",
      "[1277]\tvalid_0's rmse: 0.166809\tvalid_1's rmse: 1.04274\n"
     ]
    },
    {
     "name": "stderr",
     "output_type": "stream",
     "text": [
      "regularization_factors, val_score: 1.038080:  35%|###5      | 7/20 [06:59<13:09, 60.73s/it]\u001b[32m[I 2021-03-08 03:10:44,191]\u001b[0m Trial 49 finished with value: 1.0427396679353045 and parameters: {'lambda_l1': 1.577226218008253e-06, 'lambda_l2': 0.0002491438682506883}. Best is trial 43 with value: 1.0410769986172932.\u001b[0m\n",
      "regularization_factors, val_score: 1.038080:  35%|###5      | 7/20 [06:59<13:09, 60.73s/it]"
     ]
    },
    {
     "name": "stdout",
     "output_type": "stream",
     "text": [
      "Training until validation scores don't improve for 100 rounds\n",
      "[100]\tvalid_0's rmse: 1.02808\tvalid_1's rmse: 1.20127\n",
      "[200]\tvalid_0's rmse: 0.748216\tvalid_1's rmse: 1.08214\n",
      "[300]\tvalid_0's rmse: 0.602836\tvalid_1's rmse: 1.05782\n",
      "[400]\tvalid_0's rmse: 0.503941\tvalid_1's rmse: 1.05007\n",
      "[500]\tvalid_0's rmse: 0.428365\tvalid_1's rmse: 1.04632\n",
      "[600]\tvalid_0's rmse: 0.369362\tvalid_1's rmse: 1.04459\n",
      "[700]\tvalid_0's rmse: 0.322195\tvalid_1's rmse: 1.04327\n",
      "[800]\tvalid_0's rmse: 0.284145\tvalid_1's rmse: 1.04248\n",
      "[900]\tvalid_0's rmse: 0.253522\tvalid_1's rmse: 1.04204\n",
      "[1000]\tvalid_0's rmse: 0.228583\tvalid_1's rmse: 1.04205\n",
      "Early stopping, best iteration is:\n",
      "[916]\tvalid_0's rmse: 0.249217\tvalid_1's rmse: 1.04191\n"
     ]
    },
    {
     "name": "stderr",
     "output_type": "stream",
     "text": [
      "regularization_factors, val_score: 1.038080:  40%|####      | 8/20 [07:50<11:31, 57.63s/it]\u001b[32m[I 2021-03-08 03:11:34,596]\u001b[0m Trial 50 finished with value: 1.0419072929483055 and parameters: {'lambda_l1': 0.6500368300068544, 'lambda_l2': 4.347980010265031e-07}. Best is trial 43 with value: 1.0410769986172932.\u001b[0m\n",
      "regularization_factors, val_score: 1.038080:  40%|####      | 8/20 [07:50<11:31, 57.63s/it]"
     ]
    },
    {
     "name": "stdout",
     "output_type": "stream",
     "text": [
      "Training until validation scores don't improve for 100 rounds\n",
      "[100]\tvalid_0's rmse: 1.03418\tvalid_1's rmse: 1.20468\n",
      "[200]\tvalid_0's rmse: 0.752402\tvalid_1's rmse: 1.08246\n",
      "[300]\tvalid_0's rmse: 0.604638\tvalid_1's rmse: 1.0564\n",
      "[400]\tvalid_0's rmse: 0.503938\tvalid_1's rmse: 1.048\n",
      "[500]\tvalid_0's rmse: 0.426737\tvalid_1's rmse: 1.04427\n",
      "[600]\tvalid_0's rmse: 0.36617\tvalid_1's rmse: 1.04242\n",
      "[700]\tvalid_0's rmse: 0.31742\tvalid_1's rmse: 1.04098\n",
      "[800]\tvalid_0's rmse: 0.278207\tvalid_1's rmse: 1.04015\n",
      "[900]\tvalid_0's rmse: 0.246709\tvalid_1's rmse: 1.03975\n",
      "[1000]\tvalid_0's rmse: 0.22101\tvalid_1's rmse: 1.03935\n",
      "[1100]\tvalid_0's rmse: 0.199778\tvalid_1's rmse: 1.0392\n",
      "[1200]\tvalid_0's rmse: 0.182426\tvalid_1's rmse: 1.03913\n",
      "Early stopping, best iteration is:\n",
      "[1114]\tvalid_0's rmse: 0.197139\tvalid_1's rmse: 1.03909\n"
     ]
    },
    {
     "name": "stderr",
     "output_type": "stream",
     "text": [
      "regularization_factors, val_score: 1.038080:  45%|####5     | 9/20 [08:53<10:54, 59.47s/it]\u001b[32m[I 2021-03-08 03:12:38,342]\u001b[0m Trial 51 finished with value: 1.0390936317802366 and parameters: {'lambda_l1': 1.6270875315116503e-07, 'lambda_l2': 0.7832300951740329}. Best is trial 51 with value: 1.0390936317802366.\u001b[0m\n",
      "regularization_factors, val_score: 1.038080:  45%|####5     | 9/20 [08:53<10:54, 59.47s/it]"
     ]
    },
    {
     "name": "stdout",
     "output_type": "stream",
     "text": [
      "Training until validation scores don't improve for 100 rounds\n",
      "[100]\tvalid_0's rmse: 1.02223\tvalid_1's rmse: 1.20131\n",
      "[200]\tvalid_0's rmse: 0.741606\tvalid_1's rmse: 1.08312\n",
      "[300]\tvalid_0's rmse: 0.594995\tvalid_1's rmse: 1.05894\n",
      "[400]\tvalid_0's rmse: 0.494301\tvalid_1's rmse: 1.05119\n",
      "[500]\tvalid_0's rmse: 0.417245\tvalid_1's rmse: 1.04788\n",
      "[600]\tvalid_0's rmse: 0.356943\tvalid_1's rmse: 1.04568\n",
      "[700]\tvalid_0's rmse: 0.309047\tvalid_1's rmse: 1.04462\n",
      "[800]\tvalid_0's rmse: 0.270722\tvalid_1's rmse: 1.04349\n",
      "[900]\tvalid_0's rmse: 0.239987\tvalid_1's rmse: 1.0431\n",
      "[1000]\tvalid_0's rmse: 0.215016\tvalid_1's rmse: 1.0426\n",
      "[1100]\tvalid_0's rmse: 0.194638\tvalid_1's rmse: 1.04228\n",
      "[1200]\tvalid_0's rmse: 0.177661\tvalid_1's rmse: 1.04218\n",
      "Early stopping, best iteration is:\n",
      "[1142]\tvalid_0's rmse: 0.187079\tvalid_1's rmse: 1.04213\n"
     ]
    },
    {
     "name": "stderr",
     "output_type": "stream",
     "text": [
      "regularization_factors, val_score: 1.038080:  50%|#####     | 10/20 [09:55<10:01, 60.12s/it]\u001b[32m[I 2021-03-08 03:13:39,983]\u001b[0m Trial 52 finished with value: 1.0421279512119834 and parameters: {'lambda_l1': 3.408964235775375e-07, 'lambda_l2': 6.677594195597478e-05}. Best is trial 51 with value: 1.0390936317802366.\u001b[0m\n",
      "regularization_factors, val_score: 1.038080:  50%|#####     | 10/20 [09:55<10:01, 60.12s/it]"
     ]
    },
    {
     "name": "stdout",
     "output_type": "stream",
     "text": [
      "Training until validation scores don't improve for 100 rounds\n",
      "[100]\tvalid_0's rmse: 1.07396\tvalid_1's rmse: 1.21794\n",
      "[200]\tvalid_0's rmse: 0.797727\tvalid_1's rmse: 1.09461\n",
      "[300]\tvalid_0's rmse: 0.648325\tvalid_1's rmse: 1.06502\n",
      "[400]\tvalid_0's rmse: 0.545334\tvalid_1's rmse: 1.05409\n",
      "[500]\tvalid_0's rmse: 0.465873\tvalid_1's rmse: 1.05005\n",
      "[600]\tvalid_0's rmse: 0.402664\tvalid_1's rmse: 1.04706\n",
      "[700]\tvalid_0's rmse: 0.351513\tvalid_1's rmse: 1.04546\n",
      "[800]\tvalid_0's rmse: 0.309684\tvalid_1's rmse: 1.04433\n",
      "[900]\tvalid_0's rmse: 0.275327\tvalid_1's rmse: 1.04384\n",
      "[1000]\tvalid_0's rmse: 0.246681\tvalid_1's rmse: 1.04298\n",
      "[1100]\tvalid_0's rmse: 0.223153\tvalid_1's rmse: 1.04269\n",
      "Early stopping, best iteration is:\n",
      "[1087]\tvalid_0's rmse: 0.225975\tvalid_1's rmse: 1.04265\n"
     ]
    },
    {
     "name": "stderr",
     "output_type": "stream",
     "text": [
      "regularization_factors, val_score: 1.038080:  55%|#####5    | 11/20 [10:55<09:00, 60.04s/it]\u001b[32m[I 2021-03-08 03:14:39,839]\u001b[0m Trial 53 finished with value: 1.0426453515980325 and parameters: {'lambda_l1': 9.093857651038239e-05, 'lambda_l2': 4.3875962434198135}. Best is trial 51 with value: 1.0390936317802366.\u001b[0m\n",
      "regularization_factors, val_score: 1.038080:  55%|#####5    | 11/20 [10:55<09:00, 60.04s/it]"
     ]
    },
    {
     "name": "stdout",
     "output_type": "stream",
     "text": [
      "Training until validation scores don't improve for 100 rounds\n",
      "[100]\tvalid_0's rmse: 1.10334\tvalid_1's rmse: 1.22762\n",
      "[200]\tvalid_0's rmse: 0.839294\tvalid_1's rmse: 1.10274\n",
      "[300]\tvalid_0's rmse: 0.692647\tvalid_1's rmse: 1.07158\n",
      "[400]\tvalid_0's rmse: 0.589619\tvalid_1's rmse: 1.06066\n",
      "[500]\tvalid_0's rmse: 0.509371\tvalid_1's rmse: 1.0551\n",
      "[600]\tvalid_0's rmse: 0.444697\tvalid_1's rmse: 1.05231\n",
      "[700]\tvalid_0's rmse: 0.3917\tvalid_1's rmse: 1.05052\n",
      "[800]\tvalid_0's rmse: 0.347338\tvalid_1's rmse: 1.04926\n",
      "[900]\tvalid_0's rmse: 0.310313\tvalid_1's rmse: 1.04816\n",
      "[1000]\tvalid_0's rmse: 0.279138\tvalid_1's rmse: 1.04782\n",
      "[1100]\tvalid_0's rmse: 0.252972\tvalid_1's rmse: 1.04787\n",
      "Early stopping, best iteration is:\n",
      "[1023]\tvalid_0's rmse: 0.272707\tvalid_1's rmse: 1.0477\n"
     ]
    },
    {
     "name": "stderr",
     "output_type": "stream",
     "text": [
      "regularization_factors, val_score: 1.038080:  60%|######    | 12/20 [11:49<07:45, 58.22s/it]\u001b[32m[I 2021-03-08 03:15:33,826]\u001b[0m Trial 54 finished with value: 1.0477014618326896 and parameters: {'lambda_l1': 0.0009343843662362276, 'lambda_l2': 9.627728706230483}. Best is trial 51 with value: 1.0390936317802366.\u001b[0m\n",
      "regularization_factors, val_score: 1.038080:  60%|######    | 12/20 [11:49<07:45, 58.22s/it]"
     ]
    },
    {
     "name": "stdout",
     "output_type": "stream",
     "text": [
      "Training until validation scores don't improve for 100 rounds\n",
      "[100]\tvalid_0's rmse: 1.02272\tvalid_1's rmse: 1.20074\n",
      "[200]\tvalid_0's rmse: 0.74186\tvalid_1's rmse: 1.08405\n",
      "[300]\tvalid_0's rmse: 0.594824\tvalid_1's rmse: 1.06029\n",
      "[400]\tvalid_0's rmse: 0.494267\tvalid_1's rmse: 1.05258\n",
      "[500]\tvalid_0's rmse: 0.417708\tvalid_1's rmse: 1.04939\n",
      "[600]\tvalid_0's rmse: 0.357235\tvalid_1's rmse: 1.04712\n",
      "[700]\tvalid_0's rmse: 0.309223\tvalid_1's rmse: 1.04645\n",
      "[800]\tvalid_0's rmse: 0.270831\tvalid_1's rmse: 1.04568\n",
      "[900]\tvalid_0's rmse: 0.239913\tvalid_1's rmse: 1.04571\n",
      "Early stopping, best iteration is:\n",
      "[881]\tvalid_0's rmse: 0.245245\tvalid_1's rmse: 1.04556\n"
     ]
    },
    {
     "name": "stderr",
     "output_type": "stream",
     "text": [
      "regularization_factors, val_score: 1.038080:  65%|######5   | 13/20 [12:39<06:30, 55.80s/it]\u001b[32m[I 2021-03-08 03:16:23,957]\u001b[0m Trial 55 finished with value: 1.0455565329610836 and parameters: {'lambda_l1': 1.0280203123265769e-08, 'lambda_l2': 0.022701445696592534}. Best is trial 51 with value: 1.0390936317802366.\u001b[0m\n",
      "regularization_factors, val_score: 1.038080:  65%|######5   | 13/20 [12:39<06:30, 55.80s/it]"
     ]
    },
    {
     "name": "stdout",
     "output_type": "stream",
     "text": [
      "Training until validation scores don't improve for 100 rounds\n",
      "[100]\tvalid_0's rmse: 1.02264\tvalid_1's rmse: 1.20056\n",
      "[200]\tvalid_0's rmse: 0.741845\tvalid_1's rmse: 1.08284\n",
      "[300]\tvalid_0's rmse: 0.595158\tvalid_1's rmse: 1.0577\n",
      "[400]\tvalid_0's rmse: 0.494608\tvalid_1's rmse: 1.05122\n",
      "[500]\tvalid_0's rmse: 0.417637\tvalid_1's rmse: 1.0478\n",
      "[600]\tvalid_0's rmse: 0.357471\tvalid_1's rmse: 1.04526\n",
      "[700]\tvalid_0's rmse: 0.309328\tvalid_1's rmse: 1.04409\n",
      "[800]\tvalid_0's rmse: 0.270854\tvalid_1's rmse: 1.04282\n",
      "[900]\tvalid_0's rmse: 0.240133\tvalid_1's rmse: 1.04208\n",
      "[1000]\tvalid_0's rmse: 0.215175\tvalid_1's rmse: 1.04188\n",
      "[1100]\tvalid_0's rmse: 0.194696\tvalid_1's rmse: 1.04176\n",
      "Early stopping, best iteration is:\n",
      "[1076]\tvalid_0's rmse: 0.199201\tvalid_1's rmse: 1.04166\n"
     ]
    },
    {
     "name": "stderr",
     "output_type": "stream",
     "text": [
      "regularization_factors, val_score: 1.038080:  70%|#######   | 14/20 [13:44<05:50, 58.43s/it]\u001b[32m[I 2021-03-08 03:17:28,529]\u001b[0m Trial 56 finished with value: 1.0416613435976092 and parameters: {'lambda_l1': 0.0015607526925176618, 'lambda_l2': 0.014240334462920716}. Best is trial 51 with value: 1.0390936317802366.\u001b[0m\n",
      "regularization_factors, val_score: 1.038080:  70%|#######   | 14/20 [13:44<05:50, 58.43s/it]"
     ]
    },
    {
     "name": "stdout",
     "output_type": "stream",
     "text": [
      "Training until validation scores don't improve for 100 rounds\n",
      "[100]\tvalid_0's rmse: 1.05486\tvalid_1's rmse: 1.21188\n",
      "[200]\tvalid_0's rmse: 0.773719\tvalid_1's rmse: 1.08835\n",
      "[300]\tvalid_0's rmse: 0.624457\tvalid_1's rmse: 1.06124\n",
      "[400]\tvalid_0's rmse: 0.522413\tvalid_1's rmse: 1.0525\n",
      "[500]\tvalid_0's rmse: 0.444386\tvalid_1's rmse: 1.04832\n",
      "[600]\tvalid_0's rmse: 0.382756\tvalid_1's rmse: 1.04582\n",
      "[700]\tvalid_0's rmse: 0.333282\tvalid_1's rmse: 1.04442\n",
      "[800]\tvalid_0's rmse: 0.292576\tvalid_1's rmse: 1.04334\n",
      "[900]\tvalid_0's rmse: 0.259672\tvalid_1's rmse: 1.04273\n",
      "[1000]\tvalid_0's rmse: 0.232626\tvalid_1's rmse: 1.04202\n",
      "[1100]\tvalid_0's rmse: 0.210525\tvalid_1's rmse: 1.04189\n",
      "[1200]\tvalid_0's rmse: 0.192036\tvalid_1's rmse: 1.04154\n",
      "[1300]\tvalid_0's rmse: 0.17677\tvalid_1's rmse: 1.04155\n",
      "[1400]\tvalid_0's rmse: 0.163831\tvalid_1's rmse: 1.0414\n",
      "Early stopping, best iteration is:\n",
      "[1375]\tvalid_0's rmse: 0.166898\tvalid_1's rmse: 1.04129\n"
     ]
    },
    {
     "name": "stderr",
     "output_type": "stream",
     "text": [
      "regularization_factors, val_score: 1.038080:  75%|#######5  | 15/20 [14:58<05:15, 63.15s/it]\u001b[32m[I 2021-03-08 03:18:42,706]\u001b[0m Trial 57 finished with value: 1.0412908582314413 and parameters: {'lambda_l1': 7.344975324757894e-05, 'lambda_l2': 2.335576559979064}. Best is trial 51 with value: 1.0390936317802366.\u001b[0m\n",
      "regularization_factors, val_score: 1.038080:  75%|#######5  | 15/20 [14:58<05:15, 63.15s/it]"
     ]
    },
    {
     "name": "stdout",
     "output_type": "stream",
     "text": [
      "Training until validation scores don't improve for 100 rounds\n",
      "[100]\tvalid_0's rmse: 1.02467\tvalid_1's rmse: 1.20106\n",
      "[200]\tvalid_0's rmse: 0.743923\tvalid_1's rmse: 1.08348\n",
      "[300]\tvalid_0's rmse: 0.597035\tvalid_1's rmse: 1.05977\n",
      "[400]\tvalid_0's rmse: 0.496793\tvalid_1's rmse: 1.05202\n",
      "[500]\tvalid_0's rmse: 0.419826\tvalid_1's rmse: 1.04811\n",
      "[600]\tvalid_0's rmse: 0.359528\tvalid_1's rmse: 1.04661\n",
      "[700]\tvalid_0's rmse: 0.311281\tvalid_1's rmse: 1.04601\n",
      "[800]\tvalid_0's rmse: 0.27264\tvalid_1's rmse: 1.04523\n",
      "[900]\tvalid_0's rmse: 0.241431\tvalid_1's rmse: 1.04486\n",
      "[1000]\tvalid_0's rmse: 0.216367\tvalid_1's rmse: 1.04461\n",
      "[1100]\tvalid_0's rmse: 0.195807\tvalid_1's rmse: 1.04451\n",
      "[1200]\tvalid_0's rmse: 0.178768\tvalid_1's rmse: 1.04489\n",
      "Early stopping, best iteration is:\n",
      "[1152]\tvalid_0's rmse: 0.186559\tvalid_1's rmse: 1.0444\n"
     ]
    },
    {
     "name": "stderr",
     "output_type": "stream",
     "text": [
      "regularization_factors, val_score: 1.038080:  80%|########  | 16/20 [16:02<04:14, 63.53s/it]\u001b[32m[I 2021-03-08 03:19:47,111]\u001b[0m Trial 58 finished with value: 1.04439874062711 and parameters: {'lambda_l1': 0.013046551030397594, 'lambda_l2': 0.1620338249508394}. Best is trial 51 with value: 1.0390936317802366.\u001b[0m\n",
      "regularization_factors, val_score: 1.038080:  80%|########  | 16/20 [16:02<04:14, 63.53s/it]"
     ]
    },
    {
     "name": "stdout",
     "output_type": "stream",
     "text": [
      "Training until validation scores don't improve for 100 rounds\n",
      "[100]\tvalid_0's rmse: 1.02222\tvalid_1's rmse: 1.20128\n",
      "[200]\tvalid_0's rmse: 0.741666\tvalid_1's rmse: 1.08356\n",
      "[300]\tvalid_0's rmse: 0.594919\tvalid_1's rmse: 1.06062\n",
      "[400]\tvalid_0's rmse: 0.494445\tvalid_1's rmse: 1.05313\n",
      "[500]\tvalid_0's rmse: 0.417288\tvalid_1's rmse: 1.04933\n",
      "[600]\tvalid_0's rmse: 0.356861\tvalid_1's rmse: 1.0472\n",
      "[700]\tvalid_0's rmse: 0.308858\tvalid_1's rmse: 1.04565\n",
      "[800]\tvalid_0's rmse: 0.2705\tvalid_1's rmse: 1.04399\n",
      "[900]\tvalid_0's rmse: 0.239741\tvalid_1's rmse: 1.04347\n",
      "[1000]\tvalid_0's rmse: 0.214671\tvalid_1's rmse: 1.04316\n",
      "[1100]\tvalid_0's rmse: 0.1943\tvalid_1's rmse: 1.04303\n",
      "[1200]\tvalid_0's rmse: 0.177339\tvalid_1's rmse: 1.04296\n",
      "Early stopping, best iteration is:\n",
      "[1138]\tvalid_0's rmse: 0.187503\tvalid_1's rmse: 1.04279\n"
     ]
    },
    {
     "name": "stderr",
     "output_type": "stream",
     "text": [
      "regularization_factors, val_score: 1.038080:  85%|########5 | 17/20 [17:05<03:10, 63.36s/it]\u001b[32m[I 2021-03-08 03:20:50,092]\u001b[0m Trial 59 finished with value: 1.042788181940311 and parameters: {'lambda_l1': 2.0393126401673785e-05, 'lambda_l2': 4.399542185512945e-06}. Best is trial 51 with value: 1.0390936317802366.\u001b[0m\n",
      "regularization_factors, val_score: 1.038080:  85%|########5 | 17/20 [17:05<03:10, 63.36s/it]"
     ]
    },
    {
     "name": "stdout",
     "output_type": "stream",
     "text": [
      "Training until validation scores don't improve for 100 rounds\n",
      "[100]\tvalid_0's rmse: 1.02258\tvalid_1's rmse: 1.19929\n",
      "[200]\tvalid_0's rmse: 0.741601\tvalid_1's rmse: 1.08253\n",
      "[300]\tvalid_0's rmse: 0.594861\tvalid_1's rmse: 1.05944\n",
      "[400]\tvalid_0's rmse: 0.494582\tvalid_1's rmse: 1.05322\n",
      "[500]\tvalid_0's rmse: 0.417687\tvalid_1's rmse: 1.04985\n",
      "[600]\tvalid_0's rmse: 0.357234\tvalid_1's rmse: 1.04824\n",
      "[700]\tvalid_0's rmse: 0.309547\tvalid_1's rmse: 1.04701\n",
      "[800]\tvalid_0's rmse: 0.270908\tvalid_1's rmse: 1.04608\n",
      "[900]\tvalid_0's rmse: 0.240175\tvalid_1's rmse: 1.04529\n",
      "[1000]\tvalid_0's rmse: 0.215273\tvalid_1's rmse: 1.04499\n",
      "[1100]\tvalid_0's rmse: 0.194906\tvalid_1's rmse: 1.04487\n",
      "[1200]\tvalid_0's rmse: 0.178012\tvalid_1's rmse: 1.04439\n",
      "[1300]\tvalid_0's rmse: 0.163787\tvalid_1's rmse: 1.04447\n",
      "Early stopping, best iteration is:\n",
      "[1238]\tvalid_0's rmse: 0.172379\tvalid_1's rmse: 1.04427\n"
     ]
    },
    {
     "name": "stderr",
     "output_type": "stream",
     "text": [
      "regularization_factors, val_score: 1.038080:  90%|######### | 18/20 [18:14<02:09, 64.86s/it]\u001b[32m[I 2021-03-08 03:21:58,436]\u001b[0m Trial 60 finished with value: 1.044265187311137 and parameters: {'lambda_l1': 0.006347062181841581, 'lambda_l2': 0.004785325580521871}. Best is trial 51 with value: 1.0390936317802366.\u001b[0m\n",
      "regularization_factors, val_score: 1.038080:  90%|######### | 18/20 [18:14<02:09, 64.86s/it]"
     ]
    },
    {
     "name": "stdout",
     "output_type": "stream",
     "text": [
      "Training until validation scores don't improve for 100 rounds\n",
      "[100]\tvalid_0's rmse: 1.02209\tvalid_1's rmse: 1.20004\n",
      "[200]\tvalid_0's rmse: 0.741217\tvalid_1's rmse: 1.08314\n",
      "[300]\tvalid_0's rmse: 0.594651\tvalid_1's rmse: 1.06028\n",
      "[400]\tvalid_0's rmse: 0.494053\tvalid_1's rmse: 1.0531\n",
      "[500]\tvalid_0's rmse: 0.417267\tvalid_1's rmse: 1.04942\n",
      "[600]\tvalid_0's rmse: 0.357077\tvalid_1's rmse: 1.04793\n",
      "[700]\tvalid_0's rmse: 0.30938\tvalid_1's rmse: 1.04637\n",
      "[800]\tvalid_0's rmse: 0.271008\tvalid_1's rmse: 1.04573\n",
      "[900]\tvalid_0's rmse: 0.240043\tvalid_1's rmse: 1.04514\n",
      "[1000]\tvalid_0's rmse: 0.214983\tvalid_1's rmse: 1.04491\n",
      "Early stopping, best iteration is:\n",
      "[961]\tvalid_0's rmse: 0.224116\tvalid_1's rmse: 1.04488\n"
     ]
    },
    {
     "name": "stderr",
     "output_type": "stream",
     "text": [
      "regularization_factors, val_score: 1.038080:  95%|#########5| 19/20 [19:07<01:01, 61.42s/it]\u001b[32m[I 2021-03-08 03:22:51,835]\u001b[0m Trial 61 finished with value: 1.044879566929503 and parameters: {'lambda_l1': 1.6428074200979753e-08, 'lambda_l2': 0.0014430599379936606}. Best is trial 51 with value: 1.0390936317802366.\u001b[0m\n",
      "regularization_factors, val_score: 1.038080:  95%|#########5| 19/20 [19:07<01:01, 61.42s/it]"
     ]
    },
    {
     "name": "stdout",
     "output_type": "stream",
     "text": [
      "Training until validation scores don't improve for 100 rounds\n",
      "[100]\tvalid_0's rmse: 1.12058\tvalid_1's rmse: 1.22679\n",
      "[200]\tvalid_0's rmse: 0.884305\tvalid_1's rmse: 1.10881\n",
      "[300]\tvalid_0's rmse: 0.756412\tvalid_1's rmse: 1.0777\n",
      "[400]\tvalid_0's rmse: 0.667478\tvalid_1's rmse: 1.06651\n",
      "[500]\tvalid_0's rmse: 0.598517\tvalid_1's rmse: 1.06062\n",
      "[600]\tvalid_0's rmse: 0.543088\tvalid_1's rmse: 1.05717\n",
      "[700]\tvalid_0's rmse: 0.497381\tvalid_1's rmse: 1.0543\n",
      "[800]\tvalid_0's rmse: 0.458961\tvalid_1's rmse: 1.0527\n",
      "[900]\tvalid_0's rmse: 0.426244\tvalid_1's rmse: 1.0516\n",
      "[1000]\tvalid_0's rmse: 0.398065\tvalid_1's rmse: 1.05112\n",
      "[1100]\tvalid_0's rmse: 0.373535\tvalid_1's rmse: 1.05059\n",
      "[1200]\tvalid_0's rmse: 0.352427\tvalid_1's rmse: 1.05005\n",
      "[1300]\tvalid_0's rmse: 0.334092\tvalid_1's rmse: 1.04972\n",
      "[1400]\tvalid_0's rmse: 0.317782\tvalid_1's rmse: 1.04966\n",
      "[1500]\tvalid_0's rmse: 0.303788\tvalid_1's rmse: 1.0494\n",
      "[1600]\tvalid_0's rmse: 0.291451\tvalid_1's rmse: 1.04916\n",
      "[1700]\tvalid_0's rmse: 0.280442\tvalid_1's rmse: 1.049\n",
      "[1800]\tvalid_0's rmse: 0.27087\tvalid_1's rmse: 1.04892\n",
      "Early stopping, best iteration is:\n",
      "[1770]\tvalid_0's rmse: 0.273633\tvalid_1's rmse: 1.04884\n"
     ]
    },
    {
     "name": "stderr",
     "output_type": "stream",
     "text": [
      "regularization_factors, val_score: 1.038080: 100%|##########| 20/20 [19:50<00:00, 55.87s/it]\u001b[32m[I 2021-03-08 03:23:34,759]\u001b[0m Trial 62 finished with value: 1.0488353783721716 and parameters: {'lambda_l1': 9.44167730193304, 'lambda_l2': 0.10374402419294868}. Best is trial 51 with value: 1.0390936317802366.\u001b[0m\n",
      "regularization_factors, val_score: 1.038080: 100%|##########| 20/20 [19:50<00:00, 59.52s/it]\n",
      "min_data_in_leaf, val_score: 1.038080:   0%|          | 0/5 [00:00<?, ?it/s]"
     ]
    },
    {
     "name": "stdout",
     "output_type": "stream",
     "text": [
      "Training until validation scores don't improve for 100 rounds\n",
      "[100]\tvalid_0's rmse: 1.03237\tvalid_1's rmse: 1.20365\n",
      "[200]\tvalid_0's rmse: 0.75085\tvalid_1's rmse: 1.08239\n",
      "[300]\tvalid_0's rmse: 0.604481\tvalid_1's rmse: 1.05632\n",
      "[400]\tvalid_0's rmse: 0.504762\tvalid_1's rmse: 1.04834\n",
      "[500]\tvalid_0's rmse: 0.42876\tvalid_1's rmse: 1.04347\n",
      "[600]\tvalid_0's rmse: 0.368786\tvalid_1's rmse: 1.04229\n",
      "[700]\tvalid_0's rmse: 0.321105\tvalid_1's rmse: 1.04104\n",
      "[800]\tvalid_0's rmse: 0.2824\tvalid_1's rmse: 1.03962\n",
      "[900]\tvalid_0's rmse: 0.251383\tvalid_1's rmse: 1.03907\n",
      "[1000]\tvalid_0's rmse: 0.225965\tvalid_1's rmse: 1.03866\n",
      "[1100]\tvalid_0's rmse: 0.205324\tvalid_1's rmse: 1.03847\n",
      "[1200]\tvalid_0's rmse: 0.188104\tvalid_1's rmse: 1.03846\n",
      "[1300]\tvalid_0's rmse: 0.173856\tvalid_1's rmse: 1.03833\n",
      "[1400]\tvalid_0's rmse: 0.161853\tvalid_1's rmse: 1.03823\n",
      "[1500]\tvalid_0's rmse: 0.151713\tvalid_1's rmse: 1.03813\n",
      "Early stopping, best iteration is:\n",
      "[1488]\tvalid_0's rmse: 0.152836\tvalid_1's rmse: 1.03808\n"
     ]
    },
    {
     "name": "stderr",
     "output_type": "stream",
     "text": [
      "min_data_in_leaf, val_score: 1.038080:  20%|##        | 1/5 [01:16<05:04, 76.17s/it]\u001b[32m[I 2021-03-08 03:24:50,950]\u001b[0m Trial 63 finished with value: 1.0380799611936546 and parameters: {'min_child_samples': 25}. Best is trial 63 with value: 1.0380799611936546.\u001b[0m\n",
      "min_data_in_leaf, val_score: 1.038080:  20%|##        | 1/5 [01:16<05:04, 76.17s/it]"
     ]
    },
    {
     "name": "stdout",
     "output_type": "stream",
     "text": [
      "Training until validation scores don't improve for 100 rounds\n",
      "[100]\tvalid_0's rmse: 1.03237\tvalid_1's rmse: 1.20365\n",
      "[200]\tvalid_0's rmse: 0.75085\tvalid_1's rmse: 1.08239\n",
      "[300]\tvalid_0's rmse: 0.604481\tvalid_1's rmse: 1.05632\n",
      "[400]\tvalid_0's rmse: 0.504762\tvalid_1's rmse: 1.04834\n",
      "[500]\tvalid_0's rmse: 0.42876\tvalid_1's rmse: 1.04347\n",
      "[600]\tvalid_0's rmse: 0.368786\tvalid_1's rmse: 1.04229\n",
      "[700]\tvalid_0's rmse: 0.321105\tvalid_1's rmse: 1.04104\n",
      "[800]\tvalid_0's rmse: 0.2824\tvalid_1's rmse: 1.03962\n",
      "[900]\tvalid_0's rmse: 0.251383\tvalid_1's rmse: 1.03907\n",
      "[1000]\tvalid_0's rmse: 0.225965\tvalid_1's rmse: 1.03866\n",
      "[1100]\tvalid_0's rmse: 0.205324\tvalid_1's rmse: 1.03847\n",
      "[1200]\tvalid_0's rmse: 0.188104\tvalid_1's rmse: 1.03846\n",
      "[1300]\tvalid_0's rmse: 0.173856\tvalid_1's rmse: 1.03833\n",
      "[1400]\tvalid_0's rmse: 0.161853\tvalid_1's rmse: 1.03823\n",
      "[1500]\tvalid_0's rmse: 0.151713\tvalid_1's rmse: 1.03813\n",
      "Early stopping, best iteration is:\n",
      "[1488]\tvalid_0's rmse: 0.152836\tvalid_1's rmse: 1.03808\n"
     ]
    },
    {
     "name": "stderr",
     "output_type": "stream",
     "text": [
      "min_data_in_leaf, val_score: 1.038080:  40%|####      | 2/5 [02:33<03:49, 76.62s/it]\u001b[32m[I 2021-03-08 03:26:08,599]\u001b[0m Trial 64 finished with value: 1.0380799611936546 and parameters: {'min_child_samples': 5}. Best is trial 63 with value: 1.0380799611936546.\u001b[0m\n",
      "min_data_in_leaf, val_score: 1.038080:  40%|####      | 2/5 [02:33<03:49, 76.62s/it]"
     ]
    },
    {
     "name": "stdout",
     "output_type": "stream",
     "text": [
      "Training until validation scores don't improve for 100 rounds\n",
      "[100]\tvalid_0's rmse: 1.03237\tvalid_1's rmse: 1.20365\n",
      "[200]\tvalid_0's rmse: 0.75085\tvalid_1's rmse: 1.08239\n",
      "[300]\tvalid_0's rmse: 0.604481\tvalid_1's rmse: 1.05632\n",
      "[400]\tvalid_0's rmse: 0.504762\tvalid_1's rmse: 1.04834\n",
      "[500]\tvalid_0's rmse: 0.42876\tvalid_1's rmse: 1.04347\n",
      "[600]\tvalid_0's rmse: 0.368786\tvalid_1's rmse: 1.04229\n",
      "[700]\tvalid_0's rmse: 0.321105\tvalid_1's rmse: 1.04104\n",
      "[800]\tvalid_0's rmse: 0.2824\tvalid_1's rmse: 1.03962\n",
      "[900]\tvalid_0's rmse: 0.251383\tvalid_1's rmse: 1.03907\n",
      "[1000]\tvalid_0's rmse: 0.225965\tvalid_1's rmse: 1.03866\n",
      "[1100]\tvalid_0's rmse: 0.205324\tvalid_1's rmse: 1.03847\n",
      "[1200]\tvalid_0's rmse: 0.188104\tvalid_1's rmse: 1.03846\n",
      "[1300]\tvalid_0's rmse: 0.173856\tvalid_1's rmse: 1.03833\n",
      "[1400]\tvalid_0's rmse: 0.161853\tvalid_1's rmse: 1.03823\n",
      "[1500]\tvalid_0's rmse: 0.151713\tvalid_1's rmse: 1.03813\n",
      "Early stopping, best iteration is:\n",
      "[1488]\tvalid_0's rmse: 0.152836\tvalid_1's rmse: 1.03808\n"
     ]
    },
    {
     "name": "stderr",
     "output_type": "stream",
     "text": [
      "min_data_in_leaf, val_score: 1.038080:  60%|######    | 3/5 [03:50<02:33, 76.72s/it]\u001b[32m[I 2021-03-08 03:27:25,576]\u001b[0m Trial 65 finished with value: 1.0380799611936546 and parameters: {'min_child_samples': 100}. Best is trial 63 with value: 1.0380799611936546.\u001b[0m\n",
      "min_data_in_leaf, val_score: 1.038080:  60%|######    | 3/5 [03:50<02:33, 76.72s/it]"
     ]
    },
    {
     "name": "stdout",
     "output_type": "stream",
     "text": [
      "Training until validation scores don't improve for 100 rounds\n",
      "[100]\tvalid_0's rmse: 1.03237\tvalid_1's rmse: 1.20365\n",
      "[200]\tvalid_0's rmse: 0.75085\tvalid_1's rmse: 1.08239\n",
      "[300]\tvalid_0's rmse: 0.604481\tvalid_1's rmse: 1.05632\n",
      "[400]\tvalid_0's rmse: 0.504762\tvalid_1's rmse: 1.04834\n",
      "[500]\tvalid_0's rmse: 0.42876\tvalid_1's rmse: 1.04347\n",
      "[600]\tvalid_0's rmse: 0.368786\tvalid_1's rmse: 1.04229\n",
      "[700]\tvalid_0's rmse: 0.321105\tvalid_1's rmse: 1.04104\n",
      "[800]\tvalid_0's rmse: 0.2824\tvalid_1's rmse: 1.03962\n",
      "[900]\tvalid_0's rmse: 0.251383\tvalid_1's rmse: 1.03907\n",
      "[1000]\tvalid_0's rmse: 0.225965\tvalid_1's rmse: 1.03866\n",
      "[1100]\tvalid_0's rmse: 0.205324\tvalid_1's rmse: 1.03847\n",
      "[1200]\tvalid_0's rmse: 0.188104\tvalid_1's rmse: 1.03846\n",
      "[1300]\tvalid_0's rmse: 0.173856\tvalid_1's rmse: 1.03833\n",
      "[1400]\tvalid_0's rmse: 0.161853\tvalid_1's rmse: 1.03823\n",
      "[1500]\tvalid_0's rmse: 0.151713\tvalid_1's rmse: 1.03813\n",
      "Early stopping, best iteration is:\n",
      "[1488]\tvalid_0's rmse: 0.152836\tvalid_1's rmse: 1.03808\n"
     ]
    },
    {
     "name": "stderr",
     "output_type": "stream",
     "text": [
      "min_data_in_leaf, val_score: 1.038080:  80%|########  | 4/5 [05:06<01:16, 76.56s/it]\u001b[32m[I 2021-03-08 03:28:41,746]\u001b[0m Trial 66 finished with value: 1.0380799611936546 and parameters: {'min_child_samples': 50}. Best is trial 63 with value: 1.0380799611936546.\u001b[0m\n",
      "min_data_in_leaf, val_score: 1.038080:  80%|########  | 4/5 [05:06<01:16, 76.56s/it]"
     ]
    },
    {
     "name": "stdout",
     "output_type": "stream",
     "text": [
      "Training until validation scores don't improve for 100 rounds\n",
      "[100]\tvalid_0's rmse: 1.03237\tvalid_1's rmse: 1.20365\n",
      "[200]\tvalid_0's rmse: 0.75085\tvalid_1's rmse: 1.08239\n",
      "[300]\tvalid_0's rmse: 0.604481\tvalid_1's rmse: 1.05632\n",
      "[400]\tvalid_0's rmse: 0.504762\tvalid_1's rmse: 1.04834\n",
      "[500]\tvalid_0's rmse: 0.42876\tvalid_1's rmse: 1.04347\n",
      "[600]\tvalid_0's rmse: 0.368786\tvalid_1's rmse: 1.04229\n",
      "[700]\tvalid_0's rmse: 0.321105\tvalid_1's rmse: 1.04104\n",
      "[800]\tvalid_0's rmse: 0.2824\tvalid_1's rmse: 1.03962\n",
      "[900]\tvalid_0's rmse: 0.251383\tvalid_1's rmse: 1.03907\n",
      "[1000]\tvalid_0's rmse: 0.225965\tvalid_1's rmse: 1.03866\n",
      "[1100]\tvalid_0's rmse: 0.205324\tvalid_1's rmse: 1.03847\n",
      "[1200]\tvalid_0's rmse: 0.188104\tvalid_1's rmse: 1.03846\n",
      "[1300]\tvalid_0's rmse: 0.173856\tvalid_1's rmse: 1.03833\n",
      "[1400]\tvalid_0's rmse: 0.161853\tvalid_1's rmse: 1.03823\n",
      "[1500]\tvalid_0's rmse: 0.151713\tvalid_1's rmse: 1.03813\n",
      "Early stopping, best iteration is:\n",
      "[1488]\tvalid_0's rmse: 0.152836\tvalid_1's rmse: 1.03808\n"
     ]
    },
    {
     "name": "stderr",
     "output_type": "stream",
     "text": [
      "min_data_in_leaf, val_score: 1.038080: 100%|##########| 5/5 [06:24<00:00, 76.77s/it]\u001b[32m[I 2021-03-08 03:29:59,016]\u001b[0m Trial 67 finished with value: 1.0380799611936546 and parameters: {'min_child_samples': 10}. Best is trial 63 with value: 1.0380799611936546.\u001b[0m\n",
      "min_data_in_leaf, val_score: 1.038080: 100%|##########| 5/5 [06:24<00:00, 76.85s/it]\n"
     ]
    },
    {
     "name": "stdout",
     "output_type": "stream",
     "text": [
      "Fold 1 rmsle: 1.0380\n"
     ]
    },
    {
     "name": "stderr",
     "output_type": "stream",
     "text": [
      "\u001b[32m[I 2021-03-08 03:30:00,421]\u001b[0m A new study created in memory with name: no-name-c613e8f6-71bb-47dc-a7c7-d609739e8f89\u001b[0m\n",
      "feature_fraction, val_score: inf:   0%|          | 0/7 [00:00<?, ?it/s]"
     ]
    },
    {
     "name": "stdout",
     "output_type": "stream",
     "text": [
      "--------------FOLDS : 2 --------------\n",
      "[LightGBM] [Warning] min_data_in_leaf is set=10, min_child_samples=20 will be ignored. Current value: min_data_in_leaf=10\n"
     ]
    },
    {
     "name": "stderr",
     "output_type": "stream",
     "text": [
      "/Users/shinichiro.saito/opt/anaconda3/lib/python3.8/site-packages/lightgbm/engine.py:151: UserWarning: Found `num_boost_round` in params. Will use it instead of argument\n",
      "  warnings.warn(\"Found `{}` in params. Will use it instead of argument\".format(alias))\n",
      "/Users/shinichiro.saito/opt/anaconda3/lib/python3.8/site-packages/lightgbm/engine.py:156: UserWarning: Found `early_stopping_rounds` in params. Will use it instead of argument\n",
      "  warnings.warn(\"Found `{}` in params. Will use it instead of argument\".format(alias))\n",
      "/Users/shinichiro.saito/opt/anaconda3/lib/python3.8/site-packages/lightgbm/basic.py:1554: UserWarning: categorical_feature in Dataset is overridden.\n",
      "New categorical_feature is ['acquisition_method', 'art_series_id', 'copyright_holder', 'principal_maker', 'principal_or_first_maker']\n",
      "  warnings.warn('categorical_feature in Dataset is overridden.\\n'\n",
      "/Users/shinichiro.saito/opt/anaconda3/lib/python3.8/site-packages/lightgbm/basic.py:1286: UserWarning: Overriding the parameters from Reference Dataset.\n",
      "  warnings.warn('Overriding the parameters from Reference Dataset.')\n",
      "/Users/shinichiro.saito/opt/anaconda3/lib/python3.8/site-packages/lightgbm/basic.py:1098: UserWarning: categorical_column in param dict is overridden.\n",
      "  warnings.warn('{} in param dict is overridden.'.format(cat_alias))\n"
     ]
    },
    {
     "name": "stdout",
     "output_type": "stream",
     "text": [
      "Training until validation scores don't improve for 100 rounds\n",
      "[100]\tvalid_0's rmse: 1.19018\tvalid_1's rmse: 1.21582\n",
      "[200]\tvalid_0's rmse: 1.03201\tvalid_1's rmse: 1.10277\n",
      "[300]\tvalid_0's rmse: 0.962615\tvalid_1's rmse: 1.07325\n",
      "[400]\tvalid_0's rmse: 0.91198\tvalid_1's rmse: 1.05819\n",
      "[500]\tvalid_0's rmse: 0.868966\tvalid_1's rmse: 1.04909\n",
      "[600]\tvalid_0's rmse: 0.831225\tvalid_1's rmse: 1.04333\n",
      "[700]\tvalid_0's rmse: 0.796963\tvalid_1's rmse: 1.03902\n",
      "[800]\tvalid_0's rmse: 0.765744\tvalid_1's rmse: 1.03529\n",
      "[900]\tvalid_0's rmse: 0.737472\tvalid_1's rmse: 1.03226\n",
      "[1000]\tvalid_0's rmse: 0.710727\tvalid_1's rmse: 1.02953\n",
      "[1100]\tvalid_0's rmse: 0.685768\tvalid_1's rmse: 1.02756\n",
      "[1200]\tvalid_0's rmse: 0.662706\tvalid_1's rmse: 1.02593\n",
      "[1300]\tvalid_0's rmse: 0.641002\tvalid_1's rmse: 1.02443\n",
      "[1400]\tvalid_0's rmse: 0.620527\tvalid_1's rmse: 1.02334\n",
      "[1500]\tvalid_0's rmse: 0.600963\tvalid_1's rmse: 1.02176\n",
      "[1600]\tvalid_0's rmse: 0.582526\tvalid_1's rmse: 1.02087\n",
      "[1700]\tvalid_0's rmse: 0.565027\tvalid_1's rmse: 1.01994\n",
      "[1800]\tvalid_0's rmse: 0.548211\tvalid_1's rmse: 1.01953\n",
      "[1900]\tvalid_0's rmse: 0.532512\tvalid_1's rmse: 1.01914\n",
      "[2000]\tvalid_0's rmse: 0.517585\tvalid_1's rmse: 1.01859\n",
      "[2100]\tvalid_0's rmse: 0.503145\tvalid_1's rmse: 1.01817\n",
      "[2200]\tvalid_0's rmse: 0.489454\tvalid_1's rmse: 1.01802\n",
      "[2300]\tvalid_0's rmse: 0.476424\tvalid_1's rmse: 1.01781\n",
      "[2400]\tvalid_0's rmse: 0.463936\tvalid_1's rmse: 1.01762\n",
      "[2500]\tvalid_0's rmse: 0.452044\tvalid_1's rmse: 1.01713\n",
      "[2600]\tvalid_0's rmse: 0.440402\tvalid_1's rmse: 1.01717\n",
      "Early stopping, best iteration is:\n",
      "[2517]\tvalid_0's rmse: 0.449996\tvalid_1's rmse: 1.01705\n"
     ]
    },
    {
     "name": "stderr",
     "output_type": "stream",
     "text": [
      "feature_fraction, val_score: 1.017047:  14%|#4        | 1/7 [00:45<04:33, 45.51s/it]\u001b[32m[I 2021-03-08 03:30:45,936]\u001b[0m Trial 0 finished with value: 1.0170467641340961 and parameters: {'feature_fraction': 0.8}. Best is trial 0 with value: 1.0170467641340961.\u001b[0m\n",
      "feature_fraction, val_score: 1.017047:  14%|#4        | 1/7 [00:45<04:33, 45.51s/it]"
     ]
    },
    {
     "name": "stdout",
     "output_type": "stream",
     "text": [
      "Training until validation scores don't improve for 100 rounds\n",
      "[100]\tvalid_0's rmse: 1.19353\tvalid_1's rmse: 1.21748\n",
      "[200]\tvalid_0's rmse: 1.0351\tvalid_1's rmse: 1.10422\n",
      "[300]\tvalid_0's rmse: 0.967252\tvalid_1's rmse: 1.07424\n",
      "[400]\tvalid_0's rmse: 0.917359\tvalid_1's rmse: 1.05827\n",
      "[500]\tvalid_0's rmse: 0.875391\tvalid_1's rmse: 1.04895\n",
      "[600]\tvalid_0's rmse: 0.838303\tvalid_1's rmse: 1.04292\n",
      "[700]\tvalid_0's rmse: 0.804623\tvalid_1's rmse: 1.03786\n",
      "[800]\tvalid_0's rmse: 0.774055\tvalid_1's rmse: 1.03445\n",
      "[900]\tvalid_0's rmse: 0.746114\tvalid_1's rmse: 1.03133\n",
      "[1000]\tvalid_0's rmse: 0.719597\tvalid_1's rmse: 1.02877\n",
      "[1100]\tvalid_0's rmse: 0.694787\tvalid_1's rmse: 1.0264\n",
      "[1200]\tvalid_0's rmse: 0.671605\tvalid_1's rmse: 1.02451\n",
      "[1300]\tvalid_0's rmse: 0.649914\tvalid_1's rmse: 1.02338\n",
      "[1400]\tvalid_0's rmse: 0.629379\tvalid_1's rmse: 1.02192\n",
      "[1500]\tvalid_0's rmse: 0.61046\tvalid_1's rmse: 1.02108\n",
      "[1600]\tvalid_0's rmse: 0.591985\tvalid_1's rmse: 1.01945\n",
      "[1700]\tvalid_0's rmse: 0.574698\tvalid_1's rmse: 1.01867\n",
      "[1800]\tvalid_0's rmse: 0.5581\tvalid_1's rmse: 1.01801\n",
      "[1900]\tvalid_0's rmse: 0.542532\tvalid_1's rmse: 1.01766\n",
      "[2000]\tvalid_0's rmse: 0.52754\tvalid_1's rmse: 1.01717\n",
      "[2100]\tvalid_0's rmse: 0.5132\tvalid_1's rmse: 1.01684\n",
      "[2200]\tvalid_0's rmse: 0.499431\tvalid_1's rmse: 1.01634\n",
      "[2300]\tvalid_0's rmse: 0.48649\tvalid_1's rmse: 1.0161\n",
      "[2400]\tvalid_0's rmse: 0.473977\tvalid_1's rmse: 1.01587\n",
      "[2500]\tvalid_0's rmse: 0.461949\tvalid_1's rmse: 1.01595\n",
      "Early stopping, best iteration is:\n",
      "[2420]\tvalid_0's rmse: 0.471618\tvalid_1's rmse: 1.01578\n"
     ]
    },
    {
     "name": "stderr",
     "output_type": "stream",
     "text": [
      "feature_fraction, val_score: 1.015784:  29%|##8       | 2/7 [01:20<03:31, 42.29s/it]\u001b[32m[I 2021-03-08 03:31:20,716]\u001b[0m Trial 1 finished with value: 1.015784076424832 and parameters: {'feature_fraction': 0.6}. Best is trial 1 with value: 1.015784076424832.\u001b[0m\n",
      "feature_fraction, val_score: 1.015784:  29%|##8       | 2/7 [01:20<03:31, 42.29s/it]"
     ]
    },
    {
     "name": "stdout",
     "output_type": "stream",
     "text": [
      "Training until validation scores don't improve for 100 rounds\n",
      "[100]\tvalid_0's rmse: 1.19163\tvalid_1's rmse: 1.2158\n",
      "[200]\tvalid_0's rmse: 1.03302\tvalid_1's rmse: 1.10333\n",
      "[300]\tvalid_0's rmse: 0.964746\tvalid_1's rmse: 1.07432\n",
      "[400]\tvalid_0's rmse: 0.914721\tvalid_1's rmse: 1.0599\n",
      "[500]\tvalid_0's rmse: 0.872381\tvalid_1's rmse: 1.05111\n",
      "[600]\tvalid_0's rmse: 0.834763\tvalid_1's rmse: 1.0444\n",
      "[700]\tvalid_0's rmse: 0.800932\tvalid_1's rmse: 1.04008\n",
      "[800]\tvalid_0's rmse: 0.77\tvalid_1's rmse: 1.03628\n",
      "[900]\tvalid_0's rmse: 0.74154\tvalid_1's rmse: 1.03293\n",
      "[1000]\tvalid_0's rmse: 0.714915\tvalid_1's rmse: 1.03042\n",
      "[1100]\tvalid_0's rmse: 0.690138\tvalid_1's rmse: 1.02815\n",
      "[1200]\tvalid_0's rmse: 0.666741\tvalid_1's rmse: 1.02691\n",
      "[1300]\tvalid_0's rmse: 0.645161\tvalid_1's rmse: 1.02562\n",
      "[1400]\tvalid_0's rmse: 0.62468\tvalid_1's rmse: 1.02504\n",
      "[1500]\tvalid_0's rmse: 0.60528\tvalid_1's rmse: 1.02405\n",
      "[1600]\tvalid_0's rmse: 0.586993\tvalid_1's rmse: 1.02307\n",
      "[1700]\tvalid_0's rmse: 0.569693\tvalid_1's rmse: 1.02221\n",
      "[1800]\tvalid_0's rmse: 0.552867\tvalid_1's rmse: 1.02154\n",
      "[1900]\tvalid_0's rmse: 0.537403\tvalid_1's rmse: 1.02129\n",
      "[2000]\tvalid_0's rmse: 0.522486\tvalid_1's rmse: 1.0207\n",
      "[2100]\tvalid_0's rmse: 0.508218\tvalid_1's rmse: 1.02031\n",
      "[2200]\tvalid_0's rmse: 0.494492\tvalid_1's rmse: 1.02009\n",
      "[2300]\tvalid_0's rmse: 0.481238\tvalid_1's rmse: 1.01949\n",
      "[2400]\tvalid_0's rmse: 0.468699\tvalid_1's rmse: 1.01921\n",
      "[2500]\tvalid_0's rmse: 0.456662\tvalid_1's rmse: 1.01939\n",
      "Early stopping, best iteration is:\n",
      "[2444]\tvalid_0's rmse: 0.463429\tvalid_1's rmse: 1.01904\n"
     ]
    },
    {
     "name": "stderr",
     "output_type": "stream",
     "text": [
      "feature_fraction, val_score: 1.015784:  43%|####2     | 3/7 [02:00<02:46, 41.53s/it]\u001b[32m[I 2021-03-08 03:32:00,499]\u001b[0m Trial 2 finished with value: 1.0190388964431814 and parameters: {'feature_fraction': 0.7}. Best is trial 1 with value: 1.015784076424832.\u001b[0m\n",
      "feature_fraction, val_score: 1.015784:  43%|####2     | 3/7 [02:00<02:46, 41.53s/it]"
     ]
    },
    {
     "name": "stdout",
     "output_type": "stream",
     "text": [
      "Training until validation scores don't improve for 100 rounds\n",
      "[100]\tvalid_0's rmse: 1.2032\tvalid_1's rmse: 1.22667\n",
      "[200]\tvalid_0's rmse: 1.04328\tvalid_1's rmse: 1.10991\n",
      "[300]\tvalid_0's rmse: 0.973607\tvalid_1's rmse: 1.07769\n",
      "[400]\tvalid_0's rmse: 0.925309\tvalid_1's rmse: 1.06256\n",
      "[500]\tvalid_0's rmse: 0.884387\tvalid_1's rmse: 1.05271\n",
      "[600]\tvalid_0's rmse: 0.848028\tvalid_1's rmse: 1.04558\n",
      "[700]\tvalid_0's rmse: 0.815342\tvalid_1's rmse: 1.0405\n",
      "[800]\tvalid_0's rmse: 0.785367\tvalid_1's rmse: 1.03564\n",
      "[900]\tvalid_0's rmse: 0.757565\tvalid_1's rmse: 1.03228\n",
      "[1000]\tvalid_0's rmse: 0.73145\tvalid_1's rmse: 1.03023\n",
      "[1100]\tvalid_0's rmse: 0.706973\tvalid_1's rmse: 1.02807\n",
      "[1200]\tvalid_0's rmse: 0.68432\tvalid_1's rmse: 1.02625\n",
      "[1300]\tvalid_0's rmse: 0.662835\tvalid_1's rmse: 1.02433\n",
      "[1400]\tvalid_0's rmse: 0.642503\tvalid_1's rmse: 1.02313\n",
      "[1500]\tvalid_0's rmse: 0.623291\tvalid_1's rmse: 1.02103\n",
      "[1600]\tvalid_0's rmse: 0.604937\tvalid_1's rmse: 1.01923\n",
      "[1700]\tvalid_0's rmse: 0.587854\tvalid_1's rmse: 1.01824\n",
      "[1800]\tvalid_0's rmse: 0.571394\tvalid_1's rmse: 1.01734\n",
      "[1900]\tvalid_0's rmse: 0.55568\tvalid_1's rmse: 1.0166\n",
      "[2000]\tvalid_0's rmse: 0.540713\tvalid_1's rmse: 1.01613\n",
      "[2100]\tvalid_0's rmse: 0.526474\tvalid_1's rmse: 1.01546\n",
      "[2200]\tvalid_0's rmse: 0.512837\tvalid_1's rmse: 1.01504\n",
      "[2300]\tvalid_0's rmse: 0.49976\tvalid_1's rmse: 1.01493\n",
      "[2400]\tvalid_0's rmse: 0.487092\tvalid_1's rmse: 1.01467\n",
      "[2500]\tvalid_0's rmse: 0.474932\tvalid_1's rmse: 1.01444\n",
      "[2600]\tvalid_0's rmse: 0.463135\tvalid_1's rmse: 1.01424\n",
      "[2700]\tvalid_0's rmse: 0.452099\tvalid_1's rmse: 1.01441\n",
      "Early stopping, best iteration is:\n",
      "[2619]\tvalid_0's rmse: 0.460981\tvalid_1's rmse: 1.01411\n"
     ]
    },
    {
     "name": "stderr",
     "output_type": "stream",
     "text": [
      "feature_fraction, val_score: 1.014113:  57%|#####7    | 4/7 [02:27<01:51, 37.18s/it]\u001b[32m[I 2021-03-08 03:32:27,515]\u001b[0m Trial 3 finished with value: 1.0141130612275338 and parameters: {'feature_fraction': 0.4}. Best is trial 3 with value: 1.0141130612275338.\u001b[0m\n",
      "feature_fraction, val_score: 1.014113:  57%|#####7    | 4/7 [02:27<01:51, 37.18s/it]"
     ]
    },
    {
     "name": "stdout",
     "output_type": "stream",
     "text": [
      "Training until validation scores don't improve for 100 rounds\n",
      "[100]\tvalid_0's rmse: 1.18977\tvalid_1's rmse: 1.21518\n",
      "[200]\tvalid_0's rmse: 1.03034\tvalid_1's rmse: 1.10252\n",
      "[300]\tvalid_0's rmse: 0.960354\tvalid_1's rmse: 1.07217\n",
      "[400]\tvalid_0's rmse: 0.909716\tvalid_1's rmse: 1.05707\n",
      "[500]\tvalid_0's rmse: 0.866926\tvalid_1's rmse: 1.04851\n",
      "[600]\tvalid_0's rmse: 0.828982\tvalid_1's rmse: 1.04296\n",
      "[700]\tvalid_0's rmse: 0.794476\tvalid_1's rmse: 1.03808\n",
      "[800]\tvalid_0's rmse: 0.762899\tvalid_1's rmse: 1.0347\n",
      "[900]\tvalid_0's rmse: 0.734042\tvalid_1's rmse: 1.03157\n",
      "[1000]\tvalid_0's rmse: 0.707314\tvalid_1's rmse: 1.02915\n",
      "[1100]\tvalid_0's rmse: 0.682139\tvalid_1's rmse: 1.02636\n",
      "[1200]\tvalid_0's rmse: 0.658637\tvalid_1's rmse: 1.02457\n",
      "[1300]\tvalid_0's rmse: 0.636771\tvalid_1's rmse: 1.02335\n",
      "[1400]\tvalid_0's rmse: 0.616137\tvalid_1's rmse: 1.02262\n",
      "[1500]\tvalid_0's rmse: 0.596614\tvalid_1's rmse: 1.02184\n",
      "[1600]\tvalid_0's rmse: 0.578218\tvalid_1's rmse: 1.02032\n",
      "[1700]\tvalid_0's rmse: 0.56085\tvalid_1's rmse: 1.01992\n",
      "[1800]\tvalid_0's rmse: 0.54435\tvalid_1's rmse: 1.01917\n",
      "[1900]\tvalid_0's rmse: 0.528652\tvalid_1's rmse: 1.01864\n",
      "[2000]\tvalid_0's rmse: 0.513558\tvalid_1's rmse: 1.01829\n",
      "[2100]\tvalid_0's rmse: 0.498985\tvalid_1's rmse: 1.01748\n",
      "[2200]\tvalid_0's rmse: 0.485491\tvalid_1's rmse: 1.01704\n",
      "[2300]\tvalid_0's rmse: 0.472359\tvalid_1's rmse: 1.0168\n",
      "[2400]\tvalid_0's rmse: 0.459957\tvalid_1's rmse: 1.01668\n",
      "[2500]\tvalid_0's rmse: 0.447995\tvalid_1's rmse: 1.0166\n",
      "[2600]\tvalid_0's rmse: 0.436482\tvalid_1's rmse: 1.01647\n",
      "[2700]\tvalid_0's rmse: 0.425448\tvalid_1's rmse: 1.01647\n",
      "[2800]\tvalid_0's rmse: 0.414738\tvalid_1's rmse: 1.01606\n",
      "[2900]\tvalid_0's rmse: 0.404619\tvalid_1's rmse: 1.01601\n",
      "Early stopping, best iteration is:\n",
      "[2872]\tvalid_0's rmse: 0.40735\tvalid_1's rmse: 1.01578\n"
     ]
    },
    {
     "name": "stderr",
     "output_type": "stream",
     "text": [
      "feature_fraction, val_score: 1.014113:  71%|#######1  | 5/7 [03:23<01:25, 42.84s/it]\u001b[32m[I 2021-03-08 03:33:23,578]\u001b[0m Trial 4 finished with value: 1.01578224497802 and parameters: {'feature_fraction': 0.8999999999999999}. Best is trial 3 with value: 1.0141130612275338.\u001b[0m\n",
      "feature_fraction, val_score: 1.014113:  71%|#######1  | 5/7 [03:23<01:25, 42.84s/it]"
     ]
    },
    {
     "name": "stdout",
     "output_type": "stream",
     "text": [
      "Training until validation scores don't improve for 100 rounds\n",
      "[100]\tvalid_0's rmse: 1.18936\tvalid_1's rmse: 1.21552\n",
      "[200]\tvalid_0's rmse: 1.0294\tvalid_1's rmse: 1.10188\n",
      "[300]\tvalid_0's rmse: 0.959343\tvalid_1's rmse: 1.07231\n",
      "[400]\tvalid_0's rmse: 0.908373\tvalid_1's rmse: 1.05754\n",
      "[500]\tvalid_0's rmse: 0.86529\tvalid_1's rmse: 1.04957\n",
      "[600]\tvalid_0's rmse: 0.826775\tvalid_1's rmse: 1.04342\n",
      "[700]\tvalid_0's rmse: 0.791978\tvalid_1's rmse: 1.03883\n",
      "[800]\tvalid_0's rmse: 0.760517\tvalid_1's rmse: 1.03546\n",
      "[900]\tvalid_0's rmse: 0.731456\tvalid_1's rmse: 1.03239\n",
      "[1000]\tvalid_0's rmse: 0.704706\tvalid_1's rmse: 1.02953\n",
      "[1100]\tvalid_0's rmse: 0.679559\tvalid_1's rmse: 1.02734\n",
      "[1200]\tvalid_0's rmse: 0.65622\tvalid_1's rmse: 1.02512\n",
      "[1300]\tvalid_0's rmse: 0.634409\tvalid_1's rmse: 1.02391\n",
      "[1400]\tvalid_0's rmse: 0.613459\tvalid_1's rmse: 1.02297\n",
      "[1500]\tvalid_0's rmse: 0.593918\tvalid_1's rmse: 1.02184\n",
      "[1600]\tvalid_0's rmse: 0.575564\tvalid_1's rmse: 1.02102\n",
      "[1700]\tvalid_0's rmse: 0.558004\tvalid_1's rmse: 1.02029\n",
      "[1800]\tvalid_0's rmse: 0.541681\tvalid_1's rmse: 1.02009\n",
      "[1900]\tvalid_0's rmse: 0.52594\tvalid_1's rmse: 1.01931\n",
      "[2000]\tvalid_0's rmse: 0.511047\tvalid_1's rmse: 1.01864\n",
      "[2100]\tvalid_0's rmse: 0.496571\tvalid_1's rmse: 1.01809\n"
     ]
    },
    {
     "name": "stderr",
     "output_type": "stream",
     "text": [
      "feature_fraction, val_score: 1.014113:  86%|########5 | 6/7 [04:09<00:43, 43.82s/it]\u001b[32m[I 2021-03-08 03:34:09,662]\u001b[0m Trial 5 finished with value: 1.0180457194420294 and parameters: {'feature_fraction': 1.0}. Best is trial 3 with value: 1.0141130612275338.\u001b[0m\n",
      "feature_fraction, val_score: 1.014113:  86%|########5 | 6/7 [04:09<00:43, 43.82s/it]"
     ]
    },
    {
     "name": "stdout",
     "output_type": "stream",
     "text": [
      "Early stopping, best iteration is:\n",
      "[2098]\tvalid_0's rmse: 0.496858\tvalid_1's rmse: 1.01805\n",
      "Training until validation scores don't improve for 100 rounds\n",
      "[100]\tvalid_0's rmse: 1.19646\tvalid_1's rmse: 1.22055\n",
      "[200]\tvalid_0's rmse: 1.03758\tvalid_1's rmse: 1.10581\n",
      "[300]\tvalid_0's rmse: 0.969169\tvalid_1's rmse: 1.07503\n",
      "[400]\tvalid_0's rmse: 0.919788\tvalid_1's rmse: 1.05941\n",
      "[500]\tvalid_0's rmse: 0.878424\tvalid_1's rmse: 1.05175\n",
      "[600]\tvalid_0's rmse: 0.841677\tvalid_1's rmse: 1.04437\n",
      "[700]\tvalid_0's rmse: 0.808507\tvalid_1's rmse: 1.03953\n",
      "[800]\tvalid_0's rmse: 0.778311\tvalid_1's rmse: 1.03572\n",
      "[900]\tvalid_0's rmse: 0.750588\tvalid_1's rmse: 1.03296\n",
      "[1000]\tvalid_0's rmse: 0.724495\tvalid_1's rmse: 1.03074\n",
      "[1100]\tvalid_0's rmse: 0.699992\tvalid_1's rmse: 1.02871\n",
      "[1200]\tvalid_0's rmse: 0.677042\tvalid_1's rmse: 1.02703\n",
      "[1300]\tvalid_0's rmse: 0.65548\tvalid_1's rmse: 1.02627\n",
      "[1400]\tvalid_0's rmse: 0.635207\tvalid_1's rmse: 1.02499\n",
      "[1500]\tvalid_0's rmse: 0.616216\tvalid_1's rmse: 1.02404\n",
      "[1600]\tvalid_0's rmse: 0.597725\tvalid_1's rmse: 1.02303\n",
      "[1700]\tvalid_0's rmse: 0.580705\tvalid_1's rmse: 1.02257\n",
      "[1800]\tvalid_0's rmse: 0.564345\tvalid_1's rmse: 1.02212\n",
      "[1900]\tvalid_0's rmse: 0.548817\tvalid_1's rmse: 1.02164\n",
      "[2000]\tvalid_0's rmse: 0.533752\tvalid_1's rmse: 1.0208\n",
      "[2100]\tvalid_0's rmse: 0.519315\tvalid_1's rmse: 1.0201\n",
      "[2200]\tvalid_0's rmse: 0.505585\tvalid_1's rmse: 1.0196\n",
      "[2300]\tvalid_0's rmse: 0.492336\tvalid_1's rmse: 1.01892\n",
      "[2400]\tvalid_0's rmse: 0.479608\tvalid_1's rmse: 1.01896\n",
      "[2500]\tvalid_0's rmse: 0.467614\tvalid_1's rmse: 1.01857\n",
      "[2600]\tvalid_0's rmse: 0.456038\tvalid_1's rmse: 1.01818\n",
      "[2700]\tvalid_0's rmse: 0.444749\tvalid_1's rmse: 1.01827\n",
      "Early stopping, best iteration is:\n",
      "[2633]\tvalid_0's rmse: 0.452256\tvalid_1's rmse: 1.01797\n"
     ]
    },
    {
     "name": "stderr",
     "output_type": "stream",
     "text": [
      "feature_fraction, val_score: 1.014113: 100%|##########| 7/7 [04:40<00:00, 40.03s/it]\u001b[32m[I 2021-03-08 03:34:40,845]\u001b[0m Trial 6 finished with value: 1.0179694723804502 and parameters: {'feature_fraction': 0.5}. Best is trial 3 with value: 1.0141130612275338.\u001b[0m\n",
      "feature_fraction, val_score: 1.014113: 100%|##########| 7/7 [04:40<00:00, 40.06s/it]\n",
      "num_leaves, val_score: 1.014113:   0%|          | 0/20 [00:00<?, ?it/s]"
     ]
    },
    {
     "name": "stdout",
     "output_type": "stream",
     "text": [
      "Training until validation scores don't improve for 100 rounds\n",
      "[100]\tvalid_0's rmse: 1.06867\tvalid_1's rmse: 1.19352\n",
      "[200]\tvalid_0's rmse: 0.806443\tvalid_1's rmse: 1.06531\n",
      "[300]\tvalid_0's rmse: 0.669318\tvalid_1's rmse: 1.03437\n",
      "[400]\tvalid_0's rmse: 0.573508\tvalid_1's rmse: 1.02455\n",
      "[500]\tvalid_0's rmse: 0.49778\tvalid_1's rmse: 1.01887\n",
      "[600]\tvalid_0's rmse: 0.435906\tvalid_1's rmse: 1.0159\n",
      "[700]\tvalid_0's rmse: 0.385213\tvalid_1's rmse: 1.01396\n",
      "[800]\tvalid_0's rmse: 0.342736\tvalid_1's rmse: 1.01279\n",
      "[900]\tvalid_0's rmse: 0.30743\tvalid_1's rmse: 1.01257\n",
      "[1000]\tvalid_0's rmse: 0.277683\tvalid_1's rmse: 1.01241\n",
      "[1100]\tvalid_0's rmse: 0.252695\tvalid_1's rmse: 1.01232\n",
      "Early stopping, best iteration is:\n",
      "[1042]\tvalid_0's rmse: 0.266662\tvalid_1's rmse: 1.01212\n"
     ]
    },
    {
     "name": "stderr",
     "output_type": "stream",
     "text": [
      "num_leaves, val_score: 1.012122:   5%|5         | 1/20 [00:41<13:11, 41.65s/it]\u001b[32m[I 2021-03-08 03:35:22,503]\u001b[0m Trial 7 finished with value: 1.012122482755321 and parameters: {'num_leaves': 114}. Best is trial 7 with value: 1.012122482755321.\u001b[0m\n",
      "num_leaves, val_score: 1.012122:   5%|5         | 1/20 [00:41<13:11, 41.65s/it]"
     ]
    },
    {
     "name": "stdout",
     "output_type": "stream",
     "text": [
      "Training until validation scores don't improve for 100 rounds\n",
      "[100]\tvalid_0's rmse: 1.02848\tvalid_1's rmse: 1.18962\n",
      "[200]\tvalid_0's rmse: 0.735968\tvalid_1's rmse: 1.05994\n",
      "[300]\tvalid_0's rmse: 0.583142\tvalid_1's rmse: 1.02902\n",
      "[400]\tvalid_0's rmse: 0.479863\tvalid_1's rmse: 1.01899\n",
      "[500]\tvalid_0's rmse: 0.402813\tvalid_1's rmse: 1.01443\n",
      "[600]\tvalid_0's rmse: 0.343125\tvalid_1's rmse: 1.01268\n",
      "[700]\tvalid_0's rmse: 0.296332\tvalid_1's rmse: 1.0118\n",
      "[800]\tvalid_0's rmse: 0.259525\tvalid_1's rmse: 1.01163\n",
      "[900]\tvalid_0's rmse: 0.230356\tvalid_1's rmse: 1.01126\n",
      "[1000]\tvalid_0's rmse: 0.206821\tvalid_1's rmse: 1.01164\n",
      "Early stopping, best iteration is:\n",
      "[904]\tvalid_0's rmse: 0.229324\tvalid_1's rmse: 1.01123\n"
     ]
    },
    {
     "name": "stderr",
     "output_type": "stream",
     "text": [
      "num_leaves, val_score: 1.011233:  10%|#         | 2/20 [01:28<12:57, 43.21s/it]\u001b[32m[I 2021-03-08 03:36:09,358]\u001b[0m Trial 8 finished with value: 1.0112334721094303 and parameters: {'num_leaves': 162}. Best is trial 8 with value: 1.0112334721094303.\u001b[0m\n",
      "num_leaves, val_score: 1.011233:  10%|#         | 2/20 [01:28<12:57, 43.21s/it]"
     ]
    },
    {
     "name": "stdout",
     "output_type": "stream",
     "text": [
      "Training until validation scores don't improve for 100 rounds\n",
      "[100]\tvalid_0's rmse: 1.14756\tvalid_1's rmse: 1.21076\n",
      "[200]\tvalid_0's rmse: 0.94633\tvalid_1's rmse: 1.08671\n",
      "[300]\tvalid_0's rmse: 0.847987\tvalid_1's rmse: 1.05522\n",
      "[400]\tvalid_0's rmse: 0.777293\tvalid_1's rmse: 1.04232\n",
      "[500]\tvalid_0's rmse: 0.718066\tvalid_1's rmse: 1.03394\n",
      "[600]\tvalid_0's rmse: 0.666246\tvalid_1's rmse: 1.02839\n",
      "[700]\tvalid_0's rmse: 0.621034\tvalid_1's rmse: 1.02425\n",
      "[800]\tvalid_0's rmse: 0.580212\tvalid_1's rmse: 1.02087\n",
      "[900]\tvalid_0's rmse: 0.543855\tvalid_1's rmse: 1.01916\n",
      "[1000]\tvalid_0's rmse: 0.510471\tvalid_1's rmse: 1.0172\n",
      "[1100]\tvalid_0's rmse: 0.48035\tvalid_1's rmse: 1.01634\n",
      "[1200]\tvalid_0's rmse: 0.452993\tvalid_1's rmse: 1.01579\n",
      "[1300]\tvalid_0's rmse: 0.428074\tvalid_1's rmse: 1.01518\n",
      "[1400]\tvalid_0's rmse: 0.40488\tvalid_1's rmse: 1.01498\n",
      "[1500]\tvalid_0's rmse: 0.384076\tvalid_1's rmse: 1.01455\n",
      "[1600]\tvalid_0's rmse: 0.364876\tvalid_1's rmse: 1.01435\n",
      "Early stopping, best iteration is:\n",
      "[1534]\tvalid_0's rmse: 0.377335\tvalid_1's rmse: 1.01421\n"
     ]
    },
    {
     "name": "stderr",
     "output_type": "stream",
     "text": [
      "num_leaves, val_score: 1.011233:  15%|#5        | 3/20 [01:57<11:04, 39.08s/it]\u001b[32m[I 2021-03-08 03:36:38,803]\u001b[0m Trial 9 finished with value: 1.0142088799282418 and parameters: {'num_leaves': 51}. Best is trial 8 with value: 1.0112334721094303.\u001b[0m\n",
      "num_leaves, val_score: 1.011233:  15%|#5        | 3/20 [01:57<11:04, 39.08s/it]"
     ]
    },
    {
     "name": "stdout",
     "output_type": "stream",
     "text": [
      "Training until validation scores don't improve for 100 rounds\n",
      "[100]\tvalid_0's rmse: 0.983202\tvalid_1's rmse: 1.18553\n",
      "[200]\tvalid_0's rmse: 0.659678\tvalid_1's rmse: 1.05483\n",
      "[300]\tvalid_0's rmse: 0.493596\tvalid_1's rmse: 1.02574\n",
      "[400]\tvalid_0's rmse: 0.38905\tvalid_1's rmse: 1.01714\n",
      "[500]\tvalid_0's rmse: 0.316183\tvalid_1's rmse: 1.01386\n",
      "[600]\tvalid_0's rmse: 0.264117\tvalid_1's rmse: 1.01223\n",
      "[700]\tvalid_0's rmse: 0.226317\tvalid_1's rmse: 1.01183\n",
      "[800]\tvalid_0's rmse: 0.197933\tvalid_1's rmse: 1.01199\n",
      "Early stopping, best iteration is:\n",
      "[723]\tvalid_0's rmse: 0.218994\tvalid_1's rmse: 1.01175\n"
     ]
    },
    {
     "name": "stderr",
     "output_type": "stream",
     "text": [
      "num_leaves, val_score: 1.011233:  20%|##        | 4/20 [02:48<11:19, 42.46s/it]\u001b[32m[I 2021-03-08 03:37:29,139]\u001b[0m Trial 10 finished with value: 1.0117530382977828 and parameters: {'num_leaves': 242}. Best is trial 8 with value: 1.0112334721094303.\u001b[0m\n",
      "num_leaves, val_score: 1.011233:  20%|##        | 4/20 [02:48<11:19, 42.46s/it]"
     ]
    },
    {
     "name": "stdout",
     "output_type": "stream",
     "text": [
      "Training until validation scores don't improve for 100 rounds\n",
      "[100]\tvalid_0's rmse: 1.1135\tvalid_1's rmse: 1.20157\n",
      "[200]\tvalid_0's rmse: 0.885561\tvalid_1's rmse: 1.07609\n",
      "[300]\tvalid_0's rmse: 0.770024\tvalid_1's rmse: 1.04326\n",
      "[400]\tvalid_0's rmse: 0.68727\tvalid_1's rmse: 1.0301\n",
      "[500]\tvalid_0's rmse: 0.619033\tvalid_1's rmse: 1.02296\n",
      "[600]\tvalid_0's rmse: 0.560867\tvalid_1's rmse: 1.01861\n",
      "[700]\tvalid_0's rmse: 0.510922\tvalid_1's rmse: 1.01621\n",
      "[800]\tvalid_0's rmse: 0.46736\tvalid_1's rmse: 1.01397\n",
      "[900]\tvalid_0's rmse: 0.429233\tvalid_1's rmse: 1.01224\n",
      "[1000]\tvalid_0's rmse: 0.395679\tvalid_1's rmse: 1.01174\n",
      "[1100]\tvalid_0's rmse: 0.365966\tvalid_1's rmse: 1.01104\n",
      "[1200]\tvalid_0's rmse: 0.339729\tvalid_1's rmse: 1.01078\n",
      "[1300]\tvalid_0's rmse: 0.316401\tvalid_1's rmse: 1.01084\n",
      "Early stopping, best iteration is:\n",
      "[1201]\tvalid_0's rmse: 0.339484\tvalid_1's rmse: 1.01076\n"
     ]
    },
    {
     "name": "stderr",
     "output_type": "stream",
     "text": [
      "num_leaves, val_score: 1.010759:  25%|##5       | 5/20 [03:24<10:09, 40.64s/it]\u001b[32m[I 2021-03-08 03:38:05,548]\u001b[0m Trial 11 finished with value: 1.0107594406943063 and parameters: {'num_leaves': 74}. Best is trial 11 with value: 1.0107594406943063.\u001b[0m\n",
      "num_leaves, val_score: 1.010759:  25%|##5       | 5/20 [03:24<10:09, 40.64s/it]"
     ]
    },
    {
     "name": "stdout",
     "output_type": "stream",
     "text": [
      "Training until validation scores don't improve for 100 rounds\n",
      "[100]\tvalid_0's rmse: 1.03468\tvalid_1's rmse: 1.19047\n",
      "[200]\tvalid_0's rmse: 0.746881\tvalid_1's rmse: 1.06036\n",
      "[300]\tvalid_0's rmse: 0.595425\tvalid_1's rmse: 1.02964\n",
      "[400]\tvalid_0's rmse: 0.493395\tvalid_1's rmse: 1.02085\n",
      "[500]\tvalid_0's rmse: 0.415964\tvalid_1's rmse: 1.01638\n",
      "[600]\tvalid_0's rmse: 0.355493\tvalid_1's rmse: 1.01489\n",
      "[700]\tvalid_0's rmse: 0.308099\tvalid_1's rmse: 1.01361\n",
      "[800]\tvalid_0's rmse: 0.270215\tvalid_1's rmse: 1.01334\n",
      "[900]\tvalid_0's rmse: 0.239889\tvalid_1's rmse: 1.01319\n",
      "[1000]\tvalid_0's rmse: 0.215371\tvalid_1's rmse: 1.01301\n",
      "[1100]\tvalid_0's rmse: 0.195663\tvalid_1's rmse: 1.01295\n",
      "Early stopping, best iteration is:\n",
      "[1058]\tvalid_0's rmse: 0.203424\tvalid_1's rmse: 1.01277\n"
     ]
    },
    {
     "name": "stderr",
     "output_type": "stream",
     "text": [
      "num_leaves, val_score: 1.010759:  30%|###       | 6/20 [04:15<10:12, 43.73s/it]\u001b[32m[I 2021-03-08 03:38:56,477]\u001b[0m Trial 12 finished with value: 1.0127744282987436 and parameters: {'num_leaves': 154}. Best is trial 11 with value: 1.0107594406943063.\u001b[0m\n",
      "num_leaves, val_score: 1.010759:  30%|###       | 6/20 [04:15<10:12, 43.73s/it]"
     ]
    },
    {
     "name": "stdout",
     "output_type": "stream",
     "text": [
      "Training until validation scores don't improve for 100 rounds\n",
      "[100]\tvalid_0's rmse: 1.21429\tvalid_1's rmse: 1.2301\n",
      "[200]\tvalid_0's rmse: 1.06244\tvalid_1's rmse: 1.11481\n",
      "[300]\tvalid_0's rmse: 0.998741\tvalid_1's rmse: 1.08312\n",
      "[400]\tvalid_0's rmse: 0.954977\tvalid_1's rmse: 1.06744\n",
      "[500]\tvalid_0's rmse: 0.91792\tvalid_1's rmse: 1.05788\n",
      "[600]\tvalid_0's rmse: 0.885291\tvalid_1's rmse: 1.05134\n",
      "[700]\tvalid_0's rmse: 0.855672\tvalid_1's rmse: 1.04546\n",
      "[800]\tvalid_0's rmse: 0.828366\tvalid_1's rmse: 1.04116\n",
      "[900]\tvalid_0's rmse: 0.803188\tvalid_1's rmse: 1.03718\n",
      "[1000]\tvalid_0's rmse: 0.779242\tvalid_1's rmse: 1.0349\n",
      "[1100]\tvalid_0's rmse: 0.756477\tvalid_1's rmse: 1.03274\n",
      "[1200]\tvalid_0's rmse: 0.735362\tvalid_1's rmse: 1.03072\n",
      "[1300]\tvalid_0's rmse: 0.715626\tvalid_1's rmse: 1.02871\n",
      "[1400]\tvalid_0's rmse: 0.696758\tvalid_1's rmse: 1.02722\n",
      "[1500]\tvalid_0's rmse: 0.678781\tvalid_1's rmse: 1.02517\n",
      "[1600]\tvalid_0's rmse: 0.661616\tvalid_1's rmse: 1.02356\n",
      "[1700]\tvalid_0's rmse: 0.645472\tvalid_1's rmse: 1.02251\n",
      "[1800]\tvalid_0's rmse: 0.629825\tvalid_1's rmse: 1.02148\n",
      "[1900]\tvalid_0's rmse: 0.615023\tvalid_1's rmse: 1.02069\n",
      "[2000]\tvalid_0's rmse: 0.600774\tvalid_1's rmse: 1.01943\n",
      "[2100]\tvalid_0's rmse: 0.586908\tvalid_1's rmse: 1.01841\n",
      "[2200]\tvalid_0's rmse: 0.573879\tvalid_1's rmse: 1.01774\n",
      "[2300]\tvalid_0's rmse: 0.561171\tvalid_1's rmse: 1.01706\n",
      "[2400]\tvalid_0's rmse: 0.548813\tvalid_1's rmse: 1.01675\n",
      "[2500]\tvalid_0's rmse: 0.536921\tvalid_1's rmse: 1.0165\n",
      "[2600]\tvalid_0's rmse: 0.525439\tvalid_1's rmse: 1.01607\n",
      "[2700]\tvalid_0's rmse: 0.514454\tvalid_1's rmse: 1.01601\n"
     ]
    },
    {
     "name": "stderr",
     "output_type": "stream",
     "text": [
      "num_leaves, val_score: 1.010759:  35%|###5      | 7/20 [04:38<08:05, 37.33s/it]\u001b[32m[I 2021-03-08 03:39:18,885]\u001b[0m Trial 13 finished with value: 1.0158899533824928 and parameters: {'num_leaves': 20}. Best is trial 11 with value: 1.0107594406943063.\u001b[0m\n",
      "num_leaves, val_score: 1.010759:  35%|###5      | 7/20 [04:38<08:05, 37.33s/it]"
     ]
    },
    {
     "name": "stdout",
     "output_type": "stream",
     "text": [
      "Early stopping, best iteration is:\n",
      "[2627]\tvalid_0's rmse: 0.522402\tvalid_1's rmse: 1.01589\n",
      "Training until validation scores don't improve for 100 rounds\n",
      "[100]\tvalid_0's rmse: 1.13619\tvalid_1's rmse: 1.20778\n",
      "[200]\tvalid_0's rmse: 0.926476\tvalid_1's rmse: 1.08312\n",
      "[300]\tvalid_0's rmse: 0.822187\tvalid_1's rmse: 1.05068\n",
      "[400]\tvalid_0's rmse: 0.747475\tvalid_1's rmse: 1.03783\n",
      "[500]\tvalid_0's rmse: 0.684656\tvalid_1's rmse: 1.02989\n",
      "[600]\tvalid_0's rmse: 0.630719\tvalid_1's rmse: 1.02503\n",
      "[700]\tvalid_0's rmse: 0.583606\tvalid_1's rmse: 1.02152\n",
      "[800]\tvalid_0's rmse: 0.541812\tvalid_1's rmse: 1.01928\n",
      "[900]\tvalid_0's rmse: 0.504508\tvalid_1's rmse: 1.0175\n",
      "[1000]\tvalid_0's rmse: 0.470661\tvalid_1's rmse: 1.01581\n",
      "[1100]\tvalid_0's rmse: 0.440326\tvalid_1's rmse: 1.01508\n",
      "[1200]\tvalid_0's rmse: 0.412925\tvalid_1's rmse: 1.01464\n",
      "[1300]\tvalid_0's rmse: 0.388137\tvalid_1's rmse: 1.01382\n",
      "[1400]\tvalid_0's rmse: 0.365588\tvalid_1's rmse: 1.01365\n",
      "[1500]\tvalid_0's rmse: 0.345249\tvalid_1's rmse: 1.01351\n",
      "[1600]\tvalid_0's rmse: 0.326619\tvalid_1's rmse: 1.01363\n",
      "Early stopping, best iteration is:\n",
      "[1522]\tvalid_0's rmse: 0.341092\tvalid_1's rmse: 1.01336\n"
     ]
    },
    {
     "name": "stderr",
     "output_type": "stream",
     "text": [
      "num_leaves, val_score: 1.010759:  40%|####      | 8/20 [05:10<07:10, 35.88s/it]\u001b[32m[I 2021-03-08 03:39:51,376]\u001b[0m Trial 14 finished with value: 1.0133610411916574 and parameters: {'num_leaves': 58}. Best is trial 11 with value: 1.0107594406943063.\u001b[0m\n",
      "num_leaves, val_score: 1.010759:  40%|####      | 8/20 [05:10<07:10, 35.88s/it]"
     ]
    },
    {
     "name": "stdout",
     "output_type": "stream",
     "text": [
      "Training until validation scores don't improve for 100 rounds\n",
      "[100]\tvalid_0's rmse: 1.06943\tvalid_1's rmse: 1.19424\n",
      "[200]\tvalid_0's rmse: 0.807741\tvalid_1's rmse: 1.06631\n",
      "[300]\tvalid_0's rmse: 0.671007\tvalid_1's rmse: 1.03457\n",
      "[400]\tvalid_0's rmse: 0.575533\tvalid_1's rmse: 1.02418\n",
      "[500]\tvalid_0's rmse: 0.500048\tvalid_1's rmse: 1.01835\n",
      "[600]\tvalid_0's rmse: 0.438528\tvalid_1's rmse: 1.01459\n",
      "[700]\tvalid_0's rmse: 0.387868\tvalid_1's rmse: 1.01323\n",
      "[800]\tvalid_0's rmse: 0.34532\tvalid_1's rmse: 1.01273\n",
      "[900]\tvalid_0's rmse: 0.309686\tvalid_1's rmse: 1.01225\n",
      "[1000]\tvalid_0's rmse: 0.279813\tvalid_1's rmse: 1.0116\n",
      "[1100]\tvalid_0's rmse: 0.254707\tvalid_1's rmse: 1.01119\n",
      "[1200]\tvalid_0's rmse: 0.233522\tvalid_1's rmse: 1.0114\n",
      "Early stopping, best iteration is:\n",
      "[1119]\tvalid_0's rmse: 0.250439\tvalid_1's rmse: 1.01117\n"
     ]
    },
    {
     "name": "stderr",
     "output_type": "stream",
     "text": [
      "num_leaves, val_score: 1.010759:  45%|####5     | 9/20 [05:53<06:59, 38.12s/it]\u001b[32m[I 2021-03-08 03:40:34,714]\u001b[0m Trial 15 finished with value: 1.0111747020840922 and parameters: {'num_leaves': 113}. Best is trial 11 with value: 1.0107594406943063.\u001b[0m\n",
      "num_leaves, val_score: 1.010759:  45%|####5     | 9/20 [05:53<06:59, 38.12s/it]"
     ]
    },
    {
     "name": "stdout",
     "output_type": "stream",
     "text": [
      "Training until validation scores don't improve for 100 rounds\n",
      "[100]\tvalid_0's rmse: 1.12165\tvalid_1's rmse: 1.20286\n",
      "[200]\tvalid_0's rmse: 0.900396\tvalid_1's rmse: 1.07672\n",
      "[300]\tvalid_0's rmse: 0.78874\tvalid_1's rmse: 1.04419\n",
      "[400]\tvalid_0's rmse: 0.708559\tvalid_1's rmse: 1.03063\n",
      "[500]\tvalid_0's rmse: 0.642331\tvalid_1's rmse: 1.02314\n",
      "[600]\tvalid_0's rmse: 0.585586\tvalid_1's rmse: 1.01907\n",
      "[700]\tvalid_0's rmse: 0.536689\tvalid_1's rmse: 1.01608\n",
      "[800]\tvalid_0's rmse: 0.493508\tvalid_1's rmse: 1.01413\n",
      "[900]\tvalid_0's rmse: 0.455534\tvalid_1's rmse: 1.01312\n",
      "[1000]\tvalid_0's rmse: 0.421752\tvalid_1's rmse: 1.01242\n",
      "[1100]\tvalid_0's rmse: 0.391452\tvalid_1's rmse: 1.01133\n",
      "[1200]\tvalid_0's rmse: 0.364479\tvalid_1's rmse: 1.01102\n",
      "[1300]\tvalid_0's rmse: 0.340317\tvalid_1's rmse: 1.01035\n",
      "[1400]\tvalid_0's rmse: 0.318936\tvalid_1's rmse: 1.01015\n",
      "[1500]\tvalid_0's rmse: 0.299522\tvalid_1's rmse: 1.01\n",
      "Early stopping, best iteration is:\n",
      "[1474]\tvalid_0's rmse: 0.304333\tvalid_1's rmse: 1.00988\n"
     ]
    },
    {
     "name": "stderr",
     "output_type": "stream",
     "text": [
      "num_leaves, val_score: 1.009878:  50%|#####     | 10/20 [06:30<06:18, 37.82s/it]\u001b[32m[I 2021-03-08 03:41:11,822]\u001b[0m Trial 16 finished with value: 1.0098782891623839 and parameters: {'num_leaves': 68}. Best is trial 16 with value: 1.0098782891623839.\u001b[0m\n",
      "num_leaves, val_score: 1.009878:  50%|#####     | 10/20 [06:30<06:18, 37.82s/it]"
     ]
    },
    {
     "name": "stdout",
     "output_type": "stream",
     "text": [
      "Training until validation scores don't improve for 100 rounds\n",
      "[100]\tvalid_0's rmse: 1.00272\tvalid_1's rmse: 1.18667\n",
      "[200]\tvalid_0's rmse: 0.693132\tvalid_1's rmse: 1.05796\n",
      "[300]\tvalid_0's rmse: 0.53173\tvalid_1's rmse: 1.02764\n",
      "[400]\tvalid_0's rmse: 0.42685\tvalid_1's rmse: 1.01911\n",
      "[500]\tvalid_0's rmse: 0.351219\tvalid_1's rmse: 1.01559\n",
      "[600]\tvalid_0's rmse: 0.29501\tvalid_1's rmse: 1.01433\n",
      "[700]\tvalid_0's rmse: 0.252806\tvalid_1's rmse: 1.01348\n",
      "Early stopping, best iteration is:\n",
      "[697]\tvalid_0's rmse: 0.253883\tvalid_1's rmse: 1.01347\n"
     ]
    },
    {
     "name": "stderr",
     "output_type": "stream",
     "text": [
      "num_leaves, val_score: 1.009878:  55%|#####5    | 11/20 [07:14<05:56, 39.62s/it]\u001b[32m[I 2021-03-08 03:41:55,644]\u001b[0m Trial 17 finished with value: 1.01346606232721 and parameters: {'num_leaves': 203}. Best is trial 16 with value: 1.0098782891623839.\u001b[0m\n",
      "num_leaves, val_score: 1.009878:  55%|#####5    | 11/20 [07:14<05:56, 39.62s/it]"
     ]
    },
    {
     "name": "stdout",
     "output_type": "stream",
     "text": [
      "Training until validation scores don't improve for 100 rounds\n",
      "[100]\tvalid_0's rmse: 1.11246\tvalid_1's rmse: 1.20133\n",
      "[200]\tvalid_0's rmse: 0.8835\tvalid_1's rmse: 1.07515\n",
      "[300]\tvalid_0's rmse: 0.766412\tvalid_1's rmse: 1.0438\n",
      "[400]\tvalid_0's rmse: 0.683055\tvalid_1's rmse: 1.0305\n",
      "[500]\tvalid_0's rmse: 0.614237\tvalid_1's rmse: 1.02341\n",
      "[600]\tvalid_0's rmse: 0.556372\tvalid_1's rmse: 1.01931\n",
      "[700]\tvalid_0's rmse: 0.506529\tvalid_1's rmse: 1.01691\n",
      "[800]\tvalid_0's rmse: 0.462769\tvalid_1's rmse: 1.01486\n",
      "[900]\tvalid_0's rmse: 0.424827\tvalid_1's rmse: 1.01281\n",
      "[1000]\tvalid_0's rmse: 0.391235\tvalid_1's rmse: 1.01253\n",
      "[1100]\tvalid_0's rmse: 0.361594\tvalid_1's rmse: 1.01191\n",
      "[1200]\tvalid_0's rmse: 0.335328\tvalid_1's rmse: 1.01202\n",
      "Early stopping, best iteration is:\n",
      "[1102]\tvalid_0's rmse: 0.361063\tvalid_1's rmse: 1.01187\n"
     ]
    },
    {
     "name": "stderr",
     "output_type": "stream",
     "text": [
      "num_leaves, val_score: 1.009878:  60%|######    | 12/20 [07:45<04:55, 36.90s/it]\u001b[32m[I 2021-03-08 03:42:26,222]\u001b[0m Trial 18 finished with value: 1.0118666700846253 and parameters: {'num_leaves': 75}. Best is trial 16 with value: 1.0098782891623839.\u001b[0m\n",
      "num_leaves, val_score: 1.009878:  60%|######    | 12/20 [07:45<04:55, 36.90s/it]"
     ]
    },
    {
     "name": "stdout",
     "output_type": "stream",
     "text": [
      "Training until validation scores don't improve for 100 rounds\n",
      "[100]\tvalid_0's rmse: 1.23382\tvalid_1's rmse: 1.23973\n",
      "[200]\tvalid_0's rmse: 1.09503\tvalid_1's rmse: 1.12546\n",
      "[300]\tvalid_0's rmse: 1.04038\tvalid_1's rmse: 1.09327\n",
      "[400]\tvalid_0's rmse: 1.00433\tvalid_1's rmse: 1.07827\n",
      "[500]\tvalid_0's rmse: 0.974491\tvalid_1's rmse: 1.06877\n",
      "[600]\tvalid_0's rmse: 0.948249\tvalid_1's rmse: 1.06252\n",
      "[700]\tvalid_0's rmse: 0.92413\tvalid_1's rmse: 1.05686\n",
      "[800]\tvalid_0's rmse: 0.901994\tvalid_1's rmse: 1.05242\n",
      "[900]\tvalid_0's rmse: 0.881399\tvalid_1's rmse: 1.04906\n",
      "[1000]\tvalid_0's rmse: 0.861965\tvalid_1's rmse: 1.04576\n",
      "[1100]\tvalid_0's rmse: 0.843301\tvalid_1's rmse: 1.0434\n",
      "[1200]\tvalid_0's rmse: 0.825685\tvalid_1's rmse: 1.04061\n",
      "[1300]\tvalid_0's rmse: 0.809093\tvalid_1's rmse: 1.03844\n",
      "[1400]\tvalid_0's rmse: 0.793165\tvalid_1's rmse: 1.03644\n",
      "[1500]\tvalid_0's rmse: 0.777745\tvalid_1's rmse: 1.03438\n",
      "[1600]\tvalid_0's rmse: 0.762816\tvalid_1's rmse: 1.03315\n",
      "[1700]\tvalid_0's rmse: 0.748897\tvalid_1's rmse: 1.03156\n",
      "[1800]\tvalid_0's rmse: 0.735345\tvalid_1's rmse: 1.03007\n",
      "[1900]\tvalid_0's rmse: 0.72247\tvalid_1's rmse: 1.02881\n",
      "[2000]\tvalid_0's rmse: 0.710097\tvalid_1's rmse: 1.02767\n",
      "[2100]\tvalid_0's rmse: 0.697968\tvalid_1's rmse: 1.02682\n",
      "[2200]\tvalid_0's rmse: 0.686203\tvalid_1's rmse: 1.02599\n",
      "[2300]\tvalid_0's rmse: 0.674979\tvalid_1's rmse: 1.02548\n",
      "[2400]\tvalid_0's rmse: 0.663812\tvalid_1's rmse: 1.02473\n",
      "[2500]\tvalid_0's rmse: 0.653254\tvalid_1's rmse: 1.02384\n",
      "[2600]\tvalid_0's rmse: 0.642886\tvalid_1's rmse: 1.02321\n",
      "[2700]\tvalid_0's rmse: 0.632768\tvalid_1's rmse: 1.02299\n",
      "[2800]\tvalid_0's rmse: 0.62309\tvalid_1's rmse: 1.02271\n",
      "[2900]\tvalid_0's rmse: 0.613548\tvalid_1's rmse: 1.02224\n",
      "[3000]\tvalid_0's rmse: 0.604052\tvalid_1's rmse: 1.02162\n",
      "[3100]\tvalid_0's rmse: 0.595049\tvalid_1's rmse: 1.02129\n",
      "[3200]\tvalid_0's rmse: 0.586348\tvalid_1's rmse: 1.02105\n",
      "[3300]\tvalid_0's rmse: 0.577666\tvalid_1's rmse: 1.02072\n",
      "[3400]\tvalid_0's rmse: 0.569208\tvalid_1's rmse: 1.02031\n",
      "[3500]\tvalid_0's rmse: 0.560798\tvalid_1's rmse: 1.02006\n",
      "[3600]\tvalid_0's rmse: 0.552819\tvalid_1's rmse: 1.01966\n",
      "[3700]\tvalid_0's rmse: 0.545043\tvalid_1's rmse: 1.01944\n",
      "[3800]\tvalid_0's rmse: 0.537119\tvalid_1's rmse: 1.01927\n",
      "[3900]\tvalid_0's rmse: 0.529818\tvalid_1's rmse: 1.01923\n",
      "Early stopping, best iteration is:\n",
      "[3840]\tvalid_0's rmse: 0.53419\tvalid_1's rmse: 1.01909\n"
     ]
    },
    {
     "name": "stderr",
     "output_type": "stream",
     "text": [
      "num_leaves, val_score: 1.009878:  65%|######5   | 13/20 [08:09<03:52, 33.16s/it]\u001b[32m[I 2021-03-08 03:42:50,653]\u001b[0m Trial 19 finished with value: 1.0190891960806001 and parameters: {'num_leaves': 14}. Best is trial 16 with value: 1.0098782891623839.\u001b[0m\n",
      "num_leaves, val_score: 1.009878:  65%|######5   | 13/20 [08:09<03:52, 33.16s/it]"
     ]
    },
    {
     "name": "stdout",
     "output_type": "stream",
     "text": [
      "Training until validation scores don't improve for 100 rounds\n",
      "[100]\tvalid_0's rmse: 1.0942\tvalid_1's rmse: 1.19883\n",
      "[200]\tvalid_0's rmse: 0.85133\tvalid_1's rmse: 1.07118\n",
      "[300]\tvalid_0's rmse: 0.72531\tvalid_1's rmse: 1.03964\n",
      "[400]\tvalid_0's rmse: 0.636256\tvalid_1's rmse: 1.02669\n",
      "[500]\tvalid_0's rmse: 0.563934\tvalid_1's rmse: 1.02063\n",
      "[600]\tvalid_0's rmse: 0.503725\tvalid_1's rmse: 1.01722\n",
      "[700]\tvalid_0's rmse: 0.452828\tvalid_1's rmse: 1.01436\n",
      "[800]\tvalid_0's rmse: 0.409159\tvalid_1's rmse: 1.01283\n",
      "[900]\tvalid_0's rmse: 0.371605\tvalid_1's rmse: 1.01192\n",
      "[1000]\tvalid_0's rmse: 0.339137\tvalid_1's rmse: 1.01163\n",
      "[1100]\tvalid_0's rmse: 0.310624\tvalid_1's rmse: 1.01109\n",
      "[1200]\tvalid_0's rmse: 0.286257\tvalid_1's rmse: 1.011\n",
      "[1300]\tvalid_0's rmse: 0.265226\tvalid_1's rmse: 1.0109\n",
      "[1400]\tvalid_0's rmse: 0.246732\tvalid_1's rmse: 1.01073\n",
      "Early stopping, best iteration is:\n",
      "[1366]\tvalid_0's rmse: 0.252794\tvalid_1's rmse: 1.01069\n"
     ]
    },
    {
     "name": "stderr",
     "output_type": "stream",
     "text": [
      "num_leaves, val_score: 1.009878:  70%|#######   | 14/20 [08:52<03:36, 36.08s/it]\u001b[32m[I 2021-03-08 03:43:33,537]\u001b[0m Trial 20 finished with value: 1.010690803144606 and parameters: {'num_leaves': 90}. Best is trial 16 with value: 1.0098782891623839.\u001b[0m\n",
      "num_leaves, val_score: 1.009878:  70%|#######   | 14/20 [08:52<03:36, 36.08s/it]"
     ]
    },
    {
     "name": "stdout",
     "output_type": "stream",
     "text": [
      "Training until validation scores don't improve for 100 rounds\n",
      "[100]\tvalid_0's rmse: 1.08279\tvalid_1's rmse: 1.19547\n",
      "[200]\tvalid_0's rmse: 0.831468\tvalid_1's rmse: 1.06854\n",
      "[300]\tvalid_0's rmse: 0.700728\tvalid_1's rmse: 1.0376\n",
      "[400]\tvalid_0's rmse: 0.608797\tvalid_1's rmse: 1.0258\n",
      "[500]\tvalid_0's rmse: 0.534775\tvalid_1's rmse: 1.01983\n",
      "[600]\tvalid_0's rmse: 0.473527\tvalid_1's rmse: 1.0176\n",
      "[700]\tvalid_0's rmse: 0.422613\tvalid_1's rmse: 1.0161\n",
      "[800]\tvalid_0's rmse: 0.379348\tvalid_1's rmse: 1.01467\n",
      "[900]\tvalid_0's rmse: 0.342491\tvalid_1's rmse: 1.01433\n",
      "[1000]\tvalid_0's rmse: 0.311116\tvalid_1's rmse: 1.01407\n",
      "[1100]\tvalid_0's rmse: 0.284009\tvalid_1's rmse: 1.01391\n",
      "[1200]\tvalid_0's rmse: 0.260998\tvalid_1's rmse: 1.01382\n",
      "Early stopping, best iteration is:\n",
      "[1128]\tvalid_0's rmse: 0.277353\tvalid_1's rmse: 1.01369\n"
     ]
    },
    {
     "name": "stderr",
     "output_type": "stream",
     "text": [
      "num_leaves, val_score: 1.009878:  75%|#######5  | 15/20 [09:32<03:05, 37.10s/it]\u001b[32m[I 2021-03-08 03:44:13,032]\u001b[0m Trial 21 finished with value: 1.013690687035134 and parameters: {'num_leaves': 100}. Best is trial 16 with value: 1.0098782891623839.\u001b[0m\n",
      "num_leaves, val_score: 1.009878:  75%|#######5  | 15/20 [09:32<03:05, 37.10s/it]"
     ]
    },
    {
     "name": "stdout",
     "output_type": "stream",
     "text": [
      "Training until validation scores don't improve for 100 rounds\n",
      "[100]\tvalid_0's rmse: 1.04514\tvalid_1's rmse: 1.18913\n",
      "[200]\tvalid_0's rmse: 0.76567\tvalid_1's rmse: 1.06097\n",
      "[300]\tvalid_0's rmse: 0.618414\tvalid_1's rmse: 1.03059\n",
      "[400]\tvalid_0's rmse: 0.517992\tvalid_1's rmse: 1.02142\n",
      "[500]\tvalid_0's rmse: 0.440803\tvalid_1's rmse: 1.01672\n",
      "[600]\tvalid_0's rmse: 0.379637\tvalid_1's rmse: 1.01416\n",
      "[700]\tvalid_0's rmse: 0.330626\tvalid_1's rmse: 1.01312\n",
      "[800]\tvalid_0's rmse: 0.291195\tvalid_1's rmse: 1.01274\n",
      "[900]\tvalid_0's rmse: 0.259154\tvalid_1's rmse: 1.01275\n",
      "Early stopping, best iteration is:\n",
      "[829]\tvalid_0's rmse: 0.28112\tvalid_1's rmse: 1.01263\n"
     ]
    },
    {
     "name": "stderr",
     "output_type": "stream",
     "text": [
      "num_leaves, val_score: 1.009878:  80%|########  | 16/20 [10:10<02:30, 37.56s/it]\u001b[32m[I 2021-03-08 03:44:51,661]\u001b[0m Trial 22 finished with value: 1.01263336719824 and parameters: {'num_leaves': 140}. Best is trial 16 with value: 1.0098782891623839.\u001b[0m\n",
      "num_leaves, val_score: 1.009878:  80%|########  | 16/20 [10:10<02:30, 37.56s/it]"
     ]
    },
    {
     "name": "stdout",
     "output_type": "stream",
     "text": [
      "Training until validation scores don't improve for 100 rounds\n",
      "[100]\tvalid_0's rmse: 1.21131\tvalid_1's rmse: 1.22951\n",
      "[200]\tvalid_0's rmse: 1.05733\tvalid_1's rmse: 1.11458\n",
      "[300]\tvalid_0's rmse: 0.991903\tvalid_1's rmse: 1.08229\n",
      "[400]\tvalid_0's rmse: 0.946839\tvalid_1's rmse: 1.06734\n",
      "[500]\tvalid_0's rmse: 0.908708\tvalid_1's rmse: 1.0577\n",
      "[600]\tvalid_0's rmse: 0.874982\tvalid_1's rmse: 1.05172\n",
      "[700]\tvalid_0's rmse: 0.844653\tvalid_1's rmse: 1.04587\n",
      "[800]\tvalid_0's rmse: 0.816369\tvalid_1's rmse: 1.04228\n",
      "[900]\tvalid_0's rmse: 0.790581\tvalid_1's rmse: 1.03879\n",
      "[1000]\tvalid_0's rmse: 0.76584\tvalid_1's rmse: 1.03568\n",
      "[1100]\tvalid_0's rmse: 0.742816\tvalid_1's rmse: 1.0334\n",
      "[1200]\tvalid_0's rmse: 0.721289\tvalid_1's rmse: 1.03161\n",
      "[1300]\tvalid_0's rmse: 0.700949\tvalid_1's rmse: 1.03001\n",
      "[1400]\tvalid_0's rmse: 0.681901\tvalid_1's rmse: 1.0287\n",
      "[1500]\tvalid_0's rmse: 0.663547\tvalid_1's rmse: 1.02708\n",
      "[1600]\tvalid_0's rmse: 0.646039\tvalid_1's rmse: 1.02559\n",
      "[1700]\tvalid_0's rmse: 0.629588\tvalid_1's rmse: 1.02442\n",
      "[1800]\tvalid_0's rmse: 0.613773\tvalid_1's rmse: 1.02319\n",
      "[1900]\tvalid_0's rmse: 0.598632\tvalid_1's rmse: 1.02194\n",
      "[2000]\tvalid_0's rmse: 0.584096\tvalid_1's rmse: 1.0208\n",
      "[2100]\tvalid_0's rmse: 0.570237\tvalid_1's rmse: 1.01967\n",
      "[2200]\tvalid_0's rmse: 0.557132\tvalid_1's rmse: 1.01867\n",
      "[2300]\tvalid_0's rmse: 0.544222\tvalid_1's rmse: 1.01827\n",
      "[2400]\tvalid_0's rmse: 0.531768\tvalid_1's rmse: 1.01759\n",
      "[2500]\tvalid_0's rmse: 0.51995\tvalid_1's rmse: 1.01667\n",
      "[2600]\tvalid_0's rmse: 0.508606\tvalid_1's rmse: 1.01632\n"
     ]
    },
    {
     "name": "stderr",
     "output_type": "stream",
     "text": [
      "num_leaves, val_score: 1.009878:  85%|########5 | 17/20 [10:34<01:39, 33.29s/it]\u001b[32m[I 2021-03-08 03:45:14,997]\u001b[0m Trial 23 finished with value: 1.0161993183092335 and parameters: {'num_leaves': 21}. Best is trial 16 with value: 1.0098782891623839.\u001b[0m\n",
      "num_leaves, val_score: 1.009878:  85%|########5 | 17/20 [10:34<01:39, 33.29s/it]"
     ]
    },
    {
     "name": "stdout",
     "output_type": "stream",
     "text": [
      "Early stopping, best iteration is:\n",
      "[2569]\tvalid_0's rmse: 0.512047\tvalid_1's rmse: 1.0162\n",
      "Training until validation scores don't improve for 100 rounds\n",
      "[100]\tvalid_0's rmse: 1.0942\tvalid_1's rmse: 1.19883\n",
      "[200]\tvalid_0's rmse: 0.85133\tvalid_1's rmse: 1.07118\n",
      "[300]\tvalid_0's rmse: 0.72531\tvalid_1's rmse: 1.03964\n",
      "[400]\tvalid_0's rmse: 0.636256\tvalid_1's rmse: 1.02669\n",
      "[500]\tvalid_0's rmse: 0.563934\tvalid_1's rmse: 1.02063\n",
      "[600]\tvalid_0's rmse: 0.503725\tvalid_1's rmse: 1.01722\n",
      "[700]\tvalid_0's rmse: 0.452828\tvalid_1's rmse: 1.01436\n",
      "[800]\tvalid_0's rmse: 0.409159\tvalid_1's rmse: 1.01283\n",
      "[900]\tvalid_0's rmse: 0.371605\tvalid_1's rmse: 1.01192\n",
      "[1000]\tvalid_0's rmse: 0.339137\tvalid_1's rmse: 1.01163\n",
      "[1100]\tvalid_0's rmse: 0.310624\tvalid_1's rmse: 1.01109\n",
      "[1200]\tvalid_0's rmse: 0.286257\tvalid_1's rmse: 1.011\n",
      "[1300]\tvalid_0's rmse: 0.265226\tvalid_1's rmse: 1.0109\n",
      "[1400]\tvalid_0's rmse: 0.246732\tvalid_1's rmse: 1.01073\n",
      "Early stopping, best iteration is:\n",
      "[1366]\tvalid_0's rmse: 0.252794\tvalid_1's rmse: 1.01069\n"
     ]
    },
    {
     "name": "stderr",
     "output_type": "stream",
     "text": [
      "num_leaves, val_score: 1.009878:  90%|######### | 18/20 [11:18<01:12, 36.48s/it]\u001b[32m[I 2021-03-08 03:45:58,907]\u001b[0m Trial 24 finished with value: 1.010690803144606 and parameters: {'num_leaves': 90}. Best is trial 16 with value: 1.0098782891623839.\u001b[0m\n",
      "num_leaves, val_score: 1.009878:  90%|######### | 18/20 [11:18<01:12, 36.48s/it]"
     ]
    },
    {
     "name": "stdout",
     "output_type": "stream",
     "text": [
      "Training until validation scores don't improve for 100 rounds\n",
      "[100]\tvalid_0's rmse: 1.01278\tvalid_1's rmse: 1.18855\n",
      "[200]\tvalid_0's rmse: 0.709247\tvalid_1's rmse: 1.05948\n",
      "[300]\tvalid_0's rmse: 0.551009\tvalid_1's rmse: 1.02922\n",
      "[400]\tvalid_0's rmse: 0.446557\tvalid_1's rmse: 1.01997\n",
      "[500]\tvalid_0's rmse: 0.370057\tvalid_1's rmse: 1.01605\n",
      "[600]\tvalid_0's rmse: 0.312136\tvalid_1's rmse: 1.01429\n",
      "[700]\tvalid_0's rmse: 0.268173\tvalid_1's rmse: 1.01414\n",
      "[800]\tvalid_0's rmse: 0.234116\tvalid_1's rmse: 1.01377\n",
      "Early stopping, best iteration is:\n",
      "[799]\tvalid_0's rmse: 0.234429\tvalid_1's rmse: 1.01372\n"
     ]
    },
    {
     "name": "stderr",
     "output_type": "stream",
     "text": [
      "num_leaves, val_score: 1.009878:  95%|#########5| 19/20 [12:03<00:39, 39.09s/it]\u001b[32m[I 2021-03-08 03:46:44,089]\u001b[0m Trial 25 finished with value: 1.0137249205268086 and parameters: {'num_leaves': 186}. Best is trial 16 with value: 1.0098782891623839.\u001b[0m\n",
      "num_leaves, val_score: 1.009878:  95%|#########5| 19/20 [12:03<00:39, 39.09s/it]"
     ]
    },
    {
     "name": "stdout",
     "output_type": "stream",
     "text": [
      "Training until validation scores don't improve for 100 rounds\n",
      "[100]\tvalid_0's rmse: 1.16017\tvalid_1's rmse: 1.21358\n",
      "[200]\tvalid_0's rmse: 0.968637\tvalid_1's rmse: 1.09118\n",
      "[300]\tvalid_0's rmse: 0.876532\tvalid_1's rmse: 1.05898\n",
      "[400]\tvalid_0's rmse: 0.810675\tvalid_1's rmse: 1.04451\n",
      "[500]\tvalid_0's rmse: 0.754874\tvalid_1's rmse: 1.03565\n",
      "[600]\tvalid_0's rmse: 0.706062\tvalid_1's rmse: 1.0305\n",
      "[700]\tvalid_0's rmse: 0.663077\tvalid_1's rmse: 1.02622\n",
      "[800]\tvalid_0's rmse: 0.624278\tvalid_1's rmse: 1.02344\n",
      "[900]\tvalid_0's rmse: 0.589248\tvalid_1's rmse: 1.02074\n",
      "[1000]\tvalid_0's rmse: 0.556873\tvalid_1's rmse: 1.01876\n",
      "[1100]\tvalid_0's rmse: 0.527314\tvalid_1's rmse: 1.01691\n",
      "[1200]\tvalid_0's rmse: 0.500218\tvalid_1's rmse: 1.01604\n",
      "[1300]\tvalid_0's rmse: 0.475285\tvalid_1's rmse: 1.01506\n",
      "[1400]\tvalid_0's rmse: 0.452266\tvalid_1's rmse: 1.01419\n",
      "[1500]\tvalid_0's rmse: 0.430855\tvalid_1's rmse: 1.0134\n",
      "[1600]\tvalid_0's rmse: 0.411001\tvalid_1's rmse: 1.01274\n",
      "[1700]\tvalid_0's rmse: 0.392869\tvalid_1's rmse: 1.01264\n",
      "[1800]\tvalid_0's rmse: 0.37588\tvalid_1's rmse: 1.01264\n",
      "Early stopping, best iteration is:\n",
      "[1725]\tvalid_0's rmse: 0.388474\tvalid_1's rmse: 1.0125\n"
     ]
    },
    {
     "name": "stderr",
     "output_type": "stream",
     "text": [
      "num_leaves, val_score: 1.009878: 100%|##########| 20/20 [12:33<00:00, 36.40s/it]\u001b[32m[I 2021-03-08 03:47:14,199]\u001b[0m Trial 26 finished with value: 1.0125027730609188 and parameters: {'num_leaves': 44}. Best is trial 16 with value: 1.0098782891623839.\u001b[0m\n",
      "num_leaves, val_score: 1.009878: 100%|##########| 20/20 [12:33<00:00, 37.67s/it]\n",
      "bagging, val_score: 1.009878:   0%|          | 0/10 [00:00<?, ?it/s]"
     ]
    },
    {
     "name": "stdout",
     "output_type": "stream",
     "text": [
      "Training until validation scores don't improve for 100 rounds\n",
      "[100]\tvalid_0's rmse: 1.13559\tvalid_1's rmse: 1.21708\n",
      "[200]\tvalid_0's rmse: 0.920291\tvalid_1's rmse: 1.09055\n",
      "[300]\tvalid_0's rmse: 0.808983\tvalid_1's rmse: 1.0548\n",
      "[400]\tvalid_0's rmse: 0.730063\tvalid_1's rmse: 1.04041\n",
      "[500]\tvalid_0's rmse: 0.6653\tvalid_1's rmse: 1.03424\n",
      "[600]\tvalid_0's rmse: 0.608745\tvalid_1's rmse: 1.02882\n",
      "[700]\tvalid_0's rmse: 0.559439\tvalid_1's rmse: 1.02495\n",
      "[800]\tvalid_0's rmse: 0.516568\tvalid_1's rmse: 1.02374\n",
      "[900]\tvalid_0's rmse: 0.477989\tvalid_1's rmse: 1.02192\n",
      "[1000]\tvalid_0's rmse: 0.443886\tvalid_1's rmse: 1.02131\n",
      "Early stopping, best iteration is:\n",
      "[953]\tvalid_0's rmse: 0.459517\tvalid_1's rmse: 1.02089\n"
     ]
    },
    {
     "name": "stderr",
     "output_type": "stream",
     "text": [
      "bagging, val_score: 1.009878:  10%|#         | 1/10 [00:23<03:28, 23.15s/it]\u001b[32m[I 2021-03-08 03:47:37,369]\u001b[0m Trial 27 finished with value: 1.020886852926868 and parameters: {'bagging_fraction': 0.4618395646504153, 'bagging_freq': 7}. Best is trial 27 with value: 1.020886852926868.\u001b[0m\n",
      "bagging, val_score: 1.009878:  10%|#         | 1/10 [00:23<03:28, 23.15s/it]"
     ]
    },
    {
     "name": "stdout",
     "output_type": "stream",
     "text": [
      "Training until validation scores don't improve for 100 rounds\n",
      "[100]\tvalid_0's rmse: 1.11562\tvalid_1's rmse: 1.20212\n",
      "[200]\tvalid_0's rmse: 0.893559\tvalid_1's rmse: 1.07689\n",
      "[300]\tvalid_0's rmse: 0.781097\tvalid_1's rmse: 1.04558\n",
      "[400]\tvalid_0's rmse: 0.699813\tvalid_1's rmse: 1.03275\n",
      "[500]\tvalid_0's rmse: 0.632189\tvalid_1's rmse: 1.02548\n",
      "[600]\tvalid_0's rmse: 0.574821\tvalid_1's rmse: 1.02163\n",
      "[700]\tvalid_0's rmse: 0.525305\tvalid_1's rmse: 1.01871\n",
      "[800]\tvalid_0's rmse: 0.482305\tvalid_1's rmse: 1.01684\n",
      "[900]\tvalid_0's rmse: 0.445007\tvalid_1's rmse: 1.01557\n",
      "[1000]\tvalid_0's rmse: 0.412223\tvalid_1's rmse: 1.01442\n",
      "[1100]\tvalid_0's rmse: 0.383287\tvalid_1's rmse: 1.01363\n",
      "[1200]\tvalid_0's rmse: 0.357311\tvalid_1's rmse: 1.0132\n",
      "[1300]\tvalid_0's rmse: 0.334422\tvalid_1's rmse: 1.01287\n",
      "[1400]\tvalid_0's rmse: 0.313756\tvalid_1's rmse: 1.0129\n",
      "Early stopping, best iteration is:\n",
      "[1314]\tvalid_0's rmse: 0.331511\tvalid_1's rmse: 1.01281\n"
     ]
    },
    {
     "name": "stderr",
     "output_type": "stream",
     "text": [
      "bagging, val_score: 1.009878:  20%|##        | 2/10 [00:57<03:33, 26.66s/it]\u001b[32m[I 2021-03-08 03:48:12,210]\u001b[0m Trial 28 finished with value: 1.0128117319255165 and parameters: {'bagging_fraction': 0.9969091840263477, 'bagging_freq': 6}. Best is trial 28 with value: 1.0128117319255165.\u001b[0m\n",
      "bagging, val_score: 1.009878:  20%|##        | 2/10 [00:57<03:33, 26.66s/it]"
     ]
    },
    {
     "name": "stdout",
     "output_type": "stream",
     "text": [
      "Training until validation scores don't improve for 100 rounds\n",
      "[100]\tvalid_0's rmse: 1.13348\tvalid_1's rmse: 1.21282\n",
      "[200]\tvalid_0's rmse: 0.914927\tvalid_1's rmse: 1.08418\n",
      "[300]\tvalid_0's rmse: 0.804493\tvalid_1's rmse: 1.04935\n",
      "[400]\tvalid_0's rmse: 0.724858\tvalid_1's rmse: 1.03606\n",
      "[500]\tvalid_0's rmse: 0.659931\tvalid_1's rmse: 1.02765\n",
      "[600]\tvalid_0's rmse: 0.60412\tvalid_1's rmse: 1.02358\n",
      "[700]\tvalid_0's rmse: 0.555436\tvalid_1's rmse: 1.02069\n",
      "[800]\tvalid_0's rmse: 0.512247\tvalid_1's rmse: 1.01889\n",
      "[900]\tvalid_0's rmse: 0.473717\tvalid_1's rmse: 1.01743\n",
      "[1000]\tvalid_0's rmse: 0.439169\tvalid_1's rmse: 1.01634\n",
      "[1100]\tvalid_0's rmse: 0.408668\tvalid_1's rmse: 1.01513\n",
      "[1200]\tvalid_0's rmse: 0.381604\tvalid_1's rmse: 1.01477\n",
      "[1300]\tvalid_0's rmse: 0.357106\tvalid_1's rmse: 1.0141\n",
      "[1400]\tvalid_0's rmse: 0.334921\tvalid_1's rmse: 1.01386\n",
      "[1500]\tvalid_0's rmse: 0.31486\tvalid_1's rmse: 1.01394\n",
      "Early stopping, best iteration is:\n",
      "[1411]\tvalid_0's rmse: 0.332667\tvalid_1's rmse: 1.01369\n"
     ]
    },
    {
     "name": "stderr",
     "output_type": "stream",
     "text": [
      "bagging, val_score: 1.009878:  30%|###       | 3/10 [01:30<03:18, 28.39s/it]\u001b[32m[I 2021-03-08 03:48:44,662]\u001b[0m Trial 29 finished with value: 1.013689066538165 and parameters: {'bagging_fraction': 0.4822518186377677, 'bagging_freq': 4}. Best is trial 28 with value: 1.0128117319255165.\u001b[0m\n",
      "bagging, val_score: 1.009878:  30%|###       | 3/10 [01:30<03:18, 28.39s/it]"
     ]
    },
    {
     "name": "stdout",
     "output_type": "stream",
     "text": [
      "Training until validation scores don't improve for 100 rounds\n",
      "[100]\tvalid_0's rmse: 1.12793\tvalid_1's rmse: 1.20841\n",
      "[200]\tvalid_0's rmse: 0.908035\tvalid_1's rmse: 1.08026\n",
      "[300]\tvalid_0's rmse: 0.797103\tvalid_1's rmse: 1.04836\n",
      "[400]\tvalid_0's rmse: 0.717607\tvalid_1's rmse: 1.03544\n",
      "[500]\tvalid_0's rmse: 0.652401\tvalid_1's rmse: 1.02834\n",
      "[600]\tvalid_0's rmse: 0.596326\tvalid_1's rmse: 1.02441\n",
      "[700]\tvalid_0's rmse: 0.547457\tvalid_1's rmse: 1.02166\n",
      "[800]\tvalid_0's rmse: 0.504272\tvalid_1's rmse: 1.01908\n",
      "[900]\tvalid_0's rmse: 0.465947\tvalid_1's rmse: 1.01832\n",
      "[1000]\tvalid_0's rmse: 0.431939\tvalid_1's rmse: 1.01701\n",
      "[1100]\tvalid_0's rmse: 0.401609\tvalid_1's rmse: 1.01597\n",
      "[1200]\tvalid_0's rmse: 0.374335\tvalid_1's rmse: 1.01559\n",
      "Early stopping, best iteration is:\n",
      "[1183]\tvalid_0's rmse: 0.378839\tvalid_1's rmse: 1.01548\n"
     ]
    },
    {
     "name": "stderr",
     "output_type": "stream",
     "text": [
      "bagging, val_score: 1.009878:  40%|####      | 4/10 [01:59<02:50, 28.49s/it]\u001b[32m[I 2021-03-08 03:49:13,371]\u001b[0m Trial 30 finished with value: 1.015475717872389 and parameters: {'bagging_fraction': 0.5572288950097121, 'bagging_freq': 4}. Best is trial 28 with value: 1.0128117319255165.\u001b[0m\n",
      "bagging, val_score: 1.009878:  40%|####      | 4/10 [01:59<02:50, 28.49s/it]"
     ]
    },
    {
     "name": "stdout",
     "output_type": "stream",
     "text": [
      "Training until validation scores don't improve for 100 rounds\n",
      "[100]\tvalid_0's rmse: 1.11824\tvalid_1's rmse: 1.2015\n",
      "[200]\tvalid_0's rmse: 0.89748\tvalid_1's rmse: 1.07597\n",
      "[300]\tvalid_0's rmse: 0.785123\tvalid_1's rmse: 1.04312\n",
      "[400]\tvalid_0's rmse: 0.704891\tvalid_1's rmse: 1.02981\n",
      "[500]\tvalid_0's rmse: 0.638793\tvalid_1's rmse: 1.02351\n",
      "[600]\tvalid_0's rmse: 0.581857\tvalid_1's rmse: 1.01866\n",
      "[700]\tvalid_0's rmse: 0.532957\tvalid_1's rmse: 1.01599\n",
      "[800]\tvalid_0's rmse: 0.490027\tvalid_1's rmse: 1.01375\n",
      "[900]\tvalid_0's rmse: 0.451614\tvalid_1's rmse: 1.0123\n",
      "[1000]\tvalid_0's rmse: 0.418023\tvalid_1's rmse: 1.01148\n",
      "[1100]\tvalid_0's rmse: 0.388265\tvalid_1's rmse: 1.01085\n",
      "[1200]\tvalid_0's rmse: 0.361662\tvalid_1's rmse: 1.01037\n",
      "[1300]\tvalid_0's rmse: 0.33777\tvalid_1's rmse: 1.01\n",
      "[1400]\tvalid_0's rmse: 0.316424\tvalid_1's rmse: 1.00943\n",
      "Early stopping, best iteration is:\n",
      "[1395]\tvalid_0's rmse: 0.317455\tvalid_1's rmse: 1.00935\n"
     ]
    },
    {
     "name": "stderr",
     "output_type": "stream",
     "text": [
      "bagging, val_score: 1.009354:  50%|#####     | 5/10 [02:34<02:32, 30.48s/it]\u001b[32m[I 2021-03-08 03:49:48,509]\u001b[0m Trial 31 finished with value: 1.0093543120531847 and parameters: {'bagging_fraction': 0.8002157820233772, 'bagging_freq': 6}. Best is trial 31 with value: 1.0093543120531847.\u001b[0m\n",
      "bagging, val_score: 1.009354:  50%|#####     | 5/10 [02:34<02:32, 30.48s/it]"
     ]
    },
    {
     "name": "stdout",
     "output_type": "stream",
     "text": [
      "Training until validation scores don't improve for 100 rounds\n",
      "[100]\tvalid_0's rmse: 1.13923\tvalid_1's rmse: 1.21476\n",
      "[200]\tvalid_0's rmse: 0.922221\tvalid_1's rmse: 1.08626\n",
      "[300]\tvalid_0's rmse: 0.812664\tvalid_1's rmse: 1.05177\n",
      "[400]\tvalid_0's rmse: 0.733616\tvalid_1's rmse: 1.03657\n",
      "[500]\tvalid_0's rmse: 0.66833\tvalid_1's rmse: 1.02938\n",
      "[600]\tvalid_0's rmse: 0.612105\tvalid_1's rmse: 1.02443\n",
      "[700]\tvalid_0's rmse: 0.56364\tvalid_1's rmse: 1.02088\n",
      "[800]\tvalid_0's rmse: 0.520767\tvalid_1's rmse: 1.01904\n",
      "[900]\tvalid_0's rmse: 0.482159\tvalid_1's rmse: 1.01802\n",
      "[1000]\tvalid_0's rmse: 0.447881\tvalid_1's rmse: 1.01763\n",
      "[1100]\tvalid_0's rmse: 0.417408\tvalid_1's rmse: 1.01614\n",
      "[1200]\tvalid_0's rmse: 0.389988\tvalid_1's rmse: 1.01573\n",
      "[1300]\tvalid_0's rmse: 0.365092\tvalid_1's rmse: 1.0154\n",
      "Early stopping, best iteration is:\n",
      "[1221]\tvalid_0's rmse: 0.384488\tvalid_1's rmse: 1.0152\n"
     ]
    },
    {
     "name": "stderr",
     "output_type": "stream",
     "text": [
      "bagging, val_score: 1.009354:  60%|######    | 6/10 [03:02<01:59, 29.76s/it]\u001b[32m[I 2021-03-08 03:50:16,584]\u001b[0m Trial 32 finished with value: 1.0151964775934172 and parameters: {'bagging_fraction': 0.4228612248735749, 'bagging_freq': 4}. Best is trial 31 with value: 1.0093543120531847.\u001b[0m\n",
      "bagging, val_score: 1.009354:  60%|######    | 6/10 [03:02<01:59, 29.76s/it]"
     ]
    },
    {
     "name": "stdout",
     "output_type": "stream",
     "text": [
      "Training until validation scores don't improve for 100 rounds\n",
      "[100]\tvalid_0's rmse: 1.12942\tvalid_1's rmse: 1.212\n",
      "[200]\tvalid_0's rmse: 0.911144\tvalid_1's rmse: 1.08449\n",
      "[300]\tvalid_0's rmse: 0.799202\tvalid_1's rmse: 1.05035\n",
      "[400]\tvalid_0's rmse: 0.719835\tvalid_1's rmse: 1.03585\n",
      "[500]\tvalid_0's rmse: 0.654471\tvalid_1's rmse: 1.02795\n",
      "[600]\tvalid_0's rmse: 0.597893\tvalid_1's rmse: 1.024\n",
      "[700]\tvalid_0's rmse: 0.54941\tvalid_1's rmse: 1.02086\n",
      "[800]\tvalid_0's rmse: 0.506354\tvalid_1's rmse: 1.01927\n",
      "[900]\tvalid_0's rmse: 0.468013\tvalid_1's rmse: 1.01775\n",
      "[1000]\tvalid_0's rmse: 0.434213\tvalid_1's rmse: 1.01677\n",
      "[1100]\tvalid_0's rmse: 0.40347\tvalid_1's rmse: 1.01632\n",
      "[1200]\tvalid_0's rmse: 0.376474\tvalid_1's rmse: 1.01585\n",
      "[1300]\tvalid_0's rmse: 0.351844\tvalid_1's rmse: 1.01582\n",
      "[1400]\tvalid_0's rmse: 0.329689\tvalid_1's rmse: 1.01557\n",
      "Early stopping, best iteration is:\n",
      "[1386]\tvalid_0's rmse: 0.332601\tvalid_1's rmse: 1.01543\n"
     ]
    },
    {
     "name": "stderr",
     "output_type": "stream",
     "text": [
      "bagging, val_score: 1.009354:  70%|#######   | 7/10 [03:35<01:32, 30.75s/it]\u001b[32m[I 2021-03-08 03:50:49,628]\u001b[0m Trial 33 finished with value: 1.0154314980480024 and parameters: {'bagging_fraction': 0.5492862718933931, 'bagging_freq': 6}. Best is trial 31 with value: 1.0093543120531847.\u001b[0m\n",
      "bagging, val_score: 1.009354:  70%|#######   | 7/10 [03:35<01:32, 30.75s/it]"
     ]
    },
    {
     "name": "stdout",
     "output_type": "stream",
     "text": [
      "Training until validation scores don't improve for 100 rounds\n",
      "[100]\tvalid_0's rmse: 1.11524\tvalid_1's rmse: 1.19994\n",
      "[200]\tvalid_0's rmse: 0.893263\tvalid_1's rmse: 1.07477\n",
      "[300]\tvalid_0's rmse: 0.780732\tvalid_1's rmse: 1.04479\n",
      "[400]\tvalid_0's rmse: 0.699298\tvalid_1's rmse: 1.03267\n",
      "[500]\tvalid_0's rmse: 0.63185\tvalid_1's rmse: 1.02578\n",
      "[600]\tvalid_0's rmse: 0.574998\tvalid_1's rmse: 1.02177\n",
      "[700]\tvalid_0's rmse: 0.525665\tvalid_1's rmse: 1.01916\n",
      "[800]\tvalid_0's rmse: 0.482596\tvalid_1's rmse: 1.01712\n",
      "[900]\tvalid_0's rmse: 0.444804\tvalid_1's rmse: 1.01571\n",
      "[1000]\tvalid_0's rmse: 0.411452\tvalid_1's rmse: 1.01457\n",
      "[1100]\tvalid_0's rmse: 0.382405\tvalid_1's rmse: 1.0142\n",
      "[1200]\tvalid_0's rmse: 0.356644\tvalid_1's rmse: 1.01353\n",
      "[1300]\tvalid_0's rmse: 0.333507\tvalid_1's rmse: 1.01336\n",
      "Early stopping, best iteration is:\n",
      "[1283]\tvalid_0's rmse: 0.337327\tvalid_1's rmse: 1.01328\n"
     ]
    },
    {
     "name": "stderr",
     "output_type": "stream",
     "text": [
      "bagging, val_score: 1.009354:  80%|########  | 8/10 [04:09<01:03, 31.80s/it]\u001b[32m[I 2021-03-08 03:51:23,884]\u001b[0m Trial 34 finished with value: 1.0132783450287823 and parameters: {'bagging_fraction': 0.9816380028080095, 'bagging_freq': 7}. Best is trial 31 with value: 1.0093543120531847.\u001b[0m\n",
      "bagging, val_score: 1.009354:  80%|########  | 8/10 [04:09<01:03, 31.80s/it]"
     ]
    },
    {
     "name": "stdout",
     "output_type": "stream",
     "text": [
      "Training until validation scores don't improve for 100 rounds\n",
      "[100]\tvalid_0's rmse: 1.11955\tvalid_1's rmse: 1.20367\n",
      "[200]\tvalid_0's rmse: 0.899042\tvalid_1's rmse: 1.0789\n",
      "[300]\tvalid_0's rmse: 0.786898\tvalid_1's rmse: 1.04662\n",
      "[400]\tvalid_0's rmse: 0.706747\tvalid_1's rmse: 1.03356\n",
      "[500]\tvalid_0's rmse: 0.640969\tvalid_1's rmse: 1.02664\n",
      "[600]\tvalid_0's rmse: 0.584288\tvalid_1's rmse: 1.02211\n",
      "[700]\tvalid_0's rmse: 0.534967\tvalid_1's rmse: 1.0189\n",
      "[800]\tvalid_0's rmse: 0.491908\tvalid_1's rmse: 1.01815\n",
      "[900]\tvalid_0's rmse: 0.453765\tvalid_1's rmse: 1.0171\n",
      "[1000]\tvalid_0's rmse: 0.419978\tvalid_1's rmse: 1.01588\n",
      "[1100]\tvalid_0's rmse: 0.389823\tvalid_1's rmse: 1.01535\n",
      "[1200]\tvalid_0's rmse: 0.363347\tvalid_1's rmse: 1.01487\n",
      "[1300]\tvalid_0's rmse: 0.339379\tvalid_1's rmse: 1.01435\n",
      "[1400]\tvalid_0's rmse: 0.318167\tvalid_1's rmse: 1.01406\n",
      "Early stopping, best iteration is:\n",
      "[1366]\tvalid_0's rmse: 0.325036\tvalid_1's rmse: 1.01397\n"
     ]
    },
    {
     "name": "stderr",
     "output_type": "stream",
     "text": [
      "bagging, val_score: 1.009354:  90%|######### | 9/10 [04:44<00:32, 32.71s/it]\u001b[32m[I 2021-03-08 03:51:58,736]\u001b[0m Trial 35 finished with value: 1.0139739665089926 and parameters: {'bagging_fraction': 0.7416370753015024, 'bagging_freq': 7}. Best is trial 31 with value: 1.0093543120531847.\u001b[0m\n",
      "bagging, val_score: 1.009354:  90%|######### | 9/10 [04:44<00:32, 32.71s/it]"
     ]
    },
    {
     "name": "stdout",
     "output_type": "stream",
     "text": [
      "Training until validation scores don't improve for 100 rounds\n",
      "[100]\tvalid_0's rmse: 1.12901\tvalid_1's rmse: 1.21116\n",
      "[200]\tvalid_0's rmse: 0.911292\tvalid_1's rmse: 1.08476\n",
      "[300]\tvalid_0's rmse: 0.799498\tvalid_1's rmse: 1.05093\n",
      "[400]\tvalid_0's rmse: 0.719862\tvalid_1's rmse: 1.03572\n",
      "[500]\tvalid_0's rmse: 0.654614\tvalid_1's rmse: 1.02832\n",
      "[600]\tvalid_0's rmse: 0.598133\tvalid_1's rmse: 1.02301\n",
      "[700]\tvalid_0's rmse: 0.548652\tvalid_1's rmse: 1.01994\n",
      "[800]\tvalid_0's rmse: 0.50592\tvalid_1's rmse: 1.01889\n",
      "[900]\tvalid_0's rmse: 0.467521\tvalid_1's rmse: 1.0168\n",
      "[1000]\tvalid_0's rmse: 0.433601\tvalid_1's rmse: 1.01603\n",
      "[1100]\tvalid_0's rmse: 0.40325\tvalid_1's rmse: 1.01538\n",
      "[1200]\tvalid_0's rmse: 0.376175\tvalid_1's rmse: 1.01517\n",
      "[1300]\tvalid_0's rmse: 0.351747\tvalid_1's rmse: 1.01433\n",
      "[1400]\tvalid_0's rmse: 0.329587\tvalid_1's rmse: 1.01403\n",
      "Early stopping, best iteration is:\n",
      "[1385]\tvalid_0's rmse: 0.332753\tvalid_1's rmse: 1.01395\n"
     ]
    },
    {
     "name": "stderr",
     "output_type": "stream",
     "text": [
      "bagging, val_score: 1.009354: 100%|##########| 10/10 [05:18<00:00, 32.95s/it]\u001b[32m[I 2021-03-08 03:52:32,241]\u001b[0m Trial 36 finished with value: 1.0139451609892907 and parameters: {'bagging_fraction': 0.5506957029178896, 'bagging_freq': 7}. Best is trial 31 with value: 1.0093543120531847.\u001b[0m\n",
      "bagging, val_score: 1.009354: 100%|##########| 10/10 [05:18<00:00, 31.80s/it]\n",
      "feature_fraction_stage2, val_score: 1.009354:   0%|          | 0/3 [00:00<?, ?it/s]"
     ]
    },
    {
     "name": "stdout",
     "output_type": "stream",
     "text": [
      "Training until validation scores don't improve for 100 rounds\n",
      "[100]\tvalid_0's rmse: 1.11393\tvalid_1's rmse: 1.19807\n",
      "[200]\tvalid_0's rmse: 0.892716\tvalid_1's rmse: 1.07496\n",
      "[300]\tvalid_0's rmse: 0.780358\tvalid_1's rmse: 1.04228\n",
      "[400]\tvalid_0's rmse: 0.6997\tvalid_1's rmse: 1.02961\n",
      "[500]\tvalid_0's rmse: 0.633236\tvalid_1's rmse: 1.02275\n",
      "[600]\tvalid_0's rmse: 0.576344\tvalid_1's rmse: 1.0187\n",
      "[700]\tvalid_0's rmse: 0.526989\tvalid_1's rmse: 1.0161\n",
      "[800]\tvalid_0's rmse: 0.483879\tvalid_1's rmse: 1.01452\n",
      "[900]\tvalid_0's rmse: 0.445947\tvalid_1's rmse: 1.01262\n",
      "[1000]\tvalid_0's rmse: 0.412296\tvalid_1's rmse: 1.01135\n",
      "[1100]\tvalid_0's rmse: 0.382772\tvalid_1's rmse: 1.01073\n",
      "[1200]\tvalid_0's rmse: 0.356688\tvalid_1's rmse: 1.01044\n",
      "Early stopping, best iteration is:\n",
      "[1164]\tvalid_0's rmse: 0.365555\tvalid_1's rmse: 1.01022\n"
     ]
    },
    {
     "name": "stderr",
     "output_type": "stream",
     "text": [
      "feature_fraction_stage2, val_score: 1.009354:  33%|###3      | 1/3 [00:33<01:07, 33.51s/it]\u001b[32m[I 2021-03-08 03:53:05,771]\u001b[0m Trial 37 finished with value: 1.0102185212055024 and parameters: {'feature_fraction': 0.44800000000000006}. Best is trial 37 with value: 1.0102185212055024.\u001b[0m\n",
      "feature_fraction_stage2, val_score: 1.009354:  33%|###3      | 1/3 [00:33<01:07, 33.51s/it]"
     ]
    },
    {
     "name": "stdout",
     "output_type": "stream",
     "text": [
      "Training until validation scores don't improve for 100 rounds\n",
      "[100]\tvalid_0's rmse: 1.11659\tvalid_1's rmse: 1.19997\n",
      "[200]\tvalid_0's rmse: 0.895958\tvalid_1's rmse: 1.07678\n",
      "[300]\tvalid_0's rmse: 0.78377\tvalid_1's rmse: 1.04518\n",
      "[400]\tvalid_0's rmse: 0.703068\tvalid_1's rmse: 1.03236\n",
      "[500]\tvalid_0's rmse: 0.636587\tvalid_1's rmse: 1.02535\n",
      "[600]\tvalid_0's rmse: 0.57987\tvalid_1's rmse: 1.02181\n",
      "[700]\tvalid_0's rmse: 0.530477\tvalid_1's rmse: 1.01855\n",
      "[800]\tvalid_0's rmse: 0.487579\tvalid_1's rmse: 1.01633\n",
      "[900]\tvalid_0's rmse: 0.449644\tvalid_1's rmse: 1.01476\n",
      "[1000]\tvalid_0's rmse: 0.416005\tvalid_1's rmse: 1.01408\n",
      "[1100]\tvalid_0's rmse: 0.386043\tvalid_1's rmse: 1.01296\n",
      "[1200]\tvalid_0's rmse: 0.359731\tvalid_1's rmse: 1.01266\n",
      "[1300]\tvalid_0's rmse: 0.335695\tvalid_1's rmse: 1.01227\n",
      "[1400]\tvalid_0's rmse: 0.314198\tvalid_1's rmse: 1.01253\n",
      "Early stopping, best iteration is:\n",
      "[1308]\tvalid_0's rmse: 0.333824\tvalid_1's rmse: 1.01219\n"
     ]
    },
    {
     "name": "stderr",
     "output_type": "stream",
     "text": [
      "feature_fraction_stage2, val_score: 1.009354:  67%|######6   | 2/3 [01:07<00:33, 33.75s/it]\u001b[32m[I 2021-03-08 03:53:40,094]\u001b[0m Trial 38 finished with value: 1.0121930754149773 and parameters: {'feature_fraction': 0.41600000000000004}. Best is trial 37 with value: 1.0102185212055024.\u001b[0m\n",
      "feature_fraction_stage2, val_score: 1.009354:  67%|######6   | 2/3 [01:07<00:33, 33.75s/it]"
     ]
    },
    {
     "name": "stdout",
     "output_type": "stream",
     "text": [
      "Training until validation scores don't improve for 100 rounds\n",
      "[100]\tvalid_0's rmse: 1.11208\tvalid_1's rmse: 1.19913\n",
      "[200]\tvalid_0's rmse: 0.891526\tvalid_1's rmse: 1.07789\n",
      "[300]\tvalid_0's rmse: 0.77913\tvalid_1's rmse: 1.04422\n",
      "[400]\tvalid_0's rmse: 0.698542\tvalid_1's rmse: 1.03131\n",
      "[500]\tvalid_0's rmse: 0.631536\tvalid_1's rmse: 1.02358\n",
      "[600]\tvalid_0's rmse: 0.574634\tvalid_1's rmse: 1.01855\n",
      "[700]\tvalid_0's rmse: 0.525428\tvalid_1's rmse: 1.01567\n",
      "[800]\tvalid_0's rmse: 0.482327\tvalid_1's rmse: 1.01464\n",
      "[900]\tvalid_0's rmse: 0.444135\tvalid_1's rmse: 1.01323\n",
      "[1000]\tvalid_0's rmse: 0.410264\tvalid_1's rmse: 1.01214\n",
      "[1100]\tvalid_0's rmse: 0.38045\tvalid_1's rmse: 1.01164\n",
      "[1200]\tvalid_0's rmse: 0.354367\tvalid_1's rmse: 1.01136\n",
      "[1300]\tvalid_0's rmse: 0.330722\tvalid_1's rmse: 1.0107\n",
      "[1400]\tvalid_0's rmse: 0.309684\tvalid_1's rmse: 1.01105\n",
      "Early stopping, best iteration is:\n",
      "[1303]\tvalid_0's rmse: 0.330092\tvalid_1's rmse: 1.01066\n"
     ]
    },
    {
     "name": "stderr",
     "output_type": "stream",
     "text": [
      "feature_fraction_stage2, val_score: 1.009354: 100%|##########| 3/3 [01:46<00:00, 35.27s/it]\u001b[32m[I 2021-03-08 03:54:18,889]\u001b[0m Trial 39 finished with value: 1.0106645036584851 and parameters: {'feature_fraction': 0.48000000000000004}. Best is trial 37 with value: 1.0102185212055024.\u001b[0m\n",
      "feature_fraction_stage2, val_score: 1.009354: 100%|##########| 3/3 [01:46<00:00, 35.55s/it]\n",
      "regularization_factors, val_score: 1.009354:   0%|          | 0/20 [00:00<?, ?it/s]"
     ]
    },
    {
     "name": "stdout",
     "output_type": "stream",
     "text": [
      "Training until validation scores don't improve for 100 rounds\n",
      "[100]\tvalid_0's rmse: 1.11304\tvalid_1's rmse: 1.1984\n",
      "[200]\tvalid_0's rmse: 0.892688\tvalid_1's rmse: 1.0748\n",
      "[300]\tvalid_0's rmse: 0.780135\tvalid_1's rmse: 1.04228\n",
      "[400]\tvalid_0's rmse: 0.699539\tvalid_1's rmse: 1.03027\n",
      "[500]\tvalid_0's rmse: 0.633013\tvalid_1's rmse: 1.02296\n",
      "[600]\tvalid_0's rmse: 0.575444\tvalid_1's rmse: 1.01843\n",
      "[700]\tvalid_0's rmse: 0.526481\tvalid_1's rmse: 1.01555\n",
      "[800]\tvalid_0's rmse: 0.483315\tvalid_1's rmse: 1.01319\n",
      "[900]\tvalid_0's rmse: 0.445116\tvalid_1's rmse: 1.01231\n",
      "[1000]\tvalid_0's rmse: 0.411842\tvalid_1's rmse: 1.01144\n",
      "[1100]\tvalid_0's rmse: 0.381802\tvalid_1's rmse: 1.01057\n",
      "[1200]\tvalid_0's rmse: 0.355363\tvalid_1's rmse: 1.01042\n",
      "[1300]\tvalid_0's rmse: 0.331616\tvalid_1's rmse: 1.01\n",
      "[1400]\tvalid_0's rmse: 0.310694\tvalid_1's rmse: 1.00973\n",
      "[1500]\tvalid_0's rmse: 0.291911\tvalid_1's rmse: 1.00953\n",
      "Early stopping, best iteration is:\n",
      "[1446]\tvalid_0's rmse: 0.301756\tvalid_1's rmse: 1.00936\n"
     ]
    },
    {
     "name": "stderr",
     "output_type": "stream",
     "text": [
      "regularization_factors, val_score: 1.009354:   5%|5         | 1/20 [00:34<10:47, 34.10s/it]\u001b[32m[I 2021-03-08 03:54:53,008]\u001b[0m Trial 40 finished with value: 1.009359411678771 and parameters: {'lambda_l1': 7.842223216661147e-06, 'lambda_l2': 2.253749108038227e-07}. Best is trial 40 with value: 1.009359411678771.\u001b[0m\n",
      "regularization_factors, val_score: 1.009354:   5%|5         | 1/20 [00:34<10:47, 34.10s/it]"
     ]
    },
    {
     "name": "stdout",
     "output_type": "stream",
     "text": [
      "Training until validation scores don't improve for 100 rounds\n",
      "[100]\tvalid_0's rmse: 1.12629\tvalid_1's rmse: 1.20302\n",
      "[200]\tvalid_0's rmse: 0.904358\tvalid_1's rmse: 1.07744\n",
      "[300]\tvalid_0's rmse: 0.791051\tvalid_1's rmse: 1.0442\n",
      "[400]\tvalid_0's rmse: 0.710582\tvalid_1's rmse: 1.03134\n",
      "[500]\tvalid_0's rmse: 0.64432\tvalid_1's rmse: 1.0239\n",
      "[600]\tvalid_0's rmse: 0.587083\tvalid_1's rmse: 1.01941\n",
      "[700]\tvalid_0's rmse: 0.537843\tvalid_1's rmse: 1.01711\n",
      "[800]\tvalid_0's rmse: 0.494339\tvalid_1's rmse: 1.01552\n",
      "[900]\tvalid_0's rmse: 0.456026\tvalid_1's rmse: 1.01442\n",
      "[1000]\tvalid_0's rmse: 0.422152\tvalid_1's rmse: 1.01387\n",
      "[1100]\tvalid_0's rmse: 0.391987\tvalid_1's rmse: 1.01328\n",
      "[1200]\tvalid_0's rmse: 0.365409\tvalid_1's rmse: 1.01325\n",
      "Early stopping, best iteration is:\n",
      "[1178]\tvalid_0's rmse: 0.370867\tvalid_1's rmse: 1.01311\n"
     ]
    },
    {
     "name": "stderr",
     "output_type": "stream",
     "text": [
      "regularization_factors, val_score: 1.009354:  10%|#         | 2/20 [01:09<10:19, 34.39s/it]\u001b[32m[I 2021-03-08 03:55:28,078]\u001b[0m Trial 41 finished with value: 1.0131056072586446 and parameters: {'lambda_l1': 1.9755177793644387e-05, 'lambda_l2': 1.6789076604183322}. Best is trial 40 with value: 1.009359411678771.\u001b[0m\n",
      "regularization_factors, val_score: 1.009354:  10%|#         | 2/20 [01:09<10:19, 34.39s/it]"
     ]
    },
    {
     "name": "stdout",
     "output_type": "stream",
     "text": [
      "Training until validation scores don't improve for 100 rounds\n",
      "[100]\tvalid_0's rmse: 1.11381\tvalid_1's rmse: 1.19843\n",
      "[200]\tvalid_0's rmse: 0.893299\tvalid_1's rmse: 1.07457\n",
      "[300]\tvalid_0's rmse: 0.781104\tvalid_1's rmse: 1.04149\n",
      "[400]\tvalid_0's rmse: 0.700407\tvalid_1's rmse: 1.02876\n",
      "[500]\tvalid_0's rmse: 0.633626\tvalid_1's rmse: 1.02189\n",
      "[600]\tvalid_0's rmse: 0.576132\tvalid_1's rmse: 1.01789\n",
      "[700]\tvalid_0's rmse: 0.526912\tvalid_1's rmse: 1.01476\n",
      "[800]\tvalid_0's rmse: 0.483707\tvalid_1's rmse: 1.01278\n",
      "[900]\tvalid_0's rmse: 0.44552\tvalid_1's rmse: 1.01142\n",
      "[1000]\tvalid_0's rmse: 0.412158\tvalid_1's rmse: 1.01021\n",
      "[1100]\tvalid_0's rmse: 0.382258\tvalid_1's rmse: 1.00941\n",
      "[1200]\tvalid_0's rmse: 0.3562\tvalid_1's rmse: 1.00952\n",
      "Early stopping, best iteration is:\n",
      "[1127]\tvalid_0's rmse: 0.374763\tvalid_1's rmse: 1.00917\n"
     ]
    },
    {
     "name": "stderr",
     "output_type": "stream",
     "text": [
      "regularization_factors, val_score: 1.009168:  15%|#5        | 3/20 [01:38<09:18, 32.85s/it]\u001b[32m[I 2021-03-08 03:55:57,309]\u001b[0m Trial 42 finished with value: 1.0091678000591826 and parameters: {'lambda_l1': 1.607519159751707e-05, 'lambda_l2': 0.10888014780733374}. Best is trial 42 with value: 1.0091678000591826.\u001b[0m\n",
      "regularization_factors, val_score: 1.009168:  15%|#5        | 3/20 [01:38<09:18, 32.85s/it]"
     ]
    },
    {
     "name": "stdout",
     "output_type": "stream",
     "text": [
      "Training until validation scores don't improve for 100 rounds\n",
      "[100]\tvalid_0's rmse: 1.14976\tvalid_1's rmse: 1.21262\n",
      "[200]\tvalid_0's rmse: 0.932581\tvalid_1's rmse: 1.08763\n",
      "[300]\tvalid_0's rmse: 0.819458\tvalid_1's rmse: 1.05224\n",
      "[400]\tvalid_0's rmse: 0.739681\tvalid_1's rmse: 1.03797\n",
      "[500]\tvalid_0's rmse: 0.674112\tvalid_1's rmse: 1.03\n",
      "[600]\tvalid_0's rmse: 0.617227\tvalid_1's rmse: 1.02496\n",
      "[700]\tvalid_0's rmse: 0.567697\tvalid_1's rmse: 1.02181\n",
      "[800]\tvalid_0's rmse: 0.523697\tvalid_1's rmse: 1.01935\n",
      "[900]\tvalid_0's rmse: 0.484442\tvalid_1's rmse: 1.01805\n",
      "[1000]\tvalid_0's rmse: 0.449752\tvalid_1's rmse: 1.01701\n",
      "[1100]\tvalid_0's rmse: 0.41828\tvalid_1's rmse: 1.0161\n",
      "[1200]\tvalid_0's rmse: 0.390573\tvalid_1's rmse: 1.01539\n",
      "[1300]\tvalid_0's rmse: 0.365174\tvalid_1's rmse: 1.01539\n",
      "[1400]\tvalid_0's rmse: 0.342542\tvalid_1's rmse: 1.01496\n",
      "[1500]\tvalid_0's rmse: 0.322212\tvalid_1's rmse: 1.01503\n",
      "[1600]\tvalid_0's rmse: 0.303708\tvalid_1's rmse: 1.015\n",
      "Early stopping, best iteration is:\n",
      "[1556]\tvalid_0's rmse: 0.311612\tvalid_1's rmse: 1.01484\n"
     ]
    },
    {
     "name": "stderr",
     "output_type": "stream",
     "text": [
      "regularization_factors, val_score: 1.009168:  20%|##        | 4/20 [02:17<09:17, 34.84s/it]\u001b[32m[I 2021-03-08 03:56:36,797]\u001b[0m Trial 43 finished with value: 1.0148379548020294 and parameters: {'lambda_l1': 0.0002404654940496075, 'lambda_l2': 7.089979475093576}. Best is trial 42 with value: 1.0091678000591826.\u001b[0m\n",
      "regularization_factors, val_score: 1.009168:  20%|##        | 4/20 [02:17<09:17, 34.84s/it]"
     ]
    },
    {
     "name": "stdout",
     "output_type": "stream",
     "text": [
      "Training until validation scores don't improve for 100 rounds\n",
      "[100]\tvalid_0's rmse: 1.11423\tvalid_1's rmse: 1.19742\n",
      "[200]\tvalid_0's rmse: 0.893889\tvalid_1's rmse: 1.07335\n",
      "[300]\tvalid_0's rmse: 0.781403\tvalid_1's rmse: 1.04109\n",
      "[400]\tvalid_0's rmse: 0.700585\tvalid_1's rmse: 1.02837\n",
      "[500]\tvalid_0's rmse: 0.633988\tvalid_1's rmse: 1.02109\n",
      "[600]\tvalid_0's rmse: 0.576778\tvalid_1's rmse: 1.01685\n",
      "[700]\tvalid_0's rmse: 0.527674\tvalid_1's rmse: 1.01398\n",
      "[800]\tvalid_0's rmse: 0.484578\tvalid_1's rmse: 1.01134\n",
      "[900]\tvalid_0's rmse: 0.446545\tvalid_1's rmse: 1.00962\n",
      "[1000]\tvalid_0's rmse: 0.412765\tvalid_1's rmse: 1.00875\n",
      "[1100]\tvalid_0's rmse: 0.383013\tvalid_1's rmse: 1.00783\n",
      "[1200]\tvalid_0's rmse: 0.356642\tvalid_1's rmse: 1.00765\n",
      "[1300]\tvalid_0's rmse: 0.33291\tvalid_1's rmse: 1.00722\n",
      "Early stopping, best iteration is:\n",
      "[1289]\tvalid_0's rmse: 0.33535\tvalid_1's rmse: 1.00707\n"
     ]
    },
    {
     "name": "stderr",
     "output_type": "stream",
     "text": [
      "regularization_factors, val_score: 1.007072:  25%|##5       | 5/20 [02:50<08:33, 34.21s/it]\u001b[32m[I 2021-03-08 03:57:09,539]\u001b[0m Trial 44 finished with value: 1.0070718174863083 and parameters: {'lambda_l1': 0.008923581306863519, 'lambda_l2': 0.18859318503322642}. Best is trial 44 with value: 1.0070718174863083.\u001b[0m\n",
      "regularization_factors, val_score: 1.007072:  25%|##5       | 5/20 [02:50<08:33, 34.21s/it]"
     ]
    },
    {
     "name": "stdout",
     "output_type": "stream",
     "text": [
      "Training until validation scores don't improve for 100 rounds\n",
      "[100]\tvalid_0's rmse: 1.11912\tvalid_1's rmse: 1.20085\n",
      "[200]\tvalid_0's rmse: 0.898136\tvalid_1's rmse: 1.0761\n",
      "[300]\tvalid_0's rmse: 0.785404\tvalid_1's rmse: 1.04276\n",
      "[400]\tvalid_0's rmse: 0.704308\tvalid_1's rmse: 1.0298\n",
      "[500]\tvalid_0's rmse: 0.637985\tvalid_1's rmse: 1.02266\n",
      "[600]\tvalid_0's rmse: 0.580808\tvalid_1's rmse: 1.01869\n",
      "[700]\tvalid_0's rmse: 0.531566\tvalid_1's rmse: 1.01558\n",
      "[800]\tvalid_0's rmse: 0.488257\tvalid_1's rmse: 1.0133\n",
      "[900]\tvalid_0's rmse: 0.449906\tvalid_1's rmse: 1.01195\n",
      "[1000]\tvalid_0's rmse: 0.41615\tvalid_1's rmse: 1.01108\n",
      "[1100]\tvalid_0's rmse: 0.386362\tvalid_1's rmse: 1.01035\n",
      "[1200]\tvalid_0's rmse: 0.360156\tvalid_1's rmse: 1.01009\n",
      "[1300]\tvalid_0's rmse: 0.336127\tvalid_1's rmse: 1.00972\n",
      "Early stopping, best iteration is:\n",
      "[1296]\tvalid_0's rmse: 0.337036\tvalid_1's rmse: 1.00964\n"
     ]
    },
    {
     "name": "stderr",
     "output_type": "stream",
     "text": [
      "regularization_factors, val_score: 1.007072:  30%|###       | 6/20 [03:22<07:50, 33.63s/it]\u001b[32m[I 2021-03-08 03:57:41,810]\u001b[0m Trial 45 finished with value: 1.0096384864958499 and parameters: {'lambda_l1': 0.10688839452484726, 'lambda_l2': 0.6452181736848792}. Best is trial 44 with value: 1.0070718174863083.\u001b[0m\n",
      "regularization_factors, val_score: 1.007072:  30%|###       | 6/20 [03:22<07:50, 33.63s/it]"
     ]
    },
    {
     "name": "stdout",
     "output_type": "stream",
     "text": [
      "Training until validation scores don't improve for 100 rounds\n",
      "[100]\tvalid_0's rmse: 1.11317\tvalid_1's rmse: 1.19828\n",
      "[200]\tvalid_0's rmse: 0.892763\tvalid_1's rmse: 1.07452\n",
      "[300]\tvalid_0's rmse: 0.780422\tvalid_1's rmse: 1.04367\n",
      "[400]\tvalid_0's rmse: 0.699724\tvalid_1's rmse: 1.03193\n",
      "[500]\tvalid_0's rmse: 0.633373\tvalid_1's rmse: 1.02572\n",
      "[600]\tvalid_0's rmse: 0.576004\tvalid_1's rmse: 1.02088\n",
      "[700]\tvalid_0's rmse: 0.526799\tvalid_1's rmse: 1.01772\n",
      "[800]\tvalid_0's rmse: 0.48338\tvalid_1's rmse: 1.01545\n",
      "[900]\tvalid_0's rmse: 0.445319\tvalid_1's rmse: 1.01418\n",
      "[1000]\tvalid_0's rmse: 0.411742\tvalid_1's rmse: 1.01326\n",
      "[1100]\tvalid_0's rmse: 0.381861\tvalid_1's rmse: 1.012\n",
      "[1200]\tvalid_0's rmse: 0.355772\tvalid_1's rmse: 1.01171\n",
      "[1300]\tvalid_0's rmse: 0.331892\tvalid_1's rmse: 1.0113\n",
      "[1400]\tvalid_0's rmse: 0.310801\tvalid_1's rmse: 1.01117\n",
      "[1500]\tvalid_0's rmse: 0.292113\tvalid_1's rmse: 1.01125\n",
      "Early stopping, best iteration is:\n",
      "[1454]\tvalid_0's rmse: 0.300288\tvalid_1's rmse: 1.01103\n"
     ]
    },
    {
     "name": "stderr",
     "output_type": "stream",
     "text": [
      "regularization_factors, val_score: 1.007072:  35%|###5      | 7/20 [03:57<07:19, 33.82s/it]\u001b[32m[I 2021-03-08 03:58:16,083]\u001b[0m Trial 46 finished with value: 1.011027596659406 and parameters: {'lambda_l1': 7.458903049170534e-06, 'lambda_l2': 0.004226949891699307}. Best is trial 44 with value: 1.0070718174863083.\u001b[0m\n",
      "regularization_factors, val_score: 1.007072:  35%|###5      | 7/20 [03:57<07:19, 33.82s/it]"
     ]
    },
    {
     "name": "stdout",
     "output_type": "stream",
     "text": [
      "Training until validation scores don't improve for 100 rounds\n",
      "[100]\tvalid_0's rmse: 1.11293\tvalid_1's rmse: 1.19824\n",
      "[200]\tvalid_0's rmse: 0.892453\tvalid_1's rmse: 1.07389\n",
      "[300]\tvalid_0's rmse: 0.77998\tvalid_1's rmse: 1.04151\n",
      "[400]\tvalid_0's rmse: 0.698944\tvalid_1's rmse: 1.02989\n",
      "[500]\tvalid_0's rmse: 0.63256\tvalid_1's rmse: 1.02359\n",
      "[600]\tvalid_0's rmse: 0.575245\tvalid_1's rmse: 1.01819\n",
      "[700]\tvalid_0's rmse: 0.525943\tvalid_1's rmse: 1.01531\n",
      "[800]\tvalid_0's rmse: 0.483098\tvalid_1's rmse: 1.01375\n",
      "[900]\tvalid_0's rmse: 0.445039\tvalid_1's rmse: 1.01231\n",
      "[1000]\tvalid_0's rmse: 0.411693\tvalid_1's rmse: 1.01137\n",
      "[1100]\tvalid_0's rmse: 0.381906\tvalid_1's rmse: 1.01072\n",
      "[1200]\tvalid_0's rmse: 0.355841\tvalid_1's rmse: 1.01011\n",
      "[1300]\tvalid_0's rmse: 0.331929\tvalid_1's rmse: 1.00974\n",
      "[1400]\tvalid_0's rmse: 0.310965\tvalid_1's rmse: 1.0096\n",
      "[1500]\tvalid_0's rmse: 0.292489\tvalid_1's rmse: 1.00937\n",
      "Early stopping, best iteration is:\n",
      "[1457]\tvalid_0's rmse: 0.300028\tvalid_1's rmse: 1.00909\n"
     ]
    },
    {
     "name": "stderr",
     "output_type": "stream",
     "text": [
      "regularization_factors, val_score: 1.007072:  40%|####      | 8/20 [04:36<07:04, 35.38s/it]\u001b[32m[I 2021-03-08 03:58:55,109]\u001b[0m Trial 47 finished with value: 1.0090875641426602 and parameters: {'lambda_l1': 0.02878826536061881, 'lambda_l2': 1.6550950606941142e-06}. Best is trial 44 with value: 1.0070718174863083.\u001b[0m\n",
      "regularization_factors, val_score: 1.007072:  40%|####      | 8/20 [04:36<07:04, 35.38s/it]"
     ]
    },
    {
     "name": "stdout",
     "output_type": "stream",
     "text": [
      "Training until validation scores don't improve for 100 rounds\n",
      "[100]\tvalid_0's rmse: 1.11775\tvalid_1's rmse: 1.20026\n",
      "[200]\tvalid_0's rmse: 0.896969\tvalid_1's rmse: 1.07573\n",
      "[300]\tvalid_0's rmse: 0.784395\tvalid_1's rmse: 1.04175\n",
      "[400]\tvalid_0's rmse: 0.703598\tvalid_1's rmse: 1.0297\n",
      "[500]\tvalid_0's rmse: 0.637144\tvalid_1's rmse: 1.02271\n",
      "[600]\tvalid_0's rmse: 0.579713\tvalid_1's rmse: 1.01844\n",
      "[700]\tvalid_0's rmse: 0.530627\tvalid_1's rmse: 1.01539\n",
      "[800]\tvalid_0's rmse: 0.487403\tvalid_1's rmse: 1.01301\n",
      "[900]\tvalid_0's rmse: 0.449354\tvalid_1's rmse: 1.0113\n",
      "[1000]\tvalid_0's rmse: 0.415698\tvalid_1's rmse: 1.00993\n",
      "[1100]\tvalid_0's rmse: 0.385681\tvalid_1's rmse: 1.0089\n",
      "[1200]\tvalid_0's rmse: 0.359736\tvalid_1's rmse: 1.00845\n",
      "[1300]\tvalid_0's rmse: 0.335915\tvalid_1's rmse: 1.00787\n",
      "[1400]\tvalid_0's rmse: 0.314635\tvalid_1's rmse: 1.00764\n",
      "[1500]\tvalid_0's rmse: 0.295544\tvalid_1's rmse: 1.00778\n",
      "Early stopping, best iteration is:\n",
      "[1449]\tvalid_0's rmse: 0.304998\tvalid_1's rmse: 1.00744\n"
     ]
    },
    {
     "name": "stderr",
     "output_type": "stream",
     "text": [
      "regularization_factors, val_score: 1.007072:  45%|####5     | 9/20 [05:10<06:26, 35.17s/it]\u001b[32m[I 2021-03-08 03:59:29,784]\u001b[0m Trial 48 finished with value: 1.0074387949424788 and parameters: {'lambda_l1': 0.027169949192641846, 'lambda_l2': 0.5247859998824577}. Best is trial 44 with value: 1.0070718174863083.\u001b[0m\n",
      "regularization_factors, val_score: 1.007072:  45%|####5     | 9/20 [05:10<06:26, 35.17s/it]"
     ]
    },
    {
     "name": "stdout",
     "output_type": "stream",
     "text": [
      "Training until validation scores don't improve for 100 rounds\n",
      "[100]\tvalid_0's rmse: 1.1372\tvalid_1's rmse: 1.20619\n",
      "[200]\tvalid_0's rmse: 0.916906\tvalid_1's rmse: 1.08019\n",
      "[300]\tvalid_0's rmse: 0.803481\tvalid_1's rmse: 1.04623\n",
      "[400]\tvalid_0's rmse: 0.723481\tvalid_1's rmse: 1.03344\n",
      "[500]\tvalid_0's rmse: 0.657598\tvalid_1's rmse: 1.02607\n",
      "[600]\tvalid_0's rmse: 0.600692\tvalid_1's rmse: 1.02181\n",
      "[700]\tvalid_0's rmse: 0.551675\tvalid_1's rmse: 1.01846\n",
      "[800]\tvalid_0's rmse: 0.508014\tvalid_1's rmse: 1.0162\n",
      "[900]\tvalid_0's rmse: 0.469276\tvalid_1's rmse: 1.01549\n",
      "[1000]\tvalid_0's rmse: 0.435329\tvalid_1's rmse: 1.0149\n",
      "[1100]\tvalid_0's rmse: 0.404485\tvalid_1's rmse: 1.01435\n",
      "[1200]\tvalid_0's rmse: 0.37751\tvalid_1's rmse: 1.01402\n",
      "[1300]\tvalid_0's rmse: 0.35272\tvalid_1's rmse: 1.01374\n",
      "Early stopping, best iteration is:\n",
      "[1286]\tvalid_0's rmse: 0.35599\tvalid_1's rmse: 1.01366\n"
     ]
    },
    {
     "name": "stderr",
     "output_type": "stream",
     "text": [
      "regularization_factors, val_score: 1.007072:  50%|#####     | 10/20 [05:42<05:40, 34.05s/it]\u001b[32m[I 2021-03-08 04:00:01,232]\u001b[0m Trial 49 finished with value: 1.013658842029501 and parameters: {'lambda_l1': 0.2572991397832998, 'lambda_l2': 3.520766522515916}. Best is trial 44 with value: 1.0070718174863083.\u001b[0m\n",
      "regularization_factors, val_score: 1.007072:  50%|#####     | 10/20 [05:42<05:40, 34.05s/it]"
     ]
    },
    {
     "name": "stdout",
     "output_type": "stream",
     "text": [
      "Training until validation scores don't improve for 100 rounds\n",
      "[100]\tvalid_0's rmse: 1.11305\tvalid_1's rmse: 1.1984\n",
      "[200]\tvalid_0's rmse: 0.892794\tvalid_1's rmse: 1.07478\n",
      "[300]\tvalid_0's rmse: 0.780486\tvalid_1's rmse: 1.04235\n",
      "[400]\tvalid_0's rmse: 0.699528\tvalid_1's rmse: 1.03069\n",
      "[500]\tvalid_0's rmse: 0.632888\tvalid_1's rmse: 1.02337\n",
      "[600]\tvalid_0's rmse: 0.575777\tvalid_1's rmse: 1.01905\n",
      "[700]\tvalid_0's rmse: 0.526344\tvalid_1's rmse: 1.0165\n",
      "[800]\tvalid_0's rmse: 0.483267\tvalid_1's rmse: 1.01462\n",
      "[900]\tvalid_0's rmse: 0.445144\tvalid_1's rmse: 1.01352\n",
      "[1000]\tvalid_0's rmse: 0.411846\tvalid_1's rmse: 1.01202\n",
      "[1100]\tvalid_0's rmse: 0.382018\tvalid_1's rmse: 1.01093\n",
      "[1200]\tvalid_0's rmse: 0.356036\tvalid_1's rmse: 1.01075\n",
      "[1300]\tvalid_0's rmse: 0.332198\tvalid_1's rmse: 1.01037\n",
      "[1400]\tvalid_0's rmse: 0.31116\tvalid_1's rmse: 1.01017\n",
      "[1500]\tvalid_0's rmse: 0.292334\tvalid_1's rmse: 1.01066\n",
      "Early stopping, best iteration is:\n",
      "[1450]\tvalid_0's rmse: 0.301468\tvalid_1's rmse: 1.01007\n"
     ]
    },
    {
     "name": "stderr",
     "output_type": "stream",
     "text": [
      "regularization_factors, val_score: 1.007072:  55%|#####5    | 11/20 [06:16<05:06, 34.06s/it]\u001b[32m[I 2021-03-08 04:00:35,292]\u001b[0m Trial 50 finished with value: 1.0100675212552512 and parameters: {'lambda_l1': 1.374758349759645e-08, 'lambda_l2': 0.0006912445043973203}. Best is trial 44 with value: 1.0070718174863083.\u001b[0m\n",
      "regularization_factors, val_score: 1.007072:  55%|#####5    | 11/20 [06:16<05:06, 34.06s/it]"
     ]
    },
    {
     "name": "stdout",
     "output_type": "stream",
     "text": [
      "Training until validation scores don't improve for 100 rounds\n",
      "[100]\tvalid_0's rmse: 1.11303\tvalid_1's rmse: 1.19811\n",
      "[200]\tvalid_0's rmse: 0.892669\tvalid_1's rmse: 1.07433\n",
      "[300]\tvalid_0's rmse: 0.780794\tvalid_1's rmse: 1.04234\n",
      "[400]\tvalid_0's rmse: 0.699728\tvalid_1's rmse: 1.02993\n",
      "[500]\tvalid_0's rmse: 0.633204\tvalid_1's rmse: 1.02242\n",
      "[600]\tvalid_0's rmse: 0.575629\tvalid_1's rmse: 1.01806\n",
      "[700]\tvalid_0's rmse: 0.526329\tvalid_1's rmse: 1.01511\n",
      "[800]\tvalid_0's rmse: 0.483109\tvalid_1's rmse: 1.01342\n",
      "[900]\tvalid_0's rmse: 0.44504\tvalid_1's rmse: 1.01212\n",
      "[1000]\tvalid_0's rmse: 0.411233\tvalid_1's rmse: 1.01105\n",
      "[1100]\tvalid_0's rmse: 0.381577\tvalid_1's rmse: 1.01036\n",
      "Early stopping, best iteration is:\n",
      "[1080]\tvalid_0's rmse: 0.387403\tvalid_1's rmse: 1.01011\n"
     ]
    },
    {
     "name": "stderr",
     "output_type": "stream",
     "text": [
      "regularization_factors, val_score: 1.007072:  60%|######    | 12/20 [06:43<04:16, 32.07s/it]\u001b[32m[I 2021-03-08 04:01:02,728]\u001b[0m Trial 51 finished with value: 1.010106868172074 and parameters: {'lambda_l1': 0.004320424677047276, 'lambda_l2': 0.027969708382560982}. Best is trial 44 with value: 1.0070718174863083.\u001b[0m\n",
      "regularization_factors, val_score: 1.007072:  60%|######    | 12/20 [06:43<04:16, 32.07s/it]"
     ]
    },
    {
     "name": "stdout",
     "output_type": "stream",
     "text": [
      "Training until validation scores don't improve for 100 rounds\n",
      "[100]\tvalid_0's rmse: 1.13926\tvalid_1's rmse: 1.20529\n",
      "[200]\tvalid_0's rmse: 0.925217\tvalid_1's rmse: 1.08235\n",
      "[300]\tvalid_0's rmse: 0.816486\tvalid_1's rmse: 1.04949\n",
      "[400]\tvalid_0's rmse: 0.740684\tvalid_1's rmse: 1.03701\n",
      "[500]\tvalid_0's rmse: 0.679483\tvalid_1's rmse: 1.03029\n",
      "[600]\tvalid_0's rmse: 0.627134\tvalid_1's rmse: 1.02609\n",
      "[700]\tvalid_0's rmse: 0.581878\tvalid_1's rmse: 1.02299\n",
      "[800]\tvalid_0's rmse: 0.542293\tvalid_1's rmse: 1.02087\n",
      "[900]\tvalid_0's rmse: 0.50721\tvalid_1's rmse: 1.01916\n",
      "[1000]\tvalid_0's rmse: 0.475821\tvalid_1's rmse: 1.01795\n",
      "[1100]\tvalid_0's rmse: 0.44763\tvalid_1's rmse: 1.01678\n",
      "[1200]\tvalid_0's rmse: 0.422661\tvalid_1's rmse: 1.01581\n",
      "[1300]\tvalid_0's rmse: 0.399848\tvalid_1's rmse: 1.01524\n",
      "[1400]\tvalid_0's rmse: 0.379539\tvalid_1's rmse: 1.01525\n",
      "Early stopping, best iteration is:\n",
      "[1357]\tvalid_0's rmse: 0.387921\tvalid_1's rmse: 1.0149\n"
     ]
    },
    {
     "name": "stderr",
     "output_type": "stream",
     "text": [
      "regularization_factors, val_score: 1.007072:  65%|######5   | 13/20 [07:12<03:36, 30.91s/it]\u001b[32m[I 2021-03-08 04:01:30,927]\u001b[0m Trial 52 finished with value: 1.014898735005191 and parameters: {'lambda_l1': 4.469836333218655, 'lambda_l2': 6.8071765934177456e-06}. Best is trial 44 with value: 1.0070718174863083.\u001b[0m\n",
      "regularization_factors, val_score: 1.007072:  65%|######5   | 13/20 [07:12<03:36, 30.91s/it]"
     ]
    },
    {
     "name": "stdout",
     "output_type": "stream",
     "text": [
      "Training until validation scores don't improve for 100 rounds\n",
      "[100]\tvalid_0's rmse: 1.12414\tvalid_1's rmse: 1.2012\n",
      "[200]\tvalid_0's rmse: 0.905276\tvalid_1's rmse: 1.07671\n",
      "[300]\tvalid_0's rmse: 0.794155\tvalid_1's rmse: 1.04389\n",
      "[400]\tvalid_0's rmse: 0.715926\tvalid_1's rmse: 1.03179\n",
      "[500]\tvalid_0's rmse: 0.651764\tvalid_1's rmse: 1.02419\n",
      "[600]\tvalid_0's rmse: 0.596645\tvalid_1's rmse: 1.01912\n",
      "[700]\tvalid_0's rmse: 0.549635\tvalid_1's rmse: 1.01615\n",
      "[800]\tvalid_0's rmse: 0.50814\tvalid_1's rmse: 1.01433\n",
      "[900]\tvalid_0's rmse: 0.471393\tvalid_1's rmse: 1.01298\n",
      "[1000]\tvalid_0's rmse: 0.439058\tvalid_1's rmse: 1.01198\n",
      "[1100]\tvalid_0's rmse: 0.410028\tvalid_1's rmse: 1.01096\n",
      "[1200]\tvalid_0's rmse: 0.384482\tvalid_1's rmse: 1.01035\n",
      "[1300]\tvalid_0's rmse: 0.361228\tvalid_1's rmse: 1.01021\n",
      "[1400]\tvalid_0's rmse: 0.340574\tvalid_1's rmse: 1.00989\n",
      "[1500]\tvalid_0's rmse: 0.321976\tvalid_1's rmse: 1.00968\n",
      "Early stopping, best iteration is:\n",
      "[1445]\tvalid_0's rmse: 0.33193\tvalid_1's rmse: 1.00958\n"
     ]
    },
    {
     "name": "stderr",
     "output_type": "stream",
     "text": [
      "regularization_factors, val_score: 1.007072:  70%|#######   | 14/20 [07:45<03:10, 31.76s/it]\u001b[32m[I 2021-03-08 04:02:04,664]\u001b[0m Trial 53 finished with value: 1.0095814331541155 and parameters: {'lambda_l1': 2.12714878102597, 'lambda_l2': 5.284283835407087e-05}. Best is trial 44 with value: 1.0070718174863083.\u001b[0m\n",
      "regularization_factors, val_score: 1.007072:  70%|#######   | 14/20 [07:45<03:10, 31.76s/it]"
     ]
    },
    {
     "name": "stdout",
     "output_type": "stream",
     "text": [
      "Training until validation scores don't improve for 100 rounds\n",
      "[100]\tvalid_0's rmse: 1.11309\tvalid_1's rmse: 1.19869\n",
      "[200]\tvalid_0's rmse: 0.8925\tvalid_1's rmse: 1.07409\n",
      "[300]\tvalid_0's rmse: 0.780412\tvalid_1's rmse: 1.04203\n",
      "[400]\tvalid_0's rmse: 0.699476\tvalid_1's rmse: 1.02993\n",
      "[500]\tvalid_0's rmse: 0.632987\tvalid_1's rmse: 1.02269\n",
      "[600]\tvalid_0's rmse: 0.575525\tvalid_1's rmse: 1.01793\n",
      "[700]\tvalid_0's rmse: 0.526285\tvalid_1's rmse: 1.01485\n",
      "[800]\tvalid_0's rmse: 0.482923\tvalid_1's rmse: 1.01312\n",
      "[900]\tvalid_0's rmse: 0.445175\tvalid_1's rmse: 1.01208\n",
      "[1000]\tvalid_0's rmse: 0.411355\tvalid_1's rmse: 1.01103\n",
      "[1100]\tvalid_0's rmse: 0.381585\tvalid_1's rmse: 1.0101\n",
      "[1200]\tvalid_0's rmse: 0.355244\tvalid_1's rmse: 1.00981\n",
      "[1300]\tvalid_0's rmse: 0.331454\tvalid_1's rmse: 1.00938\n",
      "[1400]\tvalid_0's rmse: 0.310545\tvalid_1's rmse: 1.00921\n",
      "[1500]\tvalid_0's rmse: 0.291592\tvalid_1's rmse: 1.00894\n",
      "Early stopping, best iteration is:\n",
      "[1446]\tvalid_0's rmse: 0.30142\tvalid_1's rmse: 1.00885\n"
     ]
    },
    {
     "name": "stderr",
     "output_type": "stream",
     "text": [
      "regularization_factors, val_score: 1.007072:  75%|#######5  | 15/20 [08:19<02:42, 32.48s/it]\u001b[32m[I 2021-03-08 04:02:38,836]\u001b[0m Trial 54 finished with value: 1.0088507996499108 and parameters: {'lambda_l1': 0.0020425491865838216, 'lambda_l2': 0.032594384597807634}. Best is trial 44 with value: 1.0070718174863083.\u001b[0m\n",
      "regularization_factors, val_score: 1.007072:  75%|#######5  | 15/20 [08:19<02:42, 32.48s/it]"
     ]
    },
    {
     "name": "stdout",
     "output_type": "stream",
     "text": [
      "Training until validation scores don't improve for 100 rounds\n",
      "[100]\tvalid_0's rmse: 1.11504\tvalid_1's rmse: 1.19879\n",
      "[200]\tvalid_0's rmse: 0.894481\tvalid_1's rmse: 1.07475\n",
      "[300]\tvalid_0's rmse: 0.781995\tvalid_1's rmse: 1.04307\n",
      "[400]\tvalid_0's rmse: 0.700992\tvalid_1's rmse: 1.03114\n",
      "[500]\tvalid_0's rmse: 0.634102\tvalid_1's rmse: 1.02366\n",
      "[600]\tvalid_0's rmse: 0.576929\tvalid_1's rmse: 1.01916\n",
      "[700]\tvalid_0's rmse: 0.527595\tvalid_1's rmse: 1.01712\n",
      "[800]\tvalid_0's rmse: 0.484493\tvalid_1's rmse: 1.01472\n",
      "[900]\tvalid_0's rmse: 0.446437\tvalid_1's rmse: 1.01369\n",
      "[1000]\tvalid_0's rmse: 0.413151\tvalid_1's rmse: 1.01268\n",
      "[1100]\tvalid_0's rmse: 0.383293\tvalid_1's rmse: 1.01164\n",
      "[1200]\tvalid_0's rmse: 0.357224\tvalid_1's rmse: 1.01164\n",
      "Early stopping, best iteration is:\n",
      "[1115]\tvalid_0's rmse: 0.379189\tvalid_1's rmse: 1.01157\n"
     ]
    },
    {
     "name": "stderr",
     "output_type": "stream",
     "text": [
      "regularization_factors, val_score: 1.007072:  80%|########  | 16/20 [08:47<02:04, 31.04s/it]\u001b[32m[I 2021-03-08 04:03:06,503]\u001b[0m Trial 55 finished with value: 1.0115678506709531 and parameters: {'lambda_l1': 0.00041639103293567557, 'lambda_l2': 0.2566678574319369}. Best is trial 44 with value: 1.0070718174863083.\u001b[0m\n",
      "regularization_factors, val_score: 1.007072:  80%|########  | 16/20 [08:47<02:04, 31.04s/it]"
     ]
    },
    {
     "name": "stdout",
     "output_type": "stream",
     "text": [
      "Training until validation scores don't improve for 100 rounds\n",
      "[100]\tvalid_0's rmse: 1.11305\tvalid_1's rmse: 1.19832\n",
      "[200]\tvalid_0's rmse: 0.892824\tvalid_1's rmse: 1.07377\n",
      "[300]\tvalid_0's rmse: 0.780523\tvalid_1's rmse: 1.04202\n",
      "[400]\tvalid_0's rmse: 0.699588\tvalid_1's rmse: 1.02977\n",
      "[500]\tvalid_0's rmse: 0.632875\tvalid_1's rmse: 1.02322\n",
      "[600]\tvalid_0's rmse: 0.575278\tvalid_1's rmse: 1.01921\n",
      "[700]\tvalid_0's rmse: 0.525968\tvalid_1's rmse: 1.01686\n",
      "[800]\tvalid_0's rmse: 0.483165\tvalid_1's rmse: 1.01545\n",
      "[900]\tvalid_0's rmse: 0.445022\tvalid_1's rmse: 1.01451\n",
      "[1000]\tvalid_0's rmse: 0.411434\tvalid_1's rmse: 1.01325\n",
      "[1100]\tvalid_0's rmse: 0.381506\tvalid_1's rmse: 1.01254\n",
      "[1200]\tvalid_0's rmse: 0.355473\tvalid_1's rmse: 1.0124\n",
      "[1300]\tvalid_0's rmse: 0.33169\tvalid_1's rmse: 1.01204\n",
      "[1400]\tvalid_0's rmse: 0.310647\tvalid_1's rmse: 1.01208\n",
      "[1500]\tvalid_0's rmse: 0.292161\tvalid_1's rmse: 1.012\n",
      "Early stopping, best iteration is:\n",
      "[1455]\tvalid_0's rmse: 0.300158\tvalid_1's rmse: 1.01165\n"
     ]
    },
    {
     "name": "stderr",
     "output_type": "stream",
     "text": [
      "regularization_factors, val_score: 1.007072:  85%|########5 | 17/20 [09:22<01:36, 32.12s/it]\u001b[32m[I 2021-03-08 04:03:41,153]\u001b[0m Trial 56 finished with value: 1.0116466190037885 and parameters: {'lambda_l1': 0.021412484914974047, 'lambda_l2': 0.00258467170785176}. Best is trial 44 with value: 1.0070718174863083.\u001b[0m\n",
      "regularization_factors, val_score: 1.007072:  85%|########5 | 17/20 [09:22<01:36, 32.12s/it]"
     ]
    },
    {
     "name": "stdout",
     "output_type": "stream",
     "text": [
      "Training until validation scores don't improve for 100 rounds\n",
      "[100]\tvalid_0's rmse: 1.11572\tvalid_1's rmse: 1.19903\n",
      "[200]\tvalid_0's rmse: 0.895771\tvalid_1's rmse: 1.07452\n",
      "[300]\tvalid_0's rmse: 0.783933\tvalid_1's rmse: 1.04295\n",
      "[400]\tvalid_0's rmse: 0.703418\tvalid_1's rmse: 1.0304\n",
      "[500]\tvalid_0's rmse: 0.637509\tvalid_1's rmse: 1.02266\n",
      "[600]\tvalid_0's rmse: 0.580739\tvalid_1's rmse: 1.01787\n",
      "[700]\tvalid_0's rmse: 0.531783\tvalid_1's rmse: 1.01468\n",
      "[800]\tvalid_0's rmse: 0.489043\tvalid_1's rmse: 1.01254\n",
      "[900]\tvalid_0's rmse: 0.45108\tvalid_1's rmse: 1.01145\n",
      "[1000]\tvalid_0's rmse: 0.4176\tvalid_1's rmse: 1.0103\n",
      "[1100]\tvalid_0's rmse: 0.387603\tvalid_1's rmse: 1.00914\n",
      "[1200]\tvalid_0's rmse: 0.361336\tvalid_1's rmse: 1.00892\n",
      "[1300]\tvalid_0's rmse: 0.337507\tvalid_1's rmse: 1.00865\n",
      "[1400]\tvalid_0's rmse: 0.316305\tvalid_1's rmse: 1.00846\n",
      "[1500]\tvalid_0's rmse: 0.297431\tvalid_1's rmse: 1.00819\n",
      "[1600]\tvalid_0's rmse: 0.280355\tvalid_1's rmse: 1.00798\n",
      "[1700]\tvalid_0's rmse: 0.26479\tvalid_1's rmse: 1.00789\n",
      "[1800]\tvalid_0's rmse: 0.2509\tvalid_1's rmse: 1.00785\n",
      "[1900]\tvalid_0's rmse: 0.238264\tvalid_1's rmse: 1.00764\n",
      "[2000]\tvalid_0's rmse: 0.226871\tvalid_1's rmse: 1.0076\n",
      "Early stopping, best iteration is:\n",
      "[1914]\tvalid_0's rmse: 0.236548\tvalid_1's rmse: 1.00755\n"
     ]
    },
    {
     "name": "stderr",
     "output_type": "stream",
     "text": [
      "regularization_factors, val_score: 1.007072:  90%|######### | 18/20 [10:06<01:11, 35.86s/it]\u001b[32m[I 2021-03-08 04:04:25,730]\u001b[0m Trial 57 finished with value: 1.0075520905182354 and parameters: {'lambda_l1': 0.6289390835948867, 'lambda_l2': 1.0849592741869527e-08}. Best is trial 44 with value: 1.0070718174863083.\u001b[0m\n",
      "regularization_factors, val_score: 1.007072:  90%|######### | 18/20 [10:06<01:11, 35.86s/it]"
     ]
    },
    {
     "name": "stdout",
     "output_type": "stream",
     "text": [
      "Training until validation scores don't improve for 100 rounds\n",
      "[100]\tvalid_0's rmse: 1.11322\tvalid_1's rmse: 1.19786\n",
      "[200]\tvalid_0's rmse: 0.892762\tvalid_1's rmse: 1.07319\n",
      "[300]\tvalid_0's rmse: 0.780688\tvalid_1's rmse: 1.04163\n",
      "[400]\tvalid_0's rmse: 0.699882\tvalid_1's rmse: 1.02878\n",
      "[500]\tvalid_0's rmse: 0.633278\tvalid_1's rmse: 1.02266\n",
      "[600]\tvalid_0's rmse: 0.575966\tvalid_1's rmse: 1.01915\n",
      "[700]\tvalid_0's rmse: 0.526401\tvalid_1's rmse: 1.01629\n",
      "[800]\tvalid_0's rmse: 0.483528\tvalid_1's rmse: 1.01404\n",
      "[900]\tvalid_0's rmse: 0.445306\tvalid_1's rmse: 1.01214\n",
      "[1000]\tvalid_0's rmse: 0.41198\tvalid_1's rmse: 1.01166\n",
      "[1100]\tvalid_0's rmse: 0.382122\tvalid_1's rmse: 1.01104\n",
      "[1200]\tvalid_0's rmse: 0.356014\tvalid_1's rmse: 1.0109\n",
      "[1300]\tvalid_0's rmse: 0.332319\tvalid_1's rmse: 1.0106\n",
      "[1400]\tvalid_0's rmse: 0.311211\tvalid_1's rmse: 1.01027\n",
      "[1500]\tvalid_0's rmse: 0.292442\tvalid_1's rmse: 1.01037\n",
      "Early stopping, best iteration is:\n",
      "[1445]\tvalid_0's rmse: 0.302504\tvalid_1's rmse: 1.01006\n"
     ]
    },
    {
     "name": "stderr",
     "output_type": "stream",
     "text": [
      "regularization_factors, val_score: 1.007072:  95%|#########5| 19/20 [10:39<00:35, 35.03s/it]\u001b[32m[I 2021-03-08 04:04:58,818]\u001b[0m Trial 58 finished with value: 1.0100623574989547 and parameters: {'lambda_l1': 1.733538066860617e-07, 'lambda_l2': 0.014190927708950083}. Best is trial 44 with value: 1.0070718174863083.\u001b[0m\n",
      "regularization_factors, val_score: 1.007072:  95%|#########5| 19/20 [10:39<00:35, 35.03s/it]"
     ]
    },
    {
     "name": "stdout",
     "output_type": "stream",
     "text": [
      "Training until validation scores don't improve for 100 rounds\n",
      "[100]\tvalid_0's rmse: 1.16527\tvalid_1's rmse: 1.21657\n",
      "[200]\tvalid_0's rmse: 0.964749\tvalid_1's rmse: 1.09212\n",
      "[300]\tvalid_0's rmse: 0.861157\tvalid_1's rmse: 1.05854\n",
      "[400]\tvalid_0's rmse: 0.790209\tvalid_1's rmse: 1.04498\n",
      "[500]\tvalid_0's rmse: 0.733418\tvalid_1's rmse: 1.03694\n",
      "[600]\tvalid_0's rmse: 0.684484\tvalid_1's rmse: 1.03213\n",
      "[700]\tvalid_0's rmse: 0.642575\tvalid_1's rmse: 1.02822\n",
      "[800]\tvalid_0's rmse: 0.60535\tvalid_1's rmse: 1.02584\n",
      "[900]\tvalid_0's rmse: 0.572111\tvalid_1's rmse: 1.02349\n",
      "[1000]\tvalid_0's rmse: 0.541993\tvalid_1's rmse: 1.02232\n",
      "[1100]\tvalid_0's rmse: 0.515014\tvalid_1's rmse: 1.02085\n",
      "[1200]\tvalid_0's rmse: 0.490729\tvalid_1's rmse: 1.02003\n",
      "[1300]\tvalid_0's rmse: 0.468402\tvalid_1's rmse: 1.01938\n",
      "[1400]\tvalid_0's rmse: 0.448321\tvalid_1's rmse: 1.01896\n",
      "[1500]\tvalid_0's rmse: 0.429901\tvalid_1's rmse: 1.01854\n",
      "[1600]\tvalid_0's rmse: 0.41283\tvalid_1's rmse: 1.0182\n",
      "[1700]\tvalid_0's rmse: 0.397149\tvalid_1's rmse: 1.01777\n",
      "[1800]\tvalid_0's rmse: 0.382663\tvalid_1's rmse: 1.01761\n",
      "[1900]\tvalid_0's rmse: 0.369322\tvalid_1's rmse: 1.01734\n",
      "Early stopping, best iteration is:\n",
      "[1897]\tvalid_0's rmse: 0.369699\tvalid_1's rmse: 1.0173\n"
     ]
    },
    {
     "name": "stderr",
     "output_type": "stream",
     "text": [
      "regularization_factors, val_score: 1.007072: 100%|##########| 20/20 [11:12<00:00, 34.36s/it]\u001b[32m[I 2021-03-08 04:05:31,619]\u001b[0m Trial 59 finished with value: 1.0173049526912004 and parameters: {'lambda_l1': 9.931479062572981, 'lambda_l2': 6.989192959771446e-05}. Best is trial 44 with value: 1.0070718174863083.\u001b[0m\n",
      "regularization_factors, val_score: 1.007072: 100%|##########| 20/20 [11:12<00:00, 33.64s/it]\n",
      "min_data_in_leaf, val_score: 1.007072:   0%|          | 0/5 [00:00<?, ?it/s]"
     ]
    },
    {
     "name": "stdout",
     "output_type": "stream",
     "text": [
      "Training until validation scores don't improve for 100 rounds\n",
      "[100]\tvalid_0's rmse: 1.11423\tvalid_1's rmse: 1.19742\n",
      "[200]\tvalid_0's rmse: 0.893889\tvalid_1's rmse: 1.07335\n",
      "[300]\tvalid_0's rmse: 0.781403\tvalid_1's rmse: 1.04109\n",
      "[400]\tvalid_0's rmse: 0.700585\tvalid_1's rmse: 1.02837\n",
      "[500]\tvalid_0's rmse: 0.633988\tvalid_1's rmse: 1.02109\n",
      "[600]\tvalid_0's rmse: 0.576778\tvalid_1's rmse: 1.01685\n",
      "[700]\tvalid_0's rmse: 0.527674\tvalid_1's rmse: 1.01398\n",
      "[800]\tvalid_0's rmse: 0.484578\tvalid_1's rmse: 1.01134\n",
      "[900]\tvalid_0's rmse: 0.446545\tvalid_1's rmse: 1.00962\n",
      "[1000]\tvalid_0's rmse: 0.412765\tvalid_1's rmse: 1.00875\n",
      "[1100]\tvalid_0's rmse: 0.383013\tvalid_1's rmse: 1.00783\n",
      "[1200]\tvalid_0's rmse: 0.356642\tvalid_1's rmse: 1.00765\n",
      "[1300]\tvalid_0's rmse: 0.33291\tvalid_1's rmse: 1.00722\n",
      "Early stopping, best iteration is:\n",
      "[1289]\tvalid_0's rmse: 0.33535\tvalid_1's rmse: 1.00707\n"
     ]
    },
    {
     "name": "stderr",
     "output_type": "stream",
     "text": [
      "min_data_in_leaf, val_score: 1.007072:  20%|##        | 1/5 [00:32<02:09, 32.34s/it]\u001b[32m[I 2021-03-08 04:06:03,998]\u001b[0m Trial 60 finished with value: 1.0070718174863083 and parameters: {'min_child_samples': 5}. Best is trial 60 with value: 1.0070718174863083.\u001b[0m\n",
      "min_data_in_leaf, val_score: 1.007072:  20%|##        | 1/5 [00:32<02:09, 32.34s/it]"
     ]
    },
    {
     "name": "stdout",
     "output_type": "stream",
     "text": [
      "Training until validation scores don't improve for 100 rounds\n",
      "[100]\tvalid_0's rmse: 1.11423\tvalid_1's rmse: 1.19742\n",
      "[200]\tvalid_0's rmse: 0.893889\tvalid_1's rmse: 1.07335\n",
      "[300]\tvalid_0's rmse: 0.781403\tvalid_1's rmse: 1.04109\n",
      "[400]\tvalid_0's rmse: 0.700585\tvalid_1's rmse: 1.02837\n",
      "[500]\tvalid_0's rmse: 0.633988\tvalid_1's rmse: 1.02109\n",
      "[600]\tvalid_0's rmse: 0.576778\tvalid_1's rmse: 1.01685\n",
      "[700]\tvalid_0's rmse: 0.527674\tvalid_1's rmse: 1.01398\n",
      "[800]\tvalid_0's rmse: 0.484578\tvalid_1's rmse: 1.01134\n",
      "[900]\tvalid_0's rmse: 0.446545\tvalid_1's rmse: 1.00962\n",
      "[1000]\tvalid_0's rmse: 0.412765\tvalid_1's rmse: 1.00875\n",
      "[1100]\tvalid_0's rmse: 0.383013\tvalid_1's rmse: 1.00783\n",
      "[1200]\tvalid_0's rmse: 0.356642\tvalid_1's rmse: 1.00765\n",
      "[1300]\tvalid_0's rmse: 0.33291\tvalid_1's rmse: 1.00722\n",
      "Early stopping, best iteration is:\n",
      "[1289]\tvalid_0's rmse: 0.33535\tvalid_1's rmse: 1.00707\n"
     ]
    },
    {
     "name": "stderr",
     "output_type": "stream",
     "text": [
      "min_data_in_leaf, val_score: 1.007072:  40%|####      | 2/5 [01:03<01:35, 31.88s/it]\u001b[32m[I 2021-03-08 04:06:34,812]\u001b[0m Trial 61 finished with value: 1.0070718174863083 and parameters: {'min_child_samples': 50}. Best is trial 60 with value: 1.0070718174863083.\u001b[0m\n",
      "min_data_in_leaf, val_score: 1.007072:  40%|####      | 2/5 [01:03<01:35, 31.88s/it]"
     ]
    },
    {
     "name": "stdout",
     "output_type": "stream",
     "text": [
      "Training until validation scores don't improve for 100 rounds\n",
      "[100]\tvalid_0's rmse: 1.11423\tvalid_1's rmse: 1.19742\n",
      "[200]\tvalid_0's rmse: 0.893889\tvalid_1's rmse: 1.07335\n",
      "[300]\tvalid_0's rmse: 0.781403\tvalid_1's rmse: 1.04109\n",
      "[400]\tvalid_0's rmse: 0.700585\tvalid_1's rmse: 1.02837\n",
      "[500]\tvalid_0's rmse: 0.633988\tvalid_1's rmse: 1.02109\n",
      "[600]\tvalid_0's rmse: 0.576778\tvalid_1's rmse: 1.01685\n",
      "[700]\tvalid_0's rmse: 0.527674\tvalid_1's rmse: 1.01398\n",
      "[800]\tvalid_0's rmse: 0.484578\tvalid_1's rmse: 1.01134\n",
      "[900]\tvalid_0's rmse: 0.446545\tvalid_1's rmse: 1.00962\n",
      "[1000]\tvalid_0's rmse: 0.412765\tvalid_1's rmse: 1.00875\n",
      "[1100]\tvalid_0's rmse: 0.383013\tvalid_1's rmse: 1.00783\n",
      "[1200]\tvalid_0's rmse: 0.356642\tvalid_1's rmse: 1.00765\n",
      "[1300]\tvalid_0's rmse: 0.33291\tvalid_1's rmse: 1.00722\n",
      "Early stopping, best iteration is:\n",
      "[1289]\tvalid_0's rmse: 0.33535\tvalid_1's rmse: 1.00707\n"
     ]
    },
    {
     "name": "stderr",
     "output_type": "stream",
     "text": [
      "min_data_in_leaf, val_score: 1.007072:  60%|######    | 3/5 [01:35<01:03, 31.87s/it]\u001b[32m[I 2021-03-08 04:07:06,660]\u001b[0m Trial 62 finished with value: 1.0070718174863083 and parameters: {'min_child_samples': 100}. Best is trial 60 with value: 1.0070718174863083.\u001b[0m\n",
      "min_data_in_leaf, val_score: 1.007072:  60%|######    | 3/5 [01:35<01:03, 31.87s/it]"
     ]
    },
    {
     "name": "stdout",
     "output_type": "stream",
     "text": [
      "Training until validation scores don't improve for 100 rounds\n",
      "[100]\tvalid_0's rmse: 1.11423\tvalid_1's rmse: 1.19742\n",
      "[200]\tvalid_0's rmse: 0.893889\tvalid_1's rmse: 1.07335\n",
      "[300]\tvalid_0's rmse: 0.781403\tvalid_1's rmse: 1.04109\n",
      "[400]\tvalid_0's rmse: 0.700585\tvalid_1's rmse: 1.02837\n",
      "[500]\tvalid_0's rmse: 0.633988\tvalid_1's rmse: 1.02109\n",
      "[600]\tvalid_0's rmse: 0.576778\tvalid_1's rmse: 1.01685\n",
      "[700]\tvalid_0's rmse: 0.527674\tvalid_1's rmse: 1.01398\n",
      "[800]\tvalid_0's rmse: 0.484578\tvalid_1's rmse: 1.01134\n",
      "[900]\tvalid_0's rmse: 0.446545\tvalid_1's rmse: 1.00962\n",
      "[1000]\tvalid_0's rmse: 0.412765\tvalid_1's rmse: 1.00875\n",
      "[1100]\tvalid_0's rmse: 0.383013\tvalid_1's rmse: 1.00783\n",
      "[1200]\tvalid_0's rmse: 0.356642\tvalid_1's rmse: 1.00765\n",
      "[1300]\tvalid_0's rmse: 0.33291\tvalid_1's rmse: 1.00722\n",
      "Early stopping, best iteration is:\n",
      "[1289]\tvalid_0's rmse: 0.33535\tvalid_1's rmse: 1.00707\n"
     ]
    },
    {
     "name": "stderr",
     "output_type": "stream",
     "text": [
      "min_data_in_leaf, val_score: 1.007072:  80%|########  | 4/5 [02:06<00:31, 31.73s/it]\u001b[32m[I 2021-03-08 04:07:38,067]\u001b[0m Trial 63 finished with value: 1.0070718174863083 and parameters: {'min_child_samples': 10}. Best is trial 60 with value: 1.0070718174863083.\u001b[0m\n",
      "min_data_in_leaf, val_score: 1.007072:  80%|########  | 4/5 [02:06<00:31, 31.73s/it]"
     ]
    },
    {
     "name": "stdout",
     "output_type": "stream",
     "text": [
      "Training until validation scores don't improve for 100 rounds\n",
      "[100]\tvalid_0's rmse: 1.11423\tvalid_1's rmse: 1.19742\n",
      "[200]\tvalid_0's rmse: 0.893889\tvalid_1's rmse: 1.07335\n",
      "[300]\tvalid_0's rmse: 0.781403\tvalid_1's rmse: 1.04109\n",
      "[400]\tvalid_0's rmse: 0.700585\tvalid_1's rmse: 1.02837\n",
      "[500]\tvalid_0's rmse: 0.633988\tvalid_1's rmse: 1.02109\n",
      "[600]\tvalid_0's rmse: 0.576778\tvalid_1's rmse: 1.01685\n",
      "[700]\tvalid_0's rmse: 0.527674\tvalid_1's rmse: 1.01398\n",
      "[800]\tvalid_0's rmse: 0.484578\tvalid_1's rmse: 1.01134\n",
      "[900]\tvalid_0's rmse: 0.446545\tvalid_1's rmse: 1.00962\n",
      "[1000]\tvalid_0's rmse: 0.412765\tvalid_1's rmse: 1.00875\n",
      "[1100]\tvalid_0's rmse: 0.383013\tvalid_1's rmse: 1.00783\n",
      "[1200]\tvalid_0's rmse: 0.356642\tvalid_1's rmse: 1.00765\n",
      "[1300]\tvalid_0's rmse: 0.33291\tvalid_1's rmse: 1.00722\n",
      "Early stopping, best iteration is:\n",
      "[1289]\tvalid_0's rmse: 0.33535\tvalid_1's rmse: 1.00707\n"
     ]
    },
    {
     "name": "stderr",
     "output_type": "stream",
     "text": [
      "min_data_in_leaf, val_score: 1.007072: 100%|##########| 5/5 [02:37<00:00, 31.62s/it]\u001b[32m[I 2021-03-08 04:08:09,436]\u001b[0m Trial 64 finished with value: 1.0070718174863083 and parameters: {'min_child_samples': 25}. Best is trial 60 with value: 1.0070718174863083.\u001b[0m\n",
      "min_data_in_leaf, val_score: 1.007072: 100%|##########| 5/5 [02:37<00:00, 31.56s/it]\n",
      "\u001b[32m[I 2021-03-08 04:08:10,238]\u001b[0m A new study created in memory with name: no-name-7f1a773c-8da9-4813-b3d6-feefa28c69a5\u001b[0m\n",
      "feature_fraction, val_score: inf:   0%|          | 0/7 [00:00<?, ?it/s]"
     ]
    },
    {
     "name": "stdout",
     "output_type": "stream",
     "text": [
      "Fold 2 rmsle: 1.0071\n",
      "--------------FOLDS : 3 --------------\n"
     ]
    },
    {
     "name": "stderr",
     "output_type": "stream",
     "text": [
      "/Users/shinichiro.saito/opt/anaconda3/lib/python3.8/site-packages/lightgbm/engine.py:151: UserWarning: Found `num_boost_round` in params. Will use it instead of argument\n",
      "  warnings.warn(\"Found `{}` in params. Will use it instead of argument\".format(alias))\n",
      "/Users/shinichiro.saito/opt/anaconda3/lib/python3.8/site-packages/lightgbm/engine.py:156: UserWarning: Found `early_stopping_rounds` in params. Will use it instead of argument\n",
      "  warnings.warn(\"Found `{}` in params. Will use it instead of argument\".format(alias))\n",
      "/Users/shinichiro.saito/opt/anaconda3/lib/python3.8/site-packages/lightgbm/basic.py:1554: UserWarning: categorical_feature in Dataset is overridden.\n",
      "New categorical_feature is ['acquisition_method', 'art_series_id', 'copyright_holder', 'principal_maker', 'principal_or_first_maker']\n",
      "  warnings.warn('categorical_feature in Dataset is overridden.\\n'\n"
     ]
    },
    {
     "name": "stdout",
     "output_type": "stream",
     "text": [
      "[LightGBM] [Warning] min_data_in_leaf is set=10, min_child_samples=20 will be ignored. Current value: min_data_in_leaf=10\n"
     ]
    },
    {
     "name": "stderr",
     "output_type": "stream",
     "text": [
      "/Users/shinichiro.saito/opt/anaconda3/lib/python3.8/site-packages/lightgbm/basic.py:1286: UserWarning: Overriding the parameters from Reference Dataset.\n",
      "  warnings.warn('Overriding the parameters from Reference Dataset.')\n",
      "/Users/shinichiro.saito/opt/anaconda3/lib/python3.8/site-packages/lightgbm/basic.py:1098: UserWarning: categorical_column in param dict is overridden.\n",
      "  warnings.warn('{} in param dict is overridden.'.format(cat_alias))\n"
     ]
    },
    {
     "name": "stdout",
     "output_type": "stream",
     "text": [
      "Training until validation scores don't improve for 100 rounds\n",
      "[100]\tvalid_0's rmse: 1.19046\tvalid_1's rmse: 1.2448\n",
      "[200]\tvalid_0's rmse: 1.0303\tvalid_1's rmse: 1.13803\n",
      "[300]\tvalid_0's rmse: 0.960065\tvalid_1's rmse: 1.10927\n",
      "[400]\tvalid_0's rmse: 0.91061\tvalid_1's rmse: 1.09641\n",
      "[500]\tvalid_0's rmse: 0.868742\tvalid_1's rmse: 1.08718\n",
      "[600]\tvalid_0's rmse: 0.832102\tvalid_1's rmse: 1.07983\n",
      "[700]\tvalid_0's rmse: 0.799322\tvalid_1's rmse: 1.07483\n",
      "[800]\tvalid_0's rmse: 0.768838\tvalid_1's rmse: 1.07039\n",
      "[900]\tvalid_0's rmse: 0.741154\tvalid_1's rmse: 1.06548\n",
      "[1000]\tvalid_0's rmse: 0.715235\tvalid_1's rmse: 1.06251\n",
      "[1100]\tvalid_0's rmse: 0.690928\tvalid_1's rmse: 1.05922\n",
      "[1200]\tvalid_0's rmse: 0.66832\tvalid_1's rmse: 1.05728\n",
      "[1300]\tvalid_0's rmse: 0.64657\tvalid_1's rmse: 1.05536\n",
      "[1400]\tvalid_0's rmse: 0.626245\tvalid_1's rmse: 1.05313\n",
      "[1500]\tvalid_0's rmse: 0.607394\tvalid_1's rmse: 1.05219\n",
      "[1600]\tvalid_0's rmse: 0.589219\tvalid_1's rmse: 1.0506\n",
      "[1700]\tvalid_0's rmse: 0.57189\tvalid_1's rmse: 1.0488\n",
      "[1800]\tvalid_0's rmse: 0.555376\tvalid_1's rmse: 1.04759\n",
      "[1900]\tvalid_0's rmse: 0.53971\tvalid_1's rmse: 1.04673\n",
      "[2000]\tvalid_0's rmse: 0.525019\tvalid_1's rmse: 1.04587\n",
      "[2100]\tvalid_0's rmse: 0.510854\tvalid_1's rmse: 1.04519\n",
      "[2200]\tvalid_0's rmse: 0.49714\tvalid_1's rmse: 1.0444\n",
      "[2300]\tvalid_0's rmse: 0.48414\tvalid_1's rmse: 1.04373\n",
      "[2400]\tvalid_0's rmse: 0.471571\tvalid_1's rmse: 1.0427\n",
      "[2500]\tvalid_0's rmse: 0.459799\tvalid_1's rmse: 1.04235\n",
      "[2600]\tvalid_0's rmse: 0.448301\tvalid_1's rmse: 1.0419\n",
      "[2700]\tvalid_0's rmse: 0.43718\tvalid_1's rmse: 1.0414\n",
      "[2800]\tvalid_0's rmse: 0.426555\tvalid_1's rmse: 1.04115\n",
      "[2900]\tvalid_0's rmse: 0.416242\tvalid_1's rmse: 1.0412\n",
      "[3000]\tvalid_0's rmse: 0.406236\tvalid_1's rmse: 1.0409\n",
      "[3100]\tvalid_0's rmse: 0.396608\tvalid_1's rmse: 1.04057\n",
      "[3200]\tvalid_0's rmse: 0.387526\tvalid_1's rmse: 1.04056\n",
      "[3300]\tvalid_0's rmse: 0.378794\tvalid_1's rmse: 1.04049\n",
      "Early stopping, best iteration is:\n",
      "[3220]\tvalid_0's rmse: 0.385725\tvalid_1's rmse: 1.04042\n"
     ]
    },
    {
     "name": "stderr",
     "output_type": "stream",
     "text": [
      "feature_fraction, val_score: 1.040421:  14%|#4        | 1/7 [00:36<03:37, 36.22s/it]\u001b[32m[I 2021-03-08 04:08:46,462]\u001b[0m Trial 0 finished with value: 1.0404209591861184 and parameters: {'feature_fraction': 0.5}. Best is trial 0 with value: 1.0404209591861184.\u001b[0m\n",
      "feature_fraction, val_score: 1.040421:  14%|#4        | 1/7 [00:36<03:37, 36.22s/it]"
     ]
    },
    {
     "name": "stdout",
     "output_type": "stream",
     "text": [
      "Training until validation scores don't improve for 100 rounds\n",
      "[100]\tvalid_0's rmse: 1.19619\tvalid_1's rmse: 1.25018\n",
      "[200]\tvalid_0's rmse: 1.03434\tvalid_1's rmse: 1.13891\n",
      "[300]\tvalid_0's rmse: 0.964394\tvalid_1's rmse: 1.10899\n",
      "[400]\tvalid_0's rmse: 0.91549\tvalid_1's rmse: 1.09666\n",
      "[500]\tvalid_0's rmse: 0.874311\tvalid_1's rmse: 1.08695\n",
      "[600]\tvalid_0's rmse: 0.838508\tvalid_1's rmse: 1.08076\n",
      "[700]\tvalid_0's rmse: 0.805825\tvalid_1's rmse: 1.07441\n",
      "[800]\tvalid_0's rmse: 0.775752\tvalid_1's rmse: 1.06969\n",
      "[900]\tvalid_0's rmse: 0.748035\tvalid_1's rmse: 1.06586\n",
      "[1000]\tvalid_0's rmse: 0.721929\tvalid_1's rmse: 1.06196\n",
      "[1100]\tvalid_0's rmse: 0.697713\tvalid_1's rmse: 1.05903\n",
      "[1200]\tvalid_0's rmse: 0.674785\tvalid_1's rmse: 1.05648\n",
      "[1300]\tvalid_0's rmse: 0.653458\tvalid_1's rmse: 1.05383\n",
      "[1400]\tvalid_0's rmse: 0.633247\tvalid_1's rmse: 1.05133\n",
      "[1500]\tvalid_0's rmse: 0.614207\tvalid_1's rmse: 1.04956\n",
      "[1600]\tvalid_0's rmse: 0.59616\tvalid_1's rmse: 1.04816\n",
      "[1700]\tvalid_0's rmse: 0.579296\tvalid_1's rmse: 1.04736\n",
      "[1800]\tvalid_0's rmse: 0.56293\tvalid_1's rmse: 1.04627\n",
      "[1900]\tvalid_0's rmse: 0.54721\tvalid_1's rmse: 1.04492\n",
      "[2000]\tvalid_0's rmse: 0.532563\tvalid_1's rmse: 1.04386\n",
      "[2100]\tvalid_0's rmse: 0.518293\tvalid_1's rmse: 1.04313\n",
      "[2200]\tvalid_0's rmse: 0.504679\tvalid_1's rmse: 1.04258\n",
      "[2300]\tvalid_0's rmse: 0.491778\tvalid_1's rmse: 1.04213\n",
      "[2400]\tvalid_0's rmse: 0.479294\tvalid_1's rmse: 1.04142\n",
      "[2500]\tvalid_0's rmse: 0.467136\tvalid_1's rmse: 1.04068\n",
      "[2600]\tvalid_0's rmse: 0.455478\tvalid_1's rmse: 1.04008\n",
      "[2700]\tvalid_0's rmse: 0.444255\tvalid_1's rmse: 1.03982\n",
      "[2800]\tvalid_0's rmse: 0.433537\tvalid_1's rmse: 1.03933\n",
      "[2900]\tvalid_0's rmse: 0.423207\tvalid_1's rmse: 1.03892\n",
      "[3000]\tvalid_0's rmse: 0.413363\tvalid_1's rmse: 1.03879\n",
      "[3100]\tvalid_0's rmse: 0.403635\tvalid_1's rmse: 1.03829\n",
      "[3200]\tvalid_0's rmse: 0.394458\tvalid_1's rmse: 1.03824\n",
      "Early stopping, best iteration is:\n",
      "[3132]\tvalid_0's rmse: 0.40066\tvalid_1's rmse: 1.03819\n"
     ]
    },
    {
     "name": "stderr",
     "output_type": "stream",
     "text": [
      "feature_fraction, val_score: 1.038188:  29%|##8       | 2/7 [01:05<02:51, 34.20s/it]\u001b[32m[I 2021-03-08 04:09:15,967]\u001b[0m Trial 1 finished with value: 1.0381879434682841 and parameters: {'feature_fraction': 0.4}. Best is trial 1 with value: 1.0381879434682841.\u001b[0m\n",
      "feature_fraction, val_score: 1.038188:  29%|##8       | 2/7 [01:05<02:51, 34.20s/it]"
     ]
    },
    {
     "name": "stdout",
     "output_type": "stream",
     "text": [
      "Training until validation scores don't improve for 100 rounds\n",
      "[100]\tvalid_0's rmse: 1.1881\tvalid_1's rmse: 1.24177\n",
      "[200]\tvalid_0's rmse: 1.02684\tvalid_1's rmse: 1.13497\n",
      "[300]\tvalid_0's rmse: 0.956278\tvalid_1's rmse: 1.10834\n",
      "[400]\tvalid_0's rmse: 0.906562\tvalid_1's rmse: 1.09527\n",
      "[500]\tvalid_0's rmse: 0.86449\tvalid_1's rmse: 1.08654\n",
      "[600]\tvalid_0's rmse: 0.827867\tvalid_1's rmse: 1.07999\n",
      "[700]\tvalid_0's rmse: 0.79458\tvalid_1's rmse: 1.07444\n",
      "[800]\tvalid_0's rmse: 0.764041\tvalid_1's rmse: 1.07043\n",
      "[900]\tvalid_0's rmse: 0.735863\tvalid_1's rmse: 1.06593\n",
      "[1000]\tvalid_0's rmse: 0.709501\tvalid_1's rmse: 1.06243\n",
      "[1100]\tvalid_0's rmse: 0.68509\tvalid_1's rmse: 1.05912\n",
      "[1200]\tvalid_0's rmse: 0.662432\tvalid_1's rmse: 1.05676\n",
      "[1300]\tvalid_0's rmse: 0.640938\tvalid_1's rmse: 1.05491\n",
      "[1400]\tvalid_0's rmse: 0.620513\tvalid_1's rmse: 1.05265\n",
      "[1500]\tvalid_0's rmse: 0.601384\tvalid_1's rmse: 1.05174\n",
      "[1600]\tvalid_0's rmse: 0.583155\tvalid_1's rmse: 1.05033\n",
      "[1700]\tvalid_0's rmse: 0.56605\tvalid_1's rmse: 1.04913\n",
      "[1800]\tvalid_0's rmse: 0.549586\tvalid_1's rmse: 1.04797\n",
      "[1900]\tvalid_0's rmse: 0.534002\tvalid_1's rmse: 1.04679\n",
      "[2000]\tvalid_0's rmse: 0.519135\tvalid_1's rmse: 1.04575\n",
      "[2100]\tvalid_0's rmse: 0.505113\tvalid_1's rmse: 1.0449\n",
      "[2200]\tvalid_0's rmse: 0.491372\tvalid_1's rmse: 1.04442\n",
      "[2300]\tvalid_0's rmse: 0.47845\tvalid_1's rmse: 1.04363\n",
      "[2400]\tvalid_0's rmse: 0.465949\tvalid_1's rmse: 1.04299\n",
      "[2500]\tvalid_0's rmse: 0.454009\tvalid_1's rmse: 1.04201\n",
      "[2600]\tvalid_0's rmse: 0.442487\tvalid_1's rmse: 1.04171\n",
      "[2700]\tvalid_0's rmse: 0.431268\tvalid_1's rmse: 1.04108\n",
      "[2800]\tvalid_0's rmse: 0.420602\tvalid_1's rmse: 1.0408\n",
      "[2900]\tvalid_0's rmse: 0.410324\tvalid_1's rmse: 1.04067\n",
      "[3000]\tvalid_0's rmse: 0.400189\tvalid_1's rmse: 1.04045\n",
      "[3100]\tvalid_0's rmse: 0.390456\tvalid_1's rmse: 1.04019\n",
      "[3200]\tvalid_0's rmse: 0.381384\tvalid_1's rmse: 1.04001\n",
      "[3300]\tvalid_0's rmse: 0.372707\tvalid_1's rmse: 1.04019\n",
      "Early stopping, best iteration is:\n",
      "[3216]\tvalid_0's rmse: 0.379936\tvalid_1's rmse: 1.03982\n"
     ]
    },
    {
     "name": "stderr",
     "output_type": "stream",
     "text": [
      "feature_fraction, val_score: 1.038188:  43%|####2     | 3/7 [01:48<02:26, 36.67s/it]\u001b[32m[I 2021-03-08 04:09:58,396]\u001b[0m Trial 2 finished with value: 1.0398225233383185 and parameters: {'feature_fraction': 0.6}. Best is trial 1 with value: 1.0381879434682841.\u001b[0m\n",
      "feature_fraction, val_score: 1.038188:  43%|####2     | 3/7 [01:48<02:26, 36.67s/it]"
     ]
    },
    {
     "name": "stdout",
     "output_type": "stream",
     "text": [
      "Training until validation scores don't improve for 100 rounds\n",
      "[100]\tvalid_0's rmse: 1.18414\tvalid_1's rmse: 1.23723\n",
      "[200]\tvalid_0's rmse: 1.022\tvalid_1's rmse: 1.13287\n",
      "[300]\tvalid_0's rmse: 0.950637\tvalid_1's rmse: 1.10506\n",
      "[400]\tvalid_0's rmse: 0.89957\tvalid_1's rmse: 1.09243\n",
      "[500]\tvalid_0's rmse: 0.856673\tvalid_1's rmse: 1.08433\n",
      "[600]\tvalid_0's rmse: 0.819184\tvalid_1's rmse: 1.07727\n",
      "[700]\tvalid_0's rmse: 0.78481\tvalid_1's rmse: 1.07166\n",
      "[800]\tvalid_0's rmse: 0.753941\tvalid_1's rmse: 1.06779\n",
      "[900]\tvalid_0's rmse: 0.725097\tvalid_1's rmse: 1.06413\n",
      "[1000]\tvalid_0's rmse: 0.698583\tvalid_1's rmse: 1.06056\n",
      "[1100]\tvalid_0's rmse: 0.673763\tvalid_1's rmse: 1.05718\n",
      "[1200]\tvalid_0's rmse: 0.650681\tvalid_1's rmse: 1.05438\n",
      "[1300]\tvalid_0's rmse: 0.62913\tvalid_1's rmse: 1.05268\n",
      "[1400]\tvalid_0's rmse: 0.608714\tvalid_1's rmse: 1.05166\n",
      "[1500]\tvalid_0's rmse: 0.589832\tvalid_1's rmse: 1.05043\n",
      "[1600]\tvalid_0's rmse: 0.57143\tvalid_1's rmse: 1.04908\n",
      "[1700]\tvalid_0's rmse: 0.554034\tvalid_1's rmse: 1.0481\n",
      "[1800]\tvalid_0's rmse: 0.537497\tvalid_1's rmse: 1.04724\n",
      "[1900]\tvalid_0's rmse: 0.521675\tvalid_1's rmse: 1.04601\n",
      "[2000]\tvalid_0's rmse: 0.506671\tvalid_1's rmse: 1.04513\n",
      "[2100]\tvalid_0's rmse: 0.492335\tvalid_1's rmse: 1.04464\n",
      "[2200]\tvalid_0's rmse: 0.478622\tvalid_1's rmse: 1.04419\n",
      "[2300]\tvalid_0's rmse: 0.465433\tvalid_1's rmse: 1.04379\n",
      "[2400]\tvalid_0's rmse: 0.45284\tvalid_1's rmse: 1.04311\n",
      "[2500]\tvalid_0's rmse: 0.440851\tvalid_1's rmse: 1.04267\n",
      "[2600]\tvalid_0's rmse: 0.429168\tvalid_1's rmse: 1.0423\n",
      "[2700]\tvalid_0's rmse: 0.417968\tvalid_1's rmse: 1.04198\n",
      "[2800]\tvalid_0's rmse: 0.4075\tvalid_1's rmse: 1.0417\n",
      "[2900]\tvalid_0's rmse: 0.397406\tvalid_1's rmse: 1.04124\n",
      "[3000]\tvalid_0's rmse: 0.387555\tvalid_1's rmse: 1.04104\n",
      "[3100]\tvalid_0's rmse: 0.378158\tvalid_1's rmse: 1.04093\n",
      "[3200]\tvalid_0's rmse: 0.369202\tvalid_1's rmse: 1.04083\n",
      "Early stopping, best iteration is:\n",
      "[3166]\tvalid_0's rmse: 0.372132\tvalid_1's rmse: 1.0408\n"
     ]
    },
    {
     "name": "stderr",
     "output_type": "stream",
     "text": [
      "feature_fraction, val_score: 1.038188:  57%|#####7    | 4/7 [02:48<02:11, 43.72s/it]\u001b[32m[I 2021-03-08 04:10:58,568]\u001b[0m Trial 3 finished with value: 1.0408001086562124 and parameters: {'feature_fraction': 0.8999999999999999}. Best is trial 1 with value: 1.0381879434682841.\u001b[0m\n",
      "feature_fraction, val_score: 1.038188:  57%|#####7    | 4/7 [02:48<02:11, 43.72s/it]"
     ]
    },
    {
     "name": "stdout",
     "output_type": "stream",
     "text": [
      "Training until validation scores don't improve for 100 rounds\n",
      "[100]\tvalid_0's rmse: 1.18619\tvalid_1's rmse: 1.23977\n",
      "[200]\tvalid_0's rmse: 1.02474\tvalid_1's rmse: 1.1337\n",
      "[300]\tvalid_0's rmse: 0.954528\tvalid_1's rmse: 1.10635\n",
      "[400]\tvalid_0's rmse: 0.904642\tvalid_1's rmse: 1.09468\n",
      "[500]\tvalid_0's rmse: 0.862414\tvalid_1's rmse: 1.08683\n",
      "[600]\tvalid_0's rmse: 0.825033\tvalid_1's rmse: 1.08028\n",
      "[700]\tvalid_0's rmse: 0.791064\tvalid_1's rmse: 1.07472\n",
      "[800]\tvalid_0's rmse: 0.760392\tvalid_1's rmse: 1.07094\n",
      "[900]\tvalid_0's rmse: 0.732438\tvalid_1's rmse: 1.0675\n",
      "[1000]\tvalid_0's rmse: 0.705785\tvalid_1's rmse: 1.06379\n",
      "[1100]\tvalid_0's rmse: 0.681106\tvalid_1's rmse: 1.06075\n",
      "[1200]\tvalid_0's rmse: 0.65811\tvalid_1's rmse: 1.05797\n",
      "[1300]\tvalid_0's rmse: 0.636609\tvalid_1's rmse: 1.05589\n",
      "[1400]\tvalid_0's rmse: 0.616133\tvalid_1's rmse: 1.05349\n",
      "[1500]\tvalid_0's rmse: 0.59703\tvalid_1's rmse: 1.05207\n",
      "[1600]\tvalid_0's rmse: 0.578624\tvalid_1's rmse: 1.05079\n",
      "[1700]\tvalid_0's rmse: 0.561354\tvalid_1's rmse: 1.04948\n",
      "[1800]\tvalid_0's rmse: 0.54478\tvalid_1's rmse: 1.04817\n",
      "[1900]\tvalid_0's rmse: 0.529109\tvalid_1's rmse: 1.04664\n",
      "[2000]\tvalid_0's rmse: 0.514376\tvalid_1's rmse: 1.04601\n",
      "[2100]\tvalid_0's rmse: 0.499998\tvalid_1's rmse: 1.04555\n",
      "[2200]\tvalid_0's rmse: 0.486401\tvalid_1's rmse: 1.04517\n",
      "[2300]\tvalid_0's rmse: 0.473336\tvalid_1's rmse: 1.04452\n",
      "[2400]\tvalid_0's rmse: 0.460917\tvalid_1's rmse: 1.04387\n",
      "[2500]\tvalid_0's rmse: 0.448763\tvalid_1's rmse: 1.04335\n",
      "[2600]\tvalid_0's rmse: 0.437209\tvalid_1's rmse: 1.04279\n",
      "[2700]\tvalid_0's rmse: 0.425903\tvalid_1's rmse: 1.04264\n",
      "[2800]\tvalid_0's rmse: 0.415262\tvalid_1's rmse: 1.0421\n",
      "[2900]\tvalid_0's rmse: 0.404966\tvalid_1's rmse: 1.04176\n",
      "[3000]\tvalid_0's rmse: 0.395042\tvalid_1's rmse: 1.04145\n",
      "[3100]\tvalid_0's rmse: 0.38546\tvalid_1's rmse: 1.04112\n",
      "[3200]\tvalid_0's rmse: 0.376386\tvalid_1's rmse: 1.04094\n",
      "[3300]\tvalid_0's rmse: 0.367867\tvalid_1's rmse: 1.0409\n",
      "Early stopping, best iteration is:\n",
      "[3258]\tvalid_0's rmse: 0.371392\tvalid_1's rmse: 1.04074\n"
     ]
    },
    {
     "name": "stderr",
     "output_type": "stream",
     "text": [
      "feature_fraction, val_score: 1.038188:  71%|#######1  | 5/7 [03:37<01:30, 45.27s/it]\u001b[32m[I 2021-03-08 04:11:47,464]\u001b[0m Trial 4 finished with value: 1.0407355737893635 and parameters: {'feature_fraction': 0.7}. Best is trial 1 with value: 1.0381879434682841.\u001b[0m\n",
      "feature_fraction, val_score: 1.038188:  71%|#######1  | 5/7 [03:37<01:30, 45.27s/it]"
     ]
    },
    {
     "name": "stdout",
     "output_type": "stream",
     "text": [
      "Training until validation scores don't improve for 100 rounds\n",
      "[100]\tvalid_0's rmse: 1.18522\tvalid_1's rmse: 1.23868\n",
      "[200]\tvalid_0's rmse: 1.02341\tvalid_1's rmse: 1.13378\n",
      "[300]\tvalid_0's rmse: 0.952487\tvalid_1's rmse: 1.10726\n",
      "[400]\tvalid_0's rmse: 0.902066\tvalid_1's rmse: 1.09569\n",
      "[500]\tvalid_0's rmse: 0.859486\tvalid_1's rmse: 1.08723\n",
      "[600]\tvalid_0's rmse: 0.822017\tvalid_1's rmse: 1.08043\n",
      "[700]\tvalid_0's rmse: 0.788409\tvalid_1's rmse: 1.0744\n",
      "[800]\tvalid_0's rmse: 0.757637\tvalid_1's rmse: 1.07054\n",
      "[900]\tvalid_0's rmse: 0.729485\tvalid_1's rmse: 1.06664\n",
      "[1000]\tvalid_0's rmse: 0.702919\tvalid_1's rmse: 1.0631\n",
      "[1100]\tvalid_0's rmse: 0.678078\tvalid_1's rmse: 1.05968\n",
      "[1200]\tvalid_0's rmse: 0.655049\tvalid_1's rmse: 1.05743\n",
      "[1300]\tvalid_0's rmse: 0.633483\tvalid_1's rmse: 1.05513\n",
      "[1400]\tvalid_0's rmse: 0.61292\tvalid_1's rmse: 1.05298\n",
      "[1500]\tvalid_0's rmse: 0.593861\tvalid_1's rmse: 1.05152\n",
      "[1600]\tvalid_0's rmse: 0.575404\tvalid_1's rmse: 1.04986\n",
      "[1700]\tvalid_0's rmse: 0.55803\tvalid_1's rmse: 1.04893\n",
      "[1800]\tvalid_0's rmse: 0.541684\tvalid_1's rmse: 1.04769\n",
      "[1900]\tvalid_0's rmse: 0.526151\tvalid_1's rmse: 1.0465\n",
      "[2000]\tvalid_0's rmse: 0.511356\tvalid_1's rmse: 1.04567\n",
      "[2100]\tvalid_0's rmse: 0.49717\tvalid_1's rmse: 1.045\n",
      "[2200]\tvalid_0's rmse: 0.483544\tvalid_1's rmse: 1.04442\n",
      "[2300]\tvalid_0's rmse: 0.4703\tvalid_1's rmse: 1.04392\n",
      "[2400]\tvalid_0's rmse: 0.457724\tvalid_1's rmse: 1.04359\n",
      "[2500]\tvalid_0's rmse: 0.445847\tvalid_1's rmse: 1.04331\n",
      "[2600]\tvalid_0's rmse: 0.4342\tvalid_1's rmse: 1.04279\n",
      "[2700]\tvalid_0's rmse: 0.423156\tvalid_1's rmse: 1.04264\n",
      "[2800]\tvalid_0's rmse: 0.412601\tvalid_1's rmse: 1.04225\n",
      "[2900]\tvalid_0's rmse: 0.402342\tvalid_1's rmse: 1.0418\n",
      "[3000]\tvalid_0's rmse: 0.392535\tvalid_1's rmse: 1.04139\n",
      "[3100]\tvalid_0's rmse: 0.383172\tvalid_1's rmse: 1.04123\n",
      "[3200]\tvalid_0's rmse: 0.374089\tvalid_1's rmse: 1.04107\n",
      "Early stopping, best iteration is:\n",
      "[3138]\tvalid_0's rmse: 0.379623\tvalid_1's rmse: 1.041\n"
     ]
    },
    {
     "name": "stderr",
     "output_type": "stream",
     "text": [
      "feature_fraction, val_score: 1.038188:  86%|########5 | 6/7 [04:31<00:47, 47.84s/it]\u001b[32m[I 2021-03-08 04:12:41,287]\u001b[0m Trial 5 finished with value: 1.0409995638533234 and parameters: {'feature_fraction': 0.8}. Best is trial 1 with value: 1.0381879434682841.\u001b[0m\n",
      "feature_fraction, val_score: 1.038188:  86%|########5 | 6/7 [04:31<00:47, 47.84s/it]"
     ]
    },
    {
     "name": "stdout",
     "output_type": "stream",
     "text": [
      "Training until validation scores don't improve for 100 rounds\n",
      "[100]\tvalid_0's rmse: 1.18364\tvalid_1's rmse: 1.23657\n",
      "[200]\tvalid_0's rmse: 1.02093\tvalid_1's rmse: 1.13119\n",
      "[300]\tvalid_0's rmse: 0.949488\tvalid_1's rmse: 1.10474\n",
      "[400]\tvalid_0's rmse: 0.898391\tvalid_1's rmse: 1.09191\n",
      "[500]\tvalid_0's rmse: 0.855679\tvalid_1's rmse: 1.08338\n",
      "[600]\tvalid_0's rmse: 0.817856\tvalid_1's rmse: 1.07741\n",
      "[700]\tvalid_0's rmse: 0.783533\tvalid_1's rmse: 1.07189\n",
      "[800]\tvalid_0's rmse: 0.75205\tvalid_1's rmse: 1.06727\n",
      "[900]\tvalid_0's rmse: 0.723348\tvalid_1's rmse: 1.0632\n",
      "[1000]\tvalid_0's rmse: 0.696625\tvalid_1's rmse: 1.05972\n",
      "[1100]\tvalid_0's rmse: 0.67161\tvalid_1's rmse: 1.05657\n",
      "[1200]\tvalid_0's rmse: 0.648612\tvalid_1's rmse: 1.05395\n",
      "[1300]\tvalid_0's rmse: 0.62706\tvalid_1's rmse: 1.05217\n",
      "[1400]\tvalid_0's rmse: 0.606474\tvalid_1's rmse: 1.05054\n",
      "[1500]\tvalid_0's rmse: 0.587331\tvalid_1's rmse: 1.04884\n",
      "[1600]\tvalid_0's rmse: 0.568785\tvalid_1's rmse: 1.04739\n",
      "[1700]\tvalid_0's rmse: 0.551181\tvalid_1's rmse: 1.0462\n",
      "[1800]\tvalid_0's rmse: 0.534752\tvalid_1's rmse: 1.04517\n",
      "[1900]\tvalid_0's rmse: 0.519089\tvalid_1's rmse: 1.04389\n",
      "[2000]\tvalid_0's rmse: 0.504181\tvalid_1's rmse: 1.04318\n",
      "[2100]\tvalid_0's rmse: 0.489946\tvalid_1's rmse: 1.04235\n",
      "[2200]\tvalid_0's rmse: 0.47613\tvalid_1's rmse: 1.04164\n",
      "[2300]\tvalid_0's rmse: 0.463001\tvalid_1's rmse: 1.04103\n",
      "[2400]\tvalid_0's rmse: 0.45028\tvalid_1's rmse: 1.04051\n",
      "[2500]\tvalid_0's rmse: 0.438313\tvalid_1's rmse: 1.03996\n",
      "[2600]\tvalid_0's rmse: 0.426601\tvalid_1's rmse: 1.03978\n",
      "[2700]\tvalid_0's rmse: 0.415415\tvalid_1's rmse: 1.03952\n",
      "[2800]\tvalid_0's rmse: 0.404932\tvalid_1's rmse: 1.03925\n",
      "[2900]\tvalid_0's rmse: 0.394595\tvalid_1's rmse: 1.03903\n",
      "[3000]\tvalid_0's rmse: 0.384849\tvalid_1's rmse: 1.03876\n",
      "Early stopping, best iteration is:\n",
      "[2940]\tvalid_0's rmse: 0.390612\tvalid_1's rmse: 1.03868\n"
     ]
    },
    {
     "name": "stderr",
     "output_type": "stream",
     "text": [
      "feature_fraction, val_score: 1.038188: 100%|##########| 7/7 [05:31<00:00, 51.76s/it]\u001b[32m[I 2021-03-08 04:13:42,192]\u001b[0m Trial 6 finished with value: 1.0386751320402206 and parameters: {'feature_fraction': 1.0}. Best is trial 1 with value: 1.0381879434682841.\u001b[0m\n",
      "feature_fraction, val_score: 1.038188: 100%|##########| 7/7 [05:31<00:00, 47.42s/it]\n",
      "num_leaves, val_score: 1.038188:   0%|          | 0/20 [00:00<?, ?it/s]"
     ]
    },
    {
     "name": "stdout",
     "output_type": "stream",
     "text": [
      "Training until validation scores don't improve for 100 rounds\n",
      "[100]\tvalid_0's rmse: 1.02045\tvalid_1's rmse: 1.21877\n",
      "[200]\tvalid_0's rmse: 0.725513\tvalid_1's rmse: 1.09894\n",
      "[300]\tvalid_0's rmse: 0.571505\tvalid_1's rmse: 1.0701\n",
      "[400]\tvalid_0's rmse: 0.468412\tvalid_1's rmse: 1.05921\n",
      "[500]\tvalid_0's rmse: 0.391866\tvalid_1's rmse: 1.05374\n",
      "[600]\tvalid_0's rmse: 0.332571\tvalid_1's rmse: 1.05135\n",
      "[700]\tvalid_0's rmse: 0.286498\tvalid_1's rmse: 1.04988\n",
      "[800]\tvalid_0's rmse: 0.250276\tvalid_1's rmse: 1.04903\n",
      "[900]\tvalid_0's rmse: 0.221724\tvalid_1's rmse: 1.04914\n",
      "Early stopping, best iteration is:\n",
      "[846]\tvalid_0's rmse: 0.236305\tvalid_1's rmse: 1.04893\n"
     ]
    },
    {
     "name": "stderr",
     "output_type": "stream",
     "text": [
      "num_leaves, val_score: 1.038188:   5%|5         | 1/20 [00:42<13:35, 42.92s/it]\u001b[32m[I 2021-03-08 04:14:25,125]\u001b[0m Trial 7 finished with value: 1.0489309494049688 and parameters: {'num_leaves': 166}. Best is trial 7 with value: 1.0489309494049688.\u001b[0m\n",
      "num_leaves, val_score: 1.038188:   5%|5         | 1/20 [00:42<13:35, 42.92s/it]"
     ]
    },
    {
     "name": "stdout",
     "output_type": "stream",
     "text": [
      "Training until validation scores don't improve for 100 rounds\n",
      "[100]\tvalid_0's rmse: 1.19093\tvalid_1's rmse: 1.24777\n",
      "[200]\tvalid_0's rmse: 1.02521\tvalid_1's rmse: 1.1364\n",
      "[300]\tvalid_0's rmse: 0.952003\tvalid_1's rmse: 1.10677\n",
      "[400]\tvalid_0's rmse: 0.901053\tvalid_1's rmse: 1.09359\n",
      "[500]\tvalid_0's rmse: 0.858146\tvalid_1's rmse: 1.08371\n",
      "[600]\tvalid_0's rmse: 0.820516\tvalid_1's rmse: 1.07766\n",
      "[700]\tvalid_0's rmse: 0.786421\tvalid_1's rmse: 1.0718\n",
      "[800]\tvalid_0's rmse: 0.755431\tvalid_1's rmse: 1.06702\n",
      "[900]\tvalid_0's rmse: 0.726667\tvalid_1's rmse: 1.0637\n",
      "[1000]\tvalid_0's rmse: 0.699877\tvalid_1's rmse: 1.05999\n",
      "[1100]\tvalid_0's rmse: 0.674639\tvalid_1's rmse: 1.05747\n",
      "[1200]\tvalid_0's rmse: 0.65136\tvalid_1's rmse: 1.05472\n",
      "[1300]\tvalid_0's rmse: 0.629747\tvalid_1's rmse: 1.05268\n",
      "[1400]\tvalid_0's rmse: 0.609115\tvalid_1's rmse: 1.0505\n",
      "[1500]\tvalid_0's rmse: 0.589823\tvalid_1's rmse: 1.04905\n",
      "[1600]\tvalid_0's rmse: 0.571096\tvalid_1's rmse: 1.04755\n",
      "[1700]\tvalid_0's rmse: 0.553923\tvalid_1's rmse: 1.04682\n",
      "[1800]\tvalid_0's rmse: 0.537365\tvalid_1's rmse: 1.04561\n",
      "[1900]\tvalid_0's rmse: 0.521808\tvalid_1's rmse: 1.04448\n",
      "[2000]\tvalid_0's rmse: 0.506771\tvalid_1's rmse: 1.04333\n",
      "[2100]\tvalid_0's rmse: 0.492479\tvalid_1's rmse: 1.04252\n",
      "[2200]\tvalid_0's rmse: 0.478698\tvalid_1's rmse: 1.04216\n",
      "[2300]\tvalid_0's rmse: 0.465667\tvalid_1's rmse: 1.04177\n",
      "[2400]\tvalid_0's rmse: 0.453044\tvalid_1's rmse: 1.04117\n",
      "[2500]\tvalid_0's rmse: 0.440764\tvalid_1's rmse: 1.04063\n",
      "[2600]\tvalid_0's rmse: 0.429211\tvalid_1's rmse: 1.04025\n",
      "[2700]\tvalid_0's rmse: 0.418178\tvalid_1's rmse: 1.04005\n",
      "[2800]\tvalid_0's rmse: 0.407376\tvalid_1's rmse: 1.03963\n",
      "[2900]\tvalid_0's rmse: 0.396918\tvalid_1's rmse: 1.03931\n",
      "[3000]\tvalid_0's rmse: 0.38702\tvalid_1's rmse: 1.03936\n",
      "[3100]\tvalid_0's rmse: 0.377452\tvalid_1's rmse: 1.03908\n",
      "Early stopping, best iteration is:\n",
      "[3061]\tvalid_0's rmse: 0.381098\tvalid_1's rmse: 1.03884\n"
     ]
    },
    {
     "name": "stderr",
     "output_type": "stream",
     "text": [
      "num_leaves, val_score: 1.038188:  10%|#         | 2/20 [01:13<11:44, 39.16s/it]\u001b[32m[I 2021-03-08 04:14:55,528]\u001b[0m Trial 8 finished with value: 1.0388444212753245 and parameters: {'num_leaves': 26}. Best is trial 8 with value: 1.0388444212753245.\u001b[0m\n",
      "num_leaves, val_score: 1.038188:  10%|#         | 2/20 [01:13<11:44, 39.16s/it]"
     ]
    },
    {
     "name": "stdout",
     "output_type": "stream",
     "text": [
      "Training until validation scores don't improve for 100 rounds\n",
      "[100]\tvalid_0's rmse: 1.03705\tvalid_1's rmse: 1.22172\n",
      "[200]\tvalid_0's rmse: 0.75412\tvalid_1's rmse: 1.10281\n",
      "[300]\tvalid_0's rmse: 0.606373\tvalid_1's rmse: 1.07279\n",
      "[400]\tvalid_0's rmse: 0.506113\tvalid_1's rmse: 1.06228\n",
      "[500]\tvalid_0's rmse: 0.429609\tvalid_1's rmse: 1.05591\n",
      "[600]\tvalid_0's rmse: 0.369094\tvalid_1's rmse: 1.05333\n",
      "[700]\tvalid_0's rmse: 0.320737\tvalid_1's rmse: 1.05094\n",
      "[800]\tvalid_0's rmse: 0.281513\tvalid_1's rmse: 1.04976\n",
      "[900]\tvalid_0's rmse: 0.249975\tvalid_1's rmse: 1.04888\n",
      "[1000]\tvalid_0's rmse: 0.224328\tvalid_1's rmse: 1.04836\n",
      "[1100]\tvalid_0's rmse: 0.203313\tvalid_1's rmse: 1.04826\n",
      "[1200]\tvalid_0's rmse: 0.186116\tvalid_1's rmse: 1.04797\n",
      "[1300]\tvalid_0's rmse: 0.1719\tvalid_1's rmse: 1.04809\n",
      "Early stopping, best iteration is:\n",
      "[1204]\tvalid_0's rmse: 0.185491\tvalid_1's rmse: 1.04795\n"
     ]
    },
    {
     "name": "stderr",
     "output_type": "stream",
     "text": [
      "num_leaves, val_score: 1.038188:  15%|#5        | 3/20 [02:06<12:15, 43.26s/it]\u001b[32m[I 2021-03-08 04:15:48,335]\u001b[0m Trial 9 finished with value: 1.047947875335147 and parameters: {'num_leaves': 143}. Best is trial 8 with value: 1.0388444212753245.\u001b[0m\n",
      "num_leaves, val_score: 1.038188:  15%|#5        | 3/20 [02:06<12:15, 43.26s/it]"
     ]
    },
    {
     "name": "stdout",
     "output_type": "stream",
     "text": [
      "Training until validation scores don't improve for 100 rounds\n",
      "[100]\tvalid_0's rmse: 0.98817\tvalid_1's rmse: 1.21687\n",
      "[200]\tvalid_0's rmse: 0.671345\tvalid_1's rmse: 1.09871\n",
      "[300]\tvalid_0's rmse: 0.507188\tvalid_1's rmse: 1.07129\n",
      "[400]\tvalid_0's rmse: 0.402716\tvalid_1's rmse: 1.06234\n",
      "[500]\tvalid_0's rmse: 0.329052\tvalid_1's rmse: 1.05817\n",
      "[600]\tvalid_0's rmse: 0.274994\tvalid_1's rmse: 1.05669\n",
      "[700]\tvalid_0's rmse: 0.235006\tvalid_1's rmse: 1.05608\n",
      "[800]\tvalid_0's rmse: 0.205081\tvalid_1's rmse: 1.05578\n",
      "[900]\tvalid_0's rmse: 0.182393\tvalid_1's rmse: 1.05591\n",
      "Early stopping, best iteration is:\n",
      "[867]\tvalid_0's rmse: 0.18913\tvalid_1's rmse: 1.05572\n"
     ]
    },
    {
     "name": "stderr",
     "output_type": "stream",
     "text": [
      "num_leaves, val_score: 1.038188:  20%|##        | 4/20 [02:58<12:15, 45.99s/it]\u001b[32m[I 2021-03-08 04:16:40,689]\u001b[0m Trial 10 finished with value: 1.0557232660047013 and parameters: {'num_leaves': 221}. Best is trial 8 with value: 1.0388444212753245.\u001b[0m\n",
      "num_leaves, val_score: 1.038188:  20%|##        | 4/20 [02:58<12:15, 45.99s/it]"
     ]
    },
    {
     "name": "stdout",
     "output_type": "stream",
     "text": [
      "Training until validation scores don't improve for 100 rounds\n",
      "[100]\tvalid_0's rmse: 1.03027\tvalid_1's rmse: 1.22073\n",
      "[200]\tvalid_0's rmse: 0.742452\tvalid_1's rmse: 1.10105\n",
      "[300]\tvalid_0's rmse: 0.591811\tvalid_1's rmse: 1.0725\n",
      "[400]\tvalid_0's rmse: 0.490425\tvalid_1's rmse: 1.06182\n",
      "[500]\tvalid_0's rmse: 0.413884\tvalid_1's rmse: 1.05629\n",
      "[600]\tvalid_0's rmse: 0.353833\tvalid_1's rmse: 1.05426\n",
      "[700]\tvalid_0's rmse: 0.306341\tvalid_1's rmse: 1.05264\n",
      "[800]\tvalid_0's rmse: 0.268344\tvalid_1's rmse: 1.0517\n",
      "[900]\tvalid_0's rmse: 0.23794\tvalid_1's rmse: 1.051\n",
      "[1000]\tvalid_0's rmse: 0.213378\tvalid_1's rmse: 1.05089\n",
      "[1100]\tvalid_0's rmse: 0.193362\tvalid_1's rmse: 1.05072\n",
      "[1200]\tvalid_0's rmse: 0.177135\tvalid_1's rmse: 1.05077\n",
      "Early stopping, best iteration is:\n",
      "[1162]\tvalid_0's rmse: 0.182982\tvalid_1's rmse: 1.05068\n"
     ]
    },
    {
     "name": "stderr",
     "output_type": "stream",
     "text": [
      "num_leaves, val_score: 1.038188:  25%|##5       | 5/20 [03:52<12:04, 48.32s/it]\u001b[32m[I 2021-03-08 04:17:34,457]\u001b[0m Trial 11 finished with value: 1.0506819501142202 and parameters: {'num_leaves': 152}. Best is trial 8 with value: 1.0388444212753245.\u001b[0m\n",
      "num_leaves, val_score: 1.038188:  25%|##5       | 5/20 [03:52<12:04, 48.32s/it]"
     ]
    },
    {
     "name": "stdout",
     "output_type": "stream",
     "text": [
      "Training until validation scores don't improve for 100 rounds\n",
      "[100]\tvalid_0's rmse: 1.00017\tvalid_1's rmse: 1.21854\n",
      "[200]\tvalid_0's rmse: 0.690679\tvalid_1's rmse: 1.09662\n",
      "[300]\tvalid_0's rmse: 0.529628\tvalid_1's rmse: 1.06656\n",
      "[400]\tvalid_0's rmse: 0.425497\tvalid_1's rmse: 1.05738\n",
      "[500]\tvalid_0's rmse: 0.350257\tvalid_1's rmse: 1.0526\n",
      "[600]\tvalid_0's rmse: 0.294\tvalid_1's rmse: 1.04999\n",
      "[700]\tvalid_0's rmse: 0.251739\tvalid_1's rmse: 1.04893\n",
      "[800]\tvalid_0's rmse: 0.219622\tvalid_1's rmse: 1.04844\n",
      "[900]\tvalid_0's rmse: 0.19487\tvalid_1's rmse: 1.04803\n",
      "[1000]\tvalid_0's rmse: 0.175244\tvalid_1's rmse: 1.04784\n",
      "[1100]\tvalid_0's rmse: 0.159312\tvalid_1's rmse: 1.04812\n",
      "Early stopping, best iteration is:\n",
      "[1017]\tvalid_0's rmse: 0.172297\tvalid_1's rmse: 1.04777\n"
     ]
    },
    {
     "name": "stderr",
     "output_type": "stream",
     "text": [
      "num_leaves, val_score: 1.038188:  30%|###       | 6/20 [04:47<11:46, 50.47s/it]\u001b[32m[I 2021-03-08 04:18:29,936]\u001b[0m Trial 12 finished with value: 1.0477712029988986 and parameters: {'num_leaves': 199}. Best is trial 8 with value: 1.0388444212753245.\u001b[0m\n",
      "num_leaves, val_score: 1.038188:  30%|###       | 6/20 [04:47<11:46, 50.47s/it]"
     ]
    },
    {
     "name": "stdout",
     "output_type": "stream",
     "text": [
      "Training until validation scores don't improve for 100 rounds\n",
      "[100]\tvalid_0's rmse: 1.02045\tvalid_1's rmse: 1.21877\n",
      "[200]\tvalid_0's rmse: 0.725513\tvalid_1's rmse: 1.09894\n",
      "[300]\tvalid_0's rmse: 0.571505\tvalid_1's rmse: 1.0701\n",
      "[400]\tvalid_0's rmse: 0.468412\tvalid_1's rmse: 1.05921\n",
      "[500]\tvalid_0's rmse: 0.391866\tvalid_1's rmse: 1.05374\n",
      "[600]\tvalid_0's rmse: 0.332571\tvalid_1's rmse: 1.05135\n",
      "[700]\tvalid_0's rmse: 0.286498\tvalid_1's rmse: 1.04988\n",
      "[800]\tvalid_0's rmse: 0.250276\tvalid_1's rmse: 1.04903\n",
      "[900]\tvalid_0's rmse: 0.221724\tvalid_1's rmse: 1.04914\n",
      "Early stopping, best iteration is:\n",
      "[846]\tvalid_0's rmse: 0.236305\tvalid_1's rmse: 1.04893\n"
     ]
    },
    {
     "name": "stderr",
     "output_type": "stream",
     "text": [
      "num_leaves, val_score: 1.038188:  35%|###5      | 7/20 [05:30<10:27, 48.24s/it]\u001b[32m[I 2021-03-08 04:19:12,973]\u001b[0m Trial 13 finished with value: 1.0489309494049688 and parameters: {'num_leaves': 166}. Best is trial 8 with value: 1.0388444212753245.\u001b[0m\n",
      "num_leaves, val_score: 1.038188:  35%|###5      | 7/20 [05:30<10:27, 48.24s/it]"
     ]
    },
    {
     "name": "stdout",
     "output_type": "stream",
     "text": [
      "Training until validation scores don't improve for 100 rounds\n",
      "[100]\tvalid_0's rmse: 0.98987\tvalid_1's rmse: 1.21623\n",
      "[200]\tvalid_0's rmse: 0.673878\tvalid_1's rmse: 1.09771\n",
      "[300]\tvalid_0's rmse: 0.51022\tvalid_1's rmse: 1.06856\n",
      "[400]\tvalid_0's rmse: 0.405393\tvalid_1's rmse: 1.05959\n",
      "[500]\tvalid_0's rmse: 0.331597\tvalid_1's rmse: 1.05488\n",
      "[600]\tvalid_0's rmse: 0.277252\tvalid_1's rmse: 1.05221\n",
      "[700]\tvalid_0's rmse: 0.236954\tvalid_1's rmse: 1.05115\n",
      "[800]\tvalid_0's rmse: 0.206782\tvalid_1's rmse: 1.05061\n",
      "[900]\tvalid_0's rmse: 0.183702\tvalid_1's rmse: 1.05037\n",
      "Early stopping, best iteration is:\n",
      "[864]\tvalid_0's rmse: 0.19128\tvalid_1's rmse: 1.05019\n"
     ]
    },
    {
     "name": "stderr",
     "output_type": "stream",
     "text": [
      "num_leaves, val_score: 1.038188:  40%|####      | 8/20 [06:22<09:49, 49.16s/it]\u001b[32m[I 2021-03-08 04:20:04,272]\u001b[0m Trial 14 finished with value: 1.050193828814831 and parameters: {'num_leaves': 218}. Best is trial 8 with value: 1.0388444212753245.\u001b[0m\n",
      "num_leaves, val_score: 1.038188:  40%|####      | 8/20 [06:22<09:49, 49.16s/it]"
     ]
    },
    {
     "name": "stdout",
     "output_type": "stream",
     "text": [
      "Training until validation scores don't improve for 100 rounds\n",
      "[100]\tvalid_0's rmse: 1.19093\tvalid_1's rmse: 1.24777\n",
      "[200]\tvalid_0's rmse: 1.02521\tvalid_1's rmse: 1.1364\n",
      "[300]\tvalid_0's rmse: 0.952003\tvalid_1's rmse: 1.10677\n",
      "[400]\tvalid_0's rmse: 0.901053\tvalid_1's rmse: 1.09359\n",
      "[500]\tvalid_0's rmse: 0.858146\tvalid_1's rmse: 1.08371\n",
      "[600]\tvalid_0's rmse: 0.820516\tvalid_1's rmse: 1.07766\n",
      "[700]\tvalid_0's rmse: 0.786421\tvalid_1's rmse: 1.0718\n",
      "[800]\tvalid_0's rmse: 0.755431\tvalid_1's rmse: 1.06702\n",
      "[900]\tvalid_0's rmse: 0.726667\tvalid_1's rmse: 1.0637\n",
      "[1000]\tvalid_0's rmse: 0.699877\tvalid_1's rmse: 1.05999\n",
      "[1100]\tvalid_0's rmse: 0.674639\tvalid_1's rmse: 1.05747\n",
      "[1200]\tvalid_0's rmse: 0.65136\tvalid_1's rmse: 1.05472\n",
      "[1300]\tvalid_0's rmse: 0.629747\tvalid_1's rmse: 1.05268\n",
      "[1400]\tvalid_0's rmse: 0.609115\tvalid_1's rmse: 1.0505\n",
      "[1500]\tvalid_0's rmse: 0.589823\tvalid_1's rmse: 1.04905\n",
      "[1600]\tvalid_0's rmse: 0.571096\tvalid_1's rmse: 1.04755\n",
      "[1700]\tvalid_0's rmse: 0.553923\tvalid_1's rmse: 1.04682\n",
      "[1800]\tvalid_0's rmse: 0.537365\tvalid_1's rmse: 1.04561\n",
      "[1900]\tvalid_0's rmse: 0.521808\tvalid_1's rmse: 1.04448\n",
      "[2000]\tvalid_0's rmse: 0.506771\tvalid_1's rmse: 1.04333\n",
      "[2100]\tvalid_0's rmse: 0.492479\tvalid_1's rmse: 1.04252\n",
      "[2200]\tvalid_0's rmse: 0.478698\tvalid_1's rmse: 1.04216\n",
      "[2300]\tvalid_0's rmse: 0.465667\tvalid_1's rmse: 1.04177\n",
      "[2400]\tvalid_0's rmse: 0.453044\tvalid_1's rmse: 1.04117\n",
      "[2500]\tvalid_0's rmse: 0.440764\tvalid_1's rmse: 1.04063\n",
      "[2600]\tvalid_0's rmse: 0.429211\tvalid_1's rmse: 1.04025\n",
      "[2700]\tvalid_0's rmse: 0.418178\tvalid_1's rmse: 1.04005\n",
      "[2800]\tvalid_0's rmse: 0.407376\tvalid_1's rmse: 1.03963\n",
      "[2900]\tvalid_0's rmse: 0.396918\tvalid_1's rmse: 1.03931\n",
      "[3000]\tvalid_0's rmse: 0.38702\tvalid_1's rmse: 1.03936\n",
      "[3100]\tvalid_0's rmse: 0.377452\tvalid_1's rmse: 1.03908\n",
      "Early stopping, best iteration is:\n",
      "[3061]\tvalid_0's rmse: 0.381098\tvalid_1's rmse: 1.03884\n"
     ]
    },
    {
     "name": "stderr",
     "output_type": "stream",
     "text": [
      "num_leaves, val_score: 1.038188:  45%|####5     | 9/20 [06:53<08:02, 43.87s/it]\u001b[32m[I 2021-03-08 04:20:35,824]\u001b[0m Trial 15 finished with value: 1.0388444212753245 and parameters: {'num_leaves': 26}. Best is trial 8 with value: 1.0388444212753245.\u001b[0m\n",
      "num_leaves, val_score: 1.038188:  45%|####5     | 9/20 [06:53<08:02, 43.87s/it]"
     ]
    },
    {
     "name": "stdout",
     "output_type": "stream",
     "text": [
      "Training until validation scores don't improve for 100 rounds\n",
      "[100]\tvalid_0's rmse: 0.979924\tvalid_1's rmse: 1.21634\n",
      "[200]\tvalid_0's rmse: 0.65727\tvalid_1's rmse: 1.09841\n",
      "[300]\tvalid_0's rmse: 0.490932\tvalid_1's rmse: 1.06915\n",
      "[400]\tvalid_0's rmse: 0.386638\tvalid_1's rmse: 1.06125\n",
      "[500]\tvalid_0's rmse: 0.314179\tvalid_1's rmse: 1.0572\n",
      "[600]\tvalid_0's rmse: 0.262026\tvalid_1's rmse: 1.05557\n",
      "[700]\tvalid_0's rmse: 0.224064\tvalid_1's rmse: 1.05523\n",
      "[800]\tvalid_0's rmse: 0.195832\tvalid_1's rmse: 1.05448\n",
      "[900]\tvalid_0's rmse: 0.174416\tvalid_1's rmse: 1.05443\n",
      "Early stopping, best iteration is:\n",
      "[843]\tvalid_0's rmse: 0.185897\tvalid_1's rmse: 1.0542\n"
     ]
    },
    {
     "name": "stderr",
     "output_type": "stream",
     "text": [
      "num_leaves, val_score: 1.038188:  50%|#####     | 10/20 [07:50<07:58, 47.83s/it]\u001b[32m[I 2021-03-08 04:21:32,878]\u001b[0m Trial 16 finished with value: 1.054204099366992 and parameters: {'num_leaves': 239}. Best is trial 8 with value: 1.0388444212753245.\u001b[0m\n",
      "num_leaves, val_score: 1.038188:  50%|#####     | 10/20 [07:50<07:58, 47.83s/it]"
     ]
    },
    {
     "name": "stdout",
     "output_type": "stream",
     "text": [
      "Training until validation scores don't improve for 100 rounds\n",
      "[100]\tvalid_0's rmse: 1.20151\tvalid_1's rmse: 1.25185\n",
      "[200]\tvalid_0's rmse: 1.0435\tvalid_1's rmse: 1.14216\n",
      "[300]\tvalid_0's rmse: 0.975841\tvalid_1's rmse: 1.11166\n",
      "[400]\tvalid_0's rmse: 0.929334\tvalid_1's rmse: 1.0998\n",
      "[500]\tvalid_0's rmse: 0.890136\tvalid_1's rmse: 1.09044\n",
      "[600]\tvalid_0's rmse: 0.855858\tvalid_1's rmse: 1.08372\n",
      "[700]\tvalid_0's rmse: 0.824794\tvalid_1's rmse: 1.07783\n",
      "[800]\tvalid_0's rmse: 0.796235\tvalid_1's rmse: 1.07333\n",
      "[900]\tvalid_0's rmse: 0.76939\tvalid_1's rmse: 1.06909\n",
      "[1000]\tvalid_0's rmse: 0.744542\tvalid_1's rmse: 1.06533\n",
      "[1100]\tvalid_0's rmse: 0.721118\tvalid_1's rmse: 1.06278\n",
      "[1200]\tvalid_0's rmse: 0.699176\tvalid_1's rmse: 1.06049\n",
      "[1300]\tvalid_0's rmse: 0.678697\tvalid_1's rmse: 1.0582\n",
      "[1400]\tvalid_0's rmse: 0.659141\tvalid_1's rmse: 1.05592\n",
      "[1500]\tvalid_0's rmse: 0.640858\tvalid_1's rmse: 1.0538\n",
      "[1600]\tvalid_0's rmse: 0.623055\tvalid_1's rmse: 1.05279\n",
      "[1700]\tvalid_0's rmse: 0.606509\tvalid_1's rmse: 1.05139\n",
      "[1800]\tvalid_0's rmse: 0.590461\tvalid_1's rmse: 1.05011\n",
      "[1900]\tvalid_0's rmse: 0.575182\tvalid_1's rmse: 1.04864\n",
      "[2000]\tvalid_0's rmse: 0.560503\tvalid_1's rmse: 1.04769\n",
      "[2100]\tvalid_0's rmse: 0.54672\tvalid_1's rmse: 1.04657\n",
      "[2200]\tvalid_0's rmse: 0.533436\tvalid_1's rmse: 1.04557\n",
      "[2300]\tvalid_0's rmse: 0.520528\tvalid_1's rmse: 1.04483\n",
      "[2400]\tvalid_0's rmse: 0.508085\tvalid_1's rmse: 1.0438\n",
      "[2500]\tvalid_0's rmse: 0.496083\tvalid_1's rmse: 1.04316\n",
      "[2600]\tvalid_0's rmse: 0.484552\tvalid_1's rmse: 1.04275\n"
     ]
    },
    {
     "name": "stderr",
     "output_type": "stream",
     "text": [
      "num_leaves, val_score: 1.038188:  55%|#####5    | 11/20 [08:14<06:04, 40.53s/it]\u001b[32m[I 2021-03-08 04:21:56,384]\u001b[0m Trial 17 finished with value: 1.042598041957427 and parameters: {'num_leaves': 22}. Best is trial 8 with value: 1.0388444212753245.\u001b[0m\n",
      "num_leaves, val_score: 1.038188:  55%|#####5    | 11/20 [08:14<06:04, 40.53s/it]"
     ]
    },
    {
     "name": "stdout",
     "output_type": "stream",
     "text": [
      "Early stopping, best iteration is:\n",
      "[2563]\tvalid_0's rmse: 0.488759\tvalid_1's rmse: 1.0426\n",
      "Training until validation scores don't improve for 100 rounds\n",
      "[100]\tvalid_0's rmse: 1.20456\tvalid_1's rmse: 1.25344\n",
      "[200]\tvalid_0's rmse: 1.0485\tvalid_1's rmse: 1.14383\n",
      "[300]\tvalid_0's rmse: 0.982387\tvalid_1's rmse: 1.1128\n",
      "[400]\tvalid_0's rmse: 0.9369\tvalid_1's rmse: 1.09999\n",
      "[500]\tvalid_0's rmse: 0.898447\tvalid_1's rmse: 1.09035\n",
      "[600]\tvalid_0's rmse: 0.865443\tvalid_1's rmse: 1.08442\n",
      "[700]\tvalid_0's rmse: 0.834732\tvalid_1's rmse: 1.07839\n",
      "[800]\tvalid_0's rmse: 0.806788\tvalid_1's rmse: 1.07385\n",
      "[900]\tvalid_0's rmse: 0.780701\tvalid_1's rmse: 1.07026\n",
      "[1000]\tvalid_0's rmse: 0.756454\tvalid_1's rmse: 1.06636\n",
      "[1100]\tvalid_0's rmse: 0.73334\tvalid_1's rmse: 1.06341\n",
      "[1200]\tvalid_0's rmse: 0.711698\tvalid_1's rmse: 1.06072\n",
      "[1300]\tvalid_0's rmse: 0.691793\tvalid_1's rmse: 1.05798\n",
      "[1400]\tvalid_0's rmse: 0.672785\tvalid_1's rmse: 1.05554\n",
      "[1500]\tvalid_0's rmse: 0.65496\tvalid_1's rmse: 1.054\n",
      "[1600]\tvalid_0's rmse: 0.637343\tvalid_1's rmse: 1.05213\n",
      "[1700]\tvalid_0's rmse: 0.621131\tvalid_1's rmse: 1.05094\n",
      "[1800]\tvalid_0's rmse: 0.605291\tvalid_1's rmse: 1.04962\n",
      "[1900]\tvalid_0's rmse: 0.590228\tvalid_1's rmse: 1.04825\n",
      "[2000]\tvalid_0's rmse: 0.575947\tvalid_1's rmse: 1.04738\n",
      "[2100]\tvalid_0's rmse: 0.562142\tvalid_1's rmse: 1.04653\n",
      "[2200]\tvalid_0's rmse: 0.549099\tvalid_1's rmse: 1.04551\n",
      "[2300]\tvalid_0's rmse: 0.53642\tvalid_1's rmse: 1.04511\n",
      "[2400]\tvalid_0's rmse: 0.523913\tvalid_1's rmse: 1.04419\n",
      "[2500]\tvalid_0's rmse: 0.511836\tvalid_1's rmse: 1.04345\n",
      "[2600]\tvalid_0's rmse: 0.500302\tvalid_1's rmse: 1.04293\n",
      "[2700]\tvalid_0's rmse: 0.48922\tvalid_1's rmse: 1.04253\n",
      "[2800]\tvalid_0's rmse: 0.478462\tvalid_1's rmse: 1.04227\n",
      "[2900]\tvalid_0's rmse: 0.468145\tvalid_1's rmse: 1.04163\n",
      "[3000]\tvalid_0's rmse: 0.458086\tvalid_1's rmse: 1.04136\n",
      "[3100]\tvalid_0's rmse: 0.448331\tvalid_1's rmse: 1.041\n",
      "[3200]\tvalid_0's rmse: 0.43917\tvalid_1's rmse: 1.04099\n",
      "Early stopping, best iteration is:\n",
      "[3151]\tvalid_0's rmse: 0.44353\tvalid_1's rmse: 1.04082\n"
     ]
    },
    {
     "name": "stderr",
     "output_type": "stream",
     "text": [
      "num_leaves, val_score: 1.038188:  60%|######    | 12/20 [08:41<04:52, 36.60s/it]\u001b[32m[I 2021-03-08 04:22:23,801]\u001b[0m Trial 18 finished with value: 1.0408207976784578 and parameters: {'num_leaves': 21}. Best is trial 8 with value: 1.0388444212753245.\u001b[0m\n",
      "num_leaves, val_score: 1.038188:  60%|######    | 12/20 [08:41<04:52, 36.60s/it]"
     ]
    },
    {
     "name": "stdout",
     "output_type": "stream",
     "text": [
      "Training until validation scores don't improve for 100 rounds\n",
      "[100]\tvalid_0's rmse: 1.09999\tvalid_1's rmse: 1.22937\n",
      "[200]\tvalid_0's rmse: 0.865074\tvalid_1's rmse: 1.11218\n",
      "[300]\tvalid_0's rmse: 0.745516\tvalid_1's rmse: 1.08214\n",
      "[400]\tvalid_0's rmse: 0.661208\tvalid_1's rmse: 1.07074\n",
      "[500]\tvalid_0's rmse: 0.592373\tvalid_1's rmse: 1.06269\n",
      "[600]\tvalid_0's rmse: 0.534026\tvalid_1's rmse: 1.05761\n",
      "[700]\tvalid_0's rmse: 0.484648\tvalid_1's rmse: 1.05395\n",
      "[800]\tvalid_0's rmse: 0.441506\tvalid_1's rmse: 1.05173\n",
      "[900]\tvalid_0's rmse: 0.403598\tvalid_1's rmse: 1.04978\n",
      "[1000]\tvalid_0's rmse: 0.370533\tvalid_1's rmse: 1.04844\n",
      "[1100]\tvalid_0's rmse: 0.34131\tvalid_1's rmse: 1.04769\n",
      "[1200]\tvalid_0's rmse: 0.315702\tvalid_1's rmse: 1.04702\n",
      "[1300]\tvalid_0's rmse: 0.293296\tvalid_1's rmse: 1.04664\n",
      "[1400]\tvalid_0's rmse: 0.273387\tvalid_1's rmse: 1.04611\n",
      "[1500]\tvalid_0's rmse: 0.255732\tvalid_1's rmse: 1.04598\n",
      "Early stopping, best iteration is:\n",
      "[1438]\tvalid_0's rmse: 0.266513\tvalid_1's rmse: 1.04591\n"
     ]
    },
    {
     "name": "stderr",
     "output_type": "stream",
     "text": [
      "num_leaves, val_score: 1.038188:  65%|######5   | 13/20 [09:20<04:22, 37.43s/it]\u001b[32m[I 2021-03-08 04:23:03,172]\u001b[0m Trial 19 finished with value: 1.045909992560135 and parameters: {'num_leaves': 79}. Best is trial 8 with value: 1.0388444212753245.\u001b[0m\n",
      "num_leaves, val_score: 1.038188:  65%|######5   | 13/20 [09:20<04:22, 37.43s/it]"
     ]
    },
    {
     "name": "stdout",
     "output_type": "stream",
     "text": [
      "Training until validation scores don't improve for 100 rounds\n",
      "[100]\tvalid_0's rmse: 1.10513\tvalid_1's rmse: 1.22992\n",
      "[200]\tvalid_0's rmse: 0.874023\tvalid_1's rmse: 1.11263\n",
      "[300]\tvalid_0's rmse: 0.7565\tvalid_1's rmse: 1.0809\n",
      "[400]\tvalid_0's rmse: 0.673699\tvalid_1's rmse: 1.06858\n",
      "[500]\tvalid_0's rmse: 0.60595\tvalid_1's rmse: 1.06022\n",
      "[600]\tvalid_0's rmse: 0.548361\tvalid_1's rmse: 1.05551\n",
      "[700]\tvalid_0's rmse: 0.499265\tvalid_1's rmse: 1.0517\n",
      "[800]\tvalid_0's rmse: 0.456165\tvalid_1's rmse: 1.04886\n",
      "[900]\tvalid_0's rmse: 0.418684\tvalid_1's rmse: 1.0467\n",
      "[1000]\tvalid_0's rmse: 0.385392\tvalid_1's rmse: 1.04554\n",
      "[1100]\tvalid_0's rmse: 0.355899\tvalid_1's rmse: 1.04431\n",
      "[1200]\tvalid_0's rmse: 0.329897\tvalid_1's rmse: 1.04351\n",
      "[1300]\tvalid_0's rmse: 0.306918\tvalid_1's rmse: 1.04325\n",
      "[1400]\tvalid_0's rmse: 0.286466\tvalid_1's rmse: 1.04299\n",
      "[1500]\tvalid_0's rmse: 0.26828\tvalid_1's rmse: 1.04281\n",
      "Early stopping, best iteration is:\n",
      "[1477]\tvalid_0's rmse: 0.272298\tvalid_1's rmse: 1.04268\n"
     ]
    },
    {
     "name": "stderr",
     "output_type": "stream",
     "text": [
      "num_leaves, val_score: 1.038188:  70%|#######   | 14/20 [09:58<03:45, 37.59s/it]\u001b[32m[I 2021-03-08 04:23:41,123]\u001b[0m Trial 20 finished with value: 1.0426798456801134 and parameters: {'num_leaves': 75}. Best is trial 8 with value: 1.0388444212753245.\u001b[0m\n",
      "num_leaves, val_score: 1.038188:  70%|#######   | 14/20 [09:58<03:45, 37.59s/it]"
     ]
    },
    {
     "name": "stdout",
     "output_type": "stream",
     "text": [
      "Training until validation scores don't improve for 100 rounds\n",
      "[100]\tvalid_0's rmse: 1.11881\tvalid_1's rmse: 1.23196\n",
      "[200]\tvalid_0's rmse: 0.898612\tvalid_1's rmse: 1.11593\n",
      "[300]\tvalid_0's rmse: 0.788109\tvalid_1's rmse: 1.08466\n",
      "[400]\tvalid_0's rmse: 0.709901\tvalid_1's rmse: 1.07201\n",
      "[500]\tvalid_0's rmse: 0.645393\tvalid_1's rmse: 1.06388\n",
      "[600]\tvalid_0's rmse: 0.590118\tvalid_1's rmse: 1.05842\n",
      "[700]\tvalid_0's rmse: 0.54189\tvalid_1's rmse: 1.05352\n",
      "[800]\tvalid_0's rmse: 0.499333\tvalid_1's rmse: 1.05055\n",
      "[900]\tvalid_0's rmse: 0.46184\tvalid_1's rmse: 1.04792\n",
      "[1000]\tvalid_0's rmse: 0.428281\tvalid_1's rmse: 1.04638\n",
      "[1100]\tvalid_0's rmse: 0.398151\tvalid_1's rmse: 1.04502\n",
      "[1200]\tvalid_0's rmse: 0.371446\tvalid_1's rmse: 1.04379\n",
      "[1300]\tvalid_0's rmse: 0.347457\tvalid_1's rmse: 1.04362\n",
      "[1400]\tvalid_0's rmse: 0.325899\tvalid_1's rmse: 1.0433\n",
      "[1500]\tvalid_0's rmse: 0.306477\tvalid_1's rmse: 1.04323\n",
      "[1600]\tvalid_0's rmse: 0.288771\tvalid_1's rmse: 1.04272\n",
      "[1700]\tvalid_0's rmse: 0.273055\tvalid_1's rmse: 1.04262\n",
      "[1800]\tvalid_0's rmse: 0.258963\tvalid_1's rmse: 1.04252\n",
      "Early stopping, best iteration is:\n",
      "[1748]\tvalid_0's rmse: 0.266086\tvalid_1's rmse: 1.04246\n"
     ]
    },
    {
     "name": "stderr",
     "output_type": "stream",
     "text": [
      "num_leaves, val_score: 1.038188:  75%|#######5  | 15/20 [10:38<03:10, 38.10s/it]\u001b[32m[I 2021-03-08 04:24:20,435]\u001b[0m Trial 21 finished with value: 1.042455467128409 and parameters: {'num_leaves': 65}. Best is trial 8 with value: 1.0388444212753245.\u001b[0m\n",
      "num_leaves, val_score: 1.038188:  75%|#######5  | 15/20 [10:38<03:10, 38.10s/it]"
     ]
    },
    {
     "name": "stdout",
     "output_type": "stream",
     "text": [
      "Training until validation scores don't improve for 100 rounds\n",
      "[100]\tvalid_0's rmse: 1.27116\tvalid_1's rmse: 1.29671\n",
      "[200]\tvalid_0's rmse: 1.15014\tvalid_1's rmse: 1.18725\n",
      "[300]\tvalid_0's rmse: 1.10851\tvalid_1's rmse: 1.15502\n",
      "[400]\tvalid_0's rmse: 1.08446\tvalid_1's rmse: 1.14179\n",
      "[500]\tvalid_0's rmse: 1.06659\tvalid_1's rmse: 1.13312\n",
      "[600]\tvalid_0's rmse: 1.05158\tvalid_1's rmse: 1.12714\n",
      "[700]\tvalid_0's rmse: 1.03773\tvalid_1's rmse: 1.12225\n",
      "[800]\tvalid_0's rmse: 1.02519\tvalid_1's rmse: 1.11813\n",
      "[900]\tvalid_0's rmse: 1.01312\tvalid_1's rmse: 1.114\n",
      "[1000]\tvalid_0's rmse: 1.00208\tvalid_1's rmse: 1.11044\n",
      "[1100]\tvalid_0's rmse: 0.991462\tvalid_1's rmse: 1.10757\n",
      "[1200]\tvalid_0's rmse: 0.98158\tvalid_1's rmse: 1.10479\n",
      "[1300]\tvalid_0's rmse: 0.971953\tvalid_1's rmse: 1.10199\n",
      "[1400]\tvalid_0's rmse: 0.962567\tvalid_1's rmse: 1.09964\n",
      "[1500]\tvalid_0's rmse: 0.953755\tvalid_1's rmse: 1.0975\n",
      "[1600]\tvalid_0's rmse: 0.944834\tvalid_1's rmse: 1.09571\n",
      "[1700]\tvalid_0's rmse: 0.936444\tvalid_1's rmse: 1.09433\n",
      "[1800]\tvalid_0's rmse: 0.92818\tvalid_1's rmse: 1.0922\n",
      "[1900]\tvalid_0's rmse: 0.920264\tvalid_1's rmse: 1.0907\n",
      "[2000]\tvalid_0's rmse: 0.912879\tvalid_1's rmse: 1.08907\n",
      "[2100]\tvalid_0's rmse: 0.905392\tvalid_1's rmse: 1.08767\n",
      "[2200]\tvalid_0's rmse: 0.898139\tvalid_1's rmse: 1.08662\n",
      "[2300]\tvalid_0's rmse: 0.890915\tvalid_1's rmse: 1.0853\n",
      "[2400]\tvalid_0's rmse: 0.88383\tvalid_1's rmse: 1.08419\n",
      "[2500]\tvalid_0's rmse: 0.877135\tvalid_1's rmse: 1.08306\n",
      "[2600]\tvalid_0's rmse: 0.870709\tvalid_1's rmse: 1.08199\n",
      "[2700]\tvalid_0's rmse: 0.864431\tvalid_1's rmse: 1.08115\n",
      "[2800]\tvalid_0's rmse: 0.858164\tvalid_1's rmse: 1.07984\n",
      "[2900]\tvalid_0's rmse: 0.852126\tvalid_1's rmse: 1.07889\n",
      "[3000]\tvalid_0's rmse: 0.846014\tvalid_1's rmse: 1.07776\n",
      "[3100]\tvalid_0's rmse: 0.839938\tvalid_1's rmse: 1.07702\n",
      "[3200]\tvalid_0's rmse: 0.834047\tvalid_1's rmse: 1.07613\n",
      "[3300]\tvalid_0's rmse: 0.82833\tvalid_1's rmse: 1.07502\n",
      "[3400]\tvalid_0's rmse: 0.822784\tvalid_1's rmse: 1.07434\n",
      "[3500]\tvalid_0's rmse: 0.817143\tvalid_1's rmse: 1.07331\n",
      "[3600]\tvalid_0's rmse: 0.811725\tvalid_1's rmse: 1.07288\n",
      "[3700]\tvalid_0's rmse: 0.806315\tvalid_1's rmse: 1.07194\n",
      "[3800]\tvalid_0's rmse: 0.801071\tvalid_1's rmse: 1.07141\n",
      "[3900]\tvalid_0's rmse: 0.795934\tvalid_1's rmse: 1.07072\n",
      "[4000]\tvalid_0's rmse: 0.790845\tvalid_1's rmse: 1.07001\n",
      "[4100]\tvalid_0's rmse: 0.785821\tvalid_1's rmse: 1.06953\n",
      "[4200]\tvalid_0's rmse: 0.780868\tvalid_1's rmse: 1.06887\n",
      "[4300]\tvalid_0's rmse: 0.776037\tvalid_1's rmse: 1.06843\n",
      "[4400]\tvalid_0's rmse: 0.77117\tvalid_1's rmse: 1.0681\n",
      "[4500]\tvalid_0's rmse: 0.766456\tvalid_1's rmse: 1.0676\n",
      "[4600]\tvalid_0's rmse: 0.761735\tvalid_1's rmse: 1.06687\n",
      "[4700]\tvalid_0's rmse: 0.757175\tvalid_1's rmse: 1.06611\n",
      "[4800]\tvalid_0's rmse: 0.752444\tvalid_1's rmse: 1.06529\n",
      "[4900]\tvalid_0's rmse: 0.747991\tvalid_1's rmse: 1.06482\n",
      "[5000]\tvalid_0's rmse: 0.743557\tvalid_1's rmse: 1.06418\n",
      "[5100]\tvalid_0's rmse: 0.739094\tvalid_1's rmse: 1.06361\n",
      "[5200]\tvalid_0's rmse: 0.734692\tvalid_1's rmse: 1.06317\n",
      "[5300]\tvalid_0's rmse: 0.730244\tvalid_1's rmse: 1.06269\n",
      "[5400]\tvalid_0's rmse: 0.726067\tvalid_1's rmse: 1.06212\n",
      "[5500]\tvalid_0's rmse: 0.721818\tvalid_1's rmse: 1.06166\n",
      "[5600]\tvalid_0's rmse: 0.717599\tvalid_1's rmse: 1.06091\n",
      "[5700]\tvalid_0's rmse: 0.713565\tvalid_1's rmse: 1.06033\n",
      "[5800]\tvalid_0's rmse: 0.709458\tvalid_1's rmse: 1.05986\n",
      "[5900]\tvalid_0's rmse: 0.70561\tvalid_1's rmse: 1.05965\n",
      "[6000]\tvalid_0's rmse: 0.701703\tvalid_1's rmse: 1.05951\n",
      "[6100]\tvalid_0's rmse: 0.69779\tvalid_1's rmse: 1.05895\n",
      "[6200]\tvalid_0's rmse: 0.694059\tvalid_1's rmse: 1.05881\n"
     ]
    },
    {
     "name": "stderr",
     "output_type": "stream",
     "text": [
      "num_leaves, val_score: 1.038188:  80%|########  | 16/20 [10:56<02:08, 32.12s/it]"
     ]
    },
    {
     "name": "stdout",
     "output_type": "stream",
     "text": [
      "Early stopping, best iteration is:\n",
      "[6191]\tvalid_0's rmse: 0.694411\tvalid_1's rmse: 1.05871\n"
     ]
    },
    {
     "name": "stderr",
     "output_type": "stream",
     "text": [
      "\u001b[32m[I 2021-03-08 04:24:38,614]\u001b[0m Trial 22 finished with value: 1.0587078032501458 and parameters: {'num_leaves': 6}. Best is trial 8 with value: 1.0388444212753245.\u001b[0m\n",
      "num_leaves, val_score: 1.038188:  80%|########  | 16/20 [10:56<02:08, 32.12s/it]"
     ]
    },
    {
     "name": "stdout",
     "output_type": "stream",
     "text": [
      "Training until validation scores don't improve for 100 rounds\n",
      "[100]\tvalid_0's rmse: 1.06866\tvalid_1's rmse: 1.22352\n",
      "[200]\tvalid_0's rmse: 0.809088\tvalid_1's rmse: 1.10506\n",
      "[300]\tvalid_0's rmse: 0.675131\tvalid_1's rmse: 1.07463\n",
      "[400]\tvalid_0's rmse: 0.581737\tvalid_1's rmse: 1.06322\n",
      "[500]\tvalid_0's rmse: 0.507646\tvalid_1's rmse: 1.05637\n",
      "[600]\tvalid_0's rmse: 0.446736\tvalid_1's rmse: 1.05316\n",
      "[700]\tvalid_0's rmse: 0.395861\tvalid_1's rmse: 1.05078\n",
      "[800]\tvalid_0's rmse: 0.353474\tvalid_1's rmse: 1.04902\n",
      "[900]\tvalid_0's rmse: 0.317636\tvalid_1's rmse: 1.04795\n",
      "[1000]\tvalid_0's rmse: 0.287241\tvalid_1's rmse: 1.04751\n",
      "[1100]\tvalid_0's rmse: 0.261576\tvalid_1's rmse: 1.04692\n",
      "[1200]\tvalid_0's rmse: 0.23993\tvalid_1's rmse: 1.04645\n",
      "[1300]\tvalid_0's rmse: 0.221464\tvalid_1's rmse: 1.04641\n",
      "Early stopping, best iteration is:\n",
      "[1259]\tvalid_0's rmse: 0.228664\tvalid_1's rmse: 1.04631\n"
     ]
    },
    {
     "name": "stderr",
     "output_type": "stream",
     "text": [
      "num_leaves, val_score: 1.038188:  85%|########5 | 17/20 [11:40<01:46, 35.65s/it]\u001b[32m[I 2021-03-08 04:25:22,485]\u001b[0m Trial 23 finished with value: 1.0463127974265551 and parameters: {'num_leaves': 107}. Best is trial 8 with value: 1.0388444212753245.\u001b[0m\n",
      "num_leaves, val_score: 1.038188:  85%|########5 | 17/20 [11:40<01:46, 35.65s/it]"
     ]
    },
    {
     "name": "stdout",
     "output_type": "stream",
     "text": [
      "Training until validation scores don't improve for 100 rounds\n",
      "[100]\tvalid_0's rmse: 1.14733\tvalid_1's rmse: 1.23544\n",
      "[200]\tvalid_0's rmse: 0.948602\tvalid_1's rmse: 1.12161\n",
      "[300]\tvalid_0's rmse: 0.853307\tvalid_1's rmse: 1.09149\n",
      "[400]\tvalid_0's rmse: 0.78531\tvalid_1's rmse: 1.07785\n",
      "[500]\tvalid_0's rmse: 0.727844\tvalid_1's rmse: 1.06818\n",
      "[600]\tvalid_0's rmse: 0.678512\tvalid_1's rmse: 1.0629\n",
      "[700]\tvalid_0's rmse: 0.634875\tvalid_1's rmse: 1.0583\n",
      "[800]\tvalid_0's rmse: 0.595549\tvalid_1's rmse: 1.05477\n",
      "[900]\tvalid_0's rmse: 0.559934\tvalid_1's rmse: 1.05145\n",
      "[1000]\tvalid_0's rmse: 0.527617\tvalid_1's rmse: 1.049\n",
      "[1100]\tvalid_0's rmse: 0.498254\tvalid_1's rmse: 1.04719\n",
      "[1200]\tvalid_0's rmse: 0.471203\tvalid_1's rmse: 1.04523\n",
      "[1300]\tvalid_0's rmse: 0.446331\tvalid_1's rmse: 1.04365\n",
      "[1400]\tvalid_0's rmse: 0.423832\tvalid_1's rmse: 1.04264\n",
      "[1500]\tvalid_0's rmse: 0.402708\tvalid_1's rmse: 1.04208\n",
      "[1600]\tvalid_0's rmse: 0.383458\tvalid_1's rmse: 1.04151\n",
      "[1700]\tvalid_0's rmse: 0.365615\tvalid_1's rmse: 1.04074\n",
      "[1800]\tvalid_0's rmse: 0.348992\tvalid_1's rmse: 1.04024\n",
      "[1900]\tvalid_0's rmse: 0.333534\tvalid_1's rmse: 1.04027\n",
      "Early stopping, best iteration is:\n",
      "[1812]\tvalid_0's rmse: 0.347126\tvalid_1's rmse: 1.04013\n"
     ]
    },
    {
     "name": "stderr",
     "output_type": "stream",
     "text": [
      "num_leaves, val_score: 1.038188:  90%|######### | 18/20 [12:11<01:08, 34.43s/it]\u001b[32m[I 2021-03-08 04:25:54,073]\u001b[0m Trial 24 finished with value: 1.0401284432069338 and parameters: {'num_leaves': 47}. Best is trial 8 with value: 1.0388444212753245.\u001b[0m\n",
      "num_leaves, val_score: 1.038188:  90%|######### | 18/20 [12:11<01:08, 34.43s/it]"
     ]
    },
    {
     "name": "stdout",
     "output_type": "stream",
     "text": [
      "Training until validation scores don't improve for 100 rounds\n",
      "[100]\tvalid_0's rmse: 1.06595\tvalid_1's rmse: 1.22365\n",
      "[200]\tvalid_0's rmse: 0.805176\tvalid_1's rmse: 1.10523\n",
      "[300]\tvalid_0's rmse: 0.669173\tvalid_1's rmse: 1.07496\n",
      "[400]\tvalid_0's rmse: 0.574624\tvalid_1's rmse: 1.06355\n",
      "[500]\tvalid_0's rmse: 0.500109\tvalid_1's rmse: 1.05717\n",
      "[600]\tvalid_0's rmse: 0.439336\tvalid_1's rmse: 1.05346\n",
      "[700]\tvalid_0's rmse: 0.388693\tvalid_1's rmse: 1.05044\n",
      "[800]\tvalid_0's rmse: 0.346396\tvalid_1's rmse: 1.04892\n",
      "[900]\tvalid_0's rmse: 0.310867\tvalid_1's rmse: 1.04811\n",
      "[1000]\tvalid_0's rmse: 0.280828\tvalid_1's rmse: 1.04771\n",
      "[1100]\tvalid_0's rmse: 0.255571\tvalid_1's rmse: 1.04767\n",
      "Early stopping, best iteration is:\n",
      "[1060]\tvalid_0's rmse: 0.265167\tvalid_1's rmse: 1.04744\n"
     ]
    },
    {
     "name": "stderr",
     "output_type": "stream",
     "text": [
      "num_leaves, val_score: 1.038188:  95%|#########5| 19/20 [12:51<00:35, 35.86s/it]\u001b[32m[I 2021-03-08 04:26:33,250]\u001b[0m Trial 25 finished with value: 1.0474353107192673 and parameters: {'num_leaves': 110}. Best is trial 8 with value: 1.0388444212753245.\u001b[0m\n",
      "num_leaves, val_score: 1.038188:  95%|#########5| 19/20 [12:51<00:35, 35.86s/it]"
     ]
    },
    {
     "name": "stdout",
     "output_type": "stream",
     "text": [
      "Training until validation scores don't improve for 100 rounds\n",
      "[100]\tvalid_0's rmse: 1.15989\tvalid_1's rmse: 1.23706\n",
      "[200]\tvalid_0's rmse: 0.971296\tvalid_1's rmse: 1.12249\n",
      "[300]\tvalid_0's rmse: 0.882261\tvalid_1's rmse: 1.09199\n",
      "[400]\tvalid_0's rmse: 0.819222\tvalid_1's rmse: 1.07859\n",
      "[500]\tvalid_0's rmse: 0.766176\tvalid_1's rmse: 1.06944\n",
      "[600]\tvalid_0's rmse: 0.720132\tvalid_1's rmse: 1.06369\n",
      "[700]\tvalid_0's rmse: 0.679311\tvalid_1's rmse: 1.05768\n",
      "[800]\tvalid_0's rmse: 0.642043\tvalid_1's rmse: 1.05353\n",
      "[900]\tvalid_0's rmse: 0.608277\tvalid_1's rmse: 1.0506\n",
      "[1000]\tvalid_0's rmse: 0.577123\tvalid_1's rmse: 1.04784\n",
      "[1100]\tvalid_0's rmse: 0.548485\tvalid_1's rmse: 1.04595\n",
      "[1200]\tvalid_0's rmse: 0.522429\tvalid_1's rmse: 1.04401\n",
      "[1300]\tvalid_0's rmse: 0.498215\tvalid_1's rmse: 1.04222\n",
      "[1400]\tvalid_0's rmse: 0.475605\tvalid_1's rmse: 1.04093\n",
      "[1500]\tvalid_0's rmse: 0.454753\tvalid_1's rmse: 1.04009\n",
      "[1600]\tvalid_0's rmse: 0.435043\tvalid_1's rmse: 1.0396\n",
      "[1700]\tvalid_0's rmse: 0.416914\tvalid_1's rmse: 1.0389\n",
      "[1800]\tvalid_0's rmse: 0.399901\tvalid_1's rmse: 1.03827\n",
      "[1900]\tvalid_0's rmse: 0.383787\tvalid_1's rmse: 1.03765\n",
      "[2000]\tvalid_0's rmse: 0.36882\tvalid_1's rmse: 1.03717\n",
      "[2100]\tvalid_0's rmse: 0.354847\tvalid_1's rmse: 1.03668\n",
      "[2200]\tvalid_0's rmse: 0.341565\tvalid_1's rmse: 1.03643\n",
      "[2300]\tvalid_0's rmse: 0.329119\tvalid_1's rmse: 1.03635\n",
      "[2400]\tvalid_0's rmse: 0.317296\tvalid_1's rmse: 1.03622\n",
      "[2500]\tvalid_0's rmse: 0.306154\tvalid_1's rmse: 1.03603\n",
      "[2600]\tvalid_0's rmse: 0.295758\tvalid_1's rmse: 1.03597\n",
      "Early stopping, best iteration is:\n",
      "[2593]\tvalid_0's rmse: 0.296485\tvalid_1's rmse: 1.03593\n"
     ]
    },
    {
     "name": "stderr",
     "output_type": "stream",
     "text": [
      "num_leaves, val_score: 1.035930: 100%|##########| 20/20 [13:29<00:00, 36.58s/it]\u001b[32m[I 2021-03-08 04:27:11,518]\u001b[0m Trial 26 finished with value: 1.0359296157340014 and parameters: {'num_leaves': 40}. Best is trial 26 with value: 1.0359296157340014.\u001b[0m\n",
      "num_leaves, val_score: 1.035930: 100%|##########| 20/20 [13:29<00:00, 40.47s/it]\n",
      "bagging, val_score: 1.035930:   0%|          | 0/10 [00:00<?, ?it/s]"
     ]
    },
    {
     "name": "stdout",
     "output_type": "stream",
     "text": [
      "Training until validation scores don't improve for 100 rounds\n",
      "[100]\tvalid_0's rmse: 1.15827\tvalid_1's rmse: 1.23678\n",
      "[200]\tvalid_0's rmse: 0.970343\tvalid_1's rmse: 1.12459\n",
      "[300]\tvalid_0's rmse: 0.880361\tvalid_1's rmse: 1.0945\n",
      "[400]\tvalid_0's rmse: 0.817105\tvalid_1's rmse: 1.08172\n",
      "[500]\tvalid_0's rmse: 0.764119\tvalid_1's rmse: 1.07437\n",
      "[600]\tvalid_0's rmse: 0.717517\tvalid_1's rmse: 1.0677\n",
      "[700]\tvalid_0's rmse: 0.675815\tvalid_1's rmse: 1.06255\n",
      "[800]\tvalid_0's rmse: 0.638209\tvalid_1's rmse: 1.05827\n",
      "[900]\tvalid_0's rmse: 0.604192\tvalid_1's rmse: 1.05568\n",
      "[1000]\tvalid_0's rmse: 0.573035\tvalid_1's rmse: 1.0535\n",
      "[1100]\tvalid_0's rmse: 0.544746\tvalid_1's rmse: 1.05128\n",
      "[1200]\tvalid_0's rmse: 0.518493\tvalid_1's rmse: 1.04912\n",
      "[1300]\tvalid_0's rmse: 0.494417\tvalid_1's rmse: 1.04746\n",
      "[1400]\tvalid_0's rmse: 0.47219\tvalid_1's rmse: 1.046\n",
      "[1500]\tvalid_0's rmse: 0.451461\tvalid_1's rmse: 1.04502\n",
      "[1600]\tvalid_0's rmse: 0.431926\tvalid_1's rmse: 1.0438\n",
      "[1700]\tvalid_0's rmse: 0.414066\tvalid_1's rmse: 1.04302\n",
      "[1800]\tvalid_0's rmse: 0.397519\tvalid_1's rmse: 1.04238\n",
      "[1900]\tvalid_0's rmse: 0.382019\tvalid_1's rmse: 1.0418\n",
      "[2000]\tvalid_0's rmse: 0.367208\tvalid_1's rmse: 1.04128\n",
      "[2100]\tvalid_0's rmse: 0.353561\tvalid_1's rmse: 1.04119\n",
      "[2200]\tvalid_0's rmse: 0.340726\tvalid_1's rmse: 1.04077\n",
      "Early stopping, best iteration is:\n",
      "[2197]\tvalid_0's rmse: 0.341087\tvalid_1's rmse: 1.04073\n"
     ]
    },
    {
     "name": "stderr",
     "output_type": "stream",
     "text": [
      "bagging, val_score: 1.035930:  10%|#         | 1/10 [00:33<04:59, 33.28s/it]\u001b[32m[I 2021-03-08 04:27:44,821]\u001b[0m Trial 27 finished with value: 1.0407297171058592 and parameters: {'bagging_fraction': 0.8449888527550418, 'bagging_freq': 7}. Best is trial 27 with value: 1.0407297171058592.\u001b[0m\n",
      "bagging, val_score: 1.035930:  10%|#         | 1/10 [00:33<04:59, 33.28s/it]"
     ]
    },
    {
     "name": "stdout",
     "output_type": "stream",
     "text": [
      "Training until validation scores don't improve for 100 rounds\n",
      "[100]\tvalid_0's rmse: 1.16099\tvalid_1's rmse: 1.24081\n",
      "[200]\tvalid_0's rmse: 0.972675\tvalid_1's rmse: 1.12621\n",
      "[300]\tvalid_0's rmse: 0.884852\tvalid_1's rmse: 1.09689\n",
      "[400]\tvalid_0's rmse: 0.821271\tvalid_1's rmse: 1.08223\n",
      "[500]\tvalid_0's rmse: 0.768372\tvalid_1's rmse: 1.07273\n",
      "[600]\tvalid_0's rmse: 0.721836\tvalid_1's rmse: 1.06659\n",
      "[700]\tvalid_0's rmse: 0.68107\tvalid_1's rmse: 1.06155\n",
      "[800]\tvalid_0's rmse: 0.643846\tvalid_1's rmse: 1.0577\n",
      "[900]\tvalid_0's rmse: 0.609907\tvalid_1's rmse: 1.0543\n",
      "[1000]\tvalid_0's rmse: 0.578867\tvalid_1's rmse: 1.05167\n",
      "[1100]\tvalid_0's rmse: 0.550869\tvalid_1's rmse: 1.04881\n",
      "[1200]\tvalid_0's rmse: 0.524741\tvalid_1's rmse: 1.04666\n",
      "[1300]\tvalid_0's rmse: 0.500171\tvalid_1's rmse: 1.04469\n",
      "[1400]\tvalid_0's rmse: 0.477413\tvalid_1's rmse: 1.04373\n",
      "[1500]\tvalid_0's rmse: 0.456242\tvalid_1's rmse: 1.04306\n",
      "[1600]\tvalid_0's rmse: 0.436624\tvalid_1's rmse: 1.0419\n",
      "[1700]\tvalid_0's rmse: 0.418748\tvalid_1's rmse: 1.04157\n",
      "[1800]\tvalid_0's rmse: 0.401503\tvalid_1's rmse: 1.04054\n",
      "[1900]\tvalid_0's rmse: 0.385172\tvalid_1's rmse: 1.04013\n",
      "[2000]\tvalid_0's rmse: 0.369988\tvalid_1's rmse: 1.03986\n",
      "Early stopping, best iteration is:\n",
      "[1972]\tvalid_0's rmse: 0.374023\tvalid_1's rmse: 1.03971\n"
     ]
    },
    {
     "name": "stderr",
     "output_type": "stream",
     "text": [
      "bagging, val_score: 1.035930:  20%|##        | 2/10 [01:02<04:17, 32.18s/it]\u001b[32m[I 2021-03-08 04:28:14,441]\u001b[0m Trial 28 finished with value: 1.0397097306100043 and parameters: {'bagging_fraction': 0.6472240638644533, 'bagging_freq': 4}. Best is trial 28 with value: 1.0397097306100043.\u001b[0m\n",
      "bagging, val_score: 1.035930:  20%|##        | 2/10 [01:02<04:17, 32.18s/it]"
     ]
    },
    {
     "name": "stdout",
     "output_type": "stream",
     "text": [
      "Training until validation scores don't improve for 100 rounds\n",
      "[100]\tvalid_0's rmse: 1.16168\tvalid_1's rmse: 1.23938\n",
      "[200]\tvalid_0's rmse: 0.972302\tvalid_1's rmse: 1.12449\n",
      "[300]\tvalid_0's rmse: 0.884416\tvalid_1's rmse: 1.09442\n",
      "[400]\tvalid_0's rmse: 0.82133\tvalid_1's rmse: 1.08052\n",
      "[500]\tvalid_0's rmse: 0.768951\tvalid_1's rmse: 1.07176\n",
      "[600]\tvalid_0's rmse: 0.722771\tvalid_1's rmse: 1.0656\n",
      "[700]\tvalid_0's rmse: 0.681761\tvalid_1's rmse: 1.0609\n",
      "[800]\tvalid_0's rmse: 0.64499\tvalid_1's rmse: 1.05711\n",
      "[900]\tvalid_0's rmse: 0.610964\tvalid_1's rmse: 1.05387\n",
      "[1000]\tvalid_0's rmse: 0.580005\tvalid_1's rmse: 1.05118\n",
      "[1100]\tvalid_0's rmse: 0.551752\tvalid_1's rmse: 1.04941\n",
      "[1200]\tvalid_0's rmse: 0.525717\tvalid_1's rmse: 1.04726\n",
      "[1300]\tvalid_0's rmse: 0.501658\tvalid_1's rmse: 1.04612\n",
      "[1400]\tvalid_0's rmse: 0.478966\tvalid_1's rmse: 1.04468\n",
      "[1500]\tvalid_0's rmse: 0.457846\tvalid_1's rmse: 1.0438\n",
      "[1600]\tvalid_0's rmse: 0.438173\tvalid_1's rmse: 1.04294\n",
      "[1700]\tvalid_0's rmse: 0.419904\tvalid_1's rmse: 1.04205\n",
      "[1800]\tvalid_0's rmse: 0.402673\tvalid_1's rmse: 1.04145\n",
      "[1900]\tvalid_0's rmse: 0.386276\tvalid_1's rmse: 1.04111\n",
      "[2000]\tvalid_0's rmse: 0.371029\tvalid_1's rmse: 1.04099\n",
      "[2100]\tvalid_0's rmse: 0.357098\tvalid_1's rmse: 1.04087\n",
      "[2200]\tvalid_0's rmse: 0.343641\tvalid_1's rmse: 1.04057\n",
      "[2300]\tvalid_0's rmse: 0.330966\tvalid_1's rmse: 1.04019\n",
      "[2400]\tvalid_0's rmse: 0.319264\tvalid_1's rmse: 1.04019\n",
      "Early stopping, best iteration is:\n",
      "[2355]\tvalid_0's rmse: 0.324603\tvalid_1's rmse: 1.03988\n"
     ]
    },
    {
     "name": "stderr",
     "output_type": "stream",
     "text": [
      "bagging, val_score: 1.035930:  30%|###       | 3/10 [01:36<03:48, 32.68s/it]\u001b[32m[I 2021-03-08 04:28:48,278]\u001b[0m Trial 29 finished with value: 1.0398753961366296 and parameters: {'bagging_fraction': 0.622063736756965, 'bagging_freq': 4}. Best is trial 28 with value: 1.0397097306100043.\u001b[0m\n",
      "bagging, val_score: 1.035930:  30%|###       | 3/10 [01:36<03:48, 32.68s/it]"
     ]
    },
    {
     "name": "stdout",
     "output_type": "stream",
     "text": [
      "Training until validation scores don't improve for 100 rounds\n",
      "[100]\tvalid_0's rmse: 1.16477\tvalid_1's rmse: 1.24579\n",
      "[200]\tvalid_0's rmse: 0.976952\tvalid_1's rmse: 1.13209\n",
      "[300]\tvalid_0's rmse: 0.888246\tvalid_1's rmse: 1.09962\n",
      "[400]\tvalid_0's rmse: 0.825597\tvalid_1's rmse: 1.08536\n",
      "[500]\tvalid_0's rmse: 0.772692\tvalid_1's rmse: 1.07598\n",
      "[600]\tvalid_0's rmse: 0.726569\tvalid_1's rmse: 1.06911\n",
      "[700]\tvalid_0's rmse: 0.685206\tvalid_1's rmse: 1.06353\n",
      "[800]\tvalid_0's rmse: 0.648325\tvalid_1's rmse: 1.05948\n",
      "[900]\tvalid_0's rmse: 0.61452\tvalid_1's rmse: 1.05554\n",
      "[1000]\tvalid_0's rmse: 0.583548\tvalid_1's rmse: 1.05314\n",
      "[1100]\tvalid_0's rmse: 0.555148\tvalid_1's rmse: 1.0502\n",
      "[1200]\tvalid_0's rmse: 0.528612\tvalid_1's rmse: 1.04824\n",
      "[1300]\tvalid_0's rmse: 0.504116\tvalid_1's rmse: 1.04696\n",
      "[1400]\tvalid_0's rmse: 0.48182\tvalid_1's rmse: 1.04562\n",
      "[1500]\tvalid_0's rmse: 0.460757\tvalid_1's rmse: 1.04412\n",
      "[1600]\tvalid_0's rmse: 0.440863\tvalid_1's rmse: 1.04343\n",
      "[1700]\tvalid_0's rmse: 0.422197\tvalid_1's rmse: 1.04287\n",
      "[1800]\tvalid_0's rmse: 0.405014\tvalid_1's rmse: 1.04275\n",
      "[1900]\tvalid_0's rmse: 0.388892\tvalid_1's rmse: 1.0419\n",
      "[2000]\tvalid_0's rmse: 0.373698\tvalid_1's rmse: 1.04083\n",
      "[2100]\tvalid_0's rmse: 0.359382\tvalid_1's rmse: 1.04046\n",
      "[2200]\tvalid_0's rmse: 0.34601\tvalid_1's rmse: 1.04011\n",
      "[2300]\tvalid_0's rmse: 0.333391\tvalid_1's rmse: 1.0398\n",
      "[2400]\tvalid_0's rmse: 0.321376\tvalid_1's rmse: 1.03942\n",
      "[2500]\tvalid_0's rmse: 0.310138\tvalid_1's rmse: 1.03933\n",
      "[2600]\tvalid_0's rmse: 0.299696\tvalid_1's rmse: 1.03939\n",
      "Early stopping, best iteration is:\n",
      "[2548]\tvalid_0's rmse: 0.305095\tvalid_1's rmse: 1.03915\n"
     ]
    },
    {
     "name": "stderr",
     "output_type": "stream",
     "text": [
      "bagging, val_score: 1.035930:  40%|####      | 4/10 [02:12<03:22, 33.71s/it]\u001b[32m[I 2021-03-08 04:29:24,389]\u001b[0m Trial 30 finished with value: 1.0391536227589908 and parameters: {'bagging_fraction': 0.5652293180400163, 'bagging_freq': 3}. Best is trial 30 with value: 1.0391536227589908.\u001b[0m\n",
      "bagging, val_score: 1.035930:  40%|####      | 4/10 [02:12<03:22, 33.71s/it]"
     ]
    },
    {
     "name": "stdout",
     "output_type": "stream",
     "text": [
      "Training until validation scores don't improve for 100 rounds\n",
      "[100]\tvalid_0's rmse: 1.16075\tvalid_1's rmse: 1.24012\n",
      "[200]\tvalid_0's rmse: 0.972273\tvalid_1's rmse: 1.12674\n",
      "[300]\tvalid_0's rmse: 0.883339\tvalid_1's rmse: 1.09616\n",
      "[400]\tvalid_0's rmse: 0.820706\tvalid_1's rmse: 1.08235\n",
      "[500]\tvalid_0's rmse: 0.767846\tvalid_1's rmse: 1.07324\n",
      "[600]\tvalid_0's rmse: 0.72151\tvalid_1's rmse: 1.06719\n",
      "[700]\tvalid_0's rmse: 0.680286\tvalid_1's rmse: 1.06119\n",
      "[800]\tvalid_0's rmse: 0.642727\tvalid_1's rmse: 1.05727\n",
      "[900]\tvalid_0's rmse: 0.608738\tvalid_1's rmse: 1.05414\n",
      "[1000]\tvalid_0's rmse: 0.577434\tvalid_1's rmse: 1.05124\n",
      "[1100]\tvalid_0's rmse: 0.548387\tvalid_1's rmse: 1.04926\n",
      "[1200]\tvalid_0's rmse: 0.52231\tvalid_1's rmse: 1.04799\n",
      "[1300]\tvalid_0's rmse: 0.498179\tvalid_1's rmse: 1.04633\n",
      "[1400]\tvalid_0's rmse: 0.475849\tvalid_1's rmse: 1.04457\n",
      "[1500]\tvalid_0's rmse: 0.45489\tvalid_1's rmse: 1.0434\n",
      "[1600]\tvalid_0's rmse: 0.435248\tvalid_1's rmse: 1.04291\n",
      "[1700]\tvalid_0's rmse: 0.417179\tvalid_1's rmse: 1.04265\n",
      "[1800]\tvalid_0's rmse: 0.400075\tvalid_1's rmse: 1.04199\n",
      "[1900]\tvalid_0's rmse: 0.383787\tvalid_1's rmse: 1.0414\n",
      "[2000]\tvalid_0's rmse: 0.368827\tvalid_1's rmse: 1.04061\n",
      "[2100]\tvalid_0's rmse: 0.354826\tvalid_1's rmse: 1.04055\n",
      "[2200]\tvalid_0's rmse: 0.341603\tvalid_1's rmse: 1.04045\n",
      "[2300]\tvalid_0's rmse: 0.32916\tvalid_1's rmse: 1.04049\n",
      "[2400]\tvalid_0's rmse: 0.317239\tvalid_1's rmse: 1.04019\n",
      "[2500]\tvalid_0's rmse: 0.306133\tvalid_1's rmse: 1.04006\n",
      "[2600]\tvalid_0's rmse: 0.295605\tvalid_1's rmse: 1.03999\n",
      "[2700]\tvalid_0's rmse: 0.285726\tvalid_1's rmse: 1.04005\n",
      "Early stopping, best iteration is:\n",
      "[2639]\tvalid_0's rmse: 0.291684\tvalid_1's rmse: 1.03991\n"
     ]
    },
    {
     "name": "stderr",
     "output_type": "stream",
     "text": [
      "bagging, val_score: 1.035930:  50%|#####     | 5/10 [02:51<02:55, 35.14s/it]\u001b[32m[I 2021-03-08 04:30:02,879]\u001b[0m Trial 31 finished with value: 1.0399059831166408 and parameters: {'bagging_fraction': 0.6784221439069564, 'bagging_freq': 1}. Best is trial 30 with value: 1.0391536227589908.\u001b[0m\n",
      "bagging, val_score: 1.035930:  50%|#####     | 5/10 [02:51<02:55, 35.14s/it]"
     ]
    },
    {
     "name": "stdout",
     "output_type": "stream",
     "text": [
      "Training until validation scores don't improve for 100 rounds\n",
      "[100]\tvalid_0's rmse: 1.16006\tvalid_1's rmse: 1.23803\n",
      "[200]\tvalid_0's rmse: 0.970889\tvalid_1's rmse: 1.12333\n",
      "[300]\tvalid_0's rmse: 0.883276\tvalid_1's rmse: 1.09313\n",
      "[400]\tvalid_0's rmse: 0.819556\tvalid_1's rmse: 1.0789\n",
      "[500]\tvalid_0's rmse: 0.766429\tvalid_1's rmse: 1.07073\n",
      "[600]\tvalid_0's rmse: 0.720301\tvalid_1's rmse: 1.06403\n",
      "[700]\tvalid_0's rmse: 0.678933\tvalid_1's rmse: 1.0594\n",
      "[800]\tvalid_0's rmse: 0.641543\tvalid_1's rmse: 1.05513\n",
      "[900]\tvalid_0's rmse: 0.607627\tvalid_1's rmse: 1.05201\n",
      "[1000]\tvalid_0's rmse: 0.576626\tvalid_1's rmse: 1.04952\n",
      "[1100]\tvalid_0's rmse: 0.548211\tvalid_1's rmse: 1.0475\n",
      "[1200]\tvalid_0's rmse: 0.521944\tvalid_1's rmse: 1.04583\n",
      "[1300]\tvalid_0's rmse: 0.497706\tvalid_1's rmse: 1.04443\n",
      "[1400]\tvalid_0's rmse: 0.475049\tvalid_1's rmse: 1.04327\n",
      "[1500]\tvalid_0's rmse: 0.45421\tvalid_1's rmse: 1.0419\n",
      "[1600]\tvalid_0's rmse: 0.434559\tvalid_1's rmse: 1.04054\n",
      "[1700]\tvalid_0's rmse: 0.416243\tvalid_1's rmse: 1.03995\n",
      "[1800]\tvalid_0's rmse: 0.398725\tvalid_1's rmse: 1.03893\n",
      "[1900]\tvalid_0's rmse: 0.382646\tvalid_1's rmse: 1.03814\n",
      "[2000]\tvalid_0's rmse: 0.367745\tvalid_1's rmse: 1.03783\n",
      "[2100]\tvalid_0's rmse: 0.353674\tvalid_1's rmse: 1.03756\n",
      "[2200]\tvalid_0's rmse: 0.34062\tvalid_1's rmse: 1.03716\n",
      "[2300]\tvalid_0's rmse: 0.32849\tvalid_1's rmse: 1.03697\n",
      "[2400]\tvalid_0's rmse: 0.316817\tvalid_1's rmse: 1.03695\n",
      "Early stopping, best iteration is:\n",
      "[2354]\tvalid_0's rmse: 0.322058\tvalid_1's rmse: 1.0368\n"
     ]
    },
    {
     "name": "stderr",
     "output_type": "stream",
     "text": [
      "bagging, val_score: 1.035930:  60%|######    | 6/10 [03:26<02:20, 35.21s/it]\u001b[32m[I 2021-03-08 04:30:38,251]\u001b[0m Trial 32 finished with value: 1.036802900053216 and parameters: {'bagging_fraction': 0.7459783720038778, 'bagging_freq': 4}. Best is trial 32 with value: 1.036802900053216.\u001b[0m\n",
      "bagging, val_score: 1.035930:  60%|######    | 6/10 [03:26<02:20, 35.21s/it]"
     ]
    },
    {
     "name": "stdout",
     "output_type": "stream",
     "text": [
      "Training until validation scores don't improve for 100 rounds\n",
      "[100]\tvalid_0's rmse: 1.17031\tvalid_1's rmse: 1.24855\n",
      "[200]\tvalid_0's rmse: 0.982553\tvalid_1's rmse: 1.13296\n",
      "[300]\tvalid_0's rmse: 0.893929\tvalid_1's rmse: 1.10066\n",
      "[400]\tvalid_0's rmse: 0.832047\tvalid_1's rmse: 1.08572\n",
      "[500]\tvalid_0's rmse: 0.779714\tvalid_1's rmse: 1.07625\n",
      "[600]\tvalid_0's rmse: 0.734419\tvalid_1's rmse: 1.06986\n",
      "[700]\tvalid_0's rmse: 0.6931\tvalid_1's rmse: 1.06428\n",
      "[800]\tvalid_0's rmse: 0.656291\tvalid_1's rmse: 1.05946\n",
      "[900]\tvalid_0's rmse: 0.62246\tvalid_1's rmse: 1.05597\n",
      "[1000]\tvalid_0's rmse: 0.591471\tvalid_1's rmse: 1.05255\n",
      "[1100]\tvalid_0's rmse: 0.562622\tvalid_1's rmse: 1.05045\n",
      "[1200]\tvalid_0's rmse: 0.536275\tvalid_1's rmse: 1.04874\n",
      "[1300]\tvalid_0's rmse: 0.511931\tvalid_1's rmse: 1.04696\n",
      "[1400]\tvalid_0's rmse: 0.489166\tvalid_1's rmse: 1.04559\n",
      "[1500]\tvalid_0's rmse: 0.467687\tvalid_1's rmse: 1.04488\n",
      "[1600]\tvalid_0's rmse: 0.447672\tvalid_1's rmse: 1.04442\n",
      "[1700]\tvalid_0's rmse: 0.429001\tvalid_1's rmse: 1.0437\n",
      "[1800]\tvalid_0's rmse: 0.411952\tvalid_1's rmse: 1.04327\n",
      "[1900]\tvalid_0's rmse: 0.395526\tvalid_1's rmse: 1.0433\n",
      "Early stopping, best iteration is:\n",
      "[1842]\tvalid_0's rmse: 0.404914\tvalid_1's rmse: 1.04297\n"
     ]
    },
    {
     "name": "stderr",
     "output_type": "stream",
     "text": [
      "bagging, val_score: 1.035930:  70%|#######   | 7/10 [03:53<01:38, 32.74s/it]\u001b[32m[I 2021-03-08 04:31:05,231]\u001b[0m Trial 33 finished with value: 1.0429677622007036 and parameters: {'bagging_fraction': 0.4525146966762591, 'bagging_freq': 3}. Best is trial 32 with value: 1.036802900053216.\u001b[0m\n",
      "bagging, val_score: 1.035930:  70%|#######   | 7/10 [03:53<01:38, 32.74s/it]"
     ]
    },
    {
     "name": "stdout",
     "output_type": "stream",
     "text": [
      "Training until validation scores don't improve for 100 rounds\n",
      "[100]\tvalid_0's rmse: 1.16834\tvalid_1's rmse: 1.2474\n",
      "[200]\tvalid_0's rmse: 0.979914\tvalid_1's rmse: 1.13186\n",
      "[300]\tvalid_0's rmse: 0.891266\tvalid_1's rmse: 1.10086\n",
      "[400]\tvalid_0's rmse: 0.828657\tvalid_1's rmse: 1.08682\n",
      "[500]\tvalid_0's rmse: 0.77609\tvalid_1's rmse: 1.07769\n",
      "[600]\tvalid_0's rmse: 0.73005\tvalid_1's rmse: 1.07074\n",
      "[700]\tvalid_0's rmse: 0.688833\tvalid_1's rmse: 1.06597\n",
      "[800]\tvalid_0's rmse: 0.651835\tvalid_1's rmse: 1.06211\n",
      "[900]\tvalid_0's rmse: 0.618325\tvalid_1's rmse: 1.05782\n",
      "[1000]\tvalid_0's rmse: 0.587119\tvalid_1's rmse: 1.05488\n",
      "[1100]\tvalid_0's rmse: 0.558882\tvalid_1's rmse: 1.05242\n",
      "[1200]\tvalid_0's rmse: 0.532638\tvalid_1's rmse: 1.05039\n",
      "[1300]\tvalid_0's rmse: 0.508508\tvalid_1's rmse: 1.0483\n",
      "[1400]\tvalid_0's rmse: 0.485987\tvalid_1's rmse: 1.04739\n",
      "[1500]\tvalid_0's rmse: 0.464857\tvalid_1's rmse: 1.0462\n",
      "[1600]\tvalid_0's rmse: 0.444968\tvalid_1's rmse: 1.04529\n",
      "[1700]\tvalid_0's rmse: 0.426402\tvalid_1's rmse: 1.04432\n",
      "[1800]\tvalid_0's rmse: 0.409122\tvalid_1's rmse: 1.04358\n",
      "[1900]\tvalid_0's rmse: 0.392975\tvalid_1's rmse: 1.04344\n",
      "Early stopping, best iteration is:\n",
      "[1878]\tvalid_0's rmse: 0.396312\tvalid_1's rmse: 1.04328\n"
     ]
    },
    {
     "name": "stderr",
     "output_type": "stream",
     "text": [
      "bagging, val_score: 1.035930:  80%|########  | 8/10 [04:20<01:01, 30.92s/it]\u001b[32m[I 2021-03-08 04:31:31,897]\u001b[0m Trial 34 finished with value: 1.0432815170734142 and parameters: {'bagging_fraction': 0.4976852990086949, 'bagging_freq': 3}. Best is trial 32 with value: 1.036802900053216.\u001b[0m\n",
      "bagging, val_score: 1.035930:  80%|########  | 8/10 [04:20<01:01, 30.92s/it]"
     ]
    },
    {
     "name": "stdout",
     "output_type": "stream",
     "text": [
      "Training until validation scores don't improve for 100 rounds\n",
      "[100]\tvalid_0's rmse: 1.15742\tvalid_1's rmse: 1.23679\n",
      "[200]\tvalid_0's rmse: 0.968707\tvalid_1's rmse: 1.12416\n",
      "[300]\tvalid_0's rmse: 0.879489\tvalid_1's rmse: 1.09454\n",
      "[400]\tvalid_0's rmse: 0.815976\tvalid_1's rmse: 1.08237\n",
      "[500]\tvalid_0's rmse: 0.762404\tvalid_1's rmse: 1.07366\n",
      "[600]\tvalid_0's rmse: 0.715677\tvalid_1's rmse: 1.06735\n",
      "[700]\tvalid_0's rmse: 0.674123\tvalid_1's rmse: 1.0618\n",
      "[800]\tvalid_0's rmse: 0.636773\tvalid_1's rmse: 1.0579\n",
      "[900]\tvalid_0's rmse: 0.6025\tvalid_1's rmse: 1.05506\n",
      "[1000]\tvalid_0's rmse: 0.572023\tvalid_1's rmse: 1.05319\n",
      "[1100]\tvalid_0's rmse: 0.543516\tvalid_1's rmse: 1.05104\n",
      "[1200]\tvalid_0's rmse: 0.517329\tvalid_1's rmse: 1.04958\n",
      "[1300]\tvalid_0's rmse: 0.493399\tvalid_1's rmse: 1.04776\n",
      "[1400]\tvalid_0's rmse: 0.471341\tvalid_1's rmse: 1.04672\n",
      "[1500]\tvalid_0's rmse: 0.450629\tvalid_1's rmse: 1.04589\n",
      "[1600]\tvalid_0's rmse: 0.431684\tvalid_1's rmse: 1.04521\n",
      "[1700]\tvalid_0's rmse: 0.413387\tvalid_1's rmse: 1.04454\n",
      "Early stopping, best iteration is:\n",
      "[1699]\tvalid_0's rmse: 0.413559\tvalid_1's rmse: 1.04452\n"
     ]
    },
    {
     "name": "stderr",
     "output_type": "stream",
     "text": [
      "bagging, val_score: 1.035930:  90%|######### | 9/10 [04:46<00:29, 29.62s/it]\u001b[32m[I 2021-03-08 04:31:58,499]\u001b[0m Trial 35 finished with value: 1.0445150743189575 and parameters: {'bagging_fraction': 0.9173707242278003, 'bagging_freq': 5}. Best is trial 32 with value: 1.036802900053216.\u001b[0m\n",
      "bagging, val_score: 1.035930:  90%|######### | 9/10 [04:46<00:29, 29.62s/it]"
     ]
    },
    {
     "name": "stdout",
     "output_type": "stream",
     "text": [
      "Training until validation scores don't improve for 100 rounds\n",
      "[100]\tvalid_0's rmse: 1.15925\tvalid_1's rmse: 1.23876\n",
      "[200]\tvalid_0's rmse: 0.971122\tvalid_1's rmse: 1.12438\n",
      "[300]\tvalid_0's rmse: 0.88149\tvalid_1's rmse: 1.09334\n",
      "[400]\tvalid_0's rmse: 0.818347\tvalid_1's rmse: 1.08072\n",
      "[500]\tvalid_0's rmse: 0.765281\tvalid_1's rmse: 1.07169\n",
      "[600]\tvalid_0's rmse: 0.718858\tvalid_1's rmse: 1.06573\n",
      "[700]\tvalid_0's rmse: 0.677109\tvalid_1's rmse: 1.06001\n",
      "[800]\tvalid_0's rmse: 0.639595\tvalid_1's rmse: 1.05584\n",
      "[900]\tvalid_0's rmse: 0.605792\tvalid_1's rmse: 1.05198\n",
      "[1000]\tvalid_0's rmse: 0.574721\tvalid_1's rmse: 1.0495\n",
      "[1100]\tvalid_0's rmse: 0.546349\tvalid_1's rmse: 1.04768\n",
      "[1200]\tvalid_0's rmse: 0.520453\tvalid_1's rmse: 1.04606\n",
      "[1300]\tvalid_0's rmse: 0.496254\tvalid_1's rmse: 1.04431\n",
      "[1400]\tvalid_0's rmse: 0.473776\tvalid_1's rmse: 1.04259\n",
      "[1500]\tvalid_0's rmse: 0.453008\tvalid_1's rmse: 1.04158\n",
      "[1600]\tvalid_0's rmse: 0.433274\tvalid_1's rmse: 1.04045\n",
      "[1700]\tvalid_0's rmse: 0.415201\tvalid_1's rmse: 1.0398\n",
      "[1800]\tvalid_0's rmse: 0.398145\tvalid_1's rmse: 1.03943\n",
      "[1900]\tvalid_0's rmse: 0.382224\tvalid_1's rmse: 1.03932\n",
      "[2000]\tvalid_0's rmse: 0.367504\tvalid_1's rmse: 1.0386\n",
      "[2100]\tvalid_0's rmse: 0.353852\tvalid_1's rmse: 1.03838\n",
      "[2200]\tvalid_0's rmse: 0.340678\tvalid_1's rmse: 1.03831\n",
      "[2300]\tvalid_0's rmse: 0.328253\tvalid_1's rmse: 1.03824\n",
      "Early stopping, best iteration is:\n",
      "[2279]\tvalid_0's rmse: 0.330745\tvalid_1's rmse: 1.03812\n"
     ]
    },
    {
     "name": "stderr",
     "output_type": "stream",
     "text": [
      "bagging, val_score: 1.035930: 100%|##########| 10/10 [05:21<00:00, 31.25s/it]\u001b[32m[I 2021-03-08 04:32:33,540]\u001b[0m Trial 36 finished with value: 1.0381226061851254 and parameters: {'bagging_fraction': 0.7640237358084598, 'bagging_freq': 3}. Best is trial 32 with value: 1.036802900053216.\u001b[0m\n",
      "bagging, val_score: 1.035930: 100%|##########| 10/10 [05:22<00:00, 32.20s/it]\n",
      "feature_fraction_stage2, val_score: 1.035930:   0%|          | 0/3 [00:00<?, ?it/s]"
     ]
    },
    {
     "name": "stdout",
     "output_type": "stream",
     "text": [
      "Training until validation scores don't improve for 100 rounds\n",
      "[100]\tvalid_0's rmse: 1.15731\tvalid_1's rmse: 1.23614\n",
      "[200]\tvalid_0's rmse: 0.969\tvalid_1's rmse: 1.12436\n",
      "[300]\tvalid_0's rmse: 0.880256\tvalid_1's rmse: 1.09491\n",
      "[400]\tvalid_0's rmse: 0.816578\tvalid_1's rmse: 1.08253\n",
      "[500]\tvalid_0's rmse: 0.763124\tvalid_1's rmse: 1.07357\n",
      "[600]\tvalid_0's rmse: 0.716493\tvalid_1's rmse: 1.06723\n",
      "[700]\tvalid_0's rmse: 0.674971\tvalid_1's rmse: 1.06218\n",
      "[800]\tvalid_0's rmse: 0.637102\tvalid_1's rmse: 1.05753\n",
      "[900]\tvalid_0's rmse: 0.603345\tvalid_1's rmse: 1.05422\n",
      "[1000]\tvalid_0's rmse: 0.572153\tvalid_1's rmse: 1.0516\n",
      "[1100]\tvalid_0's rmse: 0.543649\tvalid_1's rmse: 1.04923\n",
      "[1200]\tvalid_0's rmse: 0.517496\tvalid_1's rmse: 1.04745\n",
      "[1300]\tvalid_0's rmse: 0.493142\tvalid_1's rmse: 1.04562\n",
      "[1400]\tvalid_0's rmse: 0.470476\tvalid_1's rmse: 1.0441\n",
      "[1500]\tvalid_0's rmse: 0.449811\tvalid_1's rmse: 1.04342\n",
      "[1600]\tvalid_0's rmse: 0.430309\tvalid_1's rmse: 1.04231\n",
      "[1700]\tvalid_0's rmse: 0.412041\tvalid_1's rmse: 1.04179\n",
      "[1800]\tvalid_0's rmse: 0.395026\tvalid_1's rmse: 1.04125\n",
      "[1900]\tvalid_0's rmse: 0.379056\tvalid_1's rmse: 1.04082\n",
      "[2000]\tvalid_0's rmse: 0.364256\tvalid_1's rmse: 1.0408\n",
      "[2100]\tvalid_0's rmse: 0.350521\tvalid_1's rmse: 1.04064\n",
      "[2200]\tvalid_0's rmse: 0.337326\tvalid_1's rmse: 1.04061\n",
      "[2300]\tvalid_0's rmse: 0.325193\tvalid_1's rmse: 1.04027\n",
      "[2400]\tvalid_0's rmse: 0.313503\tvalid_1's rmse: 1.03993\n",
      "[2500]\tvalid_0's rmse: 0.302621\tvalid_1's rmse: 1.03972\n",
      "[2600]\tvalid_0's rmse: 0.292205\tvalid_1's rmse: 1.03943\n",
      "[2700]\tvalid_0's rmse: 0.282364\tvalid_1's rmse: 1.03925\n",
      "Early stopping, best iteration is:\n",
      "[2696]\tvalid_0's rmse: 0.282776\tvalid_1's rmse: 1.03922\n"
     ]
    },
    {
     "name": "stderr",
     "output_type": "stream",
     "text": [
      "feature_fraction_stage2, val_score: 1.035930:  33%|###3      | 1/3 [00:43<01:26, 43.19s/it]\u001b[32m[I 2021-03-08 04:33:16,749]\u001b[0m Trial 37 finished with value: 1.0392176767596941 and parameters: {'feature_fraction': 0.44800000000000006}. Best is trial 37 with value: 1.0392176767596941.\u001b[0m\n",
      "feature_fraction_stage2, val_score: 1.035930:  33%|###3      | 1/3 [00:43<01:26, 43.19s/it]"
     ]
    },
    {
     "name": "stdout",
     "output_type": "stream",
     "text": [
      "Training until validation scores don't improve for 100 rounds\n",
      "[100]\tvalid_0's rmse: 1.15498\tvalid_1's rmse: 1.23458\n",
      "[200]\tvalid_0's rmse: 0.967123\tvalid_1's rmse: 1.12453\n",
      "[300]\tvalid_0's rmse: 0.87861\tvalid_1's rmse: 1.09519\n",
      "[400]\tvalid_0's rmse: 0.814948\tvalid_1's rmse: 1.0822\n",
      "[500]\tvalid_0's rmse: 0.76118\tvalid_1's rmse: 1.07337\n",
      "[600]\tvalid_0's rmse: 0.714308\tvalid_1's rmse: 1.06717\n",
      "[700]\tvalid_0's rmse: 0.672834\tvalid_1's rmse: 1.06235\n",
      "[800]\tvalid_0's rmse: 0.635197\tvalid_1's rmse: 1.0581\n",
      "[900]\tvalid_0's rmse: 0.601329\tvalid_1's rmse: 1.05517\n",
      "[1000]\tvalid_0's rmse: 0.56985\tvalid_1's rmse: 1.05263\n",
      "[1100]\tvalid_0's rmse: 0.541307\tvalid_1's rmse: 1.05076\n",
      "[1200]\tvalid_0's rmse: 0.515105\tvalid_1's rmse: 1.04846\n",
      "[1300]\tvalid_0's rmse: 0.490848\tvalid_1's rmse: 1.04693\n",
      "[1400]\tvalid_0's rmse: 0.467961\tvalid_1's rmse: 1.04542\n",
      "[1500]\tvalid_0's rmse: 0.447142\tvalid_1's rmse: 1.04506\n",
      "[1600]\tvalid_0's rmse: 0.427592\tvalid_1's rmse: 1.04434\n",
      "[1700]\tvalid_0's rmse: 0.40944\tvalid_1's rmse: 1.04329\n",
      "[1800]\tvalid_0's rmse: 0.392561\tvalid_1's rmse: 1.04301\n",
      "[1900]\tvalid_0's rmse: 0.37656\tvalid_1's rmse: 1.04259\n",
      "[2000]\tvalid_0's rmse: 0.361862\tvalid_1's rmse: 1.04237\n",
      "[2100]\tvalid_0's rmse: 0.3479\tvalid_1's rmse: 1.04226\n",
      "[2200]\tvalid_0's rmse: 0.334817\tvalid_1's rmse: 1.04199\n",
      "[2300]\tvalid_0's rmse: 0.32261\tvalid_1's rmse: 1.04177\n",
      "[2400]\tvalid_0's rmse: 0.310957\tvalid_1's rmse: 1.04163\n",
      "[2500]\tvalid_0's rmse: 0.299964\tvalid_1's rmse: 1.04126\n",
      "[2600]\tvalid_0's rmse: 0.289652\tvalid_1's rmse: 1.04116\n",
      "[2700]\tvalid_0's rmse: 0.279923\tvalid_1's rmse: 1.04105\n",
      "[2800]\tvalid_0's rmse: 0.270908\tvalid_1's rmse: 1.04096\n",
      "[2900]\tvalid_0's rmse: 0.262319\tvalid_1's rmse: 1.04099\n",
      "Early stopping, best iteration is:\n",
      "[2853]\tvalid_0's rmse: 0.266292\tvalid_1's rmse: 1.04079\n"
     ]
    },
    {
     "name": "stderr",
     "output_type": "stream",
     "text": [
      "feature_fraction_stage2, val_score: 1.035930:  67%|######6   | 2/3 [01:31<00:44, 44.68s/it]\u001b[32m[I 2021-03-08 04:34:04,908]\u001b[0m Trial 38 finished with value: 1.040789875163455 and parameters: {'feature_fraction': 0.48000000000000004}. Best is trial 37 with value: 1.0392176767596941.\u001b[0m\n",
      "feature_fraction_stage2, val_score: 1.035930:  67%|######6   | 2/3 [01:31<00:44, 44.68s/it]"
     ]
    },
    {
     "name": "stdout",
     "output_type": "stream",
     "text": [
      "Training until validation scores don't improve for 100 rounds\n",
      "[100]\tvalid_0's rmse: 1.15881\tvalid_1's rmse: 1.23762\n",
      "[200]\tvalid_0's rmse: 0.969854\tvalid_1's rmse: 1.12383\n",
      "[300]\tvalid_0's rmse: 0.880971\tvalid_1's rmse: 1.09383\n",
      "[400]\tvalid_0's rmse: 0.817875\tvalid_1's rmse: 1.08102\n",
      "[500]\tvalid_0's rmse: 0.764679\tvalid_1's rmse: 1.07277\n",
      "[600]\tvalid_0's rmse: 0.718081\tvalid_1's rmse: 1.06618\n",
      "[700]\tvalid_0's rmse: 0.676909\tvalid_1's rmse: 1.06108\n",
      "[800]\tvalid_0's rmse: 0.639555\tvalid_1's rmse: 1.05759\n",
      "[900]\tvalid_0's rmse: 0.605483\tvalid_1's rmse: 1.05445\n",
      "[1000]\tvalid_0's rmse: 0.574205\tvalid_1's rmse: 1.05202\n",
      "[1100]\tvalid_0's rmse: 0.545597\tvalid_1's rmse: 1.05047\n",
      "[1200]\tvalid_0's rmse: 0.519315\tvalid_1's rmse: 1.04887\n",
      "[1300]\tvalid_0's rmse: 0.49516\tvalid_1's rmse: 1.0472\n",
      "[1400]\tvalid_0's rmse: 0.472825\tvalid_1's rmse: 1.04587\n",
      "[1500]\tvalid_0's rmse: 0.452071\tvalid_1's rmse: 1.04511\n",
      "[1600]\tvalid_0's rmse: 0.432384\tvalid_1's rmse: 1.04414\n",
      "[1700]\tvalid_0's rmse: 0.414279\tvalid_1's rmse: 1.04323\n",
      "[1800]\tvalid_0's rmse: 0.397445\tvalid_1's rmse: 1.04248\n",
      "[1900]\tvalid_0's rmse: 0.381287\tvalid_1's rmse: 1.04206\n",
      "[2000]\tvalid_0's rmse: 0.366544\tvalid_1's rmse: 1.04154\n",
      "[2100]\tvalid_0's rmse: 0.352663\tvalid_1's rmse: 1.04121\n",
      "[2200]\tvalid_0's rmse: 0.339365\tvalid_1's rmse: 1.04088\n",
      "[2300]\tvalid_0's rmse: 0.327094\tvalid_1's rmse: 1.04064\n",
      "[2400]\tvalid_0's rmse: 0.315358\tvalid_1's rmse: 1.0404\n",
      "[2500]\tvalid_0's rmse: 0.304483\tvalid_1's rmse: 1.04012\n",
      "Early stopping, best iteration is:\n",
      "[2487]\tvalid_0's rmse: 0.305865\tvalid_1's rmse: 1.04008\n"
     ]
    },
    {
     "name": "stderr",
     "output_type": "stream",
     "text": [
      "feature_fraction_stage2, val_score: 1.035930: 100%|##########| 3/3 [02:08<00:00, 42.42s/it]\u001b[32m[I 2021-03-08 04:34:42,040]\u001b[0m Trial 39 finished with value: 1.0400847149386998 and parameters: {'feature_fraction': 0.41600000000000004}. Best is trial 37 with value: 1.0392176767596941.\u001b[0m\n",
      "feature_fraction_stage2, val_score: 1.035930: 100%|##########| 3/3 [02:08<00:00, 42.83s/it]\n",
      "regularization_factors, val_score: 1.035930:   0%|          | 0/20 [00:00<?, ?it/s]"
     ]
    },
    {
     "name": "stdout",
     "output_type": "stream",
     "text": [
      "Training until validation scores don't improve for 100 rounds\n",
      "[100]\tvalid_0's rmse: 1.16745\tvalid_1's rmse: 1.23977\n",
      "[200]\tvalid_0's rmse: 0.980363\tvalid_1's rmse: 1.12485\n",
      "[300]\tvalid_0's rmse: 0.891848\tvalid_1's rmse: 1.09452\n",
      "[400]\tvalid_0's rmse: 0.830238\tvalid_1's rmse: 1.08023\n",
      "[500]\tvalid_0's rmse: 0.778518\tvalid_1's rmse: 1.07025\n",
      "[600]\tvalid_0's rmse: 0.733861\tvalid_1's rmse: 1.06424\n",
      "[700]\tvalid_0's rmse: 0.693683\tvalid_1's rmse: 1.05912\n",
      "[800]\tvalid_0's rmse: 0.657578\tvalid_1's rmse: 1.05505\n",
      "[900]\tvalid_0's rmse: 0.624879\tvalid_1's rmse: 1.05197\n",
      "[1000]\tvalid_0's rmse: 0.594546\tvalid_1's rmse: 1.04921\n",
      "[1100]\tvalid_0's rmse: 0.56678\tvalid_1's rmse: 1.04684\n",
      "[1200]\tvalid_0's rmse: 0.541075\tvalid_1's rmse: 1.04448\n",
      "[1300]\tvalid_0's rmse: 0.517438\tvalid_1's rmse: 1.04284\n",
      "[1400]\tvalid_0's rmse: 0.495519\tvalid_1's rmse: 1.04148\n",
      "[1500]\tvalid_0's rmse: 0.475165\tvalid_1's rmse: 1.04082\n",
      "[1600]\tvalid_0's rmse: 0.455969\tvalid_1's rmse: 1.04018\n",
      "[1700]\tvalid_0's rmse: 0.438272\tvalid_1's rmse: 1.0393\n",
      "[1800]\tvalid_0's rmse: 0.421647\tvalid_1's rmse: 1.03851\n",
      "[1900]\tvalid_0's rmse: 0.406022\tvalid_1's rmse: 1.03785\n",
      "[2000]\tvalid_0's rmse: 0.39133\tvalid_1's rmse: 1.03707\n",
      "[2100]\tvalid_0's rmse: 0.377671\tvalid_1's rmse: 1.03677\n",
      "[2200]\tvalid_0's rmse: 0.36485\tvalid_1's rmse: 1.03661\n",
      "Early stopping, best iteration is:\n",
      "[2174]\tvalid_0's rmse: 0.368177\tvalid_1's rmse: 1.03652\n"
     ]
    },
    {
     "name": "stderr",
     "output_type": "stream",
     "text": [
      "regularization_factors, val_score: 1.035930:   5%|5         | 1/20 [00:31<09:51, 31.11s/it]\u001b[32m[I 2021-03-08 04:35:13,169]\u001b[0m Trial 40 finished with value: 1.0365242626311186 and parameters: {'lambda_l1': 2.3401356723510243, 'lambda_l2': 0.5459702968445629}. Best is trial 40 with value: 1.0365242626311186.\u001b[0m\n",
      "regularization_factors, val_score: 1.035930:   5%|5         | 1/20 [00:31<09:51, 31.11s/it]"
     ]
    },
    {
     "name": "stdout",
     "output_type": "stream",
     "text": [
      "Training until validation scores don't improve for 100 rounds\n",
      "[100]\tvalid_0's rmse: 1.16547\tvalid_1's rmse: 1.24003\n",
      "[200]\tvalid_0's rmse: 0.977263\tvalid_1's rmse: 1.12548\n",
      "[300]\tvalid_0's rmse: 0.888239\tvalid_1's rmse: 1.0951\n",
      "[400]\tvalid_0's rmse: 0.826017\tvalid_1's rmse: 1.08216\n",
      "[500]\tvalid_0's rmse: 0.7736\tvalid_1's rmse: 1.07364\n",
      "[600]\tvalid_0's rmse: 0.728043\tvalid_1's rmse: 1.06693\n",
      "[700]\tvalid_0's rmse: 0.687318\tvalid_1's rmse: 1.06095\n",
      "[800]\tvalid_0's rmse: 0.650222\tvalid_1's rmse: 1.05717\n",
      "[900]\tvalid_0's rmse: 0.616407\tvalid_1's rmse: 1.05333\n",
      "[1000]\tvalid_0's rmse: 0.585202\tvalid_1's rmse: 1.05051\n",
      "[1100]\tvalid_0's rmse: 0.556712\tvalid_1's rmse: 1.04842\n",
      "[1200]\tvalid_0's rmse: 0.530524\tvalid_1's rmse: 1.04666\n",
      "[1300]\tvalid_0's rmse: 0.506081\tvalid_1's rmse: 1.04483\n",
      "[1400]\tvalid_0's rmse: 0.483592\tvalid_1's rmse: 1.04359\n",
      "[1500]\tvalid_0's rmse: 0.462641\tvalid_1's rmse: 1.04259\n",
      "[1600]\tvalid_0's rmse: 0.44308\tvalid_1's rmse: 1.04188\n",
      "[1700]\tvalid_0's rmse: 0.424933\tvalid_1's rmse: 1.04101\n",
      "[1800]\tvalid_0's rmse: 0.407764\tvalid_1's rmse: 1.04017\n",
      "[1900]\tvalid_0's rmse: 0.391788\tvalid_1's rmse: 1.03989\n",
      "[2000]\tvalid_0's rmse: 0.376685\tvalid_1's rmse: 1.03932\n",
      "[2100]\tvalid_0's rmse: 0.362637\tvalid_1's rmse: 1.03864\n",
      "[2200]\tvalid_0's rmse: 0.349401\tvalid_1's rmse: 1.03845\n",
      "[2300]\tvalid_0's rmse: 0.336894\tvalid_1's rmse: 1.03848\n",
      "Early stopping, best iteration is:\n",
      "[2238]\tvalid_0's rmse: 0.344586\tvalid_1's rmse: 1.03833\n"
     ]
    },
    {
     "name": "stderr",
     "output_type": "stream",
     "text": [
      "regularization_factors, val_score: 1.035930:  10%|#         | 2/20 [01:05<09:36, 32.04s/it]\u001b[32m[I 2021-03-08 04:35:47,372]\u001b[0m Trial 41 finished with value: 1.038332402096142 and parameters: {'lambda_l1': 0.9353717820968005, 'lambda_l2': 1.184357862199562}. Best is trial 40 with value: 1.0365242626311186.\u001b[0m\n",
      "regularization_factors, val_score: 1.035930:  10%|#         | 2/20 [01:05<09:36, 32.04s/it]"
     ]
    },
    {
     "name": "stdout",
     "output_type": "stream",
     "text": [
      "Training until validation scores don't improve for 100 rounds\n",
      "[100]\tvalid_0's rmse: 1.15691\tvalid_1's rmse: 1.23814\n",
      "[200]\tvalid_0's rmse: 0.968177\tvalid_1's rmse: 1.1249\n",
      "[300]\tvalid_0's rmse: 0.879277\tvalid_1's rmse: 1.09579\n",
      "[400]\tvalid_0's rmse: 0.816215\tvalid_1's rmse: 1.08321\n",
      "[500]\tvalid_0's rmse: 0.762591\tvalid_1's rmse: 1.07436\n",
      "[600]\tvalid_0's rmse: 0.716263\tvalid_1's rmse: 1.06849\n",
      "[700]\tvalid_0's rmse: 0.674823\tvalid_1's rmse: 1.06364\n",
      "[800]\tvalid_0's rmse: 0.637422\tvalid_1's rmse: 1.05971\n",
      "[900]\tvalid_0's rmse: 0.603006\tvalid_1's rmse: 1.05592\n",
      "[1000]\tvalid_0's rmse: 0.571701\tvalid_1's rmse: 1.0532\n",
      "[1100]\tvalid_0's rmse: 0.543037\tvalid_1's rmse: 1.05089\n",
      "[1200]\tvalid_0's rmse: 0.516845\tvalid_1's rmse: 1.04942\n",
      "[1300]\tvalid_0's rmse: 0.492518\tvalid_1's rmse: 1.04763\n",
      "[1400]\tvalid_0's rmse: 0.469933\tvalid_1's rmse: 1.04599\n",
      "[1500]\tvalid_0's rmse: 0.44889\tvalid_1's rmse: 1.04523\n",
      "[1600]\tvalid_0's rmse: 0.429076\tvalid_1's rmse: 1.04408\n",
      "[1700]\tvalid_0's rmse: 0.411048\tvalid_1's rmse: 1.04346\n",
      "[1800]\tvalid_0's rmse: 0.394086\tvalid_1's rmse: 1.04292\n",
      "[1900]\tvalid_0's rmse: 0.378237\tvalid_1's rmse: 1.04249\n",
      "[2000]\tvalid_0's rmse: 0.363443\tvalid_1's rmse: 1.0422\n",
      "[2100]\tvalid_0's rmse: 0.349426\tvalid_1's rmse: 1.0418\n",
      "[2200]\tvalid_0's rmse: 0.33602\tvalid_1's rmse: 1.04118\n",
      "[2300]\tvalid_0's rmse: 0.323554\tvalid_1's rmse: 1.04087\n",
      "[2400]\tvalid_0's rmse: 0.311675\tvalid_1's rmse: 1.04013\n",
      "[2500]\tvalid_0's rmse: 0.300717\tvalid_1's rmse: 1.0398\n",
      "[2600]\tvalid_0's rmse: 0.290522\tvalid_1's rmse: 1.03983\n",
      "Early stopping, best iteration is:\n",
      "[2506]\tvalid_0's rmse: 0.300043\tvalid_1's rmse: 1.03969\n"
     ]
    },
    {
     "name": "stderr",
     "output_type": "stream",
     "text": [
      "regularization_factors, val_score: 1.035930:  15%|#5        | 3/20 [01:40<09:22, 33.12s/it]\u001b[32m[I 2021-03-08 04:36:23,004]\u001b[0m Trial 42 finished with value: 1.039690475522546 and parameters: {'lambda_l1': 0.002799213061337229, 'lambda_l2': 0.00043015853790293594}. Best is trial 40 with value: 1.0365242626311186.\u001b[0m\n",
      "regularization_factors, val_score: 1.035930:  15%|#5        | 3/20 [01:40<09:22, 33.12s/it]"
     ]
    },
    {
     "name": "stdout",
     "output_type": "stream",
     "text": [
      "Training until validation scores don't improve for 100 rounds\n",
      "[100]\tvalid_0's rmse: 1.15683\tvalid_1's rmse: 1.2381\n",
      "[200]\tvalid_0's rmse: 0.968417\tvalid_1's rmse: 1.12558\n",
      "[300]\tvalid_0's rmse: 0.879675\tvalid_1's rmse: 1.09625\n",
      "[400]\tvalid_0's rmse: 0.81606\tvalid_1's rmse: 1.08398\n",
      "[500]\tvalid_0's rmse: 0.762561\tvalid_1's rmse: 1.07504\n",
      "[600]\tvalid_0's rmse: 0.715987\tvalid_1's rmse: 1.06871\n",
      "[700]\tvalid_0's rmse: 0.674648\tvalid_1's rmse: 1.06365\n",
      "[800]\tvalid_0's rmse: 0.637201\tvalid_1's rmse: 1.0602\n",
      "[900]\tvalid_0's rmse: 0.603144\tvalid_1's rmse: 1.05724\n",
      "[1000]\tvalid_0's rmse: 0.571985\tvalid_1's rmse: 1.05426\n",
      "[1100]\tvalid_0's rmse: 0.543415\tvalid_1's rmse: 1.0523\n",
      "[1200]\tvalid_0's rmse: 0.517082\tvalid_1's rmse: 1.05062\n",
      "[1300]\tvalid_0's rmse: 0.492853\tvalid_1's rmse: 1.04926\n",
      "[1400]\tvalid_0's rmse: 0.470199\tvalid_1's rmse: 1.0477\n",
      "[1500]\tvalid_0's rmse: 0.449454\tvalid_1's rmse: 1.04723\n",
      "[1600]\tvalid_0's rmse: 0.429979\tvalid_1's rmse: 1.0463\n",
      "[1700]\tvalid_0's rmse: 0.411705\tvalid_1's rmse: 1.04582\n",
      "[1800]\tvalid_0's rmse: 0.394751\tvalid_1's rmse: 1.04538\n",
      "[1900]\tvalid_0's rmse: 0.378548\tvalid_1's rmse: 1.04489\n",
      "[2000]\tvalid_0's rmse: 0.363759\tvalid_1's rmse: 1.04453\n",
      "[2100]\tvalid_0's rmse: 0.349837\tvalid_1's rmse: 1.04428\n",
      "[2200]\tvalid_0's rmse: 0.336474\tvalid_1's rmse: 1.04414\n",
      "Early stopping, best iteration is:\n",
      "[2176]\tvalid_0's rmse: 0.33963\tvalid_1's rmse: 1.04401\n"
     ]
    },
    {
     "name": "stderr",
     "output_type": "stream",
     "text": [
      "regularization_factors, val_score: 1.035930:  20%|##        | 4/20 [02:11<08:37, 32.35s/it]\u001b[32m[I 2021-03-08 04:36:53,574]\u001b[0m Trial 43 finished with value: 1.0440132538009124 and parameters: {'lambda_l1': 0.0031980968781619807, 'lambda_l2': 5.931574093480132e-07}. Best is trial 40 with value: 1.0365242626311186.\u001b[0m\n",
      "regularization_factors, val_score: 1.035930:  20%|##        | 4/20 [02:11<08:37, 32.35s/it]"
     ]
    },
    {
     "name": "stdout",
     "output_type": "stream",
     "text": [
      "Training until validation scores don't improve for 100 rounds\n",
      "[100]\tvalid_0's rmse: 1.15692\tvalid_1's rmse: 1.23775\n",
      "[200]\tvalid_0's rmse: 0.968361\tvalid_1's rmse: 1.12576\n",
      "[300]\tvalid_0's rmse: 0.879638\tvalid_1's rmse: 1.09658\n",
      "[400]\tvalid_0's rmse: 0.816092\tvalid_1's rmse: 1.08323\n",
      "[500]\tvalid_0's rmse: 0.762578\tvalid_1's rmse: 1.07411\n",
      "[600]\tvalid_0's rmse: 0.716049\tvalid_1's rmse: 1.06792\n",
      "[700]\tvalid_0's rmse: 0.674507\tvalid_1's rmse: 1.06236\n",
      "[800]\tvalid_0's rmse: 0.637138\tvalid_1's rmse: 1.05898\n",
      "[900]\tvalid_0's rmse: 0.603266\tvalid_1's rmse: 1.05602\n",
      "[1000]\tvalid_0's rmse: 0.571894\tvalid_1's rmse: 1.05295\n",
      "[1100]\tvalid_0's rmse: 0.543478\tvalid_1's rmse: 1.05063\n",
      "[1200]\tvalid_0's rmse: 0.517168\tvalid_1's rmse: 1.04859\n",
      "[1300]\tvalid_0's rmse: 0.492886\tvalid_1's rmse: 1.04668\n",
      "[1400]\tvalid_0's rmse: 0.470208\tvalid_1's rmse: 1.04521\n",
      "[1500]\tvalid_0's rmse: 0.4495\tvalid_1's rmse: 1.04455\n",
      "[1600]\tvalid_0's rmse: 0.429954\tvalid_1's rmse: 1.04406\n",
      "[1700]\tvalid_0's rmse: 0.411904\tvalid_1's rmse: 1.04364\n",
      "[1800]\tvalid_0's rmse: 0.394962\tvalid_1's rmse: 1.04285\n",
      "[1900]\tvalid_0's rmse: 0.378987\tvalid_1's rmse: 1.04226\n",
      "[2000]\tvalid_0's rmse: 0.364074\tvalid_1's rmse: 1.04175\n",
      "[2100]\tvalid_0's rmse: 0.350157\tvalid_1's rmse: 1.04154\n",
      "[2200]\tvalid_0's rmse: 0.336867\tvalid_1's rmse: 1.04124\n",
      "[2300]\tvalid_0's rmse: 0.324543\tvalid_1's rmse: 1.04137\n",
      "Early stopping, best iteration is:\n",
      "[2271]\tvalid_0's rmse: 0.328146\tvalid_1's rmse: 1.0411\n"
     ]
    },
    {
     "name": "stderr",
     "output_type": "stream",
     "text": [
      "regularization_factors, val_score: 1.035930:  25%|##5       | 5/20 [02:43<08:04, 32.32s/it]\u001b[32m[I 2021-03-08 04:37:25,815]\u001b[0m Trial 44 finished with value: 1.0410960201294688 and parameters: {'lambda_l1': 5.3491947890230845e-05, 'lambda_l2': 7.410487108884385e-05}. Best is trial 40 with value: 1.0365242626311186.\u001b[0m\n",
      "regularization_factors, val_score: 1.035930:  25%|##5       | 5/20 [02:43<08:04, 32.32s/it]"
     ]
    },
    {
     "name": "stdout",
     "output_type": "stream",
     "text": [
      "Training until validation scores don't improve for 100 rounds\n",
      "[100]\tvalid_0's rmse: 1.16028\tvalid_1's rmse: 1.23789\n",
      "[200]\tvalid_0's rmse: 0.971365\tvalid_1's rmse: 1.12381\n",
      "[300]\tvalid_0's rmse: 0.882308\tvalid_1's rmse: 1.09402\n",
      "[400]\tvalid_0's rmse: 0.818831\tvalid_1's rmse: 1.08037\n",
      "[500]\tvalid_0's rmse: 0.765534\tvalid_1's rmse: 1.07124\n",
      "[600]\tvalid_0's rmse: 0.719244\tvalid_1's rmse: 1.06461\n",
      "[700]\tvalid_0's rmse: 0.678033\tvalid_1's rmse: 1.05926\n",
      "[800]\tvalid_0's rmse: 0.640727\tvalid_1's rmse: 1.05524\n",
      "[900]\tvalid_0's rmse: 0.606751\tvalid_1's rmse: 1.05204\n",
      "[1000]\tvalid_0's rmse: 0.575399\tvalid_1's rmse: 1.04971\n",
      "[1100]\tvalid_0's rmse: 0.546939\tvalid_1's rmse: 1.04772\n",
      "[1200]\tvalid_0's rmse: 0.520686\tvalid_1's rmse: 1.04561\n",
      "[1300]\tvalid_0's rmse: 0.496712\tvalid_1's rmse: 1.04377\n",
      "[1400]\tvalid_0's rmse: 0.474288\tvalid_1's rmse: 1.04258\n",
      "[1500]\tvalid_0's rmse: 0.453198\tvalid_1's rmse: 1.04192\n",
      "[1600]\tvalid_0's rmse: 0.433451\tvalid_1's rmse: 1.04109\n",
      "[1700]\tvalid_0's rmse: 0.415353\tvalid_1's rmse: 1.04065\n",
      "[1800]\tvalid_0's rmse: 0.39827\tvalid_1's rmse: 1.04007\n",
      "[1900]\tvalid_0's rmse: 0.382275\tvalid_1's rmse: 1.03985\n",
      "[2000]\tvalid_0's rmse: 0.367341\tvalid_1's rmse: 1.03976\n",
      "[2100]\tvalid_0's rmse: 0.353362\tvalid_1's rmse: 1.0392\n",
      "[2200]\tvalid_0's rmse: 0.340105\tvalid_1's rmse: 1.03919\n",
      "Early stopping, best iteration is:\n",
      "[2167]\tvalid_0's rmse: 0.344465\tvalid_1's rmse: 1.03901\n"
     ]
    },
    {
     "name": "stderr",
     "output_type": "stream",
     "text": [
      "regularization_factors, val_score: 1.035930:  30%|###       | 6/20 [03:15<07:31, 32.25s/it]\u001b[32m[I 2021-03-08 04:37:57,888]\u001b[0m Trial 45 finished with value: 1.039009415609081 and parameters: {'lambda_l1': 2.33022261131485e-07, 'lambda_l2': 0.6487604578667858}. Best is trial 40 with value: 1.0365242626311186.\u001b[0m\n",
      "regularization_factors, val_score: 1.035930:  30%|###       | 6/20 [03:15<07:31, 32.25s/it]"
     ]
    },
    {
     "name": "stdout",
     "output_type": "stream",
     "text": [
      "Training until validation scores don't improve for 100 rounds\n",
      "[100]\tvalid_0's rmse: 1.15712\tvalid_1's rmse: 1.23797\n",
      "[200]\tvalid_0's rmse: 0.968303\tvalid_1's rmse: 1.12477\n",
      "[300]\tvalid_0's rmse: 0.879736\tvalid_1's rmse: 1.09527\n",
      "[400]\tvalid_0's rmse: 0.816345\tvalid_1's rmse: 1.0823\n",
      "[500]\tvalid_0's rmse: 0.762934\tvalid_1's rmse: 1.07324\n",
      "[600]\tvalid_0's rmse: 0.716568\tvalid_1's rmse: 1.06833\n",
      "[700]\tvalid_0's rmse: 0.675095\tvalid_1's rmse: 1.06239\n",
      "[800]\tvalid_0's rmse: 0.63782\tvalid_1's rmse: 1.05787\n",
      "[900]\tvalid_0's rmse: 0.603952\tvalid_1's rmse: 1.05394\n",
      "[1000]\tvalid_0's rmse: 0.572698\tvalid_1's rmse: 1.05137\n",
      "[1100]\tvalid_0's rmse: 0.544143\tvalid_1's rmse: 1.04945\n",
      "[1200]\tvalid_0's rmse: 0.517644\tvalid_1's rmse: 1.0476\n",
      "[1300]\tvalid_0's rmse: 0.49337\tvalid_1's rmse: 1.04601\n",
      "[1400]\tvalid_0's rmse: 0.470777\tvalid_1's rmse: 1.04446\n",
      "[1500]\tvalid_0's rmse: 0.449917\tvalid_1's rmse: 1.04404\n",
      "[1600]\tvalid_0's rmse: 0.430397\tvalid_1's rmse: 1.04351\n",
      "[1700]\tvalid_0's rmse: 0.412278\tvalid_1's rmse: 1.04277\n",
      "[1800]\tvalid_0's rmse: 0.395411\tvalid_1's rmse: 1.04198\n",
      "[1900]\tvalid_0's rmse: 0.379466\tvalid_1's rmse: 1.04186\n",
      "Early stopping, best iteration is:\n",
      "[1837]\tvalid_0's rmse: 0.389341\tvalid_1's rmse: 1.04183\n"
     ]
    },
    {
     "name": "stderr",
     "output_type": "stream",
     "text": [
      "regularization_factors, val_score: 1.035930:  35%|###5      | 7/20 [03:43<06:40, 30.78s/it]\u001b[32m[I 2021-03-08 04:38:25,248]\u001b[0m Trial 46 finished with value: 1.041833116547078 and parameters: {'lambda_l1': 0.10369951858303982, 'lambda_l2': 1.7112835500887827e-06}. Best is trial 40 with value: 1.0365242626311186.\u001b[0m\n",
      "regularization_factors, val_score: 1.035930:  35%|###5      | 7/20 [03:43<06:40, 30.78s/it]"
     ]
    },
    {
     "name": "stdout",
     "output_type": "stream",
     "text": [
      "Training until validation scores don't improve for 100 rounds\n",
      "[100]\tvalid_0's rmse: 1.16261\tvalid_1's rmse: 1.23876\n",
      "[200]\tvalid_0's rmse: 0.97379\tvalid_1's rmse: 1.12436\n",
      "[300]\tvalid_0's rmse: 0.884263\tvalid_1's rmse: 1.09415\n",
      "[400]\tvalid_0's rmse: 0.821397\tvalid_1's rmse: 1.0811\n",
      "[500]\tvalid_0's rmse: 0.768253\tvalid_1's rmse: 1.07158\n",
      "[600]\tvalid_0's rmse: 0.721877\tvalid_1's rmse: 1.06618\n",
      "[700]\tvalid_0's rmse: 0.680679\tvalid_1's rmse: 1.06153\n",
      "[800]\tvalid_0's rmse: 0.643006\tvalid_1's rmse: 1.05714\n",
      "[900]\tvalid_0's rmse: 0.608834\tvalid_1's rmse: 1.05329\n",
      "[1000]\tvalid_0's rmse: 0.577506\tvalid_1's rmse: 1.05033\n",
      "[1100]\tvalid_0's rmse: 0.548999\tvalid_1's rmse: 1.04793\n",
      "[1200]\tvalid_0's rmse: 0.522635\tvalid_1's rmse: 1.04632\n",
      "[1300]\tvalid_0's rmse: 0.498399\tvalid_1's rmse: 1.0447\n",
      "[1400]\tvalid_0's rmse: 0.476086\tvalid_1's rmse: 1.04317\n",
      "[1500]\tvalid_0's rmse: 0.455074\tvalid_1's rmse: 1.04264\n",
      "[1600]\tvalid_0's rmse: 0.435505\tvalid_1's rmse: 1.04152\n",
      "[1700]\tvalid_0's rmse: 0.417313\tvalid_1's rmse: 1.04105\n",
      "[1800]\tvalid_0's rmse: 0.400299\tvalid_1's rmse: 1.04062\n",
      "[1900]\tvalid_0's rmse: 0.384224\tvalid_1's rmse: 1.03998\n",
      "[2000]\tvalid_0's rmse: 0.369096\tvalid_1's rmse: 1.03983\n",
      "[2100]\tvalid_0's rmse: 0.355037\tvalid_1's rmse: 1.03939\n",
      "[2200]\tvalid_0's rmse: 0.341493\tvalid_1's rmse: 1.03893\n",
      "[2300]\tvalid_0's rmse: 0.328903\tvalid_1's rmse: 1.0386\n",
      "[2400]\tvalid_0's rmse: 0.317152\tvalid_1's rmse: 1.03828\n",
      "[2500]\tvalid_0's rmse: 0.306074\tvalid_1's rmse: 1.03807\n",
      "[2600]\tvalid_0's rmse: 0.295489\tvalid_1's rmse: 1.03826\n",
      "Early stopping, best iteration is:\n",
      "[2509]\tvalid_0's rmse: 0.305106\tvalid_1's rmse: 1.03803\n"
     ]
    },
    {
     "name": "stderr",
     "output_type": "stream",
     "text": [
      "regularization_factors, val_score: 1.035930:  40%|####      | 8/20 [04:20<06:31, 32.66s/it]\u001b[32m[I 2021-03-08 04:39:02,292]\u001b[0m Trial 47 finished with value: 1.0380295803510726 and parameters: {'lambda_l1': 2.3822582295889653e-07, 'lambda_l2': 1.0355883568877193}. Best is trial 40 with value: 1.0365242626311186.\u001b[0m\n",
      "regularization_factors, val_score: 1.035930:  40%|####      | 8/20 [04:20<06:31, 32.66s/it]"
     ]
    },
    {
     "name": "stdout",
     "output_type": "stream",
     "text": [
      "Training until validation scores don't improve for 100 rounds\n",
      "[100]\tvalid_0's rmse: 1.15794\tvalid_1's rmse: 1.23775\n",
      "[200]\tvalid_0's rmse: 0.969195\tvalid_1's rmse: 1.12449\n",
      "[300]\tvalid_0's rmse: 0.880526\tvalid_1's rmse: 1.09496\n",
      "[400]\tvalid_0's rmse: 0.817001\tvalid_1's rmse: 1.08106\n",
      "[500]\tvalid_0's rmse: 0.763603\tvalid_1's rmse: 1.07207\n",
      "[600]\tvalid_0's rmse: 0.717352\tvalid_1's rmse: 1.06679\n",
      "[700]\tvalid_0's rmse: 0.676064\tvalid_1's rmse: 1.06124\n",
      "[800]\tvalid_0's rmse: 0.638766\tvalid_1's rmse: 1.05751\n",
      "[900]\tvalid_0's rmse: 0.604447\tvalid_1's rmse: 1.05424\n",
      "[1000]\tvalid_0's rmse: 0.573172\tvalid_1's rmse: 1.05142\n",
      "[1100]\tvalid_0's rmse: 0.544549\tvalid_1's rmse: 1.04956\n",
      "[1200]\tvalid_0's rmse: 0.51815\tvalid_1's rmse: 1.04773\n",
      "[1300]\tvalid_0's rmse: 0.494007\tvalid_1's rmse: 1.04552\n",
      "[1400]\tvalid_0's rmse: 0.471372\tvalid_1's rmse: 1.04426\n",
      "[1500]\tvalid_0's rmse: 0.450392\tvalid_1's rmse: 1.04366\n",
      "[1600]\tvalid_0's rmse: 0.430706\tvalid_1's rmse: 1.04288\n",
      "[1700]\tvalid_0's rmse: 0.412442\tvalid_1's rmse: 1.04244\n",
      "[1800]\tvalid_0's rmse: 0.395372\tvalid_1's rmse: 1.0418\n",
      "[1900]\tvalid_0's rmse: 0.379388\tvalid_1's rmse: 1.04129\n",
      "[2000]\tvalid_0's rmse: 0.364512\tvalid_1's rmse: 1.04099\n",
      "[2100]\tvalid_0's rmse: 0.350635\tvalid_1's rmse: 1.04049\n",
      "[2200]\tvalid_0's rmse: 0.337352\tvalid_1's rmse: 1.03984\n",
      "[2300]\tvalid_0's rmse: 0.324844\tvalid_1's rmse: 1.03979\n",
      "[2400]\tvalid_0's rmse: 0.312927\tvalid_1's rmse: 1.03946\n",
      "[2500]\tvalid_0's rmse: 0.302019\tvalid_1's rmse: 1.03904\n",
      "[2600]\tvalid_0's rmse: 0.291603\tvalid_1's rmse: 1.03885\n",
      "[2700]\tvalid_0's rmse: 0.281761\tvalid_1's rmse: 1.03881\n",
      "Early stopping, best iteration is:\n",
      "[2635]\tvalid_0's rmse: 0.288007\tvalid_1's rmse: 1.0387\n"
     ]
    },
    {
     "name": "stderr",
     "output_type": "stream",
     "text": [
      "regularization_factors, val_score: 1.035930:  45%|####5     | 9/20 [04:56<06:12, 33.85s/it]\u001b[32m[I 2021-03-08 04:39:38,935]\u001b[0m Trial 48 finished with value: 1.0387028776435534 and parameters: {'lambda_l1': 3.712753610468787e-05, 'lambda_l2': 0.19300343464426498}. Best is trial 40 with value: 1.0365242626311186.\u001b[0m\n",
      "regularization_factors, val_score: 1.035930:  45%|####5     | 9/20 [04:56<06:12, 33.85s/it]"
     ]
    },
    {
     "name": "stdout",
     "output_type": "stream",
     "text": [
      "Training until validation scores don't improve for 100 rounds\n",
      "[100]\tvalid_0's rmse: 1.17377\tvalid_1's rmse: 1.24197\n",
      "[200]\tvalid_0's rmse: 0.989685\tvalid_1's rmse: 1.12601\n",
      "[300]\tvalid_0's rmse: 0.902589\tvalid_1's rmse: 1.09453\n",
      "[400]\tvalid_0's rmse: 0.842295\tvalid_1's rmse: 1.0818\n",
      "[500]\tvalid_0's rmse: 0.792375\tvalid_1's rmse: 1.07245\n",
      "[600]\tvalid_0's rmse: 0.749175\tvalid_1's rmse: 1.06587\n",
      "[700]\tvalid_0's rmse: 0.710698\tvalid_1's rmse: 1.06042\n",
      "[800]\tvalid_0's rmse: 0.675824\tvalid_1's rmse: 1.05635\n",
      "[900]\tvalid_0's rmse: 0.644274\tvalid_1's rmse: 1.05279\n",
      "[1000]\tvalid_0's rmse: 0.615328\tvalid_1's rmse: 1.04991\n",
      "[1100]\tvalid_0's rmse: 0.58883\tvalid_1's rmse: 1.04791\n",
      "[1200]\tvalid_0's rmse: 0.564367\tvalid_1's rmse: 1.04649\n",
      "[1300]\tvalid_0's rmse: 0.54176\tvalid_1's rmse: 1.0448\n",
      "[1400]\tvalid_0's rmse: 0.520737\tvalid_1's rmse: 1.04357\n",
      "[1500]\tvalid_0's rmse: 0.501207\tvalid_1's rmse: 1.04272\n",
      "[1600]\tvalid_0's rmse: 0.482956\tvalid_1's rmse: 1.04155\n",
      "[1700]\tvalid_0's rmse: 0.465962\tvalid_1's rmse: 1.04044\n",
      "[1800]\tvalid_0's rmse: 0.449952\tvalid_1's rmse: 1.03976\n",
      "[1900]\tvalid_0's rmse: 0.434985\tvalid_1's rmse: 1.03888\n",
      "[2000]\tvalid_0's rmse: 0.420825\tvalid_1's rmse: 1.03873\n",
      "[2100]\tvalid_0's rmse: 0.407595\tvalid_1's rmse: 1.03811\n",
      "[2200]\tvalid_0's rmse: 0.394887\tvalid_1's rmse: 1.03769\n",
      "[2300]\tvalid_0's rmse: 0.383152\tvalid_1's rmse: 1.03761\n",
      "[2400]\tvalid_0's rmse: 0.371936\tvalid_1's rmse: 1.0374\n",
      "[2500]\tvalid_0's rmse: 0.36128\tvalid_1's rmse: 1.03692\n",
      "[2600]\tvalid_0's rmse: 0.351236\tvalid_1's rmse: 1.03681\n",
      "Early stopping, best iteration is:\n",
      "[2592]\tvalid_0's rmse: 0.352002\tvalid_1's rmse: 1.03677\n"
     ]
    },
    {
     "name": "stderr",
     "output_type": "stream",
     "text": [
      "regularization_factors, val_score: 1.035930:  50%|#####     | 10/20 [05:31<05:40, 34.01s/it]\u001b[32m[I 2021-03-08 04:40:13,304]\u001b[0m Trial 49 finished with value: 1.0367688937262423 and parameters: {'lambda_l1': 4.678933039761038, 'lambda_l2': 1.7710910732665806e-07}. Best is trial 40 with value: 1.0365242626311186.\u001b[0m\n",
      "regularization_factors, val_score: 1.035930:  50%|#####     | 10/20 [05:31<05:40, 34.01s/it]"
     ]
    },
    {
     "name": "stdout",
     "output_type": "stream",
     "text": [
      "Training until validation scores don't improve for 100 rounds\n",
      "[100]\tvalid_0's rmse: 1.15715\tvalid_1's rmse: 1.23825\n",
      "[200]\tvalid_0's rmse: 0.968409\tvalid_1's rmse: 1.12516\n",
      "[300]\tvalid_0's rmse: 0.879568\tvalid_1's rmse: 1.09483\n",
      "[400]\tvalid_0's rmse: 0.816262\tvalid_1's rmse: 1.08124\n",
      "[500]\tvalid_0's rmse: 0.762603\tvalid_1's rmse: 1.07191\n",
      "[600]\tvalid_0's rmse: 0.715932\tvalid_1's rmse: 1.06619\n",
      "[700]\tvalid_0's rmse: 0.674796\tvalid_1's rmse: 1.06161\n",
      "[800]\tvalid_0's rmse: 0.637061\tvalid_1's rmse: 1.05742\n",
      "[900]\tvalid_0's rmse: 0.602909\tvalid_1's rmse: 1.05338\n",
      "[1000]\tvalid_0's rmse: 0.571575\tvalid_1's rmse: 1.05058\n",
      "[1100]\tvalid_0's rmse: 0.542801\tvalid_1's rmse: 1.04866\n",
      "[1200]\tvalid_0's rmse: 0.516662\tvalid_1's rmse: 1.04676\n",
      "[1300]\tvalid_0's rmse: 0.492362\tvalid_1's rmse: 1.04508\n",
      "[1400]\tvalid_0's rmse: 0.469777\tvalid_1's rmse: 1.0437\n",
      "[1500]\tvalid_0's rmse: 0.44904\tvalid_1's rmse: 1.04289\n",
      "[1600]\tvalid_0's rmse: 0.429596\tvalid_1's rmse: 1.04232\n",
      "[1700]\tvalid_0's rmse: 0.411686\tvalid_1's rmse: 1.04158\n",
      "[1800]\tvalid_0's rmse: 0.394691\tvalid_1's rmse: 1.04082\n",
      "[1900]\tvalid_0's rmse: 0.378757\tvalid_1's rmse: 1.04052\n",
      "[2000]\tvalid_0's rmse: 0.363865\tvalid_1's rmse: 1.04041\n",
      "Early stopping, best iteration is:\n",
      "[1980]\tvalid_0's rmse: 0.36685\tvalid_1's rmse: 1.04026\n"
     ]
    },
    {
     "name": "stderr",
     "output_type": "stream",
     "text": [
      "regularization_factors, val_score: 1.035930:  55%|#####5    | 11/20 [06:01<04:54, 32.77s/it]\u001b[32m[I 2021-03-08 04:40:43,175]\u001b[0m Trial 50 finished with value: 1.0402641145982348 and parameters: {'lambda_l1': 0.11319114726405288, 'lambda_l2': 0.004185882514618851}. Best is trial 40 with value: 1.0365242626311186.\u001b[0m\n",
      "regularization_factors, val_score: 1.035930:  55%|#####5    | 11/20 [06:01<04:54, 32.77s/it]"
     ]
    },
    {
     "name": "stdout",
     "output_type": "stream",
     "text": [
      "Training until validation scores don't improve for 100 rounds\n",
      "[100]\tvalid_0's rmse: 1.18731\tvalid_1's rmse: 1.24838\n",
      "[200]\tvalid_0's rmse: 1.01029\tvalid_1's rmse: 1.1331\n",
      "[300]\tvalid_0's rmse: 0.926848\tvalid_1's rmse: 1.10118\n",
      "[400]\tvalid_0's rmse: 0.869454\tvalid_1's rmse: 1.08649\n",
      "[500]\tvalid_0's rmse: 0.822973\tvalid_1's rmse: 1.07703\n",
      "[600]\tvalid_0's rmse: 0.782312\tvalid_1's rmse: 1.07059\n",
      "[700]\tvalid_0's rmse: 0.746506\tvalid_1's rmse: 1.06451\n",
      "[800]\tvalid_0's rmse: 0.713688\tvalid_1's rmse: 1.05984\n",
      "[900]\tvalid_0's rmse: 0.684161\tvalid_1's rmse: 1.05626\n",
      "[1000]\tvalid_0's rmse: 0.656906\tvalid_1's rmse: 1.05343\n",
      "[1100]\tvalid_0's rmse: 0.631669\tvalid_1's rmse: 1.05068\n",
      "[1200]\tvalid_0's rmse: 0.608497\tvalid_1's rmse: 1.04859\n",
      "[1300]\tvalid_0's rmse: 0.587059\tvalid_1's rmse: 1.04657\n",
      "[1400]\tvalid_0's rmse: 0.566921\tvalid_1's rmse: 1.04502\n",
      "[1500]\tvalid_0's rmse: 0.548366\tvalid_1's rmse: 1.0442\n",
      "[1600]\tvalid_0's rmse: 0.530765\tvalid_1's rmse: 1.04319\n",
      "[1700]\tvalid_0's rmse: 0.514141\tvalid_1's rmse: 1.04233\n",
      "[1800]\tvalid_0's rmse: 0.498526\tvalid_1's rmse: 1.04139\n",
      "[1900]\tvalid_0's rmse: 0.483885\tvalid_1's rmse: 1.04066\n",
      "[2000]\tvalid_0's rmse: 0.470159\tvalid_1's rmse: 1.03993\n",
      "[2100]\tvalid_0's rmse: 0.457137\tvalid_1's rmse: 1.0394\n",
      "[2200]\tvalid_0's rmse: 0.444749\tvalid_1's rmse: 1.03896\n",
      "[2300]\tvalid_0's rmse: 0.433091\tvalid_1's rmse: 1.03869\n",
      "[2400]\tvalid_0's rmse: 0.421979\tvalid_1's rmse: 1.03824\n",
      "[2500]\tvalid_0's rmse: 0.411448\tvalid_1's rmse: 1.03778\n",
      "[2600]\tvalid_0's rmse: 0.401436\tvalid_1's rmse: 1.03753\n",
      "[2700]\tvalid_0's rmse: 0.391922\tvalid_1's rmse: 1.03718\n",
      "[2800]\tvalid_0's rmse: 0.382816\tvalid_1's rmse: 1.03691\n",
      "[2900]\tvalid_0's rmse: 0.374148\tvalid_1's rmse: 1.03674\n",
      "[3000]\tvalid_0's rmse: 0.365907\tvalid_1's rmse: 1.0366\n",
      "[3100]\tvalid_0's rmse: 0.358023\tvalid_1's rmse: 1.03634\n",
      "[3200]\tvalid_0's rmse: 0.350472\tvalid_1's rmse: 1.03614\n",
      "[3300]\tvalid_0's rmse: 0.343294\tvalid_1's rmse: 1.03603\n",
      "[3400]\tvalid_0's rmse: 0.336435\tvalid_1's rmse: 1.03589\n",
      "Early stopping, best iteration is:\n",
      "[3373]\tvalid_0's rmse: 0.338242\tvalid_1's rmse: 1.03577\n"
     ]
    },
    {
     "name": "stderr",
     "output_type": "stream",
     "text": [
      "regularization_factors, val_score: 1.035771:  60%|######    | 12/20 [06:45<04:48, 36.12s/it]\u001b[32m[I 2021-03-08 04:41:27,116]\u001b[0m Trial 51 finished with value: 1.0357712634315985 and parameters: {'lambda_l1': 9.090250250190438, 'lambda_l2': 1.1575543507839651e-08}. Best is trial 51 with value: 1.0357712634315985.\u001b[0m\n",
      "regularization_factors, val_score: 1.035771:  60%|######    | 12/20 [06:45<04:48, 36.12s/it]"
     ]
    },
    {
     "name": "stdout",
     "output_type": "stream",
     "text": [
      "Training until validation scores don't improve for 100 rounds\n",
      "[100]\tvalid_0's rmse: 1.18885\tvalid_1's rmse: 1.25028\n",
      "[200]\tvalid_0's rmse: 1.01252\tvalid_1's rmse: 1.13519\n",
      "[300]\tvalid_0's rmse: 0.9291\tvalid_1's rmse: 1.10302\n",
      "[400]\tvalid_0's rmse: 0.871838\tvalid_1's rmse: 1.08872\n",
      "[500]\tvalid_0's rmse: 0.825701\tvalid_1's rmse: 1.07911\n",
      "[600]\tvalid_0's rmse: 0.785589\tvalid_1's rmse: 1.072\n",
      "[700]\tvalid_0's rmse: 0.749781\tvalid_1's rmse: 1.06629\n",
      "[800]\tvalid_0's rmse: 0.717325\tvalid_1's rmse: 1.06163\n",
      "[900]\tvalid_0's rmse: 0.688009\tvalid_1's rmse: 1.05806\n",
      "[1000]\tvalid_0's rmse: 0.660879\tvalid_1's rmse: 1.05505\n",
      "[1100]\tvalid_0's rmse: 0.63603\tvalid_1's rmse: 1.05272\n",
      "[1200]\tvalid_0's rmse: 0.612996\tvalid_1's rmse: 1.05053\n",
      "[1300]\tvalid_0's rmse: 0.591695\tvalid_1's rmse: 1.04838\n",
      "[1400]\tvalid_0's rmse: 0.571806\tvalid_1's rmse: 1.04677\n",
      "[1500]\tvalid_0's rmse: 0.553346\tvalid_1's rmse: 1.04527\n",
      "[1600]\tvalid_0's rmse: 0.535766\tvalid_1's rmse: 1.04443\n",
      "[1700]\tvalid_0's rmse: 0.519229\tvalid_1's rmse: 1.0439\n",
      "[1800]\tvalid_0's rmse: 0.503639\tvalid_1's rmse: 1.04299\n",
      "[1900]\tvalid_0's rmse: 0.488983\tvalid_1's rmse: 1.04228\n",
      "[2000]\tvalid_0's rmse: 0.475208\tvalid_1's rmse: 1.04154\n",
      "[2100]\tvalid_0's rmse: 0.46212\tvalid_1's rmse: 1.04112\n",
      "[2200]\tvalid_0's rmse: 0.449861\tvalid_1's rmse: 1.0406\n",
      "[2300]\tvalid_0's rmse: 0.438099\tvalid_1's rmse: 1.04035\n",
      "[2400]\tvalid_0's rmse: 0.426902\tvalid_1's rmse: 1.04004\n",
      "[2500]\tvalid_0's rmse: 0.416285\tvalid_1's rmse: 1.03972\n",
      "[2600]\tvalid_0's rmse: 0.406257\tvalid_1's rmse: 1.03964\n",
      "[2700]\tvalid_0's rmse: 0.396762\tvalid_1's rmse: 1.03929\n",
      "[2800]\tvalid_0's rmse: 0.38762\tvalid_1's rmse: 1.039\n",
      "[2900]\tvalid_0's rmse: 0.378979\tvalid_1's rmse: 1.03876\n",
      "[3000]\tvalid_0's rmse: 0.370849\tvalid_1's rmse: 1.03853\n",
      "[3100]\tvalid_0's rmse: 0.362928\tvalid_1's rmse: 1.03831\n",
      "[3200]\tvalid_0's rmse: 0.355421\tvalid_1's rmse: 1.03804\n",
      "[3300]\tvalid_0's rmse: 0.348135\tvalid_1's rmse: 1.03791\n",
      "[3400]\tvalid_0's rmse: 0.341214\tvalid_1's rmse: 1.03782\n",
      "[3500]\tvalid_0's rmse: 0.334496\tvalid_1's rmse: 1.03766\n",
      "[3600]\tvalid_0's rmse: 0.328172\tvalid_1's rmse: 1.03752\n",
      "[3700]\tvalid_0's rmse: 0.322087\tvalid_1's rmse: 1.03752\n",
      "[3800]\tvalid_0's rmse: 0.316354\tvalid_1's rmse: 1.03753\n",
      "Early stopping, best iteration is:\n",
      "[3716]\tvalid_0's rmse: 0.321144\tvalid_1's rmse: 1.03743\n"
     ]
    },
    {
     "name": "stderr",
     "output_type": "stream",
     "text": [
      "regularization_factors, val_score: 1.035771:  65%|######5   | 13/20 [07:27<04:27, 38.15s/it]\u001b[32m[I 2021-03-08 04:42:10,003]\u001b[0m Trial 52 finished with value: 1.0374300966438077 and parameters: {'lambda_l1': 9.60097356761517, 'lambda_l2': 1.3916507841800016e-08}. Best is trial 51 with value: 1.0357712634315985.\u001b[0m\n",
      "regularization_factors, val_score: 1.035771:  65%|######5   | 13/20 [07:27<04:27, 38.15s/it]"
     ]
    },
    {
     "name": "stdout",
     "output_type": "stream",
     "text": [
      "Training until validation scores don't improve for 100 rounds\n",
      "[100]\tvalid_0's rmse: 1.18743\tvalid_1's rmse: 1.24878\n",
      "[200]\tvalid_0's rmse: 1.01062\tvalid_1's rmse: 1.13376\n",
      "[300]\tvalid_0's rmse: 0.92696\tvalid_1's rmse: 1.10144\n",
      "[400]\tvalid_0's rmse: 0.869769\tvalid_1's rmse: 1.08746\n",
      "[500]\tvalid_0's rmse: 0.823292\tvalid_1's rmse: 1.07807\n",
      "[600]\tvalid_0's rmse: 0.783046\tvalid_1's rmse: 1.07122\n",
      "[700]\tvalid_0's rmse: 0.747066\tvalid_1's rmse: 1.06599\n",
      "[800]\tvalid_0's rmse: 0.714468\tvalid_1's rmse: 1.06183\n",
      "[900]\tvalid_0's rmse: 0.684974\tvalid_1's rmse: 1.05767\n",
      "[1000]\tvalid_0's rmse: 0.657635\tvalid_1's rmse: 1.05488\n",
      "[1100]\tvalid_0's rmse: 0.632467\tvalid_1's rmse: 1.05229\n",
      "[1200]\tvalid_0's rmse: 0.609398\tvalid_1's rmse: 1.05035\n",
      "[1300]\tvalid_0's rmse: 0.587894\tvalid_1's rmse: 1.04874\n",
      "[1400]\tvalid_0's rmse: 0.567869\tvalid_1's rmse: 1.04731\n",
      "[1500]\tvalid_0's rmse: 0.549148\tvalid_1's rmse: 1.04629\n",
      "[1600]\tvalid_0's rmse: 0.531508\tvalid_1's rmse: 1.0453\n",
      "[1700]\tvalid_0's rmse: 0.514855\tvalid_1's rmse: 1.0447\n",
      "[1800]\tvalid_0's rmse: 0.499286\tvalid_1's rmse: 1.0438\n",
      "[1900]\tvalid_0's rmse: 0.48455\tvalid_1's rmse: 1.04282\n",
      "[2000]\tvalid_0's rmse: 0.470683\tvalid_1's rmse: 1.04229\n",
      "[2100]\tvalid_0's rmse: 0.45764\tvalid_1's rmse: 1.04198\n",
      "[2200]\tvalid_0's rmse: 0.445192\tvalid_1's rmse: 1.04155\n",
      "[2300]\tvalid_0's rmse: 0.433448\tvalid_1's rmse: 1.041\n",
      "[2400]\tvalid_0's rmse: 0.422296\tvalid_1's rmse: 1.04073\n",
      "[2500]\tvalid_0's rmse: 0.411743\tvalid_1's rmse: 1.04028\n",
      "[2600]\tvalid_0's rmse: 0.401709\tvalid_1's rmse: 1.04004\n",
      "[2700]\tvalid_0's rmse: 0.392167\tvalid_1's rmse: 1.04018\n",
      "Early stopping, best iteration is:\n",
      "[2632]\tvalid_0's rmse: 0.398529\tvalid_1's rmse: 1.04004\n"
     ]
    },
    {
     "name": "stderr",
     "output_type": "stream",
     "text": [
      "regularization_factors, val_score: 1.035771:  70%|#######   | 14/20 [07:59<03:37, 36.21s/it]\u001b[32m[I 2021-03-08 04:42:41,692]\u001b[0m Trial 53 finished with value: 1.0400369223404704 and parameters: {'lambda_l1': 9.118005467071924, 'lambda_l2': 0.0046126134439441295}. Best is trial 51 with value: 1.0357712634315985.\u001b[0m\n",
      "regularization_factors, val_score: 1.035771:  70%|#######   | 14/20 [07:59<03:37, 36.21s/it]"
     ]
    },
    {
     "name": "stdout",
     "output_type": "stream",
     "text": [
      "Training until validation scores don't improve for 100 rounds\n",
      "[100]\tvalid_0's rmse: 1.15715\tvalid_1's rmse: 1.23708\n",
      "[200]\tvalid_0's rmse: 0.968666\tvalid_1's rmse: 1.12386\n",
      "[300]\tvalid_0's rmse: 0.880025\tvalid_1's rmse: 1.09501\n",
      "[400]\tvalid_0's rmse: 0.816808\tvalid_1's rmse: 1.08173\n",
      "[500]\tvalid_0's rmse: 0.763397\tvalid_1's rmse: 1.07271\n",
      "[600]\tvalid_0's rmse: 0.717044\tvalid_1's rmse: 1.06703\n",
      "[700]\tvalid_0's rmse: 0.675454\tvalid_1's rmse: 1.0617\n",
      "[800]\tvalid_0's rmse: 0.63829\tvalid_1's rmse: 1.05775\n",
      "[900]\tvalid_0's rmse: 0.604334\tvalid_1's rmse: 1.05409\n",
      "[1000]\tvalid_0's rmse: 0.5734\tvalid_1's rmse: 1.05099\n",
      "[1100]\tvalid_0's rmse: 0.544821\tvalid_1's rmse: 1.04873\n",
      "[1200]\tvalid_0's rmse: 0.518497\tvalid_1's rmse: 1.04714\n",
      "[1300]\tvalid_0's rmse: 0.494324\tvalid_1's rmse: 1.04503\n",
      "[1400]\tvalid_0's rmse: 0.471706\tvalid_1's rmse: 1.04349\n",
      "[1500]\tvalid_0's rmse: 0.450689\tvalid_1's rmse: 1.04301\n",
      "[1600]\tvalid_0's rmse: 0.431103\tvalid_1's rmse: 1.04244\n",
      "[1700]\tvalid_0's rmse: 0.413062\tvalid_1's rmse: 1.04172\n",
      "[1800]\tvalid_0's rmse: 0.396221\tvalid_1's rmse: 1.04117\n",
      "[1900]\tvalid_0's rmse: 0.380139\tvalid_1's rmse: 1.04068\n",
      "[2000]\tvalid_0's rmse: 0.365211\tvalid_1's rmse: 1.04065\n",
      "[2100]\tvalid_0's rmse: 0.351258\tvalid_1's rmse: 1.04039\n",
      "[2200]\tvalid_0's rmse: 0.338048\tvalid_1's rmse: 1.04024\n",
      "Early stopping, best iteration is:\n",
      "[2183]\tvalid_0's rmse: 0.340277\tvalid_1's rmse: 1.04011\n"
     ]
    },
    {
     "name": "stderr",
     "output_type": "stream",
     "text": [
      "regularization_factors, val_score: 1.035771:  75%|#######5  | 15/20 [08:36<03:01, 36.33s/it]\u001b[32m[I 2021-03-08 04:43:18,305]\u001b[0m Trial 54 finished with value: 1.0401102925507208 and parameters: {'lambda_l1': 0.20467892996280693, 'lambda_l2': 1.0842135257966113e-08}. Best is trial 51 with value: 1.0357712634315985.\u001b[0m\n",
      "regularization_factors, val_score: 1.035771:  75%|#######5  | 15/20 [08:36<03:01, 36.33s/it]"
     ]
    },
    {
     "name": "stdout",
     "output_type": "stream",
     "text": [
      "Training until validation scores don't improve for 100 rounds\n",
      "[100]\tvalid_0's rmse: 1.15698\tvalid_1's rmse: 1.23787\n",
      "[200]\tvalid_0's rmse: 0.968302\tvalid_1's rmse: 1.12449\n",
      "[300]\tvalid_0's rmse: 0.879835\tvalid_1's rmse: 1.09503\n",
      "[400]\tvalid_0's rmse: 0.816205\tvalid_1's rmse: 1.08187\n",
      "[500]\tvalid_0's rmse: 0.762631\tvalid_1's rmse: 1.07302\n",
      "[600]\tvalid_0's rmse: 0.716462\tvalid_1's rmse: 1.06632\n",
      "[700]\tvalid_0's rmse: 0.675037\tvalid_1's rmse: 1.06081\n",
      "[800]\tvalid_0's rmse: 0.637296\tvalid_1's rmse: 1.05644\n",
      "[900]\tvalid_0's rmse: 0.602893\tvalid_1's rmse: 1.05296\n",
      "[1000]\tvalid_0's rmse: 0.571501\tvalid_1's rmse: 1.05048\n",
      "[1100]\tvalid_0's rmse: 0.542921\tvalid_1's rmse: 1.04851\n",
      "[1200]\tvalid_0's rmse: 0.51665\tvalid_1's rmse: 1.04695\n",
      "[1300]\tvalid_0's rmse: 0.492532\tvalid_1's rmse: 1.04529\n",
      "[1400]\tvalid_0's rmse: 0.469914\tvalid_1's rmse: 1.04416\n",
      "[1500]\tvalid_0's rmse: 0.448952\tvalid_1's rmse: 1.04384\n",
      "[1600]\tvalid_0's rmse: 0.429541\tvalid_1's rmse: 1.04268\n",
      "[1700]\tvalid_0's rmse: 0.411486\tvalid_1's rmse: 1.04217\n",
      "[1800]\tvalid_0's rmse: 0.394558\tvalid_1's rmse: 1.04177\n",
      "[1900]\tvalid_0's rmse: 0.378542\tvalid_1's rmse: 1.04114\n",
      "[2000]\tvalid_0's rmse: 0.363519\tvalid_1's rmse: 1.04051\n",
      "[2100]\tvalid_0's rmse: 0.349596\tvalid_1's rmse: 1.04014\n",
      "[2200]\tvalid_0's rmse: 0.336445\tvalid_1's rmse: 1.03989\n",
      "[2300]\tvalid_0's rmse: 0.323975\tvalid_1's rmse: 1.03977\n",
      "[2400]\tvalid_0's rmse: 0.312189\tvalid_1's rmse: 1.0396\n",
      "[2500]\tvalid_0's rmse: 0.301028\tvalid_1's rmse: 1.03928\n",
      "[2600]\tvalid_0's rmse: 0.290779\tvalid_1's rmse: 1.03926\n",
      "Early stopping, best iteration is:\n",
      "[2533]\tvalid_0's rmse: 0.29757\tvalid_1's rmse: 1.03921\n"
     ]
    },
    {
     "name": "stderr",
     "output_type": "stream",
     "text": [
      "regularization_factors, val_score: 1.035771:  80%|########  | 16/20 [09:11<02:23, 35.95s/it]\u001b[32m[I 2021-03-08 04:43:53,357]\u001b[0m Trial 55 finished with value: 1.0392112649635126 and parameters: {'lambda_l1': 1.0323421799996049e-08, 'lambda_l2': 0.032839991547125136}. Best is trial 51 with value: 1.0357712634315985.\u001b[0m\n",
      "regularization_factors, val_score: 1.035771:  80%|########  | 16/20 [09:11<02:23, 35.95s/it]"
     ]
    },
    {
     "name": "stdout",
     "output_type": "stream",
     "text": [
      "Training until validation scores don't improve for 100 rounds\n",
      "[100]\tvalid_0's rmse: 1.18346\tvalid_1's rmse: 1.24828\n",
      "[200]\tvalid_0's rmse: 0.998309\tvalid_1's rmse: 1.12999\n",
      "[300]\tvalid_0's rmse: 0.908992\tvalid_1's rmse: 1.09642\n",
      "[400]\tvalid_0's rmse: 0.847324\tvalid_1's rmse: 1.0831\n",
      "[500]\tvalid_0's rmse: 0.795333\tvalid_1's rmse: 1.07359\n",
      "[600]\tvalid_0's rmse: 0.750143\tvalid_1's rmse: 1.06738\n",
      "[700]\tvalid_0's rmse: 0.709389\tvalid_1's rmse: 1.06224\n",
      "[800]\tvalid_0's rmse: 0.672642\tvalid_1's rmse: 1.05832\n",
      "[900]\tvalid_0's rmse: 0.638977\tvalid_1's rmse: 1.05552\n",
      "[1000]\tvalid_0's rmse: 0.607999\tvalid_1's rmse: 1.05272\n",
      "[1100]\tvalid_0's rmse: 0.579296\tvalid_1's rmse: 1.04987\n",
      "[1200]\tvalid_0's rmse: 0.55283\tvalid_1's rmse: 1.04794\n",
      "[1300]\tvalid_0's rmse: 0.528191\tvalid_1's rmse: 1.04614\n",
      "[1400]\tvalid_0's rmse: 0.505161\tvalid_1's rmse: 1.04468\n",
      "[1500]\tvalid_0's rmse: 0.48373\tvalid_1's rmse: 1.04349\n",
      "[1600]\tvalid_0's rmse: 0.463432\tvalid_1's rmse: 1.04245\n",
      "[1700]\tvalid_0's rmse: 0.444541\tvalid_1's rmse: 1.04162\n",
      "[1800]\tvalid_0's rmse: 0.426911\tvalid_1's rmse: 1.04105\n",
      "[1900]\tvalid_0's rmse: 0.410181\tvalid_1's rmse: 1.04008\n",
      "[2000]\tvalid_0's rmse: 0.394594\tvalid_1's rmse: 1.03952\n",
      "[2100]\tvalid_0's rmse: 0.380095\tvalid_1's rmse: 1.03929\n",
      "[2200]\tvalid_0's rmse: 0.366239\tvalid_1's rmse: 1.03924\n",
      "[2300]\tvalid_0's rmse: 0.353199\tvalid_1's rmse: 1.03903\n",
      "[2400]\tvalid_0's rmse: 0.340781\tvalid_1's rmse: 1.03877\n",
      "[2500]\tvalid_0's rmse: 0.329072\tvalid_1's rmse: 1.03852\n",
      "[2600]\tvalid_0's rmse: 0.31812\tvalid_1's rmse: 1.03836\n",
      "Early stopping, best iteration is:\n",
      "[2579]\tvalid_0's rmse: 0.320321\tvalid_1's rmse: 1.03822\n"
     ]
    },
    {
     "name": "stderr",
     "output_type": "stream",
     "text": [
      "regularization_factors, val_score: 1.035771:  85%|########5 | 17/20 [09:50<01:50, 36.78s/it]\u001b[32m[I 2021-03-08 04:44:32,077]\u001b[0m Trial 56 finished with value: 1.038216936689368 and parameters: {'lambda_l1': 0.01118639497323548, 'lambda_l2': 7.992961879960266}. Best is trial 51 with value: 1.0357712634315985.\u001b[0m\n",
      "regularization_factors, val_score: 1.035771:  85%|########5 | 17/20 [09:50<01:50, 36.78s/it]"
     ]
    },
    {
     "name": "stdout",
     "output_type": "stream",
     "text": [
      "Training until validation scores don't improve for 100 rounds\n",
      "[100]\tvalid_0's rmse: 1.16185\tvalid_1's rmse: 1.23779\n",
      "[200]\tvalid_0's rmse: 0.973864\tvalid_1's rmse: 1.12429\n",
      "[300]\tvalid_0's rmse: 0.885083\tvalid_1's rmse: 1.09485\n",
      "[400]\tvalid_0's rmse: 0.822766\tvalid_1's rmse: 1.08111\n",
      "[500]\tvalid_0's rmse: 0.770418\tvalid_1's rmse: 1.07259\n",
      "[600]\tvalid_0's rmse: 0.725207\tvalid_1's rmse: 1.06599\n",
      "[700]\tvalid_0's rmse: 0.684806\tvalid_1's rmse: 1.06056\n",
      "[800]\tvalid_0's rmse: 0.648216\tvalid_1's rmse: 1.0563\n",
      "[900]\tvalid_0's rmse: 0.614659\tvalid_1's rmse: 1.05319\n",
      "[1000]\tvalid_0's rmse: 0.584009\tvalid_1's rmse: 1.05026\n",
      "[1100]\tvalid_0's rmse: 0.555953\tvalid_1's rmse: 1.04772\n",
      "[1200]\tvalid_0's rmse: 0.529981\tvalid_1's rmse: 1.04593\n",
      "[1300]\tvalid_0's rmse: 0.506491\tvalid_1's rmse: 1.04448\n",
      "[1400]\tvalid_0's rmse: 0.484428\tvalid_1's rmse: 1.04293\n",
      "[1500]\tvalid_0's rmse: 0.463953\tvalid_1's rmse: 1.04212\n",
      "[1600]\tvalid_0's rmse: 0.444789\tvalid_1's rmse: 1.04103\n",
      "[1700]\tvalid_0's rmse: 0.427061\tvalid_1's rmse: 1.04036\n",
      "[1800]\tvalid_0's rmse: 0.410366\tvalid_1's rmse: 1.03951\n",
      "[1900]\tvalid_0's rmse: 0.394686\tvalid_1's rmse: 1.03913\n",
      "[2000]\tvalid_0's rmse: 0.380013\tvalid_1's rmse: 1.03894\n",
      "[2100]\tvalid_0's rmse: 0.36638\tvalid_1's rmse: 1.03878\n",
      "[2200]\tvalid_0's rmse: 0.353306\tvalid_1's rmse: 1.03865\n",
      "[2300]\tvalid_0's rmse: 0.341046\tvalid_1's rmse: 1.03863\n",
      "Early stopping, best iteration is:\n",
      "[2235]\tvalid_0's rmse: 0.34896\tvalid_1's rmse: 1.03854\n"
     ]
    },
    {
     "name": "stderr",
     "output_type": "stream",
     "text": [
      "regularization_factors, val_score: 1.035771:  90%|######### | 18/20 [10:22<01:10, 35.41s/it]\u001b[32m[I 2021-03-08 04:45:04,301]\u001b[0m Trial 57 finished with value: 1.0385436437495141 and parameters: {'lambda_l1': 1.6715011421539576, 'lambda_l2': 1.1165072775296044e-05}. Best is trial 51 with value: 1.0357712634315985.\u001b[0m\n",
      "regularization_factors, val_score: 1.035771:  90%|######### | 18/20 [10:22<01:10, 35.41s/it]"
     ]
    },
    {
     "name": "stdout",
     "output_type": "stream",
     "text": [
      "Training until validation scores don't improve for 100 rounds\n",
      "[100]\tvalid_0's rmse: 1.15689\tvalid_1's rmse: 1.23831\n",
      "[200]\tvalid_0's rmse: 0.968527\tvalid_1's rmse: 1.12519\n",
      "[300]\tvalid_0's rmse: 0.879666\tvalid_1's rmse: 1.09511\n",
      "[400]\tvalid_0's rmse: 0.816105\tvalid_1's rmse: 1.08106\n",
      "[500]\tvalid_0's rmse: 0.762625\tvalid_1's rmse: 1.07179\n",
      "[600]\tvalid_0's rmse: 0.716056\tvalid_1's rmse: 1.06662\n",
      "[700]\tvalid_0's rmse: 0.674602\tvalid_1's rmse: 1.06133\n",
      "[800]\tvalid_0's rmse: 0.637268\tvalid_1's rmse: 1.05726\n",
      "[900]\tvalid_0's rmse: 0.603113\tvalid_1's rmse: 1.05385\n",
      "[1000]\tvalid_0's rmse: 0.571686\tvalid_1's rmse: 1.05086\n",
      "[1100]\tvalid_0's rmse: 0.543316\tvalid_1's rmse: 1.0491\n",
      "[1200]\tvalid_0's rmse: 0.516888\tvalid_1's rmse: 1.04695\n",
      "[1300]\tvalid_0's rmse: 0.492566\tvalid_1's rmse: 1.04526\n",
      "[1400]\tvalid_0's rmse: 0.470032\tvalid_1's rmse: 1.04403\n",
      "[1500]\tvalid_0's rmse: 0.449084\tvalid_1's rmse: 1.04368\n",
      "[1600]\tvalid_0's rmse: 0.429409\tvalid_1's rmse: 1.04296\n",
      "[1700]\tvalid_0's rmse: 0.411427\tvalid_1's rmse: 1.04246\n",
      "[1800]\tvalid_0's rmse: 0.394456\tvalid_1's rmse: 1.04176\n",
      "[1900]\tvalid_0's rmse: 0.378476\tvalid_1's rmse: 1.0414\n",
      "[2000]\tvalid_0's rmse: 0.363576\tvalid_1's rmse: 1.04113\n",
      "[2100]\tvalid_0's rmse: 0.349855\tvalid_1's rmse: 1.04078\n",
      "[2200]\tvalid_0's rmse: 0.33666\tvalid_1's rmse: 1.04089\n",
      "Early stopping, best iteration is:\n",
      "[2131]\tvalid_0's rmse: 0.345744\tvalid_1's rmse: 1.04055\n"
     ]
    },
    {
     "name": "stderr",
     "output_type": "stream",
     "text": [
      "regularization_factors, val_score: 1.035771:  95%|#########5| 19/20 [10:53<00:34, 34.17s/it]\u001b[32m[I 2021-03-08 04:45:35,559]\u001b[0m Trial 58 finished with value: 1.0405517946869336 and parameters: {'lambda_l1': 0.021495004960506797, 'lambda_l2': 0.0008038819111931934}. Best is trial 51 with value: 1.0357712634315985.\u001b[0m\n",
      "regularization_factors, val_score: 1.035771:  95%|#########5| 19/20 [10:53<00:34, 34.17s/it]"
     ]
    },
    {
     "name": "stdout",
     "output_type": "stream",
     "text": [
      "Training until validation scores don't improve for 100 rounds\n",
      "[100]\tvalid_0's rmse: 1.18474\tvalid_1's rmse: 1.24926\n",
      "[200]\tvalid_0's rmse: 0.99984\tvalid_1's rmse: 1.13186\n",
      "[300]\tvalid_0's rmse: 0.910728\tvalid_1's rmse: 1.09767\n",
      "[400]\tvalid_0's rmse: 0.848871\tvalid_1's rmse: 1.08259\n",
      "[500]\tvalid_0's rmse: 0.797478\tvalid_1's rmse: 1.07262\n",
      "[600]\tvalid_0's rmse: 0.752662\tvalid_1's rmse: 1.06574\n",
      "[700]\tvalid_0's rmse: 0.711821\tvalid_1's rmse: 1.05983\n",
      "[800]\tvalid_0's rmse: 0.674867\tvalid_1's rmse: 1.05563\n",
      "[900]\tvalid_0's rmse: 0.641136\tvalid_1's rmse: 1.05262\n",
      "[1000]\tvalid_0's rmse: 0.609942\tvalid_1's rmse: 1.04954\n",
      "[1100]\tvalid_0's rmse: 0.581106\tvalid_1's rmse: 1.04707\n",
      "[1200]\tvalid_0's rmse: 0.554388\tvalid_1's rmse: 1.045\n",
      "[1300]\tvalid_0's rmse: 0.529849\tvalid_1's rmse: 1.04323\n",
      "[1400]\tvalid_0's rmse: 0.506688\tvalid_1's rmse: 1.04175\n",
      "[1500]\tvalid_0's rmse: 0.485481\tvalid_1's rmse: 1.04051\n",
      "[1600]\tvalid_0's rmse: 0.465473\tvalid_1's rmse: 1.03953\n",
      "[1700]\tvalid_0's rmse: 0.446668\tvalid_1's rmse: 1.03881\n",
      "[1800]\tvalid_0's rmse: 0.429183\tvalid_1's rmse: 1.03792\n",
      "[1900]\tvalid_0's rmse: 0.412576\tvalid_1's rmse: 1.03736\n",
      "[2000]\tvalid_0's rmse: 0.396841\tvalid_1's rmse: 1.03665\n",
      "Early stopping, best iteration is:\n",
      "[1995]\tvalid_0's rmse: 0.397605\tvalid_1's rmse: 1.03661\n"
     ]
    },
    {
     "name": "stderr",
     "output_type": "stream",
     "text": [
      "regularization_factors, val_score: 1.035771: 100%|##########| 20/20 [11:25<00:00, 33.37s/it]\u001b[32m[I 2021-03-08 04:46:07,061]\u001b[0m Trial 59 finished with value: 1.0366084116435221 and parameters: {'lambda_l1': 0.00031063523619973097, 'lambda_l2': 8.642358214942576}. Best is trial 51 with value: 1.0357712634315985.\u001b[0m\n",
      "regularization_factors, val_score: 1.035771: 100%|##########| 20/20 [11:25<00:00, 34.25s/it]\n",
      "min_data_in_leaf, val_score: 1.035771:   0%|          | 0/5 [00:00<?, ?it/s]"
     ]
    },
    {
     "name": "stdout",
     "output_type": "stream",
     "text": [
      "Training until validation scores don't improve for 100 rounds\n",
      "[100]\tvalid_0's rmse: 1.18731\tvalid_1's rmse: 1.24838\n",
      "[200]\tvalid_0's rmse: 1.01029\tvalid_1's rmse: 1.1331\n",
      "[300]\tvalid_0's rmse: 0.926848\tvalid_1's rmse: 1.10118\n",
      "[400]\tvalid_0's rmse: 0.869454\tvalid_1's rmse: 1.08649\n",
      "[500]\tvalid_0's rmse: 0.822973\tvalid_1's rmse: 1.07703\n",
      "[600]\tvalid_0's rmse: 0.782312\tvalid_1's rmse: 1.07059\n",
      "[700]\tvalid_0's rmse: 0.746506\tvalid_1's rmse: 1.06451\n",
      "[800]\tvalid_0's rmse: 0.713688\tvalid_1's rmse: 1.05984\n",
      "[900]\tvalid_0's rmse: 0.684161\tvalid_1's rmse: 1.05626\n",
      "[1000]\tvalid_0's rmse: 0.656906\tvalid_1's rmse: 1.05343\n",
      "[1100]\tvalid_0's rmse: 0.631669\tvalid_1's rmse: 1.05068\n",
      "[1200]\tvalid_0's rmse: 0.608497\tvalid_1's rmse: 1.04859\n",
      "[1300]\tvalid_0's rmse: 0.587059\tvalid_1's rmse: 1.04657\n",
      "[1400]\tvalid_0's rmse: 0.566921\tvalid_1's rmse: 1.04502\n",
      "[1500]\tvalid_0's rmse: 0.548366\tvalid_1's rmse: 1.0442\n",
      "[1600]\tvalid_0's rmse: 0.530765\tvalid_1's rmse: 1.04319\n",
      "[1700]\tvalid_0's rmse: 0.514141\tvalid_1's rmse: 1.04233\n",
      "[1800]\tvalid_0's rmse: 0.498526\tvalid_1's rmse: 1.04139\n",
      "[1900]\tvalid_0's rmse: 0.483885\tvalid_1's rmse: 1.04066\n",
      "[2000]\tvalid_0's rmse: 0.470159\tvalid_1's rmse: 1.03993\n",
      "[2100]\tvalid_0's rmse: 0.457137\tvalid_1's rmse: 1.0394\n",
      "[2200]\tvalid_0's rmse: 0.444749\tvalid_1's rmse: 1.03896\n",
      "[2300]\tvalid_0's rmse: 0.433091\tvalid_1's rmse: 1.03869\n",
      "[2400]\tvalid_0's rmse: 0.421979\tvalid_1's rmse: 1.03824\n",
      "[2500]\tvalid_0's rmse: 0.411448\tvalid_1's rmse: 1.03778\n",
      "[2600]\tvalid_0's rmse: 0.401436\tvalid_1's rmse: 1.03753\n",
      "[2700]\tvalid_0's rmse: 0.391922\tvalid_1's rmse: 1.03718\n",
      "[2800]\tvalid_0's rmse: 0.382816\tvalid_1's rmse: 1.03691\n",
      "[2900]\tvalid_0's rmse: 0.374148\tvalid_1's rmse: 1.03674\n",
      "[3000]\tvalid_0's rmse: 0.365907\tvalid_1's rmse: 1.0366\n",
      "[3100]\tvalid_0's rmse: 0.358023\tvalid_1's rmse: 1.03634\n",
      "[3200]\tvalid_0's rmse: 0.350472\tvalid_1's rmse: 1.03614\n",
      "[3300]\tvalid_0's rmse: 0.343294\tvalid_1's rmse: 1.03603\n",
      "[3400]\tvalid_0's rmse: 0.336435\tvalid_1's rmse: 1.03589\n",
      "Early stopping, best iteration is:\n",
      "[3373]\tvalid_0's rmse: 0.338242\tvalid_1's rmse: 1.03577\n"
     ]
    },
    {
     "name": "stderr",
     "output_type": "stream",
     "text": [
      "min_data_in_leaf, val_score: 1.035771:  20%|##        | 1/5 [00:38<02:34, 38.64s/it]\u001b[32m[I 2021-03-08 04:46:45,741]\u001b[0m Trial 60 finished with value: 1.0357712634315985 and parameters: {'min_child_samples': 10}. Best is trial 60 with value: 1.0357712634315985.\u001b[0m\n",
      "min_data_in_leaf, val_score: 1.035771:  20%|##        | 1/5 [00:38<02:34, 38.64s/it]"
     ]
    },
    {
     "name": "stdout",
     "output_type": "stream",
     "text": [
      "Training until validation scores don't improve for 100 rounds\n",
      "[100]\tvalid_0's rmse: 1.18731\tvalid_1's rmse: 1.24838\n",
      "[200]\tvalid_0's rmse: 1.01029\tvalid_1's rmse: 1.1331\n",
      "[300]\tvalid_0's rmse: 0.926848\tvalid_1's rmse: 1.10118\n",
      "[400]\tvalid_0's rmse: 0.869454\tvalid_1's rmse: 1.08649\n",
      "[500]\tvalid_0's rmse: 0.822973\tvalid_1's rmse: 1.07703\n",
      "[600]\tvalid_0's rmse: 0.782312\tvalid_1's rmse: 1.07059\n",
      "[700]\tvalid_0's rmse: 0.746506\tvalid_1's rmse: 1.06451\n",
      "[800]\tvalid_0's rmse: 0.713688\tvalid_1's rmse: 1.05984\n",
      "[900]\tvalid_0's rmse: 0.684161\tvalid_1's rmse: 1.05626\n",
      "[1000]\tvalid_0's rmse: 0.656906\tvalid_1's rmse: 1.05343\n",
      "[1100]\tvalid_0's rmse: 0.631669\tvalid_1's rmse: 1.05068\n",
      "[1200]\tvalid_0's rmse: 0.608497\tvalid_1's rmse: 1.04859\n",
      "[1300]\tvalid_0's rmse: 0.587059\tvalid_1's rmse: 1.04657\n",
      "[1400]\tvalid_0's rmse: 0.566921\tvalid_1's rmse: 1.04502\n",
      "[1500]\tvalid_0's rmse: 0.548366\tvalid_1's rmse: 1.0442\n",
      "[1600]\tvalid_0's rmse: 0.530765\tvalid_1's rmse: 1.04319\n",
      "[1700]\tvalid_0's rmse: 0.514141\tvalid_1's rmse: 1.04233\n",
      "[1800]\tvalid_0's rmse: 0.498526\tvalid_1's rmse: 1.04139\n",
      "[1900]\tvalid_0's rmse: 0.483885\tvalid_1's rmse: 1.04066\n",
      "[2000]\tvalid_0's rmse: 0.470159\tvalid_1's rmse: 1.03993\n",
      "[2100]\tvalid_0's rmse: 0.457137\tvalid_1's rmse: 1.0394\n",
      "[2200]\tvalid_0's rmse: 0.444749\tvalid_1's rmse: 1.03896\n",
      "[2300]\tvalid_0's rmse: 0.433091\tvalid_1's rmse: 1.03869\n",
      "[2400]\tvalid_0's rmse: 0.421979\tvalid_1's rmse: 1.03824\n",
      "[2500]\tvalid_0's rmse: 0.411448\tvalid_1's rmse: 1.03778\n",
      "[2600]\tvalid_0's rmse: 0.401436\tvalid_1's rmse: 1.03753\n",
      "[2700]\tvalid_0's rmse: 0.391922\tvalid_1's rmse: 1.03718\n",
      "[2800]\tvalid_0's rmse: 0.382816\tvalid_1's rmse: 1.03691\n",
      "[2900]\tvalid_0's rmse: 0.374148\tvalid_1's rmse: 1.03674\n",
      "[3000]\tvalid_0's rmse: 0.365907\tvalid_1's rmse: 1.0366\n",
      "[3100]\tvalid_0's rmse: 0.358023\tvalid_1's rmse: 1.03634\n",
      "[3200]\tvalid_0's rmse: 0.350472\tvalid_1's rmse: 1.03614\n",
      "[3300]\tvalid_0's rmse: 0.343294\tvalid_1's rmse: 1.03603\n",
      "[3400]\tvalid_0's rmse: 0.336435\tvalid_1's rmse: 1.03589\n",
      "Early stopping, best iteration is:\n",
      "[3373]\tvalid_0's rmse: 0.338242\tvalid_1's rmse: 1.03577\n"
     ]
    },
    {
     "name": "stderr",
     "output_type": "stream",
     "text": [
      "min_data_in_leaf, val_score: 1.035771:  40%|####      | 2/5 [01:18<01:56, 38.96s/it]\u001b[32m[I 2021-03-08 04:47:25,426]\u001b[0m Trial 61 finished with value: 1.0357712634315985 and parameters: {'min_child_samples': 100}. Best is trial 60 with value: 1.0357712634315985.\u001b[0m\n",
      "min_data_in_leaf, val_score: 1.035771:  40%|####      | 2/5 [01:18<01:56, 38.96s/it]"
     ]
    },
    {
     "name": "stdout",
     "output_type": "stream",
     "text": [
      "Training until validation scores don't improve for 100 rounds\n",
      "[100]\tvalid_0's rmse: 1.18731\tvalid_1's rmse: 1.24838\n",
      "[200]\tvalid_0's rmse: 1.01029\tvalid_1's rmse: 1.1331\n",
      "[300]\tvalid_0's rmse: 0.926848\tvalid_1's rmse: 1.10118\n",
      "[400]\tvalid_0's rmse: 0.869454\tvalid_1's rmse: 1.08649\n",
      "[500]\tvalid_0's rmse: 0.822973\tvalid_1's rmse: 1.07703\n",
      "[600]\tvalid_0's rmse: 0.782312\tvalid_1's rmse: 1.07059\n",
      "[700]\tvalid_0's rmse: 0.746506\tvalid_1's rmse: 1.06451\n",
      "[800]\tvalid_0's rmse: 0.713688\tvalid_1's rmse: 1.05984\n",
      "[900]\tvalid_0's rmse: 0.684161\tvalid_1's rmse: 1.05626\n",
      "[1000]\tvalid_0's rmse: 0.656906\tvalid_1's rmse: 1.05343\n",
      "[1100]\tvalid_0's rmse: 0.631669\tvalid_1's rmse: 1.05068\n",
      "[1200]\tvalid_0's rmse: 0.608497\tvalid_1's rmse: 1.04859\n",
      "[1300]\tvalid_0's rmse: 0.587059\tvalid_1's rmse: 1.04657\n",
      "[1400]\tvalid_0's rmse: 0.566921\tvalid_1's rmse: 1.04502\n",
      "[1500]\tvalid_0's rmse: 0.548366\tvalid_1's rmse: 1.0442\n",
      "[1600]\tvalid_0's rmse: 0.530765\tvalid_1's rmse: 1.04319\n",
      "[1700]\tvalid_0's rmse: 0.514141\tvalid_1's rmse: 1.04233\n",
      "[1800]\tvalid_0's rmse: 0.498526\tvalid_1's rmse: 1.04139\n",
      "[1900]\tvalid_0's rmse: 0.483885\tvalid_1's rmse: 1.04066\n",
      "[2000]\tvalid_0's rmse: 0.470159\tvalid_1's rmse: 1.03993\n",
      "[2100]\tvalid_0's rmse: 0.457137\tvalid_1's rmse: 1.0394\n",
      "[2200]\tvalid_0's rmse: 0.444749\tvalid_1's rmse: 1.03896\n",
      "[2300]\tvalid_0's rmse: 0.433091\tvalid_1's rmse: 1.03869\n",
      "[2400]\tvalid_0's rmse: 0.421979\tvalid_1's rmse: 1.03824\n",
      "[2500]\tvalid_0's rmse: 0.411448\tvalid_1's rmse: 1.03778\n",
      "[2600]\tvalid_0's rmse: 0.401436\tvalid_1's rmse: 1.03753\n",
      "[2700]\tvalid_0's rmse: 0.391922\tvalid_1's rmse: 1.03718\n",
      "[2800]\tvalid_0's rmse: 0.382816\tvalid_1's rmse: 1.03691\n",
      "[2900]\tvalid_0's rmse: 0.374148\tvalid_1's rmse: 1.03674\n",
      "[3000]\tvalid_0's rmse: 0.365907\tvalid_1's rmse: 1.0366\n",
      "[3100]\tvalid_0's rmse: 0.358023\tvalid_1's rmse: 1.03634\n",
      "[3200]\tvalid_0's rmse: 0.350472\tvalid_1's rmse: 1.03614\n",
      "[3300]\tvalid_0's rmse: 0.343294\tvalid_1's rmse: 1.03603\n",
      "[3400]\tvalid_0's rmse: 0.336435\tvalid_1's rmse: 1.03589\n",
      "Early stopping, best iteration is:\n",
      "[3373]\tvalid_0's rmse: 0.338242\tvalid_1's rmse: 1.03577\n"
     ]
    },
    {
     "name": "stderr",
     "output_type": "stream",
     "text": [
      "min_data_in_leaf, val_score: 1.035771:  60%|######    | 3/5 [01:58<01:18, 39.26s/it]\u001b[32m[I 2021-03-08 04:48:05,408]\u001b[0m Trial 62 finished with value: 1.0357712634315985 and parameters: {'min_child_samples': 25}. Best is trial 60 with value: 1.0357712634315985.\u001b[0m\n",
      "min_data_in_leaf, val_score: 1.035771:  60%|######    | 3/5 [01:58<01:18, 39.26s/it]"
     ]
    },
    {
     "name": "stdout",
     "output_type": "stream",
     "text": [
      "Training until validation scores don't improve for 100 rounds\n",
      "[100]\tvalid_0's rmse: 1.18731\tvalid_1's rmse: 1.24838\n",
      "[200]\tvalid_0's rmse: 1.01029\tvalid_1's rmse: 1.1331\n",
      "[300]\tvalid_0's rmse: 0.926848\tvalid_1's rmse: 1.10118\n",
      "[400]\tvalid_0's rmse: 0.869454\tvalid_1's rmse: 1.08649\n",
      "[500]\tvalid_0's rmse: 0.822973\tvalid_1's rmse: 1.07703\n",
      "[600]\tvalid_0's rmse: 0.782312\tvalid_1's rmse: 1.07059\n",
      "[700]\tvalid_0's rmse: 0.746506\tvalid_1's rmse: 1.06451\n",
      "[800]\tvalid_0's rmse: 0.713688\tvalid_1's rmse: 1.05984\n",
      "[900]\tvalid_0's rmse: 0.684161\tvalid_1's rmse: 1.05626\n",
      "[1000]\tvalid_0's rmse: 0.656906\tvalid_1's rmse: 1.05343\n",
      "[1100]\tvalid_0's rmse: 0.631669\tvalid_1's rmse: 1.05068\n",
      "[1200]\tvalid_0's rmse: 0.608497\tvalid_1's rmse: 1.04859\n",
      "[1300]\tvalid_0's rmse: 0.587059\tvalid_1's rmse: 1.04657\n",
      "[1400]\tvalid_0's rmse: 0.566921\tvalid_1's rmse: 1.04502\n",
      "[1500]\tvalid_0's rmse: 0.548366\tvalid_1's rmse: 1.0442\n",
      "[1600]\tvalid_0's rmse: 0.530765\tvalid_1's rmse: 1.04319\n",
      "[1700]\tvalid_0's rmse: 0.514141\tvalid_1's rmse: 1.04233\n",
      "[1800]\tvalid_0's rmse: 0.498526\tvalid_1's rmse: 1.04139\n",
      "[1900]\tvalid_0's rmse: 0.483885\tvalid_1's rmse: 1.04066\n",
      "[2000]\tvalid_0's rmse: 0.470159\tvalid_1's rmse: 1.03993\n",
      "[2100]\tvalid_0's rmse: 0.457137\tvalid_1's rmse: 1.0394\n",
      "[2200]\tvalid_0's rmse: 0.444749\tvalid_1's rmse: 1.03896\n",
      "[2300]\tvalid_0's rmse: 0.433091\tvalid_1's rmse: 1.03869\n",
      "[2400]\tvalid_0's rmse: 0.421979\tvalid_1's rmse: 1.03824\n",
      "[2500]\tvalid_0's rmse: 0.411448\tvalid_1's rmse: 1.03778\n",
      "[2600]\tvalid_0's rmse: 0.401436\tvalid_1's rmse: 1.03753\n",
      "[2700]\tvalid_0's rmse: 0.391922\tvalid_1's rmse: 1.03718\n",
      "[2800]\tvalid_0's rmse: 0.382816\tvalid_1's rmse: 1.03691\n",
      "[2900]\tvalid_0's rmse: 0.374148\tvalid_1's rmse: 1.03674\n",
      "[3000]\tvalid_0's rmse: 0.365907\tvalid_1's rmse: 1.0366\n",
      "[3100]\tvalid_0's rmse: 0.358023\tvalid_1's rmse: 1.03634\n",
      "[3200]\tvalid_0's rmse: 0.350472\tvalid_1's rmse: 1.03614\n",
      "[3300]\tvalid_0's rmse: 0.343294\tvalid_1's rmse: 1.03603\n",
      "[3400]\tvalid_0's rmse: 0.336435\tvalid_1's rmse: 1.03589\n",
      "Early stopping, best iteration is:\n",
      "[3373]\tvalid_0's rmse: 0.338242\tvalid_1's rmse: 1.03577\n"
     ]
    },
    {
     "name": "stderr",
     "output_type": "stream",
     "text": [
      "min_data_in_leaf, val_score: 1.035771:  80%|########  | 4/5 [02:36<00:39, 39.09s/it]\u001b[32m[I 2021-03-08 04:48:44,080]\u001b[0m Trial 63 finished with value: 1.0357712634315985 and parameters: {'min_child_samples': 50}. Best is trial 60 with value: 1.0357712634315985.\u001b[0m\n",
      "min_data_in_leaf, val_score: 1.035771:  80%|########  | 4/5 [02:37<00:39, 39.09s/it]"
     ]
    },
    {
     "name": "stdout",
     "output_type": "stream",
     "text": [
      "Training until validation scores don't improve for 100 rounds\n",
      "[100]\tvalid_0's rmse: 1.18731\tvalid_1's rmse: 1.24838\n",
      "[200]\tvalid_0's rmse: 1.01029\tvalid_1's rmse: 1.1331\n",
      "[300]\tvalid_0's rmse: 0.926848\tvalid_1's rmse: 1.10118\n",
      "[400]\tvalid_0's rmse: 0.869454\tvalid_1's rmse: 1.08649\n",
      "[500]\tvalid_0's rmse: 0.822973\tvalid_1's rmse: 1.07703\n",
      "[600]\tvalid_0's rmse: 0.782312\tvalid_1's rmse: 1.07059\n",
      "[700]\tvalid_0's rmse: 0.746506\tvalid_1's rmse: 1.06451\n",
      "[800]\tvalid_0's rmse: 0.713688\tvalid_1's rmse: 1.05984\n",
      "[900]\tvalid_0's rmse: 0.684161\tvalid_1's rmse: 1.05626\n",
      "[1000]\tvalid_0's rmse: 0.656906\tvalid_1's rmse: 1.05343\n",
      "[1100]\tvalid_0's rmse: 0.631669\tvalid_1's rmse: 1.05068\n",
      "[1200]\tvalid_0's rmse: 0.608497\tvalid_1's rmse: 1.04859\n",
      "[1300]\tvalid_0's rmse: 0.587059\tvalid_1's rmse: 1.04657\n",
      "[1400]\tvalid_0's rmse: 0.566921\tvalid_1's rmse: 1.04502\n",
      "[1500]\tvalid_0's rmse: 0.548366\tvalid_1's rmse: 1.0442\n",
      "[1600]\tvalid_0's rmse: 0.530765\tvalid_1's rmse: 1.04319\n",
      "[1700]\tvalid_0's rmse: 0.514141\tvalid_1's rmse: 1.04233\n",
      "[1800]\tvalid_0's rmse: 0.498526\tvalid_1's rmse: 1.04139\n",
      "[1900]\tvalid_0's rmse: 0.483885\tvalid_1's rmse: 1.04066\n",
      "[2000]\tvalid_0's rmse: 0.470159\tvalid_1's rmse: 1.03993\n",
      "[2100]\tvalid_0's rmse: 0.457137\tvalid_1's rmse: 1.0394\n",
      "[2200]\tvalid_0's rmse: 0.444749\tvalid_1's rmse: 1.03896\n",
      "[2300]\tvalid_0's rmse: 0.433091\tvalid_1's rmse: 1.03869\n",
      "[2400]\tvalid_0's rmse: 0.421979\tvalid_1's rmse: 1.03824\n",
      "[2500]\tvalid_0's rmse: 0.411448\tvalid_1's rmse: 1.03778\n",
      "[2600]\tvalid_0's rmse: 0.401436\tvalid_1's rmse: 1.03753\n",
      "[2700]\tvalid_0's rmse: 0.391922\tvalid_1's rmse: 1.03718\n",
      "[2800]\tvalid_0's rmse: 0.382816\tvalid_1's rmse: 1.03691\n",
      "[2900]\tvalid_0's rmse: 0.374148\tvalid_1's rmse: 1.03674\n",
      "[3000]\tvalid_0's rmse: 0.365907\tvalid_1's rmse: 1.0366\n",
      "[3100]\tvalid_0's rmse: 0.358023\tvalid_1's rmse: 1.03634\n",
      "[3200]\tvalid_0's rmse: 0.350472\tvalid_1's rmse: 1.03614\n",
      "[3300]\tvalid_0's rmse: 0.343294\tvalid_1's rmse: 1.03603\n",
      "[3400]\tvalid_0's rmse: 0.336435\tvalid_1's rmse: 1.03589\n",
      "Early stopping, best iteration is:\n",
      "[3373]\tvalid_0's rmse: 0.338242\tvalid_1's rmse: 1.03577\n"
     ]
    },
    {
     "name": "stderr",
     "output_type": "stream",
     "text": [
      "min_data_in_leaf, val_score: 1.035771: 100%|##########| 5/5 [03:16<00:00, 39.20s/it]\u001b[32m[I 2021-03-08 04:49:23,539]\u001b[0m Trial 64 finished with value: 1.0357712634315985 and parameters: {'min_child_samples': 5}. Best is trial 60 with value: 1.0357712634315985.\u001b[0m\n",
      "min_data_in_leaf, val_score: 1.035771: 100%|##########| 5/5 [03:16<00:00, 39.29s/it]\n"
     ]
    },
    {
     "name": "stdout",
     "output_type": "stream",
     "text": [
      "Fold 3 rmsle: 1.0357\n",
      "--------------FOLDS : 4 --------------\n"
     ]
    },
    {
     "name": "stderr",
     "output_type": "stream",
     "text": [
      "\u001b[32m[I 2021-03-08 04:49:24,979]\u001b[0m A new study created in memory with name: no-name-391c34f2-118c-4c1a-b94d-85d980015885\u001b[0m\n",
      "feature_fraction, val_score: inf:   0%|          | 0/7 [00:00<?, ?it/s]/Users/shinichiro.saito/opt/anaconda3/lib/python3.8/site-packages/lightgbm/engine.py:151: UserWarning: Found `num_boost_round` in params. Will use it instead of argument\n",
      "  warnings.warn(\"Found `{}` in params. Will use it instead of argument\".format(alias))\n",
      "/Users/shinichiro.saito/opt/anaconda3/lib/python3.8/site-packages/lightgbm/engine.py:156: UserWarning: Found `early_stopping_rounds` in params. Will use it instead of argument\n",
      "  warnings.warn(\"Found `{}` in params. Will use it instead of argument\".format(alias))\n",
      "/Users/shinichiro.saito/opt/anaconda3/lib/python3.8/site-packages/lightgbm/basic.py:1554: UserWarning: categorical_feature in Dataset is overridden.\n",
      "New categorical_feature is ['acquisition_method', 'art_series_id', 'copyright_holder', 'principal_maker', 'principal_or_first_maker']\n",
      "  warnings.warn('categorical_feature in Dataset is overridden.\\n'\n"
     ]
    },
    {
     "name": "stdout",
     "output_type": "stream",
     "text": [
      "[LightGBM] [Warning] min_data_in_leaf is set=10, min_child_samples=20 will be ignored. Current value: min_data_in_leaf=10\n"
     ]
    },
    {
     "name": "stderr",
     "output_type": "stream",
     "text": [
      "/Users/shinichiro.saito/opt/anaconda3/lib/python3.8/site-packages/lightgbm/basic.py:1286: UserWarning: Overriding the parameters from Reference Dataset.\n",
      "  warnings.warn('Overriding the parameters from Reference Dataset.')\n",
      "/Users/shinichiro.saito/opt/anaconda3/lib/python3.8/site-packages/lightgbm/basic.py:1098: UserWarning: categorical_column in param dict is overridden.\n",
      "  warnings.warn('{} in param dict is overridden.'.format(cat_alias))\n"
     ]
    },
    {
     "name": "stdout",
     "output_type": "stream",
     "text": [
      "Training until validation scores don't improve for 100 rounds\n",
      "[100]\tvalid_0's rmse: 1.18828\tvalid_1's rmse: 1.23974\n",
      "[200]\tvalid_0's rmse: 1.02914\tvalid_1's rmse: 1.12212\n",
      "[300]\tvalid_0's rmse: 0.9595\tvalid_1's rmse: 1.09133\n",
      "[400]\tvalid_0's rmse: 0.908817\tvalid_1's rmse: 1.0761\n",
      "[500]\tvalid_0's rmse: 0.865897\tvalid_1's rmse: 1.06625\n",
      "[600]\tvalid_0's rmse: 0.828097\tvalid_1's rmse: 1.06011\n",
      "[700]\tvalid_0's rmse: 0.794018\tvalid_1's rmse: 1.05545\n",
      "[800]\tvalid_0's rmse: 0.762778\tvalid_1's rmse: 1.05153\n",
      "[900]\tvalid_0's rmse: 0.733728\tvalid_1's rmse: 1.04791\n",
      "[1000]\tvalid_0's rmse: 0.706853\tvalid_1's rmse: 1.04505\n",
      "[1100]\tvalid_0's rmse: 0.682046\tvalid_1's rmse: 1.04244\n",
      "[1200]\tvalid_0's rmse: 0.659063\tvalid_1's rmse: 1.04063\n",
      "[1300]\tvalid_0's rmse: 0.637302\tvalid_1's rmse: 1.03925\n",
      "[1400]\tvalid_0's rmse: 0.616679\tvalid_1's rmse: 1.03777\n",
      "[1500]\tvalid_0's rmse: 0.597319\tvalid_1's rmse: 1.03651\n",
      "[1600]\tvalid_0's rmse: 0.579303\tvalid_1's rmse: 1.03569\n",
      "[1700]\tvalid_0's rmse: 0.562215\tvalid_1's rmse: 1.03489\n",
      "[1800]\tvalid_0's rmse: 0.545721\tvalid_1's rmse: 1.03456\n",
      "[1900]\tvalid_0's rmse: 0.530084\tvalid_1's rmse: 1.03431\n",
      "[2000]\tvalid_0's rmse: 0.51523\tvalid_1's rmse: 1.03346\n",
      "[2100]\tvalid_0's rmse: 0.500976\tvalid_1's rmse: 1.03335\n",
      "[2200]\tvalid_0's rmse: 0.487402\tvalid_1's rmse: 1.03301\n",
      "[2300]\tvalid_0's rmse: 0.474426\tvalid_1's rmse: 1.03234\n",
      "[2400]\tvalid_0's rmse: 0.461928\tvalid_1's rmse: 1.03214\n",
      "[2500]\tvalid_0's rmse: 0.450238\tvalid_1's rmse: 1.03176\n",
      "[2600]\tvalid_0's rmse: 0.438813\tvalid_1's rmse: 1.03147\n",
      "[2700]\tvalid_0's rmse: 0.427918\tvalid_1's rmse: 1.0311\n",
      "[2800]\tvalid_0's rmse: 0.417188\tvalid_1's rmse: 1.03056\n",
      "[2900]\tvalid_0's rmse: 0.406995\tvalid_1's rmse: 1.03025\n",
      "[3000]\tvalid_0's rmse: 0.397133\tvalid_1's rmse: 1.02972\n",
      "[3100]\tvalid_0's rmse: 0.38784\tvalid_1's rmse: 1.02945\n",
      "[3200]\tvalid_0's rmse: 0.37883\tvalid_1's rmse: 1.0294\n",
      "[3300]\tvalid_0's rmse: 0.370098\tvalid_1's rmse: 1.0294\n",
      "Early stopping, best iteration is:\n",
      "[3247]\tvalid_0's rmse: 0.374688\tvalid_1's rmse: 1.02927\n"
     ]
    },
    {
     "name": "stderr",
     "output_type": "stream",
     "text": [
      "feature_fraction, val_score: 1.029273:  14%|#4        | 1/7 [00:55<05:31, 55.18s/it]\u001b[32m[I 2021-03-08 04:50:20,166]\u001b[0m Trial 0 finished with value: 1.029273177989684 and parameters: {'feature_fraction': 0.8}. Best is trial 0 with value: 1.029273177989684.\u001b[0m\n",
      "feature_fraction, val_score: 1.029273:  14%|#4        | 1/7 [00:55<05:31, 55.18s/it]"
     ]
    },
    {
     "name": "stdout",
     "output_type": "stream",
     "text": [
      "Training until validation scores don't improve for 100 rounds\n",
      "[100]\tvalid_0's rmse: 1.18731\tvalid_1's rmse: 1.23908\n",
      "[200]\tvalid_0's rmse: 1.02739\tvalid_1's rmse: 1.12218\n",
      "[300]\tvalid_0's rmse: 0.957316\tvalid_1's rmse: 1.08965\n",
      "[400]\tvalid_0's rmse: 0.906265\tvalid_1's rmse: 1.07539\n",
      "[500]\tvalid_0's rmse: 0.863288\tvalid_1's rmse: 1.06444\n",
      "[600]\tvalid_0's rmse: 0.825308\tvalid_1's rmse: 1.05768\n",
      "[700]\tvalid_0's rmse: 0.790792\tvalid_1's rmse: 1.0518\n",
      "[800]\tvalid_0's rmse: 0.759757\tvalid_1's rmse: 1.04738\n",
      "[900]\tvalid_0's rmse: 0.730783\tvalid_1's rmse: 1.04395\n",
      "[1000]\tvalid_0's rmse: 0.704117\tvalid_1's rmse: 1.04157\n",
      "[1100]\tvalid_0's rmse: 0.679103\tvalid_1's rmse: 1.03968\n",
      "[1200]\tvalid_0's rmse: 0.655847\tvalid_1's rmse: 1.03767\n",
      "[1300]\tvalid_0's rmse: 0.63388\tvalid_1's rmse: 1.03635\n",
      "[1400]\tvalid_0's rmse: 0.613405\tvalid_1's rmse: 1.03532\n",
      "[1500]\tvalid_0's rmse: 0.594019\tvalid_1's rmse: 1.034\n",
      "[1600]\tvalid_0's rmse: 0.576091\tvalid_1's rmse: 1.03319\n",
      "[1700]\tvalid_0's rmse: 0.558551\tvalid_1's rmse: 1.03238\n",
      "[1800]\tvalid_0's rmse: 0.541912\tvalid_1's rmse: 1.03141\n",
      "[1900]\tvalid_0's rmse: 0.526228\tvalid_1's rmse: 1.031\n",
      "[2000]\tvalid_0's rmse: 0.511648\tvalid_1's rmse: 1.03051\n",
      "[2100]\tvalid_0's rmse: 0.497379\tvalid_1's rmse: 1.03014\n",
      "[2200]\tvalid_0's rmse: 0.483631\tvalid_1's rmse: 1.02954\n",
      "[2300]\tvalid_0's rmse: 0.470639\tvalid_1's rmse: 1.02925\n",
      "[2400]\tvalid_0's rmse: 0.458134\tvalid_1's rmse: 1.02902\n",
      "[2500]\tvalid_0's rmse: 0.446382\tvalid_1's rmse: 1.0291\n",
      "[2600]\tvalid_0's rmse: 0.435109\tvalid_1's rmse: 1.02882\n",
      "[2700]\tvalid_0's rmse: 0.423894\tvalid_1's rmse: 1.02856\n",
      "[2800]\tvalid_0's rmse: 0.413419\tvalid_1's rmse: 1.0284\n",
      "[2900]\tvalid_0's rmse: 0.403294\tvalid_1's rmse: 1.02836\n",
      "[3000]\tvalid_0's rmse: 0.393678\tvalid_1's rmse: 1.02794\n",
      "[3100]\tvalid_0's rmse: 0.384392\tvalid_1's rmse: 1.02786\n",
      "[3200]\tvalid_0's rmse: 0.375249\tvalid_1's rmse: 1.02759\n",
      "Early stopping, best iteration is:\n",
      "[3178]\tvalid_0's rmse: 0.377275\tvalid_1's rmse: 1.02756\n"
     ]
    },
    {
     "name": "stderr",
     "output_type": "stream",
     "text": [
      "feature_fraction, val_score: 1.027560:  29%|##8       | 2/7 [01:55<04:43, 56.72s/it]\u001b[32m[I 2021-03-08 04:51:20,505]\u001b[0m Trial 1 finished with value: 1.0275603730644365 and parameters: {'feature_fraction': 0.8999999999999999}. Best is trial 1 with value: 1.0275603730644365.\u001b[0m\n",
      "feature_fraction, val_score: 1.027560:  29%|##8       | 2/7 [01:55<04:43, 56.72s/it]"
     ]
    },
    {
     "name": "stdout",
     "output_type": "stream",
     "text": [
      "Training until validation scores don't improve for 100 rounds\n",
      "[100]\tvalid_0's rmse: 1.18954\tvalid_1's rmse: 1.23971\n",
      "[200]\tvalid_0's rmse: 1.03101\tvalid_1's rmse: 1.12165\n",
      "[300]\tvalid_0's rmse: 0.961504\tvalid_1's rmse: 1.09064\n",
      "[400]\tvalid_0's rmse: 0.911452\tvalid_1's rmse: 1.07586\n",
      "[500]\tvalid_0's rmse: 0.868605\tvalid_1's rmse: 1.06584\n",
      "[600]\tvalid_0's rmse: 0.830895\tvalid_1's rmse: 1.05916\n",
      "[700]\tvalid_0's rmse: 0.797183\tvalid_1's rmse: 1.05368\n",
      "[800]\tvalid_0's rmse: 0.766374\tvalid_1's rmse: 1.04938\n",
      "[900]\tvalid_0's rmse: 0.737509\tvalid_1's rmse: 1.04565\n",
      "[1000]\tvalid_0's rmse: 0.710644\tvalid_1's rmse: 1.04262\n",
      "[1100]\tvalid_0's rmse: 0.685788\tvalid_1's rmse: 1.04029\n",
      "[1200]\tvalid_0's rmse: 0.662891\tvalid_1's rmse: 1.03842\n",
      "[1300]\tvalid_0's rmse: 0.64108\tvalid_1's rmse: 1.0368\n",
      "[1400]\tvalid_0's rmse: 0.620762\tvalid_1's rmse: 1.03551\n",
      "[1500]\tvalid_0's rmse: 0.601438\tvalid_1's rmse: 1.03455\n",
      "[1600]\tvalid_0's rmse: 0.583262\tvalid_1's rmse: 1.03315\n",
      "[1700]\tvalid_0's rmse: 0.565805\tvalid_1's rmse: 1.03175\n",
      "[1800]\tvalid_0's rmse: 0.549267\tvalid_1's rmse: 1.03113\n",
      "[1900]\tvalid_0's rmse: 0.533528\tvalid_1's rmse: 1.0303\n",
      "[2000]\tvalid_0's rmse: 0.518868\tvalid_1's rmse: 1.02977\n",
      "[2100]\tvalid_0's rmse: 0.504457\tvalid_1's rmse: 1.02912\n",
      "[2200]\tvalid_0's rmse: 0.490963\tvalid_1's rmse: 1.02844\n",
      "[2300]\tvalid_0's rmse: 0.478046\tvalid_1's rmse: 1.0279\n",
      "[2400]\tvalid_0's rmse: 0.465602\tvalid_1's rmse: 1.02767\n",
      "[2500]\tvalid_0's rmse: 0.453748\tvalid_1's rmse: 1.02742\n",
      "[2600]\tvalid_0's rmse: 0.442557\tvalid_1's rmse: 1.02728\n",
      "[2700]\tvalid_0's rmse: 0.431613\tvalid_1's rmse: 1.02679\n",
      "[2800]\tvalid_0's rmse: 0.420947\tvalid_1's rmse: 1.02656\n",
      "[2900]\tvalid_0's rmse: 0.410949\tvalid_1's rmse: 1.02653\n",
      "[3000]\tvalid_0's rmse: 0.401148\tvalid_1's rmse: 1.02619\n",
      "[3100]\tvalid_0's rmse: 0.391574\tvalid_1's rmse: 1.02611\n",
      "[3200]\tvalid_0's rmse: 0.382693\tvalid_1's rmse: 1.026\n",
      "[3300]\tvalid_0's rmse: 0.374013\tvalid_1's rmse: 1.02622\n",
      "Early stopping, best iteration is:\n",
      "[3216]\tvalid_0's rmse: 0.381315\tvalid_1's rmse: 1.02598\n"
     ]
    },
    {
     "name": "stderr",
     "output_type": "stream",
     "text": [
      "feature_fraction, val_score: 1.025978:  43%|####2     | 3/7 [02:44<03:37, 54.45s/it]\u001b[32m[I 2021-03-08 04:52:09,646]\u001b[0m Trial 2 finished with value: 1.0259779602054522 and parameters: {'feature_fraction': 0.7}. Best is trial 2 with value: 1.0259779602054522.\u001b[0m\n",
      "feature_fraction, val_score: 1.025978:  43%|####2     | 3/7 [02:44<03:37, 54.45s/it]"
     ]
    },
    {
     "name": "stdout",
     "output_type": "stream",
     "text": [
      "Training until validation scores don't improve for 100 rounds\n",
      "[100]\tvalid_0's rmse: 1.19176\tvalid_1's rmse: 1.23978\n",
      "[200]\tvalid_0's rmse: 1.03279\tvalid_1's rmse: 1.12326\n",
      "[300]\tvalid_0's rmse: 0.963687\tvalid_1's rmse: 1.09106\n",
      "[400]\tvalid_0's rmse: 0.913894\tvalid_1's rmse: 1.07679\n",
      "[500]\tvalid_0's rmse: 0.87178\tvalid_1's rmse: 1.06754\n",
      "[600]\tvalid_0's rmse: 0.834485\tvalid_1's rmse: 1.0605\n",
      "[700]\tvalid_0's rmse: 0.800668\tvalid_1's rmse: 1.05518\n",
      "[800]\tvalid_0's rmse: 0.769949\tvalid_1's rmse: 1.05119\n",
      "[900]\tvalid_0's rmse: 0.741482\tvalid_1's rmse: 1.04674\n",
      "[1000]\tvalid_0's rmse: 0.714984\tvalid_1's rmse: 1.04413\n",
      "[1100]\tvalid_0's rmse: 0.690135\tvalid_1's rmse: 1.04189\n",
      "[1200]\tvalid_0's rmse: 0.667216\tvalid_1's rmse: 1.04\n",
      "[1300]\tvalid_0's rmse: 0.645624\tvalid_1's rmse: 1.03875\n",
      "[1400]\tvalid_0's rmse: 0.625474\tvalid_1's rmse: 1.03742\n",
      "[1500]\tvalid_0's rmse: 0.606106\tvalid_1's rmse: 1.03591\n",
      "[1600]\tvalid_0's rmse: 0.588097\tvalid_1's rmse: 1.03498\n",
      "[1700]\tvalid_0's rmse: 0.570833\tvalid_1's rmse: 1.03365\n",
      "[1800]\tvalid_0's rmse: 0.554409\tvalid_1's rmse: 1.03272\n",
      "[1900]\tvalid_0's rmse: 0.538543\tvalid_1's rmse: 1.03215\n",
      "[2000]\tvalid_0's rmse: 0.524009\tvalid_1's rmse: 1.03196\n",
      "[2100]\tvalid_0's rmse: 0.509701\tvalid_1's rmse: 1.03119\n",
      "[2200]\tvalid_0's rmse: 0.495999\tvalid_1's rmse: 1.03098\n",
      "[2300]\tvalid_0's rmse: 0.48302\tvalid_1's rmse: 1.03052\n",
      "[2400]\tvalid_0's rmse: 0.470503\tvalid_1's rmse: 1.03008\n",
      "[2500]\tvalid_0's rmse: 0.458589\tvalid_1's rmse: 1.02977\n",
      "[2600]\tvalid_0's rmse: 0.447406\tvalid_1's rmse: 1.02957\n",
      "[2700]\tvalid_0's rmse: 0.43663\tvalid_1's rmse: 1.0293\n",
      "[2800]\tvalid_0's rmse: 0.425794\tvalid_1's rmse: 1.02881\n",
      "[2900]\tvalid_0's rmse: 0.415703\tvalid_1's rmse: 1.02849\n",
      "[3000]\tvalid_0's rmse: 0.405775\tvalid_1's rmse: 1.02826\n",
      "Early stopping, best iteration is:\n",
      "[2975]\tvalid_0's rmse: 0.408168\tvalid_1's rmse: 1.02815\n"
     ]
    },
    {
     "name": "stderr",
     "output_type": "stream",
     "text": [
      "feature_fraction, val_score: 1.025978:  57%|#####7    | 4/7 [03:24<02:30, 50.05s/it]\u001b[32m[I 2021-03-08 04:52:49,436]\u001b[0m Trial 3 finished with value: 1.0281521278354855 and parameters: {'feature_fraction': 0.6}. Best is trial 2 with value: 1.0259779602054522.\u001b[0m\n",
      "feature_fraction, val_score: 1.025978:  57%|#####7    | 4/7 [03:24<02:30, 50.05s/it]"
     ]
    },
    {
     "name": "stdout",
     "output_type": "stream",
     "text": [
      "Training until validation scores don't improve for 100 rounds\n",
      "[100]\tvalid_0's rmse: 1.19465\tvalid_1's rmse: 1.24178\n",
      "[200]\tvalid_0's rmse: 1.03575\tvalid_1's rmse: 1.12315\n",
      "[300]\tvalid_0's rmse: 0.966321\tvalid_1's rmse: 1.09002\n",
      "[400]\tvalid_0's rmse: 0.917532\tvalid_1's rmse: 1.07517\n",
      "[500]\tvalid_0's rmse: 0.875798\tvalid_1's rmse: 1.06469\n",
      "[600]\tvalid_0's rmse: 0.839016\tvalid_1's rmse: 1.05824\n",
      "[700]\tvalid_0's rmse: 0.805933\tvalid_1's rmse: 1.0533\n",
      "[800]\tvalid_0's rmse: 0.775753\tvalid_1's rmse: 1.04936\n",
      "[900]\tvalid_0's rmse: 0.747594\tvalid_1's rmse: 1.04591\n",
      "[1000]\tvalid_0's rmse: 0.721002\tvalid_1's rmse: 1.04303\n",
      "[1100]\tvalid_0's rmse: 0.696443\tvalid_1's rmse: 1.04003\n",
      "[1200]\tvalid_0's rmse: 0.673817\tvalid_1's rmse: 1.03832\n",
      "[1300]\tvalid_0's rmse: 0.652205\tvalid_1's rmse: 1.0371\n",
      "[1400]\tvalid_0's rmse: 0.632107\tvalid_1's rmse: 1.03549\n",
      "[1500]\tvalid_0's rmse: 0.613142\tvalid_1's rmse: 1.03415\n",
      "[1600]\tvalid_0's rmse: 0.595099\tvalid_1's rmse: 1.03294\n",
      "[1700]\tvalid_0's rmse: 0.577895\tvalid_1's rmse: 1.03202\n",
      "[1800]\tvalid_0's rmse: 0.561581\tvalid_1's rmse: 1.03147\n",
      "[1900]\tvalid_0's rmse: 0.545954\tvalid_1's rmse: 1.03099\n",
      "[2000]\tvalid_0's rmse: 0.531285\tvalid_1's rmse: 1.03018\n",
      "[2100]\tvalid_0's rmse: 0.517061\tvalid_1's rmse: 1.02984\n",
      "[2200]\tvalid_0's rmse: 0.503331\tvalid_1's rmse: 1.0295\n",
      "[2300]\tvalid_0's rmse: 0.490303\tvalid_1's rmse: 1.02896\n",
      "[2400]\tvalid_0's rmse: 0.477541\tvalid_1's rmse: 1.0286\n",
      "[2500]\tvalid_0's rmse: 0.46548\tvalid_1's rmse: 1.02812\n",
      "[2600]\tvalid_0's rmse: 0.454084\tvalid_1's rmse: 1.02747\n",
      "[2700]\tvalid_0's rmse: 0.442964\tvalid_1's rmse: 1.02732\n",
      "[2800]\tvalid_0's rmse: 0.432395\tvalid_1's rmse: 1.02686\n",
      "[2900]\tvalid_0's rmse: 0.422157\tvalid_1's rmse: 1.02674\n",
      "Early stopping, best iteration is:\n",
      "[2861]\tvalid_0's rmse: 0.425984\tvalid_1's rmse: 1.02655\n"
     ]
    },
    {
     "name": "stderr",
     "output_type": "stream",
     "text": [
      "feature_fraction, val_score: 1.025978:  71%|#######1  | 5/7 [03:57<01:29, 44.95s/it]\u001b[32m[I 2021-03-08 04:53:22,496]\u001b[0m Trial 4 finished with value: 1.0265548258830466 and parameters: {'feature_fraction': 0.5}. Best is trial 2 with value: 1.0259779602054522.\u001b[0m\n",
      "feature_fraction, val_score: 1.025978:  71%|#######1  | 5/7 [03:57<01:29, 44.95s/it]"
     ]
    },
    {
     "name": "stdout",
     "output_type": "stream",
     "text": [
      "Training until validation scores don't improve for 100 rounds\n",
      "[100]\tvalid_0's rmse: 1.20015\tvalid_1's rmse: 1.24591\n",
      "[200]\tvalid_0's rmse: 1.04009\tvalid_1's rmse: 1.12443\n",
      "[300]\tvalid_0's rmse: 0.970125\tvalid_1's rmse: 1.09047\n",
      "[400]\tvalid_0's rmse: 0.921681\tvalid_1's rmse: 1.07601\n",
      "[500]\tvalid_0's rmse: 0.880797\tvalid_1's rmse: 1.0661\n",
      "[600]\tvalid_0's rmse: 0.844526\tvalid_1's rmse: 1.0591\n",
      "[700]\tvalid_0's rmse: 0.811327\tvalid_1's rmse: 1.05378\n",
      "[800]\tvalid_0's rmse: 0.780894\tvalid_1's rmse: 1.04947\n",
      "[900]\tvalid_0's rmse: 0.753091\tvalid_1's rmse: 1.04588\n",
      "[1000]\tvalid_0's rmse: 0.727045\tvalid_1's rmse: 1.04275\n",
      "[1100]\tvalid_0's rmse: 0.702777\tvalid_1's rmse: 1.0403\n",
      "[1200]\tvalid_0's rmse: 0.680209\tvalid_1's rmse: 1.038\n",
      "[1300]\tvalid_0's rmse: 0.658586\tvalid_1's rmse: 1.03665\n",
      "[1400]\tvalid_0's rmse: 0.638138\tvalid_1's rmse: 1.03555\n",
      "[1500]\tvalid_0's rmse: 0.619352\tvalid_1's rmse: 1.03427\n",
      "[1600]\tvalid_0's rmse: 0.601048\tvalid_1's rmse: 1.03364\n",
      "[1700]\tvalid_0's rmse: 0.58385\tvalid_1's rmse: 1.033\n",
      "[1800]\tvalid_0's rmse: 0.567398\tvalid_1's rmse: 1.03172\n",
      "[1900]\tvalid_0's rmse: 0.551631\tvalid_1's rmse: 1.03077\n",
      "[2000]\tvalid_0's rmse: 0.536938\tvalid_1's rmse: 1.03038\n",
      "[2100]\tvalid_0's rmse: 0.522756\tvalid_1's rmse: 1.03\n",
      "[2200]\tvalid_0's rmse: 0.509239\tvalid_1's rmse: 1.02953\n",
      "[2300]\tvalid_0's rmse: 0.496032\tvalid_1's rmse: 1.02877\n",
      "[2400]\tvalid_0's rmse: 0.48343\tvalid_1's rmse: 1.02831\n",
      "[2500]\tvalid_0's rmse: 0.471243\tvalid_1's rmse: 1.02803\n",
      "[2600]\tvalid_0's rmse: 0.45967\tvalid_1's rmse: 1.02751\n",
      "[2700]\tvalid_0's rmse: 0.448673\tvalid_1's rmse: 1.02745\n",
      "[2800]\tvalid_0's rmse: 0.437894\tvalid_1's rmse: 1.02713\n",
      "[2900]\tvalid_0's rmse: 0.427885\tvalid_1's rmse: 1.02691\n",
      "Early stopping, best iteration is:\n",
      "[2855]\tvalid_0's rmse: 0.432256\tvalid_1's rmse: 1.02668\n"
     ]
    },
    {
     "name": "stderr",
     "output_type": "stream",
     "text": [
      "feature_fraction, val_score: 1.025978:  86%|########5 | 6/7 [04:24<00:39, 39.68s/it]\u001b[32m[I 2021-03-08 04:53:49,873]\u001b[0m Trial 5 finished with value: 1.0266824695274313 and parameters: {'feature_fraction': 0.4}. Best is trial 2 with value: 1.0259779602054522.\u001b[0m\n",
      "feature_fraction, val_score: 1.025978:  86%|########5 | 6/7 [04:24<00:39, 39.68s/it]"
     ]
    },
    {
     "name": "stdout",
     "output_type": "stream",
     "text": [
      "Training until validation scores don't improve for 100 rounds\n",
      "[100]\tvalid_0's rmse: 1.18635\tvalid_1's rmse: 1.23979\n",
      "[200]\tvalid_0's rmse: 1.02598\tvalid_1's rmse: 1.12354\n",
      "[300]\tvalid_0's rmse: 0.955266\tvalid_1's rmse: 1.09197\n",
      "[400]\tvalid_0's rmse: 0.903614\tvalid_1's rmse: 1.07625\n",
      "[500]\tvalid_0's rmse: 0.860489\tvalid_1's rmse: 1.06666\n",
      "[600]\tvalid_0's rmse: 0.821908\tvalid_1's rmse: 1.05872\n",
      "[700]\tvalid_0's rmse: 0.78772\tvalid_1's rmse: 1.05358\n",
      "[800]\tvalid_0's rmse: 0.756326\tvalid_1's rmse: 1.04925\n",
      "[900]\tvalid_0's rmse: 0.727474\tvalid_1's rmse: 1.0456\n",
      "[1000]\tvalid_0's rmse: 0.70063\tvalid_1's rmse: 1.04279\n",
      "[1100]\tvalid_0's rmse: 0.675261\tvalid_1's rmse: 1.04048\n",
      "[1200]\tvalid_0's rmse: 0.652241\tvalid_1's rmse: 1.03874\n",
      "[1300]\tvalid_0's rmse: 0.630372\tvalid_1's rmse: 1.03713\n",
      "[1400]\tvalid_0's rmse: 0.6099\tvalid_1's rmse: 1.03587\n",
      "[1500]\tvalid_0's rmse: 0.590482\tvalid_1's rmse: 1.03512\n",
      "[1600]\tvalid_0's rmse: 0.572419\tvalid_1's rmse: 1.03478\n",
      "[1700]\tvalid_0's rmse: 0.555001\tvalid_1's rmse: 1.03386\n",
      "[1800]\tvalid_0's rmse: 0.538593\tvalid_1's rmse: 1.03304\n",
      "[1900]\tvalid_0's rmse: 0.522806\tvalid_1's rmse: 1.03252\n",
      "[2000]\tvalid_0's rmse: 0.50805\tvalid_1's rmse: 1.03228\n",
      "[2100]\tvalid_0's rmse: 0.493769\tvalid_1's rmse: 1.03163\n",
      "[2200]\tvalid_0's rmse: 0.480168\tvalid_1's rmse: 1.03122\n",
      "[2300]\tvalid_0's rmse: 0.467408\tvalid_1's rmse: 1.03097\n",
      "[2400]\tvalid_0's rmse: 0.454867\tvalid_1's rmse: 1.03042\n",
      "[2500]\tvalid_0's rmse: 0.44308\tvalid_1's rmse: 1.03032\n"
     ]
    },
    {
     "name": "stderr",
     "output_type": "stream",
     "text": [
      "feature_fraction, val_score: 1.025978:  86%|########5 | 6/7 [05:15<00:39, 39.68s/it]"
     ]
    },
    {
     "name": "stdout",
     "output_type": "stream",
     "text": [
      "Early stopping, best iteration is:\n",
      "[2421]\tvalid_0's rmse: 0.452274\tvalid_1's rmse: 1.03013\n"
     ]
    },
    {
     "name": "stderr",
     "output_type": "stream",
     "text": [
      "feature_fraction, val_score: 1.025978: 100%|##########| 7/7 [05:15<00:00, 42.96s/it]\u001b[32m[I 2021-03-08 04:54:40,492]\u001b[0m Trial 6 finished with value: 1.030125752247884 and parameters: {'feature_fraction': 1.0}. Best is trial 2 with value: 1.0259779602054522.\u001b[0m\n",
      "feature_fraction, val_score: 1.025978: 100%|##########| 7/7 [05:15<00:00, 45.07s/it]\n",
      "num_leaves, val_score: 1.025978:   0%|          | 0/20 [00:00<?, ?it/s]"
     ]
    },
    {
     "name": "stdout",
     "output_type": "stream",
     "text": [
      "Training until validation scores don't improve for 100 rounds\n",
      "[100]\tvalid_0's rmse: 0.964988\tvalid_1's rmse: 1.20402\n",
      "[200]\tvalid_0's rmse: 0.639314\tvalid_1's rmse: 1.07721\n",
      "[300]\tvalid_0's rmse: 0.473736\tvalid_1's rmse: 1.04674\n",
      "[400]\tvalid_0's rmse: 0.372089\tvalid_1's rmse: 1.03758\n",
      "[500]\tvalid_0's rmse: 0.302775\tvalid_1's rmse: 1.03428\n",
      "[600]\tvalid_0's rmse: 0.25317\tvalid_1's rmse: 1.03329\n",
      "[700]\tvalid_0's rmse: 0.21723\tvalid_1's rmse: 1.03295\n",
      "[800]\tvalid_0's rmse: 0.190742\tvalid_1's rmse: 1.03274\n",
      "Early stopping, best iteration is:\n",
      "[775]\tvalid_0's rmse: 0.196688\tvalid_1's rmse: 1.03261\n"
     ]
    },
    {
     "name": "stderr",
     "output_type": "stream",
     "text": [
      "num_leaves, val_score: 1.025978:   5%|5         | 1/20 [01:21<25:44, 81.28s/it]\u001b[32m[I 2021-03-08 04:56:01,782]\u001b[0m Trial 7 finished with value: 1.0326065533023365 and parameters: {'num_leaves': 241}. Best is trial 7 with value: 1.0326065533023365.\u001b[0m\n",
      "num_leaves, val_score: 1.025978:   5%|5         | 1/20 [01:21<25:44, 81.28s/it]"
     ]
    },
    {
     "name": "stdout",
     "output_type": "stream",
     "text": [
      "Training until validation scores don't improve for 100 rounds\n",
      "[100]\tvalid_0's rmse: 0.999942\tvalid_1's rmse: 1.20712\n",
      "[200]\tvalid_0's rmse: 0.697293\tvalid_1's rmse: 1.0813\n",
      "[300]\tvalid_0's rmse: 0.540148\tvalid_1's rmse: 1.04889\n",
      "[400]\tvalid_0's rmse: 0.437171\tvalid_1's rmse: 1.03866\n",
      "[500]\tvalid_0's rmse: 0.362161\tvalid_1's rmse: 1.03436\n",
      "[600]\tvalid_0's rmse: 0.305804\tvalid_1's rmse: 1.03217\n",
      "[700]\tvalid_0's rmse: 0.262899\tvalid_1's rmse: 1.03116\n",
      "[800]\tvalid_0's rmse: 0.229988\tvalid_1's rmse: 1.03072\n",
      "[900]\tvalid_0's rmse: 0.204294\tvalid_1's rmse: 1.03037\n",
      "Early stopping, best iteration is:\n",
      "[894]\tvalid_0's rmse: 0.205619\tvalid_1's rmse: 1.03033\n"
     ]
    },
    {
     "name": "stderr",
     "output_type": "stream",
     "text": [
      "num_leaves, val_score: 1.025978:  10%|#         | 2/20 [02:39<24:04, 80.27s/it]\u001b[32m[I 2021-03-08 04:57:19,715]\u001b[0m Trial 8 finished with value: 1.0303316500448427 and parameters: {'num_leaves': 177}. Best is trial 8 with value: 1.0303316500448427.\u001b[0m\n",
      "num_leaves, val_score: 1.025978:  10%|#         | 2/20 [02:39<24:04, 80.27s/it]"
     ]
    },
    {
     "name": "stdout",
     "output_type": "stream",
     "text": [
      "Training until validation scores don't improve for 100 rounds\n",
      "[100]\tvalid_0's rmse: 1.00608\tvalid_1's rmse: 1.20816\n",
      "[200]\tvalid_0's rmse: 0.707742\tvalid_1's rmse: 1.0817\n",
      "[300]\tvalid_0's rmse: 0.552323\tvalid_1's rmse: 1.05071\n",
      "[400]\tvalid_0's rmse: 0.450539\tvalid_1's rmse: 1.04107\n",
      "[500]\tvalid_0's rmse: 0.37512\tvalid_1's rmse: 1.03654\n",
      "[600]\tvalid_0's rmse: 0.317904\tvalid_1's rmse: 1.03456\n",
      "[700]\tvalid_0's rmse: 0.273834\tvalid_1's rmse: 1.03319\n",
      "[800]\tvalid_0's rmse: 0.239503\tvalid_1's rmse: 1.03287\n",
      "Early stopping, best iteration is:\n",
      "[782]\tvalid_0's rmse: 0.245078\tvalid_1's rmse: 1.03269\n"
     ]
    },
    {
     "name": "stderr",
     "output_type": "stream",
     "text": [
      "num_leaves, val_score: 1.025978:  15%|#5        | 3/20 [03:45<21:34, 76.14s/it]\u001b[32m[I 2021-03-08 04:58:26,222]\u001b[0m Trial 9 finished with value: 1.0326861586689726 and parameters: {'num_leaves': 167}. Best is trial 8 with value: 1.0303316500448427.\u001b[0m\n",
      "num_leaves, val_score: 1.025978:  15%|#5        | 3/20 [03:45<21:34, 76.14s/it]"
     ]
    },
    {
     "name": "stdout",
     "output_type": "stream",
     "text": [
      "Training until validation scores don't improve for 100 rounds\n",
      "[100]\tvalid_0's rmse: 0.992989\tvalid_1's rmse: 1.20757\n",
      "[200]\tvalid_0's rmse: 0.685871\tvalid_1's rmse: 1.08134\n",
      "[300]\tvalid_0's rmse: 0.527021\tvalid_1's rmse: 1.05037\n",
      "[400]\tvalid_0's rmse: 0.423837\tvalid_1's rmse: 1.04041\n",
      "[500]\tvalid_0's rmse: 0.349837\tvalid_1's rmse: 1.03638\n",
      "[600]\tvalid_0's rmse: 0.294589\tvalid_1's rmse: 1.035\n",
      "[700]\tvalid_0's rmse: 0.252856\tvalid_1's rmse: 1.03432\n",
      "[800]\tvalid_0's rmse: 0.221071\tvalid_1's rmse: 1.03389\n",
      "[900]\tvalid_0's rmse: 0.196443\tvalid_1's rmse: 1.03344\n",
      "Early stopping, best iteration is:\n",
      "[882]\tvalid_0's rmse: 0.200416\tvalid_1's rmse: 1.03337\n"
     ]
    },
    {
     "name": "stderr",
     "output_type": "stream",
     "text": [
      "num_leaves, val_score: 1.025978:  20%|##        | 4/20 [05:02<20:23, 76.47s/it]\u001b[32m[I 2021-03-08 04:59:43,471]\u001b[0m Trial 10 finished with value: 1.0333699112593042 and parameters: {'num_leaves': 187}. Best is trial 8 with value: 1.0303316500448427.\u001b[0m\n",
      "num_leaves, val_score: 1.025978:  20%|##        | 4/20 [05:02<20:23, 76.47s/it]"
     ]
    },
    {
     "name": "stdout",
     "output_type": "stream",
     "text": [
      "Training until validation scores don't improve for 100 rounds\n",
      "[100]\tvalid_0's rmse: 1.03012\tvalid_1's rmse: 1.21194\n",
      "[200]\tvalid_0's rmse: 0.748951\tvalid_1's rmse: 1.08451\n",
      "[300]\tvalid_0's rmse: 0.601988\tvalid_1's rmse: 1.0533\n",
      "[400]\tvalid_0's rmse: 0.502245\tvalid_1's rmse: 1.04174\n",
      "[500]\tvalid_0's rmse: 0.426468\tvalid_1's rmse: 1.03575\n",
      "[600]\tvalid_0's rmse: 0.366644\tvalid_1's rmse: 1.03231\n",
      "[700]\tvalid_0's rmse: 0.319035\tvalid_1's rmse: 1.03084\n",
      "[800]\tvalid_0's rmse: 0.280547\tvalid_1's rmse: 1.0302\n",
      "[900]\tvalid_0's rmse: 0.249682\tvalid_1's rmse: 1.02916\n",
      "[1000]\tvalid_0's rmse: 0.224644\tvalid_1's rmse: 1.02906\n",
      "Early stopping, best iteration is:\n",
      "[976]\tvalid_0's rmse: 0.230199\tvalid_1's rmse: 1.02889\n"
     ]
    },
    {
     "name": "stderr",
     "output_type": "stream",
     "text": [
      "num_leaves, val_score: 1.025978:  25%|##5       | 5/20 [06:12<18:35, 74.39s/it]\u001b[32m[I 2021-03-08 05:00:52,991]\u001b[0m Trial 11 finished with value: 1.028891124350187 and parameters: {'num_leaves': 136}. Best is trial 11 with value: 1.028891124350187.\u001b[0m\n",
      "num_leaves, val_score: 1.025978:  25%|##5       | 5/20 [06:12<18:35, 74.39s/it]"
     ]
    },
    {
     "name": "stdout",
     "output_type": "stream",
     "text": [
      "Training until validation scores don't improve for 100 rounds\n",
      "[100]\tvalid_0's rmse: 0.992989\tvalid_1's rmse: 1.20757\n",
      "[200]\tvalid_0's rmse: 0.685871\tvalid_1's rmse: 1.08134\n",
      "[300]\tvalid_0's rmse: 0.527021\tvalid_1's rmse: 1.05037\n",
      "[400]\tvalid_0's rmse: 0.423837\tvalid_1's rmse: 1.04041\n",
      "[500]\tvalid_0's rmse: 0.349837\tvalid_1's rmse: 1.03638\n",
      "[600]\tvalid_0's rmse: 0.294589\tvalid_1's rmse: 1.035\n",
      "[700]\tvalid_0's rmse: 0.252856\tvalid_1's rmse: 1.03432\n",
      "[800]\tvalid_0's rmse: 0.221071\tvalid_1's rmse: 1.03389\n",
      "[900]\tvalid_0's rmse: 0.196443\tvalid_1's rmse: 1.03344\n",
      "Early stopping, best iteration is:\n",
      "[882]\tvalid_0's rmse: 0.200416\tvalid_1's rmse: 1.03337\n"
     ]
    },
    {
     "name": "stderr",
     "output_type": "stream",
     "text": [
      "num_leaves, val_score: 1.025978:  30%|###       | 6/20 [07:31<17:40, 75.78s/it]\u001b[32m[I 2021-03-08 05:02:12,003]\u001b[0m Trial 12 finished with value: 1.0333699112593042 and parameters: {'num_leaves': 187}. Best is trial 11 with value: 1.028891124350187.\u001b[0m\n",
      "num_leaves, val_score: 1.025978:  30%|###       | 6/20 [07:31<17:40, 75.78s/it]"
     ]
    },
    {
     "name": "stdout",
     "output_type": "stream",
     "text": [
      "Training until validation scores don't improve for 100 rounds\n",
      "[100]\tvalid_0's rmse: 0.977095\tvalid_1's rmse: 1.20831\n",
      "[200]\tvalid_0's rmse: 0.659009\tvalid_1's rmse: 1.08045\n",
      "[300]\tvalid_0's rmse: 0.495799\tvalid_1's rmse: 1.04968\n",
      "[400]\tvalid_0's rmse: 0.392868\tvalid_1's rmse: 1.04048\n",
      "[500]\tvalid_0's rmse: 0.321098\tvalid_1's rmse: 1.03744\n",
      "[600]\tvalid_0's rmse: 0.26895\tvalid_1's rmse: 1.03541\n",
      "[700]\tvalid_0's rmse: 0.230583\tvalid_1's rmse: 1.03466\n",
      "[800]\tvalid_0's rmse: 0.201944\tvalid_1's rmse: 1.03446\n",
      "[900]\tvalid_0's rmse: 0.179912\tvalid_1's rmse: 1.03416\n",
      "Early stopping, best iteration is:\n",
      "[885]\tvalid_0's rmse: 0.182892\tvalid_1's rmse: 1.03407\n"
     ]
    },
    {
     "name": "stderr",
     "output_type": "stream",
     "text": [
      "num_leaves, val_score: 1.025978:  35%|###5      | 7/20 [08:55<16:58, 78.31s/it]\u001b[32m[I 2021-03-08 05:03:36,239]\u001b[0m Trial 13 finished with value: 1.0340693995436876 and parameters: {'num_leaves': 216}. Best is trial 11 with value: 1.028891124350187.\u001b[0m\n",
      "num_leaves, val_score: 1.025978:  35%|###5      | 7/20 [08:55<16:58, 78.31s/it]"
     ]
    },
    {
     "name": "stdout",
     "output_type": "stream",
     "text": [
      "Training until validation scores don't improve for 100 rounds\n",
      "[100]\tvalid_0's rmse: 0.964228\tvalid_1's rmse: 1.20576\n",
      "[200]\tvalid_0's rmse: 0.637982\tvalid_1's rmse: 1.08011\n",
      "[300]\tvalid_0's rmse: 0.472497\tvalid_1's rmse: 1.05005\n",
      "[400]\tvalid_0's rmse: 0.370565\tvalid_1's rmse: 1.04102\n",
      "[500]\tvalid_0's rmse: 0.301206\tvalid_1's rmse: 1.03789\n",
      "[600]\tvalid_0's rmse: 0.252059\tvalid_1's rmse: 1.03664\n",
      "[700]\tvalid_0's rmse: 0.216515\tvalid_1's rmse: 1.03602\n",
      "[800]\tvalid_0's rmse: 0.19019\tvalid_1's rmse: 1.03585\n",
      "[900]\tvalid_0's rmse: 0.170116\tvalid_1's rmse: 1.03578\n",
      "[1000]\tvalid_0's rmse: 0.154085\tvalid_1's rmse: 1.03585\n",
      "Early stopping, best iteration is:\n",
      "[976]\tvalid_0's rmse: 0.157674\tvalid_1's rmse: 1.03568\n"
     ]
    },
    {
     "name": "stderr",
     "output_type": "stream",
     "text": [
      "num_leaves, val_score: 1.025978:  40%|####      | 8/20 [10:35<16:56, 84.73s/it]\u001b[32m[I 2021-03-08 05:05:15,929]\u001b[0m Trial 14 finished with value: 1.0356821691979805 and parameters: {'num_leaves': 243}. Best is trial 11 with value: 1.028891124350187.\u001b[0m\n",
      "num_leaves, val_score: 1.025978:  40%|####      | 8/20 [10:35<16:56, 84.73s/it]"
     ]
    },
    {
     "name": "stdout",
     "output_type": "stream",
     "text": [
      "Training until validation scores don't improve for 100 rounds\n",
      "[100]\tvalid_0's rmse: 1.11536\tvalid_1's rmse: 1.22179\n",
      "[200]\tvalid_0's rmse: 0.899003\tvalid_1's rmse: 1.0982\n",
      "[300]\tvalid_0's rmse: 0.791445\tvalid_1's rmse: 1.06456\n",
      "[400]\tvalid_0's rmse: 0.712967\tvalid_1's rmse: 1.05117\n",
      "[500]\tvalid_0's rmse: 0.648326\tvalid_1's rmse: 1.04332\n",
      "[600]\tvalid_0's rmse: 0.592875\tvalid_1's rmse: 1.03795\n",
      "[700]\tvalid_0's rmse: 0.54493\tvalid_1's rmse: 1.03468\n",
      "[800]\tvalid_0's rmse: 0.502569\tvalid_1's rmse: 1.03201\n",
      "[900]\tvalid_0's rmse: 0.464897\tvalid_1's rmse: 1.02972\n",
      "[1000]\tvalid_0's rmse: 0.431678\tvalid_1's rmse: 1.0289\n",
      "[1100]\tvalid_0's rmse: 0.401976\tvalid_1's rmse: 1.02749\n",
      "[1200]\tvalid_0's rmse: 0.37546\tvalid_1's rmse: 1.02679\n",
      "[1300]\tvalid_0's rmse: 0.35179\tvalid_1's rmse: 1.0264\n",
      "[1400]\tvalid_0's rmse: 0.330388\tvalid_1's rmse: 1.02602\n",
      "[1500]\tvalid_0's rmse: 0.311266\tvalid_1's rmse: 1.02587\n",
      "[1600]\tvalid_0's rmse: 0.293932\tvalid_1's rmse: 1.02563\n",
      "[1700]\tvalid_0's rmse: 0.278105\tvalid_1's rmse: 1.02566\n",
      "Early stopping, best iteration is:\n",
      "[1612]\tvalid_0's rmse: 0.291928\tvalid_1's rmse: 1.02557\n"
     ]
    },
    {
     "name": "stderr",
     "output_type": "stream",
     "text": [
      "num_leaves, val_score: 1.025565:  45%|####5     | 9/20 [11:33<14:02, 76.59s/it]\u001b[32m[I 2021-03-08 05:06:13,534]\u001b[0m Trial 15 finished with value: 1.025565312551479 and parameters: {'num_leaves': 61}. Best is trial 15 with value: 1.025565312551479.\u001b[0m\n",
      "num_leaves, val_score: 1.025565:  45%|####5     | 9/20 [11:33<14:02, 76.59s/it]"
     ]
    },
    {
     "name": "stdout",
     "output_type": "stream",
     "text": [
      "Training until validation scores don't improve for 100 rounds\n",
      "[100]\tvalid_0's rmse: 1.08593\tvalid_1's rmse: 1.21728\n",
      "[200]\tvalid_0's rmse: 0.847442\tvalid_1's rmse: 1.09254\n",
      "[300]\tvalid_0's rmse: 0.724891\tvalid_1's rmse: 1.05921\n",
      "[400]\tvalid_0's rmse: 0.637092\tvalid_1's rmse: 1.04653\n",
      "[500]\tvalid_0's rmse: 0.566141\tvalid_1's rmse: 1.03887\n",
      "[600]\tvalid_0's rmse: 0.506657\tvalid_1's rmse: 1.03484\n",
      "[700]\tvalid_0's rmse: 0.456475\tvalid_1's rmse: 1.03237\n",
      "[800]\tvalid_0's rmse: 0.413404\tvalid_1's rmse: 1.03038\n",
      "[900]\tvalid_0's rmse: 0.376428\tvalid_1's rmse: 1.02904\n",
      "[1000]\tvalid_0's rmse: 0.344387\tvalid_1's rmse: 1.02804\n",
      "[1100]\tvalid_0's rmse: 0.31645\tvalid_1's rmse: 1.02714\n",
      "[1200]\tvalid_0's rmse: 0.292222\tvalid_1's rmse: 1.02621\n",
      "[1300]\tvalid_0's rmse: 0.271097\tvalid_1's rmse: 1.02575\n",
      "[1400]\tvalid_0's rmse: 0.252748\tvalid_1's rmse: 1.02536\n",
      "Early stopping, best iteration is:\n",
      "[1397]\tvalid_0's rmse: 0.253274\tvalid_1's rmse: 1.02531\n"
     ]
    },
    {
     "name": "stderr",
     "output_type": "stream",
     "text": [
      "num_leaves, val_score: 1.025314:  50%|#####     | 10/20 [12:36<12:07, 72.74s/it]\u001b[32m[I 2021-03-08 05:07:17,298]\u001b[0m Trial 16 finished with value: 1.0253135612090318 and parameters: {'num_leaves': 82}. Best is trial 16 with value: 1.0253135612090318.\u001b[0m\n",
      "num_leaves, val_score: 1.025314:  50%|#####     | 10/20 [12:36<12:07, 72.74s/it]"
     ]
    },
    {
     "name": "stdout",
     "output_type": "stream",
     "text": [
      "Training until validation scores don't improve for 100 rounds\n",
      "[100]\tvalid_0's rmse: 1.31692\tvalid_1's rmse: 1.32301\n",
      "[200]\tvalid_0's rmse: 1.21158\tvalid_1's rmse: 1.2195\n",
      "[300]\tvalid_0's rmse: 1.16798\tvalid_1's rmse: 1.17994\n",
      "[400]\tvalid_0's rmse: 1.14448\tvalid_1's rmse: 1.15917\n",
      "[500]\tvalid_0's rmse: 1.13\tvalid_1's rmse: 1.14721\n",
      "[600]\tvalid_0's rmse: 1.11977\tvalid_1's rmse: 1.13879\n",
      "[700]\tvalid_0's rmse: 1.11135\tvalid_1's rmse: 1.13275\n",
      "[800]\tvalid_0's rmse: 1.10361\tvalid_1's rmse: 1.12802\n",
      "[900]\tvalid_0's rmse: 1.09702\tvalid_1's rmse: 1.12402\n",
      "[1000]\tvalid_0's rmse: 1.09067\tvalid_1's rmse: 1.12032\n",
      "[1100]\tvalid_0's rmse: 1.08467\tvalid_1's rmse: 1.1169\n",
      "[1200]\tvalid_0's rmse: 1.07897\tvalid_1's rmse: 1.11435\n",
      "[1300]\tvalid_0's rmse: 1.07348\tvalid_1's rmse: 1.11161\n",
      "[1400]\tvalid_0's rmse: 1.06823\tvalid_1's rmse: 1.10876\n",
      "[1500]\tvalid_0's rmse: 1.06321\tvalid_1's rmse: 1.10694\n",
      "[1600]\tvalid_0's rmse: 1.0584\tvalid_1's rmse: 1.10505\n",
      "[1700]\tvalid_0's rmse: 1.05358\tvalid_1's rmse: 1.10365\n",
      "[1800]\tvalid_0's rmse: 1.04898\tvalid_1's rmse: 1.10178\n",
      "[1900]\tvalid_0's rmse: 1.04466\tvalid_1's rmse: 1.10008\n",
      "[2000]\tvalid_0's rmse: 1.0405\tvalid_1's rmse: 1.09862\n",
      "[2100]\tvalid_0's rmse: 1.03633\tvalid_1's rmse: 1.09677\n",
      "[2200]\tvalid_0's rmse: 1.03228\tvalid_1's rmse: 1.09556\n",
      "[2300]\tvalid_0's rmse: 1.02819\tvalid_1's rmse: 1.09434\n",
      "[2400]\tvalid_0's rmse: 1.02434\tvalid_1's rmse: 1.09306\n",
      "[2500]\tvalid_0's rmse: 1.02056\tvalid_1's rmse: 1.09156\n",
      "[2600]\tvalid_0's rmse: 1.01687\tvalid_1's rmse: 1.09103\n",
      "[2700]\tvalid_0's rmse: 1.01326\tvalid_1's rmse: 1.09005\n",
      "[2800]\tvalid_0's rmse: 1.00973\tvalid_1's rmse: 1.08856\n",
      "[2900]\tvalid_0's rmse: 1.00622\tvalid_1's rmse: 1.08762\n",
      "[3000]\tvalid_0's rmse: 1.00273\tvalid_1's rmse: 1.08668\n",
      "[3100]\tvalid_0's rmse: 0.999162\tvalid_1's rmse: 1.08574\n",
      "[3200]\tvalid_0's rmse: 0.995785\tvalid_1's rmse: 1.08488\n",
      "[3300]\tvalid_0's rmse: 0.992393\tvalid_1's rmse: 1.08388\n",
      "[3400]\tvalid_0's rmse: 0.989115\tvalid_1's rmse: 1.08299\n",
      "[3500]\tvalid_0's rmse: 0.985931\tvalid_1's rmse: 1.08221\n",
      "[3600]\tvalid_0's rmse: 0.98279\tvalid_1's rmse: 1.0813\n",
      "[3700]\tvalid_0's rmse: 0.97978\tvalid_1's rmse: 1.08066\n",
      "[3800]\tvalid_0's rmse: 0.976749\tvalid_1's rmse: 1.08007\n",
      "[3900]\tvalid_0's rmse: 0.973805\tvalid_1's rmse: 1.07942\n",
      "[4000]\tvalid_0's rmse: 0.970708\tvalid_1's rmse: 1.07887\n",
      "[4100]\tvalid_0's rmse: 0.967783\tvalid_1's rmse: 1.07804\n",
      "[4200]\tvalid_0's rmse: 0.965008\tvalid_1's rmse: 1.07763\n",
      "[4300]\tvalid_0's rmse: 0.962281\tvalid_1's rmse: 1.07662\n",
      "[4400]\tvalid_0's rmse: 0.959512\tvalid_1's rmse: 1.07585\n",
      "[4500]\tvalid_0's rmse: 0.956765\tvalid_1's rmse: 1.07521\n",
      "[4600]\tvalid_0's rmse: 0.954107\tvalid_1's rmse: 1.07459\n",
      "[4700]\tvalid_0's rmse: 0.951344\tvalid_1's rmse: 1.07415\n",
      "[4800]\tvalid_0's rmse: 0.948722\tvalid_1's rmse: 1.07392\n",
      "[4900]\tvalid_0's rmse: 0.946138\tvalid_1's rmse: 1.0732\n",
      "[5000]\tvalid_0's rmse: 0.943519\tvalid_1's rmse: 1.07306\n",
      "[5100]\tvalid_0's rmse: 0.940807\tvalid_1's rmse: 1.07224\n",
      "[5200]\tvalid_0's rmse: 0.938367\tvalid_1's rmse: 1.07196\n",
      "[5300]\tvalid_0's rmse: 0.935842\tvalid_1's rmse: 1.07134\n",
      "[5400]\tvalid_0's rmse: 0.933447\tvalid_1's rmse: 1.07113\n",
      "[5500]\tvalid_0's rmse: 0.931188\tvalid_1's rmse: 1.07067\n",
      "[5600]\tvalid_0's rmse: 0.928858\tvalid_1's rmse: 1.07042\n",
      "[5700]\tvalid_0's rmse: 0.926601\tvalid_1's rmse: 1.06995\n",
      "[5800]\tvalid_0's rmse: 0.924205\tvalid_1's rmse: 1.06968\n",
      "[5900]\tvalid_0's rmse: 0.92186\tvalid_1's rmse: 1.06963\n",
      "[6000]\tvalid_0's rmse: 0.919515\tvalid_1's rmse: 1.0691\n",
      "[6100]\tvalid_0's rmse: 0.917315\tvalid_1's rmse: 1.06882\n",
      "[6200]\tvalid_0's rmse: 0.915005\tvalid_1's rmse: 1.06861\n",
      "[6300]\tvalid_0's rmse: 0.912775\tvalid_1's rmse: 1.06789\n",
      "[6400]\tvalid_0's rmse: 0.91058\tvalid_1's rmse: 1.06751\n",
      "[6500]\tvalid_0's rmse: 0.908379\tvalid_1's rmse: 1.06714\n",
      "[6600]\tvalid_0's rmse: 0.906277\tvalid_1's rmse: 1.0667\n",
      "[6700]\tvalid_0's rmse: 0.904168\tvalid_1's rmse: 1.0664\n",
      "[6800]\tvalid_0's rmse: 0.902099\tvalid_1's rmse: 1.06614\n",
      "[6900]\tvalid_0's rmse: 0.899931\tvalid_1's rmse: 1.06595\n",
      "[7000]\tvalid_0's rmse: 0.897832\tvalid_1's rmse: 1.0655\n",
      "[7100]\tvalid_0's rmse: 0.895764\tvalid_1's rmse: 1.0652\n",
      "[7200]\tvalid_0's rmse: 0.893692\tvalid_1's rmse: 1.06483\n",
      "[7300]\tvalid_0's rmse: 0.891623\tvalid_1's rmse: 1.06488\n",
      "[7400]\tvalid_0's rmse: 0.889601\tvalid_1's rmse: 1.06457\n",
      "[7500]\tvalid_0's rmse: 0.887588\tvalid_1's rmse: 1.06419\n",
      "[7600]\tvalid_0's rmse: 0.885755\tvalid_1's rmse: 1.06391\n",
      "[7700]\tvalid_0's rmse: 0.883863\tvalid_1's rmse: 1.06366\n",
      "[7800]\tvalid_0's rmse: 0.881883\tvalid_1's rmse: 1.06327\n",
      "[7900]\tvalid_0's rmse: 0.880034\tvalid_1's rmse: 1.06291\n",
      "[8000]\tvalid_0's rmse: 0.87822\tvalid_1's rmse: 1.06282\n",
      "[8100]\tvalid_0's rmse: 0.876391\tvalid_1's rmse: 1.06237\n",
      "[8200]\tvalid_0's rmse: 0.874587\tvalid_1's rmse: 1.06201\n",
      "[8300]\tvalid_0's rmse: 0.872806\tvalid_1's rmse: 1.06176\n",
      "[8400]\tvalid_0's rmse: 0.870957\tvalid_1's rmse: 1.06151\n",
      "[8500]\tvalid_0's rmse: 0.869132\tvalid_1's rmse: 1.06118\n",
      "[8600]\tvalid_0's rmse: 0.867292\tvalid_1's rmse: 1.06082\n",
      "[8700]\tvalid_0's rmse: 0.865468\tvalid_1's rmse: 1.06059\n",
      "[8800]\tvalid_0's rmse: 0.863718\tvalid_1's rmse: 1.06043\n",
      "[8900]\tvalid_0's rmse: 0.861905\tvalid_1's rmse: 1.06017\n",
      "[9000]\tvalid_0's rmse: 0.860129\tvalid_1's rmse: 1.05996\n",
      "[9100]\tvalid_0's rmse: 0.858429\tvalid_1's rmse: 1.05976\n",
      "[9200]\tvalid_0's rmse: 0.856742\tvalid_1's rmse: 1.05943\n"
     ]
    },
    {
     "name": "stderr",
     "output_type": "stream",
     "text": [
      "num_leaves, val_score: 1.025314:  55%|#####5    | 11/20 [13:00<08:41, 57.92s/it]"
     ]
    },
    {
     "name": "stdout",
     "output_type": "stream",
     "text": [
      "[9300]\tvalid_0's rmse: 0.855042\tvalid_1's rmse: 1.05947\n",
      "Early stopping, best iteration is:\n",
      "[9205]\tvalid_0's rmse: 0.856645\tvalid_1's rmse: 1.0594\n"
     ]
    },
    {
     "name": "stderr",
     "output_type": "stream",
     "text": [
      "\u001b[32m[I 2021-03-08 05:07:40,641]\u001b[0m Trial 17 finished with value: 1.0593989781136413 and parameters: {'num_leaves': 3}. Best is trial 16 with value: 1.0253135612090318.\u001b[0m\n",
      "num_leaves, val_score: 1.025314:  55%|#####5    | 11/20 [13:00<08:41, 57.92s/it]"
     ]
    },
    {
     "name": "stdout",
     "output_type": "stream",
     "text": [
      "Training until validation scores don't improve for 100 rounds\n",
      "[100]\tvalid_0's rmse: 1.12348\tvalid_1's rmse: 1.22319\n",
      "[200]\tvalid_0's rmse: 0.913773\tvalid_1's rmse: 1.10025\n",
      "[300]\tvalid_0's rmse: 0.809952\tvalid_1's rmse: 1.06721\n",
      "[400]\tvalid_0's rmse: 0.733949\tvalid_1's rmse: 1.05284\n",
      "[500]\tvalid_0's rmse: 0.671142\tvalid_1's rmse: 1.04415\n",
      "[600]\tvalid_0's rmse: 0.617378\tvalid_1's rmse: 1.03873\n",
      "[700]\tvalid_0's rmse: 0.56979\tvalid_1's rmse: 1.03447\n",
      "[800]\tvalid_0's rmse: 0.528375\tvalid_1's rmse: 1.03262\n",
      "[900]\tvalid_0's rmse: 0.490991\tvalid_1's rmse: 1.03109\n",
      "[1000]\tvalid_0's rmse: 0.458048\tvalid_1's rmse: 1.02929\n",
      "[1100]\tvalid_0's rmse: 0.428021\tvalid_1's rmse: 1.02799\n",
      "[1200]\tvalid_0's rmse: 0.401161\tvalid_1's rmse: 1.02716\n",
      "[1300]\tvalid_0's rmse: 0.376979\tvalid_1's rmse: 1.02693\n",
      "[1400]\tvalid_0's rmse: 0.355251\tvalid_1's rmse: 1.02653\n",
      "[1500]\tvalid_0's rmse: 0.335504\tvalid_1's rmse: 1.02633\n",
      "[1600]\tvalid_0's rmse: 0.317656\tvalid_1's rmse: 1.02605\n",
      "[1700]\tvalid_0's rmse: 0.301094\tvalid_1's rmse: 1.02577\n",
      "[1800]\tvalid_0's rmse: 0.286131\tvalid_1's rmse: 1.02582\n",
      "Early stopping, best iteration is:\n",
      "[1739]\tvalid_0's rmse: 0.295079\tvalid_1's rmse: 1.02573\n"
     ]
    },
    {
     "name": "stderr",
     "output_type": "stream",
     "text": [
      "num_leaves, val_score: 1.025314:  60%|######    | 12/20 [13:56<07:38, 57.35s/it]\u001b[32m[I 2021-03-08 05:08:36,649]\u001b[0m Trial 18 finished with value: 1.0257271805815384 and parameters: {'num_leaves': 56}. Best is trial 16 with value: 1.0253135612090318.\u001b[0m\n",
      "num_leaves, val_score: 1.025314:  60%|######    | 12/20 [13:56<07:38, 57.35s/it]"
     ]
    },
    {
     "name": "stdout",
     "output_type": "stream",
     "text": [
      "Training until validation scores don't improve for 100 rounds\n",
      "[100]\tvalid_0's rmse: 1.09666\tvalid_1's rmse: 1.21874\n",
      "[200]\tvalid_0's rmse: 0.866096\tvalid_1's rmse: 1.09308\n",
      "[300]\tvalid_0's rmse: 0.748858\tvalid_1's rmse: 1.06042\n",
      "[400]\tvalid_0's rmse: 0.66447\tvalid_1's rmse: 1.0475\n",
      "[500]\tvalid_0's rmse: 0.595289\tvalid_1's rmse: 1.03962\n",
      "[600]\tvalid_0's rmse: 0.537057\tvalid_1's rmse: 1.03477\n",
      "[700]\tvalid_0's rmse: 0.487233\tvalid_1's rmse: 1.03188\n",
      "[800]\tvalid_0's rmse: 0.443929\tvalid_1's rmse: 1.0298\n",
      "[900]\tvalid_0's rmse: 0.406112\tvalid_1's rmse: 1.02897\n",
      "[1000]\tvalid_0's rmse: 0.373534\tvalid_1's rmse: 1.02788\n",
      "[1100]\tvalid_0's rmse: 0.344744\tvalid_1's rmse: 1.02718\n",
      "[1200]\tvalid_0's rmse: 0.319585\tvalid_1's rmse: 1.02719\n",
      "Early stopping, best iteration is:\n",
      "[1114]\tvalid_0's rmse: 0.341065\tvalid_1's rmse: 1.027\n"
     ]
    },
    {
     "name": "stderr",
     "output_type": "stream",
     "text": [
      "num_leaves, val_score: 1.025314:  65%|######5   | 13/20 [14:43<06:20, 54.42s/it]\u001b[32m[I 2021-03-08 05:09:24,234]\u001b[0m Trial 19 finished with value: 1.026995629718465 and parameters: {'num_leaves': 74}. Best is trial 16 with value: 1.0253135612090318.\u001b[0m\n",
      "num_leaves, val_score: 1.025314:  65%|######5   | 13/20 [14:43<06:20, 54.42s/it]"
     ]
    },
    {
     "name": "stdout",
     "output_type": "stream",
     "text": [
      "Training until validation scores don't improve for 100 rounds\n",
      "[100]\tvalid_0's rmse: 1.11536\tvalid_1's rmse: 1.22179\n",
      "[200]\tvalid_0's rmse: 0.899003\tvalid_1's rmse: 1.0982\n",
      "[300]\tvalid_0's rmse: 0.791445\tvalid_1's rmse: 1.06456\n",
      "[400]\tvalid_0's rmse: 0.712967\tvalid_1's rmse: 1.05117\n",
      "[500]\tvalid_0's rmse: 0.648326\tvalid_1's rmse: 1.04332\n",
      "[600]\tvalid_0's rmse: 0.592875\tvalid_1's rmse: 1.03795\n",
      "[700]\tvalid_0's rmse: 0.54493\tvalid_1's rmse: 1.03468\n",
      "[800]\tvalid_0's rmse: 0.502569\tvalid_1's rmse: 1.03201\n",
      "[900]\tvalid_0's rmse: 0.464897\tvalid_1's rmse: 1.02972\n",
      "[1000]\tvalid_0's rmse: 0.431678\tvalid_1's rmse: 1.0289\n",
      "[1100]\tvalid_0's rmse: 0.401976\tvalid_1's rmse: 1.02749\n",
      "[1200]\tvalid_0's rmse: 0.37546\tvalid_1's rmse: 1.02679\n",
      "[1300]\tvalid_0's rmse: 0.35179\tvalid_1's rmse: 1.0264\n",
      "[1400]\tvalid_0's rmse: 0.330388\tvalid_1's rmse: 1.02602\n",
      "[1500]\tvalid_0's rmse: 0.311266\tvalid_1's rmse: 1.02587\n",
      "[1600]\tvalid_0's rmse: 0.293932\tvalid_1's rmse: 1.02563\n",
      "[1700]\tvalid_0's rmse: 0.278105\tvalid_1's rmse: 1.02566\n",
      "Early stopping, best iteration is:\n",
      "[1612]\tvalid_0's rmse: 0.291928\tvalid_1's rmse: 1.02557\n"
     ]
    },
    {
     "name": "stderr",
     "output_type": "stream",
     "text": [
      "num_leaves, val_score: 1.025314:  70%|#######   | 14/20 [15:39<05:28, 54.81s/it]\u001b[32m[I 2021-03-08 05:10:19,967]\u001b[0m Trial 20 finished with value: 1.025565312551479 and parameters: {'num_leaves': 61}. Best is trial 16 with value: 1.0253135612090318.\u001b[0m\n",
      "num_leaves, val_score: 1.025314:  70%|#######   | 14/20 [15:39<05:28, 54.81s/it]"
     ]
    },
    {
     "name": "stdout",
     "output_type": "stream",
     "text": [
      "Training until validation scores don't improve for 100 rounds\n",
      "[100]\tvalid_0's rmse: 1.22152\tvalid_1's rmse: 1.25121\n",
      "[200]\tvalid_0's rmse: 1.08561\tvalid_1's rmse: 1.13797\n",
      "[300]\tvalid_0's rmse: 1.0312\tvalid_1's rmse: 1.10777\n",
      "[400]\tvalid_0's rmse: 0.994235\tvalid_1's rmse: 1.09328\n",
      "[500]\tvalid_0's rmse: 0.963319\tvalid_1's rmse: 1.08308\n",
      "[600]\tvalid_0's rmse: 0.935881\tvalid_1's rmse: 1.07591\n",
      "[700]\tvalid_0's rmse: 0.910791\tvalid_1's rmse: 1.07084\n",
      "[800]\tvalid_0's rmse: 0.887494\tvalid_1's rmse: 1.06622\n",
      "[900]\tvalid_0's rmse: 0.865896\tvalid_1's rmse: 1.06222\n",
      "[1000]\tvalid_0's rmse: 0.845623\tvalid_1's rmse: 1.05938\n",
      "[1100]\tvalid_0's rmse: 0.826544\tvalid_1's rmse: 1.05639\n",
      "[1200]\tvalid_0's rmse: 0.808515\tvalid_1's rmse: 1.05417\n",
      "[1300]\tvalid_0's rmse: 0.791264\tvalid_1's rmse: 1.05231\n",
      "[1400]\tvalid_0's rmse: 0.774984\tvalid_1's rmse: 1.05072\n",
      "[1500]\tvalid_0's rmse: 0.759032\tvalid_1's rmse: 1.04933\n",
      "[1600]\tvalid_0's rmse: 0.744199\tvalid_1's rmse: 1.04778\n",
      "[1700]\tvalid_0's rmse: 0.729827\tvalid_1's rmse: 1.04632\n",
      "[1800]\tvalid_0's rmse: 0.716027\tvalid_1's rmse: 1.04492\n",
      "[1900]\tvalid_0's rmse: 0.702665\tvalid_1's rmse: 1.0437\n",
      "[2000]\tvalid_0's rmse: 0.690189\tvalid_1's rmse: 1.04267\n",
      "[2100]\tvalid_0's rmse: 0.677715\tvalid_1's rmse: 1.04182\n",
      "[2200]\tvalid_0's rmse: 0.665968\tvalid_1's rmse: 1.041\n",
      "[2300]\tvalid_0's rmse: 0.654396\tvalid_1's rmse: 1.04035\n",
      "[2400]\tvalid_0's rmse: 0.643323\tvalid_1's rmse: 1.03998\n",
      "[2500]\tvalid_0's rmse: 0.632537\tvalid_1's rmse: 1.03944\n",
      "[2600]\tvalid_0's rmse: 0.622109\tvalid_1's rmse: 1.03884\n",
      "[2700]\tvalid_0's rmse: 0.611866\tvalid_1's rmse: 1.03832\n",
      "[2800]\tvalid_0's rmse: 0.601808\tvalid_1's rmse: 1.03749\n",
      "[2900]\tvalid_0's rmse: 0.592417\tvalid_1's rmse: 1.03731\n",
      "[3000]\tvalid_0's rmse: 0.582992\tvalid_1's rmse: 1.0365\n",
      "[3100]\tvalid_0's rmse: 0.5741\tvalid_1's rmse: 1.03601\n",
      "[3200]\tvalid_0's rmse: 0.5654\tvalid_1's rmse: 1.03565\n",
      "[3300]\tvalid_0's rmse: 0.556777\tvalid_1's rmse: 1.0355\n",
      "[3400]\tvalid_0's rmse: 0.548248\tvalid_1's rmse: 1.03512\n",
      "[3500]\tvalid_0's rmse: 0.539982\tvalid_1's rmse: 1.03466\n",
      "[3600]\tvalid_0's rmse: 0.532104\tvalid_1's rmse: 1.03422\n",
      "[3700]\tvalid_0's rmse: 0.524239\tvalid_1's rmse: 1.03433\n"
     ]
    },
    {
     "name": "stderr",
     "output_type": "stream",
     "text": [
      "num_leaves, val_score: 1.025314:  75%|#######5  | 15/20 [16:14<04:04, 48.90s/it]"
     ]
    },
    {
     "name": "stdout",
     "output_type": "stream",
     "text": [
      "Early stopping, best iteration is:\n",
      "[3627]\tvalid_0's rmse: 0.529884\tvalid_1's rmse: 1.03411\n"
     ]
    },
    {
     "name": "stderr",
     "output_type": "stream",
     "text": [
      "\u001b[32m[I 2021-03-08 05:10:55,063]\u001b[0m Trial 21 finished with value: 1.0341086627303706 and parameters: {'num_leaves': 14}. Best is trial 16 with value: 1.0253135612090318.\u001b[0m\n",
      "num_leaves, val_score: 1.025314:  75%|#######5  | 15/20 [16:14<04:04, 48.90s/it]"
     ]
    },
    {
     "name": "stdout",
     "output_type": "stream",
     "text": [
      "Training until validation scores don't improve for 100 rounds\n",
      "[100]\tvalid_0's rmse: 1.06964\tvalid_1's rmse: 1.21507\n",
      "[200]\tvalid_0's rmse: 0.818013\tvalid_1's rmse: 1.09023\n",
      "[300]\tvalid_0's rmse: 0.687824\tvalid_1's rmse: 1.05763\n",
      "[400]\tvalid_0's rmse: 0.59537\tvalid_1's rmse: 1.04464\n",
      "[500]\tvalid_0's rmse: 0.521847\tvalid_1's rmse: 1.03784\n",
      "[600]\tvalid_0's rmse: 0.461503\tvalid_1's rmse: 1.03336\n",
      "[700]\tvalid_0's rmse: 0.411192\tvalid_1's rmse: 1.03138\n",
      "[800]\tvalid_0's rmse: 0.368796\tvalid_1's rmse: 1.02961\n",
      "[900]\tvalid_0's rmse: 0.332803\tvalid_1's rmse: 1.02858\n",
      "[1000]\tvalid_0's rmse: 0.302086\tvalid_1's rmse: 1.02801\n",
      "[1100]\tvalid_0's rmse: 0.275961\tvalid_1's rmse: 1.0273\n",
      "[1200]\tvalid_0's rmse: 0.25367\tvalid_1's rmse: 1.02715\n",
      "[1300]\tvalid_0's rmse: 0.234683\tvalid_1's rmse: 1.02715\n",
      "Early stopping, best iteration is:\n",
      "[1204]\tvalid_0's rmse: 0.252863\tvalid_1's rmse: 1.02707\n"
     ]
    },
    {
     "name": "stderr",
     "output_type": "stream",
     "text": [
      "num_leaves, val_score: 1.025314:  80%|########  | 16/20 [17:19<03:34, 53.66s/it]\u001b[32m[I 2021-03-08 05:11:59,836]\u001b[0m Trial 22 finished with value: 1.027065483058869 and parameters: {'num_leaves': 96}. Best is trial 16 with value: 1.0253135612090318.\u001b[0m\n",
      "num_leaves, val_score: 1.025314:  80%|########  | 16/20 [17:19<03:34, 53.66s/it]"
     ]
    },
    {
     "name": "stdout",
     "output_type": "stream",
     "text": [
      "Training until validation scores don't improve for 100 rounds\n",
      "[100]\tvalid_0's rmse: 1.16954\tvalid_1's rmse: 1.23494\n",
      "[200]\tvalid_0's rmse: 0.995857\tvalid_1's rmse: 1.11622\n",
      "[300]\tvalid_0's rmse: 0.915745\tvalid_1's rmse: 1.08355\n",
      "[400]\tvalid_0's rmse: 0.858195\tvalid_1's rmse: 1.06841\n",
      "[500]\tvalid_0's rmse: 0.808624\tvalid_1's rmse: 1.05882\n",
      "[600]\tvalid_0's rmse: 0.765046\tvalid_1's rmse: 1.05273\n",
      "[700]\tvalid_0's rmse: 0.726237\tvalid_1's rmse: 1.04765\n",
      "[800]\tvalid_0's rmse: 0.691063\tvalid_1's rmse: 1.04344\n",
      "[900]\tvalid_0's rmse: 0.658563\tvalid_1's rmse: 1.04015\n",
      "[1000]\tvalid_0's rmse: 0.629071\tvalid_1's rmse: 1.03713\n",
      "[1100]\tvalid_0's rmse: 0.6015\tvalid_1's rmse: 1.03469\n",
      "[1200]\tvalid_0's rmse: 0.576237\tvalid_1's rmse: 1.03398\n",
      "[1300]\tvalid_0's rmse: 0.552977\tvalid_1's rmse: 1.03245\n",
      "[1400]\tvalid_0's rmse: 0.530995\tvalid_1's rmse: 1.03157\n",
      "[1500]\tvalid_0's rmse: 0.510517\tvalid_1's rmse: 1.03075\n",
      "[1600]\tvalid_0's rmse: 0.491498\tvalid_1's rmse: 1.02979\n",
      "[1700]\tvalid_0's rmse: 0.473196\tvalid_1's rmse: 1.02945\n",
      "[1800]\tvalid_0's rmse: 0.456106\tvalid_1's rmse: 1.02928\n",
      "[1900]\tvalid_0's rmse: 0.43994\tvalid_1's rmse: 1.02924\n",
      "[2000]\tvalid_0's rmse: 0.424995\tvalid_1's rmse: 1.02902\n",
      "[2100]\tvalid_0's rmse: 0.410877\tvalid_1's rmse: 1.02882\n",
      "[2200]\tvalid_0's rmse: 0.39729\tvalid_1's rmse: 1.02862\n",
      "[2300]\tvalid_0's rmse: 0.384487\tvalid_1's rmse: 1.02834\n",
      "[2400]\tvalid_0's rmse: 0.372269\tvalid_1's rmse: 1.02782\n",
      "[2500]\tvalid_0's rmse: 0.360779\tvalid_1's rmse: 1.02775\n",
      "[2600]\tvalid_0's rmse: 0.34987\tvalid_1's rmse: 1.02772\n",
      "[2700]\tvalid_0's rmse: 0.339393\tvalid_1's rmse: 1.02751\n",
      "[2800]\tvalid_0's rmse: 0.329571\tvalid_1's rmse: 1.02734\n",
      "[2900]\tvalid_0's rmse: 0.320177\tvalid_1's rmse: 1.02724\n",
      "[3000]\tvalid_0's rmse: 0.311255\tvalid_1's rmse: 1.02684\n",
      "[3100]\tvalid_0's rmse: 0.302637\tvalid_1's rmse: 1.02668\n",
      "[3200]\tvalid_0's rmse: 0.294505\tvalid_1's rmse: 1.02651\n",
      "[3300]\tvalid_0's rmse: 0.286656\tvalid_1's rmse: 1.02651\n",
      "Early stopping, best iteration is:\n",
      "[3250]\tvalid_0's rmse: 0.290499\tvalid_1's rmse: 1.02639\n"
     ]
    },
    {
     "name": "stderr",
     "output_type": "stream",
     "text": [
      "num_leaves, val_score: 1.025314:  85%|########5 | 17/20 [18:22<02:49, 56.53s/it]\u001b[32m[I 2021-03-08 05:13:03,052]\u001b[0m Trial 23 finished with value: 1.0263922726133843 and parameters: {'num_leaves': 32}. Best is trial 16 with value: 1.0253135612090318.\u001b[0m\n",
      "num_leaves, val_score: 1.025314:  85%|########5 | 17/20 [18:22<02:49, 56.53s/it]"
     ]
    },
    {
     "name": "stdout",
     "output_type": "stream",
     "text": [
      "Training until validation scores don't improve for 100 rounds\n",
      "[100]\tvalid_0's rmse: 1.04998\tvalid_1's rmse: 1.21485\n",
      "[200]\tvalid_0's rmse: 0.782852\tvalid_1's rmse: 1.08917\n",
      "[300]\tvalid_0's rmse: 0.643799\tvalid_1's rmse: 1.05658\n",
      "[400]\tvalid_0's rmse: 0.546954\tvalid_1's rmse: 1.04444\n",
      "[500]\tvalid_0's rmse: 0.471353\tvalid_1's rmse: 1.03862\n",
      "[600]\tvalid_0's rmse: 0.410763\tvalid_1's rmse: 1.03564\n",
      "[700]\tvalid_0's rmse: 0.361472\tvalid_1's rmse: 1.03383\n",
      "[800]\tvalid_0's rmse: 0.320562\tvalid_1's rmse: 1.03286\n",
      "[900]\tvalid_0's rmse: 0.286844\tvalid_1's rmse: 1.03245\n",
      "[1000]\tvalid_0's rmse: 0.258878\tvalid_1's rmse: 1.03195\n",
      "[1100]\tvalid_0's rmse: 0.235438\tvalid_1's rmse: 1.03199\n",
      "[1200]\tvalid_0's rmse: 0.215957\tvalid_1's rmse: 1.03179\n",
      "Early stopping, best iteration is:\n",
      "[1176]\tvalid_0's rmse: 0.220315\tvalid_1's rmse: 1.03163\n"
     ]
    },
    {
     "name": "stderr",
     "output_type": "stream",
     "text": [
      "num_leaves, val_score: 1.025314:  90%|######### | 18/20 [19:34<02:02, 61.20s/it]\u001b[32m[I 2021-03-08 05:14:15,142]\u001b[0m Trial 24 finished with value: 1.0316336231296055 and parameters: {'num_leaves': 115}. Best is trial 16 with value: 1.0253135612090318.\u001b[0m\n",
      "num_leaves, val_score: 1.025314:  90%|######### | 18/20 [19:34<02:02, 61.20s/it]"
     ]
    },
    {
     "name": "stdout",
     "output_type": "stream",
     "text": [
      "Training until validation scores don't improve for 100 rounds\n",
      "[100]\tvalid_0's rmse: 1.07821\tvalid_1's rmse: 1.21624\n",
      "[200]\tvalid_0's rmse: 0.833856\tvalid_1's rmse: 1.09141\n",
      "[300]\tvalid_0's rmse: 0.707883\tvalid_1's rmse: 1.05682\n",
      "[400]\tvalid_0's rmse: 0.61813\tvalid_1's rmse: 1.04473\n",
      "[500]\tvalid_0's rmse: 0.546251\tvalid_1's rmse: 1.03758\n",
      "[600]\tvalid_0's rmse: 0.486527\tvalid_1's rmse: 1.03381\n",
      "[700]\tvalid_0's rmse: 0.436008\tvalid_1's rmse: 1.03098\n",
      "[800]\tvalid_0's rmse: 0.392798\tvalid_1's rmse: 1.02931\n",
      "[900]\tvalid_0's rmse: 0.355943\tvalid_1's rmse: 1.02804\n",
      "[1000]\tvalid_0's rmse: 0.32446\tvalid_1's rmse: 1.02742\n",
      "[1100]\tvalid_0's rmse: 0.297488\tvalid_1's rmse: 1.02682\n",
      "[1200]\tvalid_0's rmse: 0.27424\tvalid_1's rmse: 1.02663\n",
      "[1300]\tvalid_0's rmse: 0.254087\tvalid_1's rmse: 1.02624\n",
      "[1400]\tvalid_0's rmse: 0.236535\tvalid_1's rmse: 1.02625\n",
      "[1500]\tvalid_0's rmse: 0.221242\tvalid_1's rmse: 1.02616\n",
      "Early stopping, best iteration is:\n",
      "[1440]\tvalid_0's rmse: 0.23018\tvalid_1's rmse: 1.02604\n"
     ]
    },
    {
     "name": "stderr",
     "output_type": "stream",
     "text": [
      "num_leaves, val_score: 1.025314:  95%|#########5| 19/20 [20:42<01:03, 63.31s/it]\u001b[32m[I 2021-03-08 05:15:23,388]\u001b[0m Trial 25 finished with value: 1.0260414256766621 and parameters: {'num_leaves': 88}. Best is trial 16 with value: 1.0253135612090318.\u001b[0m\n",
      "num_leaves, val_score: 1.025314:  95%|#########5| 19/20 [20:42<01:03, 63.31s/it]"
     ]
    },
    {
     "name": "stdout",
     "output_type": "stream",
     "text": [
      "Training until validation scores don't improve for 100 rounds\n",
      "[100]\tvalid_0's rmse: 1.15276\tvalid_1's rmse: 1.22956\n",
      "[200]\tvalid_0's rmse: 0.9654\tvalid_1's rmse: 1.10887\n",
      "[300]\tvalid_0's rmse: 0.876501\tvalid_1's rmse: 1.07653\n",
      "[400]\tvalid_0's rmse: 0.811451\tvalid_1's rmse: 1.06249\n",
      "[500]\tvalid_0's rmse: 0.756795\tvalid_1's rmse: 1.05311\n",
      "[600]\tvalid_0's rmse: 0.708767\tvalid_1's rmse: 1.04698\n",
      "[700]\tvalid_0's rmse: 0.666211\tvalid_1's rmse: 1.04281\n",
      "[800]\tvalid_0's rmse: 0.628025\tvalid_1's rmse: 1.04007\n",
      "[900]\tvalid_0's rmse: 0.59375\tvalid_1's rmse: 1.03752\n",
      "[1000]\tvalid_0's rmse: 0.562281\tvalid_1's rmse: 1.03508\n",
      "[1100]\tvalid_0's rmse: 0.533298\tvalid_1's rmse: 1.0333\n",
      "[1200]\tvalid_0's rmse: 0.507049\tvalid_1's rmse: 1.03184\n",
      "[1300]\tvalid_0's rmse: 0.482666\tvalid_1's rmse: 1.03119\n",
      "[1400]\tvalid_0's rmse: 0.460032\tvalid_1's rmse: 1.03053\n",
      "[1500]\tvalid_0's rmse: 0.439033\tvalid_1's rmse: 1.03003\n",
      "[1600]\tvalid_0's rmse: 0.419764\tvalid_1's rmse: 1.02955\n",
      "[1700]\tvalid_0's rmse: 0.401987\tvalid_1's rmse: 1.02913\n",
      "[1800]\tvalid_0's rmse: 0.385111\tvalid_1's rmse: 1.02881\n",
      "[1900]\tvalid_0's rmse: 0.36942\tvalid_1's rmse: 1.02885\n",
      "[2000]\tvalid_0's rmse: 0.354833\tvalid_1's rmse: 1.02896\n",
      "Early stopping, best iteration is:\n",
      "[1917]\tvalid_0's rmse: 0.366822\tvalid_1's rmse: 1.02871\n"
     ]
    },
    {
     "name": "stderr",
     "output_type": "stream",
     "text": [
      "num_leaves, val_score: 1.025314: 100%|##########| 20/20 [21:29<00:00, 58.34s/it]\u001b[32m[I 2021-03-08 05:16:10,141]\u001b[0m Trial 26 finished with value: 1.0287062450295679 and parameters: {'num_leaves': 40}. Best is trial 16 with value: 1.0253135612090318.\u001b[0m\n",
      "num_leaves, val_score: 1.025314: 100%|##########| 20/20 [21:29<00:00, 64.48s/it]\n",
      "bagging, val_score: 1.025314:   0%|          | 0/10 [00:00<?, ?it/s]"
     ]
    },
    {
     "name": "stdout",
     "output_type": "stream",
     "text": [
      "Training until validation scores don't improve for 100 rounds\n",
      "[100]\tvalid_0's rmse: 1.0832\tvalid_1's rmse: 1.21859\n",
      "[200]\tvalid_0's rmse: 0.843664\tvalid_1's rmse: 1.09297\n",
      "[300]\tvalid_0's rmse: 0.721041\tvalid_1's rmse: 1.05959\n",
      "[400]\tvalid_0's rmse: 0.633405\tvalid_1's rmse: 1.04689\n",
      "[500]\tvalid_0's rmse: 0.562141\tvalid_1's rmse: 1.03924\n",
      "[600]\tvalid_0's rmse: 0.502621\tvalid_1's rmse: 1.03525\n",
      "[700]\tvalid_0's rmse: 0.452265\tvalid_1's rmse: 1.03266\n",
      "[800]\tvalid_0's rmse: 0.40898\tvalid_1's rmse: 1.03103\n",
      "[900]\tvalid_0's rmse: 0.372154\tvalid_1's rmse: 1.02987\n",
      "[1000]\tvalid_0's rmse: 0.34041\tvalid_1's rmse: 1.02957\n",
      "[1100]\tvalid_0's rmse: 0.312646\tvalid_1's rmse: 1.02947\n",
      "[1200]\tvalid_0's rmse: 0.288497\tvalid_1's rmse: 1.02898\n",
      "[1300]\tvalid_0's rmse: 0.267572\tvalid_1's rmse: 1.0283\n",
      "[1400]\tvalid_0's rmse: 0.249462\tvalid_1's rmse: 1.02844\n",
      "Early stopping, best iteration is:\n",
      "[1305]\tvalid_0's rmse: 0.266556\tvalid_1's rmse: 1.02827\n"
     ]
    },
    {
     "name": "stderr",
     "output_type": "stream",
     "text": [
      "bagging, val_score: 1.025314:  10%|#         | 1/10 [01:00<09:07, 60.83s/it]\u001b[32m[I 2021-03-08 05:17:11,008]\u001b[0m Trial 27 finished with value: 1.0282729959750325 and parameters: {'bagging_fraction': 0.7875989863462531, 'bagging_freq': 5}. Best is trial 27 with value: 1.0282729959750325.\u001b[0m\n",
      "bagging, val_score: 1.025314:  10%|#         | 1/10 [01:00<09:07, 60.83s/it]"
     ]
    },
    {
     "name": "stdout",
     "output_type": "stream",
     "text": [
      "Training until validation scores don't improve for 100 rounds\n",
      "[100]\tvalid_0's rmse: 1.07985\tvalid_1's rmse: 1.2192\n",
      "[200]\tvalid_0's rmse: 0.839107\tvalid_1's rmse: 1.09642\n",
      "[300]\tvalid_0's rmse: 0.715708\tvalid_1's rmse: 1.06401\n",
      "[400]\tvalid_0's rmse: 0.62699\tvalid_1's rmse: 1.05073\n",
      "[500]\tvalid_0's rmse: 0.554785\tvalid_1's rmse: 1.04394\n",
      "[600]\tvalid_0's rmse: 0.4948\tvalid_1's rmse: 1.03975\n",
      "[700]\tvalid_0's rmse: 0.444315\tvalid_1's rmse: 1.03742\n",
      "[800]\tvalid_0's rmse: 0.401469\tvalid_1's rmse: 1.03545\n",
      "[900]\tvalid_0's rmse: 0.364999\tvalid_1's rmse: 1.03446\n",
      "[1000]\tvalid_0's rmse: 0.333301\tvalid_1's rmse: 1.03318\n",
      "[1100]\tvalid_0's rmse: 0.306589\tvalid_1's rmse: 1.0327\n",
      "[1200]\tvalid_0's rmse: 0.283094\tvalid_1's rmse: 1.03219\n",
      "[1300]\tvalid_0's rmse: 0.262695\tvalid_1's rmse: 1.0318\n",
      "[1400]\tvalid_0's rmse: 0.244751\tvalid_1's rmse: 1.03165\n",
      "Early stopping, best iteration is:\n",
      "[1379]\tvalid_0's rmse: 0.248324\tvalid_1's rmse: 1.03157\n"
     ]
    },
    {
     "name": "stderr",
     "output_type": "stream",
     "text": [
      "bagging, val_score: 1.025314:  20%|##        | 2/10 [02:07<08:20, 62.57s/it]\u001b[32m[I 2021-03-08 05:18:17,648]\u001b[0m Trial 28 finished with value: 1.0315717318155666 and parameters: {'bagging_fraction': 0.935190881737158, 'bagging_freq': 7}. Best is trial 27 with value: 1.0282729959750325.\u001b[0m\n",
      "bagging, val_score: 1.025314:  20%|##        | 2/10 [02:07<08:20, 62.57s/it]"
     ]
    },
    {
     "name": "stdout",
     "output_type": "stream",
     "text": [
      "Training until validation scores don't improve for 100 rounds\n",
      "[100]\tvalid_0's rmse: 1.08993\tvalid_1's rmse: 1.21915\n",
      "[200]\tvalid_0's rmse: 0.850952\tvalid_1's rmse: 1.09366\n",
      "[300]\tvalid_0's rmse: 0.729591\tvalid_1's rmse: 1.06169\n",
      "[400]\tvalid_0's rmse: 0.642095\tvalid_1's rmse: 1.04912\n",
      "[500]\tvalid_0's rmse: 0.571778\tvalid_1's rmse: 1.04447\n",
      "[600]\tvalid_0's rmse: 0.512561\tvalid_1's rmse: 1.04006\n",
      "[700]\tvalid_0's rmse: 0.462333\tvalid_1's rmse: 1.03732\n",
      "[800]\tvalid_0's rmse: 0.418995\tvalid_1's rmse: 1.03577\n",
      "[900]\tvalid_0's rmse: 0.381472\tvalid_1's rmse: 1.03445\n",
      "[1000]\tvalid_0's rmse: 0.34915\tvalid_1's rmse: 1.0337\n",
      "[1100]\tvalid_0's rmse: 0.320945\tvalid_1's rmse: 1.03299\n",
      "Early stopping, best iteration is:\n",
      "[1080]\tvalid_0's rmse: 0.326329\tvalid_1's rmse: 1.03291\n"
     ]
    },
    {
     "name": "stderr",
     "output_type": "stream",
     "text": [
      "bagging, val_score: 1.025314:  30%|###       | 3/10 [02:56<06:49, 58.55s/it]\u001b[32m[I 2021-03-08 05:19:06,814]\u001b[0m Trial 29 finished with value: 1.0329107461886191 and parameters: {'bagging_fraction': 0.6385312940812251, 'bagging_freq': 3}. Best is trial 27 with value: 1.0282729959750325.\u001b[0m\n",
      "bagging, val_score: 1.025314:  30%|###       | 3/10 [02:56<06:49, 58.55s/it]"
     ]
    },
    {
     "name": "stdout",
     "output_type": "stream",
     "text": [
      "Training until validation scores don't improve for 100 rounds\n",
      "[100]\tvalid_0's rmse: 1.10682\tvalid_1's rmse: 1.22248\n",
      "[200]\tvalid_0's rmse: 0.877208\tvalid_1's rmse: 1.09807\n",
      "[300]\tvalid_0's rmse: 0.757238\tvalid_1's rmse: 1.0663\n",
      "[400]\tvalid_0's rmse: 0.672261\tvalid_1's rmse: 1.05431\n",
      "[500]\tvalid_0's rmse: 0.602857\tvalid_1's rmse: 1.04707\n",
      "[600]\tvalid_0's rmse: 0.544031\tvalid_1's rmse: 1.04288\n",
      "[700]\tvalid_0's rmse: 0.493518\tvalid_1's rmse: 1.03921\n",
      "[800]\tvalid_0's rmse: 0.450024\tvalid_1's rmse: 1.03748\n",
      "[900]\tvalid_0's rmse: 0.412005\tvalid_1's rmse: 1.03652\n",
      "[1000]\tvalid_0's rmse: 0.378856\tvalid_1's rmse: 1.03563\n",
      "[1100]\tvalid_0's rmse: 0.349787\tvalid_1's rmse: 1.03522\n",
      "Early stopping, best iteration is:\n",
      "[1094]\tvalid_0's rmse: 0.351389\tvalid_1's rmse: 1.03515\n"
     ]
    },
    {
     "name": "stderr",
     "output_type": "stream",
     "text": [
      "bagging, val_score: 1.025314:  40%|####      | 4/10 [03:42<05:28, 54.77s/it]\u001b[32m[I 2021-03-08 05:19:52,744]\u001b[0m Trial 30 finished with value: 1.0351467736194762 and parameters: {'bagging_fraction': 0.40413670188226014, 'bagging_freq': 2}. Best is trial 27 with value: 1.0282729959750325.\u001b[0m\n",
      "bagging, val_score: 1.025314:  40%|####      | 4/10 [03:42<05:28, 54.77s/it]"
     ]
    },
    {
     "name": "stdout",
     "output_type": "stream",
     "text": [
      "Training until validation scores don't improve for 100 rounds\n",
      "[100]\tvalid_0's rmse: 1.0898\tvalid_1's rmse: 1.2196\n",
      "[200]\tvalid_0's rmse: 0.851937\tvalid_1's rmse: 1.09357\n",
      "[300]\tvalid_0's rmse: 0.731473\tvalid_1's rmse: 1.06129\n",
      "[400]\tvalid_0's rmse: 0.644345\tvalid_1's rmse: 1.0495\n",
      "[500]\tvalid_0's rmse: 0.573202\tvalid_1's rmse: 1.04282\n",
      "[600]\tvalid_0's rmse: 0.51386\tvalid_1's rmse: 1.03787\n",
      "[700]\tvalid_0's rmse: 0.463407\tvalid_1's rmse: 1.03534\n",
      "[800]\tvalid_0's rmse: 0.420644\tvalid_1's rmse: 1.03377\n",
      "[900]\tvalid_0's rmse: 0.383164\tvalid_1's rmse: 1.03242\n",
      "[1000]\tvalid_0's rmse: 0.350589\tvalid_1's rmse: 1.03157\n",
      "[1100]\tvalid_0's rmse: 0.322271\tvalid_1's rmse: 1.0309\n",
      "[1200]\tvalid_0's rmse: 0.297691\tvalid_1's rmse: 1.03066\n",
      "[1300]\tvalid_0's rmse: 0.276353\tvalid_1's rmse: 1.03045\n",
      "[1400]\tvalid_0's rmse: 0.257733\tvalid_1's rmse: 1.0306\n",
      "Early stopping, best iteration is:\n",
      "[1358]\tvalid_0's rmse: 0.265225\tvalid_1's rmse: 1.03023\n"
     ]
    },
    {
     "name": "stderr",
     "output_type": "stream",
     "text": [
      "bagging, val_score: 1.025314:  50%|#####     | 5/10 [04:43<04:43, 56.66s/it]\u001b[32m[I 2021-03-08 05:20:53,840]\u001b[0m Trial 31 finished with value: 1.030233598491868 and parameters: {'bagging_fraction': 0.6267263013553506, 'bagging_freq': 4}. Best is trial 27 with value: 1.0282729959750325.\u001b[0m\n",
      "bagging, val_score: 1.025314:  50%|#####     | 5/10 [04:43<04:43, 56.66s/it]"
     ]
    },
    {
     "name": "stdout",
     "output_type": "stream",
     "text": [
      "Training until validation scores don't improve for 100 rounds\n",
      "[100]\tvalid_0's rmse: 1.08208\tvalid_1's rmse: 1.21641\n",
      "[200]\tvalid_0's rmse: 0.843404\tvalid_1's rmse: 1.09277\n",
      "[300]\tvalid_0's rmse: 0.720049\tvalid_1's rmse: 1.0602\n",
      "[400]\tvalid_0's rmse: 0.631795\tvalid_1's rmse: 1.04885\n",
      "[500]\tvalid_0's rmse: 0.560232\tvalid_1's rmse: 1.04184\n",
      "[600]\tvalid_0's rmse: 0.500372\tvalid_1's rmse: 1.03875\n",
      "[700]\tvalid_0's rmse: 0.449576\tvalid_1's rmse: 1.0363\n",
      "[800]\tvalid_0's rmse: 0.406569\tvalid_1's rmse: 1.03455\n",
      "[900]\tvalid_0's rmse: 0.369579\tvalid_1's rmse: 1.03365\n",
      "[1000]\tvalid_0's rmse: 0.338095\tvalid_1's rmse: 1.03301\n",
      "[1100]\tvalid_0's rmse: 0.310629\tvalid_1's rmse: 1.03234\n",
      "[1200]\tvalid_0's rmse: 0.286725\tvalid_1's rmse: 1.03196\n",
      "[1300]\tvalid_0's rmse: 0.265962\tvalid_1's rmse: 1.03169\n",
      "[1400]\tvalid_0's rmse: 0.2479\tvalid_1's rmse: 1.03156\n",
      "[1500]\tvalid_0's rmse: 0.231979\tvalid_1's rmse: 1.03133\n",
      "[1600]\tvalid_0's rmse: 0.217746\tvalid_1's rmse: 1.03133\n",
      "Early stopping, best iteration is:\n",
      "[1521]\tvalid_0's rmse: 0.228916\tvalid_1's rmse: 1.03123\n"
     ]
    },
    {
     "name": "stderr",
     "output_type": "stream",
     "text": [
      "bagging, val_score: 1.025314:  60%|######    | 6/10 [05:53<04:02, 60.72s/it]\u001b[32m[I 2021-03-08 05:22:04,027]\u001b[0m Trial 32 finished with value: 1.0312325816671295 and parameters: {'bagging_fraction': 0.8307627413170202, 'bagging_freq': 5}. Best is trial 27 with value: 1.0282729959750325.\u001b[0m\n",
      "bagging, val_score: 1.025314:  60%|######    | 6/10 [05:53<04:02, 60.72s/it]"
     ]
    },
    {
     "name": "stdout",
     "output_type": "stream",
     "text": [
      "Training until validation scores don't improve for 100 rounds\n",
      "[100]\tvalid_0's rmse: 1.08237\tvalid_1's rmse: 1.22155\n",
      "[200]\tvalid_0's rmse: 0.843248\tvalid_1's rmse: 1.09545\n",
      "[300]\tvalid_0's rmse: 0.719553\tvalid_1's rmse: 1.06186\n",
      "[400]\tvalid_0's rmse: 0.63142\tvalid_1's rmse: 1.04985\n",
      "[500]\tvalid_0's rmse: 0.560422\tvalid_1's rmse: 1.04278\n",
      "[600]\tvalid_0's rmse: 0.50063\tvalid_1's rmse: 1.03909\n",
      "[700]\tvalid_0's rmse: 0.450089\tvalid_1's rmse: 1.03597\n",
      "[800]\tvalid_0's rmse: 0.406966\tvalid_1's rmse: 1.03446\n",
      "[900]\tvalid_0's rmse: 0.369931\tvalid_1's rmse: 1.0331\n",
      "[1000]\tvalid_0's rmse: 0.3382\tvalid_1's rmse: 1.03257\n",
      "[1100]\tvalid_0's rmse: 0.310386\tvalid_1's rmse: 1.032\n",
      "[1200]\tvalid_0's rmse: 0.286773\tvalid_1's rmse: 1.03138\n",
      "[1300]\tvalid_0's rmse: 0.266009\tvalid_1's rmse: 1.03135\n",
      "[1400]\tvalid_0's rmse: 0.247893\tvalid_1's rmse: 1.0312\n",
      "[1500]\tvalid_0's rmse: 0.231614\tvalid_1's rmse: 1.03139\n",
      "Early stopping, best iteration is:\n",
      "[1418]\tvalid_0's rmse: 0.244891\tvalid_1's rmse: 1.0311\n"
     ]
    },
    {
     "name": "stderr",
     "output_type": "stream",
     "text": [
      "bagging, val_score: 1.025314:  70%|#######   | 7/10 [07:01<03:08, 62.69s/it]\u001b[32m[I 2021-03-08 05:23:11,311]\u001b[0m Trial 33 finished with value: 1.0311037312405436 and parameters: {'bagging_fraction': 0.8265325710307954, 'bagging_freq': 7}. Best is trial 27 with value: 1.0282729959750325.\u001b[0m\n",
      "bagging, val_score: 1.025314:  70%|#######   | 7/10 [07:01<03:08, 62.69s/it]"
     ]
    },
    {
     "name": "stdout",
     "output_type": "stream",
     "text": [
      "Training until validation scores don't improve for 100 rounds\n",
      "[100]\tvalid_0's rmse: 1.09391\tvalid_1's rmse: 1.22258\n",
      "[200]\tvalid_0's rmse: 0.857016\tvalid_1's rmse: 1.09608\n",
      "[300]\tvalid_0's rmse: 0.735724\tvalid_1's rmse: 1.06266\n",
      "[400]\tvalid_0's rmse: 0.649089\tvalid_1's rmse: 1.04977\n",
      "[500]\tvalid_0's rmse: 0.579263\tvalid_1's rmse: 1.04345\n",
      "[600]\tvalid_0's rmse: 0.519894\tvalid_1's rmse: 1.03904\n",
      "[700]\tvalid_0's rmse: 0.469365\tvalid_1's rmse: 1.03603\n",
      "[800]\tvalid_0's rmse: 0.425949\tvalid_1's rmse: 1.03478\n",
      "[900]\tvalid_0's rmse: 0.388613\tvalid_1's rmse: 1.03251\n",
      "[1000]\tvalid_0's rmse: 0.356178\tvalid_1's rmse: 1.03172\n",
      "[1100]\tvalid_0's rmse: 0.327779\tvalid_1's rmse: 1.03163\n",
      "Early stopping, best iteration is:\n",
      "[1051]\tvalid_0's rmse: 0.341161\tvalid_1's rmse: 1.03133\n"
     ]
    },
    {
     "name": "stderr",
     "output_type": "stream",
     "text": [
      "bagging, val_score: 1.025314:  80%|########  | 8/10 [07:48<01:55, 57.98s/it]\u001b[32m[I 2021-03-08 05:23:58,287]\u001b[0m Trial 34 finished with value: 1.0313261480333644 and parameters: {'bagging_fraction': 0.5569559540087636, 'bagging_freq': 3}. Best is trial 27 with value: 1.0282729959750325.\u001b[0m\n",
      "bagging, val_score: 1.025314:  80%|########  | 8/10 [07:48<01:55, 57.98s/it]"
     ]
    },
    {
     "name": "stdout",
     "output_type": "stream",
     "text": [
      "Training until validation scores don't improve for 100 rounds\n",
      "[100]\tvalid_0's rmse: 1.0785\tvalid_1's rmse: 1.21958\n",
      "[200]\tvalid_0's rmse: 0.838639\tvalid_1's rmse: 1.09595\n",
      "[300]\tvalid_0's rmse: 0.715242\tvalid_1's rmse: 1.06281\n",
      "[400]\tvalid_0's rmse: 0.626012\tvalid_1's rmse: 1.05053\n",
      "[500]\tvalid_0's rmse: 0.553502\tvalid_1's rmse: 1.04318\n",
      "[600]\tvalid_0's rmse: 0.493723\tvalid_1's rmse: 1.03912\n",
      "[700]\tvalid_0's rmse: 0.443079\tvalid_1's rmse: 1.03697\n",
      "[800]\tvalid_0's rmse: 0.400262\tvalid_1's rmse: 1.03588\n",
      "[900]\tvalid_0's rmse: 0.363741\tvalid_1's rmse: 1.03423\n",
      "[1000]\tvalid_0's rmse: 0.332478\tvalid_1's rmse: 1.03361\n",
      "[1100]\tvalid_0's rmse: 0.306096\tvalid_1's rmse: 1.03326\n",
      "[1200]\tvalid_0's rmse: 0.282932\tvalid_1's rmse: 1.03286\n",
      "[1300]\tvalid_0's rmse: 0.262677\tvalid_1's rmse: 1.03266\n",
      "[1400]\tvalid_0's rmse: 0.244926\tvalid_1's rmse: 1.03242\n",
      "[1500]\tvalid_0's rmse: 0.229149\tvalid_1's rmse: 1.03228\n",
      "[1600]\tvalid_0's rmse: 0.215317\tvalid_1's rmse: 1.03209\n",
      "[1700]\tvalid_0's rmse: 0.20293\tvalid_1's rmse: 1.0319\n",
      "[1800]\tvalid_0's rmse: 0.191938\tvalid_1's rmse: 1.03174\n",
      "[1900]\tvalid_0's rmse: 0.181942\tvalid_1's rmse: 1.03171\n",
      "[2000]\tvalid_0's rmse: 0.172864\tvalid_1's rmse: 1.03173\n",
      "Early stopping, best iteration is:\n",
      "[1910]\tvalid_0's rmse: 0.181071\tvalid_1's rmse: 1.03167\n"
     ]
    },
    {
     "name": "stderr",
     "output_type": "stream",
     "text": [
      "bagging, val_score: 1.025314:  90%|######### | 9/10 [09:16<01:07, 67.17s/it]\u001b[32m[I 2021-03-08 05:25:26,926]\u001b[0m Trial 35 finished with value: 1.0316692567564227 and parameters: {'bagging_fraction': 0.9570051428790228, 'bagging_freq': 2}. Best is trial 27 with value: 1.0282729959750325.\u001b[0m\n",
      "bagging, val_score: 1.025314:  90%|######### | 9/10 [09:16<01:07, 67.17s/it]"
     ]
    },
    {
     "name": "stdout",
     "output_type": "stream",
     "text": [
      "Training until validation scores don't improve for 100 rounds\n",
      "[100]\tvalid_0's rmse: 1.10822\tvalid_1's rmse: 1.22607\n",
      "[200]\tvalid_0's rmse: 0.875936\tvalid_1's rmse: 1.09701\n",
      "[300]\tvalid_0's rmse: 0.756459\tvalid_1's rmse: 1.06448\n",
      "[400]\tvalid_0's rmse: 0.671801\tvalid_1's rmse: 1.05088\n",
      "[500]\tvalid_0's rmse: 0.602125\tvalid_1's rmse: 1.04498\n",
      "[600]\tvalid_0's rmse: 0.54272\tvalid_1's rmse: 1.04053\n",
      "[700]\tvalid_0's rmse: 0.491951\tvalid_1's rmse: 1.03765\n",
      "[800]\tvalid_0's rmse: 0.448348\tvalid_1's rmse: 1.03596\n",
      "[900]\tvalid_0's rmse: 0.410251\tvalid_1's rmse: 1.03427\n",
      "Early stopping, best iteration is:\n",
      "[895]\tvalid_0's rmse: 0.412077\tvalid_1's rmse: 1.03408\n"
     ]
    },
    {
     "name": "stderr",
     "output_type": "stream",
     "text": [
      "bagging, val_score: 1.025314: 100%|##########| 10/10 [09:55<00:00, 58.64s/it]\u001b[32m[I 2021-03-08 05:26:05,660]\u001b[0m Trial 36 finished with value: 1.0340776303057801 and parameters: {'bagging_fraction': 0.4320997651828288, 'bagging_freq': 6}. Best is trial 27 with value: 1.0282729959750325.\u001b[0m\n",
      "bagging, val_score: 1.025314: 100%|##########| 10/10 [09:55<00:00, 59.55s/it]\n",
      "feature_fraction_stage2, val_score: 1.025314:   0%|          | 0/6 [00:00<?, ?it/s]"
     ]
    },
    {
     "name": "stdout",
     "output_type": "stream",
     "text": [
      "Training until validation scores don't improve for 100 rounds\n",
      "[100]\tvalid_0's rmse: 1.08549\tvalid_1's rmse: 1.21771\n",
      "[200]\tvalid_0's rmse: 0.84718\tvalid_1's rmse: 1.09204\n",
      "[300]\tvalid_0's rmse: 0.724534\tvalid_1's rmse: 1.05871\n",
      "[400]\tvalid_0's rmse: 0.636738\tvalid_1's rmse: 1.04514\n",
      "[500]\tvalid_0's rmse: 0.56565\tvalid_1's rmse: 1.03689\n",
      "[600]\tvalid_0's rmse: 0.506155\tvalid_1's rmse: 1.03191\n",
      "[700]\tvalid_0's rmse: 0.455836\tvalid_1's rmse: 1.02912\n",
      "[800]\tvalid_0's rmse: 0.412611\tvalid_1's rmse: 1.02688\n",
      "[900]\tvalid_0's rmse: 0.375562\tvalid_1's rmse: 1.02601\n",
      "[1000]\tvalid_0's rmse: 0.343437\tvalid_1's rmse: 1.02491\n",
      "[1100]\tvalid_0's rmse: 0.315533\tvalid_1's rmse: 1.02414\n",
      "[1200]\tvalid_0's rmse: 0.291101\tvalid_1's rmse: 1.02412\n",
      "Early stopping, best iteration is:\n",
      "[1164]\tvalid_0's rmse: 0.299602\tvalid_1's rmse: 1.02394\n"
     ]
    },
    {
     "name": "stderr",
     "output_type": "stream",
     "text": [
      "feature_fraction_stage2, val_score: 1.023937:  17%|#6        | 1/6 [00:56<04:40, 56.02s/it]\u001b[32m[I 2021-03-08 05:27:01,698]\u001b[0m Trial 37 finished with value: 1.0239373141160486 and parameters: {'feature_fraction': 0.716}. Best is trial 37 with value: 1.0239373141160486.\u001b[0m\n",
      "feature_fraction_stage2, val_score: 1.023937:  17%|#6        | 1/6 [00:56<04:40, 56.02s/it]"
     ]
    },
    {
     "name": "stdout",
     "output_type": "stream",
     "text": [
      "Training until validation scores don't improve for 100 rounds\n",
      "[100]\tvalid_0's rmse: 1.08483\tvalid_1's rmse: 1.21955\n",
      "[200]\tvalid_0's rmse: 0.845946\tvalid_1's rmse: 1.09313\n",
      "[300]\tvalid_0's rmse: 0.723316\tvalid_1's rmse: 1.06039\n",
      "[400]\tvalid_0's rmse: 0.635407\tvalid_1's rmse: 1.04649\n",
      "[500]\tvalid_0's rmse: 0.563827\tvalid_1's rmse: 1.03988\n",
      "[600]\tvalid_0's rmse: 0.504437\tvalid_1's rmse: 1.03608\n",
      "[700]\tvalid_0's rmse: 0.454161\tvalid_1's rmse: 1.03337\n",
      "[800]\tvalid_0's rmse: 0.410853\tvalid_1's rmse: 1.03202\n",
      "[900]\tvalid_0's rmse: 0.373777\tvalid_1's rmse: 1.0304\n",
      "[1000]\tvalid_0's rmse: 0.341863\tvalid_1's rmse: 1.02958\n",
      "[1100]\tvalid_0's rmse: 0.313829\tvalid_1's rmse: 1.02919\n",
      "[1200]\tvalid_0's rmse: 0.289598\tvalid_1's rmse: 1.02908\n",
      "Early stopping, best iteration is:\n",
      "[1139]\tvalid_0's rmse: 0.303975\tvalid_1's rmse: 1.02893\n"
     ]
    },
    {
     "name": "stderr",
     "output_type": "stream",
     "text": [
      "feature_fraction_stage2, val_score: 1.023937:  33%|###3      | 2/6 [01:53<03:45, 56.40s/it]\u001b[32m[I 2021-03-08 05:27:58,964]\u001b[0m Trial 38 finished with value: 1.0289286031170481 and parameters: {'feature_fraction': 0.748}. Best is trial 37 with value: 1.0239373141160486.\u001b[0m\n",
      "feature_fraction_stage2, val_score: 1.023937:  33%|###3      | 2/6 [01:53<03:45, 56.40s/it]"
     ]
    },
    {
     "name": "stdout",
     "output_type": "stream",
     "text": [
      "Training until validation scores don't improve for 100 rounds\n",
      "[100]\tvalid_0's rmse: 1.08443\tvalid_1's rmse: 1.21852\n",
      "[200]\tvalid_0's rmse: 0.845031\tvalid_1's rmse: 1.09257\n",
      "[300]\tvalid_0's rmse: 0.722327\tvalid_1's rmse: 1.05846\n",
      "[400]\tvalid_0's rmse: 0.634846\tvalid_1's rmse: 1.0458\n",
      "[500]\tvalid_0's rmse: 0.563181\tvalid_1's rmse: 1.03826\n",
      "[600]\tvalid_0's rmse: 0.503972\tvalid_1's rmse: 1.03436\n",
      "[700]\tvalid_0's rmse: 0.453737\tvalid_1's rmse: 1.03216\n",
      "[800]\tvalid_0's rmse: 0.410682\tvalid_1's rmse: 1.03002\n",
      "[900]\tvalid_0's rmse: 0.373554\tvalid_1's rmse: 1.02875\n",
      "[1000]\tvalid_0's rmse: 0.341463\tvalid_1's rmse: 1.02813\n",
      "[1100]\tvalid_0's rmse: 0.313609\tvalid_1's rmse: 1.02745\n",
      "[1200]\tvalid_0's rmse: 0.289534\tvalid_1's rmse: 1.0272\n",
      "[1300]\tvalid_0's rmse: 0.268592\tvalid_1's rmse: 1.02678\n",
      "[1400]\tvalid_0's rmse: 0.250254\tvalid_1's rmse: 1.02651\n",
      "[1500]\tvalid_0's rmse: 0.234179\tvalid_1's rmse: 1.02652\n",
      "Early stopping, best iteration is:\n",
      "[1458]\tvalid_0's rmse: 0.240727\tvalid_1's rmse: 1.02629\n"
     ]
    },
    {
     "name": "stderr",
     "output_type": "stream",
     "text": [
      "feature_fraction_stage2, val_score: 1.023937:  50%|#####     | 3/6 [03:06<03:04, 61.34s/it]\u001b[32m[I 2021-03-08 05:29:11,836]\u001b[0m Trial 39 finished with value: 1.0262908118595304 and parameters: {'feature_fraction': 0.7799999999999999}. Best is trial 37 with value: 1.0239373141160486.\u001b[0m\n",
      "feature_fraction_stage2, val_score: 1.023937:  50%|#####     | 3/6 [03:06<03:04, 61.34s/it]"
     ]
    },
    {
     "name": "stdout",
     "output_type": "stream",
     "text": [
      "Training until validation scores don't improve for 100 rounds\n",
      "[100]\tvalid_0's rmse: 1.08693\tvalid_1's rmse: 1.21859\n",
      "[200]\tvalid_0's rmse: 0.849056\tvalid_1's rmse: 1.09463\n",
      "[300]\tvalid_0's rmse: 0.726603\tvalid_1's rmse: 1.06138\n",
      "[400]\tvalid_0's rmse: 0.639233\tvalid_1's rmse: 1.04937\n",
      "[500]\tvalid_0's rmse: 0.568217\tvalid_1's rmse: 1.0422\n",
      "[600]\tvalid_0's rmse: 0.508902\tvalid_1's rmse: 1.03773\n",
      "[700]\tvalid_0's rmse: 0.458822\tvalid_1's rmse: 1.03503\n",
      "[800]\tvalid_0's rmse: 0.41581\tvalid_1's rmse: 1.03284\n",
      "[900]\tvalid_0's rmse: 0.378613\tvalid_1's rmse: 1.03139\n",
      "[1000]\tvalid_0's rmse: 0.346381\tvalid_1's rmse: 1.03046\n",
      "[1100]\tvalid_0's rmse: 0.318439\tvalid_1's rmse: 1.02997\n",
      "[1200]\tvalid_0's rmse: 0.294155\tvalid_1's rmse: 1.02935\n",
      "[1300]\tvalid_0's rmse: 0.273017\tvalid_1's rmse: 1.02908\n",
      "[1400]\tvalid_0's rmse: 0.254641\tvalid_1's rmse: 1.02883\n",
      "[1500]\tvalid_0's rmse: 0.238419\tvalid_1's rmse: 1.02897\n",
      "Early stopping, best iteration is:\n",
      "[1406]\tvalid_0's rmse: 0.253594\tvalid_1's rmse: 1.0288\n"
     ]
    },
    {
     "name": "stderr",
     "output_type": "stream",
     "text": [
      "feature_fraction_stage2, val_score: 1.023937:  67%|######6   | 4/6 [04:06<02:02, 61.08s/it]\u001b[32m[I 2021-03-08 05:30:12,328]\u001b[0m Trial 40 finished with value: 1.0288003033240796 and parameters: {'feature_fraction': 0.652}. Best is trial 37 with value: 1.0239373141160486.\u001b[0m\n",
      "feature_fraction_stage2, val_score: 1.023937:  67%|######6   | 4/6 [04:06<02:02, 61.08s/it]"
     ]
    },
    {
     "name": "stdout",
     "output_type": "stream",
     "text": [
      "Training until validation scores don't improve for 100 rounds\n",
      "[100]\tvalid_0's rmse: 1.08796\tvalid_1's rmse: 1.21795\n",
      "[200]\tvalid_0's rmse: 0.849991\tvalid_1's rmse: 1.09414\n",
      "[300]\tvalid_0's rmse: 0.728177\tvalid_1's rmse: 1.06182\n",
      "[400]\tvalid_0's rmse: 0.640907\tvalid_1's rmse: 1.04901\n",
      "[500]\tvalid_0's rmse: 0.570233\tvalid_1's rmse: 1.04108\n",
      "[600]\tvalid_0's rmse: 0.511067\tvalid_1's rmse: 1.03719\n",
      "[700]\tvalid_0's rmse: 0.460676\tvalid_1's rmse: 1.03439\n",
      "[800]\tvalid_0's rmse: 0.417282\tvalid_1's rmse: 1.03293\n",
      "[900]\tvalid_0's rmse: 0.380144\tvalid_1's rmse: 1.03101\n",
      "[1000]\tvalid_0's rmse: 0.347726\tvalid_1's rmse: 1.02999\n",
      "[1100]\tvalid_0's rmse: 0.319618\tvalid_1's rmse: 1.02931\n",
      "Early stopping, best iteration is:\n",
      "[1066]\tvalid_0's rmse: 0.328769\tvalid_1's rmse: 1.02908\n"
     ]
    },
    {
     "name": "stderr",
     "output_type": "stream",
     "text": [
      "feature_fraction_stage2, val_score: 1.023937:  83%|########3 | 5/6 [04:52<00:56, 56.46s/it]\u001b[32m[I 2021-03-08 05:30:57,986]\u001b[0m Trial 41 finished with value: 1.0290840070349034 and parameters: {'feature_fraction': 0.62}. Best is trial 37 with value: 1.0239373141160486.\u001b[0m\n",
      "feature_fraction_stage2, val_score: 1.023937:  83%|########3 | 5/6 [04:52<00:56, 56.46s/it]"
     ]
    },
    {
     "name": "stdout",
     "output_type": "stream",
     "text": [
      "Training until validation scores don't improve for 100 rounds\n",
      "[100]\tvalid_0's rmse: 1.08652\tvalid_1's rmse: 1.21605\n",
      "[200]\tvalid_0's rmse: 0.848356\tvalid_1's rmse: 1.09072\n",
      "[300]\tvalid_0's rmse: 0.725896\tvalid_1's rmse: 1.05652\n",
      "[400]\tvalid_0's rmse: 0.63865\tvalid_1's rmse: 1.04352\n",
      "[500]\tvalid_0's rmse: 0.567958\tvalid_1's rmse: 1.03579\n",
      "[600]\tvalid_0's rmse: 0.508505\tvalid_1's rmse: 1.03119\n",
      "[700]\tvalid_0's rmse: 0.45817\tvalid_1's rmse: 1.02872\n",
      "[800]\tvalid_0's rmse: 0.414892\tvalid_1's rmse: 1.02631\n",
      "[900]\tvalid_0's rmse: 0.377582\tvalid_1's rmse: 1.02495\n",
      "[1000]\tvalid_0's rmse: 0.34542\tvalid_1's rmse: 1.02445\n",
      "[1100]\tvalid_0's rmse: 0.317285\tvalid_1's rmse: 1.02325\n",
      "[1200]\tvalid_0's rmse: 0.292956\tvalid_1's rmse: 1.02312\n",
      "[1300]\tvalid_0's rmse: 0.271856\tvalid_1's rmse: 1.02292\n",
      "[1400]\tvalid_0's rmse: 0.253404\tvalid_1's rmse: 1.02274\n",
      "Early stopping, best iteration is:\n",
      "[1383]\tvalid_0's rmse: 0.256362\tvalid_1's rmse: 1.02266\n"
     ]
    },
    {
     "name": "stderr",
     "output_type": "stream",
     "text": [
      "feature_fraction_stage2, val_score: 1.022656: 100%|##########| 6/6 [05:54<00:00, 58.09s/it]\u001b[32m[I 2021-03-08 05:31:59,881]\u001b[0m Trial 42 finished with value: 1.022655576698169 and parameters: {'feature_fraction': 0.6839999999999999}. Best is trial 42 with value: 1.022655576698169.\u001b[0m\n",
      "feature_fraction_stage2, val_score: 1.022656: 100%|##########| 6/6 [05:54<00:00, 59.04s/it]\n",
      "regularization_factors, val_score: 1.022656:   0%|          | 0/20 [00:00<?, ?it/s]"
     ]
    },
    {
     "name": "stdout",
     "output_type": "stream",
     "text": [
      "Training until validation scores don't improve for 100 rounds\n",
      "[100]\tvalid_0's rmse: 1.08439\tvalid_1's rmse: 1.21649\n",
      "[200]\tvalid_0's rmse: 0.846216\tvalid_1's rmse: 1.09347\n",
      "[300]\tvalid_0's rmse: 0.723236\tvalid_1's rmse: 1.06029\n",
      "[400]\tvalid_0's rmse: 0.635373\tvalid_1's rmse: 1.04691\n",
      "[500]\tvalid_0's rmse: 0.563916\tvalid_1's rmse: 1.03964\n",
      "[600]\tvalid_0's rmse: 0.504252\tvalid_1's rmse: 1.03533\n",
      "[700]\tvalid_0's rmse: 0.45371\tvalid_1's rmse: 1.0335\n",
      "[800]\tvalid_0's rmse: 0.410438\tvalid_1's rmse: 1.03146\n",
      "[900]\tvalid_0's rmse: 0.373182\tvalid_1's rmse: 1.02985\n",
      "[1000]\tvalid_0's rmse: 0.341077\tvalid_1's rmse: 1.02939\n",
      "[1100]\tvalid_0's rmse: 0.312891\tvalid_1's rmse: 1.02911\n",
      "[1200]\tvalid_0's rmse: 0.28854\tvalid_1's rmse: 1.02837\n",
      "[1300]\tvalid_0's rmse: 0.267612\tvalid_1's rmse: 1.02801\n",
      "[1400]\tvalid_0's rmse: 0.249203\tvalid_1's rmse: 1.02765\n",
      "Early stopping, best iteration is:\n",
      "[1383]\tvalid_0's rmse: 0.252158\tvalid_1's rmse: 1.02756\n"
     ]
    },
    {
     "name": "stderr",
     "output_type": "stream",
     "text": [
      "regularization_factors, val_score: 1.022656:   5%|5         | 1/20 [01:02<19:51, 62.73s/it]\u001b[32m[I 2021-03-08 05:33:02,627]\u001b[0m Trial 43 finished with value: 1.027558436032965 and parameters: {'lambda_l1': 0.0044367588210917595, 'lambda_l2': 0.3805726327913227}. Best is trial 43 with value: 1.027558436032965.\u001b[0m\n",
      "regularization_factors, val_score: 1.022656:   5%|5         | 1/20 [01:02<19:51, 62.73s/it]"
     ]
    },
    {
     "name": "stdout",
     "output_type": "stream",
     "text": [
      "Training until validation scores don't improve for 100 rounds\n",
      "[100]\tvalid_0's rmse: 1.0801\tvalid_1's rmse: 1.21638\n",
      "[200]\tvalid_0's rmse: 0.842316\tvalid_1's rmse: 1.09347\n",
      "[300]\tvalid_0's rmse: 0.719818\tvalid_1's rmse: 1.06076\n",
      "[400]\tvalid_0's rmse: 0.631522\tvalid_1's rmse: 1.04829\n",
      "[500]\tvalid_0's rmse: 0.560209\tvalid_1's rmse: 1.04178\n",
      "[600]\tvalid_0's rmse: 0.500364\tvalid_1's rmse: 1.03791\n",
      "[700]\tvalid_0's rmse: 0.449978\tvalid_1's rmse: 1.03502\n",
      "[800]\tvalid_0's rmse: 0.406599\tvalid_1's rmse: 1.03352\n",
      "[900]\tvalid_0's rmse: 0.369599\tvalid_1's rmse: 1.03234\n",
      "[1000]\tvalid_0's rmse: 0.337709\tvalid_1's rmse: 1.03132\n",
      "[1100]\tvalid_0's rmse: 0.309762\tvalid_1's rmse: 1.03073\n",
      "[1200]\tvalid_0's rmse: 0.285795\tvalid_1's rmse: 1.03022\n",
      "[1300]\tvalid_0's rmse: 0.2652\tvalid_1's rmse: 1.03005\n",
      "[1400]\tvalid_0's rmse: 0.247057\tvalid_1's rmse: 1.03007\n",
      "Early stopping, best iteration is:\n",
      "[1356]\tvalid_0's rmse: 0.254659\tvalid_1's rmse: 1.02995\n"
     ]
    },
    {
     "name": "stderr",
     "output_type": "stream",
     "text": [
      "regularization_factors, val_score: 1.022656:  10%|#         | 2/20 [02:04<18:42, 62.39s/it]\u001b[32m[I 2021-03-08 05:34:04,228]\u001b[0m Trial 44 finished with value: 1.0299501749272697 and parameters: {'lambda_l1': 1.496219359452671e-08, 'lambda_l2': 1.6983359227235976e-08}. Best is trial 43 with value: 1.027558436032965.\u001b[0m\n",
      "regularization_factors, val_score: 1.022656:  10%|#         | 2/20 [02:04<18:42, 62.39s/it]"
     ]
    },
    {
     "name": "stdout",
     "output_type": "stream",
     "text": [
      "Training until validation scores don't improve for 100 rounds\n",
      "[100]\tvalid_0's rmse: 1.0802\tvalid_1's rmse: 1.21682\n",
      "[200]\tvalid_0's rmse: 0.84254\tvalid_1's rmse: 1.09399\n",
      "[300]\tvalid_0's rmse: 0.720238\tvalid_1's rmse: 1.06153\n",
      "[400]\tvalid_0's rmse: 0.631893\tvalid_1's rmse: 1.0486\n",
      "[500]\tvalid_0's rmse: 0.560527\tvalid_1's rmse: 1.04087\n",
      "[600]\tvalid_0's rmse: 0.500533\tvalid_1's rmse: 1.03732\n",
      "[700]\tvalid_0's rmse: 0.449835\tvalid_1's rmse: 1.03492\n",
      "[800]\tvalid_0's rmse: 0.40668\tvalid_1's rmse: 1.03257\n",
      "[900]\tvalid_0's rmse: 0.36984\tvalid_1's rmse: 1.03137\n",
      "[1000]\tvalid_0's rmse: 0.337706\tvalid_1's rmse: 1.03075\n",
      "[1100]\tvalid_0's rmse: 0.309829\tvalid_1's rmse: 1.03017\n",
      "[1200]\tvalid_0's rmse: 0.285941\tvalid_1's rmse: 1.02986\n",
      "[1300]\tvalid_0's rmse: 0.265027\tvalid_1's rmse: 1.02978\n",
      "Early stopping, best iteration is:\n",
      "[1285]\tvalid_0's rmse: 0.267943\tvalid_1's rmse: 1.02961\n"
     ]
    },
    {
     "name": "stderr",
     "output_type": "stream",
     "text": [
      "regularization_factors, val_score: 1.022656:  15%|#5        | 3/20 [03:05<17:31, 61.88s/it]\u001b[32m[I 2021-03-08 05:35:04,918]\u001b[0m Trial 45 finished with value: 1.0296127569240554 and parameters: {'lambda_l1': 0.0018234844671311643, 'lambda_l2': 1.3607173135258744e-06}. Best is trial 43 with value: 1.027558436032965.\u001b[0m\n",
      "regularization_factors, val_score: 1.022656:  15%|#5        | 3/20 [03:05<17:31, 61.88s/it]"
     ]
    },
    {
     "name": "stdout",
     "output_type": "stream",
     "text": [
      "Training until validation scores don't improve for 100 rounds\n",
      "[100]\tvalid_0's rmse: 1.08011\tvalid_1's rmse: 1.21637\n",
      "[200]\tvalid_0's rmse: 0.842718\tvalid_1's rmse: 1.09317\n",
      "[300]\tvalid_0's rmse: 0.719793\tvalid_1's rmse: 1.06015\n",
      "[400]\tvalid_0's rmse: 0.631347\tvalid_1's rmse: 1.04723\n",
      "[500]\tvalid_0's rmse: 0.560007\tvalid_1's rmse: 1.03976\n",
      "[600]\tvalid_0's rmse: 0.500316\tvalid_1's rmse: 1.03564\n",
      "[700]\tvalid_0's rmse: 0.449734\tvalid_1's rmse: 1.03361\n",
      "[800]\tvalid_0's rmse: 0.406363\tvalid_1's rmse: 1.03157\n",
      "[900]\tvalid_0's rmse: 0.369155\tvalid_1's rmse: 1.03057\n",
      "[1000]\tvalid_0's rmse: 0.337311\tvalid_1's rmse: 1.0296\n",
      "[1100]\tvalid_0's rmse: 0.309561\tvalid_1's rmse: 1.02897\n",
      "[1200]\tvalid_0's rmse: 0.285646\tvalid_1's rmse: 1.02884\n",
      "[1300]\tvalid_0's rmse: 0.265161\tvalid_1's rmse: 1.0289\n",
      "Early stopping, best iteration is:\n",
      "[1209]\tvalid_0's rmse: 0.283691\tvalid_1's rmse: 1.02874\n"
     ]
    },
    {
     "name": "stderr",
     "output_type": "stream",
     "text": [
      "regularization_factors, val_score: 1.022656:  20%|##        | 4/20 [04:01<16:06, 60.40s/it]\u001b[32m[I 2021-03-08 05:36:01,868]\u001b[0m Trial 46 finished with value: 1.0287363828561116 and parameters: {'lambda_l1': 1.231473677600197e-05, 'lambda_l2': 5.9544762424275995e-06}. Best is trial 43 with value: 1.027558436032965.\u001b[0m\n",
      "regularization_factors, val_score: 1.022656:  20%|##        | 4/20 [04:01<16:06, 60.40s/it]"
     ]
    },
    {
     "name": "stdout",
     "output_type": "stream",
     "text": [
      "Training until validation scores don't improve for 100 rounds\n",
      "[100]\tvalid_0's rmse: 1.08049\tvalid_1's rmse: 1.21586\n",
      "[200]\tvalid_0's rmse: 0.842933\tvalid_1's rmse: 1.09261\n",
      "[300]\tvalid_0's rmse: 0.720848\tvalid_1's rmse: 1.05891\n",
      "[400]\tvalid_0's rmse: 0.632437\tvalid_1's rmse: 1.04665\n",
      "[500]\tvalid_0's rmse: 0.560473\tvalid_1's rmse: 1.03892\n",
      "[600]\tvalid_0's rmse: 0.500827\tvalid_1's rmse: 1.03511\n",
      "[700]\tvalid_0's rmse: 0.450338\tvalid_1's rmse: 1.03318\n",
      "[800]\tvalid_0's rmse: 0.40685\tvalid_1's rmse: 1.03112\n",
      "[900]\tvalid_0's rmse: 0.369656\tvalid_1's rmse: 1.02957\n",
      "[1000]\tvalid_0's rmse: 0.33784\tvalid_1's rmse: 1.02904\n",
      "[1100]\tvalid_0's rmse: 0.310126\tvalid_1's rmse: 1.02838\n",
      "[1200]\tvalid_0's rmse: 0.285937\tvalid_1's rmse: 1.02835\n",
      "[1300]\tvalid_0's rmse: 0.265025\tvalid_1's rmse: 1.02772\n",
      "[1400]\tvalid_0's rmse: 0.24695\tvalid_1's rmse: 1.0279\n",
      "Early stopping, best iteration is:\n",
      "[1306]\tvalid_0's rmse: 0.26388\tvalid_1's rmse: 1.02767\n"
     ]
    },
    {
     "name": "stderr",
     "output_type": "stream",
     "text": [
      "regularization_factors, val_score: 1.022656:  25%|##5       | 5/20 [04:58<14:49, 59.29s/it]\u001b[32m[I 2021-03-08 05:36:58,566]\u001b[0m Trial 47 finished with value: 1.027666419466151 and parameters: {'lambda_l1': 3.370199859482128e-08, 'lambda_l2': 0.00032288283845726843}. Best is trial 43 with value: 1.027558436032965.\u001b[0m\n",
      "regularization_factors, val_score: 1.022656:  25%|##5       | 5/20 [04:58<14:49, 59.29s/it]"
     ]
    },
    {
     "name": "stdout",
     "output_type": "stream",
     "text": [
      "Training until validation scores don't improve for 100 rounds\n",
      "[100]\tvalid_0's rmse: 1.08376\tvalid_1's rmse: 1.21665\n",
      "[200]\tvalid_0's rmse: 0.845789\tvalid_1's rmse: 1.09288\n",
      "[300]\tvalid_0's rmse: 0.723993\tvalid_1's rmse: 1.05949\n",
      "[400]\tvalid_0's rmse: 0.636432\tvalid_1's rmse: 1.04659\n",
      "[500]\tvalid_0's rmse: 0.565776\tvalid_1's rmse: 1.03851\n",
      "[600]\tvalid_0's rmse: 0.506334\tvalid_1's rmse: 1.03447\n",
      "[700]\tvalid_0's rmse: 0.456104\tvalid_1's rmse: 1.03148\n",
      "[800]\tvalid_0's rmse: 0.412823\tvalid_1's rmse: 1.02936\n",
      "[900]\tvalid_0's rmse: 0.375749\tvalid_1's rmse: 1.02841\n",
      "[1000]\tvalid_0's rmse: 0.343445\tvalid_1's rmse: 1.02774\n",
      "[1100]\tvalid_0's rmse: 0.315545\tvalid_1's rmse: 1.02719\n",
      "[1200]\tvalid_0's rmse: 0.291307\tvalid_1's rmse: 1.02657\n",
      "Early stopping, best iteration is:\n",
      "[1182]\tvalid_0's rmse: 0.295465\tvalid_1's rmse: 1.0265\n"
     ]
    },
    {
     "name": "stderr",
     "output_type": "stream",
     "text": [
      "regularization_factors, val_score: 1.022656:  30%|###       | 6/20 [05:53<13:29, 57.83s/it]\u001b[32m[I 2021-03-08 05:37:52,995]\u001b[0m Trial 48 finished with value: 1.0265018618923822 and parameters: {'lambda_l1': 0.4364618689806476, 'lambda_l2': 0.10940170211174885}. Best is trial 48 with value: 1.0265018618923822.\u001b[0m\n",
      "regularization_factors, val_score: 1.022656:  30%|###       | 6/20 [05:53<13:29, 57.83s/it]"
     ]
    },
    {
     "name": "stdout",
     "output_type": "stream",
     "text": [
      "Training until validation scores don't improve for 100 rounds\n",
      "[100]\tvalid_0's rmse: 1.08384\tvalid_1's rmse: 1.21675\n",
      "[200]\tvalid_0's rmse: 0.846429\tvalid_1's rmse: 1.09241\n",
      "[300]\tvalid_0's rmse: 0.724716\tvalid_1's rmse: 1.05895\n",
      "[400]\tvalid_0's rmse: 0.637304\tvalid_1's rmse: 1.04556\n",
      "[500]\tvalid_0's rmse: 0.566992\tvalid_1's rmse: 1.03831\n",
      "[600]\tvalid_0's rmse: 0.507995\tvalid_1's rmse: 1.03313\n",
      "[700]\tvalid_0's rmse: 0.458025\tvalid_1's rmse: 1.02957\n",
      "[800]\tvalid_0's rmse: 0.414993\tvalid_1's rmse: 1.02744\n",
      "[900]\tvalid_0's rmse: 0.377887\tvalid_1's rmse: 1.0258\n",
      "[1000]\tvalid_0's rmse: 0.345857\tvalid_1's rmse: 1.02491\n",
      "[1100]\tvalid_0's rmse: 0.317981\tvalid_1's rmse: 1.02411\n",
      "[1200]\tvalid_0's rmse: 0.293915\tvalid_1's rmse: 1.02391\n",
      "Early stopping, best iteration is:\n",
      "[1171]\tvalid_0's rmse: 0.300647\tvalid_1's rmse: 1.02376\n"
     ]
    },
    {
     "name": "stderr",
     "output_type": "stream",
     "text": [
      "regularization_factors, val_score: 1.022656:  35%|###5      | 7/20 [06:45<12:12, 56.34s/it]\u001b[32m[I 2021-03-08 05:38:45,848]\u001b[0m Trial 49 finished with value: 1.023755205475847 and parameters: {'lambda_l1': 0.6517632417037764, 'lambda_l2': 3.610303733573671e-05}. Best is trial 49 with value: 1.023755205475847.\u001b[0m\n",
      "regularization_factors, val_score: 1.022656:  35%|###5      | 7/20 [06:45<12:12, 56.34s/it]"
     ]
    },
    {
     "name": "stdout",
     "output_type": "stream",
     "text": [
      "Training until validation scores don't improve for 100 rounds\n",
      "[100]\tvalid_0's rmse: 1.08481\tvalid_1's rmse: 1.21685\n",
      "[200]\tvalid_0's rmse: 0.846757\tvalid_1's rmse: 1.09252\n",
      "[300]\tvalid_0's rmse: 0.724086\tvalid_1's rmse: 1.05853\n",
      "[400]\tvalid_0's rmse: 0.636194\tvalid_1's rmse: 1.04566\n",
      "[500]\tvalid_0's rmse: 0.564468\tvalid_1's rmse: 1.03855\n",
      "[600]\tvalid_0's rmse: 0.504741\tvalid_1's rmse: 1.03361\n",
      "[700]\tvalid_0's rmse: 0.454258\tvalid_1's rmse: 1.03063\n",
      "[800]\tvalid_0's rmse: 0.41093\tvalid_1's rmse: 1.0283\n",
      "[900]\tvalid_0's rmse: 0.373709\tvalid_1's rmse: 1.02717\n",
      "[1000]\tvalid_0's rmse: 0.341347\tvalid_1's rmse: 1.02596\n",
      "[1100]\tvalid_0's rmse: 0.313504\tvalid_1's rmse: 1.02499\n",
      "[1200]\tvalid_0's rmse: 0.289344\tvalid_1's rmse: 1.02446\n",
      "[1300]\tvalid_0's rmse: 0.268391\tvalid_1's rmse: 1.02473\n",
      "Early stopping, best iteration is:\n",
      "[1204]\tvalid_0's rmse: 0.288475\tvalid_1's rmse: 1.02444\n"
     ]
    },
    {
     "name": "stderr",
     "output_type": "stream",
     "text": [
      "regularization_factors, val_score: 1.022656:  40%|####      | 8/20 [07:40<11:08, 55.74s/it]\u001b[32m[I 2021-03-08 05:39:40,205]\u001b[0m Trial 50 finished with value: 1.024439790253457 and parameters: {'lambda_l1': 2.9600212966668667e-06, 'lambda_l2': 0.4535871326736884}. Best is trial 49 with value: 1.023755205475847.\u001b[0m\n",
      "regularization_factors, val_score: 1.022656:  40%|####      | 8/20 [07:40<11:08, 55.74s/it]"
     ]
    },
    {
     "name": "stdout",
     "output_type": "stream",
     "text": [
      "Training until validation scores don't improve for 100 rounds\n",
      "[100]\tvalid_0's rmse: 1.08011\tvalid_1's rmse: 1.21637\n",
      "[200]\tvalid_0's rmse: 0.842718\tvalid_1's rmse: 1.09317\n",
      "[300]\tvalid_0's rmse: 0.719733\tvalid_1's rmse: 1.05951\n",
      "[400]\tvalid_0's rmse: 0.63143\tvalid_1's rmse: 1.04626\n",
      "[500]\tvalid_0's rmse: 0.560021\tvalid_1's rmse: 1.03878\n",
      "[600]\tvalid_0's rmse: 0.500328\tvalid_1's rmse: 1.03481\n",
      "[700]\tvalid_0's rmse: 0.449839\tvalid_1's rmse: 1.03273\n",
      "[800]\tvalid_0's rmse: 0.4065\tvalid_1's rmse: 1.03066\n",
      "[900]\tvalid_0's rmse: 0.369402\tvalid_1's rmse: 1.02982\n",
      "[1000]\tvalid_0's rmse: 0.337608\tvalid_1's rmse: 1.02865\n",
      "[1100]\tvalid_0's rmse: 0.309576\tvalid_1's rmse: 1.02797\n",
      "[1200]\tvalid_0's rmse: 0.28558\tvalid_1's rmse: 1.02735\n",
      "[1300]\tvalid_0's rmse: 0.264872\tvalid_1's rmse: 1.02708\n",
      "[1400]\tvalid_0's rmse: 0.246937\tvalid_1's rmse: 1.02708\n",
      "Early stopping, best iteration is:\n",
      "[1307]\tvalid_0's rmse: 0.263494\tvalid_1's rmse: 1.02696\n"
     ]
    },
    {
     "name": "stderr",
     "output_type": "stream",
     "text": [
      "regularization_factors, val_score: 1.022656:  45%|####5     | 9/20 [08:36<10:16, 56.01s/it]\u001b[32m[I 2021-03-08 05:40:36,835]\u001b[0m Trial 51 finished with value: 1.0269555057998283 and parameters: {'lambda_l1': 1.322391851497116e-05, 'lambda_l2': 2.3514264906781402e-05}. Best is trial 49 with value: 1.023755205475847.\u001b[0m\n",
      "regularization_factors, val_score: 1.022656:  45%|####5     | 9/20 [08:36<10:16, 56.01s/it]"
     ]
    },
    {
     "name": "stdout",
     "output_type": "stream",
     "text": [
      "Training until validation scores don't improve for 100 rounds\n",
      "[100]\tvalid_0's rmse: 1.08012\tvalid_1's rmse: 1.21637\n",
      "[200]\tvalid_0's rmse: 0.842248\tvalid_1's rmse: 1.09369\n",
      "[300]\tvalid_0's rmse: 0.719878\tvalid_1's rmse: 1.06029\n",
      "[400]\tvalid_0's rmse: 0.631375\tvalid_1's rmse: 1.04686\n",
      "[500]\tvalid_0's rmse: 0.559654\tvalid_1's rmse: 1.03987\n",
      "[600]\tvalid_0's rmse: 0.500025\tvalid_1's rmse: 1.03536\n",
      "[700]\tvalid_0's rmse: 0.449804\tvalid_1's rmse: 1.03282\n",
      "[800]\tvalid_0's rmse: 0.40636\tvalid_1's rmse: 1.03091\n",
      "[900]\tvalid_0's rmse: 0.369441\tvalid_1's rmse: 1.03012\n",
      "[1000]\tvalid_0's rmse: 0.337694\tvalid_1's rmse: 1.02934\n",
      "[1100]\tvalid_0's rmse: 0.309776\tvalid_1's rmse: 1.02849\n",
      "[1200]\tvalid_0's rmse: 0.285663\tvalid_1's rmse: 1.02806\n",
      "[1300]\tvalid_0's rmse: 0.264918\tvalid_1's rmse: 1.02807\n",
      "Early stopping, best iteration is:\n",
      "[1211]\tvalid_0's rmse: 0.283325\tvalid_1's rmse: 1.02794\n"
     ]
    },
    {
     "name": "stderr",
     "output_type": "stream",
     "text": [
      "regularization_factors, val_score: 1.022656:  50%|#####     | 10/20 [09:30<09:13, 55.31s/it]\u001b[32m[I 2021-03-08 05:41:30,504]\u001b[0m Trial 52 finished with value: 1.0279393419683536 and parameters: {'lambda_l1': 6.639248804616247e-08, 'lambda_l2': 2.0017571787152736e-05}. Best is trial 49 with value: 1.023755205475847.\u001b[0m\n",
      "regularization_factors, val_score: 1.022656:  50%|#####     | 10/20 [09:30<09:13, 55.31s/it]"
     ]
    },
    {
     "name": "stdout",
     "output_type": "stream",
     "text": [
      "Training until validation scores don't improve for 100 rounds\n",
      "[100]\tvalid_0's rmse: 1.12995\tvalid_1's rmse: 1.22734\n",
      "[200]\tvalid_0's rmse: 0.908576\tvalid_1's rmse: 1.1059\n",
      "[300]\tvalid_0's rmse: 0.792837\tvalid_1's rmse: 1.07186\n",
      "[400]\tvalid_0's rmse: 0.712673\tvalid_1's rmse: 1.05871\n",
      "[500]\tvalid_0's rmse: 0.64933\tvalid_1's rmse: 1.0513\n",
      "[600]\tvalid_0's rmse: 0.596128\tvalid_1's rmse: 1.04691\n",
      "[700]\tvalid_0's rmse: 0.550863\tvalid_1's rmse: 1.04415\n",
      "[800]\tvalid_0's rmse: 0.511764\tvalid_1's rmse: 1.04244\n",
      "[900]\tvalid_0's rmse: 0.477505\tvalid_1's rmse: 1.04085\n",
      "[1000]\tvalid_0's rmse: 0.447333\tvalid_1's rmse: 1.03986\n",
      "[1100]\tvalid_0's rmse: 0.420735\tvalid_1's rmse: 1.03832\n",
      "[1200]\tvalid_0's rmse: 0.396985\tvalid_1's rmse: 1.03794\n",
      "[1300]\tvalid_0's rmse: 0.37585\tvalid_1's rmse: 1.03762\n",
      "[1400]\tvalid_0's rmse: 0.356854\tvalid_1's rmse: 1.03745\n",
      "Early stopping, best iteration is:\n",
      "[1357]\tvalid_0's rmse: 0.364922\tvalid_1's rmse: 1.03727\n"
     ]
    },
    {
     "name": "stderr",
     "output_type": "stream",
     "text": [
      "regularization_factors, val_score: 1.022656:  55%|#####5    | 11/20 [10:11<07:38, 50.92s/it]\u001b[32m[I 2021-03-08 05:42:11,200]\u001b[0m Trial 53 finished with value: 1.0372685369198984 and parameters: {'lambda_l1': 6.692069347727021, 'lambda_l2': 0.003907541226752833}. Best is trial 49 with value: 1.023755205475847.\u001b[0m\n",
      "regularization_factors, val_score: 1.022656:  55%|#####5    | 11/20 [10:11<07:38, 50.92s/it]"
     ]
    },
    {
     "name": "stdout",
     "output_type": "stream",
     "text": [
      "Training until validation scores don't improve for 100 rounds\n",
      "[100]\tvalid_0's rmse: 1.11035\tvalid_1's rmse: 1.22471\n",
      "[200]\tvalid_0's rmse: 0.873092\tvalid_1's rmse: 1.09897\n",
      "[300]\tvalid_0's rmse: 0.748741\tvalid_1's rmse: 1.06328\n",
      "[400]\tvalid_0's rmse: 0.660824\tvalid_1's rmse: 1.0494\n",
      "[500]\tvalid_0's rmse: 0.589636\tvalid_1's rmse: 1.04058\n",
      "[600]\tvalid_0's rmse: 0.529335\tvalid_1's rmse: 1.03583\n",
      "[700]\tvalid_0's rmse: 0.478367\tvalid_1's rmse: 1.03187\n",
      "[800]\tvalid_0's rmse: 0.434183\tvalid_1's rmse: 1.02979\n",
      "[900]\tvalid_0's rmse: 0.395592\tvalid_1's rmse: 1.02846\n",
      "[1000]\tvalid_0's rmse: 0.362192\tvalid_1's rmse: 1.02704\n",
      "[1100]\tvalid_0's rmse: 0.332741\tvalid_1's rmse: 1.0264\n",
      "[1200]\tvalid_0's rmse: 0.307211\tvalid_1's rmse: 1.02587\n",
      "[1300]\tvalid_0's rmse: 0.284954\tvalid_1's rmse: 1.02577\n",
      "[1400]\tvalid_0's rmse: 0.265315\tvalid_1's rmse: 1.02543\n",
      "[1500]\tvalid_0's rmse: 0.248098\tvalid_1's rmse: 1.02527\n",
      "[1600]\tvalid_0's rmse: 0.23294\tvalid_1's rmse: 1.02527\n",
      "Early stopping, best iteration is:\n",
      "[1537]\tvalid_0's rmse: 0.242287\tvalid_1's rmse: 1.02519\n"
     ]
    },
    {
     "name": "stderr",
     "output_type": "stream",
     "text": [
      "regularization_factors, val_score: 1.022656:  60%|######    | 12/20 [11:21<07:33, 56.68s/it]\u001b[32m[I 2021-03-08 05:43:21,312]\u001b[0m Trial 54 finished with value: 1.0251864004086808 and parameters: {'lambda_l1': 5.724768584472008e-06, 'lambda_l2': 3.6698873112352044}. Best is trial 49 with value: 1.023755205475847.\u001b[0m\n",
      "regularization_factors, val_score: 1.022656:  60%|######    | 12/20 [11:21<07:33, 56.68s/it]"
     ]
    },
    {
     "name": "stdout",
     "output_type": "stream",
     "text": [
      "Training until validation scores don't improve for 100 rounds\n",
      "[100]\tvalid_0's rmse: 1.08061\tvalid_1's rmse: 1.2167\n",
      "[200]\tvalid_0's rmse: 0.84292\tvalid_1's rmse: 1.09406\n",
      "[300]\tvalid_0's rmse: 0.720605\tvalid_1's rmse: 1.06123\n",
      "[400]\tvalid_0's rmse: 0.632637\tvalid_1's rmse: 1.04839\n",
      "[500]\tvalid_0's rmse: 0.561338\tvalid_1's rmse: 1.04054\n",
      "[600]\tvalid_0's rmse: 0.501385\tvalid_1's rmse: 1.03643\n",
      "[700]\tvalid_0's rmse: 0.450772\tvalid_1's rmse: 1.03308\n",
      "[800]\tvalid_0's rmse: 0.407518\tvalid_1's rmse: 1.03108\n",
      "[900]\tvalid_0's rmse: 0.370086\tvalid_1's rmse: 1.02985\n",
      "[1000]\tvalid_0's rmse: 0.338046\tvalid_1's rmse: 1.02891\n",
      "[1100]\tvalid_0's rmse: 0.310264\tvalid_1's rmse: 1.02875\n",
      "[1200]\tvalid_0's rmse: 0.286188\tvalid_1's rmse: 1.02882\n",
      "Early stopping, best iteration is:\n",
      "[1150]\tvalid_0's rmse: 0.29787\tvalid_1's rmse: 1.02853\n"
     ]
    },
    {
     "name": "stderr",
     "output_type": "stream",
     "text": [
      "regularization_factors, val_score: 1.022656:  65%|######5   | 13/20 [12:14<06:28, 55.48s/it]\u001b[32m[I 2021-03-08 05:44:14,003]\u001b[0m Trial 55 finished with value: 1.0285283007210764 and parameters: {'lambda_l1': 0.11664288536637472, 'lambda_l2': 2.9568541710576576e-08}. Best is trial 49 with value: 1.023755205475847.\u001b[0m\n",
      "regularization_factors, val_score: 1.022656:  65%|######5   | 13/20 [12:14<06:28, 55.48s/it]"
     ]
    },
    {
     "name": "stdout",
     "output_type": "stream",
     "text": [
      "Training until validation scores don't improve for 100 rounds\n",
      "[100]\tvalid_0's rmse: 1.07998\tvalid_1's rmse: 1.21602\n",
      "[200]\tvalid_0's rmse: 0.842726\tvalid_1's rmse: 1.09401\n",
      "[300]\tvalid_0's rmse: 0.720217\tvalid_1's rmse: 1.06047\n",
      "[400]\tvalid_0's rmse: 0.632028\tvalid_1's rmse: 1.04758\n",
      "[500]\tvalid_0's rmse: 0.560823\tvalid_1's rmse: 1.04002\n",
      "[600]\tvalid_0's rmse: 0.501035\tvalid_1's rmse: 1.03606\n",
      "[700]\tvalid_0's rmse: 0.450485\tvalid_1's rmse: 1.03414\n",
      "[800]\tvalid_0's rmse: 0.40722\tvalid_1's rmse: 1.03222\n",
      "[900]\tvalid_0's rmse: 0.36996\tvalid_1's rmse: 1.03093\n",
      "[1000]\tvalid_0's rmse: 0.338004\tvalid_1's rmse: 1.03045\n",
      "[1100]\tvalid_0's rmse: 0.30997\tvalid_1's rmse: 1.02977\n",
      "[1200]\tvalid_0's rmse: 0.285981\tvalid_1's rmse: 1.02929\n",
      "[1300]\tvalid_0's rmse: 0.26521\tvalid_1's rmse: 1.02886\n",
      "Early stopping, best iteration is:\n",
      "[1290]\tvalid_0's rmse: 0.267201\tvalid_1's rmse: 1.02879\n"
     ]
    },
    {
     "name": "stderr",
     "output_type": "stream",
     "text": [
      "regularization_factors, val_score: 1.022656:  70%|#######   | 14/20 [13:13<05:40, 56.69s/it]\u001b[32m[I 2021-03-08 05:45:13,505]\u001b[0m Trial 56 finished with value: 1.028790754309644 and parameters: {'lambda_l1': 9.175386638288776e-07, 'lambda_l2': 0.006131032325604337}. Best is trial 49 with value: 1.023755205475847.\u001b[0m\n",
      "regularization_factors, val_score: 1.022656:  70%|#######   | 14/20 [13:13<05:40, 56.69s/it]"
     ]
    },
    {
     "name": "stdout",
     "output_type": "stream",
     "text": [
      "Training until validation scores don't improve for 100 rounds\n",
      "[100]\tvalid_0's rmse: 1.13162\tvalid_1's rmse: 1.23156\n",
      "[200]\tvalid_0's rmse: 0.901723\tvalid_1's rmse: 1.10582\n",
      "[300]\tvalid_0's rmse: 0.778175\tvalid_1's rmse: 1.06836\n",
      "[400]\tvalid_0's rmse: 0.690801\tvalid_1's rmse: 1.05464\n",
      "[500]\tvalid_0's rmse: 0.620062\tvalid_1's rmse: 1.04612\n",
      "[600]\tvalid_0's rmse: 0.559838\tvalid_1's rmse: 1.04124\n",
      "[700]\tvalid_0's rmse: 0.508221\tvalid_1's rmse: 1.03753\n",
      "[800]\tvalid_0's rmse: 0.463408\tvalid_1's rmse: 1.03548\n",
      "[900]\tvalid_0's rmse: 0.424299\tvalid_1's rmse: 1.03389\n",
      "[1000]\tvalid_0's rmse: 0.389685\tvalid_1's rmse: 1.03245\n",
      "[1100]\tvalid_0's rmse: 0.359538\tvalid_1's rmse: 1.03188\n",
      "[1200]\tvalid_0's rmse: 0.332805\tvalid_1's rmse: 1.03136\n",
      "[1300]\tvalid_0's rmse: 0.309082\tvalid_1's rmse: 1.03129\n",
      "[1400]\tvalid_0's rmse: 0.28812\tvalid_1's rmse: 1.03105\n",
      "[1500]\tvalid_0's rmse: 0.269503\tvalid_1's rmse: 1.03096\n",
      "Early stopping, best iteration is:\n",
      "[1491]\tvalid_0's rmse: 0.271096\tvalid_1's rmse: 1.0309\n"
     ]
    },
    {
     "name": "stderr",
     "output_type": "stream",
     "text": [
      "regularization_factors, val_score: 1.022656:  75%|#######5  | 15/20 [14:20<04:58, 59.68s/it]\u001b[32m[I 2021-03-08 05:46:20,176]\u001b[0m Trial 57 finished with value: 1.0308972755443662 and parameters: {'lambda_l1': 0.000142397076386289, 'lambda_l2': 8.887469459519194}. Best is trial 49 with value: 1.023755205475847.\u001b[0m\n",
      "regularization_factors, val_score: 1.022656:  75%|#######5  | 15/20 [14:20<04:58, 59.68s/it]"
     ]
    },
    {
     "name": "stdout",
     "output_type": "stream",
     "text": [
      "Training until validation scores don't improve for 100 rounds\n",
      "[100]\tvalid_0's rmse: 1.13989\tvalid_1's rmse: 1.2299\n",
      "[200]\tvalid_0's rmse: 0.924269\tvalid_1's rmse: 1.10889\n",
      "[300]\tvalid_0's rmse: 0.811711\tvalid_1's rmse: 1.07495\n",
      "[400]\tvalid_0's rmse: 0.732937\tvalid_1's rmse: 1.06073\n",
      "[500]\tvalid_0's rmse: 0.670656\tvalid_1's rmse: 1.05271\n",
      "[600]\tvalid_0's rmse: 0.618691\tvalid_1's rmse: 1.04785\n",
      "[700]\tvalid_0's rmse: 0.57457\tvalid_1's rmse: 1.04403\n",
      "[800]\tvalid_0's rmse: 0.536045\tvalid_1's rmse: 1.04174\n",
      "[900]\tvalid_0's rmse: 0.502292\tvalid_1's rmse: 1.03985\n",
      "[1000]\tvalid_0's rmse: 0.472374\tvalid_1's rmse: 1.03906\n",
      "[1100]\tvalid_0's rmse: 0.445752\tvalid_1's rmse: 1.03781\n",
      "[1200]\tvalid_0's rmse: 0.422039\tvalid_1's rmse: 1.03739\n",
      "[1300]\tvalid_0's rmse: 0.400538\tvalid_1's rmse: 1.0367\n",
      "[1400]\tvalid_0's rmse: 0.381302\tvalid_1's rmse: 1.0358\n",
      "[1500]\tvalid_0's rmse: 0.364023\tvalid_1's rmse: 1.03569\n",
      "[1600]\tvalid_0's rmse: 0.348367\tvalid_1's rmse: 1.03555\n",
      "[1700]\tvalid_0's rmse: 0.334131\tvalid_1's rmse: 1.03531\n",
      "[1800]\tvalid_0's rmse: 0.321051\tvalid_1's rmse: 1.03501\n",
      "Early stopping, best iteration is:\n",
      "[1740]\tvalid_0's rmse: 0.328795\tvalid_1's rmse: 1.0349\n"
     ]
    },
    {
     "name": "stderr",
     "output_type": "stream",
     "text": [
      "regularization_factors, val_score: 1.022656:  80%|########  | 16/20 [15:07<03:43, 55.98s/it]\u001b[32m[I 2021-03-08 05:47:07,522]\u001b[0m Trial 58 finished with value: 1.0349023108900868 and parameters: {'lambda_l1': 8.655035923666025, 'lambda_l2': 0.0005814815742477625}. Best is trial 49 with value: 1.023755205475847.\u001b[0m\n",
      "regularization_factors, val_score: 1.022656:  80%|########  | 16/20 [15:07<03:43, 55.98s/it]"
     ]
    },
    {
     "name": "stdout",
     "output_type": "stream",
     "text": [
      "Training until validation scores don't improve for 100 rounds\n",
      "[100]\tvalid_0's rmse: 1.08009\tvalid_1's rmse: 1.21638\n",
      "[200]\tvalid_0's rmse: 0.842484\tvalid_1's rmse: 1.09332\n",
      "[300]\tvalid_0's rmse: 0.720442\tvalid_1's rmse: 1.05969\n",
      "[400]\tvalid_0's rmse: 0.631957\tvalid_1's rmse: 1.04684\n",
      "[500]\tvalid_0's rmse: 0.560477\tvalid_1's rmse: 1.03967\n",
      "[600]\tvalid_0's rmse: 0.500679\tvalid_1's rmse: 1.03545\n",
      "[700]\tvalid_0's rmse: 0.450255\tvalid_1's rmse: 1.03208\n",
      "[800]\tvalid_0's rmse: 0.407022\tvalid_1's rmse: 1.03009\n",
      "[900]\tvalid_0's rmse: 0.369971\tvalid_1's rmse: 1.02867\n",
      "[1000]\tvalid_0's rmse: 0.338224\tvalid_1's rmse: 1.02728\n",
      "[1100]\tvalid_0's rmse: 0.310584\tvalid_1's rmse: 1.02682\n",
      "[1200]\tvalid_0's rmse: 0.286208\tvalid_1's rmse: 1.02666\n",
      "[1300]\tvalid_0's rmse: 0.265365\tvalid_1's rmse: 1.02623\n",
      "Early stopping, best iteration is:\n",
      "[1267]\tvalid_0's rmse: 0.27188\tvalid_1's rmse: 1.02615\n"
     ]
    },
    {
     "name": "stderr",
     "output_type": "stream",
     "text": [
      "regularization_factors, val_score: 1.022656:  85%|########5 | 17/20 [16:03<02:48, 56.04s/it]\u001b[32m[I 2021-03-08 05:48:03,694]\u001b[0m Trial 59 finished with value: 1.0261495644337806 and parameters: {'lambda_l1': 6.143379690726828e-07, 'lambda_l2': 3.135886033899009e-07}. Best is trial 49 with value: 1.023755205475847.\u001b[0m\n",
      "regularization_factors, val_score: 1.022656:  85%|########5 | 17/20 [16:03<02:48, 56.04s/it]"
     ]
    },
    {
     "name": "stdout",
     "output_type": "stream",
     "text": [
      "Training until validation scores don't improve for 100 rounds\n",
      "[100]\tvalid_0's rmse: 1.08072\tvalid_1's rmse: 1.21662\n",
      "[200]\tvalid_0's rmse: 0.842753\tvalid_1's rmse: 1.09382\n",
      "[300]\tvalid_0's rmse: 0.72044\tvalid_1's rmse: 1.06139\n",
      "[400]\tvalid_0's rmse: 0.632275\tvalid_1's rmse: 1.04839\n",
      "[500]\tvalid_0's rmse: 0.560828\tvalid_1's rmse: 1.04095\n",
      "[600]\tvalid_0's rmse: 0.501266\tvalid_1's rmse: 1.03684\n",
      "[700]\tvalid_0's rmse: 0.45079\tvalid_1's rmse: 1.03468\n",
      "[800]\tvalid_0's rmse: 0.40764\tvalid_1's rmse: 1.0331\n",
      "[900]\tvalid_0's rmse: 0.370465\tvalid_1's rmse: 1.03179\n",
      "[1000]\tvalid_0's rmse: 0.338394\tvalid_1's rmse: 1.0311\n",
      "[1100]\tvalid_0's rmse: 0.310594\tvalid_1's rmse: 1.03062\n",
      "[1200]\tvalid_0's rmse: 0.286558\tvalid_1's rmse: 1.03055\n",
      "[1300]\tvalid_0's rmse: 0.265814\tvalid_1's rmse: 1.03029\n",
      "[1400]\tvalid_0's rmse: 0.247683\tvalid_1's rmse: 1.03008\n",
      "Early stopping, best iteration is:\n",
      "[1396]\tvalid_0's rmse: 0.248376\tvalid_1's rmse: 1.03002\n"
     ]
    },
    {
     "name": "stderr",
     "output_type": "stream",
     "text": [
      "regularization_factors, val_score: 1.022656:  90%|######### | 18/20 [17:06<01:55, 57.89s/it]\u001b[32m[I 2021-03-08 05:49:05,909]\u001b[0m Trial 60 finished with value: 1.030020795959806 and parameters: {'lambda_l1': 0.03423643518697283, 'lambda_l2': 0.03213064694747123}. Best is trial 49 with value: 1.023755205475847.\u001b[0m\n",
      "regularization_factors, val_score: 1.022656:  90%|######### | 18/20 [17:06<01:55, 57.89s/it]"
     ]
    },
    {
     "name": "stdout",
     "output_type": "stream",
     "text": [
      "Training until validation scores don't improve for 100 rounds\n",
      "[100]\tvalid_0's rmse: 1.09007\tvalid_1's rmse: 1.21764\n",
      "[200]\tvalid_0's rmse: 0.851579\tvalid_1's rmse: 1.0908\n",
      "[300]\tvalid_0's rmse: 0.728258\tvalid_1's rmse: 1.05802\n",
      "[400]\tvalid_0's rmse: 0.64059\tvalid_1's rmse: 1.04564\n",
      "[500]\tvalid_0's rmse: 0.569241\tvalid_1's rmse: 1.03857\n",
      "[600]\tvalid_0's rmse: 0.509371\tvalid_1's rmse: 1.03307\n",
      "[700]\tvalid_0's rmse: 0.458596\tvalid_1's rmse: 1.02984\n",
      "[800]\tvalid_0's rmse: 0.414963\tvalid_1's rmse: 1.02827\n",
      "[900]\tvalid_0's rmse: 0.377243\tvalid_1's rmse: 1.02662\n",
      "[1000]\tvalid_0's rmse: 0.344768\tvalid_1's rmse: 1.02591\n",
      "[1100]\tvalid_0's rmse: 0.31626\tvalid_1's rmse: 1.02562\n",
      "Early stopping, best iteration is:\n",
      "[1032]\tvalid_0's rmse: 0.335222\tvalid_1's rmse: 1.02545\n"
     ]
    },
    {
     "name": "stderr",
     "output_type": "stream",
     "text": [
      "regularization_factors, val_score: 1.022656:  95%|#########5| 19/20 [17:57<00:55, 56.00s/it]\u001b[32m[I 2021-03-08 05:49:57,490]\u001b[0m Trial 61 finished with value: 1.0254478833170866 and parameters: {'lambda_l1': 0.00018020278985789469, 'lambda_l2': 0.9836512727338741}. Best is trial 49 with value: 1.023755205475847.\u001b[0m\n",
      "regularization_factors, val_score: 1.022656:  95%|#########5| 19/20 [17:57<00:55, 56.00s/it]"
     ]
    },
    {
     "name": "stdout",
     "output_type": "stream",
     "text": [
      "Training until validation scores don't improve for 100 rounds\n",
      "[100]\tvalid_0's rmse: 1.09692\tvalid_1's rmse: 1.21895\n",
      "[200]\tvalid_0's rmse: 0.86205\tvalid_1's rmse: 1.09542\n",
      "[300]\tvalid_0's rmse: 0.741269\tvalid_1's rmse: 1.06111\n",
      "[400]\tvalid_0's rmse: 0.65663\tvalid_1's rmse: 1.04751\n",
      "[500]\tvalid_0's rmse: 0.58885\tvalid_1's rmse: 1.0402\n",
      "[600]\tvalid_0's rmse: 0.532124\tvalid_1's rmse: 1.03589\n",
      "[700]\tvalid_0's rmse: 0.484353\tvalid_1's rmse: 1.03329\n",
      "[800]\tvalid_0's rmse: 0.443087\tvalid_1's rmse: 1.0313\n",
      "[900]\tvalid_0's rmse: 0.407883\tvalid_1's rmse: 1.02986\n",
      "[1000]\tvalid_0's rmse: 0.377062\tvalid_1's rmse: 1.02887\n",
      "[1100]\tvalid_0's rmse: 0.350146\tvalid_1's rmse: 1.02819\n",
      "[1200]\tvalid_0's rmse: 0.326702\tvalid_1's rmse: 1.02762\n",
      "[1300]\tvalid_0's rmse: 0.306294\tvalid_1's rmse: 1.02715\n",
      "[1400]\tvalid_0's rmse: 0.288171\tvalid_1's rmse: 1.02708\n",
      "Early stopping, best iteration is:\n",
      "[1330]\tvalid_0's rmse: 0.300531\tvalid_1's rmse: 1.02704\n"
     ]
    },
    {
     "name": "stderr",
     "output_type": "stream",
     "text": [
      "regularization_factors, val_score: 1.022656: 100%|##########| 20/20 [18:49<00:00, 54.76s/it]\u001b[32m[I 2021-03-08 05:50:49,374]\u001b[0m Trial 62 finished with value: 1.0270406728522565 and parameters: {'lambda_l1': 2.355735568680246, 'lambda_l2': 7.00463908745849e-05}. Best is trial 49 with value: 1.023755205475847.\u001b[0m\n",
      "regularization_factors, val_score: 1.022656: 100%|##########| 20/20 [18:49<00:00, 56.47s/it]\n",
      "min_data_in_leaf, val_score: 1.022656:   0%|          | 0/5 [00:00<?, ?it/s]"
     ]
    },
    {
     "name": "stdout",
     "output_type": "stream",
     "text": [
      "Training until validation scores don't improve for 100 rounds\n",
      "[100]\tvalid_0's rmse: 1.08652\tvalid_1's rmse: 1.21605\n",
      "[200]\tvalid_0's rmse: 0.848356\tvalid_1's rmse: 1.09072\n",
      "[300]\tvalid_0's rmse: 0.725896\tvalid_1's rmse: 1.05652\n",
      "[400]\tvalid_0's rmse: 0.63865\tvalid_1's rmse: 1.04352\n",
      "[500]\tvalid_0's rmse: 0.567958\tvalid_1's rmse: 1.03579\n",
      "[600]\tvalid_0's rmse: 0.508505\tvalid_1's rmse: 1.03119\n",
      "[700]\tvalid_0's rmse: 0.45817\tvalid_1's rmse: 1.02872\n",
      "[800]\tvalid_0's rmse: 0.414892\tvalid_1's rmse: 1.02631\n",
      "[900]\tvalid_0's rmse: 0.377582\tvalid_1's rmse: 1.02495\n",
      "[1000]\tvalid_0's rmse: 0.34542\tvalid_1's rmse: 1.02445\n",
      "[1100]\tvalid_0's rmse: 0.317285\tvalid_1's rmse: 1.02325\n",
      "[1200]\tvalid_0's rmse: 0.292956\tvalid_1's rmse: 1.02312\n",
      "[1300]\tvalid_0's rmse: 0.271856\tvalid_1's rmse: 1.02292\n",
      "[1400]\tvalid_0's rmse: 0.253404\tvalid_1's rmse: 1.02274\n",
      "Early stopping, best iteration is:\n",
      "[1383]\tvalid_0's rmse: 0.256362\tvalid_1's rmse: 1.02266\n"
     ]
    },
    {
     "name": "stderr",
     "output_type": "stream",
     "text": [
      "min_data_in_leaf, val_score: 1.022656:  20%|##        | 1/5 [01:01<04:07, 61.88s/it]\u001b[32m[I 2021-03-08 05:51:51,271]\u001b[0m Trial 63 finished with value: 1.022655576698169 and parameters: {'min_child_samples': 5}. Best is trial 63 with value: 1.022655576698169.\u001b[0m\n",
      "min_data_in_leaf, val_score: 1.022656:  20%|##        | 1/5 [01:01<04:07, 61.88s/it]"
     ]
    },
    {
     "name": "stdout",
     "output_type": "stream",
     "text": [
      "Training until validation scores don't improve for 100 rounds\n",
      "[100]\tvalid_0's rmse: 1.08652\tvalid_1's rmse: 1.21605\n",
      "[200]\tvalid_0's rmse: 0.848356\tvalid_1's rmse: 1.09072\n",
      "[300]\tvalid_0's rmse: 0.725896\tvalid_1's rmse: 1.05652\n",
      "[400]\tvalid_0's rmse: 0.63865\tvalid_1's rmse: 1.04352\n",
      "[500]\tvalid_0's rmse: 0.567958\tvalid_1's rmse: 1.03579\n",
      "[600]\tvalid_0's rmse: 0.508505\tvalid_1's rmse: 1.03119\n",
      "[700]\tvalid_0's rmse: 0.45817\tvalid_1's rmse: 1.02872\n",
      "[800]\tvalid_0's rmse: 0.414892\tvalid_1's rmse: 1.02631\n",
      "[900]\tvalid_0's rmse: 0.377582\tvalid_1's rmse: 1.02495\n",
      "[1000]\tvalid_0's rmse: 0.34542\tvalid_1's rmse: 1.02445\n",
      "[1100]\tvalid_0's rmse: 0.317285\tvalid_1's rmse: 1.02325\n",
      "[1200]\tvalid_0's rmse: 0.292956\tvalid_1's rmse: 1.02312\n",
      "[1300]\tvalid_0's rmse: 0.271856\tvalid_1's rmse: 1.02292\n",
      "[1400]\tvalid_0's rmse: 0.253404\tvalid_1's rmse: 1.02274\n",
      "Early stopping, best iteration is:\n",
      "[1383]\tvalid_0's rmse: 0.256362\tvalid_1's rmse: 1.02266\n"
     ]
    },
    {
     "name": "stderr",
     "output_type": "stream",
     "text": [
      "min_data_in_leaf, val_score: 1.022656:  40%|####      | 2/5 [02:04<03:06, 62.10s/it]\u001b[32m[I 2021-03-08 05:52:53,902]\u001b[0m Trial 64 finished with value: 1.022655576698169 and parameters: {'min_child_samples': 100}. Best is trial 63 with value: 1.022655576698169.\u001b[0m\n",
      "min_data_in_leaf, val_score: 1.022656:  40%|####      | 2/5 [02:04<03:06, 62.10s/it]"
     ]
    },
    {
     "name": "stdout",
     "output_type": "stream",
     "text": [
      "Training until validation scores don't improve for 100 rounds\n",
      "[100]\tvalid_0's rmse: 1.08652\tvalid_1's rmse: 1.21605\n",
      "[200]\tvalid_0's rmse: 0.848356\tvalid_1's rmse: 1.09072\n",
      "[300]\tvalid_0's rmse: 0.725896\tvalid_1's rmse: 1.05652\n",
      "[400]\tvalid_0's rmse: 0.63865\tvalid_1's rmse: 1.04352\n",
      "[500]\tvalid_0's rmse: 0.567958\tvalid_1's rmse: 1.03579\n",
      "[600]\tvalid_0's rmse: 0.508505\tvalid_1's rmse: 1.03119\n",
      "[700]\tvalid_0's rmse: 0.45817\tvalid_1's rmse: 1.02872\n",
      "[800]\tvalid_0's rmse: 0.414892\tvalid_1's rmse: 1.02631\n",
      "[900]\tvalid_0's rmse: 0.377582\tvalid_1's rmse: 1.02495\n",
      "[1000]\tvalid_0's rmse: 0.34542\tvalid_1's rmse: 1.02445\n",
      "[1100]\tvalid_0's rmse: 0.317285\tvalid_1's rmse: 1.02325\n",
      "[1200]\tvalid_0's rmse: 0.292956\tvalid_1's rmse: 1.02312\n",
      "[1300]\tvalid_0's rmse: 0.271856\tvalid_1's rmse: 1.02292\n",
      "[1400]\tvalid_0's rmse: 0.253404\tvalid_1's rmse: 1.02274\n",
      "Early stopping, best iteration is:\n",
      "[1383]\tvalid_0's rmse: 0.256362\tvalid_1's rmse: 1.02266\n"
     ]
    },
    {
     "name": "stderr",
     "output_type": "stream",
     "text": [
      "min_data_in_leaf, val_score: 1.022656:  60%|######    | 3/5 [03:10<02:06, 63.16s/it]\u001b[32m[I 2021-03-08 05:53:59,527]\u001b[0m Trial 65 finished with value: 1.022655576698169 and parameters: {'min_child_samples': 50}. Best is trial 63 with value: 1.022655576698169.\u001b[0m\n",
      "min_data_in_leaf, val_score: 1.022656:  60%|######    | 3/5 [03:10<02:06, 63.16s/it]"
     ]
    },
    {
     "name": "stdout",
     "output_type": "stream",
     "text": [
      "Training until validation scores don't improve for 100 rounds\n",
      "[100]\tvalid_0's rmse: 1.08652\tvalid_1's rmse: 1.21605\n",
      "[200]\tvalid_0's rmse: 0.848356\tvalid_1's rmse: 1.09072\n",
      "[300]\tvalid_0's rmse: 0.725896\tvalid_1's rmse: 1.05652\n",
      "[400]\tvalid_0's rmse: 0.63865\tvalid_1's rmse: 1.04352\n",
      "[500]\tvalid_0's rmse: 0.567958\tvalid_1's rmse: 1.03579\n",
      "[600]\tvalid_0's rmse: 0.508505\tvalid_1's rmse: 1.03119\n",
      "[700]\tvalid_0's rmse: 0.45817\tvalid_1's rmse: 1.02872\n",
      "[800]\tvalid_0's rmse: 0.414892\tvalid_1's rmse: 1.02631\n",
      "[900]\tvalid_0's rmse: 0.377582\tvalid_1's rmse: 1.02495\n",
      "[1000]\tvalid_0's rmse: 0.34542\tvalid_1's rmse: 1.02445\n",
      "[1100]\tvalid_0's rmse: 0.317285\tvalid_1's rmse: 1.02325\n",
      "[1200]\tvalid_0's rmse: 0.292956\tvalid_1's rmse: 1.02312\n",
      "[1300]\tvalid_0's rmse: 0.271856\tvalid_1's rmse: 1.02292\n",
      "[1400]\tvalid_0's rmse: 0.253404\tvalid_1's rmse: 1.02274\n",
      "Early stopping, best iteration is:\n",
      "[1383]\tvalid_0's rmse: 0.256362\tvalid_1's rmse: 1.02266\n"
     ]
    },
    {
     "name": "stderr",
     "output_type": "stream",
     "text": [
      "min_data_in_leaf, val_score: 1.022656:  80%|########  | 4/5 [04:11<01:02, 62.69s/it]\u001b[32m[I 2021-03-08 05:55:01,130]\u001b[0m Trial 66 finished with value: 1.022655576698169 and parameters: {'min_child_samples': 25}. Best is trial 63 with value: 1.022655576698169.\u001b[0m\n",
      "min_data_in_leaf, val_score: 1.022656:  80%|########  | 4/5 [04:11<01:02, 62.69s/it]"
     ]
    },
    {
     "name": "stdout",
     "output_type": "stream",
     "text": [
      "Training until validation scores don't improve for 100 rounds\n",
      "[100]\tvalid_0's rmse: 1.08652\tvalid_1's rmse: 1.21605\n",
      "[200]\tvalid_0's rmse: 0.848356\tvalid_1's rmse: 1.09072\n",
      "[300]\tvalid_0's rmse: 0.725896\tvalid_1's rmse: 1.05652\n",
      "[400]\tvalid_0's rmse: 0.63865\tvalid_1's rmse: 1.04352\n",
      "[500]\tvalid_0's rmse: 0.567958\tvalid_1's rmse: 1.03579\n",
      "[600]\tvalid_0's rmse: 0.508505\tvalid_1's rmse: 1.03119\n",
      "[700]\tvalid_0's rmse: 0.45817\tvalid_1's rmse: 1.02872\n",
      "[800]\tvalid_0's rmse: 0.414892\tvalid_1's rmse: 1.02631\n",
      "[900]\tvalid_0's rmse: 0.377582\tvalid_1's rmse: 1.02495\n",
      "[1000]\tvalid_0's rmse: 0.34542\tvalid_1's rmse: 1.02445\n",
      "[1100]\tvalid_0's rmse: 0.317285\tvalid_1's rmse: 1.02325\n",
      "[1200]\tvalid_0's rmse: 0.292956\tvalid_1's rmse: 1.02312\n",
      "[1300]\tvalid_0's rmse: 0.271856\tvalid_1's rmse: 1.02292\n",
      "[1400]\tvalid_0's rmse: 0.253404\tvalid_1's rmse: 1.02274\n",
      "Early stopping, best iteration is:\n",
      "[1383]\tvalid_0's rmse: 0.256362\tvalid_1's rmse: 1.02266\n"
     ]
    },
    {
     "name": "stderr",
     "output_type": "stream",
     "text": [
      "min_data_in_leaf, val_score: 1.022656: 100%|##########| 5/5 [05:13<00:00, 62.43s/it]\u001b[32m[I 2021-03-08 05:56:02,958]\u001b[0m Trial 67 finished with value: 1.022655576698169 and parameters: {'min_child_samples': 10}. Best is trial 63 with value: 1.022655576698169.\u001b[0m\n",
      "min_data_in_leaf, val_score: 1.022656: 100%|##########| 5/5 [05:13<00:00, 62.72s/it]\n"
     ]
    },
    {
     "name": "stdout",
     "output_type": "stream",
     "text": [
      "Fold 4 rmsle: 1.0227\n",
      "ALL likes rmsle:  1.0231\n"
     ]
    }
   ],
   "source": [
    "from fe import target_encoding\n",
    "from lgbm import LGBM\n",
    "\n",
    "lgbm = LGBM(train=train,\n",
    "  test=test,\n",
    "  target='likes',\n",
    "  use_col=use_col,\n",
    "  cat_col=cat_col,\n",
    "  cfg=cfg,\n",
    "  OUTPUT_DIR=OUTPUT_DIR,\n",
    "  DO_FIT=True,\n",
    "  DO_SEED_AVE=False,\n",
    "  DEBUG=False,\n",
    "  is_target_log=True)\n",
    "\n",
    "feature_importance_df, order = lgbm.feature_importance(PLOT=False)"
   ]
  },
  {
   "cell_type": "code",
   "execution_count": 46,
   "metadata": {},
   "outputs": [
    {
     "data": {
      "text/html": [
       "<div>\n",
       "<style scoped>\n",
       "    .dataframe tbody tr th:only-of-type {\n",
       "        vertical-align: middle;\n",
       "    }\n",
       "\n",
       "    .dataframe tbody tr th {\n",
       "        vertical-align: top;\n",
       "    }\n",
       "\n",
       "    .dataframe thead th {\n",
       "        text-align: right;\n",
       "    }\n",
       "</style>\n",
       "<table border=\"1\" class=\"dataframe\">\n",
       "  <thead>\n",
       "    <tr style=\"text-align: right;\">\n",
       "      <th></th>\n",
       "      <th>subtitle_h</th>\n",
       "      <th>area</th>\n",
       "      <th>subtitle_w</th>\n",
       "      <th>principal_or_first_maker_target_enc</th>\n",
       "      <th>principal_maker_target_enc</th>\n",
       "      <th>principal_maker</th>\n",
       "      <th>principal_or_first_maker</th>\n",
       "      <th>dating_year_early</th>\n",
       "      <th>AcquisitionDate_year</th>\n",
       "      <th>StringLength__more_title</th>\n",
       "      <th>...</th>\n",
       "      <th>LongTitleEmb_pca_9</th>\n",
       "      <th>LongTitleEmb_pca_110</th>\n",
       "      <th>LongTitleEmb_pca_92</th>\n",
       "      <th>LongTitleEmb_pca_51</th>\n",
       "      <th>LongTitleEmb_pca_34</th>\n",
       "      <th>LongTitleEmb_pca_233</th>\n",
       "      <th>LongTitleEmb_pca_168</th>\n",
       "      <th>LongTitleEmb_pca_114</th>\n",
       "      <th>LongTitleEmb_pca_116</th>\n",
       "      <th>LongTitleEmb_pca_202</th>\n",
       "    </tr>\n",
       "  </thead>\n",
       "  <tbody>\n",
       "    <tr>\n",
       "      <th>fold_0</th>\n",
       "      <td>153084.912009</td>\n",
       "      <td>85986.476079</td>\n",
       "      <td>102455.469343</td>\n",
       "      <td>30495.589120</td>\n",
       "      <td>29881.919158</td>\n",
       "      <td>21581.062872</td>\n",
       "      <td>16220.529519</td>\n",
       "      <td>8840.653505</td>\n",
       "      <td>9395.895997</td>\n",
       "      <td>4632.490572</td>\n",
       "      <td>...</td>\n",
       "      <td>1523.975492</td>\n",
       "      <td>1550.746650</td>\n",
       "      <td>1144.527135</td>\n",
       "      <td>1798.171494</td>\n",
       "      <td>2000.714953</td>\n",
       "      <td>1350.468512</td>\n",
       "      <td>1819.085970</td>\n",
       "      <td>1583.504136</td>\n",
       "      <td>2159.750048</td>\n",
       "      <td>1499.749589</td>\n",
       "    </tr>\n",
       "    <tr>\n",
       "      <th>fold_1</th>\n",
       "      <td>238815.700702</td>\n",
       "      <td>140731.837393</td>\n",
       "      <td>98070.853991</td>\n",
       "      <td>46655.140490</td>\n",
       "      <td>31063.930407</td>\n",
       "      <td>16831.056378</td>\n",
       "      <td>18044.527926</td>\n",
       "      <td>12510.869863</td>\n",
       "      <td>9846.826468</td>\n",
       "      <td>6935.112772</td>\n",
       "      <td>...</td>\n",
       "      <td>1680.750585</td>\n",
       "      <td>1670.551317</td>\n",
       "      <td>1565.633961</td>\n",
       "      <td>1908.150827</td>\n",
       "      <td>1930.022289</td>\n",
       "      <td>1387.905968</td>\n",
       "      <td>1272.356652</td>\n",
       "      <td>1806.562370</td>\n",
       "      <td>2111.330991</td>\n",
       "      <td>1962.072143</td>\n",
       "    </tr>\n",
       "    <tr>\n",
       "      <th>fold_2</th>\n",
       "      <td>225859.048871</td>\n",
       "      <td>122832.170228</td>\n",
       "      <td>166776.676429</td>\n",
       "      <td>43671.296086</td>\n",
       "      <td>39639.813657</td>\n",
       "      <td>25590.524319</td>\n",
       "      <td>23195.217248</td>\n",
       "      <td>13963.795828</td>\n",
       "      <td>13701.792314</td>\n",
       "      <td>7177.894914</td>\n",
       "      <td>...</td>\n",
       "      <td>1600.791239</td>\n",
       "      <td>2162.438337</td>\n",
       "      <td>1770.320691</td>\n",
       "      <td>1859.717522</td>\n",
       "      <td>2515.929151</td>\n",
       "      <td>1353.176198</td>\n",
       "      <td>1089.521200</td>\n",
       "      <td>1361.751919</td>\n",
       "      <td>2200.752924</td>\n",
       "      <td>1566.369804</td>\n",
       "    </tr>\n",
       "    <tr>\n",
       "      <th>fold_3</th>\n",
       "      <td>208788.390797</td>\n",
       "      <td>132792.655794</td>\n",
       "      <td>116743.330773</td>\n",
       "      <td>35601.103838</td>\n",
       "      <td>37566.931598</td>\n",
       "      <td>26596.259110</td>\n",
       "      <td>22570.538706</td>\n",
       "      <td>9389.869580</td>\n",
       "      <td>12397.936075</td>\n",
       "      <td>4594.195424</td>\n",
       "      <td>...</td>\n",
       "      <td>1350.863366</td>\n",
       "      <td>1471.798452</td>\n",
       "      <td>847.751484</td>\n",
       "      <td>1055.414364</td>\n",
       "      <td>2134.601741</td>\n",
       "      <td>992.319624</td>\n",
       "      <td>1173.449020</td>\n",
       "      <td>1135.727270</td>\n",
       "      <td>1500.768218</td>\n",
       "      <td>947.259588</td>\n",
       "    </tr>\n",
       "    <tr>\n",
       "      <th>fold_4</th>\n",
       "      <td>333881.045672</td>\n",
       "      <td>115668.619607</td>\n",
       "      <td>60164.246690</td>\n",
       "      <td>37178.887590</td>\n",
       "      <td>29299.055265</td>\n",
       "      <td>23886.593310</td>\n",
       "      <td>20243.042356</td>\n",
       "      <td>11359.487037</td>\n",
       "      <td>8231.628956</td>\n",
       "      <td>6908.606254</td>\n",
       "      <td>...</td>\n",
       "      <td>1823.737622</td>\n",
       "      <td>1810.913169</td>\n",
       "      <td>1797.163742</td>\n",
       "      <td>1795.572166</td>\n",
       "      <td>1786.281933</td>\n",
       "      <td>1769.349828</td>\n",
       "      <td>1761.365132</td>\n",
       "      <td>1747.731212</td>\n",
       "      <td>1747.534020</td>\n",
       "      <td>1743.756236</td>\n",
       "    </tr>\n",
       "  </tbody>\n",
       "</table>\n",
       "<p>5 rows × 50 columns</p>\n",
       "</div>"
      ],
      "text/plain": [
       "           subtitle_h           area     subtitle_w  \\\n",
       "fold_0  153084.912009   85986.476079  102455.469343   \n",
       "fold_1  238815.700702  140731.837393   98070.853991   \n",
       "fold_2  225859.048871  122832.170228  166776.676429   \n",
       "fold_3  208788.390797  132792.655794  116743.330773   \n",
       "fold_4  333881.045672  115668.619607   60164.246690   \n",
       "\n",
       "        principal_or_first_maker_target_enc  principal_maker_target_enc  \\\n",
       "fold_0                         30495.589120                29881.919158   \n",
       "fold_1                         46655.140490                31063.930407   \n",
       "fold_2                         43671.296086                39639.813657   \n",
       "fold_3                         35601.103838                37566.931598   \n",
       "fold_4                         37178.887590                29299.055265   \n",
       "\n",
       "        principal_maker  principal_or_first_maker  dating_year_early  \\\n",
       "fold_0     21581.062872              16220.529519        8840.653505   \n",
       "fold_1     16831.056378              18044.527926       12510.869863   \n",
       "fold_2     25590.524319              23195.217248       13963.795828   \n",
       "fold_3     26596.259110              22570.538706        9389.869580   \n",
       "fold_4     23886.593310              20243.042356       11359.487037   \n",
       "\n",
       "        AcquisitionDate_year  StringLength__more_title  ...  \\\n",
       "fold_0           9395.895997               4632.490572  ...   \n",
       "fold_1           9846.826468               6935.112772  ...   \n",
       "fold_2          13701.792314               7177.894914  ...   \n",
       "fold_3          12397.936075               4594.195424  ...   \n",
       "fold_4           8231.628956               6908.606254  ...   \n",
       "\n",
       "        LongTitleEmb_pca_9  LongTitleEmb_pca_110  LongTitleEmb_pca_92  \\\n",
       "fold_0         1523.975492           1550.746650          1144.527135   \n",
       "fold_1         1680.750585           1670.551317          1565.633961   \n",
       "fold_2         1600.791239           2162.438337          1770.320691   \n",
       "fold_3         1350.863366           1471.798452           847.751484   \n",
       "fold_4         1823.737622           1810.913169          1797.163742   \n",
       "\n",
       "        LongTitleEmb_pca_51  LongTitleEmb_pca_34  LongTitleEmb_pca_233  \\\n",
       "fold_0          1798.171494          2000.714953           1350.468512   \n",
       "fold_1          1908.150827          1930.022289           1387.905968   \n",
       "fold_2          1859.717522          2515.929151           1353.176198   \n",
       "fold_3          1055.414364          2134.601741            992.319624   \n",
       "fold_4          1795.572166          1786.281933           1769.349828   \n",
       "\n",
       "        LongTitleEmb_pca_168  LongTitleEmb_pca_114  LongTitleEmb_pca_116  \\\n",
       "fold_0           1819.085970           1583.504136           2159.750048   \n",
       "fold_1           1272.356652           1806.562370           2111.330991   \n",
       "fold_2           1089.521200           1361.751919           2200.752924   \n",
       "fold_3           1173.449020           1135.727270           1500.768218   \n",
       "fold_4           1761.365132           1747.731212           1747.534020   \n",
       "\n",
       "        LongTitleEmb_pca_202  \n",
       "fold_0           1499.749589  \n",
       "fold_1           1962.072143  \n",
       "fold_2           1566.369804  \n",
       "fold_3            947.259588  \n",
       "fold_4           1743.756236  \n",
       "\n",
       "[5 rows x 50 columns]"
      ]
     },
     "metadata": {},
     "output_type": "display_data"
    }
   ],
   "source": [
    "os.makedirs(f\"{OUTPUT_DIR}/imp\", exist_ok=True)\n",
    "feature_importance_df[order[:50]].to_csv(f\"{OUTPUT_DIR}/imp/importance.csv\")\n",
    "display(feature_importance_df[order[:50]])"
   ]
  },
  {
   "cell_type": "code",
   "execution_count": 47,
   "metadata": {},
   "outputs": [],
   "source": [
    "from make_data import make_oof\n",
    "oof_df = make_oof(OUTPUT_DIR=OUTPUT_DIR, TARGET=cfg['target'])"
   ]
  },
  {
   "cell_type": "code",
   "execution_count": 48,
   "metadata": {},
   "outputs": [],
   "source": [
    "# from score import calc_macro_auc\n",
    "# score = calc_macro_auc(train_target_df=train_target_df, oof_df=oof_df, order_list=TARGET_IDS)"
   ]
  },
  {
   "cell_type": "code",
   "execution_count": 49,
   "metadata": {},
   "outputs": [],
   "source": [
    "sample_sub = pd.read_csv('../../data/atmacup10__sample_submission.csv')"
   ]
  },
  {
   "cell_type": "code",
   "execution_count": 50,
   "metadata": {},
   "outputs": [
    {
     "name": "stdout",
     "output_type": "stream",
     "text": [
      "QUick Sub\n",
      "sh sub.sh output/20210308014055_17_lgbtuner/pred/pred_likes_1.0231.csv\n"
     ]
    }
   ],
   "source": [
    "from make_data import make_sub\n",
    "sub_df = make_sub(sample_sub=sample_sub, TARGET_NAME=cfg['target'], TRIAL_NAME=TRIAL_NAME, OUTPUT_DIR=OUTPUT_DIR, cv_score=lgbm.score)"
   ]
  },
  {
   "cell_type": "code",
   "execution_count": 51,
   "metadata": {},
   "outputs": [
    {
     "data": {
      "text/html": [
       "<div>\n",
       "<style scoped>\n",
       "    .dataframe tbody tr th:only-of-type {\n",
       "        vertical-align: middle;\n",
       "    }\n",
       "\n",
       "    .dataframe tbody tr th {\n",
       "        vertical-align: top;\n",
       "    }\n",
       "\n",
       "    .dataframe thead th {\n",
       "        text-align: right;\n",
       "    }\n",
       "</style>\n",
       "<table border=\"1\" class=\"dataframe\">\n",
       "  <thead>\n",
       "    <tr style=\"text-align: right;\">\n",
       "      <th></th>\n",
       "      <th>likes</th>\n",
       "    </tr>\n",
       "  </thead>\n",
       "  <tbody>\n",
       "    <tr>\n",
       "      <th>count</th>\n",
       "      <td>12008.000000</td>\n",
       "    </tr>\n",
       "    <tr>\n",
       "      <th>mean</th>\n",
       "      <td>19.743470</td>\n",
       "    </tr>\n",
       "    <tr>\n",
       "      <th>std</th>\n",
       "      <td>53.763463</td>\n",
       "    </tr>\n",
       "    <tr>\n",
       "      <th>min</th>\n",
       "      <td>0.000000</td>\n",
       "    </tr>\n",
       "    <tr>\n",
       "      <th>25%</th>\n",
       "      <td>1.057192</td>\n",
       "    </tr>\n",
       "    <tr>\n",
       "      <th>50%</th>\n",
       "      <td>2.438022</td>\n",
       "    </tr>\n",
       "    <tr>\n",
       "      <th>75%</th>\n",
       "      <td>6.062300</td>\n",
       "    </tr>\n",
       "    <tr>\n",
       "      <th>max</th>\n",
       "      <td>1059.598011</td>\n",
       "    </tr>\n",
       "  </tbody>\n",
       "</table>\n",
       "</div>"
      ],
      "text/plain": [
       "              likes\n",
       "count  12008.000000\n",
       "mean      19.743470\n",
       "std       53.763463\n",
       "min        0.000000\n",
       "25%        1.057192\n",
       "50%        2.438022\n",
       "75%        6.062300\n",
       "max     1059.598011"
      ]
     },
     "execution_count": 51,
     "metadata": {},
     "output_type": "execute_result"
    }
   ],
   "source": [
    "sub_df.describe()"
   ]
  },
  {
   "cell_type": "code",
   "execution_count": 52,
   "metadata": {},
   "outputs": [
    {
     "data": {
      "image/png": "[encoded data removed]",
      "text/plain": [
       "<Figure size 432x288 with 1 Axes>"
      ]
     },
     "metadata": {
      "needs_background": "light"
     },
     "output_type": "display_data"
    }
   ],
   "source": [
    "from make_fig import make_dist_oof_pred\n",
    "make_dist_oof_pred(oof_df=oof_df,sub_df=sub_df,OUTPUT_DIR=OUTPUT_DIR)"
   ]
  },
  {
   "cell_type": "code",
   "execution_count": null,
   "metadata": {},
   "outputs": [],
   "source": []
  }
 ],
 "metadata": {
  "kernelspec": {
   "display_name": "Python 3",
   "language": "python",
   "name": "python3"
  },
  "language_info": {
   "codemirror_mode": {
    "name": "ipython",
    "version": 3
   },
   "file_extension": ".py",
   "mimetype": "text/x-python",
   "name": "python",
   "nbconvert_exporter": "python",
   "pygments_lexer": "ipython3",
   "version": "3.8.3"
  },
  "widgets": {
   "application/vnd.jupyter.widget-state+json": {
    "state": {
     "372944b10bb44757b2ccb3610387e26f": {
      "model_module": "@jupyter-widgets/controls",
      "model_module_version": "1.5.0",
      "model_name": "ProgressStyleModel",
      "state": {
       "_model_module": "@jupyter-widgets/controls",
       "_model_module_version": "1.5.0",
       "_model_name": "ProgressStyleModel",
       "_view_count": null,
       "_view_module": "@jupyter-widgets/base",
       "_view_module_version": "1.2.0",
       "_view_name": "StyleView",
       "bar_color": null,
       "description_width": ""
      }
     },
     "57fe5f47a7a348a59055f31192c93182": {
      "model_module": "@jupyter-widgets/controls",
      "model_module_version": "1.5.0",
      "model_name": "LabelModel",
      "state": {
       "_dom_classes": [],
       "_model_module": "@jupyter-widgets/controls",
       "_model_module_version": "1.5.0",
       "_model_name": "LabelModel",
       "_view_count": null,
       "_view_module": "@jupyter-widgets/controls",
       "_view_module_version": "1.5.0",
       "_view_name": "LabelView",
       "description": "",
       "description_tooltip": null,
       "layout": "IPY_MODEL_a0a129d6d0cd4df9b18699d9ef979653",
       "placeholder": "​",
       "style": "IPY_MODEL_6d1dabf4bdf3406e96a250dfda3efcbf",
       "value": ""
      }
     },
     "6d1dabf4bdf3406e96a250dfda3efcbf": {
      "model_module": "@jupyter-widgets/controls",
      "model_module_version": "1.5.0",
      "model_name": "DescriptionStyleModel",
      "state": {
       "_model_module": "@jupyter-widgets/controls",
       "_model_module_version": "1.5.0",
       "_model_name": "DescriptionStyleModel",
       "_view_count": null,
       "_view_module": "@jupyter-widgets/base",
       "_view_module_version": "1.2.0",
       "_view_name": "StyleView",
       "description_width": ""
      }
     },
     "7a8f44d031554b249194227028c67e09": {
      "model_module": "@jupyter-widgets/base",
      "model_module_version": "1.2.0",
      "model_name": "LayoutModel",
      "state": {
       "_model_module": "@jupyter-widgets/base",
       "_model_module_version": "1.2.0",
       "_model_name": "LayoutModel",
       "_view_count": null,
       "_view_module": "@jupyter-widgets/base",
       "_view_module_version": "1.2.0",
       "_view_name": "LayoutView",
       "align_content": null,
       "align_items": null,
       "align_self": null,
       "border": null,
       "bottom": null,
       "display": null,
       "flex": null,
       "flex_flow": null,
       "grid_area": null,
       "grid_auto_columns": null,
       "grid_auto_flow": null,
       "grid_auto_rows": null,
       "grid_column": null,
       "grid_gap": null,
       "grid_row": null,
       "grid_template_areas": null,
       "grid_template_columns": null,
       "grid_template_rows": null,
       "height": null,
       "justify_content": null,
       "justify_items": null,
       "left": null,
       "margin": null,
       "max_height": null,
       "max_width": null,
       "min_height": null,
       "min_width": null,
       "object_fit": null,
       "object_position": null,
       "order": null,
       "overflow": null,
       "overflow_x": null,
       "overflow_y": null,
       "padding": null,
       "right": null,
       "top": null,
       "visibility": null,
       "width": null
      }
     },
     "931a490e8f5649d39e41821b3d724cb4": {
      "model_module": "@jupyter-widgets/base",
      "model_module_version": "1.2.0",
      "model_name": "LayoutModel",
      "state": {
       "_model_module": "@jupyter-widgets/base",
       "_model_module_version": "1.2.0",
       "_model_name": "LayoutModel",
       "_view_count": null,
       "_view_module": "@jupyter-widgets/base",
       "_view_module_version": "1.2.0",
       "_view_name": "LayoutView",
       "align_content": null,
       "align_items": null,
       "align_self": null,
       "border": null,
       "bottom": null,
       "display": null,
       "flex": null,
       "flex_flow": null,
       "grid_area": null,
       "grid_auto_columns": null,
       "grid_auto_flow": null,
       "grid_auto_rows": null,
       "grid_column": null,
       "grid_gap": null,
       "grid_row": null,
       "grid_template_areas": null,
       "grid_template_columns": null,
       "grid_template_rows": null,
       "height": null,
       "justify_content": null,
       "justify_items": null,
       "left": null,
       "margin": null,
       "max_height": null,
       "max_width": null,
       "min_height": null,
       "min_width": null,
       "object_fit": null,
       "object_position": null,
       "order": null,
       "overflow": null,
       "overflow_x": null,
       "overflow_y": null,
       "padding": null,
       "right": null,
       "top": null,
       "visibility": null,
       "width": null
      }
     },
     "a0a129d6d0cd4df9b18699d9ef979653": {
      "model_module": "@jupyter-widgets/base",
      "model_module_version": "1.2.0",
      "model_name": "LayoutModel",
      "state": {
       "_model_module": "@jupyter-widgets/base",
       "_model_module_version": "1.2.0",
       "_model_name": "LayoutModel",
       "_view_count": null,
       "_view_module": "@jupyter-widgets/base",
       "_view_module_version": "1.2.0",
       "_view_name": "LayoutView",
       "align_content": null,
       "align_items": null,
       "align_self": null,
       "border": null,
       "bottom": null,
       "display": null,
       "flex": null,
       "flex_flow": null,
       "grid_area": null,
       "grid_auto_columns": null,
       "grid_auto_flow": null,
       "grid_auto_rows": null,
       "grid_column": null,
       "grid_gap": null,
       "grid_row": null,
       "grid_template_areas": null,
       "grid_template_columns": null,
       "grid_template_rows": null,
       "height": null,
       "justify_content": null,
       "justify_items": null,
       "left": null,
       "margin": null,
       "max_height": null,
       "max_width": null,
       "min_height": null,
       "min_width": null,
       "object_fit": null,
       "object_position": null,
       "order": null,
       "overflow": null,
       "overflow_x": null,
       "overflow_y": null,
       "padding": null,
       "right": null,
       "top": null,
       "visibility": null,
       "width": null
      }
     },
     "c308a2db02e448789d56359a1116fa11": {
      "model_module": "@jupyter-widgets/controls",
      "model_module_version": "1.5.0",
      "model_name": "FloatProgressModel",
      "state": {
       "_dom_classes": [],
       "_model_module": "@jupyter-widgets/controls",
       "_model_module_version": "1.5.0",
       "_model_name": "FloatProgressModel",
       "_view_count": null,
       "_view_module": "@jupyter-widgets/controls",
       "_view_module_version": "1.5.0",
       "_view_name": "ProgressView",
       "bar_style": "",
       "description": "",
       "description_tooltip": null,
       "layout": "IPY_MODEL_7a8f44d031554b249194227028c67e09",
       "max": 1,
       "min": 0,
       "orientation": "horizontal",
       "style": "IPY_MODEL_372944b10bb44757b2ccb3610387e26f",
       "value": 0
      }
     },
     "d87dcd08d73d42b7868bbe33ff33697b": {
      "model_module": "@jupyter-widgets/controls",
      "model_module_version": "1.5.0",
      "model_name": "VBoxModel",
      "state": {
       "_dom_classes": [],
       "_model_module": "@jupyter-widgets/controls",
       "_model_module_version": "1.5.0",
       "_model_name": "VBoxModel",
       "_view_count": null,
       "_view_module": "@jupyter-widgets/controls",
       "_view_module_version": "1.5.0",
       "_view_name": "VBoxView",
       "box_style": "",
       "children": [
        "IPY_MODEL_57fe5f47a7a348a59055f31192c93182",
        "IPY_MODEL_c308a2db02e448789d56359a1116fa11"
       ],
       "layout": "IPY_MODEL_931a490e8f5649d39e41821b3d724cb4"
      }
     }
    },
    "version_major": 2,
    "version_minor": 0
   }
  }
 },
 "nbformat": 4,
 "nbformat_minor": 4
}