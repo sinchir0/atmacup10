{
 "cells": [
  {
   "cell_type": "code",
   "execution_count": 79,
   "metadata": {},
   "outputs": [],
   "source": [
    "# %load_ext autoreload\n",
    "# %autoreload 2"
   ]
  },
  {
   "cell_type": "markdown",
   "metadata": {},
   "source": [
    "# Set Trial Name"
   ]
  },
  {
   "cell_type": "code",
   "execution_count": 80,
   "metadata": {},
   "outputs": [],
   "source": [
    "TRIAL_NAME = \"2_bin_stratified\"\n",
    "\n",
    "import datetime\n",
    "import pytz\n",
    "NOW = datetime.datetime.now(pytz.timezone('Asia/Tokyo')).strftime('%Y%m%d%H%M%S')"
   ]
  },
  {
   "cell_type": "markdown",
   "metadata": {},
   "source": [
    "# Load yaml"
   ]
  },
  {
   "cell_type": "code",
   "execution_count": 81,
   "metadata": {},
   "outputs": [],
   "source": [
    "import yaml\n",
    "CONFIG_DIR = '../config'\n",
    "with open(f'{CONFIG_DIR}/run000.yml') as file:\n",
    "    cfg = yaml.safe_load(file)\n",
    "\n",
    "import sys\n",
    "sys.path.append(cfg['SRC_DIR'])\n",
    "cfg['run_name'] = TRIAL_NAME"
   ]
  },
  {
   "cell_type": "markdown",
   "metadata": {},
   "source": [
    "# fix seed"
   ]
  },
  {
   "cell_type": "code",
   "execution_count": 82,
   "metadata": {},
   "outputs": [],
   "source": [
    "from util import seed_everything\n",
    "seed_everything(seed=33, use_torch=False)"
   ]
  },
  {
   "cell_type": "markdown",
   "metadata": {},
   "source": [
    "# Make Output Folder"
   ]
  },
  {
   "cell_type": "code",
   "execution_count": 83,
   "metadata": {},
   "outputs": [],
   "source": [
    "import os\n",
    "OUTPUT_DIR = f'../../output/{NOW}_{TRIAL_NAME}'\n",
    "os.makedirs(OUTPUT_DIR, exist_ok=True)"
   ]
  },
  {
   "cell_type": "markdown",
   "metadata": {},
   "source": [
    "# Load Model"
   ]
  },
  {
   "cell_type": "code",
   "execution_count": 84,
   "metadata": {},
   "outputs": [],
   "source": [
    "import pandas as pd\n",
    "sub = pd.read_csv('../../data/atmacup10__sample_submission.csv')\n",
    "color = pd.read_csv('../../data/color.csv')\n",
    "historical_person = pd.read_csv('../../data/historical_person.csv')\n",
    "maker = pd.read_csv('../../data/maker.csv')\n",
    "material = pd.read_csv('../../data/material.csv')\n",
    "object_collection = pd.read_csv('../../data/object_collection.csv')\n",
    "palette = pd.read_csv('../../data/palette.csv')\n",
    "principal_maker_occupation = pd.read_csv('../../data/principal_maker_occupation.csv')\n",
    "principal_maker = pd.read_csv('../../data/principal_maker.csv')\n",
    "production_place = pd.read_csv('../../data/production_place.csv')\n",
    "technique = pd.read_csv('../../data/technique.csv')\n",
    "test = pd.read_csv('../../data/test.csv')\n",
    "train = pd.read_csv('../../data/train.csv')"
   ]
  },
  {
   "cell_type": "markdown",
   "metadata": {},
   "source": [
    "# train"
   ]
  },
  {
   "cell_type": "code",
   "execution_count": 85,
   "metadata": {},
   "outputs": [
    {
     "data": {
      "text/html": [
       "<div>\n",
       "<style scoped>\n",
       "    .dataframe tbody tr th:only-of-type {\n",
       "        vertical-align: middle;\n",
       "    }\n",
       "\n",
       "    .dataframe tbody tr th {\n",
       "        vertical-align: top;\n",
       "    }\n",
       "\n",
       "    .dataframe thead th {\n",
       "        text-align: right;\n",
       "    }\n",
       "</style>\n",
       "<table border=\"1\" class=\"dataframe\">\n",
       "  <thead>\n",
       "    <tr style=\"text-align: right;\">\n",
       "      <th></th>\n",
       "      <th>object_id</th>\n",
       "      <th>art_series_id</th>\n",
       "      <th>title</th>\n",
       "      <th>description</th>\n",
       "      <th>long_title</th>\n",
       "      <th>principal_maker</th>\n",
       "      <th>principal_or_first_maker</th>\n",
       "      <th>sub_title</th>\n",
       "      <th>copyright_holder</th>\n",
       "      <th>more_title</th>\n",
       "      <th>acquisition_method</th>\n",
       "      <th>acquisition_date</th>\n",
       "      <th>acquisition_credit_line</th>\n",
       "      <th>dating_presenting_date</th>\n",
       "      <th>dating_sorting_date</th>\n",
       "      <th>dating_period</th>\n",
       "      <th>dating_year_early</th>\n",
       "      <th>dating_year_late</th>\n",
       "      <th>likes</th>\n",
       "    </tr>\n",
       "  </thead>\n",
       "  <tbody>\n",
       "    <tr>\n",
       "      <th>0</th>\n",
       "      <td>0011d6be41612ec9eae3</td>\n",
       "      <td>93c092ba70beab248f31</td>\n",
       "      <td>The Avenue of Birches</td>\n",
       "      <td>NaN</td>\n",
       "      <td>The Avenue of Birches, Jan Hackaert, 1660 - 1685</td>\n",
       "      <td>Jan Hackaert</td>\n",
       "      <td>Jan Hackaert</td>\n",
       "      <td>h 66.5cm × w 53.7cm × t 2.5cm × d 4.7cm</td>\n",
       "      <td>NaN</td>\n",
       "      <td>The Avenue of Birches</td>\n",
       "      <td>purchase</td>\n",
       "      <td>1808-01-01T00:00:00</td>\n",
       "      <td>NaN</td>\n",
       "      <td>1660 - 1685</td>\n",
       "      <td>1660.0</td>\n",
       "      <td>17</td>\n",
       "      <td>1660.0</td>\n",
       "      <td>1685.0</td>\n",
       "      <td>48</td>\n",
       "    </tr>\n",
       "    <tr>\n",
       "      <th>1</th>\n",
       "      <td>0012765f7a97ccc3e9e9</td>\n",
       "      <td>95c14fb11c54281ad7e0</td>\n",
       "      <td>Struik in bloei</td>\n",
       "      <td>NaN</td>\n",
       "      <td>Struik in bloei, Richard Tepe (attributed to),...</td>\n",
       "      <td>Richard Tepe</td>\n",
       "      <td>Richard Tepe</td>\n",
       "      <td>h 165mm × w 223mm</td>\n",
       "      <td>erven Richard Tepe</td>\n",
       "      <td>Struik in bloei</td>\n",
       "      <td>purchase</td>\n",
       "      <td>2000-01-01T00:00:00</td>\n",
       "      <td>NaN</td>\n",
       "      <td>c. 1900 - c. 1930</td>\n",
       "      <td>1900.0</td>\n",
       "      <td>19</td>\n",
       "      <td>1900.0</td>\n",
       "      <td>1930.0</td>\n",
       "      <td>2</td>\n",
       "    </tr>\n",
       "  </tbody>\n",
       "</table>\n",
       "</div>"
      ],
      "text/plain": [
       "              object_id         art_series_id                  title  \\\n",
       "0  0011d6be41612ec9eae3  93c092ba70beab248f31  The Avenue of Birches   \n",
       "1  0012765f7a97ccc3e9e9  95c14fb11c54281ad7e0        Struik in bloei   \n",
       "\n",
       "  description                                         long_title  \\\n",
       "0         NaN   The Avenue of Birches, Jan Hackaert, 1660 - 1685   \n",
       "1         NaN  Struik in bloei, Richard Tepe (attributed to),...   \n",
       "\n",
       "  principal_maker principal_or_first_maker  \\\n",
       "0    Jan Hackaert             Jan Hackaert   \n",
       "1    Richard Tepe             Richard Tepe   \n",
       "\n",
       "                                 sub_title    copyright_holder  \\\n",
       "0  h 66.5cm × w 53.7cm × t 2.5cm × d 4.7cm                 NaN   \n",
       "1                        h 165mm × w 223mm  erven Richard Tepe   \n",
       "\n",
       "              more_title acquisition_method     acquisition_date  \\\n",
       "0  The Avenue of Birches           purchase  1808-01-01T00:00:00   \n",
       "1        Struik in bloei           purchase  2000-01-01T00:00:00   \n",
       "\n",
       "  acquisition_credit_line dating_presenting_date  dating_sorting_date  \\\n",
       "0                     NaN            1660 - 1685               1660.0   \n",
       "1                     NaN      c. 1900 - c. 1930               1900.0   \n",
       "\n",
       "   dating_period  dating_year_early  dating_year_late  likes  \n",
       "0             17             1660.0            1685.0     48  \n",
       "1             19             1900.0            1930.0      2  "
      ]
     },
     "execution_count": 85,
     "metadata": {},
     "output_type": "execute_result"
    }
   ],
   "source": [
    "train.head(2)"
   ]
  },
  {
   "cell_type": "code",
   "execution_count": 88,
   "metadata": {},
   "outputs": [
    {
     "data": {
      "text/html": [
       "<div>\n",
       "<style scoped>\n",
       "    .dataframe tbody tr th:only-of-type {\n",
       "        vertical-align: middle;\n",
       "    }\n",
       "\n",
       "    .dataframe tbody tr th {\n",
       "        vertical-align: top;\n",
       "    }\n",
       "\n",
       "    .dataframe thead th {\n",
       "        text-align: right;\n",
       "    }\n",
       "</style>\n",
       "<table border=\"1\" class=\"dataframe\">\n",
       "  <thead>\n",
       "    <tr style=\"text-align: right;\">\n",
       "      <th></th>\n",
       "      <th>object_id</th>\n",
       "      <th>art_series_id</th>\n",
       "      <th>title</th>\n",
       "      <th>description</th>\n",
       "      <th>long_title</th>\n",
       "      <th>principal_maker</th>\n",
       "      <th>principal_or_first_maker</th>\n",
       "      <th>sub_title</th>\n",
       "      <th>copyright_holder</th>\n",
       "      <th>more_title</th>\n",
       "      <th>acquisition_method</th>\n",
       "      <th>acquisition_date</th>\n",
       "      <th>acquisition_credit_line</th>\n",
       "      <th>dating_presenting_date</th>\n",
       "      <th>dating_sorting_date</th>\n",
       "      <th>dating_period</th>\n",
       "      <th>dating_year_early</th>\n",
       "      <th>dating_year_late</th>\n",
       "    </tr>\n",
       "  </thead>\n",
       "  <tbody>\n",
       "    <tr>\n",
       "      <th>0</th>\n",
       "      <td>000405d9a5e3f49fc49d</td>\n",
       "      <td>a2aabd3cc8859f4260ad</td>\n",
       "      <td>Twee personen voor de Duizendjarige den te Wol...</td>\n",
       "      <td>NaN</td>\n",
       "      <td>Twee personen voor de Duizendjarige den te Wol...</td>\n",
       "      <td>Bernardus Bruining</td>\n",
       "      <td>Bernardus Bruining</td>\n",
       "      <td>h 167mm × w 108mm</td>\n",
       "      <td>NaN</td>\n",
       "      <td>Twee personen voor de Duizendjarige den te Wol...</td>\n",
       "      <td>transfer</td>\n",
       "      <td>1994-01-01T00:00:00</td>\n",
       "      <td>NaN</td>\n",
       "      <td>1850 - 1900</td>\n",
       "      <td>1850.0</td>\n",
       "      <td>19</td>\n",
       "      <td>1850.0</td>\n",
       "      <td>1900.0</td>\n",
       "    </tr>\n",
       "    <tr>\n",
       "      <th>1</th>\n",
       "      <td>001020bd00b149970f78</td>\n",
       "      <td>5d6a286cc3ab64c2c043</td>\n",
       "      <td>Portrait of Philipp Ernst, Count of Hohenlohe ...</td>\n",
       "      <td>Portret van Philip Ernst (1585-1629), graaf va...</td>\n",
       "      <td>Portrait of Philipp Ernst, Count of Hohenlohe ...</td>\n",
       "      <td>Jan Antonisz van Ravesteyn</td>\n",
       "      <td>Jan Antonisz van Ravesteyn</td>\n",
       "      <td>h 29.7cm × w 24.1cm</td>\n",
       "      <td>NaN</td>\n",
       "      <td>Portrait of Philipp Ernst, Count of Hohenlohe ...</td>\n",
       "      <td>nationalization 1795</td>\n",
       "      <td>1798-09-01T00:00:00</td>\n",
       "      <td>NaN</td>\n",
       "      <td>c. 1609 - c. 1633</td>\n",
       "      <td>1609.0</td>\n",
       "      <td>17</td>\n",
       "      <td>1609.0</td>\n",
       "      <td>1633.0</td>\n",
       "    </tr>\n",
       "  </tbody>\n",
       "</table>\n",
       "</div>"
      ],
      "text/plain": [
       "              object_id         art_series_id  \\\n",
       "0  000405d9a5e3f49fc49d  a2aabd3cc8859f4260ad   \n",
       "1  001020bd00b149970f78  5d6a286cc3ab64c2c043   \n",
       "\n",
       "                                               title  \\\n",
       "0  Twee personen voor de Duizendjarige den te Wol...   \n",
       "1  Portrait of Philipp Ernst, Count of Hohenlohe ...   \n",
       "\n",
       "                                         description  \\\n",
       "0                                                NaN   \n",
       "1  Portret van Philip Ernst (1585-1629), graaf va...   \n",
       "\n",
       "                                          long_title  \\\n",
       "0  Twee personen voor de Duizendjarige den te Wol...   \n",
       "1  Portrait of Philipp Ernst, Count of Hohenlohe ...   \n",
       "\n",
       "              principal_maker    principal_or_first_maker  \\\n",
       "0          Bernardus Bruining          Bernardus Bruining   \n",
       "1  Jan Antonisz van Ravesteyn  Jan Antonisz van Ravesteyn   \n",
       "\n",
       "             sub_title copyright_holder  \\\n",
       "0    h 167mm × w 108mm              NaN   \n",
       "1  h 29.7cm × w 24.1cm              NaN   \n",
       "\n",
       "                                          more_title    acquisition_method  \\\n",
       "0  Twee personen voor de Duizendjarige den te Wol...              transfer   \n",
       "1  Portrait of Philipp Ernst, Count of Hohenlohe ...  nationalization 1795   \n",
       "\n",
       "      acquisition_date acquisition_credit_line dating_presenting_date  \\\n",
       "0  1994-01-01T00:00:00                     NaN            1850 - 1900   \n",
       "1  1798-09-01T00:00:00                     NaN      c. 1609 - c. 1633   \n",
       "\n",
       "   dating_sorting_date  dating_period  dating_year_early  dating_year_late  \n",
       "0               1850.0             19             1850.0            1900.0  \n",
       "1               1609.0             17             1609.0            1633.0  "
      ]
     },
     "execution_count": 88,
     "metadata": {},
     "output_type": "execute_result"
    }
   ],
   "source": [
    "test.head(2)"
   ]
  },
  {
   "cell_type": "code",
   "execution_count": 91,
   "metadata": {},
   "outputs": [],
   "source": [
    "# import sweetviz as sv\n",
    "\n",
    "# #最後の引数には目的変数を指定\n",
    "# my_report = sv.compare([train, \"Train\"], [test, \"Test\"], \"likes\")\n",
    " \n",
    "# #直接ブラウザに表示\n",
    "# my_report.show_html(\"Report.html\")"
   ]
  },
  {
   "cell_type": "markdown",
   "metadata": {},
   "source": [
    "# reduce mem usage"
   ]
  },
  {
   "cell_type": "code",
   "execution_count": 92,
   "metadata": {},
   "outputs": [],
   "source": [
    "# from util import reduce_mem_usage\n",
    "# train_feat_df = reduce_mem_usage(train_feat_df)\n",
    "# test_feat_df = reduce_mem_usage(test_feat_df)"
   ]
  },
  {
   "cell_type": "markdown",
   "metadata": {},
   "source": [
    "# del not common value between train and test"
   ]
  },
  {
   "cell_type": "code",
   "execution_count": 93,
   "metadata": {},
   "outputs": [
    {
     "data": {
      "text/plain": [
       "Index(['object_id', 'art_series_id', 'title', 'description', 'long_title',\n",
       "       'principal_maker', 'principal_or_first_maker', 'sub_title',\n",
       "       'copyright_holder', 'more_title', 'acquisition_method',\n",
       "       'acquisition_date', 'acquisition_credit_line', 'dating_presenting_date',\n",
       "       'dating_sorting_date', 'dating_period', 'dating_year_early',\n",
       "       'dating_year_late', 'likes', 'fold'],\n",
       "      dtype='object')"
      ]
     },
     "execution_count": 93,
     "metadata": {},
     "output_type": "execute_result"
    }
   ],
   "source": [
    "train.columns"
   ]
  },
  {
   "cell_type": "code",
   "execution_count": 94,
   "metadata": {},
   "outputs": [],
   "source": [
    "del_non_overlapping_list = [\n",
    "    'object_id',\n",
    "    'art_series_id',\n",
    "    'title',\n",
    "    'description',\n",
    "    'long_title',\n",
    "    'principal_maker',\n",
    "    'principal_or_first_maker',\n",
    "    'sub_title',\n",
    "    'copyright_holder',\n",
    "    'more_title',\n",
    "    'acquisition_method',\n",
    "    'acquisition_date',\n",
    "    'acquisition_credit_line',\n",
    "    'dating_presenting_date',\n",
    "    'dating_sorting_date',\n",
    "    'dating_period',\n",
    "    'dating_year_early',\n",
    "    'dating_year_late'\n",
    "]\n",
    "\n",
    "from util import replace_non_overlap_val_to_missing\n",
    "train, test = replace_non_overlap_val_to_missing(train,test,columns=del_non_overlapping_list)"
   ]
  },
  {
   "cell_type": "markdown",
   "metadata": {},
   "source": [
    "# Lable Encoding"
   ]
  },
  {
   "cell_type": "code",
   "execution_count": 95,
   "metadata": {},
   "outputs": [],
   "source": [
    "cat_col = train.select_dtypes('O').columns.tolist()"
   ]
  },
  {
   "cell_type": "code",
   "execution_count": 96,
   "metadata": {},
   "outputs": [],
   "source": [
    "from fe import label_encode\n",
    "train, test = label_encode(train, test, cat_col)"
   ]
  },
  {
   "cell_type": "code",
   "execution_count": 97,
   "metadata": {},
   "outputs": [
    {
     "data": {
      "text/plain": [
       "object_id                     int64\n",
       "art_series_id                 int64\n",
       "title                         int64\n",
       "description                   int64\n",
       "long_title                    int64\n",
       "principal_maker               int64\n",
       "principal_or_first_maker      int64\n",
       "sub_title                     int64\n",
       "copyright_holder              int64\n",
       "more_title                    int64\n",
       "acquisition_method            int64\n",
       "acquisition_date              int64\n",
       "acquisition_credit_line       int64\n",
       "dating_presenting_date        int64\n",
       "dating_sorting_date         float64\n",
       "dating_period                 int64\n",
       "dating_year_early           float64\n",
       "dating_year_late            float64\n",
       "likes                         int64\n",
       "fold                          int64\n",
       "dtype: object"
      ]
     },
     "execution_count": 97,
     "metadata": {},
     "output_type": "execute_result"
    }
   ],
   "source": [
    "train.dtypes"
   ]
  },
  {
   "cell_type": "markdown",
   "metadata": {},
   "source": [
    "# add fold"
   ]
  },
  {
   "cell_type": "code",
   "execution_count": 98,
   "metadata": {},
   "outputs": [],
   "source": [
    "# from fold import add_fold_kf\n",
    "# train = add_fold_kf(train,fold_num=5)\n",
    "\n",
    "from fold import add_fold_bin_skf\n",
    "train = add_fold_bin_skf(train, train[cfg['target']], fold_num=5, bins=[0,1,10,100,1000, 27392])"
   ]
  },
  {
   "cell_type": "markdown",
   "metadata": {},
   "source": [
    "# Make Model"
   ]
  },
  {
   "cell_type": "code",
   "execution_count": 99,
   "metadata": {},
   "outputs": [],
   "source": [
    "use_col = train.columns.tolist()\n",
    "use_col.remove('fold')\n",
    "use_col.remove(cfg['target'])"
   ]
  },
  {
   "cell_type": "code",
   "execution_count": 100,
   "metadata": {},
   "outputs": [
    {
     "data": {
      "text/plain": [
       "['object_id',\n",
       " 'art_series_id',\n",
       " 'title',\n",
       " 'description',\n",
       " 'long_title',\n",
       " 'principal_maker',\n",
       " 'principal_or_first_maker',\n",
       " 'sub_title',\n",
       " 'copyright_holder',\n",
       " 'more_title',\n",
       " 'acquisition_method',\n",
       " 'acquisition_date',\n",
       " 'acquisition_credit_line',\n",
       " 'dating_presenting_date',\n",
       " 'dating_sorting_date',\n",
       " 'dating_period',\n",
       " 'dating_year_early',\n",
       " 'dating_year_late']"
      ]
     },
     "execution_count": 100,
     "metadata": {},
     "output_type": "execute_result"
    }
   ],
   "source": [
    "use_col"
   ]
  },
  {
   "cell_type": "code",
   "execution_count": 101,
   "metadata": {},
   "outputs": [
    {
     "name": "stderr",
     "output_type": "stream",
     "text": [
      "\u001b[34m\u001b[1mwandb\u001b[0m: Currently logged in as: \u001b[33msinchir0\u001b[0m (use `wandb login --relogin` to force relogin)\n"
     ]
    },
    {
     "data": {
      "text/html": [
       "\n",
       "                Tracking run with wandb version 0.10.21<br/>\n",
       "                Syncing run <strong style=\"color:#cdcd00\">2_bin_stratified</strong> to <a href=\"https://wandb.ai\" target=\"_blank\">Weights & Biases</a> <a href=\"https://docs.wandb.com/integrations/jupyter.html\" target=\"_blank\">(Documentation)</a>.<br/>\n",
       "                Project page: <a href=\"https://wandb.ai/sinchir0/atmacup10\" target=\"_blank\">https://wandb.ai/sinchir0/atmacup10</a><br/>\n",
       "                Run page: <a href=\"https://wandb.ai/sinchir0/atmacup10/runs/281akcwg\" target=\"_blank\">https://wandb.ai/sinchir0/atmacup10/runs/281akcwg</a><br/>\n",
       "                Run data is saved locally in <code>/Users/shinichiro.saito/atmacup/my_pipeline/experiments/notebook/wandb/run-20210307_112417-281akcwg</code><br/><br/>\n",
       "            "
      ],
      "text/plain": [
       "<IPython.core.display.HTML object>"
      ]
     },
     "metadata": {},
     "output_type": "display_data"
    }
   ],
   "source": [
    "# 学習直前でwandbにログイン、こうしないと頻繁にnotebookが落ちる\n",
    "from use_wandb import use_wandb\n",
    "use_wandb(params=cfg['params'], PROJECT_NAME=cfg['competition_name'], TRIAL_NAME=TRIAL_NAME)\n",
    "# e99ecbcc2d9a775a09280213a06af1cf174d0fe0"
   ]
  },
  {
   "cell_type": "code",
   "execution_count": 102,
   "metadata": {},
   "outputs": [
    {
     "name": "stderr",
     "output_type": "stream",
     "text": [
      "/Users/shinichiro.saito/opt/anaconda3/lib/python3.8/site-packages/lightgbm/__init__.py:42: UserWarning: Starting from version 2.2.1, the library file in distribution wheels for macOS is built by the Apple Clang (Xcode_8.3.3) compiler.\n",
      "This means that in case of installing LightGBM from PyPI via the ``pip install lightgbm`` command, you don't need to install the gcc compiler anymore.\n",
      "Instead of that, you need to install the OpenMP library, which is required for running LightGBM on the system with the Apple Clang compiler.\n",
      "You can install the OpenMP library by the following command: ``brew install libomp``.\n",
      "  warnings.warn(\"Starting from version 2.2.1, the library file in distribution wheels for macOS \"\n",
      "/Users/shinichiro.saito/opt/anaconda3/lib/python3.8/site-packages/lightgbm/engine.py:148: UserWarning: Found `num_boost_round` in params. Will use it instead of argument\n",
      "  warnings.warn(\"Found `{}` in params. Will use it instead of argument\".format(alias))\n",
      "/Users/shinichiro.saito/opt/anaconda3/lib/python3.8/site-packages/lightgbm/engine.py:153: UserWarning: Found `early_stopping_rounds` in params. Will use it instead of argument\n",
      "  warnings.warn(\"Found `{}` in params. Will use it instead of argument\".format(alias))\n",
      "/Users/shinichiro.saito/opt/anaconda3/lib/python3.8/site-packages/lightgbm/basic.py:1246: UserWarning: categorical_feature in Dataset is overridden.\n",
      "New categorical_feature is ['acquisition_credit_line', 'acquisition_date', 'acquisition_method', 'art_series_id', 'copyright_holder', 'dating_presenting_date', 'description', 'long_title', 'more_title', 'object_id', 'principal_maker', 'principal_or_first_maker', 'sub_title', 'title']\n",
      "  warnings.warn('categorical_feature in Dataset is overridden.\\n'\n"
     ]
    },
    {
     "name": "stdout",
     "output_type": "stream",
     "text": [
      "--------------FOLDS : 0 --------------\n",
      "Training until validation scores don't improve for 100 rounds\n",
      "[100]\ttraining's rmse: 575.828\tvalid_1's rmse: 673.845\n",
      "[200]\ttraining's rmse: 548.232\tvalid_1's rmse: 674.847\n",
      "Early stopping, best iteration is:\n",
      "[145]\ttraining's rmse: 562.343\tvalid_1's rmse: 673.485\n",
      "Fold 0 rmsle: 2.6124\n",
      "--------------FOLDS : 1 --------------\n"
     ]
    },
    {
     "name": "stderr",
     "output_type": "stream",
     "text": [
      "/Users/shinichiro.saito/opt/anaconda3/lib/python3.8/site-packages/lightgbm/engine.py:148: UserWarning: Found `num_boost_round` in params. Will use it instead of argument\n",
      "  warnings.warn(\"Found `{}` in params. Will use it instead of argument\".format(alias))\n",
      "/Users/shinichiro.saito/opt/anaconda3/lib/python3.8/site-packages/lightgbm/engine.py:153: UserWarning: Found `early_stopping_rounds` in params. Will use it instead of argument\n",
      "  warnings.warn(\"Found `{}` in params. Will use it instead of argument\".format(alias))\n",
      "/Users/shinichiro.saito/opt/anaconda3/lib/python3.8/site-packages/lightgbm/basic.py:1246: UserWarning: categorical_feature in Dataset is overridden.\n",
      "New categorical_feature is ['acquisition_credit_line', 'acquisition_date', 'acquisition_method', 'art_series_id', 'copyright_holder', 'dating_presenting_date', 'description', 'long_title', 'more_title', 'object_id', 'principal_maker', 'principal_or_first_maker', 'sub_title', 'title']\n",
      "  warnings.warn('categorical_feature in Dataset is overridden.\\n'\n"
     ]
    },
    {
     "name": "stdout",
     "output_type": "stream",
     "text": [
      "Training until validation scores don't improve for 100 rounds\n",
      "[100]\ttraining's rmse: 585.846\tvalid_1's rmse: 637.707\n",
      "[200]\ttraining's rmse: 556.832\tvalid_1's rmse: 637.737\n",
      "Early stopping, best iteration is:\n",
      "[177]\ttraining's rmse: 562.586\tvalid_1's rmse: 637.38\n",
      "Fold 1 rmsle: 2.5214\n",
      "--------------FOLDS : 2 --------------\n"
     ]
    },
    {
     "name": "stderr",
     "output_type": "stream",
     "text": [
      "/Users/shinichiro.saito/opt/anaconda3/lib/python3.8/site-packages/lightgbm/engine.py:148: UserWarning: Found `num_boost_round` in params. Will use it instead of argument\n",
      "  warnings.warn(\"Found `{}` in params. Will use it instead of argument\".format(alias))\n",
      "/Users/shinichiro.saito/opt/anaconda3/lib/python3.8/site-packages/lightgbm/engine.py:153: UserWarning: Found `early_stopping_rounds` in params. Will use it instead of argument\n",
      "  warnings.warn(\"Found `{}` in params. Will use it instead of argument\".format(alias))\n",
      "/Users/shinichiro.saito/opt/anaconda3/lib/python3.8/site-packages/lightgbm/basic.py:1246: UserWarning: categorical_feature in Dataset is overridden.\n",
      "New categorical_feature is ['acquisition_credit_line', 'acquisition_date', 'acquisition_method', 'art_series_id', 'copyright_holder', 'dating_presenting_date', 'description', 'long_title', 'more_title', 'object_id', 'principal_maker', 'principal_or_first_maker', 'sub_title', 'title']\n",
      "  warnings.warn('categorical_feature in Dataset is overridden.\\n'\n"
     ]
    },
    {
     "name": "stdout",
     "output_type": "stream",
     "text": [
      "Training until validation scores don't improve for 100 rounds\n",
      "[100]\ttraining's rmse: 604.494\tvalid_1's rmse: 545.095\n",
      "[200]\ttraining's rmse: 575.561\tvalid_1's rmse: 546.723\n",
      "Early stopping, best iteration is:\n",
      "[100]\ttraining's rmse: 604.494\tvalid_1's rmse: 545.095\n",
      "Fold 2 rmsle: 2.8058\n",
      "--------------FOLDS : 3 --------------\n",
      "Training until validation scores don't improve for 100 rounds\n"
     ]
    },
    {
     "name": "stderr",
     "output_type": "stream",
     "text": [
      "/Users/shinichiro.saito/opt/anaconda3/lib/python3.8/site-packages/lightgbm/engine.py:148: UserWarning: Found `num_boost_round` in params. Will use it instead of argument\n",
      "  warnings.warn(\"Found `{}` in params. Will use it instead of argument\".format(alias))\n",
      "/Users/shinichiro.saito/opt/anaconda3/lib/python3.8/site-packages/lightgbm/engine.py:153: UserWarning: Found `early_stopping_rounds` in params. Will use it instead of argument\n",
      "  warnings.warn(\"Found `{}` in params. Will use it instead of argument\".format(alias))\n",
      "/Users/shinichiro.saito/opt/anaconda3/lib/python3.8/site-packages/lightgbm/basic.py:1246: UserWarning: categorical_feature in Dataset is overridden.\n",
      "New categorical_feature is ['acquisition_credit_line', 'acquisition_date', 'acquisition_method', 'art_series_id', 'copyright_holder', 'dating_presenting_date', 'description', 'long_title', 'more_title', 'object_id', 'principal_maker', 'principal_or_first_maker', 'sub_title', 'title']\n",
      "  warnings.warn('categorical_feature in Dataset is overridden.\\n'\n"
     ]
    },
    {
     "name": "stdout",
     "output_type": "stream",
     "text": [
      "[100]\ttraining's rmse: 624.058\tvalid_1's rmse: 453.674\n",
      "[200]\ttraining's rmse: 595.874\tvalid_1's rmse: 454.065\n",
      "[300]\ttraining's rmse: 573.562\tvalid_1's rmse: 451.861\n",
      "[400]\ttraining's rmse: 554.829\tvalid_1's rmse: 452.239\n",
      "Early stopping, best iteration is:\n",
      "[382]\ttraining's rmse: 557.64\tvalid_1's rmse: 451.291\n",
      "Fold 3 rmsle: 2.0568\n",
      "--------------FOLDS : 4 --------------\n",
      "Training until validation scores don't improve for 100 rounds\n",
      "[100]\ttraining's rmse: 548.139\tvalid_1's rmse: 765.257\n"
     ]
    },
    {
     "name": "stderr",
     "output_type": "stream",
     "text": [
      "/Users/shinichiro.saito/opt/anaconda3/lib/python3.8/site-packages/lightgbm/engine.py:148: UserWarning: Found `num_boost_round` in params. Will use it instead of argument\n",
      "  warnings.warn(\"Found `{}` in params. Will use it instead of argument\".format(alias))\n",
      "/Users/shinichiro.saito/opt/anaconda3/lib/python3.8/site-packages/lightgbm/engine.py:153: UserWarning: Found `early_stopping_rounds` in params. Will use it instead of argument\n",
      "  warnings.warn(\"Found `{}` in params. Will use it instead of argument\".format(alias))\n",
      "/Users/shinichiro.saito/opt/anaconda3/lib/python3.8/site-packages/lightgbm/basic.py:1246: UserWarning: categorical_feature in Dataset is overridden.\n",
      "New categorical_feature is ['acquisition_credit_line', 'acquisition_date', 'acquisition_method', 'art_series_id', 'copyright_holder', 'dating_presenting_date', 'description', 'long_title', 'more_title', 'object_id', 'principal_maker', 'principal_or_first_maker', 'sub_title', 'title']\n",
      "  warnings.warn('categorical_feature in Dataset is overridden.\\n'\n"
     ]
    },
    {
     "name": "stdout",
     "output_type": "stream",
     "text": [
      "[200]\ttraining's rmse: 522.696\tvalid_1's rmse: 758.759\n",
      "[300]\ttraining's rmse: 502.883\tvalid_1's rmse: 752.777\n",
      "[400]\ttraining's rmse: 486.886\tvalid_1's rmse: 749.837\n",
      "[500]\ttraining's rmse: 474.377\tvalid_1's rmse: 748.155\n",
      "Early stopping, best iteration is:\n",
      "[472]\ttraining's rmse: 477.531\tvalid_1's rmse: 747.975\n",
      "Fold 4 rmsle: 2.0272\n",
      "ALL likes rmsle:  2.4247\n"
     ]
    },
    {
     "data": {
      "image/png": "[encoded data removed]",
      "text/plain": [
       "<Figure size 518.4x648 with 1 Axes>"
      ]
     },
     "metadata": {
      "needs_background": "light"
     },
     "output_type": "display_data"
    }
   ],
   "source": [
    "from fe import target_encoding\n",
    "from lgbm import LGBM\n",
    "\n",
    "lgbm = LGBM(train=train,\n",
    "  test=test,\n",
    "  target='likes',\n",
    "  use_col=use_col,\n",
    "  cat_col=cat_col,\n",
    "  cfg=cfg,\n",
    "  OUTPUT_DIR=OUTPUT_DIR,\n",
    "  DO_FIT=True,\n",
    "  DO_SEED_AVE=False,\n",
    "  DEBUG=False)\n",
    "\n",
    "feature_importance_df, order = lgbm.feature_importance()"
   ]
  },
  {
   "cell_type": "code",
   "execution_count": 103,
   "metadata": {},
   "outputs": [],
   "source": [
    "from make_data import make_oof\n",
    "oof_df = make_oof(OUTPUT_DIR=OUTPUT_DIR, TARGET=cfg['target'])"
   ]
  },
  {
   "cell_type": "code",
   "execution_count": 104,
   "metadata": {},
   "outputs": [],
   "source": [
    "# from score import calc_macro_auc\n",
    "# score = calc_macro_auc(train_target_df=train_target_df, oof_df=oof_df, order_list=TARGET_IDS)"
   ]
  },
  {
   "cell_type": "code",
   "execution_count": 105,
   "metadata": {},
   "outputs": [],
   "source": [
    "sample_sub = pd.read_csv('../../data/atmacup10__sample_submission.csv')"
   ]
  },
  {
   "cell_type": "code",
   "execution_count": 106,
   "metadata": {},
   "outputs": [
    {
     "name": "stdout",
     "output_type": "stream",
     "text": [
      "QUick Sub\n",
      "sh sub.sh output/20210307112251_2_bin_stratified/pred/pred_likes_2.4247.csv\n"
     ]
    }
   ],
   "source": [
    "from make_data import make_sub\n",
    "sub_df = make_sub(sample_sub=sample_sub, TARGET_NAME=cfg['target'], TRIAL_NAME=TRIAL_NAME, OUTPUT_DIR=OUTPUT_DIR, cv_score=lgbm.score)"
   ]
  },
  {
   "cell_type": "code",
   "execution_count": 107,
   "metadata": {},
   "outputs": [
    {
     "data": {
      "text/html": [
       "<div>\n",
       "<style scoped>\n",
       "    .dataframe tbody tr th:only-of-type {\n",
       "        vertical-align: middle;\n",
       "    }\n",
       "\n",
       "    .dataframe tbody tr th {\n",
       "        vertical-align: top;\n",
       "    }\n",
       "\n",
       "    .dataframe thead th {\n",
       "        text-align: right;\n",
       "    }\n",
       "</style>\n",
       "<table border=\"1\" class=\"dataframe\">\n",
       "  <thead>\n",
       "    <tr style=\"text-align: right;\">\n",
       "      <th></th>\n",
       "      <th>likes</th>\n",
       "    </tr>\n",
       "  </thead>\n",
       "  <tbody>\n",
       "    <tr>\n",
       "      <th>0</th>\n",
       "      <td>68.500677</td>\n",
       "    </tr>\n",
       "    <tr>\n",
       "      <th>1</th>\n",
       "      <td>9.184876</td>\n",
       "    </tr>\n",
       "    <tr>\n",
       "      <th>2</th>\n",
       "      <td>22.090073</td>\n",
       "    </tr>\n",
       "    <tr>\n",
       "      <th>3</th>\n",
       "      <td>68.801811</td>\n",
       "    </tr>\n",
       "    <tr>\n",
       "      <th>4</th>\n",
       "      <td>58.470058</td>\n",
       "    </tr>\n",
       "  </tbody>\n",
       "</table>\n",
       "</div>"
      ],
      "text/plain": [
       "       likes\n",
       "0  68.500677\n",
       "1   9.184876\n",
       "2  22.090073\n",
       "3  68.801811\n",
       "4  58.470058"
      ]
     },
     "execution_count": 107,
     "metadata": {},
     "output_type": "execute_result"
    }
   ],
   "source": [
    "sub.head()"
   ]
  },
  {
   "cell_type": "code",
   "execution_count": 108,
   "metadata": {},
   "outputs": [
    {
     "data": {
      "image/png": "[encoded data removed]",
      "text/plain": [
       "<Figure size 432x288 with 1 Axes>"
      ]
     },
     "metadata": {
      "needs_background": "light"
     },
     "output_type": "display_data"
    }
   ],
   "source": [
    "from make_fig import make_dist_oof_pred\n",
    "make_dist_oof_pred(oof_df=oof_df,sub_df=sub_df,OUTPUT_DIR=OUTPUT_DIR)"
   ]
  },
  {
   "cell_type": "code",
   "execution_count": null,
   "metadata": {},
   "outputs": [],
   "source": []
  }
 ],
 "metadata": {
  "kernelspec": {
   "display_name": "Python 3",
   "language": "python",
   "name": "python3"
  },
  "language_info": {
   "codemirror_mode": {
    "name": "ipython",
    "version": 3
   },
   "file_extension": ".py",
   "mimetype": "text/x-python",
   "name": "python",
   "nbconvert_exporter": "python",
   "pygments_lexer": "ipython3",
   "version": "3.8.3"
  },
  "widgets": {
   "application/vnd.jupyter.widget-state+json": {
    "state": {
     "372944b10bb44757b2ccb3610387e26f": {
      "model_module": "@jupyter-widgets/controls",
      "model_module_version": "1.5.0",
      "model_name": "ProgressStyleModel",
      "state": {
       "_model_module": "@jupyter-widgets/controls",
       "_model_module_version": "1.5.0",
       "_model_name": "ProgressStyleModel",
       "_view_count": null,
       "_view_module": "@jupyter-widgets/base",
       "_view_module_version": "1.2.0",
       "_view_name": "StyleView",
       "bar_color": null,
       "description_width": ""
      }
     },
     "57fe5f47a7a348a59055f31192c93182": {
      "model_module": "@jupyter-widgets/controls",
      "model_module_version": "1.5.0",
      "model_name": "LabelModel",
      "state": {
       "_dom_classes": [],
       "_model_module": "@jupyter-widgets/controls",
       "_model_module_version": "1.5.0",
       "_model_name": "LabelModel",
       "_view_count": null,
       "_view_module": "@jupyter-widgets/controls",
       "_view_module_version": "1.5.0",
       "_view_name": "LabelView",
       "description": "",
       "description_tooltip": null,
       "layout": "IPY_MODEL_a0a129d6d0cd4df9b18699d9ef979653",
       "placeholder": "​",
       "style": "IPY_MODEL_6d1dabf4bdf3406e96a250dfda3efcbf",
       "value": ""
      }
     },
     "6d1dabf4bdf3406e96a250dfda3efcbf": {
      "model_module": "@jupyter-widgets/controls",
      "model_module_version": "1.5.0",
      "model_name": "DescriptionStyleModel",
      "state": {
       "_model_module": "@jupyter-widgets/controls",
       "_model_module_version": "1.5.0",
       "_model_name": "DescriptionStyleModel",
       "_view_count": null,
       "_view_module": "@jupyter-widgets/base",
       "_view_module_version": "1.2.0",
       "_view_name": "StyleView",
       "description_width": ""
      }
     },
     "7a8f44d031554b249194227028c67e09": {
      "model_module": "@jupyter-widgets/base",
      "model_module_version": "1.2.0",
      "model_name": "LayoutModel",
      "state": {
       "_model_module": "@jupyter-widgets/base",
       "_model_module_version": "1.2.0",
       "_model_name": "LayoutModel",
       "_view_count": null,
       "_view_module": "@jupyter-widgets/base",
       "_view_module_version": "1.2.0",
       "_view_name": "LayoutView",
       "align_content": null,
       "align_items": null,
       "align_self": null,
       "border": null,
       "bottom": null,
       "display": null,
       "flex": null,
       "flex_flow": null,
       "grid_area": null,
       "grid_auto_columns": null,
       "grid_auto_flow": null,
       "grid_auto_rows": null,
       "grid_column": null,
       "grid_gap": null,
       "grid_row": null,
       "grid_template_areas": null,
       "grid_template_columns": null,
       "grid_template_rows": null,
       "height": null,
       "justify_content": null,
       "justify_items": null,
       "left": null,
       "margin": null,
       "max_height": null,
       "max_width": null,
       "min_height": null,
       "min_width": null,
       "object_fit": null,
       "object_position": null,
       "order": null,
       "overflow": null,
       "overflow_x": null,
       "overflow_y": null,
       "padding": null,
       "right": null,
       "top": null,
       "visibility": null,
       "width": null
      }
     },
     "931a490e8f5649d39e41821b3d724cb4": {
      "model_module": "@jupyter-widgets/base",
      "model_module_version": "1.2.0",
      "model_name": "LayoutModel",
      "state": {
       "_model_module": "@jupyter-widgets/base",
       "_model_module_version": "1.2.0",
       "_model_name": "LayoutModel",
       "_view_count": null,
       "_view_module": "@jupyter-widgets/base",
       "_view_module_version": "1.2.0",
       "_view_name": "LayoutView",
       "align_content": null,
       "align_items": null,
       "align_self": null,
       "border": null,
       "bottom": null,
       "display": null,
       "flex": null,
       "flex_flow": null,
       "grid_area": null,
       "grid_auto_columns": null,
       "grid_auto_flow": null,
       "grid_auto_rows": null,
       "grid_column": null,
       "grid_gap": null,
       "grid_row": null,
       "grid_template_areas": null,
       "grid_template_columns": null,
       "grid_template_rows": null,
       "height": null,
       "justify_content": null,
       "justify_items": null,
       "left": null,
       "margin": null,
       "max_height": null,
       "max_width": null,
       "min_height": null,
       "min_width": null,
       "object_fit": null,
       "object_position": null,
       "order": null,
       "overflow": null,
       "overflow_x": null,
       "overflow_y": null,
       "padding": null,
       "right": null,
       "top": null,
       "visibility": null,
       "width": null
      }
     },
     "a0a129d6d0cd4df9b18699d9ef979653": {
      "model_module": "@jupyter-widgets/base",
      "model_module_version": "1.2.0",
      "model_name": "LayoutModel",
      "state": {
       "_model_module": "@jupyter-widgets/base",
       "_model_module_version": "1.2.0",
       "_model_name": "LayoutModel",
       "_view_count": null,
       "_view_module": "@jupyter-widgets/base",
       "_view_module_version": "1.2.0",
       "_view_name": "LayoutView",
       "align_content": null,
       "align_items": null,
       "align_self": null,
       "border": null,
       "bottom": null,
       "display": null,
       "flex": null,
       "flex_flow": null,
       "grid_area": null,
       "grid_auto_columns": null,
       "grid_auto_flow": null,
       "grid_auto_rows": null,
       "grid_column": null,
       "grid_gap": null,
       "grid_row": null,
       "grid_template_areas": null,
       "grid_template_columns": null,
       "grid_template_rows": null,
       "height": null,
       "justify_content": null,
       "justify_items": null,
       "left": null,
       "margin": null,
       "max_height": null,
       "max_width": null,
       "min_height": null,
       "min_width": null,
       "object_fit": null,
       "object_position": null,
       "order": null,
       "overflow": null,
       "overflow_x": null,
       "overflow_y": null,
       "padding": null,
       "right": null,
       "top": null,
       "visibility": null,
       "width": null
      }
     },
     "c308a2db02e448789d56359a1116fa11": {
      "model_module": "@jupyter-widgets/controls",
      "model_module_version": "1.5.0",
      "model_name": "FloatProgressModel",
      "state": {
       "_dom_classes": [],
       "_model_module": "@jupyter-widgets/controls",
       "_model_module_version": "1.5.0",
       "_model_name": "FloatProgressModel",
       "_view_count": null,
       "_view_module": "@jupyter-widgets/controls",
       "_view_module_version": "1.5.0",
       "_view_name": "ProgressView",
       "bar_style": "",
       "description": "",
       "description_tooltip": null,
       "layout": "IPY_MODEL_7a8f44d031554b249194227028c67e09",
       "max": 1,
       "min": 0,
       "orientation": "horizontal",
       "style": "IPY_MODEL_372944b10bb44757b2ccb3610387e26f",
       "value": 0
      }
     },
     "d87dcd08d73d42b7868bbe33ff33697b": {
      "model_module": "@jupyter-widgets/controls",
      "model_module_version": "1.5.0",
      "model_name": "VBoxModel",
      "state": {
       "_dom_classes": [],
       "_model_module": "@jupyter-widgets/controls",
       "_model_module_version": "1.5.0",
       "_model_name": "VBoxModel",
       "_view_count": null,
       "_view_module": "@jupyter-widgets/controls",
       "_view_module_version": "1.5.0",
       "_view_name": "VBoxView",
       "box_style": "",
       "children": [
        "IPY_MODEL_57fe5f47a7a348a59055f31192c93182",
        "IPY_MODEL_c308a2db02e448789d56359a1116fa11"
       ],
       "layout": "IPY_MODEL_931a490e8f5649d39e41821b3d724cb4"
      }
     }
    },
    "version_major": 2,
    "version_minor": 0
   }
  }
 },
 "nbformat": 4,
 "nbformat_minor": 4
}
