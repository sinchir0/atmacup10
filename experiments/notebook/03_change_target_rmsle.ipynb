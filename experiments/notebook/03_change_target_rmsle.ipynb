{
 "cells": [
  {
   "cell_type": "code",
   "execution_count": 1,
   "metadata": {},
   "outputs": [],
   "source": [
    "%load_ext autoreload\n",
    "%autoreload 2"
   ]
  },
  {
   "cell_type": "markdown",
   "metadata": {},
   "source": [
    "# Set Trial Name"
   ]
  },
  {
   "cell_type": "code",
   "execution_count": 2,
   "metadata": {},
   "outputs": [],
   "source": [
    "TRIAL_NAME = \"3_change_target_rmsle\"\n",
    "\n",
    "import datetime\n",
    "import pytz\n",
    "NOW = datetime.datetime.now(pytz.timezone('Asia/Tokyo')).strftime('%Y%m%d%H%M%S')"
   ]
  },
  {
   "cell_type": "markdown",
   "metadata": {},
   "source": [
    "# Load yaml"
   ]
  },
  {
   "cell_type": "code",
   "execution_count": 3,
   "metadata": {},
   "outputs": [],
   "source": [
    "import yaml\n",
    "CONFIG_DIR = '../config'\n",
    "with open(f'{CONFIG_DIR}/run000.yml') as file:\n",
    "    cfg = yaml.safe_load(file)\n",
    "\n",
    "import sys\n",
    "sys.path.append(cfg['SRC_DIR'])\n",
    "cfg['run_name'] = TRIAL_NAME"
   ]
  },
  {
   "cell_type": "markdown",
   "metadata": {},
   "source": [
    "# fix seed"
   ]
  },
  {
   "cell_type": "code",
   "execution_count": 4,
   "metadata": {},
   "outputs": [],
   "source": [
    "from util import seed_everything\n",
    "seed_everything(seed=33, use_torch=False)"
   ]
  },
  {
   "cell_type": "markdown",
   "metadata": {},
   "source": [
    "# Make Output Folder"
   ]
  },
  {
   "cell_type": "code",
   "execution_count": 5,
   "metadata": {},
   "outputs": [],
   "source": [
    "import os\n",
    "OUTPUT_DIR = f'../../output/{NOW}_{TRIAL_NAME}'\n",
    "os.makedirs(OUTPUT_DIR, exist_ok=True)"
   ]
  },
  {
   "cell_type": "markdown",
   "metadata": {},
   "source": [
    "# Load Model"
   ]
  },
  {
   "cell_type": "code",
   "execution_count": 6,
   "metadata": {},
   "outputs": [],
   "source": [
    "import pandas as pd\n",
    "sub = pd.read_csv('../../data/atmacup10__sample_submission.csv')\n",
    "color = pd.read_csv('../../data/color.csv')\n",
    "historical_person = pd.read_csv('../../data/historical_person.csv')\n",
    "maker = pd.read_csv('../../data/maker.csv')\n",
    "material = pd.read_csv('../../data/material.csv')\n",
    "object_collection = pd.read_csv('../../data/object_collection.csv')\n",
    "palette = pd.read_csv('../../data/palette.csv')\n",
    "principal_maker_occupation = pd.read_csv('../../data/principal_maker_occupation.csv')\n",
    "principal_maker = pd.read_csv('../../data/principal_maker.csv')\n",
    "production_place = pd.read_csv('../../data/production_place.csv')\n",
    "technique = pd.read_csv('../../data/technique.csv')\n",
    "test = pd.read_csv('../../data/test.csv')\n",
    "train = pd.read_csv('../../data/train.csv')"
   ]
  },
  {
   "cell_type": "markdown",
   "metadata": {},
   "source": [
    "# train"
   ]
  },
  {
   "cell_type": "code",
   "execution_count": 7,
   "metadata": {},
   "outputs": [
    {
     "data": {
      "text/plain": [
       "0"
      ]
     },
     "execution_count": 7,
     "metadata": {},
     "output_type": "execute_result"
    }
   ],
   "source": [
    "train['likes'].min()"
   ]
  },
  {
   "cell_type": "code",
   "execution_count": 8,
   "metadata": {},
   "outputs": [
    {
     "data": {
      "text/html": [
       "<div>\n",
       "<style scoped>\n",
       "    .dataframe tbody tr th:only-of-type {\n",
       "        vertical-align: middle;\n",
       "    }\n",
       "\n",
       "    .dataframe tbody tr th {\n",
       "        vertical-align: top;\n",
       "    }\n",
       "\n",
       "    .dataframe thead th {\n",
       "        text-align: right;\n",
       "    }\n",
       "</style>\n",
       "<table border=\"1\" class=\"dataframe\">\n",
       "  <thead>\n",
       "    <tr style=\"text-align: right;\">\n",
       "      <th></th>\n",
       "      <th>object_id</th>\n",
       "      <th>art_series_id</th>\n",
       "      <th>title</th>\n",
       "      <th>description</th>\n",
       "      <th>long_title</th>\n",
       "      <th>principal_maker</th>\n",
       "      <th>principal_or_first_maker</th>\n",
       "      <th>sub_title</th>\n",
       "      <th>copyright_holder</th>\n",
       "      <th>more_title</th>\n",
       "      <th>acquisition_method</th>\n",
       "      <th>acquisition_date</th>\n",
       "      <th>acquisition_credit_line</th>\n",
       "      <th>dating_presenting_date</th>\n",
       "      <th>dating_sorting_date</th>\n",
       "      <th>dating_period</th>\n",
       "      <th>dating_year_early</th>\n",
       "      <th>dating_year_late</th>\n",
       "      <th>likes</th>\n",
       "    </tr>\n",
       "  </thead>\n",
       "  <tbody>\n",
       "    <tr>\n",
       "      <th>0</th>\n",
       "      <td>0011d6be41612ec9eae3</td>\n",
       "      <td>93c092ba70beab248f31</td>\n",
       "      <td>The Avenue of Birches</td>\n",
       "      <td>NaN</td>\n",
       "      <td>The Avenue of Birches, Jan Hackaert, 1660 - 1685</td>\n",
       "      <td>Jan Hackaert</td>\n",
       "      <td>Jan Hackaert</td>\n",
       "      <td>h 66.5cm × w 53.7cm × t 2.5cm × d 4.7cm</td>\n",
       "      <td>NaN</td>\n",
       "      <td>The Avenue of Birches</td>\n",
       "      <td>purchase</td>\n",
       "      <td>1808-01-01T00:00:00</td>\n",
       "      <td>NaN</td>\n",
       "      <td>1660 - 1685</td>\n",
       "      <td>1660.0</td>\n",
       "      <td>17</td>\n",
       "      <td>1660.0</td>\n",
       "      <td>1685.0</td>\n",
       "      <td>48</td>\n",
       "    </tr>\n",
       "    <tr>\n",
       "      <th>1</th>\n",
       "      <td>0012765f7a97ccc3e9e9</td>\n",
       "      <td>95c14fb11c54281ad7e0</td>\n",
       "      <td>Struik in bloei</td>\n",
       "      <td>NaN</td>\n",
       "      <td>Struik in bloei, Richard Tepe (attributed to),...</td>\n",
       "      <td>Richard Tepe</td>\n",
       "      <td>Richard Tepe</td>\n",
       "      <td>h 165mm × w 223mm</td>\n",
       "      <td>erven Richard Tepe</td>\n",
       "      <td>Struik in bloei</td>\n",
       "      <td>purchase</td>\n",
       "      <td>2000-01-01T00:00:00</td>\n",
       "      <td>NaN</td>\n",
       "      <td>c. 1900 - c. 1930</td>\n",
       "      <td>1900.0</td>\n",
       "      <td>19</td>\n",
       "      <td>1900.0</td>\n",
       "      <td>1930.0</td>\n",
       "      <td>2</td>\n",
       "    </tr>\n",
       "  </tbody>\n",
       "</table>\n",
       "</div>"
      ],
      "text/plain": [
       "              object_id         art_series_id                  title  \\\n",
       "0  0011d6be41612ec9eae3  93c092ba70beab248f31  The Avenue of Birches   \n",
       "1  0012765f7a97ccc3e9e9  95c14fb11c54281ad7e0        Struik in bloei   \n",
       "\n",
       "  description                                         long_title  \\\n",
       "0         NaN   The Avenue of Birches, Jan Hackaert, 1660 - 1685   \n",
       "1         NaN  Struik in bloei, Richard Tepe (attributed to),...   \n",
       "\n",
       "  principal_maker principal_or_first_maker  \\\n",
       "0    Jan Hackaert             Jan Hackaert   \n",
       "1    Richard Tepe             Richard Tepe   \n",
       "\n",
       "                                 sub_title    copyright_holder  \\\n",
       "0  h 66.5cm × w 53.7cm × t 2.5cm × d 4.7cm                 NaN   \n",
       "1                        h 165mm × w 223mm  erven Richard Tepe   \n",
       "\n",
       "              more_title acquisition_method     acquisition_date  \\\n",
       "0  The Avenue of Birches           purchase  1808-01-01T00:00:00   \n",
       "1        Struik in bloei           purchase  2000-01-01T00:00:00   \n",
       "\n",
       "  acquisition_credit_line dating_presenting_date  dating_sorting_date  \\\n",
       "0                     NaN            1660 - 1685               1660.0   \n",
       "1                     NaN      c. 1900 - c. 1930               1900.0   \n",
       "\n",
       "   dating_period  dating_year_early  dating_year_late  likes  \n",
       "0             17             1660.0            1685.0     48  \n",
       "1             19             1900.0            1930.0      2  "
      ]
     },
     "execution_count": 8,
     "metadata": {},
     "output_type": "execute_result"
    }
   ],
   "source": [
    "train.head(2)"
   ]
  },
  {
   "cell_type": "code",
   "execution_count": 9,
   "metadata": {},
   "outputs": [
    {
     "data": {
      "text/html": [
       "<div>\n",
       "<style scoped>\n",
       "    .dataframe tbody tr th:only-of-type {\n",
       "        vertical-align: middle;\n",
       "    }\n",
       "\n",
       "    .dataframe tbody tr th {\n",
       "        vertical-align: top;\n",
       "    }\n",
       "\n",
       "    .dataframe thead th {\n",
       "        text-align: right;\n",
       "    }\n",
       "</style>\n",
       "<table border=\"1\" class=\"dataframe\">\n",
       "  <thead>\n",
       "    <tr style=\"text-align: right;\">\n",
       "      <th></th>\n",
       "      <th>object_id</th>\n",
       "      <th>art_series_id</th>\n",
       "      <th>title</th>\n",
       "      <th>description</th>\n",
       "      <th>long_title</th>\n",
       "      <th>principal_maker</th>\n",
       "      <th>principal_or_first_maker</th>\n",
       "      <th>sub_title</th>\n",
       "      <th>copyright_holder</th>\n",
       "      <th>more_title</th>\n",
       "      <th>acquisition_method</th>\n",
       "      <th>acquisition_date</th>\n",
       "      <th>acquisition_credit_line</th>\n",
       "      <th>dating_presenting_date</th>\n",
       "      <th>dating_sorting_date</th>\n",
       "      <th>dating_period</th>\n",
       "      <th>dating_year_early</th>\n",
       "      <th>dating_year_late</th>\n",
       "    </tr>\n",
       "  </thead>\n",
       "  <tbody>\n",
       "    <tr>\n",
       "      <th>0</th>\n",
       "      <td>000405d9a5e3f49fc49d</td>\n",
       "      <td>a2aabd3cc8859f4260ad</td>\n",
       "      <td>Twee personen voor de Duizendjarige den te Wol...</td>\n",
       "      <td>NaN</td>\n",
       "      <td>Twee personen voor de Duizendjarige den te Wol...</td>\n",
       "      <td>Bernardus Bruining</td>\n",
       "      <td>Bernardus Bruining</td>\n",
       "      <td>h 167mm × w 108mm</td>\n",
       "      <td>NaN</td>\n",
       "      <td>Twee personen voor de Duizendjarige den te Wol...</td>\n",
       "      <td>transfer</td>\n",
       "      <td>1994-01-01T00:00:00</td>\n",
       "      <td>NaN</td>\n",
       "      <td>1850 - 1900</td>\n",
       "      <td>1850.0</td>\n",
       "      <td>19</td>\n",
       "      <td>1850.0</td>\n",
       "      <td>1900.0</td>\n",
       "    </tr>\n",
       "    <tr>\n",
       "      <th>1</th>\n",
       "      <td>001020bd00b149970f78</td>\n",
       "      <td>5d6a286cc3ab64c2c043</td>\n",
       "      <td>Portrait of Philipp Ernst, Count of Hohenlohe ...</td>\n",
       "      <td>Portret van Philip Ernst (1585-1629), graaf va...</td>\n",
       "      <td>Portrait of Philipp Ernst, Count of Hohenlohe ...</td>\n",
       "      <td>Jan Antonisz van Ravesteyn</td>\n",
       "      <td>Jan Antonisz van Ravesteyn</td>\n",
       "      <td>h 29.7cm × w 24.1cm</td>\n",
       "      <td>NaN</td>\n",
       "      <td>Portrait of Philipp Ernst, Count of Hohenlohe ...</td>\n",
       "      <td>nationalization 1795</td>\n",
       "      <td>1798-09-01T00:00:00</td>\n",
       "      <td>NaN</td>\n",
       "      <td>c. 1609 - c. 1633</td>\n",
       "      <td>1609.0</td>\n",
       "      <td>17</td>\n",
       "      <td>1609.0</td>\n",
       "      <td>1633.0</td>\n",
       "    </tr>\n",
       "  </tbody>\n",
       "</table>\n",
       "</div>"
      ],
      "text/plain": [
       "              object_id         art_series_id  \\\n",
       "0  000405d9a5e3f49fc49d  a2aabd3cc8859f4260ad   \n",
       "1  001020bd00b149970f78  5d6a286cc3ab64c2c043   \n",
       "\n",
       "                                               title  \\\n",
       "0  Twee personen voor de Duizendjarige den te Wol...   \n",
       "1  Portrait of Philipp Ernst, Count of Hohenlohe ...   \n",
       "\n",
       "                                         description  \\\n",
       "0                                                NaN   \n",
       "1  Portret van Philip Ernst (1585-1629), graaf va...   \n",
       "\n",
       "                                          long_title  \\\n",
       "0  Twee personen voor de Duizendjarige den te Wol...   \n",
       "1  Portrait of Philipp Ernst, Count of Hohenlohe ...   \n",
       "\n",
       "              principal_maker    principal_or_first_maker  \\\n",
       "0          Bernardus Bruining          Bernardus Bruining   \n",
       "1  Jan Antonisz van Ravesteyn  Jan Antonisz van Ravesteyn   \n",
       "\n",
       "             sub_title copyright_holder  \\\n",
       "0    h 167mm × w 108mm              NaN   \n",
       "1  h 29.7cm × w 24.1cm              NaN   \n",
       "\n",
       "                                          more_title    acquisition_method  \\\n",
       "0  Twee personen voor de Duizendjarige den te Wol...              transfer   \n",
       "1  Portrait of Philipp Ernst, Count of Hohenlohe ...  nationalization 1795   \n",
       "\n",
       "      acquisition_date acquisition_credit_line dating_presenting_date  \\\n",
       "0  1994-01-01T00:00:00                     NaN            1850 - 1900   \n",
       "1  1798-09-01T00:00:00                     NaN      c. 1609 - c. 1633   \n",
       "\n",
       "   dating_sorting_date  dating_period  dating_year_early  dating_year_late  \n",
       "0               1850.0             19             1850.0            1900.0  \n",
       "1               1609.0             17             1609.0            1633.0  "
      ]
     },
     "execution_count": 9,
     "metadata": {},
     "output_type": "execute_result"
    }
   ],
   "source": [
    "test.head(2)"
   ]
  },
  {
   "cell_type": "markdown",
   "metadata": {},
   "source": [
    "# reduce mem usage"
   ]
  },
  {
   "cell_type": "code",
   "execution_count": 10,
   "metadata": {},
   "outputs": [],
   "source": [
    "# from util import reduce_mem_usage\n",
    "# train_feat_df = reduce_mem_usage(train_feat_df)\n",
    "# test_feat_df = reduce_mem_usage(test_feat_df)"
   ]
  },
  {
   "cell_type": "markdown",
   "metadata": {},
   "source": [
    "# del not common value between train and test"
   ]
  },
  {
   "cell_type": "code",
   "execution_count": 11,
   "metadata": {},
   "outputs": [
    {
     "data": {
      "text/plain": [
       "Index(['object_id', 'art_series_id', 'title', 'description', 'long_title',\n",
       "       'principal_maker', 'principal_or_first_maker', 'sub_title',\n",
       "       'copyright_holder', 'more_title', 'acquisition_method',\n",
       "       'acquisition_date', 'acquisition_credit_line', 'dating_presenting_date',\n",
       "       'dating_sorting_date', 'dating_period', 'dating_year_early',\n",
       "       'dating_year_late', 'likes'],\n",
       "      dtype='object')"
      ]
     },
     "execution_count": 11,
     "metadata": {},
     "output_type": "execute_result"
    }
   ],
   "source": [
    "train.columns"
   ]
  },
  {
   "cell_type": "code",
   "execution_count": 12,
   "metadata": {},
   "outputs": [],
   "source": [
    "del_non_overlapping_list = [\n",
    "    'object_id',\n",
    "    'art_series_id',\n",
    "    'title',\n",
    "    'description',\n",
    "    'long_title',\n",
    "    'principal_maker',\n",
    "    'principal_or_first_maker',\n",
    "    'sub_title',\n",
    "    'copyright_holder',\n",
    "    'more_title',\n",
    "    'acquisition_method',\n",
    "    'acquisition_date',\n",
    "    'acquisition_credit_line',\n",
    "    'dating_presenting_date',\n",
    "    'dating_sorting_date',\n",
    "    'dating_period',\n",
    "    'dating_year_early',\n",
    "    'dating_year_late'\n",
    "]\n",
    "\n",
    "from util import replace_non_overlap_val_to_missing\n",
    "train, test = replace_non_overlap_val_to_missing(train,test,columns=del_non_overlapping_list)"
   ]
  },
  {
   "cell_type": "markdown",
   "metadata": {},
   "source": [
    "# Lable Encoding"
   ]
  },
  {
   "cell_type": "code",
   "execution_count": 13,
   "metadata": {},
   "outputs": [],
   "source": [
    "cat_col = train.select_dtypes('O').columns.tolist()"
   ]
  },
  {
   "cell_type": "code",
   "execution_count": 14,
   "metadata": {},
   "outputs": [],
   "source": [
    "from fe import label_encode\n",
    "train, test = label_encode(train, test, cat_col)"
   ]
  },
  {
   "cell_type": "code",
   "execution_count": 15,
   "metadata": {},
   "outputs": [
    {
     "data": {
      "text/plain": [
       "object_id                     int64\n",
       "art_series_id                 int64\n",
       "title                         int64\n",
       "description                   int64\n",
       "long_title                    int64\n",
       "principal_maker               int64\n",
       "principal_or_first_maker      int64\n",
       "sub_title                     int64\n",
       "copyright_holder              int64\n",
       "more_title                    int64\n",
       "acquisition_method            int64\n",
       "acquisition_date              int64\n",
       "acquisition_credit_line       int64\n",
       "dating_presenting_date        int64\n",
       "dating_sorting_date         float64\n",
       "dating_period                 int64\n",
       "dating_year_early           float64\n",
       "dating_year_late            float64\n",
       "likes                         int64\n",
       "dtype: object"
      ]
     },
     "execution_count": 15,
     "metadata": {},
     "output_type": "execute_result"
    }
   ],
   "source": [
    "train.dtypes"
   ]
  },
  {
   "cell_type": "markdown",
   "metadata": {},
   "source": [
    "# add fold"
   ]
  },
  {
   "cell_type": "code",
   "execution_count": 16,
   "metadata": {},
   "outputs": [],
   "source": [
    "from fold import add_fold_bin_skf\n",
    "train = add_fold_bin_skf(train, train[cfg['target']], fold_num=5, bins=[0,1,10,100,1000, 27392])"
   ]
  },
  {
   "cell_type": "markdown",
   "metadata": {},
   "source": [
    "# Make Model"
   ]
  },
  {
   "cell_type": "code",
   "execution_count": 17,
   "metadata": {},
   "outputs": [],
   "source": [
    "use_col = train.columns.tolist()\n",
    "use_col.remove('fold')\n",
    "use_col.remove(cfg['target'])"
   ]
  },
  {
   "cell_type": "code",
   "execution_count": 18,
   "metadata": {},
   "outputs": [
    {
     "data": {
      "text/plain": [
       "['object_id',\n",
       " 'art_series_id',\n",
       " 'title',\n",
       " 'description',\n",
       " 'long_title',\n",
       " 'principal_maker',\n",
       " 'principal_or_first_maker',\n",
       " 'sub_title',\n",
       " 'copyright_holder',\n",
       " 'more_title',\n",
       " 'acquisition_method',\n",
       " 'acquisition_date',\n",
       " 'acquisition_credit_line',\n",
       " 'dating_presenting_date',\n",
       " 'dating_sorting_date',\n",
       " 'dating_period',\n",
       " 'dating_year_early',\n",
       " 'dating_year_late']"
      ]
     },
     "execution_count": 18,
     "metadata": {},
     "output_type": "execute_result"
    }
   ],
   "source": [
    "use_col"
   ]
  },
  {
   "cell_type": "code",
   "execution_count": 19,
   "metadata": {},
   "outputs": [
    {
     "name": "stderr",
     "output_type": "stream",
     "text": [
      "\u001b[34m\u001b[1mwandb\u001b[0m: Currently logged in as: \u001b[33msinchir0\u001b[0m (use `wandb login --relogin` to force relogin)\n"
     ]
    },
    {
     "data": {
      "text/html": [
       "\n",
       "                Tracking run with wandb version 0.10.21<br/>\n",
       "                Syncing run <strong style=\"color:#cdcd00\">3_change_target_rmsle</strong> to <a href=\"https://wandb.ai\" target=\"_blank\">Weights & Biases</a> <a href=\"https://docs.wandb.com/integrations/jupyter.html\" target=\"_blank\">(Documentation)</a>.<br/>\n",
       "                Project page: <a href=\"https://wandb.ai/sinchir0/atmacup10\" target=\"_blank\">https://wandb.ai/sinchir0/atmacup10</a><br/>\n",
       "                Run page: <a href=\"https://wandb.ai/sinchir0/atmacup10/runs/13sso2e1\" target=\"_blank\">https://wandb.ai/sinchir0/atmacup10/runs/13sso2e1</a><br/>\n",
       "                Run data is saved locally in <code>/Users/shinichiro.saito/atmacup/my_pipeline/experiments/notebook/wandb/run-20210307_123340-13sso2e1</code><br/><br/>\n",
       "            "
      ],
      "text/plain": [
       "<IPython.core.display.HTML object>"
      ]
     },
     "metadata": {},
     "output_type": "display_data"
    }
   ],
   "source": [
    "# 学習直前でwandbにログイン、こうしないと頻繁にnotebookが落ちる\n",
    "from use_wandb import use_wandb\n",
    "use_wandb(params=cfg['params'], PROJECT_NAME=cfg['competition_name'], TRIAL_NAME=TRIAL_NAME)"
   ]
  },
  {
   "cell_type": "code",
   "execution_count": 20,
   "metadata": {},
   "outputs": [
    {
     "name": "stderr",
     "output_type": "stream",
     "text": [
      "/Users/shinichiro.saito/opt/anaconda3/lib/python3.8/site-packages/lightgbm/__init__.py:42: UserWarning: Starting from version 2.2.1, the library file in distribution wheels for macOS is built by the Apple Clang (Xcode_8.3.3) compiler.\n",
      "This means that in case of installing LightGBM from PyPI via the ``pip install lightgbm`` command, you don't need to install the gcc compiler anymore.\n",
      "Instead of that, you need to install the OpenMP library, which is required for running LightGBM on the system with the Apple Clang compiler.\n",
      "You can install the OpenMP library by the following command: ``brew install libomp``.\n",
      "  warnings.warn(\"Starting from version 2.2.1, the library file in distribution wheels for macOS \"\n",
      "/Users/shinichiro.saito/opt/anaconda3/lib/python3.8/site-packages/lightgbm/engine.py:148: UserWarning: Found `num_boost_round` in params. Will use it instead of argument\n",
      "  warnings.warn(\"Found `{}` in params. Will use it instead of argument\".format(alias))\n",
      "/Users/shinichiro.saito/opt/anaconda3/lib/python3.8/site-packages/lightgbm/engine.py:153: UserWarning: Found `early_stopping_rounds` in params. Will use it instead of argument\n",
      "  warnings.warn(\"Found `{}` in params. Will use it instead of argument\".format(alias))\n",
      "/Users/shinichiro.saito/opt/anaconda3/lib/python3.8/site-packages/lightgbm/basic.py:1246: UserWarning: categorical_feature in Dataset is overridden.\n",
      "New categorical_feature is ['acquisition_credit_line', 'acquisition_date', 'acquisition_method', 'art_series_id', 'copyright_holder', 'dating_presenting_date', 'description', 'long_title', 'more_title', 'object_id', 'principal_maker', 'principal_or_first_maker', 'sub_title', 'title']\n",
      "  warnings.warn('categorical_feature in Dataset is overridden.\\n'\n"
     ]
    },
    {
     "name": "stdout",
     "output_type": "stream",
     "text": [
      "--------------FOLDS : 0 --------------\n",
      "Training until validation scores don't improve for 100 rounds\n",
      "[100]\ttraining's rmse: 1.3269\tvalid_1's rmse: 1.36284\n",
      "[200]\ttraining's rmse: 1.19585\tvalid_1's rmse: 1.25147\n",
      "[300]\ttraining's rmse: 1.14126\tvalid_1's rmse: 1.213\n",
      "[400]\ttraining's rmse: 1.11127\tvalid_1's rmse: 1.19962\n",
      "[500]\ttraining's rmse: 1.09083\tvalid_1's rmse: 1.19204\n",
      "[600]\ttraining's rmse: 1.07406\tvalid_1's rmse: 1.187\n",
      "[700]\ttraining's rmse: 1.06001\tvalid_1's rmse: 1.18426\n",
      "[800]\ttraining's rmse: 1.04687\tvalid_1's rmse: 1.18136\n",
      "[900]\ttraining's rmse: 1.03551\tvalid_1's rmse: 1.17901\n",
      "[1000]\ttraining's rmse: 1.02472\tvalid_1's rmse: 1.17776\n",
      "[1100]\ttraining's rmse: 1.01458\tvalid_1's rmse: 1.17626\n",
      "[1200]\ttraining's rmse: 1.00501\tvalid_1's rmse: 1.17466\n",
      "[1300]\ttraining's rmse: 0.996308\tvalid_1's rmse: 1.17323\n",
      "[1400]\ttraining's rmse: 0.988042\tvalid_1's rmse: 1.17114\n",
      "[1500]\ttraining's rmse: 0.98043\tvalid_1's rmse: 1.17054\n",
      "[1600]\ttraining's rmse: 0.973026\tvalid_1's rmse: 1.1695\n",
      "[1700]\ttraining's rmse: 0.96589\tvalid_1's rmse: 1.16873\n",
      "[1800]\ttraining's rmse: 0.95893\tvalid_1's rmse: 1.16791\n",
      "[1900]\ttraining's rmse: 0.952586\tvalid_1's rmse: 1.16754\n",
      "[2000]\ttraining's rmse: 0.946322\tvalid_1's rmse: 1.16732\n",
      "[2100]\ttraining's rmse: 0.940501\tvalid_1's rmse: 1.16714\n",
      "[2200]\ttraining's rmse: 0.934769\tvalid_1's rmse: 1.16681\n",
      "[2300]\ttraining's rmse: 0.929077\tvalid_1's rmse: 1.16628\n",
      "[2400]\ttraining's rmse: 0.923789\tvalid_1's rmse: 1.16538\n",
      "[2500]\ttraining's rmse: 0.918877\tvalid_1's rmse: 1.16523\n",
      "[2600]\ttraining's rmse: 0.913962\tvalid_1's rmse: 1.16482\n",
      "Early stopping, best iteration is:\n",
      "[2586]\ttraining's rmse: 0.914654\tvalid_1's rmse: 1.16475\n",
      "Fold 0 rmsle: 1.1646\n",
      "--------------FOLDS : 1 --------------\n",
      "Training until validation scores don't improve for 100 rounds\n"
     ]
    },
    {
     "name": "stderr",
     "output_type": "stream",
     "text": [
      "/Users/shinichiro.saito/opt/anaconda3/lib/python3.8/site-packages/lightgbm/engine.py:148: UserWarning: Found `num_boost_round` in params. Will use it instead of argument\n",
      "  warnings.warn(\"Found `{}` in params. Will use it instead of argument\".format(alias))\n",
      "/Users/shinichiro.saito/opt/anaconda3/lib/python3.8/site-packages/lightgbm/engine.py:153: UserWarning: Found `early_stopping_rounds` in params. Will use it instead of argument\n",
      "  warnings.warn(\"Found `{}` in params. Will use it instead of argument\".format(alias))\n",
      "/Users/shinichiro.saito/opt/anaconda3/lib/python3.8/site-packages/lightgbm/basic.py:1246: UserWarning: categorical_feature in Dataset is overridden.\n",
      "New categorical_feature is ['acquisition_credit_line', 'acquisition_date', 'acquisition_method', 'art_series_id', 'copyright_holder', 'dating_presenting_date', 'description', 'long_title', 'more_title', 'object_id', 'principal_maker', 'principal_or_first_maker', 'sub_title', 'title']\n",
      "  warnings.warn('categorical_feature in Dataset is overridden.\\n'\n"
     ]
    },
    {
     "name": "stdout",
     "output_type": "stream",
     "text": [
      "[100]\ttraining's rmse: 1.323\tvalid_1's rmse: 1.35832\n",
      "[200]\ttraining's rmse: 1.19047\tvalid_1's rmse: 1.25565\n",
      "[300]\ttraining's rmse: 1.13732\tvalid_1's rmse: 1.22619\n",
      "[400]\ttraining's rmse: 1.10809\tvalid_1's rmse: 1.21354\n",
      "[500]\ttraining's rmse: 1.08803\tvalid_1's rmse: 1.20683\n",
      "[600]\ttraining's rmse: 1.0714\tvalid_1's rmse: 1.20183\n",
      "[700]\ttraining's rmse: 1.05741\tvalid_1's rmse: 1.1972\n",
      "[800]\ttraining's rmse: 1.04458\tvalid_1's rmse: 1.19303\n",
      "[900]\ttraining's rmse: 1.03309\tvalid_1's rmse: 1.19026\n",
      "[1000]\ttraining's rmse: 1.02228\tvalid_1's rmse: 1.18799\n",
      "[1100]\ttraining's rmse: 1.01229\tvalid_1's rmse: 1.18552\n",
      "[1200]\ttraining's rmse: 1.0028\tvalid_1's rmse: 1.18287\n",
      "[1300]\ttraining's rmse: 0.993962\tvalid_1's rmse: 1.18134\n",
      "[1400]\ttraining's rmse: 0.985524\tvalid_1's rmse: 1.18006\n",
      "[1500]\ttraining's rmse: 0.977635\tvalid_1's rmse: 1.17907\n",
      "[1600]\ttraining's rmse: 0.969748\tvalid_1's rmse: 1.17751\n",
      "[1700]\ttraining's rmse: 0.962512\tvalid_1's rmse: 1.17674\n",
      "[1800]\ttraining's rmse: 0.955763\tvalid_1's rmse: 1.1757\n",
      "[1900]\ttraining's rmse: 0.9492\tvalid_1's rmse: 1.17525\n",
      "[2000]\ttraining's rmse: 0.942724\tvalid_1's rmse: 1.17465\n",
      "[2100]\ttraining's rmse: 0.936824\tvalid_1's rmse: 1.17421\n",
      "[2200]\ttraining's rmse: 0.931076\tvalid_1's rmse: 1.1733\n",
      "[2300]\ttraining's rmse: 0.925312\tvalid_1's rmse: 1.17285\n",
      "Early stopping, best iteration is:\n",
      "[2280]\ttraining's rmse: 0.926447\tvalid_1's rmse: 1.1727\n",
      "Fold 1 rmsle: 1.1726\n",
      "--------------FOLDS : 2 --------------\n",
      "Training until validation scores don't improve for 100 rounds\n"
     ]
    },
    {
     "name": "stderr",
     "output_type": "stream",
     "text": [
      "/Users/shinichiro.saito/opt/anaconda3/lib/python3.8/site-packages/lightgbm/engine.py:148: UserWarning: Found `num_boost_round` in params. Will use it instead of argument\n",
      "  warnings.warn(\"Found `{}` in params. Will use it instead of argument\".format(alias))\n",
      "/Users/shinichiro.saito/opt/anaconda3/lib/python3.8/site-packages/lightgbm/engine.py:153: UserWarning: Found `early_stopping_rounds` in params. Will use it instead of argument\n",
      "  warnings.warn(\"Found `{}` in params. Will use it instead of argument\".format(alias))\n",
      "/Users/shinichiro.saito/opt/anaconda3/lib/python3.8/site-packages/lightgbm/basic.py:1246: UserWarning: categorical_feature in Dataset is overridden.\n",
      "New categorical_feature is ['acquisition_credit_line', 'acquisition_date', 'acquisition_method', 'art_series_id', 'copyright_holder', 'dating_presenting_date', 'description', 'long_title', 'more_title', 'object_id', 'principal_maker', 'principal_or_first_maker', 'sub_title', 'title']\n",
      "  warnings.warn('categorical_feature in Dataset is overridden.\\n'\n"
     ]
    },
    {
     "name": "stdout",
     "output_type": "stream",
     "text": [
      "[100]\ttraining's rmse: 1.33378\tvalid_1's rmse: 1.32734\n",
      "[200]\ttraining's rmse: 1.20329\tvalid_1's rmse: 1.20805\n",
      "[300]\ttraining's rmse: 1.14966\tvalid_1's rmse: 1.16993\n",
      "[400]\ttraining's rmse: 1.12103\tvalid_1's rmse: 1.15523\n",
      "[500]\ttraining's rmse: 1.10132\tvalid_1's rmse: 1.14764\n",
      "[600]\ttraining's rmse: 1.08555\tvalid_1's rmse: 1.14191\n",
      "[700]\ttraining's rmse: 1.07138\tvalid_1's rmse: 1.13775\n",
      "[800]\ttraining's rmse: 1.05871\tvalid_1's rmse: 1.13545\n",
      "[900]\ttraining's rmse: 1.04741\tvalid_1's rmse: 1.13295\n",
      "[1000]\ttraining's rmse: 1.03635\tvalid_1's rmse: 1.13067\n",
      "[1100]\ttraining's rmse: 1.02656\tvalid_1's rmse: 1.12896\n",
      "[1200]\ttraining's rmse: 1.01693\tvalid_1's rmse: 1.12769\n",
      "[1300]\ttraining's rmse: 1.00818\tvalid_1's rmse: 1.12573\n",
      "[1400]\ttraining's rmse: 0.999717\tvalid_1's rmse: 1.12442\n",
      "[1500]\ttraining's rmse: 0.991852\tvalid_1's rmse: 1.12321\n",
      "[1600]\ttraining's rmse: 0.984423\tvalid_1's rmse: 1.12253\n",
      "[1700]\ttraining's rmse: 0.97742\tvalid_1's rmse: 1.12185\n",
      "[1800]\ttraining's rmse: 0.970683\tvalid_1's rmse: 1.12191\n",
      "[1900]\ttraining's rmse: 0.963977\tvalid_1's rmse: 1.1213\n",
      "[2000]\ttraining's rmse: 0.958052\tvalid_1's rmse: 1.12085\n",
      "[2100]\ttraining's rmse: 0.952147\tvalid_1's rmse: 1.11999\n",
      "[2200]\ttraining's rmse: 0.946503\tvalid_1's rmse: 1.11993\n",
      "Early stopping, best iteration is:\n",
      "[2156]\ttraining's rmse: 0.948959\tvalid_1's rmse: 1.11966\n",
      "Fold 2 rmsle: 1.1196\n",
      "--------------FOLDS : 3 --------------\n",
      "Training until validation scores don't improve for 100 rounds\n"
     ]
    },
    {
     "name": "stderr",
     "output_type": "stream",
     "text": [
      "/Users/shinichiro.saito/opt/anaconda3/lib/python3.8/site-packages/lightgbm/engine.py:148: UserWarning: Found `num_boost_round` in params. Will use it instead of argument\n",
      "  warnings.warn(\"Found `{}` in params. Will use it instead of argument\".format(alias))\n",
      "/Users/shinichiro.saito/opt/anaconda3/lib/python3.8/site-packages/lightgbm/engine.py:153: UserWarning: Found `early_stopping_rounds` in params. Will use it instead of argument\n",
      "  warnings.warn(\"Found `{}` in params. Will use it instead of argument\".format(alias))\n",
      "/Users/shinichiro.saito/opt/anaconda3/lib/python3.8/site-packages/lightgbm/basic.py:1246: UserWarning: categorical_feature in Dataset is overridden.\n",
      "New categorical_feature is ['acquisition_credit_line', 'acquisition_date', 'acquisition_method', 'art_series_id', 'copyright_holder', 'dating_presenting_date', 'description', 'long_title', 'more_title', 'object_id', 'principal_maker', 'principal_or_first_maker', 'sub_title', 'title']\n",
      "  warnings.warn('categorical_feature in Dataset is overridden.\\n'\n"
     ]
    },
    {
     "name": "stdout",
     "output_type": "stream",
     "text": [
      "[100]\ttraining's rmse: 1.32315\tvalid_1's rmse: 1.36626\n",
      "[200]\ttraining's rmse: 1.18946\tvalid_1's rmse: 1.25771\n",
      "[300]\ttraining's rmse: 1.1373\tvalid_1's rmse: 1.22209\n",
      "[400]\ttraining's rmse: 1.1086\tvalid_1's rmse: 1.20767\n",
      "[500]\ttraining's rmse: 1.08892\tvalid_1's rmse: 1.19943\n",
      "[600]\ttraining's rmse: 1.07269\tvalid_1's rmse: 1.19437\n",
      "[700]\ttraining's rmse: 1.05855\tvalid_1's rmse: 1.19087\n",
      "[800]\ttraining's rmse: 1.04574\tvalid_1's rmse: 1.18705\n",
      "[900]\ttraining's rmse: 1.03417\tvalid_1's rmse: 1.18405\n",
      "[1000]\ttraining's rmse: 1.0234\tvalid_1's rmse: 1.18193\n",
      "[1100]\ttraining's rmse: 1.01333\tvalid_1's rmse: 1.17936\n",
      "[1200]\ttraining's rmse: 1.0042\tvalid_1's rmse: 1.17742\n",
      "[1300]\ttraining's rmse: 0.995558\tvalid_1's rmse: 1.17609\n",
      "[1400]\ttraining's rmse: 0.987179\tvalid_1's rmse: 1.1746\n",
      "[1500]\ttraining's rmse: 0.979491\tvalid_1's rmse: 1.17308\n",
      "[1600]\ttraining's rmse: 0.971908\tvalid_1's rmse: 1.17183\n",
      "[1700]\ttraining's rmse: 0.964721\tvalid_1's rmse: 1.17131\n",
      "[1800]\ttraining's rmse: 0.957702\tvalid_1's rmse: 1.17081\n",
      "[1900]\ttraining's rmse: 0.95135\tvalid_1's rmse: 1.17044\n",
      "[2000]\ttraining's rmse: 0.945255\tvalid_1's rmse: 1.16912\n",
      "[2100]\ttraining's rmse: 0.939378\tvalid_1's rmse: 1.16856\n",
      "[2200]\ttraining's rmse: 0.933772\tvalid_1's rmse: 1.16786\n",
      "[2300]\ttraining's rmse: 0.928159\tvalid_1's rmse: 1.16719\n",
      "[2400]\ttraining's rmse: 0.922916\tvalid_1's rmse: 1.16667\n",
      "[2500]\ttraining's rmse: 0.917735\tvalid_1's rmse: 1.16638\n",
      "[2600]\ttraining's rmse: 0.912677\tvalid_1's rmse: 1.16573\n",
      "[2700]\ttraining's rmse: 0.907737\tvalid_1's rmse: 1.16497\n",
      "[2800]\ttraining's rmse: 0.903085\tvalid_1's rmse: 1.1653\n",
      "Early stopping, best iteration is:\n",
      "[2714]\ttraining's rmse: 0.907095\tvalid_1's rmse: 1.16487\n",
      "Fold 3 rmsle: 1.1648\n",
      "--------------FOLDS : 4 --------------\n"
     ]
    },
    {
     "name": "stderr",
     "output_type": "stream",
     "text": [
      "/Users/shinichiro.saito/opt/anaconda3/lib/python3.8/site-packages/lightgbm/engine.py:148: UserWarning: Found `num_boost_round` in params. Will use it instead of argument\n",
      "  warnings.warn(\"Found `{}` in params. Will use it instead of argument\".format(alias))\n",
      "/Users/shinichiro.saito/opt/anaconda3/lib/python3.8/site-packages/lightgbm/engine.py:153: UserWarning: Found `early_stopping_rounds` in params. Will use it instead of argument\n",
      "  warnings.warn(\"Found `{}` in params. Will use it instead of argument\".format(alias))\n",
      "/Users/shinichiro.saito/opt/anaconda3/lib/python3.8/site-packages/lightgbm/basic.py:1246: UserWarning: categorical_feature in Dataset is overridden.\n",
      "New categorical_feature is ['acquisition_credit_line', 'acquisition_date', 'acquisition_method', 'art_series_id', 'copyright_holder', 'dating_presenting_date', 'description', 'long_title', 'more_title', 'object_id', 'principal_maker', 'principal_or_first_maker', 'sub_title', 'title']\n",
      "  warnings.warn('categorical_feature in Dataset is overridden.\\n'\n"
     ]
    },
    {
     "name": "stdout",
     "output_type": "stream",
     "text": [
      "Training until validation scores don't improve for 100 rounds\n",
      "[100]\ttraining's rmse: 1.32613\tvalid_1's rmse: 1.35588\n",
      "[200]\ttraining's rmse: 1.19291\tvalid_1's rmse: 1.24308\n",
      "[300]\ttraining's rmse: 1.13868\tvalid_1's rmse: 1.20704\n",
      "[400]\ttraining's rmse: 1.10974\tvalid_1's rmse: 1.19368\n",
      "[500]\ttraining's rmse: 1.08955\tvalid_1's rmse: 1.18739\n",
      "[600]\ttraining's rmse: 1.07367\tvalid_1's rmse: 1.18395\n",
      "[700]\ttraining's rmse: 1.05925\tvalid_1's rmse: 1.18066\n",
      "[800]\ttraining's rmse: 1.04645\tvalid_1's rmse: 1.17855\n",
      "[900]\ttraining's rmse: 1.03464\tvalid_1's rmse: 1.17613\n",
      "[1000]\ttraining's rmse: 1.02393\tvalid_1's rmse: 1.17427\n",
      "[1100]\ttraining's rmse: 1.01391\tvalid_1's rmse: 1.17281\n",
      "[1200]\ttraining's rmse: 1.00462\tvalid_1's rmse: 1.17117\n",
      "[1300]\ttraining's rmse: 0.995677\tvalid_1's rmse: 1.17037\n",
      "[1400]\ttraining's rmse: 0.987349\tvalid_1's rmse: 1.1695\n",
      "[1500]\ttraining's rmse: 0.979174\tvalid_1's rmse: 1.16867\n",
      "[1600]\ttraining's rmse: 0.971298\tvalid_1's rmse: 1.16878\n",
      "Early stopping, best iteration is:\n",
      "[1520]\ttraining's rmse: 0.977567\tvalid_1's rmse: 1.16862\n",
      "Fold 4 rmsle: 1.1686\n",
      "ALL likes rmsle:  1.1582\n"
     ]
    },
    {
     "data": {
      "image/png": "[encoded data removed]",
      "text/plain": [
       "<Figure size 518.4x648 with 1 Axes>"
      ]
     },
     "metadata": {
      "needs_background": "light"
     },
     "output_type": "display_data"
    }
   ],
   "source": [
    "from fe import target_encoding\n",
    "from lgbm import LGBM\n",
    "\n",
    "lgbm = LGBM(train=train,\n",
    "  test=test,\n",
    "  target='likes',\n",
    "  use_col=use_col,\n",
    "  cat_col=cat_col,\n",
    "  cfg=cfg,\n",
    "  OUTPUT_DIR=OUTPUT_DIR,\n",
    "  DO_FIT=True,\n",
    "  DO_SEED_AVE=False,\n",
    "  DEBUG=False,\n",
    "  is_target_log=True)\n",
    "\n",
    "feature_importance_df, order = lgbm.feature_importance()"
   ]
  },
  {
   "cell_type": "code",
   "execution_count": 21,
   "metadata": {},
   "outputs": [],
   "source": [
    "from make_data import make_oof\n",
    "oof_df = make_oof(OUTPUT_DIR=OUTPUT_DIR, TARGET=cfg['target'])"
   ]
  },
  {
   "cell_type": "code",
   "execution_count": 22,
   "metadata": {},
   "outputs": [],
   "source": [
    "# from score import calc_macro_auc\n",
    "# score = calc_macro_auc(train_target_df=train_target_df, oof_df=oof_df, order_list=TARGET_IDS)"
   ]
  },
  {
   "cell_type": "code",
   "execution_count": 23,
   "metadata": {},
   "outputs": [],
   "source": [
    "sample_sub = pd.read_csv('../../data/atmacup10__sample_submission.csv')"
   ]
  },
  {
   "cell_type": "code",
   "execution_count": 24,
   "metadata": {},
   "outputs": [
    {
     "name": "stdout",
     "output_type": "stream",
     "text": [
      "QUick Sub\n",
      "sh sub.sh output/20210307123337_3_change_target_rmsle/pred/pred_likes_1.1582.csv\n"
     ]
    }
   ],
   "source": [
    "from make_data import make_sub\n",
    "sub_df = make_sub(sample_sub=sample_sub, TARGET_NAME=cfg['target'], TRIAL_NAME=TRIAL_NAME, OUTPUT_DIR=OUTPUT_DIR, cv_score=lgbm.score)"
   ]
  },
  {
   "cell_type": "code",
   "execution_count": 25,
   "metadata": {},
   "outputs": [
    {
     "data": {
      "image/png": "[encoded data removed]",
      "text/plain": [
       "<Figure size 432x288 with 1 Axes>"
      ]
     },
     "metadata": {
      "needs_background": "light"
     },
     "output_type": "display_data"
    }
   ],
   "source": [
    "from make_fig import make_dist_oof_pred\n",
    "make_dist_oof_pred(oof_df=oof_df,sub_df=sub_df,OUTPUT_DIR=OUTPUT_DIR)"
   ]
  },
  {
   "cell_type": "code",
   "execution_count": null,
   "metadata": {},
   "outputs": [],
   "source": []
  }
 ],
 "metadata": {
  "kernelspec": {
   "display_name": "Python 3",
   "language": "python",
   "name": "python3"
  },
  "language_info": {
   "codemirror_mode": {
    "name": "ipython",
    "version": 3
   },
   "file_extension": ".py",
   "mimetype": "text/x-python",
   "name": "python",
   "nbconvert_exporter": "python",
   "pygments_lexer": "ipython3",
   "version": "3.8.3"
  },
  "widgets": {
   "application/vnd.jupyter.widget-state+json": {
    "state": {
     "372944b10bb44757b2ccb3610387e26f": {
      "model_module": "@jupyter-widgets/controls",
      "model_module_version": "1.5.0",
      "model_name": "ProgressStyleModel",
      "state": {
       "_model_module": "@jupyter-widgets/controls",
       "_model_module_version": "1.5.0",
       "_model_name": "ProgressStyleModel",
       "_view_count": null,
       "_view_module": "@jupyter-widgets/base",
       "_view_module_version": "1.2.0",
       "_view_name": "StyleView",
       "bar_color": null,
       "description_width": ""
      }
     },
     "57fe5f47a7a348a59055f31192c93182": {
      "model_module": "@jupyter-widgets/controls",
      "model_module_version": "1.5.0",
      "model_name": "LabelModel",
      "state": {
       "_dom_classes": [],
       "_model_module": "@jupyter-widgets/controls",
       "_model_module_version": "1.5.0",
       "_model_name": "LabelModel",
       "_view_count": null,
       "_view_module": "@jupyter-widgets/controls",
       "_view_module_version": "1.5.0",
       "_view_name": "LabelView",
       "description": "",
       "description_tooltip": null,
       "layout": "IPY_MODEL_a0a129d6d0cd4df9b18699d9ef979653",
       "placeholder": "​",
       "style": "IPY_MODEL_6d1dabf4bdf3406e96a250dfda3efcbf",
       "value": ""
      }
     },
     "6d1dabf4bdf3406e96a250dfda3efcbf": {
      "model_module": "@jupyter-widgets/controls",
      "model_module_version": "1.5.0",
      "model_name": "DescriptionStyleModel",
      "state": {
       "_model_module": "@jupyter-widgets/controls",
       "_model_module_version": "1.5.0",
       "_model_name": "DescriptionStyleModel",
       "_view_count": null,
       "_view_module": "@jupyter-widgets/base",
       "_view_module_version": "1.2.0",
       "_view_name": "StyleView",
       "description_width": ""
      }
     },
     "7a8f44d031554b249194227028c67e09": {
      "model_module": "@jupyter-widgets/base",
      "model_module_version": "1.2.0",
      "model_name": "LayoutModel",
      "state": {
       "_model_module": "@jupyter-widgets/base",
       "_model_module_version": "1.2.0",
       "_model_name": "LayoutModel",
       "_view_count": null,
       "_view_module": "@jupyter-widgets/base",
       "_view_module_version": "1.2.0",
       "_view_name": "LayoutView",
       "align_content": null,
       "align_items": null,
       "align_self": null,
       "border": null,
       "bottom": null,
       "display": null,
       "flex": null,
       "flex_flow": null,
       "grid_area": null,
       "grid_auto_columns": null,
       "grid_auto_flow": null,
       "grid_auto_rows": null,
       "grid_column": null,
       "grid_gap": null,
       "grid_row": null,
       "grid_template_areas": null,
       "grid_template_columns": null,
       "grid_template_rows": null,
       "height": null,
       "justify_content": null,
       "justify_items": null,
       "left": null,
       "margin": null,
       "max_height": null,
       "max_width": null,
       "min_height": null,
       "min_width": null,
       "object_fit": null,
       "object_position": null,
       "order": null,
       "overflow": null,
       "overflow_x": null,
       "overflow_y": null,
       "padding": null,
       "right": null,
       "top": null,
       "visibility": null,
       "width": null
      }
     },
     "931a490e8f5649d39e41821b3d724cb4": {
      "model_module": "@jupyter-widgets/base",
      "model_module_version": "1.2.0",
      "model_name": "LayoutModel",
      "state": {
       "_model_module": "@jupyter-widgets/base",
       "_model_module_version": "1.2.0",
       "_model_name": "LayoutModel",
       "_view_count": null,
       "_view_module": "@jupyter-widgets/base",
       "_view_module_version": "1.2.0",
       "_view_name": "LayoutView",
       "align_content": null,
       "align_items": null,
       "align_self": null,
       "border": null,
       "bottom": null,
       "display": null,
       "flex": null,
       "flex_flow": null,
       "grid_area": null,
       "grid_auto_columns": null,
       "grid_auto_flow": null,
       "grid_auto_rows": null,
       "grid_column": null,
       "grid_gap": null,
       "grid_row": null,
       "grid_template_areas": null,
       "grid_template_columns": null,
       "grid_template_rows": null,
       "height": null,
       "justify_content": null,
       "justify_items": null,
       "left": null,
       "margin": null,
       "max_height": null,
       "max_width": null,
       "min_height": null,
       "min_width": null,
       "object_fit": null,
       "object_position": null,
       "order": null,
       "overflow": null,
       "overflow_x": null,
       "overflow_y": null,
       "padding": null,
       "right": null,
       "top": null,
       "visibility": null,
       "width": null
      }
     },
     "a0a129d6d0cd4df9b18699d9ef979653": {
      "model_module": "@jupyter-widgets/base",
      "model_module_version": "1.2.0",
      "model_name": "LayoutModel",
      "state": {
       "_model_module": "@jupyter-widgets/base",
       "_model_module_version": "1.2.0",
       "_model_name": "LayoutModel",
       "_view_count": null,
       "_view_module": "@jupyter-widgets/base",
       "_view_module_version": "1.2.0",
       "_view_name": "LayoutView",
       "align_content": null,
       "align_items": null,
       "align_self": null,
       "border": null,
       "bottom": null,
       "display": null,
       "flex": null,
       "flex_flow": null,
       "grid_area": null,
       "grid_auto_columns": null,
       "grid_auto_flow": null,
       "grid_auto_rows": null,
       "grid_column": null,
       "grid_gap": null,
       "grid_row": null,
       "grid_template_areas": null,
       "grid_template_columns": null,
       "grid_template_rows": null,
       "height": null,
       "justify_content": null,
       "justify_items": null,
       "left": null,
       "margin": null,
       "max_height": null,
       "max_width": null,
       "min_height": null,
       "min_width": null,
       "object_fit": null,
       "object_position": null,
       "order": null,
       "overflow": null,
       "overflow_x": null,
       "overflow_y": null,
       "padding": null,
       "right": null,
       "top": null,
       "visibility": null,
       "width": null
      }
     },
     "c308a2db02e448789d56359a1116fa11": {
      "model_module": "@jupyter-widgets/controls",
      "model_module_version": "1.5.0",
      "model_name": "FloatProgressModel",
      "state": {
       "_dom_classes": [],
       "_model_module": "@jupyter-widgets/controls",
       "_model_module_version": "1.5.0",
       "_model_name": "FloatProgressModel",
       "_view_count": null,
       "_view_module": "@jupyter-widgets/controls",
       "_view_module_version": "1.5.0",
       "_view_name": "ProgressView",
       "bar_style": "",
       "description": "",
       "description_tooltip": null,
       "layout": "IPY_MODEL_7a8f44d031554b249194227028c67e09",
       "max": 1,
       "min": 0,
       "orientation": "horizontal",
       "style": "IPY_MODEL_372944b10bb44757b2ccb3610387e26f",
       "value": 0
      }
     },
     "d87dcd08d73d42b7868bbe33ff33697b": {
      "model_module": "@jupyter-widgets/controls",
      "model_module_version": "1.5.0",
      "model_name": "VBoxModel",
      "state": {
       "_dom_classes": [],
       "_model_module": "@jupyter-widgets/controls",
       "_model_module_version": "1.5.0",
       "_model_name": "VBoxModel",
       "_view_count": null,
       "_view_module": "@jupyter-widgets/controls",
       "_view_module_version": "1.5.0",
       "_view_name": "VBoxView",
       "box_style": "",
       "children": [
        "IPY_MODEL_57fe5f47a7a348a59055f31192c93182",
        "IPY_MODEL_c308a2db02e448789d56359a1116fa11"
       ],
       "layout": "IPY_MODEL_931a490e8f5649d39e41821b3d724cb4"
      }
     }
    },
    "version_major": 2,
    "version_minor": 0
   }
  }
 },
 "nbformat": 4,
 "nbformat_minor": 4
}